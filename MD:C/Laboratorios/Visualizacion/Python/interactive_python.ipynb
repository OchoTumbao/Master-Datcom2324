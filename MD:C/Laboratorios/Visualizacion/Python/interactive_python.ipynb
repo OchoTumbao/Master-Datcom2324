{
 "cells": [
  {
   "cell_type": "raw",
   "metadata": {},
   "source": [
    "---\n",
    "title: Visualización de Datos Interactiva\n",
    "theme: Montpellier\n",
    "author: |\n",
    "  Minería de Datos: Preprocesamiento y clasificación\n",
    "date: Máster en Ciencias de Datos e Ingeniería de Computadores\n",
    "toc-title: Tabla de Contenidos\n",
    "toc: true\n",
    "eval: true\n",
    "license: CC BY-SA\n",
    "toc-depth: 1\n",
    "execute:\n",
    "  echo: true\n",
    "format:\n",
    "  html:\n",
    "    code-fold: false\n",
    "    code-summary: Muestra código\n",
    "    fig-width: 6\n",
    "    fig-height: 4\n",
    "    fig-align: center\n",
    "---"
   ]
  },
  {
   "cell_type": "markdown",
   "metadata": {},
   "source": [
    "# Explorando un dataset de forma Interactiva\n",
    "\n",
    "## Explorando un dataset de forma Interactiva\n",
    "\n",
    "Además de visualizaciones clásicas como las vistas, existen herramientas interactivas para visualizar un conjunto de datos.\n",
    "\n",
    "- Existen comerciales: Tableau, Power BI.\n",
    "\n",
    "- Nos vamos a centrar en un pequeño programa de software libre pequeño pero muy útil:\n",
    "\n",
    "![](pygwalker.png)\n",
    "\n",
    "Vamos a hacer un par de datasets.\n",
    "\n",
    "## Pingüinos de Palmer\n",
    "\n",
    "Para ello primero vamos a leer un fichero de datos:"
   ]
  },
  {
   "cell_type": "code",
   "execution_count": 1,
   "metadata": {},
   "outputs": [],
   "source": [
    "import pandas as pd\n",
    "import seaborn as sns\n",
    "penguins = sns.load_dataset(\"penguins\")"
   ]
  },
  {
   "cell_type": "markdown",
   "metadata": {},
   "source": [
    "Ahora que tenemos el conjunto de datos vamos a visualizarlo de forma interactiva:"
   ]
  },
  {
   "cell_type": "code",
   "execution_count": 4,
   "metadata": {},
   "outputs": [
    {
     "data": {
      "application/vnd.jupyter.widget-view+json": {
       "model_id": "8dbee983874b4b20935c06ab67ba4729",
       "version_major": 2,
       "version_minor": 0
      },
      "text/plain": [
       "Box(children=(HTML(value='<div id=\"ifr-pyg-2\" style=\"height: auto\">\\n    <head>\\n        <meta http-equiv=\"Con…"
      ]
     },
     "metadata": {},
     "output_type": "display_data"
    },
    {
     "data": {
      "text/html": [
       "<html>\n",
       "<style>\n",
       ".tabs{\n",
       "    position:relative;\n",
       "    height:660px;\n",
       "}\n",
       ".tab-pane{\n",
       "    display:inline-block;\n",
       "}\n",
       ".tabs input[type='radio']{\n",
       "    position:absolute;\n",
       "    clip:rect(0,0,0,0)\n",
       "}\n",
       ".tab-item{\n",
       "    display:block;\n",
       "    height:34px;\n",
       "    line-height:34px;\n",
       "    cursor:pointer;\n",
       "    padding:0 10px\n",
       "}\n",
       "\n",
       ".tabs input[type='radio']:checked+.tab-item{\n",
       "    background:#2563eb;\n",
       "    color:#fff\n",
       "}\n",
       "\n",
       ".tab-content{\n",
       "    display: none;\n",
       "    position:absolute;\n",
       "    left:0;\n",
       "    top:56px;\n",
       "    bottom:0;\n",
       "    right:0;\n",
       "}\n",
       "\n",
       ".tabs input[type='radio']:checked+.tab-item+.tab-content{\n",
       "    display: block;\n",
       "}\n",
       "</style>\n",
       "\n",
       "<body>\n",
       "    <div id=\"pygwalker-preview-2\">\n",
       "        <div class=\"tabs\">\n",
       "            \n",
       "        </div>\n",
       "    </div>\n",
       "</body>\n",
       "</html>"
      ],
      "text/plain": [
       "<IPython.core.display.HTML object>"
      ]
     },
     "metadata": {},
     "output_type": "display_data"
    },
    {
     "data": {
      "text/plain": [
       "<pygwalker.api.pygwalker.PygWalker at 0x7f6a36dc5c30>"
      ]
     },
     "execution_count": 4,
     "metadata": {},
     "output_type": "execute_result"
    }
   ],
   "source": [
    "import pygwalker as pyg\n",
    "pyg.walk(penguins)"
   ]
  },
  {
   "cell_type": "markdown",
   "metadata": {},
   "source": [
    "## Ejercicios\n",
    "\n",
    "1. Primero vamos a examinar los datos \n",
    "2. Primero vamos a mostrar el número de pingüinos de cada especie, de forma agrupada.\n",
    "2. Ahora vamos a discriminar por isla.\n",
    "3. Vamos a mostrar las distintas longitudes de pico.\n",
    "4. Identificamos cada especie con su color.\n",
    "5. Ampliamos la figura.\n",
    "6. Vemos cómo exportarlo.\n",
    "6. Marcamos la isla con su forma.\n",
    "7. Alternativamente, ponemos cada isla por su altura.\n",
    "\n",
    "## Dataset de ingresos"
   ]
  },
  {
   "cell_type": "code",
   "execution_count": null,
   "metadata": {},
   "outputs": [],
   "source": [
    "pop = pd.read_csv(\"CPS85.csv\")\n",
    "pyg.walk(pop)"
   ]
  },
  {
   "cell_type": "markdown",
   "metadata": {},
   "source": [
    "## Ejercicios\n",
    "\n",
    "1. Visualizar los ingresos.\n",
    "\n",
    "2. Distinguir por sexo.\n",
    "\n",
    "3. Mirar la media, y la suma total.\n",
    "\n",
    "4. Identificar la distancia.\n",
    "\n",
    "3. Identificar mediante boxplot.\n",
    "\n",
    "4. ¿Las mujeres casadas ganan más o menos?\n",
    "5. Identificar el sueldo promedio por sector.\n",
    "6. Añadir el sexo al criterio anterior.\n",
    "7. Distinguir por raza horizontalmente.\n",
    "\n",
    "## Para entretenernos"
   ]
  },
  {
   "cell_type": "code",
   "execution_count": null,
   "metadata": {},
   "outputs": [],
   "source": [
    "df = sns.load_dataset(\"tips\")\n",
    "pyg.walk(df)"
   ]
  }
 ],
 "metadata": {
  "kernelspec": {
   "display_name": "Python 3 (ipykernel)",
   "language": "python",
   "name": "python3"
  },
  "language_info": {
   "codemirror_mode": {
    "name": "ipython",
    "version": 3
   },
   "file_extension": ".py",
   "mimetype": "text/x-python",
   "name": "python",
   "nbconvert_exporter": "python",
   "pygments_lexer": "ipython3",
   "version": "3.10.6"
  },
  "vscode": {
   "interpreter": {
    "hash": "916dbcbb3f70747c44a77c7bcd40155683ae19c65e1c03b4aa3499c5328201f1"
   }
  }
 },
 "nbformat": 4,
 "nbformat_minor": 4
}
