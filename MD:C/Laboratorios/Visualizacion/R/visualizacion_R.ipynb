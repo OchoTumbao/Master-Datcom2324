{
  "cells": [
    {
      "cell_type": "raw",
      "metadata": {},
      "source": [
        "---\n",
        "title: Visualización de Datos en R\n",
        "# theme: CambridgeUS\n",
        "theme: Montpellier\n",
        "author: |\n",
        "      Minería de Datos: Preprocesamiento y clasificación\n",
        "date: Máster en Ciencias de Datos e Ingeniería de Computadores\n",
        "toc-title: Tabla de Contenidos\n",
        "toc: true\n",
        "license: \"CC BY-SA\"\n",
        "toc-depth: 1\n",
        "# classoption: compress\n",
        "execute:\n",
        "  echo: true\n",
        "output:\n",
        "  beamer_presentation:\n",
        "    slide_level: 1\n",
        "    includes:\n",
        "      in_header: ./simple.txt\n",
        "format:\n",
        "  html:\n",
        "    code-fold: false\n",
        "    code-summary: \"Muestra código\"\n",
        "    fig-width: 6\n",
        "    fig-height: 4\n",
        "    fig-align: center\n",
        "  beamer:\n",
        "    fig-width: 4\n",
        "    fig-height: 2\n",
        "  revealjs:\n",
        "    theme: dark\n",
        "    fig-align: center\n",
        "---"
      ]
    },
    {
      "cell_type": "markdown",
      "metadata": {},
      "source": [
        "# Ecosistema de visualización en R\n",
        "\n",
        "## Ecosistema de visualización en R\n",
        "\n",
        "**ggplot2** es con diferencia el elemento de R mejor valorado para Ciencias de Datos.\n",
        "\n",
        "Tiene una filosofía muy diferente de otros entornos, está basado en **Grammar of graphics** o **Gramática de gráficos**. Consiste en crear los gráficos por capas que se unen. Es muy fácil de usar pero al mismo tiempo muy personalizable.\n",
        "\n",
        "Vamos a ver sólo un poco como usarlo con ejemplos, no todas las opciones posibles, existen\n",
        "otros tutoriales recomendables[^1].\n",
        "\n",
        "[^1]: [https://www.cedricscherer.com/2019/08/05/a-ggplot2-tutorial-for-beautiful-plotting-in-r/](https://www.cedricscherer.com/2019/08/05/a-ggplot2-tutorial-for-beautiful-plotting-in-r/)\n",
        "\n",
        "## Cargamos unos datos de ejemplo\n",
        "\n",
        "Vamos a cargar unos datos de sueldos."
      ]
    },
    {
      "cell_type": "code",
      "metadata": {},
      "source": [
        "list.of.packages <- c(\"ggplot2\", \"mosaicData\", \"dplyr\", \"treemapify\", \"GGally\", \"carData\", \"ggthemes\", \"ggridges\", \"gapminder\", \"palmerpenguins\", \"ggcorrplot\")\n",
        "new.packages <- list.of.packages[!(list.of.packages %in% installed.packages()[,\"Package\"])]\n",
        "if(length(new.packages)>0) install.packages(new.packages, repos=\"https://cloud.r-project.org/\")\n",
        "library(ggplot2)\n",
        "library(mosaicData)\n",
        "library(dplyr)\n",
        "# se cargan los datos del paquete mosaicData: incluye\n",
        "# datos obtenidos para estudiar las relaciones entre\n",
        "# salarios y experiencia laboral\n",
        "df <- data(CPS85 , package = \"mosaicData\")\n",
        "df <- CPS85\n",
        "colnames(df)"
      ],
      "execution_count": null,
      "outputs": []
    },
    {
      "cell_type": "markdown",
      "metadata": {},
      "source": [
        "## Introducción a ggplot\n",
        "\n",
        "Una gráfica **ggplot** se contruye por combinación de distintos elementos: \n",
        "\n",
        "- *Data*: Los datos (tabla o *dataframe*) que se desean visualizar.\n",
        "- *Aesthetics aes()*: Estética, como el eje, color, tamaño, ...\n",
        "- *Geometries geom_*: El tipo de figura.\n",
        "- *Labs*: Titulos del eje de coordenadas, leyenda, ...\n",
        "- *Scales scale_*: Relación entre datos y las dimensiones. \n",
        "- *Facets facet_*: Atributos sobre los que agrupar.\n",
        "- *Visual themes theme()*: Aspectos visuales como fondo, colores, ...\n",
        "\n",
        "## Introducción a ggplot\n",
        "\n",
        "ggplot requiere primero un conjunto de datos, y los atributos a visualizar.\n",
        "\n",
        "la funcion ggplot especifica la el conjunto de datos a visualizar y establece la\n",
        "relacion entre las variables y las propiedades visuales del grafico. \n",
        "\n",
        "Estas relaciones se establecen con la la funcion aes (aes - aesthetics). \n",
        "\n",
        "# Primera figura con ggplot\n",
        "\n",
        "## Relacionando dos valores\n",
        "\n",
        "El salario (**wage**) en función de la experiencia (**exper**)"
      ]
    },
    {
      "cell_type": "code",
      "metadata": {},
      "source": [
        "ggplot(data=df, aes(x = exper, y=wage))"
      ],
      "execution_count": null,
      "outputs": []
    },
    {
      "cell_type": "markdown",
      "metadata": {},
      "source": [
        ". . .\n",
        "\n",
        "¿Y los datos?  No hay porque no hemos indicado el tipo de figura que queremos."
      ]
    },
    {
      "cell_type": "raw",
      "metadata": {},
      "source": [
        "---\n",
        "\n",
        "El código anterior genera un gráfico vacío porque no se ha definido qué queremos visualizar en el gráfico.\n",
        "\n",
        "Esto se realiza especificando los objetos geométricos que se mostrarán en el gráfico: puntos, líneas, barras, etc:\n",
        "\n",
        "- **geom_point**: Pinta puntos (_scatter_).\n",
        "- **geom_plot**: Pinta líneas.\n",
        "- ...\n",
        "\n",
        "---"
      ]
    },
    {
      "cell_type": "code",
      "metadata": {},
      "source": [
        "ggplot(data=df, aes(x = exper, y=wage)) + \n",
        "       geom_point()"
      ],
      "execution_count": null,
      "outputs": []
    },
    {
      "cell_type": "markdown",
      "metadata": {},
      "source": [
        "---"
      ]
    },
    {
      "cell_type": "code",
      "metadata": {},
      "source": [
        "ggplot(data=df, aes(x = exper, y=wage)) + \n",
        "       geom_point()"
      ],
      "execution_count": null,
      "outputs": []
    },
    {
      "cell_type": "raw",
      "metadata": {},
      "source": [
        "El signo + debe situarse al final de la línea, no al principio.\n",
        "\n",
        "---"
      ]
    },
    {
      "cell_type": "markdown",
      "metadata": {},
      "source": [
        "Se observa un punto muy extremo en sueldo que _fastidia_ la escala, limitamos el\n",
        "rango. Lo filtramos:"
      ]
    },
    {
      "cell_type": "code",
      "metadata": {},
      "source": [
        "filtrados <- dplyr::filter(df, wage < 40)"
      ],
      "execution_count": null,
      "outputs": []
    },
    {
      "cell_type": "markdown",
      "metadata": {},
      "source": [
        "---\n",
        "\n",
        "Quedaría algo así:"
      ]
    },
    {
      "cell_type": "code",
      "metadata": {},
      "source": [
        "ggplot(data=filtrados, aes(x = exper, y=wage)) + \n",
        "       geom_point()"
      ],
      "execution_count": null,
      "outputs": []
    },
    {
      "cell_type": "raw",
      "metadata": {},
      "source": [
        ". . .\n",
        "\n",
        "Mucho mejor, ¿no?\n",
        "\n",
        "--- "
      ]
    },
    {
      "cell_type": "markdown",
      "metadata": {},
      "source": [
        "Muy feo, podemos poner opciones a visualizar dentro de geom_point, como el\n",
        "color (negro por defecto), si usar transparencias (por defecto es opaco), o el\n",
        "tamaño del punto (sobre el de referencia, > 1 lo aumenta).\n",
        "\n",
        "- Usamos `color` para cambiarlo.\n",
        "- Definimos `alpha` para usar transparencia.\n",
        "- Ajustamos tamaño con `size`."
      ]
    },
    {
      "cell_type": "code",
      "metadata": {},
      "source": [
        "ggplot(data=filtrados, aes(x = exper, y=wage)) + \n",
        "       geom_point(color='cornflowerblue', alpha=0.7,size=3)"
      ],
      "execution_count": null,
      "outputs": []
    },
    {
      "cell_type": "markdown",
      "metadata": {},
      "source": [
        "---"
      ]
    },
    {
      "cell_type": "code",
      "metadata": {},
      "source": [
        "ggplot(data=filtrados, aes(x = exper, y=wage)) + \n",
        "       geom_point(color='cornflowerblue', alpha=0.7,size=3)"
      ],
      "execution_count": null,
      "outputs": []
    },
    {
      "cell_type": "markdown",
      "metadata": {},
      "source": [
        "Mucho más bonito, ¿no? Podemos usar los colores no sólo por estética, si no para distinguir.\n",
        "\n",
        "# Añadiendo otro criterio\n",
        "\n",
        "## Añadiendo otro criterio\n",
        "\n",
        "Vamos a distinguir al anterior por colores. Usamos `color` no en `geom_point`, si no en aes, e indicamos el atributo `sex`.\n",
        "\n",
        ". . ."
      ]
    },
    {
      "cell_type": "code",
      "metadata": {},
      "source": [
        "ggplot(data=filtrados, aes(x = exper, y=wage, color=sex)) + \n",
        "       geom_point(alpha=0.7,size=3)"
      ],
      "execution_count": null,
      "outputs": []
    },
    {
      "cell_type": "markdown",
      "metadata": {},
      "source": [
        "## Mejorando el eje de coordenadas\n",
        "\n",
        "Ahora vamos a mejorar el eje de coordenadas, poniéndolo en castellano. Para eso usamos `labs` y `theme`.\n",
        "\n",
        "- `labs` permite especificar los nombre de cada eje (x, y), color, ....\n",
        "\n",
        "- `theme` permite especificar temas de presentación, lo usamos para indicar el tamaño del texto usando `element_text`.\n",
        "\n",
        ". . ."
      ]
    },
    {
      "cell_type": "code",
      "metadata": {},
      "source": [
        "ggplot(data=filtrados, aes(x = exper, y=wage, color=sex)) + \n",
        "       geom_point(alpha=0.7,size=3) +\n",
        "       labs(x=\"Experiencia\", y=\"Salario\", color=\"Sexo\") +\n",
        "       theme(text=element_text(size=20))"
      ],
      "execution_count": null,
      "outputs": []
    },
    {
      "cell_type": "raw",
      "metadata": {},
      "source": [
        "---"
      ]
    },
    {
      "cell_type": "code",
      "metadata": {},
      "source": [
        "ggplot(data=filtrados, aes(x = exper, y=wage, color=sex)) + \n",
        "       geom_point(alpha=0.7,size=3) +\n",
        "       labs(x=\"Experiencia\", y=\"Salario\", color=\"Sexo\") +\n",
        "       theme(text=element_text(size=20))"
      ],
      "execution_count": null,
      "outputs": []
    },
    {
      "cell_type": "markdown",
      "metadata": {},
      "source": [
        "## Guardando la figura\n",
        "\n",
        "La figura se puede guardar, y luego mostrar."
      ]
    },
    {
      "cell_type": "code",
      "metadata": {},
      "source": [
        "g <- ggplot(data=filtrados, aes(x = exper, y=wage, color=sex)) + \n",
        "       geom_point(alpha=0.7,size=3) +\n",
        "       labs(x=\"Experiencia\", y=\"Salario\", color=\"Sexo\") +\n",
        "       theme(text=element_text(size=20))"
      ],
      "execution_count": null,
      "outputs": []
    },
    {
      "cell_type": "markdown",
      "metadata": {},
      "source": [
        "Para mostrar luego basta con añadir una línea con `g` (en Notebook).\n",
        "\n",
        "A partir de ahora lo usamos combinando más capas.\n",
        "\n",
        "## Distinguiendo sexo por separado\n",
        "\n",
        "Podemos añadir elementos para adaptar la figura.\n",
        "Usamos `facet_wrap` (o `facet_grid`) para separar por atributos.\n",
        "\n",
        ". . ."
      ]
    },
    {
      "cell_type": "code",
      "metadata": {},
      "source": [
        "g + facet_wrap(~sex)"
      ],
      "execution_count": null,
      "outputs": []
    },
    {
      "cell_type": "markdown",
      "metadata": {},
      "source": [
        "## Ajuste de presentación\n",
        "\n",
        "- Usar una técnica que ajusta una serie de puntos, `geom_smooth`.\n",
        "\n",
        "- Los colores son feos, los ajustamos manualmente con `scale_color_manual`."
      ]
    },
    {
      "cell_type": "code",
      "metadata": {},
      "source": [
        "g + facet_wrap(~sex) +\n",
        "    geom_smooth(method = \"lm\", formula=y ~ x, color=\"red\") +\n",
        "    scale_y_continuous(label = scales::dollar) + # Añadimos un $\n",
        "    scale_color_manual(values = c(\"indianred3\", \"cornflowerblue\"))"
      ],
      "execution_count": null,
      "outputs": []
    },
    {
      "cell_type": "markdown",
      "metadata": {},
      "source": [
        "---"
      ]
    },
    {
      "cell_type": "code",
      "metadata": {},
      "source": [
        "g2 <- g + facet_wrap(~sex) +\n",
        "    geom_smooth(method = \"lm\", formula=y ~ x, color=\"red\") +\n",
        "    scale_y_continuous(label = scales::dollar) + # Añadimos un $\n",
        "    scale_color_manual(values = c(\"indianred3\", \"cornflowerblue\"))\n",
        "g2"
      ],
      "execution_count": null,
      "outputs": []
    },
    {
      "cell_type": "markdown",
      "metadata": {},
      "source": [
        "## Uso combinado de facet para mejorar el sector"
      ]
    },
    {
      "cell_type": "code",
      "metadata": {},
      "source": [
        "g + geom_smooth(method = \"auto\", se = FALSE, linewidth = 1.5) +\n",
        "scale_y_continuous(label = scales::dollar) +\n",
        "scale_color_manual(values = c(\"indianred3\",\"cornflowerblue\")) +\n",
        "    facet_wrap(~sector) # O g2+facet_wrap(~sector)"
      ],
      "execution_count": null,
      "outputs": []
    },
    {
      "cell_type": "raw",
      "metadata": {},
      "source": [
        "# Mejorando la presentación\n",
        "\n",
        "## Mejorando la presentación\n",
        "\n",
        "Ya hemos visto temas de presentación:\n",
        "\n",
        "- `labs` para indicar el tamaño.\n",
        "- `cols, alpha` en geom_XXXX para fijar un mismo color a toda la figura. \n",
        "- `scale_color_manual` para especificamos los colores cuando usamos `color` en `aes`.\n",
        "\n",
        "Ahora vemos:\n",
        "\n",
        "- `title` y `subtitle` para el título.\n",
        "- `caption` para indicar información específica (fuente de los datos, ...).\n",
        "\n",
        "---"
      ]
    },
    {
      "cell_type": "code",
      "metadata": {},
      "source": [
        "g2 + facet_wrap(~sector) +labs(title=\"Relaciones entre salario y experiencia\", \n",
        "      subtitle=\"Resumen de la población global\", \n",
        "      caption = \"source: http://mosaic-web.org\")"
      ],
      "execution_count": null,
      "outputs": []
    },
    {
      "cell_type": "markdown",
      "metadata": {},
      "source": [
        "# Tipos de Gráficos de una variable\n",
        "\n",
        "## Tipos de Gráficos de una variable\n",
        "\n",
        "Son gráficos muestran la distribución de una variable, pueden ser categóricos o cuantitivas.\n",
        "\n",
        "- Categóricos: Se aplica diagrama de barras.\n",
        "\n",
        "- Cuantitativas: Distribución, diagramas de box-plot ó violin.\n",
        "\n",
        "## Diagrama de Barras\n",
        "\n",
        "Vamos a estudiar cómo se distribuyen los ejemplos por sector. Usamos para ello \n",
        "`geom_bar`."
      ]
    },
    {
      "cell_type": "code",
      "metadata": {},
      "source": [
        "ggplot(df, aes(x = sector)) + geom_bar()"
      ],
      "execution_count": null,
      "outputs": []
    },
    {
      "cell_type": "raw",
      "metadata": {},
      "source": [
        "--- \n",
        "\n",
        "Vamos a ponerlo más bonito:\n",
        "\n",
        "- Usando `labs`.\n",
        "- Cambiando el color de relleno `fill` en `geom_bar`.\n",
        "\n",
        "---"
      ]
    },
    {
      "cell_type": "code",
      "metadata": {},
      "source": [
        "ggplot(df, aes(x = sector)) + theme(aspect.ratio=.5) +\n",
        "geom_bar(fill=\"cornflowerblue\") +\n",
        "labs(x = \"Sector\", y = \"Contador\", title=\"Trabajadores por sector\")"
      ],
      "execution_count": null,
      "outputs": []
    },
    {
      "cell_type": "markdown",
      "metadata": {},
      "source": [
        "---\n",
        "\n",
        "Versión final, ordenado y con valores:"
      ]
    },
    {
      "cell_type": "code",
      "metadata": {},
      "source": [
        "ggplot(df %>% count(sector), aes(x = reorder(sector, n), y=n)) +\n",
        "geom_bar(fill=\"cornflowerblue\", stat=\"identity\") +\n",
        "geom_text(aes(label=n), vjust=-1) + \n",
        "labs(x = \"Sector\", y = \"Porcentaje\", title=\"Trabajadores por sector\")"
      ],
      "execution_count": null,
      "outputs": []
    },
    {
      "cell_type": "raw",
      "metadata": {},
      "source": [
        "---"
      ]
    },
    {
      "cell_type": "markdown",
      "metadata": {},
      "source": [
        "Rotar el eje x usando _angle_ de `element_text`."
      ]
    },
    {
      "cell_type": "code",
      "metadata": {},
      "source": [
        "ggplot(df %>% count(sector), aes(x = reorder(sector, n), y=n)) +\n",
        "geom_bar(fill=\"cornflowerblue\", stat=\"identity\") + geom_text(aes(label=n), vjust=-1) + \n",
        "labs(x = \"Sector\", y = \"Porcentaje\", title=\"Trabajadores por sector\") +\n",
        "    theme(axis.text.x = element_text(angle = 45, hjust=1, size=15),\n",
        "                axis.text.y=element_text(size=15))"
      ],
      "execution_count": null,
      "outputs": []
    },
    {
      "cell_type": "markdown",
      "metadata": {},
      "source": [
        "---\n",
        "\n",
        "También se podía poner horizontal con `coord_flip`."
      ]
    },
    {
      "cell_type": "code",
      "metadata": {},
      "source": [
        "ggplot(df %>% count(sector), aes(x = reorder(sector, n), y=n)) +\n",
        "geom_bar(fill=\"cornflowerblue\", stat=\"identity\") +\n",
        "geom_text(aes(label=n), hjust=1.5, color=\"white\") + coord_flip() +\n",
        "labs(x = \"Sector\", y = \"Porcentaje\", title=\"Trabajadores por sector\")"
      ],
      "execution_count": null,
      "outputs": []
    },
    {
      "cell_type": "markdown",
      "metadata": {},
      "source": [
        "## Diagrama de Sectores\n",
        "\n",
        "No es directo, pero es fácil de hacer, con `coord_polar`. Para ello, al igual que antes, usamos count():\n",
        "\n",
        "- Contamos elementos que queremos visualizar.\n",
        "- Hacemos _stats_ igual a **identity** en `geom_bar`.\n",
        "- definimos coordenadas polares del eje `y` empezando desde la parte superior (0)."
      ]
    },
    {
      "cell_type": "code",
      "metadata": {},
      "source": [
        "ggplot(df %>% count(sector), aes(x=\"\", y=n, fill=sector)) +\n",
        "geom_bar(stat=\"identity\",width=1)+\n",
        "coord_polar(\"y\", start=0) +\n",
        "labs(x = NULL, y = NULL, fill = \"Sector\")"
      ],
      "execution_count": null,
      "outputs": []
    },
    {
      "cell_type": "raw",
      "metadata": {},
      "source": [
        "---"
      ]
    },
    {
      "cell_type": "code",
      "metadata": {},
      "source": [
        "ggplot(df %>% count(sector), aes(x=\"\", y=n, fill=sector)) +\n",
        "geom_bar(stat=\"identity\",width=1)+\n",
        "coord_polar(\"y\", start=0) +\n",
        "labs(x = NULL, y = NULL, fill = \"Sector\")"
      ],
      "execution_count": null,
      "outputs": []
    },
    {
      "cell_type": "markdown",
      "metadata": {},
      "source": [
        "---\n",
        "\n",
        "Podemos crear un nuevo dataframe para hacerlo más claramente."
      ]
    },
    {
      "cell_type": "code",
      "metadata": {},
      "source": [
        "categories <- df %>% group_by(sector) %>%\n",
        "                 summarize(total=n())\n",
        "categories <- categories %>% mutate(prop=round(100*total/sum(total), 1))\n",
        "head(categories,10)"
      ],
      "execution_count": null,
      "outputs": []
    },
    {
      "cell_type": "markdown",
      "metadata": {},
      "source": [
        "----\n",
        "\n",
        "Ahora lo pintamos, e indicamos el valor por cada una:"
      ]
    },
    {
      "cell_type": "code",
      "metadata": {},
      "source": [
        "ggplot(categories, aes(x=\"\", y=total, fill=sector)) +\n",
        "geom_bar(stat=\"identity\",width=1)+ coord_polar(\"y\", start=0)+\n",
        "labs(x = NULL, y = NULL, fill = \"Sector\")+\n",
        "    geom_text(aes(label = paste0(prop, \"%\")),\n",
        "    position = position_stack(vjust=0.5))+\n",
        "    theme_void()"
      ],
      "execution_count": null,
      "outputs": []
    },
    {
      "cell_type": "markdown",
      "metadata": {},
      "source": [
        "## Diagrama de área \n",
        "\n",
        "Es soportado por `geom_treemap` de la librería `treemapify`."
      ]
    },
    {
      "cell_type": "code",
      "metadata": {},
      "source": [
        "library('treemapify')\n",
        "ggplot(categories, aes(fill=sector, area=total,label=sector)) +\n",
        "geom_treemap() +\n",
        "labs(title=\"Trabajadores por sector\",fill=\"Sector\")"
      ],
      "execution_count": null,
      "outputs": []
    },
    {
      "cell_type": "raw",
      "metadata": {},
      "source": [
        "---"
      ]
    },
    {
      "cell_type": "markdown",
      "metadata": {},
      "source": [
        "Vamos a quitar la leyenda:"
      ]
    },
    {
      "cell_type": "code",
      "metadata": {},
      "source": [
        "ggplot(categories, aes(fill=sector, area=total,label=sector)) +\n",
        "geom_treemap() +\n",
        "geom_treemap_text(colour=\"white\",place=\"center\")+\n",
        "labs(title=\"Trabajadores por sector\",fill=\"Sector\")+\n",
        "theme(legend.position=\"none\")"
      ],
      "execution_count": null,
      "outputs": []
    },
    {
      "cell_type": "markdown",
      "metadata": {},
      "source": [
        "## Distribución (por edad)\n",
        "\n",
        "Usamos directamente `geom_histogram` ajustando _bins_."
      ]
    },
    {
      "cell_type": "code",
      "metadata": {},
      "source": [
        "ggplot(df, aes(x=age)) +\n",
        "geom_histogram(fill=\"cornflowerblue\",bins=20) +\n",
        "labs(title=\"Distribución por edad\", x=\"Edad\", y=\"Casos\")"
      ],
      "execution_count": null,
      "outputs": []
    },
    {
      "cell_type": "markdown",
      "metadata": {},
      "source": [
        "---\n",
        "\n",
        "Podemos poner la escala de un eje de forma porcentual"
      ]
    },
    {
      "cell_type": "code",
      "metadata": {},
      "source": [
        "ggplot(df, aes(x=age,y=..count../sum(..count..))) +\n",
        "geom_histogram(fill=\"cornflowerblue\",bins=20) +\n",
        "labs(title=\"Distribución por edad\", x=\"Edad\", y=\"Ratio\") +\n",
        "scale_y_continuous(labels=scales::percent_format(scale = 1))"
      ],
      "execution_count": null,
      "outputs": []
    },
    {
      "cell_type": "markdown",
      "metadata": {},
      "source": [
        "## Gráfico de densidad\n",
        "\n",
        "Usamos `geom_density` para un gráfico de densidad."
      ]
    },
    {
      "cell_type": "code",
      "metadata": {},
      "source": [
        "ggplot(df, aes(x=age)) +\n",
        "geom_density(fill=\"cornflowerblue\", alpha=0.5) +\n",
        "labs(title=\"Distribución por edad\", x=\"Edad\", y=\"Densidad\")"
      ],
      "execution_count": null,
      "outputs": []
    },
    {
      "cell_type": "markdown",
      "metadata": {},
      "source": [
        "## Gráfico de densidad por sexo\n",
        "\n",
        "Usamos _fill_ en vez de _color_."
      ]
    },
    {
      "cell_type": "code",
      "metadata": {},
      "source": [
        "ggplot(df, aes(x=age,fill=sex)) +\n",
        "geom_density(alpha=0.5) +\n",
        "labs(title=\"Distribución por edad\", x=\"Edad\", y=\"Densidad\",fill=\"Sexo\") +\n",
        "scale_fill_manual(values = c(\"indianred3\",\"cornflowerblue\"))"
      ],
      "execution_count": null,
      "outputs": []
    },
    {
      "cell_type": "markdown",
      "metadata": {},
      "source": [
        "# Gráficos de varias variables\n",
        "\n",
        "## Diagramas de barras\n",
        "\n",
        "Es muy común usar diagramas de barras para comparar dos variables.\n",
        "\n",
        "ggplot permite distintos diagramas de barras en función del atributo `position`: `stack`, `dogde` y `fill`:\n",
        "\n",
        "- `dodge`: Para cada categoría una barra por cada grupo.\n",
        "- `stack`: Para cada categoría una barra, distingue grupo por color.\n",
        "- `fill`: Igual que stack pero por porcentaje, todas igual altura.\n",
        "\n",
        "## Comparando sector y sexo estilo `dodge`"
      ]
    },
    {
      "cell_type": "code",
      "metadata": {},
      "source": [
        "ggplot(df, aes(x=sector,fill=sex)) +\n",
        "geom_bar(position=\"dodge\") +\n",
        "labs(x='Sector',y='Casos')"
      ],
      "execution_count": null,
      "outputs": []
    },
    {
      "cell_type": "markdown",
      "metadata": {},
      "source": [
        "## Comparando sector y sexo estilo `stack`"
      ]
    },
    {
      "cell_type": "code",
      "metadata": {},
      "source": [
        "ggplot(df, aes(x=sector,fill=sex)) +\n",
        "geom_bar(position=\"stack\") +\n",
        "labs(x='Sector',y='Casos')"
      ],
      "execution_count": null,
      "outputs": []
    },
    {
      "cell_type": "markdown",
      "metadata": {},
      "source": [
        "## Comparando sector y sexo estilo `fill`"
      ]
    },
    {
      "cell_type": "code",
      "metadata": {},
      "source": [
        "ggplot(df, aes(x=sector,fill=sex)) +\n",
        "geom_bar(position=\"fill\") +\n",
        "labs(x='Sector',y='Porcentaje')"
      ],
      "execution_count": null,
      "outputs": []
    },
    {
      "cell_type": "markdown",
      "metadata": {},
      "source": [
        "## Cambiando categóricos\n",
        "\n",
        "Con `labs` podemos cambiar los nombres de atributos, y con `scale_fill_discrete` sus valores."
      ]
    },
    {
      "cell_type": "code",
      "metadata": {},
      "source": [
        "ggplot(df, aes(x=sector, fill=sex))+ geom_bar(position=\"fill\") +\n",
        "scale_fill_discrete(labels=c(\"Mujer\", \"Hombre\"))+\n",
        "labs(x='Sector', y='Porcentaje',fill='Sexo')"
      ],
      "execution_count": null,
      "outputs": []
    },
    {
      "cell_type": "markdown",
      "metadata": {},
      "source": [
        "## Gráficos de línea\n",
        "\n",
        "Los gráficos de líneas permiten representar la evolución de variables,\n",
        "especialmente cuando una representa el paso del tiempo.\n",
        "\n",
        "Vamos a mostrar la evaluación de la población"
      ]
    },
    {
      "cell_type": "code",
      "metadata": {},
      "source": [
        "data(gapminder, package=\"gapminder\")\n",
        "df_spain  <- filter(gapminder, country==\"Spain\")\n",
        "head(df_spain %>% select(year, lifeExp))"
      ],
      "execution_count": null,
      "outputs": []
    },
    {
      "cell_type": "markdown",
      "metadata": {},
      "source": [
        "## Gráficos de línea\n",
        "\n",
        "Se muestra la subida de edad promedio con los años."
      ]
    },
    {
      "cell_type": "code",
      "metadata": {},
      "source": [
        "ggplot(df_spain, aes(x=year, y=lifeExp)) +\n",
        "geom_line()"
      ],
      "execution_count": null,
      "outputs": []
    },
    {
      "cell_type": "markdown",
      "metadata": {},
      "source": [
        "## Usando varias gráficas\n",
        "\n",
        "Se pueden combinar distintas gráficas simplemente sumando `geom_XXX`."
      ]
    },
    {
      "cell_type": "code",
      "metadata": {},
      "source": [
        "ggplot(df_spain, aes(x=year, y=lifeExp)) +\n",
        "geom_line(color=\"lightgrey\",linewidth=1.5) + geom_point(color=\"steelblue\",size=3)"
      ],
      "execution_count": null,
      "outputs": []
    },
    {
      "cell_type": "markdown",
      "metadata": {},
      "source": [
        "## Mostrando visualización\n",
        "\n",
        "A menudo intera ver cómo es la distribución de una variable en función de otra:\n",
        "\n",
        "- **Diagrama de densidad ** no es suficiente.\n",
        "- **boxplot** permite mostrar claramente la distribución.\n",
        "- **violin** es una combinación, es discutible porque ambos diagramas no tienen escala comparable.\n",
        "\n",
        "Vamos a cargar datos de sueldos entre distintas categorías de sueldos de profesores universitarios."
      ]
    },
    {
      "cell_type": "code",
      "metadata": {},
      "source": [
        "library(carData)\n",
        "data(Salaries, package=\"carData\")"
      ],
      "execution_count": null,
      "outputs": []
    },
    {
      "cell_type": "markdown",
      "metadata": {},
      "source": [
        "## Distribución de sueldo por sector"
      ]
    },
    {
      "cell_type": "code",
      "metadata": {},
      "source": [
        "ggplot(Salaries, aes(x=salary, fill=rank)) +\n",
        "geom_density(alpha=0.5) +\n",
        "labs(title=\"Distribución de salario por categoría\")"
      ],
      "execution_count": null,
      "outputs": []
    },
    {
      "cell_type": "markdown",
      "metadata": {},
      "source": [
        "## Gráficos ridge line/joyplot\n",
        "\n",
        "Permiten mostrar distintas distribuciones."
      ]
    },
    {
      "cell_type": "code",
      "metadata": {},
      "source": [
        "library(ggridges)\n",
        "ggplot(Salaries, aes(x=salary, y=rank, fill=rank)) +\n",
        "    geom_density_ridges(alpha=0.7) +\n",
        "    theme_ridges() + theme(legend.position=\"none\")"
      ],
      "execution_count": null,
      "outputs": []
    },
    {
      "cell_type": "markdown",
      "metadata": {},
      "source": [
        "## Boxplot\n",
        "\n",
        "Los boxplot son muy informativos:\n",
        "\n",
        "![](boxplot.png){height=\"80%\"}\n",
        "\n",
        "## Distribución de sueldo por sector\n",
        "\n",
        "Usando boxplot se ve mejor."
      ]
    },
    {
      "cell_type": "code",
      "metadata": {},
      "source": [
        "ggplot(Salaries, aes(x=rank, y=salary)) +\n",
        "geom_boxplot(fill=\"cornflowerblue\", alpha=0.7) +\n",
        "labs(title=\"Distribución de salario por categoría\")"
      ],
      "execution_count": null,
      "outputs": []
    },
    {
      "cell_type": "markdown",
      "metadata": {},
      "source": [
        "## Distribución de sueldo por sector\n",
        "\n",
        "Los violin permiten incorporar un poco la distribución."
      ]
    },
    {
      "cell_type": "code",
      "metadata": {},
      "source": [
        "ggplot(Salaries, aes(x=rank, y=salary)) +\n",
        "geom_violin(fill=\"cornflowerblue\", alpha=0.7) +\n",
        "labs(title=\"Distribución de salario por categoría\")"
      ],
      "execution_count": null,
      "outputs": []
    },
    {
      "cell_type": "markdown",
      "metadata": {},
      "source": [
        "## Boxplot+violin\n",
        "\n",
        "Lo muestro solo para que se vea la relación."
      ]
    },
    {
      "cell_type": "code",
      "metadata": {},
      "source": [
        "ggplot(Salaries, aes(x=rank, y=salary)) +\n",
        "geom_violin(fill=\"cornflowerblue\", alpha=0.7) +\n",
        "geom_boxplot(fill=\"indianred3\", alpha=0.7) +\n",
        "labs(title=\"Distribución de salario por categoría\")"
      ],
      "execution_count": null,
      "outputs": []
    },
    {
      "cell_type": "markdown",
      "metadata": {},
      "source": [
        "# Gráficos estadísticos\n",
        "\n",
        "## Datos de pinguinos\n",
        "\n",
        "Vamos a usar clasificación de pinguinos en base a su isla y detalles físicos.\n",
        "\n",
        "Es como el iris pero algo menos manido."
      ]
    },
    {
      "cell_type": "code",
      "metadata": {},
      "source": [
        "library('palmerpenguins')"
      ],
      "execution_count": null,
      "outputs": []
    },
    {
      "cell_type": "markdown",
      "metadata": {},
      "source": [
        "## Pairs de datos\n",
        "\n",
        "Permite mostrar un atributo en base al resto de atributos.\n",
        "\n",
        "Usamos paquete **GGally**, es similar a **pairs** pero más integrado con *tidyverse*."
      ]
    },
    {
      "cell_type": "code",
      "metadata": {},
      "source": [
        "library(GGally)\n",
        "ggpairs(penguins, columns=1:4, aes(color=species))"
      ],
      "execution_count": null,
      "outputs": []
    },
    {
      "cell_type": "markdown",
      "metadata": {},
      "source": [
        "## Relación entre distintos atributos"
      ]
    },
    {
      "cell_type": "code",
      "metadata": {},
      "source": [
        "ggplot(data = penguins, aes(x = flipper_length_mm, y = body_mass_g)) +\n",
        "  geom_point(aes(color=species, shape=island), \n",
        "                 alpha = 0.8) +\n",
        "  scale_color_manual(values = c(\"darkorange\",\"purple\",\"cyan4\")) +\n",
        "  theme_minimal()"
      ],
      "execution_count": null,
      "outputs": []
    },
    {
      "cell_type": "markdown",
      "metadata": {},
      "source": [
        "## Datos de correlación\n",
        "\n",
        "Requiere el paquete **ggcorrplot**.\n",
        "\n",
        "Vamos a convertir primer a formato numérico"
      ]
    },
    {
      "cell_type": "code",
      "metadata": {},
      "source": [
        "species_factor = factor(penguins$species)\n",
        "island_factor = factor(penguins$island)\n",
        "sex_factor = factor(penguins$sex)\n",
        "penguins_cor <- penguins %>%\n",
        "                mutate(species=as.numeric(species_factor),\n",
        "                       island=as.numeric(island_factor),\n",
        "                       sex=as.numeric(sex_factor))"
      ],
      "execution_count": null,
      "outputs": []
    },
    {
      "cell_type": "markdown",
      "metadata": {},
      "source": [
        "## Datos de correlación"
      ]
    },
    {
      "cell_type": "code",
      "metadata": {},
      "source": [
        "library(ggcorrplot)\n",
        "corr <- cor(penguins_cor)\n",
        "ggcorrplot(corr)"
      ],
      "execution_count": null,
      "outputs": []
    },
    {
      "cell_type": "markdown",
      "metadata": {},
      "source": [
        "## Diagramas con barras de error\n",
        "\n",
        "**ggplot** permite mostrar barras de error. Estas barras pueden representar\n",
        "desviaciones estándar, errores o intervalos de confianza."
      ]
    },
    {
      "cell_type": "code",
      "metadata": {},
      "source": [
        "df_acum <- Salaries %>%\n",
        "           group_by(rank) %>%\n",
        "           summarise(n=n(), mean=mean(salary), sd=sd(salary),\n",
        "           se = sd/sqrt(n),\n",
        "           ci = qt(0.0975, df=n-1)*sd/sqrt(n))"
      ],
      "execution_count": null,
      "outputs": []
    },
    {
      "cell_type": "markdown",
      "metadata": {},
      "source": [
        "## Gráfica con desviación estándar"
      ]
    },
    {
      "cell_type": "code",
      "metadata": {},
      "source": [
        "ggplot(df_acum, aes(x=rank, y=mean, group=1)) +\n",
        "geom_point() + geom_line() +\n",
        "geom_errorbar(aes(ymin=mean-sd, ymax=mean+sd, width=0.1)) +\n",
        "labs(x=\"Categoría\", y=\"Sueldo\")"
      ],
      "execution_count": null,
      "outputs": []
    },
    {
      "cell_type": "markdown",
      "metadata": {},
      "source": [
        "## Gráfica con intervalo de confianza"
      ]
    },
    {
      "cell_type": "code",
      "metadata": {},
      "source": [
        "ggplot(df_acum, aes(x=rank, y=mean, group=1)) +\n",
        "geom_point() + geom_line() +\n",
        "geom_errorbar(aes(ymin=mean-ci, ymax=mean+ci, width=0.1)) +\n",
        "labs(x=\"Categoría\", y=\"Sueldo\")"
      ],
      "execution_count": null,
      "outputs": []
    },
    {
      "cell_type": "raw",
      "metadata": {},
      "source": [
        "---"
      ]
    },
    {
      "cell_type": "code",
      "metadata": {},
      "source": [
        "df_acum <- Salaries %>%\n",
        "           group_by(rank,sex) %>%\n",
        "           summarise(n=n(), mean=mean(salary), sd=sd(salary), se = sd/sqrt(n))\n",
        "ggplot(df_acum, aes(x=rank, y=mean, color=sex, group=1)) +\n",
        "geom_point() + labs(x=\"Categoría\", y=\"Sueldo\") +\n",
        "geom_errorbar(aes(ymin=mean-se, ymax=mean+se, width=0.1))"
      ],
      "execution_count": null,
      "outputs": []
    },
    {
      "cell_type": "markdown",
      "metadata": {},
      "source": [
        "## Ejercicios de visualización\n",
        "\n",
        "En tips.csv existen datos de consumo en un restaurante. Indica para cada\n",
        "consumición el precio *total_bill*, la *propina* y datos del cliente (*sex*,\n",
        "*smoker*), el día de la semana, y la hora (*Lunch*, *Dinner*).\n",
        "\n",
        "## Ejercicios de visualización\n",
        "\n",
        " Ejercicios: \n",
        "\n",
        "1. Visualizar la distribución de ejemplos por día y por hora.\n",
        "\n",
        "2. Visualizar la propina en base a la factura.\n",
        "\n",
        "3. Crear el ratio de la propina respecto a la factura.\n",
        "\n",
        "4. Mostrar la variación del ratio en base \n",
        "\n",
        "5. Gráfico anterior distinguiendo por sexo y fumador en la misma.\n",
        "\n",
        "6. Visualizar de forma separada los precios y ratio (con facet_wrap) en base a\n",
        "   la hora.\n",
        "   \n",
        "## Ejercicios de visualización\n",
        "\n",
        "7. Mostrar con barra \"stack\" el porcentaje de fumadores por sexo.\n",
        "\n",
        "8. Mostrar con boxplot y violin la relación en base a la hora y día.\n",
        "\n",
        "9. Gráfica de correlación.\n"
      ]
    }
  ],
  "metadata": {
    "kernelspec": {
      "name": "ir",
      "language": "R",
      "display_name": "R"
    }
  },
  "nbformat": 4,
  "nbformat_minor": 4
}