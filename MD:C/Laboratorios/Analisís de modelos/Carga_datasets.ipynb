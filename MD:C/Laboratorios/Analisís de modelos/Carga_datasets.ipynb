{
 "cells": [
  {
   "cell_type": "code",
   "execution_count": 3,
   "metadata": {},
   "outputs": [
    {
     "name": "stdout",
     "output_type": "stream",
     "text": [
      "    age sex cp  trestbps   chol fbs restecg  thalach exang  oldpeak slope  \\\n",
      "0  63.0   1  1     145.0  233.0   1       2    150.0     0      2.3     3   \n",
      "1  67.0   1  4     160.0  286.0   0       2    108.0     1      1.5     2   \n",
      "2  67.0   1  4     120.0  229.0   0       2    129.0     1      2.6     2   \n",
      "3  37.0   1  3     130.0  250.0   0       0    187.0     0      3.5     3   \n",
      "4  41.0   0  2     130.0  204.0   0       2    172.0     0      1.4     1   \n",
      "\n",
      "    ca thal  \n",
      "0  0.0    6  \n",
      "1  3.0    3  \n",
      "2  2.0    7  \n",
      "3  0.0    3  \n",
      "4  0.0    3  \n",
      "    age sex cp  trestbps   chol fbs restecg  thalach exang  oldpeak slope\n",
      "0  63.0   1  1     145.0  233.0   1       2    150.0     0      2.3     3\n",
      "1  67.0   1  4     160.0  286.0   0       2    108.0     1      1.5     2\n",
      "2  67.0   1  4     120.0  229.0   0       2    129.0     1      2.6     2\n",
      "3  37.0   1  3     130.0  250.0   0       0    187.0     0      3.5     3\n",
      "4  41.0   0  2     130.0  204.0   0       2    172.0     0      1.4     1\n",
      "Mean squared error:  0.8324542349535974\n",
      "Mean absolute error:  0.7023658180444087\n",
      "R2 score:  0.4466237719437055\n"
     ]
    },
    {
     "name": "stderr",
     "output_type": "stream",
     "text": [
      "c:\\Users\\julian\\anaconda3\\lib\\site-packages\\sklearn\\base.py:566: FutureWarning: Arrays of bytes/strings is being converted to decimal numbers if dtype='numeric'. This behavior is deprecated in 0.24 and will be removed in 1.1 (renaming of 0.26). Please convert your data to numeric values explicitly instead.\n",
      "  X = check_array(X, **check_params)\n"
     ]
    }
   ],
   "source": [
    "from tkinter import RIDGE\n",
    "from sklearn.datasets import fetch_openml\n",
    "from sklearn.metrics import mean_absolute_error, mean_squared_error, r2_score\n",
    "from sklearn import linear_model as lm\n",
    "import numpy as np\n",
    "import pandas as pd\n",
    "import matplotlib.pyplot as plt\n",
    "\n",
    "cleveland = fetch_openml(name='cleveland', version=1)\n",
    "X = cleveland.data\n",
    "y = cleveland.target\n",
    "print(X.head())\n",
    "\n",
    "#print(type(X))\n",
    "\n",
    "complete_features = ['age', 'sex', 'cp', 'trestbps', 'chol', 'fbs', 'restecg', 'thalach', 'exang', 'oldpeak', 'slope']\n",
    "X = X[complete_features]\n",
    "print(X.head())\n",
    "\n",
    "ridge_reg = lm.Ridge(alpha=.5)\n",
    "ridge_reg.fit(X,y)\n",
    "y_pred = ridge_reg.predict(X)\n",
    "\n",
    "print(\"Mean squared error: \", mean_squared_error(y, y_pred))\n",
    "print(\"Mean absolute error: \", mean_absolute_error(y, y_pred))\n",
    "print(\"R2 score: \", r2_score(y, y_pred))"
   ]
  },
  {
   "cell_type": "code",
   "execution_count": 4,
   "metadata": {},
   "outputs": [
    {
     "name": "stdout",
     "output_type": "stream",
     "text": [
      "    age sex cp trestbps   chol fbs restecg thalach exang oldpeak slope   ca  \\\n",
      "0  63.0   1  1    145.0  233.0   1       2   150.0     0     2.3     3  0.0   \n",
      "1  67.0   1  4    160.0  286.0   0       2   108.0     1     1.5     2  3.0   \n",
      "2  67.0   1  4    120.0  229.0   0       2   129.0     1     2.6     2  2.0   \n",
      "3  37.0   1  3    130.0  250.0   0       0   187.0     0     3.5     3  0.0   \n",
      "4  41.0   0  2    130.0  204.0   0       2   172.0     0     1.4     1  0.0   \n",
      "\n",
      "  thal target  \n",
      "0    6    0.0  \n",
      "1    3    2.0  \n",
      "2    7    1.0  \n",
      "3    3    0.0  \n",
      "4    3    0.0  \n",
      "    age sex cp trestbps   chol fbs restecg thalach exang oldpeak slope\n",
      "0  63.0   1  1    145.0  233.0   1       2   150.0     0     2.3     3\n",
      "1  67.0   1  4    160.0  286.0   0       2   108.0     1     1.5     2\n",
      "2  67.0   1  4    120.0  229.0   0       2   129.0     1     2.6     2\n",
      "3  37.0   1  3    130.0  250.0   0       0   187.0     0     3.5     3\n",
      "4  41.0   0  2    130.0  204.0   0       2   172.0     0     1.4     1\n",
      "Mean squared error:  0.8324542349535974\n",
      "Mean absolute error:  0.7023658180444087\n",
      "R2 score:  0.4466237719437055\n"
     ]
    }
   ],
   "source": [
    "from tkinter import RIDGE\n",
    "from sklearn.datasets import fetch_openml\n",
    "from sklearn.metrics import mean_absolute_error, mean_squared_error, r2_score\n",
    "from sklearn import linear_model as lm\n",
    "import numpy as np\n",
    "import pandas as pd\n",
    "import matplotlib.pyplot as plt\n",
    "\n",
    "#Vamos a repetir el ejemplo anterior pero con un dataframe de pandas de forma explícita desde el primer momento, del cual luego sacaremos el conjunto X\n",
    "#de entrenamiento y el vector y de etiquetas\n",
    "cleveland = fetch_openml(name='cleveland', version=1)\n",
    "df = pd.DataFrame(data= np.c_[cleveland['data'], cleveland['target']],\n",
    "                     columns= cleveland['feature_names'] + ['target'])\n",
    "\n",
    "print(df.head())\n",
    "#X = df.loc[:, df.columns != 'target'] #No funciona, atributos ca y thal tienen valores perdidos, los eliminamos\n",
    "#complete_features = ['age', 'sex', 'cp', 'trestbps', 'chol', 'fbs', 'restecg', 'thalach', 'exang', 'oldpeak', 'slope']\n",
    "#X = X[complete_features]\n",
    "\n",
    "#Ejemplo de uso de la función drop para eliminar las columnas en particular que queremos, en lugar de dar la lista exhaustiva\n",
    "#de las columnas que queremos conservar (si son muchas es un engorro, como el comentario justo anterior a este)\n",
    "y = df['target']\n",
    "X = df.drop(['ca','thal','target'], axis=1) #axis=1 para eliminar columnas\n",
    "print(X.head())\n",
    "\n",
    "ridge_reg = lm.Ridge(alpha=.5)\n",
    "ridge_reg.fit(X,y)\n",
    "y_pred = ridge_reg.predict(X)\n",
    "\n",
    "print(\"Mean squared error: \", mean_squared_error(y, y_pred))\n",
    "print(\"Mean absolute error: \", mean_absolute_error(y, y_pred))\n",
    "print(\"R2 score: \", r2_score(y, y_pred))\n"
   ]
  }
 ],
 "metadata": {
  "kernelspec": {
   "display_name": "Python 3.8.13 ('base')",
   "language": "python",
   "name": "python3"
  },
  "language_info": {
   "codemirror_mode": {
    "name": "ipython",
    "version": 3
   },
   "file_extension": ".py",
   "mimetype": "text/x-python",
   "name": "python",
   "nbconvert_exporter": "python",
   "pygments_lexer": "ipython3",
   "version": "3.8.13"
  },
  "orig_nbformat": 4,
  "vscode": {
   "interpreter": {
    "hash": "c46f514c272738a58973935380bf945b5ad71fc1e826336673f8c51b67b550f5"
   }
  }
 },
 "nbformat": 4,
 "nbformat_minor": 2
}
