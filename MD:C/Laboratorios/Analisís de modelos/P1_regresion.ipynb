{
 "cells": [
  {
   "cell_type": "code",
   "execution_count": 1,
   "metadata": {},
   "outputs": [
    {
     "name": "stderr",
     "output_type": "stream",
     "text": [
      "/home/moisestellezfrancisco/.local/lib/python3.10/site-packages/sklearn/datasets/_openml.py:1022: FutureWarning: The default value of `parser` will change from `'liac-arff'` to `'auto'` in 1.4. You can set `parser='auto'` to silence this warning. Therefore, an `ImportError` will be raised from 1.4 if the dataset is dense and pandas is not installed. Note that the pandas parser may return different data types. See the Notes Section in fetch_openml's API doc for details.\n",
      "  warn(\n"
     ]
    },
    {
     "name": "stdout",
     "output_type": "stream",
     "text": [
      "   Density   Age  Weight  Height  Neck  Chest  Abdomen    Hip  Thigh  Knee  \\\n",
      "0   1.0708  23.0  154.25   67.75  36.2   93.1     85.2   94.5   59.0  37.3   \n",
      "1   1.0853  22.0  173.25   72.25  38.5   93.6     83.0   98.7   58.7  37.3   \n",
      "2   1.0414  22.0  154.00   66.25  34.0   95.8     87.9   99.2   59.6  38.9   \n",
      "3   1.0751  26.0  184.75   72.25  37.4  101.8     86.4  101.2   60.1  37.3   \n",
      "4   1.0340  24.0  184.25   71.25  34.4   97.3    100.0  101.9   63.2  42.2   \n",
      "\n",
      "   Ankle  Biceps  Forearm  Wrist  \n",
      "0   21.9    32.0     27.4   17.1  \n",
      "1   23.4    30.5     28.9   18.2  \n",
      "2   24.0    28.8     25.2   16.6  \n",
      "3   22.8    32.4     29.4   18.2  \n",
      "4   24.0    32.2     27.7   17.7  \n",
      "(252, 14)\n",
      "0    12.3\n",
      "1     6.1\n",
      "2    25.3\n",
      "3    10.4\n",
      "4    28.7\n",
      "Name: target, dtype: float64\n",
      "(252,)\n"
     ]
    }
   ],
   "source": [
    "from sklearn.datasets import fetch_openml\n",
    "from sklearn.metrics import mean_absolute_error, mean_squared_error, r2_score\n",
    "from sklearn import linear_model as lm\n",
    "import numpy as np\n",
    "import pandas as pd\n",
    "import matplotlib.pyplot as plt\n",
    "\n",
    "bodyfat = fetch_openml(name='bodyfat', version=1)\n",
    "df = pd.DataFrame(data= np.c_[bodyfat['data'], bodyfat['target']],\n",
    "                     columns= bodyfat['feature_names'] + ['target'])\n",
    "y = df['target']\n",
    "X = df.loc[:, df.columns != 'target']\n",
    "print(X.head())\n",
    "print(X.shape)\n",
    "print(y.head())\n",
    "print(y.shape)"
   ]
  },
  {
   "cell_type": "markdown",
   "metadata": {},
   "source": [
    "# Regresión lineal"
   ]
  },
  {
   "cell_type": "code",
   "execution_count": 2,
   "metadata": {},
   "outputs": [
    {
     "name": "stdout",
     "output_type": "stream",
     "text": [
      "Mean squared error:  1.5272035183907957\n",
      "Mean absolute error:  0.4801966008373651\n",
      "R2 score:  0.9781070874885561\n"
     ]
    }
   ],
   "source": [
    "from sklearn.linear_model import LinearRegression\n",
    "\n",
    "reg = LinearRegression().fit(X, y)\n",
    "\n",
    "y_pred = reg.predict(X)\n",
    "print(\"Mean squared error: \", mean_squared_error(y, y_pred))\n",
    "print(\"Mean absolute error: \", mean_absolute_error(y, y_pred))\n",
    "print(\"R2 score: \", r2_score(y, y_pred))"
   ]
  },
  {
   "cell_type": "markdown",
   "metadata": {},
   "source": [
    "## Ejercicio\n",
    "\n",
    "Selecciona un par de variables interesantes para poder dibujar el gráfico de la regresión lineal y observa el ajuste gráfico frente a las medidas de rendimiento obtenidas\n",
    "\n",
    "Para dibujar un gráfico de ajuste con scatter plot puedes usar este código básico:\n",
    "```python\n",
    "plt.scatter(X, y,color='g') \n",
    "plt.plot(X, y_pred, color='k') \n",
    "plt.show()\n",
    "```"
   ]
  },
  {
   "cell_type": "code",
   "execution_count": 8,
   "metadata": {},
   "outputs": [
    {
     "data": {
      "text/plain": [
       "0      1.0708\n",
       "1      1.0853\n",
       "2      1.0414\n",
       "3      1.0751\n",
       "4      1.0340\n",
       "        ...  \n",
       "247    1.0736\n",
       "248    1.0236\n",
       "249    1.0328\n",
       "250    1.0399\n",
       "251    1.0271\n",
       "Name: Density, Length: 252, dtype: float64"
      ]
     },
     "execution_count": 8,
     "metadata": {},
     "output_type": "execute_result"
    }
   ],
   "source": [
    "df['Density']"
   ]
  },
  {
   "cell_type": "code",
   "execution_count": 14,
   "metadata": {},
   "outputs": [
    {
     "data": {
      "image/png": "[encoded data removed]",
      "text/plain": [
       "<Figure size 432x288 with 1 Axes>"
      ]
     },
     "metadata": {
      "needs_background": "light"
     },
     "output_type": "display_data"
    }
   ],
   "source": [
    "y = df['target']\n",
    "X = np.array(df['Density']).reshape(-1,1)\n",
    "\n",
    "reg = LinearRegression().fit(X, y)\n",
    "\n",
    "y_pred = reg.predict(X)\n",
    "plt.scatter(X, y,color='g') \n",
    "plt.plot(X, y_pred, color='k') \n",
    "plt.show()"
   ]
  },
  {
   "cell_type": "markdown",
   "metadata": {},
   "source": [
    "# Regresión polinomial\n",
    "\n",
    "En Scikit Learn, la regresión polinomial se crea aplicando una transformación a los atributos, generando los nuevos atributos con los coeficientes del polinomio. A continuación, se realiza un ajuste de una regresión lineal."
   ]
  },
  {
   "cell_type": "code",
   "execution_count": 15,
   "metadata": {},
   "outputs": [
    {
     "name": "stdout",
     "output_type": "stream",
     "text": [
      "Mean squared error:  1.3409751178113556\n",
      "Mean absolute error:  0.3451359839261892\n",
      "R2 score:  0.9807767264934006\n"
     ]
    }
   ],
   "source": [
    "from sklearn.preprocessing import PolynomialFeatures\n",
    "\n",
    "# Por defecto, PolynomialFeatures incluye el término independiente Bias a true\n",
    "poly_reg = PolynomialFeatures(degree=3) #cuidado con el grado: el número de coeficientes crece exponencialmente con su valor de acuerdo a la matriz de Vandermonde\n",
    "\n",
    "X_poly = poly_reg.fit_transform(X)\n",
    "\n",
    "# Ya tenemos las características transformadas, ahora entrenamos el modelo\n",
    "reg2 = LinearRegression()\n",
    "reg2.fit(X_poly,y) # Aquí es donde ajustamos los coefientes del modelo y reg2 se actualiza en consecuencia\n",
    "\n",
    "y_pred = reg2.predict(X_poly)\n",
    "\n",
    "print(\"Mean squared error: \", mean_squared_error(y, y_pred))\n",
    "print(\"Mean absolute error: \", mean_absolute_error(y, y_pred))\n",
    "print(\"R2 score: \", r2_score(y, y_pred))"
   ]
  },
  {
   "cell_type": "markdown",
   "metadata": {},
   "source": [
    "Es posible crear un flujo completo de trabajo utilizando la función make_pipeline().\n",
    "\n",
    "Esta función genera la transformación y la aplica al regresor (lineal en nuestro caso) en una única línea."
   ]
  },
  {
   "cell_type": "code",
   "execution_count": 24,
   "metadata": {},
   "outputs": [
    {
     "name": "stdout",
     "output_type": "stream",
     "text": [
      "Mean squared error:  1.2821633691193657\n",
      "Mean absolute error:  0.28647076705810687\n",
      "R2 score:  0.9816198102430475\n"
     ]
    }
   ],
   "source": [
    "from sklearn.pipeline import make_pipeline\n",
    "\n",
    "reg3 = make_pipeline(PolynomialFeatures(degree=5), LinearRegression())\n",
    "reg3.fit(X,y) \n",
    "\n",
    "y_pred = reg3.predict(X) # Fíjate que utilizamos los datos sin transformar para realizar la predicción. El pipeline se encarga de realizar la transformación\n",
    "\n",
    "print(\"Mean squared error: \", mean_squared_error(y, y_pred))\n",
    "print(\"Mean absolute error: \", mean_absolute_error(y, y_pred))\n",
    "print(\"R2 score: \", r2_score(y, y_pred))"
   ]
  },
  {
   "cell_type": "markdown",
   "metadata": {},
   "source": [
    "## Ejercicio\n",
    "¿Por qué los valores de rendimiento mejoran cuando aumentamos el grado del ajuste polinomial? Pruebe a realizar una validación de training y test (mínimo un Hold-out) y observe de nuevo el efecto de aumentar el grado del polinomio.\n",
    "\n",
    "**Nota**: Si utiliza particiones de entrenamiento y test, tendrá que aplicar el método fit_transform a los valores X tanto del conjunto de entrenamiento como del conjunto de test."
   ]
  },
  {
   "cell_type": "markdown",
   "metadata": {},
   "source": [
    "# Regresión con Splines\n",
    "\n",
    "En la regresión con splines se aplica la regresión polinómica \"a trozos\": entre ciertos valores de los atributos de entrada (los nodos o \"knots\") se genera el ajuste de un regresor polinómico.\n",
    "Esto supone crear una transformación como la que hemos visto para la regresión polinómica, pero la matriz de transformación es diferente ahora.\n",
    "\n",
    "Además, hemos de elegir qué estimador polinómico queremos ajustar entre los nodos.\n",
    "\n",
    "Para condensar el ejemplo, utilizaremos la función make_pipeline() de nuevo."
   ]
  },
  {
   "cell_type": "code",
   "execution_count": 7,
   "metadata": {},
   "outputs": [
    {
     "name": "stdout",
     "output_type": "stream",
     "text": [
      "Mean squared error:  0.19489839254863678\n",
      "Mean absolute error:  0.23933105468749996\n",
      "R2 score:  0.9972060741051826\n"
     ]
    }
   ],
   "source": [
    "from sklearn.linear_model import LinearRegression\n",
    "from sklearn.preprocessing import PolynomialFeatures, SplineTransformer\n",
    "\n",
    "spline = make_pipeline(SplineTransformer(n_knots=8, degree=6), LinearRegression()) #n_knots es el número de puntos de control y degree el grado del polinomio\n",
    "spline.fit(X, y)\n",
    "\n",
    "y_pred = spline.predict(X)\n",
    "\n",
    "print(\"Mean squared error: \", mean_squared_error(y, y_pred))\n",
    "print(\"Mean absolute error: \", mean_absolute_error(y, y_pred))\n",
    "print(\"R2 score: \", r2_score(y, y_pred))"
   ]
  },
  {
   "cell_type": "markdown",
   "metadata": {},
   "source": [
    "## Ejercicio\n",
    "\n",
    "1. Observa el efecto del número de nodos o puntos de control y del grado en el rendimiento del algoritmo.\n",
    "2. Experimenta con una validación adecuada (Hold-out o validación cruzada) y el uso del pipeline para realizar la validación.\n",
    "3. Prueba a elegir un atributo de entrada para poder pintar con un plot el resultado del ajuste spline frente a la salida.\n"
   ]
  },
  {
   "cell_type": "markdown",
   "metadata": {},
   "source": [
    "# Regresión lineal a trozos (LOESS)\n",
    "\n",
    "Actualmente, sklearn no incluye este modelo de regresión, aunque el paquete statmodels sí incluye una versión unidimensional.\n",
    "\n",
    "La incluimos a continuación y mostramos un ejemplo de su utilización en nuestro conjunto para una de las características."
   ]
  },
  {
   "cell_type": "code",
   "execution_count": 8,
   "metadata": {},
   "outputs": [
    {
     "name": "stdout",
     "output_type": "stream",
     "text": [
      "Mean squared error:  21.279077149942545\n",
      "Mean absolute error:  3.716767301273681\n",
      "R2 score:  0.694958157994011\n"
     ]
    },
    {
     "data": {
      "image/png": "[encoded data removed]",
      "text/plain": [
       "<Figure size 640x480 with 1 Axes>"
      ]
     },
     "metadata": {},
     "output_type": "display_data"
    }
   ],
   "source": [
    "from statsmodels.api import nonparametric\n",
    "\n",
    "X_mono = X['Abdomen'] # La regresión linea a trozos sólo admite una variable independiente en statsmodels\n",
    "\n",
    "\n",
    "lowess_sm = nonparametric.lowess\n",
    "\n",
    "y_pred = lowess_sm(y,X_mono.to_numpy(),frac=1./3.,it=3, return_sorted = False)\n",
    "print(\"Mean squared error: \", mean_squared_error(y, y_pred))\n",
    "print(\"Mean absolute error: \", mean_absolute_error(y, y_pred))\n",
    "print(\"R2 score: \", r2_score(y, y_pred))\n",
    "\n",
    "plt.scatter(X['Abdomen'], y, color = 'red')\n",
    "plt.plot(X['Abdomen'], y_pred, color = 'blue')\n",
    "plt.show()"
   ]
  },
  {
   "cell_type": "markdown",
   "metadata": {},
   "source": [
    "## Ejercicio\n",
    "\n",
    "Se aprecia como la regresión \"va y vuelve\". Intente solucionarlo ordenando los datos de entrada (X_mono)."
   ]
  },
  {
   "cell_type": "markdown",
   "metadata": {},
   "source": [
    "# Generalized Additive Models\n",
    "\n",
    "De nuevo, sklearn no tiene una implementación nativa de GAMs. Es posible encontrar una buena biblioteca en https://pygam.readthedocs.io/en/latest/\n",
    "\n",
    "La información para su instalación está en https://pygam.readthedocs.io/en/latest/notebooks/quick_start.html#Install-pyGAM\n",
    "\n",
    "Recordemos que las GAMs permiten establecer linealidades o no linealidades en diferentes atributos a nuestra elección. PyGAM especifica esto en la creación del modelo."
   ]
  },
  {
   "cell_type": "code",
   "execution_count": 9,
   "metadata": {},
   "outputs": [
    {
     "name": "stdout",
     "output_type": "stream",
     "text": [
      "LinearGAM                                                                                                 \n",
      "=============================================== ==========================================================\n",
      "Distribution:                        NormalDist Effective DoF:                                     92.6098\n",
      "Link Function:                     IdentityLink Log Likelihood:                                  -334.9558\n",
      "Number of Samples:                          252 AIC:                                              857.1311\n",
      "                                                AICc:                                             969.6719\n",
      "                                                GCV:                                                3.0667\n",
      "                                                Scale:                                              1.1429\n",
      "                                                Pseudo R-Squared:                                   0.9896\n",
      "==========================================================================================================\n",
      "Feature Function                  Lambda               Rank         EDoF         P > x        Sig. Code   \n",
      "================================= ==================== ============ ============ ============ ============\n",
      "s(0)                              [0.6]                20           13.9         1.11e-16     ***         \n",
      "s(1)                              [0.6]                20           12.9         6.27e-02     .           \n",
      "f(2)                              [0.6]                197          65.0         1.53e-01                 \n",
      "l(3)                              [0.6]                1            0.1          2.88e-01                 \n",
      "l(4)                              [0.6]                1            0.1          8.60e-01                 \n",
      "l(5)                              [0.6]                1            0.1          7.32e-02     .           \n",
      "l(6)                              [0.6]                1            0.1          3.31e-01                 \n",
      "l(7)                              [0.6]                1            0.1          8.00e-01                 \n",
      "l(8)                              [0.6]                1            0.1          4.46e-02     *           \n",
      "l(9)                              [0.6]                1            0.1          8.58e-01                 \n",
      "l(10)                             [0.6]                1            0.1          2.93e-01                 \n",
      "l(11)                             [0.6]                1            0.0          7.71e-01                 \n",
      "l(12)                             [0.6]                1            0.0          4.83e-01                 \n",
      "l(13)                             [0.6]                1            0.0          8.77e-01                 \n",
      "intercept                                              1            0.0          8.34e-14     ***         \n",
      "==========================================================================================================\n",
      "Significance codes:  0 '***' 0.001 '**' 0.01 '*' 0.05 '.' 0.1 ' ' 1\n",
      "\n",
      "WARNING: Fitting splines and a linear function to a feature introduces a model identifiability problem\n",
      "         which can cause p-values to appear significant when they are not.\n",
      "\n",
      "WARNING: p-values calculated in this manner behave correctly for un-penalized models or models with\n",
      "         known smoothing parameters, but when smoothing parameters have been estimated, the p-values\n",
      "         are typically lower than they should be, meaning that the tests reject the null too readily.\n"
     ]
    },
    {
     "name": "stderr",
     "output_type": "stream",
     "text": [
      "C:\\Users\\julian\\AppData\\Local\\Temp\\ipykernel_37504\\3414484672.py:14: UserWarning: KNOWN BUG: p-values computed in this summary are likely much smaller than they should be. \n",
      " \n",
      "Please do not make inferences based on these values! \n",
      "\n",
      "Collaborate on a solution, and stay up to date at: \n",
      "github.com/dswah/pyGAM/issues/163 \n",
      "\n",
      "  gam.summary()\n"
     ]
    }
   ],
   "source": [
    "from pygam import LinearGAM, s, f, l\n",
    "\n",
    "# Definimos el modelo utilizando las siguientes funciones:\n",
    "# 1. la función s para indicar que se ajustara una función spline a la variable independiente con el correspondiente índice\n",
    "# 2. En el caso de usar f, se aplicará un factor de ajuste a la variable independiente con el correspondiente índice\n",
    "# 3. En el caso de usar l, se aplicará un término lineal a la variable independiente con el correspondiente índice\n",
    "\n",
    "# Tenemos 14 atributos de entrada en nuestro conjunto, vamos a realizar un ajuste por cada uno de ellos de forma arbitraria\n",
    "gam = LinearGAM(s(0) + s(1) + f(2) + l(3) + l(4) + l(5) + l(6) + l(7) + l(8) + l(9) + l(10) + l(11) + l(12) + l(13))\n",
    "\n",
    "gam.fit(X, y)\n",
    "\n",
    "#Vamos a visualizar el modelo\n",
    "gam.summary()"
   ]
  },
  {
   "cell_type": "code",
   "execution_count": 10,
   "metadata": {},
   "outputs": [
    {
     "name": "stdout",
     "output_type": "stream",
     "text": [
      "Mean squared error:  0.7228584994869833\n",
      "Mean absolute error:  0.38610795714579593\n",
      "R2 score:  0.9896376103794619\n"
     ]
    }
   ],
   "source": [
    "y_pred = gam.predict(X)\n",
    "\n",
    "print(\"Mean squared error: \", mean_squared_error(y, y_pred))\n",
    "print(\"Mean absolute error: \", mean_absolute_error(y, y_pred))\n",
    "print(\"R2 score: \", r2_score(y, y_pred))"
   ]
  },
  {
   "cell_type": "markdown",
   "metadata": {},
   "source": [
    "## Ejercicios\n",
    "\n",
    "1. Observe los p-values devueltos por el summary() de nuestra GAM. Aquellos valores más bajos dan pistas de los atributos más importantes. Prueve a variar el ajuste utilizado para esos atributos.\n",
    "2. Pruebe a ajustar los parámetros de regularización con el método gridsearch() (más info en https://pygam.readthedocs.io/en/latest/notebooks/quick_start.html#Automatically-tune-the-model)"
   ]
  },
  {
   "cell_type": "markdown",
   "metadata": {},
   "source": [
    "# Gradiente descendente estocástico"
   ]
  },
  {
   "cell_type": "code",
   "execution_count": 11,
   "metadata": {},
   "outputs": [
    {
     "name": "stdout",
     "output_type": "stream",
     "text": [
      "Mean squared error:  4.980196662455605e+28\n",
      "Mean absolute error:  221866626764848.4\n",
      "R2 score:  -7.139258684776369e+26\n"
     ]
    }
   ],
   "source": [
    "from sklearn.linear_model import SGDRegressor\n",
    "from sklearn.preprocessing import StandardScaler\n",
    "\n",
    "sgd = SGDRegressor(max_iter=1000, tol=1e-3, penalty='l2', alpha=0.1, eta0=0.01, learning_rate='constant', loss='squared_error', random_state=100)\n",
    "sgd.fit(X, y)\n",
    "\n",
    "y_pred = sgd.predict(X)\n",
    "\n",
    "print(\"Mean squared error: \", mean_squared_error(y, y_pred))\n",
    "print(\"Mean absolute error: \", mean_absolute_error(y, y_pred))\n",
    "print(\"R2 score: \", r2_score(y, y_pred))\n"
   ]
  },
  {
   "cell_type": "markdown",
   "metadata": {},
   "source": [
    "Los resultados obtenidos en el bloque de código anterior son muy pobres.\n",
    "\n",
    "Vamos a normalizar los datos para que tengan media 0 y desviación típica 1, ya que el uso de **SGD** sin normalizar los datos puede provocar que el modelo no converja"
   ]
  },
  {
   "cell_type": "code",
   "execution_count": 12,
   "metadata": {},
   "outputs": [
    {
     "name": "stdout",
     "output_type": "stream",
     "text": [
      "Mean squared error:  2.263134801441148\n",
      "Mean absolute error:  1.026306982309168\n",
      "R2 score:  0.9675572956630156\n"
     ]
    }
   ],
   "source": [
    "scaler = StandardScaler()\n",
    "X_scal = scaler.fit_transform(X)\n",
    "sgd.fit(X_scal, y)\n",
    "\n",
    "y_pred = sgd.predict(X_scal)\n",
    "\n",
    "print(\"Mean squared error: \", mean_squared_error(y, y_pred))\n",
    "print(\"Mean absolute error: \", mean_absolute_error(y, y_pred))\n",
    "print(\"R2 score: \", r2_score(y, y_pred))"
   ]
  },
  {
   "cell_type": "markdown",
   "metadata": {},
   "source": [
    "## Ejercicios\n",
    "1. Pruebe diferentes parámetros max_iter, tol, alpha y eta  de SGDRegressor y observe el comportamiento del regresor.\n",
    "2. Es muy habitual realizar el escalado y el fit() del SGDRegressor. SKlearn proporciona un pipeline para juntar las dos tareas. Examine la documentación de https://scikit-learn.org/stable/modules/generated/sklearn.linear_model.SGDRegressor.html y aplique el método make_pipeline al ejemplo anterior"
   ]
  },
  {
   "cell_type": "markdown",
   "metadata": {},
   "source": [
    "# Ridge Regression\n"
   ]
  },
  {
   "cell_type": "code",
   "execution_count": 13,
   "metadata": {},
   "outputs": [
    {
     "name": "stdout",
     "output_type": "stream",
     "text": [
      "Mean squared error:  16.085521192268327\n",
      "Mean absolute error:  3.298424337773154\n",
      "R2 score:  0.7694093132168961\n"
     ]
    }
   ],
   "source": [
    "from sklearn import linear_model\n",
    "\n",
    "ridge = linear_model.Ridge(alpha=.5)\n",
    "ridge.fit(X, y)\n",
    "\n",
    "y_pred = ridge.predict(X)\n",
    "\n",
    "print(\"Mean squared error: \", mean_squared_error(y, y_pred))\n",
    "print(\"Mean absolute error: \", mean_absolute_error(y, y_pred))\n",
    "print(\"R2 score: \", r2_score(y, y_pred))"
   ]
  },
  {
   "cell_type": "markdown",
   "metadata": {},
   "source": [
    "## Ejercicios\n",
    "1. Intente obtener el mismo comportamiento que el regresor lineal con el Ridge regressor\n",
    "2. De igual forma, es posible emular el comportamiento del Ridge regressor mediante el regresor SGD. Revise las transparencias de teoría e intente obtener dicha equivalencia."
   ]
  },
  {
   "cell_type": "markdown",
   "metadata": {},
   "source": [
    "# Lasso regression"
   ]
  },
  {
   "cell_type": "code",
   "execution_count": 14,
   "metadata": {},
   "outputs": [
    {
     "name": "stdout",
     "output_type": "stream",
     "text": [
      "Mean squared error:  18.782909101274438\n",
      "Mean absolute error:  3.537901971107\n",
      "R2 score:  0.7307414626061788\n"
     ]
    }
   ],
   "source": [
    "from sklearn import linear_model\n",
    "\n",
    "lasso = linear_model.Lasso(alpha=.5)\n",
    "lasso.fit(X, y)\n",
    "\n",
    "y_pred = lasso.predict(X)\n",
    "\n",
    "print(\"Mean squared error: \", mean_squared_error(y, y_pred))\n",
    "print(\"Mean absolute error: \", mean_absolute_error(y, y_pred))\n",
    "print(\"R2 score: \", r2_score(y, y_pred))\n"
   ]
  },
  {
   "cell_type": "markdown",
   "metadata": {},
   "source": [
    "## Ejercicios\n",
    "1. Tal y como ocurría con el Ridge regressor, puede emular el comportamiento del Ridge regressor mediante el regresor SGD. Revise las transparencias de teoría e intente obtener dicha equivalencia.\n",
    "2. Observe los coeficientes del ajuste del regresor Lasso con el método **.coef_** e identifique los atributos menos importantes.\n",
    "3. Con la información del punto 2, podría eliminar los atributos con un peso de cero del conjunto y mejorar el rendimiento (velocidad) de ajuste del modelo sin afectar apenas al rendimiento. Pruébelo."
   ]
  },
  {
   "cell_type": "markdown",
   "metadata": {},
   "source": [
    "# Elastic Net"
   ]
  },
  {
   "cell_type": "code",
   "execution_count": 15,
   "metadata": {},
   "outputs": [
    {
     "name": "stdout",
     "output_type": "stream",
     "text": [
      "Mean squared error:  18.13871712209908\n",
      "Mean absolute error:  3.477151372336551\n",
      "R2 score:  0.7399761444745917\n"
     ]
    }
   ],
   "source": [
    "from sklearn import linear_model\n",
    "\n",
    "elastic = linear_model.ElasticNet(alpha=0.5, l1_ratio=0.5)\n",
    "elastic.fit(X, y)\n",
    "\n",
    "y_pred = elastic.predict(X)\n",
    "\n",
    "print(\"Mean squared error: \", mean_squared_error(y, y_pred))\n",
    "print(\"Mean absolute error: \", mean_absolute_error(y, y_pred))\n",
    "print(\"R2 score: \", r2_score(y, y_pred))"
   ]
  },
  {
   "cell_type": "markdown",
   "metadata": {},
   "source": [
    "## Ejercicios\n",
    "1. Dado que Elastic Net es una \"combinación\" de Lasso y Ridge, pruebe a modificar el parámetro **l1_ratio** para emular el comportamiento obtenido en los dos modelos mencionados.\n",
    "2. Observe también como cambian los coeficientes del ajuste de Elastic Net cuando modifica el **l1_ratio**."
   ]
  },
  {
   "cell_type": "markdown",
   "metadata": {},
   "source": [
    "# Regresión mediante mínimos cuadrados parciales (PLS regression)\n",
    "\n",
    "En https://scikit-learn.org/stable/modules/cross_decomposition.html es posible leer las diferentes versiones de este algoritmo. El algoritmo base es PLSCanonical, y el resto de versiones realizan modificaciones al algoritmo base para ganar eficiencia o aplicar regularizaciones.\n",
    "\n",
    "A diferencia de lo visto en teoría, no vamos a realizar la regresión de PCA+Linear regression y nos centraremos en PLS directamente. Esperaremos a la práctica de preprocesamiento para aprender cómo aplicar PCA en nuestros datos. En cualquier caso, si tienes curiosidad, este tema está tratado en sklearn directamente: https://scikit-learn.org/stable/auto_examples/cross_decomposition/plot_pcr_vs_pls.html"
   ]
  },
  {
   "cell_type": "markdown",
   "metadata": {},
   "source": [
    "## PLS Canonical"
   ]
  },
  {
   "cell_type": "code",
   "execution_count": 16,
   "metadata": {},
   "outputs": [
    {
     "name": "stdout",
     "output_type": "stream",
     "text": [
      "Mean squared error:  301.6937867138695\n",
      "Mean absolute error:  13.576250276918342\n",
      "R2 score:  -3.324869343368551\n"
     ]
    }
   ],
   "source": [
    "from sklearn.cross_decomposition import PLSCanonical\n",
    "\n",
    "#n_components es el número de componentes principales a utilizar\n",
    "pls = PLSCanonical(n_components=1, tol= 0.001, max_iter=5000) \n",
    "pls.fit(X, y)\n",
    "\n",
    "y_pred = pls.predict(X)\n",
    "\n",
    "print(\"Mean squared error: \", mean_squared_error(y, y_pred))\n",
    "print(\"Mean absolute error: \", mean_absolute_error(y, y_pred))\n",
    "print(\"R2 score: \", r2_score(y, y_pred))"
   ]
  },
  {
   "cell_type": "markdown",
   "metadata": {},
   "source": [
    "## PLS regression\n",
    "\n",
    "Permite hacer regresión de una variable (PLS1 con n_components=1) o varios (PLS2 con n_components > 1).\n",
    "A diferencia de PLSCanonical, el número de componentes no está limitado por el número de atributos de salida. Se encuentra en el mínimo de $[1, min(\\#atributos, \\#ejemplos)]$"
   ]
  },
  {
   "cell_type": "code",
   "execution_count": 17,
   "metadata": {},
   "outputs": [
    {
     "name": "stdout",
     "output_type": "stream",
     "text": [
      "Mean squared error:  8.328809619946012\n",
      "Mean absolute error:  2.2654707764796984\n",
      "R2 score:  0.880604059551878\n"
     ]
    }
   ],
   "source": [
    "from sklearn.cross_decomposition import PLSRegression\n",
    "\n",
    "#n_components es el número de componentes principales a utilizar\n",
    "#prueba a aumentar el número de componentes y observa como cambia el error\n",
    "pls = PLSRegression(n_components=2, tol= 0.001, max_iter=5000) \n",
    "pls.fit(X, y)\n",
    "\n",
    "y_pred = pls.predict(X)\n",
    "\n",
    "print(\"Mean squared error: \", mean_squared_error(y, y_pred))\n",
    "print(\"Mean absolute error: \", mean_absolute_error(y, y_pred))\n",
    "print(\"R2 score: \", r2_score(y, y_pred))"
   ]
  },
  {
   "cell_type": "markdown",
   "metadata": {},
   "source": [
    "## Ejercicios\n",
    "1. Con la experiencia de estos dos métodos, prueba a ajustar con PLSSVD los datos: https://scikit-learn.org/stable/modules/generated/sklearn.cross_decomposition.PLSSVD.html#sklearn.cross_decomposition.PLSSVD\n",
    "2. ¿Cuál es el efecto del número de componentes en PLSRegression en el rendimiento? ¿Hay alguna asíntota de rendimiento? \n",
    "3. ¿Qué ocurre con los coeficientes al aumentar el número de componentes?\n",
    "4. Prueba a aplicar algún tipo de estandarízación en los datos y observa las diferencias en rendimiento."
   ]
  },
  {
   "cell_type": "markdown",
   "metadata": {},
   "source": [
    "# Regresión con MLP (Multi-layer Perceptron)"
   ]
  },
  {
   "cell_type": "markdown",
   "metadata": {},
   "source": [
    "## MLP de SKlearn"
   ]
  },
  {
   "cell_type": "code",
   "execution_count": 18,
   "metadata": {},
   "outputs": [
    {
     "name": "stdout",
     "output_type": "stream",
     "text": [
      "Iteration 1, loss = 680.09453479\n",
      "Iteration 2, loss = 270.82359745\n",
      "Iteration 3, loss = 199.98164983\n",
      "Iteration 4, loss = 190.55066669\n",
      "Iteration 5, loss = 178.70264099\n",
      "Iteration 6, loss = 163.41529596\n",
      "Iteration 7, loss = 143.65324612\n",
      "Iteration 8, loss = 119.59976569\n",
      "Iteration 9, loss = 93.03300673\n",
      "Iteration 10, loss = 67.47757320\n",
      "Iteration 11, loss = 46.92496448\n",
      "Iteration 12, loss = 36.45189176\n",
      "Iteration 13, loss = 35.78870571\n",
      "Iteration 14, loss = 40.65504252\n",
      "Iteration 15, loss = 45.12825288\n",
      "Iteration 16, loss = 45.79304255\n",
      "Iteration 17, loss = 42.92700037\n",
      "Iteration 18, loss = 39.38271242\n",
      "Iteration 19, loss = 36.50136592\n",
      "Iteration 20, loss = 35.18741262\n",
      "Iteration 21, loss = 34.85291575\n",
      "Iteration 22, loss = 35.17938944\n",
      "Iteration 23, loss = 35.55177131\n",
      "Iteration 24, loss = 35.84514861\n",
      "Iteration 25, loss = 35.83443102\n",
      "Iteration 26, loss = 35.67468121\n",
      "Iteration 27, loss = 35.40266195\n",
      "Iteration 28, loss = 35.19107489\n",
      "Iteration 29, loss = 34.94287865\n",
      "Iteration 30, loss = 34.88584148\n",
      "Iteration 31, loss = 34.89394710\n",
      "Iteration 32, loss = 34.98919233\n",
      "Training loss did not improve more than tol=0.000100 for 10 consecutive epochs. Stopping.\n",
      "Mean squared error:  69.92776595830891\n",
      "Mean absolute error:  6.865490357056632\n",
      "R2 score:  -0.0024351331112046903\n"
     ]
    }
   ],
   "source": [
    "from sklearn.neural_network import MLPRegressor\n",
    "\n",
    "mlp = MLPRegressor(hidden_layer_sizes=(10,10), activation='relu', solver='sgd', learning_rate='constant', max_iter=500, verbose=True, random_state=100)\n",
    "mlp.fit(X, y)\n",
    "\n",
    "y_pred = mlp.predict(X)\n",
    "\n",
    "print(\"Mean squared error: \", mean_squared_error(y, y_pred))\n",
    "print(\"Mean absolute error: \", mean_absolute_error(y, y_pred))\n",
    "print(\"R2 score: \", r2_score(y, y_pred))"
   ]
  },
  {
   "cell_type": "markdown",
   "metadata": {},
   "source": [
    "## Ejercicios\n",
    "1. Cambia la topología de la red (la cantidad de capas ocultas y el número de neuronas) para intentar mejorar los resultados\n",
    "2. Puedes ajustar el resto de parámetros (info en https://scikit-learn.org/stable/modules/generated/sklearn.neural_network.MLPRegressor.html) para intentar conseguir mejorar los resultados.\n",
    "3. Juega con el **learning_rate** frente al número de iteraciones y los resultados. Cambiar el **solver** también tiene un impacto importante en la velocidad de convergencia."
   ]
  },
  {
   "cell_type": "markdown",
   "metadata": {},
   "source": [
    "## MLP con Keras\n",
    "\n",
    "Aunque en asignaturas más avanzadas se trabajará con Keras de forma más profunda, aprovechamos aquí para hacer un pequeño inciso.\n",
    "\n",
    "En Keras, la construcción de la topología de la red para obtener una MLP se hace artesanalmente, añadiendo capas de izquierda a derecha (utilizando un modelo Sequential), comenzando por la primera capa de conexión con los atributos del dataset y terminando con la última neurona de salida.\n",
    "\n",
    "Para facilitar la tarea vamos a utilizar un wrapper que incorpora Sklearn para trabajar con Keras de la misma forma que hemos hecho con los algoritmos de regresión previos. Queda como tarea al alumno replicar el uso de Keras directamente mostrado en las transparencias de teoría."
   ]
  },
  {
   "cell_type": "code",
   "execution_count": 19,
   "metadata": {},
   "outputs": [
    {
     "name": "stdout",
     "output_type": "stream",
     "text": [
      "Requirement already satisfied: scikeras in c:\\users\\julian\\anaconda3\\lib\\site-packages (0.9.0)\n",
      "Requirement already satisfied: packaging>=0.21 in c:\\users\\julian\\anaconda3\\lib\\site-packages (from scikeras) (21.3)\n",
      "Requirement already satisfied: scikit-learn>=1.0.0 in c:\\users\\julian\\anaconda3\\lib\\site-packages (from scikeras) (1.0.2)\n",
      "Requirement already satisfied: pyparsing!=3.0.5,>=2.0.2 in c:\\users\\julian\\anaconda3\\lib\\site-packages (from packaging>=0.21->scikeras) (3.0.9)\n",
      "Requirement already satisfied: threadpoolctl>=2.0.0 in c:\\users\\julian\\anaconda3\\lib\\site-packages (from scikit-learn>=1.0.0->scikeras) (2.2.0)\n",
      "Requirement already satisfied: joblib>=0.11 in c:\\users\\julian\\anaconda3\\lib\\site-packages (from scikit-learn>=1.0.0->scikeras) (1.1.1)\n",
      "Requirement already satisfied: scipy>=1.1.0 in c:\\users\\julian\\anaconda3\\lib\\site-packages (from scikit-learn>=1.0.0->scikeras) (1.9.1)\n",
      "Requirement already satisfied: numpy>=1.14.6 in c:\\users\\julian\\anaconda3\\lib\\site-packages (from scikit-learn>=1.0.0->scikeras) (1.21.5)\n"
     ]
    }
   ],
   "source": [
    "!pip install scikeras"
   ]
  },
  {
   "cell_type": "code",
   "execution_count": 33,
   "metadata": {},
   "outputs": [
    {
     "data": {
      "text/plain": [
       "'\"\\n#Alternativamente, podemos definir la topología del modelo MLP como un vector de capas directamente en lugar de usar el método add\\nmlp = models.Sequential(\\n    [\\n        keras.layers.Dense(10, activation=\"relu\", input_shape=(X.shape[1],)),\\n        keras.layers.Dense(10, activation=\"relu\"),\\n        keras.layers.Dense(1)\\n    ]\\n)\\nmlp.compile(loss=\"mse\", optimizer=\"adam\", metrics=[\"mse\"])\\n\\nmlp.summary()\\n'"
      ]
     },
     "execution_count": 33,
     "metadata": {},
     "output_type": "execute_result"
    }
   ],
   "source": [
    "from tensorflow import keras\n",
    "from tensorflow.keras import models\n",
    "from tensorflow.keras.models import Sequential\n",
    "from tensorflow.keras.layers import Dense\n",
    "from scikeras.wrappers import KerasRegressor\n",
    "\n",
    "#vamos a definir la topología del modelo MLP igual al ejemplo con MLPRegressor (2 capas ocultas de 10 neuronas cada una)\n",
    "def mlp():\n",
    "    model = Sequential()\n",
    "    model.add(Dense(10, input_dim=len(X.columns), activation='relu')) #capa de entrada con input_dim = número de atributos de nuestro conjunto de datos\n",
    "    model.add(Dense(10, activation='relu'))\n",
    "    model.add(Dense(1, activation='linear'))\n",
    "    model.compile(loss='mean_squared_error', optimizer='adam', metrics=['mse']) #para regresión usamos mean_squared_error como función de pérdida\n",
    "    return model\n",
    "\n",
    "\"\"\"\"\n",
    "#Alternativamente, podemos definir la topología del modelo MLP como un vector de capas directamente en lugar de usar el método add\n",
    "mlp = models.Sequential(\n",
    "    [\n",
    "        keras.layers.Dense(10, activation=\"relu\", input_shape=len(X.columns)),\n",
    "        keras.layers.Dense(10, activation=\"relu\"),\n",
    "        keras.layers.Dense(1)\n",
    "    ]\n",
    ")\n",
    "mlp.compile(loss=\"mse\", optimizer=\"adam\", metrics=[\"mse\"])\n",
    "\n",
    "mlp.summary()\n",
    "\"\"\""
   ]
  },
  {
   "cell_type": "code",
   "execution_count": 37,
   "metadata": {},
   "outputs": [
    {
     "name": "stdout",
     "output_type": "stream",
     "text": [
      "Epoch 1/100\n",
      "51/51 [==============================] - 0s 1ms/step - loss: 756.1449 - mse: 756.1449\n",
      "Epoch 2/100\n",
      "51/51 [==============================] - 0s 1ms/step - loss: 50.3944 - mse: 50.3944\n",
      "Epoch 3/100\n",
      "51/51 [==============================] - 0s 1ms/step - loss: 46.1248 - mse: 46.1248\n",
      "Epoch 4/100\n",
      "51/51 [==============================] - 0s 972us/step - loss: 45.9141 - mse: 45.9141\n",
      "Epoch 5/100\n",
      "51/51 [==============================] - 0s 982us/step - loss: 44.8329 - mse: 44.8329\n",
      "Epoch 6/100\n",
      "51/51 [==============================] - 0s 973us/step - loss: 43.5094 - mse: 43.5094\n",
      "Epoch 7/100\n",
      "51/51 [==============================] - 0s 990us/step - loss: 42.5344 - mse: 42.5344\n",
      "Epoch 8/100\n",
      "51/51 [==============================] - 0s 975us/step - loss: 42.2742 - mse: 42.2742\n",
      "Epoch 9/100\n",
      "51/51 [==============================] - 0s 972us/step - loss: 42.9078 - mse: 42.9078\n",
      "Epoch 10/100\n",
      "51/51 [==============================] - 0s 972us/step - loss: 42.1032 - mse: 42.1032\n",
      "Epoch 11/100\n",
      "51/51 [==============================] - 0s 1ms/step - loss: 41.2977 - mse: 41.2977\n",
      "Epoch 12/100\n",
      "51/51 [==============================] - 0s 923us/step - loss: 40.2437 - mse: 40.2437\n",
      "Epoch 13/100\n",
      "51/51 [==============================] - 0s 1ms/step - loss: 40.6971 - mse: 40.6971\n",
      "Epoch 14/100\n",
      "51/51 [==============================] - 0s 1ms/step - loss: 39.0654 - mse: 39.0654\n",
      "Epoch 15/100\n",
      "51/51 [==============================] - 0s 963us/step - loss: 38.5889 - mse: 38.5889\n",
      "Epoch 16/100\n",
      "51/51 [==============================] - 0s 992us/step - loss: 38.4621 - mse: 38.4621\n",
      "Epoch 17/100\n",
      "51/51 [==============================] - 0s 992us/step - loss: 38.0755 - mse: 38.0755\n",
      "Epoch 18/100\n",
      "51/51 [==============================] - 0s 972us/step - loss: 37.4995 - mse: 37.4995\n",
      "Epoch 19/100\n",
      "51/51 [==============================] - 0s 1ms/step - loss: 37.9048 - mse: 37.9048\n",
      "Epoch 20/100\n",
      "51/51 [==============================] - 0s 1ms/step - loss: 37.7249 - mse: 37.7249\n",
      "Epoch 21/100\n",
      "51/51 [==============================] - 0s 2ms/step - loss: 35.7391 - mse: 35.7391\n",
      "Epoch 22/100\n",
      "51/51 [==============================] - 0s 1ms/step - loss: 34.7546 - mse: 34.7546\n",
      "Epoch 23/100\n",
      "51/51 [==============================] - 0s 903us/step - loss: 34.7900 - mse: 34.7900\n",
      "Epoch 24/100\n",
      "51/51 [==============================] - 0s 794us/step - loss: 34.4148 - mse: 34.4148\n",
      "Epoch 25/100\n",
      "51/51 [==============================] - 0s 903us/step - loss: 33.3901 - mse: 33.3901\n",
      "Epoch 26/100\n",
      "51/51 [==============================] - 0s 864us/step - loss: 34.6542 - mse: 34.6542\n",
      "Epoch 27/100\n",
      "51/51 [==============================] - 0s 873us/step - loss: 31.7817 - mse: 31.7817\n",
      "Epoch 28/100\n",
      "51/51 [==============================] - 0s 913us/step - loss: 34.3055 - mse: 34.3055\n",
      "Epoch 29/100\n",
      "51/51 [==============================] - 0s 863us/step - loss: 31.6685 - mse: 31.6685\n",
      "Epoch 30/100\n",
      "51/51 [==============================] - 0s 863us/step - loss: 32.4857 - mse: 32.4857\n",
      "Epoch 31/100\n",
      "51/51 [==============================] - 0s 1ms/step - loss: 29.9772 - mse: 29.9772\n",
      "Epoch 32/100\n",
      "51/51 [==============================] - 0s 863us/step - loss: 31.7762 - mse: 31.7762\n",
      "Epoch 33/100\n",
      "51/51 [==============================] - 0s 928us/step - loss: 30.3613 - mse: 30.3613\n",
      "Epoch 34/100\n",
      "51/51 [==============================] - 0s 1ms/step - loss: 32.2902 - mse: 32.2902\n",
      "Epoch 35/100\n",
      "51/51 [==============================] - 0s 1ms/step - loss: 29.6550 - mse: 29.6550\n",
      "Epoch 36/100\n",
      "51/51 [==============================] - 0s 973us/step - loss: 30.4203 - mse: 30.4203\n",
      "Epoch 37/100\n",
      "51/51 [==============================] - 0s 883us/step - loss: 28.4312 - mse: 28.4312\n",
      "Epoch 38/100\n",
      "51/51 [==============================] - 0s 873us/step - loss: 28.1145 - mse: 28.1145\n",
      "Epoch 39/100\n",
      "51/51 [==============================] - 0s 913us/step - loss: 28.0197 - mse: 28.0197\n",
      "Epoch 40/100\n",
      "51/51 [==============================] - 0s 848us/step - loss: 27.7440 - mse: 27.7440\n",
      "Epoch 41/100\n",
      "51/51 [==============================] - 0s 863us/step - loss: 27.1198 - mse: 27.1198\n",
      "Epoch 42/100\n",
      "51/51 [==============================] - 0s 833us/step - loss: 26.5206 - mse: 26.5206\n",
      "Epoch 43/100\n",
      "51/51 [==============================] - 0s 824us/step - loss: 26.1845 - mse: 26.1845\n",
      "Epoch 44/100\n",
      "51/51 [==============================] - 0s 893us/step - loss: 25.7628 - mse: 25.7628\n",
      "Epoch 45/100\n",
      "51/51 [==============================] - 0s 913us/step - loss: 25.3374 - mse: 25.3374\n",
      "Epoch 46/100\n",
      "51/51 [==============================] - 0s 933us/step - loss: 26.0170 - mse: 26.0170\n",
      "Epoch 47/100\n",
      "51/51 [==============================] - 0s 952us/step - loss: 24.7308 - mse: 24.7308\n",
      "Epoch 48/100\n",
      "51/51 [==============================] - 0s 903us/step - loss: 25.8223 - mse: 25.8223\n",
      "Epoch 49/100\n",
      "51/51 [==============================] - 0s 973us/step - loss: 24.1833 - mse: 24.1833\n",
      "Epoch 50/100\n",
      "51/51 [==============================] - 0s 903us/step - loss: 24.5988 - mse: 24.5988\n",
      "Epoch 51/100\n",
      "51/51 [==============================] - 0s 933us/step - loss: 23.7679 - mse: 23.7680\n",
      "Epoch 52/100\n",
      "51/51 [==============================] - 0s 903us/step - loss: 23.7819 - mse: 23.7819\n",
      "Epoch 53/100\n",
      "51/51 [==============================] - 0s 932us/step - loss: 24.7265 - mse: 24.7265\n",
      "Epoch 54/100\n",
      "51/51 [==============================] - 0s 853us/step - loss: 23.2750 - mse: 23.2750\n",
      "Epoch 55/100\n",
      "51/51 [==============================] - 0s 877us/step - loss: 23.8283 - mse: 23.8283\n",
      "Epoch 56/100\n",
      "51/51 [==============================] - 0s 853us/step - loss: 23.0832 - mse: 23.0832\n",
      "Epoch 57/100\n",
      "51/51 [==============================] - 0s 942us/step - loss: 23.0970 - mse: 23.0970\n",
      "Epoch 58/100\n",
      "51/51 [==============================] - 0s 1ms/step - loss: 24.5159 - mse: 24.5159\n",
      "Epoch 59/100\n",
      "51/51 [==============================] - 0s 873us/step - loss: 22.9297 - mse: 22.9297\n",
      "Epoch 60/100\n",
      "51/51 [==============================] - 0s 952us/step - loss: 22.8065 - mse: 22.8065\n",
      "Epoch 61/100\n",
      "51/51 [==============================] - 0s 1ms/step - loss: 23.1683 - mse: 23.1683\n",
      "Epoch 62/100\n",
      "51/51 [==============================] - 0s 833us/step - loss: 24.1524 - mse: 24.1524\n",
      "Epoch 63/100\n",
      "51/51 [==============================] - 0s 923us/step - loss: 22.6839 - mse: 22.6839\n",
      "Epoch 64/100\n",
      "51/51 [==============================] - 0s 883us/step - loss: 22.5439 - mse: 22.5439\n",
      "Epoch 65/100\n",
      "51/51 [==============================] - 0s 883us/step - loss: 22.7249 - mse: 22.7249\n",
      "Epoch 66/100\n",
      "51/51 [==============================] - 0s 844us/step - loss: 22.0989 - mse: 22.0989\n",
      "Epoch 67/100\n",
      "51/51 [==============================] - 0s 943us/step - loss: 23.6005 - mse: 23.6005\n",
      "Epoch 68/100\n",
      "51/51 [==============================] - 0s 873us/step - loss: 23.8285 - mse: 23.8285\n",
      "Epoch 69/100\n",
      "51/51 [==============================] - 0s 873us/step - loss: 22.5006 - mse: 22.5006\n",
      "Epoch 70/100\n",
      "51/51 [==============================] - 0s 913us/step - loss: 22.4680 - mse: 22.4680\n",
      "Epoch 71/100\n",
      "51/51 [==============================] - 0s 932us/step - loss: 22.3828 - mse: 22.3828\n",
      "Epoch 72/100\n",
      "51/51 [==============================] - 0s 883us/step - loss: 24.1697 - mse: 24.1697\n",
      "Epoch 73/100\n",
      "51/51 [==============================] - 0s 863us/step - loss: 21.8284 - mse: 21.8284\n",
      "Epoch 74/100\n",
      "51/51 [==============================] - 0s 952us/step - loss: 22.5447 - mse: 22.5447\n",
      "Epoch 75/100\n",
      "51/51 [==============================] - 0s 883us/step - loss: 21.3448 - mse: 21.3448\n",
      "Epoch 76/100\n",
      "51/51 [==============================] - 0s 872us/step - loss: 25.7010 - mse: 25.7010\n",
      "Epoch 77/100\n",
      "51/51 [==============================] - 0s 883us/step - loss: 23.3974 - mse: 23.3974\n",
      "Epoch 78/100\n",
      "51/51 [==============================] - 0s 923us/step - loss: 21.6109 - mse: 21.6109\n",
      "Epoch 79/100\n",
      "51/51 [==============================] - 0s 923us/step - loss: 22.5658 - mse: 22.5658\n",
      "Epoch 80/100\n",
      "51/51 [==============================] - 0s 923us/step - loss: 21.6542 - mse: 21.6542\n",
      "Epoch 81/100\n",
      "51/51 [==============================] - 0s 1ms/step - loss: 22.3329 - mse: 22.3329\n",
      "Epoch 82/100\n",
      "51/51 [==============================] - 0s 913us/step - loss: 22.1318 - mse: 22.1318\n",
      "Epoch 83/100\n",
      "51/51 [==============================] - 0s 972us/step - loss: 22.7125 - mse: 22.7125\n",
      "Epoch 84/100\n",
      "51/51 [==============================] - 0s 982us/step - loss: 22.0944 - mse: 22.0944\n",
      "Epoch 85/100\n",
      "51/51 [==============================] - 0s 1ms/step - loss: 24.1373 - mse: 24.1373\n",
      "Epoch 86/100\n",
      "51/51 [==============================] - 0s 903us/step - loss: 20.7961 - mse: 20.7961\n",
      "Epoch 87/100\n",
      "51/51 [==============================] - 0s 833us/step - loss: 22.8720 - mse: 22.8720\n",
      "Epoch 88/100\n",
      "51/51 [==============================] - 0s 853us/step - loss: 21.2853 - mse: 21.2853\n",
      "Epoch 89/100\n",
      "51/51 [==============================] - 0s 843us/step - loss: 22.5822 - mse: 22.5822\n",
      "Epoch 90/100\n",
      "51/51 [==============================] - 0s 834us/step - loss: 21.8303 - mse: 21.8303\n",
      "Epoch 91/100\n",
      "51/51 [==============================] - 0s 874us/step - loss: 21.7852 - mse: 21.7852\n",
      "Epoch 92/100\n",
      "51/51 [==============================] - 0s 903us/step - loss: 22.0260 - mse: 22.0260\n",
      "Epoch 93/100\n",
      "51/51 [==============================] - 0s 843us/step - loss: 20.3895 - mse: 20.3895\n",
      "Epoch 94/100\n",
      "51/51 [==============================] - 0s 913us/step - loss: 22.6894 - mse: 22.6894\n",
      "Epoch 95/100\n",
      "51/51 [==============================] - 0s 942us/step - loss: 21.9559 - mse: 21.9559\n",
      "Epoch 96/100\n",
      "51/51 [==============================] - 0s 913us/step - loss: 21.5543 - mse: 21.5543\n",
      "Epoch 97/100\n",
      "51/51 [==============================] - 0s 923us/step - loss: 20.9887 - mse: 20.9887\n",
      "Epoch 98/100\n",
      "51/51 [==============================] - 0s 1ms/step - loss: 20.2233 - mse: 20.2233\n",
      "Epoch 99/100\n",
      "51/51 [==============================] - 0s 1ms/step - loss: 20.5091 - mse: 20.5091\n",
      "Epoch 100/100\n",
      "51/51 [==============================] - 0s 1ms/step - loss: 20.5583 - mse: 20.5583\n",
      "51/51 [==============================] - 0s 803us/step\n",
      "Mean squared error:  19.350618490599125\n",
      "Mean absolute error:  3.6243028012533034\n",
      "R2 score:  0.7226031812031168\n"
     ]
    }
   ],
   "source": [
    "\n",
    "\n",
    "#Ahora podemos utilizar KerasRegressor para crear el modelo y ajustarlo a los datos\n",
    "mlp_keras = KerasRegressor(model=mlp, epochs=100, batch_size=5, verbose=1)\n",
    "mlp_keras.get_params()\n",
    "\n",
    "mlp_keras.fit(X,y) # vamos a entrenar usando CPU. En asignaturas posteriores veremos como entrenar usando GPU\n",
    "\n",
    "y_pred = mlp_keras.predict(X)\n",
    "\n",
    "print(\"Mean squared error: \", mean_squared_error(y, y_pred))\n",
    "print(\"Mean absolute error: \", mean_absolute_error(y, y_pred))\n",
    "print(\"R2 score: \", r2_score(y, y_pred))"
   ]
  },
  {
   "cell_type": "markdown",
   "metadata": {},
   "source": [
    "# Consideraciones generales\n",
    "\n",
    "Dese cuenta que no hemos aplicado ningún tipo de validación en los modelos. Estamos ajustando y evaluando el rendimiento en el conjunto completo, lo que no es nada recomendable. Queda en manos del estudiante aplicar los conocimientos de particionamiento y validación a los diferentes modelos aquí mostrados.\n",
    "\n",
    "De igual forma, no se ha realizado normalización en la mayoría de casos, lo que es muy recomendable (sobre todo trabajando con SGD). En la sesión de preprocesamiento se tratará con mayor profundidad, pero es necesario dejar constancia de este hecho.\n",
    "\n",
    "Finalmente, queremos indicar al estudiante que el ajuste de parámetros manual no es lo más óptimo hoy día. Más adelante estudiaremos como ajustar los parámetros de forma automatizada."
   ]
  }
 ],
 "metadata": {
  "kernelspec": {
   "display_name": "Python 3.10.12 64-bit",
   "language": "python",
   "name": "python3"
  },
  "language_info": {
   "codemirror_mode": {
    "name": "ipython",
    "version": 3
   },
   "file_extension": ".py",
   "mimetype": "text/x-python",
   "name": "python",
   "nbconvert_exporter": "python",
   "pygments_lexer": "ipython3",
   "version": "3.10.12"
  },
  "orig_nbformat": 4,
  "vscode": {
   "interpreter": {
    "hash": "916dbcbb3f70747c44a77c7bcd40155683ae19c65e1c03b4aa3499c5328201f1"
   }
  }
 },
 "nbformat": 4,
 "nbformat_minor": 2
}
