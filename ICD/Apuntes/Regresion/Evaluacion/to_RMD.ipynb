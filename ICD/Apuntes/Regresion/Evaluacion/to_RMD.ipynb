{
 "cells": [
  {
   "cell_type": "code",
   "execution_count": 1,
   "metadata": {},
   "outputs": [],
   "source": [
    "import json\n",
    "\n",
    "\n",
    "with open(\"Evaluacion_continua.ipynb\", encoding = \"UTF-8\") as file:\n",
    "    data = json.load(file)\n",
    "\n",
    "\n",
    "# get the programming language info\n",
    "programming_language = data[\"metadata\"][\"kernelspec\"][\"language\"]\n",
    "\n",
    "\n",
    "# list comprehension to get the necessary information for each cell:\n",
    "cells = [ [x[\"cell_type\"], x[\"source\"]] for x in data[\"cells\"] ]\n",
    "\n",
    "author = \"Moisés Tellez Francisco\"\n",
    "date = \"November 15th, 2023\"\n",
    "\n",
    "yaml_config = f\"\"\"---\n",
    "title: |\n",
    "  <center>A Python Jupyter Notebook</center>  \n",
    "  <center>Converted to RMarkdown</center>\n",
    "  <br />\n",
    "author: |\n",
    "  <p style=\"float: right\">{author}</p>\n",
    "  <br />\n",
    "date: |\n",
    "  <p style=\"float: right\">{date}</p>\n",
    "  <br />\n",
    "output:\n",
    "  html_document:\n",
    "    highlight: textmate\n",
    "    theme: flatly\n",
    "    number_sections: yes\n",
    "    toc: yes\n",
    "    toc_float:\n",
    "      collapse: yes\n",
    "      smooth_scroll: yes\n",
    "---\n",
    "\"\"\"\n",
    "\n",
    "file_text = yaml_config\n",
    "\n",
    "\n",
    "for cell_type, source in cells:\n",
    "    if cell_type == \"markdown\" and source:\n",
    "        file_text += \"\".join(source) + \"\\n\\n\"\n",
    "    elif cell_type == \"code\" and source:\n",
    "        code_block = (\n",
    "f\"\"\"```{{{programming_language}}}\n",
    "{''.join(source)}\n",
    "```\\n\\n\"\"\"\n",
    "        )\n",
    "        \n",
    "        file_text += code_block + \"\\n\\n\"\n",
    "        \n",
    "        \n",
    "with open(\"converted_notebook.Rmd\", \"w\", encoding = \"UTF-8\") as file:\n",
    "    file.write(file_text)"
   ]
  }
 ],
 "metadata": {
  "kernelspec": {
   "display_name": "Python 3.10.12 64-bit",
   "language": "python",
   "name": "python3"
  },
  "language_info": {
   "codemirror_mode": {
    "name": "ipython",
    "version": 3
   },
   "file_extension": ".py",
   "mimetype": "text/x-python",
   "name": "python",
   "nbconvert_exporter": "python",
   "pygments_lexer": "ipython3",
   "version": "3.10.12"
  },
  "orig_nbformat": 4,
  "vscode": {
   "interpreter": {
    "hash": "916dbcbb3f70747c44a77c7bcd40155683ae19c65e1c03b4aa3499c5328201f1"
   }
  }
 },
 "nbformat": 4,
 "nbformat_minor": 2
}
