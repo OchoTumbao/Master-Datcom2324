{
 "cells": [
  {
   "cell_type": "markdown",
   "metadata": {},
   "source": [
    "Descargate el dataset Hip con el siguiente comando"
   ]
  },
  {
   "cell_type": "code",
   "execution_count": 15,
   "metadata": {
    "vscode": {
     "languageId": "r"
    }
   },
   "outputs": [],
   "source": [
    "hip  <-read.table(\"HIP_star.dat\", header=T,fill=T)\n",
    "hip<-tibble(hip)"
   ]
  },
  {
   "cell_type": "markdown",
   "metadata": {},
   "source": [
    "* Una vez descargado comprueba la dimensión y los nombres de las columnas del dataset. ¿Qué dimensión tiene? ¿qué tipo de datos alberga? (e.g. 4 variables numéricas continuas)"
   ]
  },
  {
   "cell_type": "code",
   "execution_count": 31,
   "metadata": {
    "vscode": {
     "languageId": "r"
    }
   },
   "outputs": [],
   "source": [
    "library(tidyverse)\n",
    "library(ggplot2)"
   ]
  },
  {
   "cell_type": "code",
   "execution_count": 16,
   "metadata": {
    "vscode": {
     "languageId": "r"
    }
   },
   "outputs": [
    {
     "data": {
      "text/html": [
       "<style>\n",
       ".list-inline {list-style: none; margin:0; padding: 0}\n",
       ".list-inline>li {display: inline-block}\n",
       ".list-inline>li:not(:last-child)::after {content: \"\\00b7\"; padding: 0 .5ex}\n",
       "</style>\n",
       "<ol class=list-inline><li>2719</li><li>9</li></ol>\n"
      ],
      "text/latex": [
       "\\begin{enumerate*}\n",
       "\\item 2719\n",
       "\\item 9\n",
       "\\end{enumerate*}\n"
      ],
      "text/markdown": [
       "1. 2719\n",
       "2. 9\n",
       "\n",
       "\n"
      ],
      "text/plain": [
       "[1] 2719    9"
      ]
     },
     "metadata": {},
     "output_type": "display_data"
    },
    {
     "name": "stdout",
     "output_type": "stream",
     "text": [
      "tibble [2,719 × 9] (S3: tbl_df/tbl/data.frame)\n",
      " $ HIP  : int [1:2719] 2 38 47 54 74 81 110 135 143 149 ...\n",
      " $ Vmag : num [1:2719] 9.27 8.65 10.78 10.57 9.93 ...\n",
      " $ RA   : num [1:2719] 0.0038 0.111 0.1352 0.1517 0.2219 ...\n",
      " $ DE   : num [1:2719] -19.5 -79.1 -56.8 18 35.8 ...\n",
      " $ Plx  : num [1:2719] 21.9 23.8 24.4 21 24.2 ...\n",
      " $ pmRA : num [1:2719] 181.2 162.3 -44.2 367.1 157.7 ...\n",
      " $ pmDE : num [1:2719] -0.93 -62.4 -145.9 -19.49 -40.31 ...\n",
      " $ e_Plx: num [1:2719] 3.1 0.78 1.97 1.71 1.36 1.28 1.91 1.22 1.64 2.17 ...\n",
      " $ B.V  : num [1:2719] 0.999 0.778 1.15 1.03 1.068 ...\n"
     ]
    }
   ],
   "source": [
    "dim(hip)\n",
    "str(hip)"
   ]
  },
  {
   "cell_type": "markdown",
   "metadata": {},
   "source": [
    "Tenemos un dataset con 9 variables, todas de ellas escalares 8 de ellas continuas y 1 de ellas discretas"
   ]
  },
  {
   "cell_type": "markdown",
   "metadata": {},
   "source": [
    "* Calcula las tendencias centrales de todos los datos del dataset"
   ]
  },
  {
   "cell_type": "code",
   "execution_count": 24,
   "metadata": {
    "vscode": {
     "languageId": "r"
    }
   },
   "outputs": [
    {
     "data": {
      "text/html": [
       "<table class=\"dataframe\">\n",
       "<caption>A tibble: 1 × 9</caption>\n",
       "<thead>\n",
       "\t<tr><th scope=col>HIP</th><th scope=col>Vmag</th><th scope=col>RA</th><th scope=col>DE</th><th scope=col>Plx</th><th scope=col>pmRA</th><th scope=col>pmDE</th><th scope=col>e_Plx</th><th scope=col>B.V</th></tr>\n",
       "\t<tr><th scope=col>&lt;dbl&gt;</th><th scope=col>&lt;dbl&gt;</th><th scope=col>&lt;dbl&gt;</th><th scope=col>&lt;dbl&gt;</th><th scope=col>&lt;dbl&gt;</th><th scope=col>&lt;dbl&gt;</th><th scope=col>&lt;dbl&gt;</th><th scope=col>&lt;dbl&gt;</th><th scope=col>&lt;dbl&gt;</th></tr>\n",
       "</thead>\n",
       "<tbody>\n",
       "\t<tr><td>56549.48</td><td>8.259386</td><td>173.453</td><td>-0.1397663</td><td>22.19802</td><td>5.376135</td><td>-63.94199</td><td>1.626793</td><td>NA</td></tr>\n",
       "</tbody>\n",
       "</table>\n"
      ],
      "text/latex": [
       "A tibble: 1 × 9\n",
       "\\begin{tabular}{lllllllll}\n",
       " HIP & Vmag & RA & DE & Plx & pmRA & pmDE & e\\_Plx & B.V\\\\\n",
       " <dbl> & <dbl> & <dbl> & <dbl> & <dbl> & <dbl> & <dbl> & <dbl> & <dbl>\\\\\n",
       "\\hline\n",
       "\t 56549.48 & 8.259386 & 173.453 & -0.1397663 & 22.19802 & 5.376135 & -63.94199 & 1.626793 & NA\\\\\n",
       "\\end{tabular}\n"
      ],
      "text/markdown": [
       "\n",
       "A tibble: 1 × 9\n",
       "\n",
       "| HIP &lt;dbl&gt; | Vmag &lt;dbl&gt; | RA &lt;dbl&gt; | DE &lt;dbl&gt; | Plx &lt;dbl&gt; | pmRA &lt;dbl&gt; | pmDE &lt;dbl&gt; | e_Plx &lt;dbl&gt; | B.V &lt;dbl&gt; |\n",
       "|---|---|---|---|---|---|---|---|---|\n",
       "| 56549.48 | 8.259386 | 173.453 | -0.1397663 | 22.19802 | 5.376135 | -63.94199 | 1.626793 | NA |\n",
       "\n"
      ],
      "text/plain": [
       "  HIP      Vmag     RA      DE         Plx      pmRA     pmDE      e_Plx    B.V\n",
       "1 56549.48 8.259386 173.453 -0.1397663 22.19802 5.376135 -63.94199 1.626793 NA "
      ]
     },
     "metadata": {},
     "output_type": "display_data"
    },
    {
     "data": {
      "text/html": [
       "<table class=\"dataframe\">\n",
       "<caption>A tibble: 1 × 9</caption>\n",
       "<thead>\n",
       "\t<tr><th scope=col>HIP</th><th scope=col>Vmag</th><th scope=col>RA</th><th scope=col>DE</th><th scope=col>Plx</th><th scope=col>pmRA</th><th scope=col>pmDE</th><th scope=col>e_Plx</th><th scope=col>B.V</th></tr>\n",
       "\t<tr><th scope=col>&lt;int&gt;</th><th scope=col>&lt;dbl&gt;</th><th scope=col>&lt;dbl&gt;</th><th scope=col>&lt;dbl&gt;</th><th scope=col>&lt;dbl&gt;</th><th scope=col>&lt;dbl&gt;</th><th scope=col>&lt;dbl&gt;</th><th scope=col>&lt;dbl&gt;</th><th scope=col>&lt;dbl&gt;</th></tr>\n",
       "</thead>\n",
       "<tbody>\n",
       "\t<tr><td>56413</td><td>8.28</td><td>173.3698</td><td>3.254234</td><td>22.1</td><td>10.55</td><td>-49.48</td><td>1.14</td><td>NA</td></tr>\n",
       "</tbody>\n",
       "</table>\n"
      ],
      "text/latex": [
       "A tibble: 1 × 9\n",
       "\\begin{tabular}{lllllllll}\n",
       " HIP & Vmag & RA & DE & Plx & pmRA & pmDE & e\\_Plx & B.V\\\\\n",
       " <int> & <dbl> & <dbl> & <dbl> & <dbl> & <dbl> & <dbl> & <dbl> & <dbl>\\\\\n",
       "\\hline\n",
       "\t 56413 & 8.28 & 173.3698 & 3.254234 & 22.1 & 10.55 & -49.48 & 1.14 & NA\\\\\n",
       "\\end{tabular}\n"
      ],
      "text/markdown": [
       "\n",
       "A tibble: 1 × 9\n",
       "\n",
       "| HIP &lt;int&gt; | Vmag &lt;dbl&gt; | RA &lt;dbl&gt; | DE &lt;dbl&gt; | Plx &lt;dbl&gt; | pmRA &lt;dbl&gt; | pmDE &lt;dbl&gt; | e_Plx &lt;dbl&gt; | B.V &lt;dbl&gt; |\n",
       "|---|---|---|---|---|---|---|---|---|\n",
       "| 56413 | 8.28 | 173.3698 | 3.254234 | 22.1 | 10.55 | -49.48 | 1.14 | NA |\n",
       "\n"
      ],
      "text/plain": [
       "  HIP   Vmag RA       DE       Plx  pmRA  pmDE   e_Plx B.V\n",
       "1 56413 8.28 173.3698 3.254234 22.1 10.55 -49.48 1.14  NA "
      ]
     },
     "metadata": {},
     "output_type": "display_data"
    }
   ],
   "source": [
    "hip %>% map_df(mean)\n",
    "hip %>% map_df(median)"
   ]
  },
  {
   "cell_type": "markdown",
   "metadata": {},
   "source": [
    "* Haz lo mismo para las medidas de dispersión mínimo y máximo. ¿Seria posible hacerlo con un único comando?. ¿Que hace la función range()?"
   ]
  },
  {
   "cell_type": "code",
   "execution_count": 25,
   "metadata": {
    "vscode": {
     "languageId": "r"
    }
   },
   "outputs": [
    {
     "data": {
      "text/html": [
       "<table class=\"dataframe\">\n",
       "<caption>A tibble: 2 × 9</caption>\n",
       "<thead>\n",
       "\t<tr><th scope=col>HIP</th><th scope=col>Vmag</th><th scope=col>RA</th><th scope=col>DE</th><th scope=col>Plx</th><th scope=col>pmRA</th><th scope=col>pmDE</th><th scope=col>e_Plx</th><th scope=col>B.V</th></tr>\n",
       "\t<tr><th scope=col>&lt;int&gt;</th><th scope=col>&lt;dbl&gt;</th><th scope=col>&lt;dbl&gt;</th><th scope=col>&lt;dbl&gt;</th><th scope=col>&lt;dbl&gt;</th><th scope=col>&lt;dbl&gt;</th><th scope=col>&lt;dbl&gt;</th><th scope=col>&lt;dbl&gt;</th><th scope=col>&lt;dbl&gt;</th></tr>\n",
       "</thead>\n",
       "<tbody>\n",
       "\t<tr><td>     2</td><td> 0.45</td><td>  0.003797</td><td>-87.20273</td><td>20</td><td>-868.01</td><td>-1392.30</td><td> 0.45</td><td>NA</td></tr>\n",
       "\t<tr><td>120003</td><td>12.74</td><td>359.954685</td><td> 88.30268</td><td>25</td><td> 781.34</td><td>  481.19</td><td>46.91</td><td>NA</td></tr>\n",
       "</tbody>\n",
       "</table>\n"
      ],
      "text/latex": [
       "A tibble: 2 × 9\n",
       "\\begin{tabular}{lllllllll}\n",
       " HIP & Vmag & RA & DE & Plx & pmRA & pmDE & e\\_Plx & B.V\\\\\n",
       " <int> & <dbl> & <dbl> & <dbl> & <dbl> & <dbl> & <dbl> & <dbl> & <dbl>\\\\\n",
       "\\hline\n",
       "\t      2 &  0.45 &   0.003797 & -87.20273 & 20 & -868.01 & -1392.30 &  0.45 & NA\\\\\n",
       "\t 120003 & 12.74 & 359.954685 &  88.30268 & 25 &  781.34 &   481.19 & 46.91 & NA\\\\\n",
       "\\end{tabular}\n"
      ],
      "text/markdown": [
       "\n",
       "A tibble: 2 × 9\n",
       "\n",
       "| HIP &lt;int&gt; | Vmag &lt;dbl&gt; | RA &lt;dbl&gt; | DE &lt;dbl&gt; | Plx &lt;dbl&gt; | pmRA &lt;dbl&gt; | pmDE &lt;dbl&gt; | e_Plx &lt;dbl&gt; | B.V &lt;dbl&gt; |\n",
       "|---|---|---|---|---|---|---|---|---|\n",
       "|      2 |  0.45 |   0.003797 | -87.20273 | 20 | -868.01 | -1392.30 |  0.45 | NA |\n",
       "| 120003 | 12.74 | 359.954685 |  88.30268 | 25 |  781.34 |   481.19 | 46.91 | NA |\n",
       "\n"
      ],
      "text/plain": [
       "  HIP    Vmag  RA         DE        Plx pmRA    pmDE     e_Plx B.V\n",
       "1      2  0.45   0.003797 -87.20273 20  -868.01 -1392.30  0.45 NA \n",
       "2 120003 12.74 359.954685  88.30268 25   781.34   481.19 46.91 NA "
      ]
     },
     "metadata": {},
     "output_type": "display_data"
    }
   ],
   "source": [
    "hip %>% map_df(range)"
   ]
  },
  {
   "cell_type": "markdown",
   "metadata": {},
   "source": [
    "* Sin embargo las medidas mas populares de dispersión son la varianza (var()), su desviación standard (sd()) y la desviación absoluta de la mediana mad(). Calcula estas medidas para los valores de la variable RA"
   ]
  },
  {
   "cell_type": "code",
   "execution_count": 28,
   "metadata": {
    "vscode": {
     "languageId": "r"
    }
   },
   "outputs": [
    {
     "data": {
      "text/html": [
       "<table class=\"dataframe\">\n",
       "<caption>A tibble: 1 × 1</caption>\n",
       "<thead>\n",
       "\t<tr><th scope=col>var(RA, na.rm = T)</th></tr>\n",
       "\t<tr><th scope=col>&lt;dbl&gt;</th></tr>\n",
       "</thead>\n",
       "<tbody>\n",
       "\t<tr><td>11566.32</td></tr>\n",
       "</tbody>\n",
       "</table>\n"
      ],
      "text/latex": [
       "A tibble: 1 × 1\n",
       "\\begin{tabular}{l}\n",
       " var(RA, na.rm = T)\\\\\n",
       " <dbl>\\\\\n",
       "\\hline\n",
       "\t 11566.32\\\\\n",
       "\\end{tabular}\n"
      ],
      "text/markdown": [
       "\n",
       "A tibble: 1 × 1\n",
       "\n",
       "| var(RA, na.rm = T) &lt;dbl&gt; |\n",
       "|---|\n",
       "| 11566.32 |\n",
       "\n"
      ],
      "text/plain": [
       "  var(RA, na.rm = T)\n",
       "1 11566.32          "
      ]
     },
     "metadata": {},
     "output_type": "display_data"
    }
   ],
   "source": [
    "hip %>% summarise(var(RA,na.rm=T))"
   ]
  },
  {
   "cell_type": "markdown",
   "metadata": {},
   "source": [
    "Haciendo todo de forma seria y buena"
   ]
  },
  {
   "cell_type": "code",
   "execution_count": 29,
   "metadata": {
    "vscode": {
     "languageId": "r"
    }
   },
   "outputs": [
    {
     "data": {
      "text/html": [
       "<table class=\"dataframe\">\n",
       "<caption>A tibble: 1 × 27</caption>\n",
       "<thead>\n",
       "\t<tr><th scope=col>HIP_vari</th><th scope=col>HIP_desvest</th><th scope=col>HIP_med_abs</th><th scope=col>Vmag_vari</th><th scope=col>Vmag_desvest</th><th scope=col>Vmag_med_abs</th><th scope=col>RA_vari</th><th scope=col>RA_desvest</th><th scope=col>RA_med_abs</th><th scope=col>DE_vari</th><th scope=col>⋯</th><th scope=col>pmRA_med_abs</th><th scope=col>pmDE_vari</th><th scope=col>pmDE_desvest</th><th scope=col>pmDE_med_abs</th><th scope=col>e_Plx_vari</th><th scope=col>e_Plx_desvest</th><th scope=col>e_Plx_med_abs</th><th scope=col>B.V_vari</th><th scope=col>B.V_desvest</th><th scope=col>B.V_med_abs</th></tr>\n",
       "\t<tr><th scope=col>&lt;dbl&gt;</th><th scope=col>&lt;dbl&gt;</th><th scope=col>&lt;dbl&gt;</th><th scope=col>&lt;dbl&gt;</th><th scope=col>&lt;dbl&gt;</th><th scope=col>&lt;dbl&gt;</th><th scope=col>&lt;dbl&gt;</th><th scope=col>&lt;dbl&gt;</th><th scope=col>&lt;dbl&gt;</th><th scope=col>&lt;dbl&gt;</th><th scope=col>⋯</th><th scope=col>&lt;dbl&gt;</th><th scope=col>&lt;dbl&gt;</th><th scope=col>&lt;dbl&gt;</th><th scope=col>&lt;dbl&gt;</th><th scope=col>&lt;dbl&gt;</th><th scope=col>&lt;dbl&gt;</th><th scope=col>&lt;dbl&gt;</th><th scope=col>&lt;dbl&gt;</th><th scope=col>&lt;dbl&gt;</th><th scope=col>&lt;dbl&gt;</th></tr>\n",
       "</thead>\n",
       "<tbody>\n",
       "\t<tr><td>1266456357</td><td>35587.31</td><td>49090.37</td><td>3.552207</td><td>1.88473</td><td>1.882902</td><td>11566.32</td><td>107.5468</td><td>146.9334</td><td>1515.575</td><td>⋯</td><td>141.6476</td><td>19850.11</td><td>140.8904</td><td>99.49729</td><td>4.896779</td><td>2.212867</td><td>0.489258</td><td>NA</td><td>NA</td><td>NA</td></tr>\n",
       "</tbody>\n",
       "</table>\n"
      ],
      "text/latex": [
       "A tibble: 1 × 27\n",
       "\\begin{tabular}{lllllllllllllllllllll}\n",
       " HIP\\_vari & HIP\\_desvest & HIP\\_med\\_abs & Vmag\\_vari & Vmag\\_desvest & Vmag\\_med\\_abs & RA\\_vari & RA\\_desvest & RA\\_med\\_abs & DE\\_vari & ⋯ & pmRA\\_med\\_abs & pmDE\\_vari & pmDE\\_desvest & pmDE\\_med\\_abs & e\\_Plx\\_vari & e\\_Plx\\_desvest & e\\_Plx\\_med\\_abs & B.V\\_vari & B.V\\_desvest & B.V\\_med\\_abs\\\\\n",
       " <dbl> & <dbl> & <dbl> & <dbl> & <dbl> & <dbl> & <dbl> & <dbl> & <dbl> & <dbl> & ⋯ & <dbl> & <dbl> & <dbl> & <dbl> & <dbl> & <dbl> & <dbl> & <dbl> & <dbl> & <dbl>\\\\\n",
       "\\hline\n",
       "\t 1266456357 & 35587.31 & 49090.37 & 3.552207 & 1.88473 & 1.882902 & 11566.32 & 107.5468 & 146.9334 & 1515.575 & ⋯ & 141.6476 & 19850.11 & 140.8904 & 99.49729 & 4.896779 & 2.212867 & 0.489258 & NA & NA & NA\\\\\n",
       "\\end{tabular}\n"
      ],
      "text/markdown": [
       "\n",
       "A tibble: 1 × 27\n",
       "\n",
       "| HIP_vari &lt;dbl&gt; | HIP_desvest &lt;dbl&gt; | HIP_med_abs &lt;dbl&gt; | Vmag_vari &lt;dbl&gt; | Vmag_desvest &lt;dbl&gt; | Vmag_med_abs &lt;dbl&gt; | RA_vari &lt;dbl&gt; | RA_desvest &lt;dbl&gt; | RA_med_abs &lt;dbl&gt; | DE_vari &lt;dbl&gt; | ⋯ ⋯ | pmRA_med_abs &lt;dbl&gt; | pmDE_vari &lt;dbl&gt; | pmDE_desvest &lt;dbl&gt; | pmDE_med_abs &lt;dbl&gt; | e_Plx_vari &lt;dbl&gt; | e_Plx_desvest &lt;dbl&gt; | e_Plx_med_abs &lt;dbl&gt; | B.V_vari &lt;dbl&gt; | B.V_desvest &lt;dbl&gt; | B.V_med_abs &lt;dbl&gt; |\n",
       "|---|---|---|---|---|---|---|---|---|---|---|---|---|---|---|---|---|---|---|---|---|\n",
       "| 1266456357 | 35587.31 | 49090.37 | 3.552207 | 1.88473 | 1.882902 | 11566.32 | 107.5468 | 146.9334 | 1515.575 | ⋯ | 141.6476 | 19850.11 | 140.8904 | 99.49729 | 4.896779 | 2.212867 | 0.489258 | NA | NA | NA |\n",
       "\n"
      ],
      "text/plain": [
       "  HIP_vari   HIP_desvest HIP_med_abs Vmag_vari Vmag_desvest Vmag_med_abs\n",
       "1 1266456357 35587.31    49090.37    3.552207  1.88473      1.882902    \n",
       "  RA_vari  RA_desvest RA_med_abs DE_vari  ⋯ pmRA_med_abs pmDE_vari pmDE_desvest\n",
       "1 11566.32 107.5468   146.9334   1515.575 ⋯ 141.6476     19850.11  140.8904    \n",
       "  pmDE_med_abs e_Plx_vari e_Plx_desvest e_Plx_med_abs B.V_vari B.V_desvest\n",
       "1 99.49729     4.896779   2.212867      0.489258      NA       NA         \n",
       "  B.V_med_abs\n",
       "1 NA         "
      ]
     },
     "metadata": {},
     "output_type": "display_data"
    }
   ],
   "source": [
    "hip %>%\n",
    "    summarise(across(where(is.numeric),\n",
    "                     list(vari=var,\n",
    "                          desvest=sd,med_abs=mad)))"
   ]
  },
  {
   "cell_type": "markdown",
   "metadata": {},
   "source": [
    "* Vamos a medir la dispersión de la muestra utilizando el concepto de cuartiles. El percentil 90 es aquel dato que excede en un 10% a todos los demás datos. El cuartil (quantile) es el mismo concento, solo que habla de proporciones en vez de porcentajes. De forma que el percentil 90 es lo mismo que el cuartil 0.90. La mediana “median” de un dataset es el valor más central, en otras palabras exactamente la mitad del dataset excede la media. Calcula el cuartil .10 y .50 para la columna RA del dataset hip. Sugerencia: quantile()"
   ]
  },
  {
   "cell_type": "code",
   "execution_count": 30,
   "metadata": {
    "vscode": {
     "languageId": "r"
    }
   },
   "outputs": [
    {
     "data": {
      "text/html": [
       "<style>\n",
       ".dl-inline {width: auto; margin:0; padding: 0}\n",
       ".dl-inline>dt, .dl-inline>dd {float: none; width: auto; display: inline-block}\n",
       ".dl-inline>dt::after {content: \":\\0020\"; padding-right: .5ex}\n",
       ".dl-inline>dt:not(:first-of-type) {padding-left: .5ex}\n",
       "</style><dl class=dl-inline><dt>0%</dt><dd>0.003797</dd><dt>25%</dt><dd>70.141368</dd><dt>50%</dt><dd>173.369788</dd><dt>75%</dt><dd>266.923319</dd><dt>100%</dt><dd>359.954685</dd></dl>\n"
      ],
      "text/latex": [
       "\\begin{description*}\n",
       "\\item[0\\textbackslash{}\\%] 0.003797\n",
       "\\item[25\\textbackslash{}\\%] 70.141368\n",
       "\\item[50\\textbackslash{}\\%] 173.369788\n",
       "\\item[75\\textbackslash{}\\%] 266.923319\n",
       "\\item[100\\textbackslash{}\\%] 359.954685\n",
       "\\end{description*}\n"
      ],
      "text/markdown": [
       "0%\n",
       ":   0.00379725%\n",
       ":   70.14136850%\n",
       ":   173.36978875%\n",
       ":   266.923319100%\n",
       ":   359.954685\n",
       "\n"
      ],
      "text/plain": [
       "        0%        25%        50%        75%       100% \n",
       "  0.003797  70.141368 173.369788 266.923319 359.954685 "
      ]
     },
     "metadata": {},
     "output_type": "display_data"
    }
   ],
   "source": [
    "hip$RA %>% quantile()"
   ]
  },
  {
   "cell_type": "markdown",
   "metadata": {},
   "source": [
    "* Haz un scaatterplot de RA y pmRA ¿Ves algun patron?"
   ]
  },
  {
   "cell_type": "code",
   "execution_count": null,
   "metadata": {
    "vscode": {
     "languageId": "r"
    }
   },
   "outputs": [],
   "source": [
    "hip %>% ggplot(mapping(aes(x=)))"
   ]
  }
 ],
 "metadata": {
  "kernelspec": {
   "display_name": "R",
   "language": "R",
   "name": "ir"
  },
  "language_info": {
   "codemirror_mode": "r",
   "file_extension": ".r",
   "mimetype": "text/x-r-source",
   "name": "R",
   "pygments_lexer": "r",
   "version": "4.3.1"
  },
  "orig_nbformat": 4,
  "vscode": {
   "interpreter": {
    "hash": "916dbcbb3f70747c44a77c7bcd40155683ae19c65e1c03b4aa3499c5328201f1"
   }
  }
 },
 "nbformat": 4,
 "nbformat_minor": 2
}
