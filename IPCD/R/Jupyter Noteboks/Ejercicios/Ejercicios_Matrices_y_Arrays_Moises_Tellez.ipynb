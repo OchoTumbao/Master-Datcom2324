{
 "cells": [
  {
   "cell_type": "markdown",
   "metadata": {},
   "source": [
    "### Ejercicios matrices y arrays\n",
    "1) Dada la siguiente matrix:\n",
    "<pre>laberinto <- matrix(c(\n",
    "   \"O\", \"X\", \"O\", \"O\", \"O\",\n",
    "   \"O\", \"X\", \"X\", \"X\", \"O\",\n",
    "   \"O\", \"O\", \"O\", \"O\", \"X\",\n",
    "   \"X\", \"X\", \"X\", \"O\", \"X\",\n",
    "   \"O\", \"O\", \"O\", \"O\", \"O\"\n",
    " ), nrow = 5, byrow = TRUE)</pre>"
   ]
  },
  {
   "cell_type": "code",
   "execution_count": 4,
   "metadata": {
    "vscode": {
     "languageId": "r"
    }
   },
   "outputs": [],
   "source": [
    "laberinto <- matrix(c(\n",
    "   \"O\", \"X\", \"O\", \"O\", \"O\",\n",
    "   \"O\", \"X\", \"X\", \"X\", \"O\",\n",
    "   \"O\", \"O\", \"O\", \"O\", \"X\",\n",
    "   \"X\", \"X\", \"X\", \"O\", \"X\",\n",
    "   \"O\", \"O\", \"O\", \"O\", \"O\"\n",
    " ), nrow = 5, byrow = TRUE)"
   ]
  },
  {
   "cell_type": "markdown",
   "metadata": {},
   "source": [
    "* Indique donde están las \"X\" usando la función which"
   ]
  },
  {
   "cell_type": "code",
   "execution_count": 5,
   "metadata": {
    "vscode": {
     "languageId": "r"
    }
   },
   "outputs": [
    {
     "data": {
      "text/html": [
       "<style>\n",
       ".list-inline {list-style: none; margin:0; padding: 0}\n",
       ".list-inline>li {display: inline-block}\n",
       ".list-inline>li:not(:last-child)::after {content: \"\\00b7\"; padding: 0 .5ex}\n",
       "</style>\n",
       "<ol class=list-inline><li>4</li><li>6</li><li>7</li><li>9</li><li>12</li><li>14</li><li>17</li><li>23</li><li>24</li></ol>\n"
      ],
      "text/latex": [
       "\\begin{enumerate*}\n",
       "\\item 4\n",
       "\\item 6\n",
       "\\item 7\n",
       "\\item 9\n",
       "\\item 12\n",
       "\\item 14\n",
       "\\item 17\n",
       "\\item 23\n",
       "\\item 24\n",
       "\\end{enumerate*}\n"
      ],
      "text/markdown": [
       "1. 4\n",
       "2. 6\n",
       "3. 7\n",
       "4. 9\n",
       "5. 12\n",
       "6. 14\n",
       "7. 17\n",
       "8. 23\n",
       "9. 24\n",
       "\n",
       "\n"
      ],
      "text/plain": [
       "[1]  4  6  7  9 12 14 17 23 24"
      ]
     },
     "metadata": {},
     "output_type": "display_data"
    }
   ],
   "source": [
    "which(laberinto==\"X\")"
   ]
  },
  {
   "cell_type": "markdown",
   "metadata": {},
   "source": [
    "* Indique donde están las \"X\" usando la función which pero usando el parámetro arr.ind\n"
   ]
  },
  {
   "cell_type": "code",
   "execution_count": 6,
   "metadata": {
    "vscode": {
     "languageId": "r"
    }
   },
   "outputs": [
    {
     "data": {
      "text/html": [
       "<table class=\"dataframe\">\n",
       "<caption>A matrix: 9 × 2 of type int</caption>\n",
       "<thead>\n",
       "\t<tr><th scope=col>row</th><th scope=col>col</th></tr>\n",
       "</thead>\n",
       "<tbody>\n",
       "\t<tr><td>4</td><td>1</td></tr>\n",
       "\t<tr><td>1</td><td>2</td></tr>\n",
       "\t<tr><td>2</td><td>2</td></tr>\n",
       "\t<tr><td>4</td><td>2</td></tr>\n",
       "\t<tr><td>2</td><td>3</td></tr>\n",
       "\t<tr><td>4</td><td>3</td></tr>\n",
       "\t<tr><td>2</td><td>4</td></tr>\n",
       "\t<tr><td>3</td><td>5</td></tr>\n",
       "\t<tr><td>4</td><td>5</td></tr>\n",
       "</tbody>\n",
       "</table>\n"
      ],
      "text/latex": [
       "A matrix: 9 × 2 of type int\n",
       "\\begin{tabular}{ll}\n",
       " row & col\\\\\n",
       "\\hline\n",
       "\t 4 & 1\\\\\n",
       "\t 1 & 2\\\\\n",
       "\t 2 & 2\\\\\n",
       "\t 4 & 2\\\\\n",
       "\t 2 & 3\\\\\n",
       "\t 4 & 3\\\\\n",
       "\t 2 & 4\\\\\n",
       "\t 3 & 5\\\\\n",
       "\t 4 & 5\\\\\n",
       "\\end{tabular}\n"
      ],
      "text/markdown": [
       "\n",
       "A matrix: 9 × 2 of type int\n",
       "\n",
       "| row | col |\n",
       "|---|---|\n",
       "| 4 | 1 |\n",
       "| 1 | 2 |\n",
       "| 2 | 2 |\n",
       "| 4 | 2 |\n",
       "| 2 | 3 |\n",
       "| 4 | 3 |\n",
       "| 2 | 4 |\n",
       "| 3 | 5 |\n",
       "| 4 | 5 |\n",
       "\n"
      ],
      "text/plain": [
       "      row col\n",
       " [1,] 4   1  \n",
       " [2,] 1   2  \n",
       " [3,] 2   2  \n",
       " [4,] 4   2  \n",
       " [5,] 2   3  \n",
       " [6,] 4   3  \n",
       " [7,] 2   4  \n",
       " [8,] 3   5  \n",
       " [9,] 4   5  "
      ]
     },
     "metadata": {},
     "output_type": "display_data"
    }
   ],
   "source": [
    "which(laberinto==\"X\",arr.ind = TRUE)\n"
   ]
  },
  {
   "cell_type": "markdown",
   "metadata": {},
   "source": [
    "* Indique cuantos valores 1 hay en la matriz\n"
   ]
  },
  {
   "cell_type": "code",
   "execution_count": 7,
   "metadata": {
    "vscode": {
     "languageId": "r"
    }
   },
   "outputs": [
    {
     "data": {
      "text/html": [
       "0"
      ],
      "text/latex": [
       "0"
      ],
      "text/markdown": [
       "0"
      ],
      "text/plain": [
       "[1] 0"
      ]
     },
     "metadata": {},
     "output_type": "display_data"
    }
   ],
   "source": [
    "length(which(laberinto==1))\n"
   ]
  },
  {
   "cell_type": "markdown",
   "metadata": {},
   "source": [
    "* Reemplace las \"X\" por 1 y los \"O\" por 0 y convierta la matrix en una matrix numérica\n"
   ]
  },
  {
   "cell_type": "code",
   "execution_count": 8,
   "metadata": {
    "vscode": {
     "languageId": "r"
    }
   },
   "outputs": [
    {
     "name": "stdout",
     "output_type": "stream",
     "text": [
      "     [,1] [,2] [,3] [,4] [,5]\n",
      "[1,]    0    1    0    0    0\n",
      "[2,]    0    1    1    1    0\n",
      "[3,]    0    0    0    0    1\n",
      "[4,]    1    1    1    0    1\n",
      "[5,]    0    0    0    0    0\n"
     ]
    }
   ],
   "source": [
    "laberinto[laberinto==\"X\"] <- 1\n",
    "laberinto[laberinto==\"O\"] <- 0\n",
    "laberinto <- as.numeric(laberinto)\n",
    "dim(laberinto) <- c(5,5)\n",
    "print(laberinto)"
   ]
  },
  {
   "cell_type": "markdown",
   "metadata": {},
   "source": [
    "* Indique si la matrix es simétrica\n"
   ]
  },
  {
   "cell_type": "code",
   "execution_count": 9,
   "metadata": {
    "vscode": {
     "languageId": "r"
    }
   },
   "outputs": [
    {
     "data": {
      "text/html": [
       "FALSE"
      ],
      "text/latex": [
       "FALSE"
      ],
      "text/markdown": [
       "FALSE"
      ],
      "text/plain": [
       "[1] FALSE"
      ]
     },
     "metadata": {},
     "output_type": "display_data"
    }
   ],
   "source": [
    "isSymmetric(laberinto)"
   ]
  },
  {
   "cell_type": "markdown",
   "metadata": {},
   "source": [
    "* Cree una nueva matrix con los valores en las filas y columnas pares \n"
   ]
  },
  {
   "cell_type": "code",
   "execution_count": 10,
   "metadata": {
    "vscode": {
     "languageId": "r"
    }
   },
   "outputs": [
    {
     "name": "stdout",
     "output_type": "stream",
     "text": [
      "     [,1] [,2] [,3] [,4] [,5]\n",
      "[1,]    0    0    0    0    0\n",
      "[2,]    0    1    0    1    0\n",
      "[3,]    0    0    0    0    0\n",
      "[4,]    0    1    0    1    0\n",
      "[5,]    0    0    0    0    0\n"
     ]
    }
   ],
   "source": [
    "laberinto_pares<-matrix(data=0,nrow=5,ncol=5)\n",
    "laberinto_pares[seq(2,dim(laberinto_pares)[1],2),seq(2,dim(laberinto_pares)[2],2)] <- 1\n",
    "print(laberinto_pares)"
   ]
  },
  {
   "cell_type": "markdown",
   "metadata": {},
   "source": [
    "* Indique cuantos valores 1 hay en la matriz\n"
   ]
  },
  {
   "cell_type": "code",
   "execution_count": 11,
   "metadata": {
    "vscode": {
     "languageId": "r"
    }
   },
   "outputs": [
    {
     "data": {
      "text/html": [
       "4"
      ],
      "text/latex": [
       "4"
      ],
      "text/markdown": [
       "4"
      ],
      "text/plain": [
       "[1] 4"
      ]
     },
     "metadata": {},
     "output_type": "display_data"
    }
   ],
   "source": [
    "length(which(laberinto_pares==1))\n"
   ]
  },
  {
   "cell_type": "markdown",
   "metadata": {},
   "source": [
    "2. Crea una matriz que represente un Sudoku. Debe estar inicializada en NA. Luego rellenar solo un 10% de las casillas con un valor entre 1 y 9 (HINT: usa la función sample). No se preocupe de que sea un esquema válido (se pueden repetir valores en una fila por ejemplo... eso ya lo haremos más adelante...)"
   ]
  },
  {
   "cell_type": "code",
   "execution_count": 12,
   "metadata": {
    "vscode": {
     "languageId": "r"
    }
   },
   "outputs": [
    {
     "name": "stdout",
     "output_type": "stream",
     "text": [
      "      [,1] [,2] [,3] [,4] [,5] [,6] [,7] [,8] [,9]\n",
      " [1,]   NA   NA   NA   NA   NA   NA   NA   NA   NA\n",
      " [2,]   NA   NA    7   NA   NA    4   NA   NA   NA\n",
      " [3,]   NA   NA   NA   NA   NA   NA   NA   NA   NA\n",
      " [4,]   NA   NA   NA   NA    7   NA   NA    4   NA\n",
      " [5,]   NA   NA    5   NA   NA   NA   NA   NA   NA\n",
      " [6,]   NA   NA    4   NA   NA   NA   NA   NA   NA\n",
      " [7,]   NA    9   NA   NA   NA   NA   NA   NA    3\n",
      " [8,]   NA   NA   NA   NA   NA   NA   NA   NA   NA\n",
      " [9,]   NA   NA   NA   NA   NA   NA   NA   NA   NA\n"
     ]
    }
   ],
   "source": [
    "sudoku <- matrix(NA,nrow = 9,ncol = 9)\n",
    "sudoku[sample(length(sudoku),length(sudoku)*0.10)] <- sample(1:9,length(sudoku)*0.10,replace=T)\n",
    "print(sudoku)"
   ]
  },
  {
   "cell_type": "markdown",
   "metadata": {},
   "source": [
    "3. Teniendo estas dos matrices:\n",
    "\n",
    "matriz <- matrix(sample(1:9, 30,replace=TRUE), nrow=5)\n",
    "\n",
    "mascara <- matrix(sample(c(TRUE,FALSE), 30, replace=TRUE), nrow=5)"
   ]
  },
  {
   "cell_type": "code",
   "execution_count": 13,
   "metadata": {
    "vscode": {
     "languageId": "r"
    }
   },
   "outputs": [],
   "source": [
    "matriz <- matrix(sample(1:9, 30,replace=TRUE), nrow=5)\n",
    "\n",
    "mascara <- matrix(sample(c(TRUE,FALSE), 30, replace=TRUE), nrow=5)"
   ]
  },
  {
   "cell_type": "markdown",
   "metadata": {},
   "source": [
    "* Aplique la máscara a la matrix, en donde si la posicion en la máscara es FALSE entonces el resultado es 0 y sino se mantiene su valor\n"
   ]
  },
  {
   "cell_type": "code",
   "execution_count": 14,
   "metadata": {
    "vscode": {
     "languageId": "r"
    }
   },
   "outputs": [
    {
     "name": "stdout",
     "output_type": "stream",
     "text": [
      "     [,1] [,2] [,3] [,4] [,5] [,6]\n",
      "[1,]    0    5    0    0    0    0\n",
      "[2,]    7    0    0    7    9    0\n",
      "[3,]    0    7    3    9    2    8\n",
      "[4,]    7    2    0    6    4    0\n",
      "[5,]    7    2    0    3    0    0\n",
      "     [,1] [,2] [,3] [,4] [,5] [,6]\n",
      "[1,]    5    5    1    9    4    6\n",
      "[2,]    7    8    9    7    9    3\n",
      "[3,]    6    7    3    9    2    8\n",
      "[4,]    7    2    6    6    4    3\n",
      "[5,]    7    2    8    3    7    4\n"
     ]
    }
   ],
   "source": [
    "matriz_original <- matriz\n",
    "matriz[mascara == FALSE] <- 0\n",
    "print(matriz)\n",
    "print(matriz_original)"
   ]
  },
  {
   "cell_type": "markdown",
   "metadata": {},
   "source": [
    "* Calcule el producto de la matriz original por la matriz modificada traspuesta (NOTA: la matriz final será de 5x5)"
   ]
  },
  {
   "cell_type": "code",
   "execution_count": 15,
   "metadata": {
    "vscode": {
     "languageId": "r"
    }
   },
   "outputs": [
    {
     "name": "stdout",
     "output_type": "stream",
     "text": [
      "     [,1] [,2] [,3] [,4] [,5]\n",
      "[1,]   25  134  175  115   72\n",
      "[2,]   40  179  188  143   86\n",
      "[3,]   35  123  207  118   83\n",
      "[4,]   10  127  118  105   71\n",
      "[5,]   10  133  111   99   62\n"
     ]
    }
   ],
   "source": [
    "ej3 <- matriz_original %*% t(matriz)\n",
    "print(ej3)"
   ]
  },
  {
   "cell_type": "markdown",
   "metadata": {},
   "source": [
    "4. Crea un array 5D llamado \"mi_array5D\" con las siguientes características, rellénalo con números enteros consecutivos comenzando desde 1:\n",
    "    - Tamaño de la primera dimensión: 2 elementos\n",
    "    - Tamaño de la segunda dimensión: 3 elementos\n",
    "    - Tamaño de la tercera dimensión: 4 elementos\n",
    "    - Tamaño de la cuarta dimensión: 5 elementos\n",
    "    - Tamaño de la quinta dimensión: 6 elementos\n"
   ]
  },
  {
   "cell_type": "code",
   "execution_count": 16,
   "metadata": {
    "vscode": {
     "languageId": "r"
    }
   },
   "outputs": [
    {
     "name": "stdout",
     "output_type": "stream",
     "text": [
      "[1] 720\n"
     ]
    }
   ],
   "source": [
    "ej4 <- array(1:(2*3*4*5*6),dim=c(2,3,4,5,6))\n",
    "print(length(ej4))"
   ]
  },
  {
   "cell_type": "markdown",
   "metadata": {},
   "source": [
    " Accede a los siguientes elementos del array:\n",
    " \n",
    "- los elementos pares (analice la posicion de esos valores en las 5 dimensiones)"
   ]
  },
  {
   "cell_type": "code",
   "execution_count": 17,
   "metadata": {
    "vscode": {
     "languageId": "r"
    }
   },
   "outputs": [
    {
     "name": "stdout",
     "output_type": "stream",
     "text": [
      "  [1]   2   4   6   8  10  12  14  16  18  20  22  24  26  28  30  32  34  36\n",
      " [19]  38  40  42  44  46  48  50  52  54  56  58  60  62  64  66  68  70  72\n",
      " [37]  74  76  78  80  82  84  86  88  90  92  94  96  98 100 102 104 106 108\n",
      " [55] 110 112 114 116 118 120 122 124 126 128 130 132 134 136 138 140 142 144\n",
      " [73] 146 148 150 152 154 156 158 160 162 164 166 168 170 172 174 176 178 180\n",
      " [91] 182 184 186 188 190 192 194 196 198 200 202 204 206 208 210 212 214 216\n",
      "[109] 218 220 222 224 226 228 230 232 234 236 238 240 242 244 246 248 250 252\n",
      "[127] 254 256 258 260 262 264 266 268 270 272 274 276 278 280 282 284 286 288\n",
      "[145] 290 292 294 296 298 300 302 304 306 308 310 312 314 316 318 320 322 324\n",
      "[163] 326 328 330 332 334 336 338 340 342 344 346 348 350 352 354 356 358 360\n",
      "[181] 362 364 366 368 370 372 374 376 378 380 382 384 386 388 390 392 394 396\n",
      "[199] 398 400 402 404 406 408 410 412 414 416 418 420 422 424 426 428 430 432\n",
      "[217] 434 436 438 440 442 444 446 448 450 452 454 456 458 460 462 464 466 468\n",
      "[235] 470 472 474 476 478 480 482 484 486 488 490 492 494 496 498 500 502 504\n",
      "[253] 506 508 510 512 514 516 518 520 522 524 526 528 530 532 534 536 538 540\n",
      "[271] 542 544 546 548 550 552 554 556 558 560 562 564 566 568 570 572 574 576\n",
      "[289] 578 580 582 584 586 588 590 592 594 596 598 600 602 604 606 608 610 612\n",
      "[307] 614 616 618 620 622 624 626 628 630 632 634 636 638 640 642 644 646 648\n",
      "[325] 650 652 654 656 658 660 662 664 666 668 670 672 674 676 678 680 682 684\n",
      "[343] 686 688 690 692 694 696 698 700 702 704 706 708 710 712 714 716 718 720\n",
      "  [1]   2   4   6   8  10  12  14  16  18  20  22  24  26  28  30  32  34  36\n",
      " [19]  38  40  42  44  46  48  50  52  54  56  58  60  62  64  66  68  70  72\n",
      " [37]  74  76  78  80  82  84  86  88  90  92  94  96  98 100 102 104 106 108\n",
      " [55] 110 112 114 116 118 120 122 124 126 128 130 132 134 136 138 140 142 144\n",
      " [73] 146 148 150 152 154 156 158 160 162 164 166 168 170 172 174 176 178 180\n",
      " [91] 182 184 186 188 190 192 194 196 198 200 202 204 206 208 210 212 214 216\n",
      "[109] 218 220 222 224 226 228 230 232 234 236 238 240 242 244 246 248 250 252\n",
      "[127] 254 256 258 260 262 264 266 268 270 272 274 276 278 280 282 284 286 288\n",
      "[145] 290 292 294 296 298 300 302 304 306 308 310 312 314 316 318 320 322 324\n",
      "[163] 326 328 330 332 334 336 338 340 342 344 346 348 350 352 354 356 358 360\n",
      "[181] 362 364 366 368 370 372 374 376 378 380 382 384 386 388 390 392 394 396\n",
      "[199] 398 400 402 404 406 408 410 412 414 416 418 420 422 424 426 428 430 432\n",
      "[217] 434 436 438 440 442 444 446 448 450 452 454 456 458 460 462 464 466 468\n",
      "[235] 470 472 474 476 478 480 482 484 486 488 490 492 494 496 498 500 502 504\n",
      "[253] 506 508 510 512 514 516 518 520 522 524 526 528 530 532 534 536 538 540\n",
      "[271] 542 544 546 548 550 552 554 556 558 560 562 564 566 568 570 572 574 576\n",
      "[289] 578 580 582 584 586 588 590 592 594 596 598 600 602 604 606 608 610 612\n",
      "[307] 614 616 618 620 622 624 626 628 630 632 634 636 638 640 642 644 646 648\n",
      "[325] 650 652 654 656 658 660 662 664 666 668 670 672 674 676 678 680 682 684\n",
      "[343] 686 688 690 692 694 696 698 700 702 704 706 708 710 712 714 716 718 720\n"
     ]
    }
   ],
   "source": [
    "print(ej4[ej4 %% 2 == 0])\n",
    "print(which(ej4 %% 2 == 0))"
   ]
  },
  {
   "cell_type": "markdown",
   "metadata": {},
   "source": [
    "Podemos ver que como son numeros consecutivos en las posiciones absolutas del array los indices coinciden con el valor. Por tanto\n",
    "\n",
    " - estudiando el caso anterior muestre los elementos impares sin usar ningun tipo de condicional, igualdad o desigualdad\n"
   ]
  },
  {
   "cell_type": "code",
   "execution_count": 18,
   "metadata": {
    "vscode": {
     "languageId": "r"
    }
   },
   "outputs": [
    {
     "data": {
      "text/html": [
       "<style>\n",
       ".list-inline {list-style: none; margin:0; padding: 0}\n",
       ".list-inline>li {display: inline-block}\n",
       ".list-inline>li:not(:last-child)::after {content: \"\\00b7\"; padding: 0 .5ex}\n",
       "</style>\n",
       "<ol class=list-inline><li>1</li><li>3</li><li>5</li><li>7</li><li>9</li><li>11</li><li>13</li><li>15</li><li>17</li><li>19</li><li>21</li><li>23</li><li>25</li><li>27</li><li>29</li><li>31</li><li>33</li><li>35</li><li>37</li><li>39</li><li>41</li><li>43</li><li>45</li><li>47</li><li>49</li><li>51</li><li>53</li><li>55</li><li>57</li><li>59</li><li>61</li><li>63</li><li>65</li><li>67</li><li>69</li><li>71</li><li>73</li><li>75</li><li>77</li><li>79</li><li>81</li><li>83</li><li>85</li><li>87</li><li>89</li><li>91</li><li>93</li><li>95</li><li>97</li><li>99</li><li>101</li><li>103</li><li>105</li><li>107</li><li>109</li><li>111</li><li>113</li><li>115</li><li>117</li><li>119</li><li>121</li><li>123</li><li>125</li><li>127</li><li>129</li><li>131</li><li>133</li><li>135</li><li>137</li><li>139</li><li>141</li><li>143</li><li>145</li><li>147</li><li>149</li><li>151</li><li>153</li><li>155</li><li>157</li><li>159</li><li>161</li><li>163</li><li>165</li><li>167</li><li>169</li><li>171</li><li>173</li><li>175</li><li>177</li><li>179</li><li>181</li><li>183</li><li>185</li><li>187</li><li>189</li><li>191</li><li>193</li><li>195</li><li>197</li><li>199</li><li>201</li><li>203</li><li>205</li><li>207</li><li>209</li><li>211</li><li>213</li><li>215</li><li>217</li><li>219</li><li>221</li><li>223</li><li>225</li><li>227</li><li>229</li><li>231</li><li>233</li><li>235</li><li>237</li><li>239</li><li>241</li><li>243</li><li>245</li><li>247</li><li>249</li><li>251</li><li>253</li><li>255</li><li>257</li><li>259</li><li>261</li><li>263</li><li>265</li><li>267</li><li>269</li><li>271</li><li>273</li><li>275</li><li>277</li><li>279</li><li>281</li><li>283</li><li>285</li><li>287</li><li>289</li><li>291</li><li>293</li><li>295</li><li>297</li><li>299</li><li>301</li><li>303</li><li>305</li><li>307</li><li>309</li><li>311</li><li>313</li><li>315</li><li>317</li><li>319</li><li>321</li><li>323</li><li>325</li><li>327</li><li>329</li><li>331</li><li>333</li><li>335</li><li>337</li><li>339</li><li>341</li><li>343</li><li>345</li><li>347</li><li>349</li><li>351</li><li>353</li><li>355</li><li>357</li><li>359</li><li>361</li><li>363</li><li>365</li><li>367</li><li>369</li><li>371</li><li>373</li><li>375</li><li>377</li><li>379</li><li>381</li><li>383</li><li>385</li><li>387</li><li>389</li><li>391</li><li>393</li><li>395</li><li>397</li><li>399</li><li>401</li><li>403</li><li>405</li><li>407</li><li>409</li><li>411</li><li>413</li><li>415</li><li>417</li><li>419</li><li>421</li><li>423</li><li>425</li><li>427</li><li>429</li><li>431</li><li>433</li><li>435</li><li>437</li><li>439</li><li>441</li><li>443</li><li>445</li><li>447</li><li>449</li><li>451</li><li>453</li><li>455</li><li>457</li><li>459</li><li>461</li><li>463</li><li>465</li><li>467</li><li>469</li><li>471</li><li>473</li><li>475</li><li>477</li><li>479</li><li>481</li><li>483</li><li>485</li><li>487</li><li>489</li><li>491</li><li>493</li><li>495</li><li>497</li><li>499</li><li>501</li><li>503</li><li>505</li><li>507</li><li>509</li><li>511</li><li>513</li><li>515</li><li>517</li><li>519</li><li>521</li><li>523</li><li>525</li><li>527</li><li>529</li><li>531</li><li>533</li><li>535</li><li>537</li><li>539</li><li>541</li><li>543</li><li>545</li><li>547</li><li>549</li><li>551</li><li>553</li><li>555</li><li>557</li><li>559</li><li>561</li><li>563</li><li>565</li><li>567</li><li>569</li><li>571</li><li>573</li><li>575</li><li>577</li><li>579</li><li>581</li><li>583</li><li>585</li><li>587</li><li>589</li><li>591</li><li>593</li><li>595</li><li>597</li><li>599</li><li>601</li><li>603</li><li>605</li><li>607</li><li>609</li><li>611</li><li>613</li><li>615</li><li>617</li><li>619</li><li>621</li><li>623</li><li>625</li><li>627</li><li>629</li><li>631</li><li>633</li><li>635</li><li>637</li><li>639</li><li>641</li><li>643</li><li>645</li><li>647</li><li>649</li><li>651</li><li>653</li><li>655</li><li>657</li><li>659</li><li>661</li><li>663</li><li>665</li><li>667</li><li>669</li><li>671</li><li>673</li><li>675</li><li>677</li><li>679</li><li>681</li><li>683</li><li>685</li><li>687</li><li>689</li><li>691</li><li>693</li><li>695</li><li>697</li><li>699</li><li>701</li><li>703</li><li>705</li><li>707</li><li>709</li><li>711</li><li>713</li><li>715</li><li>717</li><li>719</li></ol>\n"
      ],
      "text/latex": [
       "\\begin{enumerate*}\n",
       "\\item 1\n",
       "\\item 3\n",
       "\\item 5\n",
       "\\item 7\n",
       "\\item 9\n",
       "\\item 11\n",
       "\\item 13\n",
       "\\item 15\n",
       "\\item 17\n",
       "\\item 19\n",
       "\\item 21\n",
       "\\item 23\n",
       "\\item 25\n",
       "\\item 27\n",
       "\\item 29\n",
       "\\item 31\n",
       "\\item 33\n",
       "\\item 35\n",
       "\\item 37\n",
       "\\item 39\n",
       "\\item 41\n",
       "\\item 43\n",
       "\\item 45\n",
       "\\item 47\n",
       "\\item 49\n",
       "\\item 51\n",
       "\\item 53\n",
       "\\item 55\n",
       "\\item 57\n",
       "\\item 59\n",
       "\\item 61\n",
       "\\item 63\n",
       "\\item 65\n",
       "\\item 67\n",
       "\\item 69\n",
       "\\item 71\n",
       "\\item 73\n",
       "\\item 75\n",
       "\\item 77\n",
       "\\item 79\n",
       "\\item 81\n",
       "\\item 83\n",
       "\\item 85\n",
       "\\item 87\n",
       "\\item 89\n",
       "\\item 91\n",
       "\\item 93\n",
       "\\item 95\n",
       "\\item 97\n",
       "\\item 99\n",
       "\\item 101\n",
       "\\item 103\n",
       "\\item 105\n",
       "\\item 107\n",
       "\\item 109\n",
       "\\item 111\n",
       "\\item 113\n",
       "\\item 115\n",
       "\\item 117\n",
       "\\item 119\n",
       "\\item 121\n",
       "\\item 123\n",
       "\\item 125\n",
       "\\item 127\n",
       "\\item 129\n",
       "\\item 131\n",
       "\\item 133\n",
       "\\item 135\n",
       "\\item 137\n",
       "\\item 139\n",
       "\\item 141\n",
       "\\item 143\n",
       "\\item 145\n",
       "\\item 147\n",
       "\\item 149\n",
       "\\item 151\n",
       "\\item 153\n",
       "\\item 155\n",
       "\\item 157\n",
       "\\item 159\n",
       "\\item 161\n",
       "\\item 163\n",
       "\\item 165\n",
       "\\item 167\n",
       "\\item 169\n",
       "\\item 171\n",
       "\\item 173\n",
       "\\item 175\n",
       "\\item 177\n",
       "\\item 179\n",
       "\\item 181\n",
       "\\item 183\n",
       "\\item 185\n",
       "\\item 187\n",
       "\\item 189\n",
       "\\item 191\n",
       "\\item 193\n",
       "\\item 195\n",
       "\\item 197\n",
       "\\item 199\n",
       "\\item 201\n",
       "\\item 203\n",
       "\\item 205\n",
       "\\item 207\n",
       "\\item 209\n",
       "\\item 211\n",
       "\\item 213\n",
       "\\item 215\n",
       "\\item 217\n",
       "\\item 219\n",
       "\\item 221\n",
       "\\item 223\n",
       "\\item 225\n",
       "\\item 227\n",
       "\\item 229\n",
       "\\item 231\n",
       "\\item 233\n",
       "\\item 235\n",
       "\\item 237\n",
       "\\item 239\n",
       "\\item 241\n",
       "\\item 243\n",
       "\\item 245\n",
       "\\item 247\n",
       "\\item 249\n",
       "\\item 251\n",
       "\\item 253\n",
       "\\item 255\n",
       "\\item 257\n",
       "\\item 259\n",
       "\\item 261\n",
       "\\item 263\n",
       "\\item 265\n",
       "\\item 267\n",
       "\\item 269\n",
       "\\item 271\n",
       "\\item 273\n",
       "\\item 275\n",
       "\\item 277\n",
       "\\item 279\n",
       "\\item 281\n",
       "\\item 283\n",
       "\\item 285\n",
       "\\item 287\n",
       "\\item 289\n",
       "\\item 291\n",
       "\\item 293\n",
       "\\item 295\n",
       "\\item 297\n",
       "\\item 299\n",
       "\\item 301\n",
       "\\item 303\n",
       "\\item 305\n",
       "\\item 307\n",
       "\\item 309\n",
       "\\item 311\n",
       "\\item 313\n",
       "\\item 315\n",
       "\\item 317\n",
       "\\item 319\n",
       "\\item 321\n",
       "\\item 323\n",
       "\\item 325\n",
       "\\item 327\n",
       "\\item 329\n",
       "\\item 331\n",
       "\\item 333\n",
       "\\item 335\n",
       "\\item 337\n",
       "\\item 339\n",
       "\\item 341\n",
       "\\item 343\n",
       "\\item 345\n",
       "\\item 347\n",
       "\\item 349\n",
       "\\item 351\n",
       "\\item 353\n",
       "\\item 355\n",
       "\\item 357\n",
       "\\item 359\n",
       "\\item 361\n",
       "\\item 363\n",
       "\\item 365\n",
       "\\item 367\n",
       "\\item 369\n",
       "\\item 371\n",
       "\\item 373\n",
       "\\item 375\n",
       "\\item 377\n",
       "\\item 379\n",
       "\\item 381\n",
       "\\item 383\n",
       "\\item 385\n",
       "\\item 387\n",
       "\\item 389\n",
       "\\item 391\n",
       "\\item 393\n",
       "\\item 395\n",
       "\\item 397\n",
       "\\item 399\n",
       "\\item 401\n",
       "\\item 403\n",
       "\\item 405\n",
       "\\item 407\n",
       "\\item 409\n",
       "\\item 411\n",
       "\\item 413\n",
       "\\item 415\n",
       "\\item 417\n",
       "\\item 419\n",
       "\\item 421\n",
       "\\item 423\n",
       "\\item 425\n",
       "\\item 427\n",
       "\\item 429\n",
       "\\item 431\n",
       "\\item 433\n",
       "\\item 435\n",
       "\\item 437\n",
       "\\item 439\n",
       "\\item 441\n",
       "\\item 443\n",
       "\\item 445\n",
       "\\item 447\n",
       "\\item 449\n",
       "\\item 451\n",
       "\\item 453\n",
       "\\item 455\n",
       "\\item 457\n",
       "\\item 459\n",
       "\\item 461\n",
       "\\item 463\n",
       "\\item 465\n",
       "\\item 467\n",
       "\\item 469\n",
       "\\item 471\n",
       "\\item 473\n",
       "\\item 475\n",
       "\\item 477\n",
       "\\item 479\n",
       "\\item 481\n",
       "\\item 483\n",
       "\\item 485\n",
       "\\item 487\n",
       "\\item 489\n",
       "\\item 491\n",
       "\\item 493\n",
       "\\item 495\n",
       "\\item 497\n",
       "\\item 499\n",
       "\\item 501\n",
       "\\item 503\n",
       "\\item 505\n",
       "\\item 507\n",
       "\\item 509\n",
       "\\item 511\n",
       "\\item 513\n",
       "\\item 515\n",
       "\\item 517\n",
       "\\item 519\n",
       "\\item 521\n",
       "\\item 523\n",
       "\\item 525\n",
       "\\item 527\n",
       "\\item 529\n",
       "\\item 531\n",
       "\\item 533\n",
       "\\item 535\n",
       "\\item 537\n",
       "\\item 539\n",
       "\\item 541\n",
       "\\item 543\n",
       "\\item 545\n",
       "\\item 547\n",
       "\\item 549\n",
       "\\item 551\n",
       "\\item 553\n",
       "\\item 555\n",
       "\\item 557\n",
       "\\item 559\n",
       "\\item 561\n",
       "\\item 563\n",
       "\\item 565\n",
       "\\item 567\n",
       "\\item 569\n",
       "\\item 571\n",
       "\\item 573\n",
       "\\item 575\n",
       "\\item 577\n",
       "\\item 579\n",
       "\\item 581\n",
       "\\item 583\n",
       "\\item 585\n",
       "\\item 587\n",
       "\\item 589\n",
       "\\item 591\n",
       "\\item 593\n",
       "\\item 595\n",
       "\\item 597\n",
       "\\item 599\n",
       "\\item 601\n",
       "\\item 603\n",
       "\\item 605\n",
       "\\item 607\n",
       "\\item 609\n",
       "\\item 611\n",
       "\\item 613\n",
       "\\item 615\n",
       "\\item 617\n",
       "\\item 619\n",
       "\\item 621\n",
       "\\item 623\n",
       "\\item 625\n",
       "\\item 627\n",
       "\\item 629\n",
       "\\item 631\n",
       "\\item 633\n",
       "\\item 635\n",
       "\\item 637\n",
       "\\item 639\n",
       "\\item 641\n",
       "\\item 643\n",
       "\\item 645\n",
       "\\item 647\n",
       "\\item 649\n",
       "\\item 651\n",
       "\\item 653\n",
       "\\item 655\n",
       "\\item 657\n",
       "\\item 659\n",
       "\\item 661\n",
       "\\item 663\n",
       "\\item 665\n",
       "\\item 667\n",
       "\\item 669\n",
       "\\item 671\n",
       "\\item 673\n",
       "\\item 675\n",
       "\\item 677\n",
       "\\item 679\n",
       "\\item 681\n",
       "\\item 683\n",
       "\\item 685\n",
       "\\item 687\n",
       "\\item 689\n",
       "\\item 691\n",
       "\\item 693\n",
       "\\item 695\n",
       "\\item 697\n",
       "\\item 699\n",
       "\\item 701\n",
       "\\item 703\n",
       "\\item 705\n",
       "\\item 707\n",
       "\\item 709\n",
       "\\item 711\n",
       "\\item 713\n",
       "\\item 715\n",
       "\\item 717\n",
       "\\item 719\n",
       "\\end{enumerate*}\n"
      ],
      "text/markdown": [
       "1. 1\n",
       "2. 3\n",
       "3. 5\n",
       "4. 7\n",
       "5. 9\n",
       "6. 11\n",
       "7. 13\n",
       "8. 15\n",
       "9. 17\n",
       "10. 19\n",
       "11. 21\n",
       "12. 23\n",
       "13. 25\n",
       "14. 27\n",
       "15. 29\n",
       "16. 31\n",
       "17. 33\n",
       "18. 35\n",
       "19. 37\n",
       "20. 39\n",
       "21. 41\n",
       "22. 43\n",
       "23. 45\n",
       "24. 47\n",
       "25. 49\n",
       "26. 51\n",
       "27. 53\n",
       "28. 55\n",
       "29. 57\n",
       "30. 59\n",
       "31. 61\n",
       "32. 63\n",
       "33. 65\n",
       "34. 67\n",
       "35. 69\n",
       "36. 71\n",
       "37. 73\n",
       "38. 75\n",
       "39. 77\n",
       "40. 79\n",
       "41. 81\n",
       "42. 83\n",
       "43. 85\n",
       "44. 87\n",
       "45. 89\n",
       "46. 91\n",
       "47. 93\n",
       "48. 95\n",
       "49. 97\n",
       "50. 99\n",
       "51. 101\n",
       "52. 103\n",
       "53. 105\n",
       "54. 107\n",
       "55. 109\n",
       "56. 111\n",
       "57. 113\n",
       "58. 115\n",
       "59. 117\n",
       "60. 119\n",
       "61. 121\n",
       "62. 123\n",
       "63. 125\n",
       "64. 127\n",
       "65. 129\n",
       "66. 131\n",
       "67. 133\n",
       "68. 135\n",
       "69. 137\n",
       "70. 139\n",
       "71. 141\n",
       "72. 143\n",
       "73. 145\n",
       "74. 147\n",
       "75. 149\n",
       "76. 151\n",
       "77. 153\n",
       "78. 155\n",
       "79. 157\n",
       "80. 159\n",
       "81. 161\n",
       "82. 163\n",
       "83. 165\n",
       "84. 167\n",
       "85. 169\n",
       "86. 171\n",
       "87. 173\n",
       "88. 175\n",
       "89. 177\n",
       "90. 179\n",
       "91. 181\n",
       "92. 183\n",
       "93. 185\n",
       "94. 187\n",
       "95. 189\n",
       "96. 191\n",
       "97. 193\n",
       "98. 195\n",
       "99. 197\n",
       "100. 199\n",
       "101. 201\n",
       "102. 203\n",
       "103. 205\n",
       "104. 207\n",
       "105. 209\n",
       "106. 211\n",
       "107. 213\n",
       "108. 215\n",
       "109. 217\n",
       "110. 219\n",
       "111. 221\n",
       "112. 223\n",
       "113. 225\n",
       "114. 227\n",
       "115. 229\n",
       "116. 231\n",
       "117. 233\n",
       "118. 235\n",
       "119. 237\n",
       "120. 239\n",
       "121. 241\n",
       "122. 243\n",
       "123. 245\n",
       "124. 247\n",
       "125. 249\n",
       "126. 251\n",
       "127. 253\n",
       "128. 255\n",
       "129. 257\n",
       "130. 259\n",
       "131. 261\n",
       "132. 263\n",
       "133. 265\n",
       "134. 267\n",
       "135. 269\n",
       "136. 271\n",
       "137. 273\n",
       "138. 275\n",
       "139. 277\n",
       "140. 279\n",
       "141. 281\n",
       "142. 283\n",
       "143. 285\n",
       "144. 287\n",
       "145. 289\n",
       "146. 291\n",
       "147. 293\n",
       "148. 295\n",
       "149. 297\n",
       "150. 299\n",
       "151. 301\n",
       "152. 303\n",
       "153. 305\n",
       "154. 307\n",
       "155. 309\n",
       "156. 311\n",
       "157. 313\n",
       "158. 315\n",
       "159. 317\n",
       "160. 319\n",
       "161. 321\n",
       "162. 323\n",
       "163. 325\n",
       "164. 327\n",
       "165. 329\n",
       "166. 331\n",
       "167. 333\n",
       "168. 335\n",
       "169. 337\n",
       "170. 339\n",
       "171. 341\n",
       "172. 343\n",
       "173. 345\n",
       "174. 347\n",
       "175. 349\n",
       "176. 351\n",
       "177. 353\n",
       "178. 355\n",
       "179. 357\n",
       "180. 359\n",
       "181. 361\n",
       "182. 363\n",
       "183. 365\n",
       "184. 367\n",
       "185. 369\n",
       "186. 371\n",
       "187. 373\n",
       "188. 375\n",
       "189. 377\n",
       "190. 379\n",
       "191. 381\n",
       "192. 383\n",
       "193. 385\n",
       "194. 387\n",
       "195. 389\n",
       "196. 391\n",
       "197. 393\n",
       "198. 395\n",
       "199. 397\n",
       "200. 399\n",
       "201. 401\n",
       "202. 403\n",
       "203. 405\n",
       "204. 407\n",
       "205. 409\n",
       "206. 411\n",
       "207. 413\n",
       "208. 415\n",
       "209. 417\n",
       "210. 419\n",
       "211. 421\n",
       "212. 423\n",
       "213. 425\n",
       "214. 427\n",
       "215. 429\n",
       "216. 431\n",
       "217. 433\n",
       "218. 435\n",
       "219. 437\n",
       "220. 439\n",
       "221. 441\n",
       "222. 443\n",
       "223. 445\n",
       "224. 447\n",
       "225. 449\n",
       "226. 451\n",
       "227. 453\n",
       "228. 455\n",
       "229. 457\n",
       "230. 459\n",
       "231. 461\n",
       "232. 463\n",
       "233. 465\n",
       "234. 467\n",
       "235. 469\n",
       "236. 471\n",
       "237. 473\n",
       "238. 475\n",
       "239. 477\n",
       "240. 479\n",
       "241. 481\n",
       "242. 483\n",
       "243. 485\n",
       "244. 487\n",
       "245. 489\n",
       "246. 491\n",
       "247. 493\n",
       "248. 495\n",
       "249. 497\n",
       "250. 499\n",
       "251. 501\n",
       "252. 503\n",
       "253. 505\n",
       "254. 507\n",
       "255. 509\n",
       "256. 511\n",
       "257. 513\n",
       "258. 515\n",
       "259. 517\n",
       "260. 519\n",
       "261. 521\n",
       "262. 523\n",
       "263. 525\n",
       "264. 527\n",
       "265. 529\n",
       "266. 531\n",
       "267. 533\n",
       "268. 535\n",
       "269. 537\n",
       "270. 539\n",
       "271. 541\n",
       "272. 543\n",
       "273. 545\n",
       "274. 547\n",
       "275. 549\n",
       "276. 551\n",
       "277. 553\n",
       "278. 555\n",
       "279. 557\n",
       "280. 559\n",
       "281. 561\n",
       "282. 563\n",
       "283. 565\n",
       "284. 567\n",
       "285. 569\n",
       "286. 571\n",
       "287. 573\n",
       "288. 575\n",
       "289. 577\n",
       "290. 579\n",
       "291. 581\n",
       "292. 583\n",
       "293. 585\n",
       "294. 587\n",
       "295. 589\n",
       "296. 591\n",
       "297. 593\n",
       "298. 595\n",
       "299. 597\n",
       "300. 599\n",
       "301. 601\n",
       "302. 603\n",
       "303. 605\n",
       "304. 607\n",
       "305. 609\n",
       "306. 611\n",
       "307. 613\n",
       "308. 615\n",
       "309. 617\n",
       "310. 619\n",
       "311. 621\n",
       "312. 623\n",
       "313. 625\n",
       "314. 627\n",
       "315. 629\n",
       "316. 631\n",
       "317. 633\n",
       "318. 635\n",
       "319. 637\n",
       "320. 639\n",
       "321. 641\n",
       "322. 643\n",
       "323. 645\n",
       "324. 647\n",
       "325. 649\n",
       "326. 651\n",
       "327. 653\n",
       "328. 655\n",
       "329. 657\n",
       "330. 659\n",
       "331. 661\n",
       "332. 663\n",
       "333. 665\n",
       "334. 667\n",
       "335. 669\n",
       "336. 671\n",
       "337. 673\n",
       "338. 675\n",
       "339. 677\n",
       "340. 679\n",
       "341. 681\n",
       "342. 683\n",
       "343. 685\n",
       "344. 687\n",
       "345. 689\n",
       "346. 691\n",
       "347. 693\n",
       "348. 695\n",
       "349. 697\n",
       "350. 699\n",
       "351. 701\n",
       "352. 703\n",
       "353. 705\n",
       "354. 707\n",
       "355. 709\n",
       "356. 711\n",
       "357. 713\n",
       "358. 715\n",
       "359. 717\n",
       "360. 719\n",
       "\n",
       "\n"
      ],
      "text/plain": [
       "  [1]   1   3   5   7   9  11  13  15  17  19  21  23  25  27  29  31  33  35\n",
       " [19]  37  39  41  43  45  47  49  51  53  55  57  59  61  63  65  67  69  71\n",
       " [37]  73  75  77  79  81  83  85  87  89  91  93  95  97  99 101 103 105 107\n",
       " [55] 109 111 113 115 117 119 121 123 125 127 129 131 133 135 137 139 141 143\n",
       " [73] 145 147 149 151 153 155 157 159 161 163 165 167 169 171 173 175 177 179\n",
       " [91] 181 183 185 187 189 191 193 195 197 199 201 203 205 207 209 211 213 215\n",
       "[109] 217 219 221 223 225 227 229 231 233 235 237 239 241 243 245 247 249 251\n",
       "[127] 253 255 257 259 261 263 265 267 269 271 273 275 277 279 281 283 285 287\n",
       "[145] 289 291 293 295 297 299 301 303 305 307 309 311 313 315 317 319 321 323\n",
       "[163] 325 327 329 331 333 335 337 339 341 343 345 347 349 351 353 355 357 359\n",
       "[181] 361 363 365 367 369 371 373 375 377 379 381 383 385 387 389 391 393 395\n",
       "[199] 397 399 401 403 405 407 409 411 413 415 417 419 421 423 425 427 429 431\n",
       "[217] 433 435 437 439 441 443 445 447 449 451 453 455 457 459 461 463 465 467\n",
       "[235] 469 471 473 475 477 479 481 483 485 487 489 491 493 495 497 499 501 503\n",
       "[253] 505 507 509 511 513 515 517 519 521 523 525 527 529 531 533 535 537 539\n",
       "[271] 541 543 545 547 549 551 553 555 557 559 561 563 565 567 569 571 573 575\n",
       "[289] 577 579 581 583 585 587 589 591 593 595 597 599 601 603 605 607 609 611\n",
       "[307] 613 615 617 619 621 623 625 627 629 631 633 635 637 639 641 643 645 647\n",
       "[325] 649 651 653 655 657 659 661 663 665 667 669 671 673 675 677 679 681 683\n",
       "[343] 685 687 689 691 693 695 697 699 701 703 705 707 709 711 713 715 717 719"
      ]
     },
     "metadata": {},
     "output_type": "display_data"
    }
   ],
   "source": [
    "ej4[seq(1,2*3*4*5*6,2)]"
   ]
  },
  {
   "cell_type": "markdown",
   "metadata": {},
   "source": [
    "Redimensiona el array para que tenga:\n",
    "- Tamaño de la primera dimensión: 6 elementos.\n",
    "- Tamaño de la segunda dimensión: 5 elementos.\n",
    "- Tamaño de la tercera dimensión: 4 elementos.\n",
    "- Tamaño de la cuarta dimensión: 3 elementos.\n",
    "- Tamaño de la quinta dimensión: 2 elementos."
   ]
  },
  {
   "cell_type": "code",
   "execution_count": 19,
   "metadata": {
    "vscode": {
     "languageId": "r"
    }
   },
   "outputs": [
    {
     "name": "stdout",
     "output_type": "stream",
     "text": [
      ", , 1, 1, 1\n",
      "\n",
      "     [,1] [,2] [,3] [,4] [,5]\n",
      "[1,]    1    7   13   19   25\n",
      "[2,]    2    8   14   20   26\n",
      "[3,]    3    9   15   21   27\n",
      "[4,]    4   10   16   22   28\n",
      "[5,]    5   11   17   23   29\n",
      "[6,]    6   12   18   24   30\n",
      "\n",
      ", , 2, 1, 1\n",
      "\n",
      "     [,1] [,2] [,3] [,4] [,5]\n",
      "[1,]   31   37   43   49   55\n",
      "[2,]   32   38   44   50   56\n",
      "[3,]   33   39   45   51   57\n",
      "[4,]   34   40   46   52   58\n",
      "[5,]   35   41   47   53   59\n",
      "[6,]   36   42   48   54   60\n",
      "\n",
      ", , 3, 1, 1\n",
      "\n",
      "     [,1] [,2] [,3] [,4] [,5]\n",
      "[1,]   61   67   73   79   85\n",
      "[2,]   62   68   74   80   86\n",
      "[3,]   63   69   75   81   87\n",
      "[4,]   64   70   76   82   88\n",
      "[5,]   65   71   77   83   89\n",
      "[6,]   66   72   78   84   90\n",
      "\n",
      ", , 4, 1, 1\n",
      "\n",
      "     [,1] [,2] [,3] [,4] [,5]\n",
      "[1,]   91   97  103  109  115\n",
      "[2,]   92   98  104  110  116\n",
      "[3,]   93   99  105  111  117\n",
      "[4,]   94  100  106  112  118\n",
      "[5,]   95  101  107  113  119\n",
      "[6,]   96  102  108  114  120\n",
      "\n",
      ", , 1, 2, 1\n",
      "\n",
      "     [,1] [,2] [,3] [,4] [,5]\n",
      "[1,]  121  127  133  139  145\n",
      "[2,]  122  128  134  140  146\n",
      "[3,]  123  129  135  141  147\n",
      "[4,]  124  130  136  142  148\n",
      "[5,]  125  131  137  143  149\n",
      "[6,]  126  132  138  144  150\n",
      "\n",
      ", , 2, 2, 1\n",
      "\n",
      "     [,1] [,2] [,3] [,4] [,5]\n",
      "[1,]  151  157  163  169  175\n",
      "[2,]  152  158  164  170  176\n",
      "[3,]  153  159  165  171  177\n",
      "[4,]  154  160  166  172  178\n",
      "[5,]  155  161  167  173  179\n",
      "[6,]  156  162  168  174  180\n",
      "\n",
      ", , 3, 2, 1\n",
      "\n",
      "     [,1] [,2] [,3] [,4] [,5]\n",
      "[1,]  181  187  193  199  205\n",
      "[2,]  182  188  194  200  206\n",
      "[3,]  183  189  195  201  207\n",
      "[4,]  184  190  196  202  208\n",
      "[5,]  185  191  197  203  209\n",
      "[6,]  186  192  198  204  210\n",
      "\n",
      ", , 4, 2, 1\n",
      "\n",
      "     [,1] [,2] [,3] [,4] [,5]\n",
      "[1,]  211  217  223  229  235\n",
      "[2,]  212  218  224  230  236\n",
      "[3,]  213  219  225  231  237\n",
      "[4,]  214  220  226  232  238\n",
      "[5,]  215  221  227  233  239\n",
      "[6,]  216  222  228  234  240\n",
      "\n",
      ", , 1, 3, 1\n",
      "\n",
      "     [,1] [,2] [,3] [,4] [,5]\n",
      "[1,]  241  247  253  259  265\n",
      "[2,]  242  248  254  260  266\n",
      "[3,]  243  249  255  261  267\n",
      "[4,]  244  250  256  262  268\n",
      "[5,]  245  251  257  263  269\n",
      "[6,]  246  252  258  264  270\n",
      "\n",
      ", , 2, 3, 1\n",
      "\n",
      "     [,1] [,2] [,3] [,4] [,5]\n",
      "[1,]  271  277  283  289  295\n",
      "[2,]  272  278  284  290  296\n",
      "[3,]  273  279  285  291  297\n",
      "[4,]  274  280  286  292  298\n",
      "[5,]  275  281  287  293  299\n",
      "[6,]  276  282  288  294  300\n",
      "\n",
      ", , 3, 3, 1\n",
      "\n",
      "     [,1] [,2] [,3] [,4] [,5]\n",
      "[1,]  301  307  313  319  325\n",
      "[2,]  302  308  314  320  326\n",
      "[3,]  303  309  315  321  327\n",
      "[4,]  304  310  316  322  328\n",
      "[5,]  305  311  317  323  329\n",
      "[6,]  306  312  318  324  330\n",
      "\n",
      ", , 4, 3, 1\n",
      "\n",
      "     [,1] [,2] [,3] [,4] [,5]\n",
      "[1,]  331  337  343  349  355\n",
      "[2,]  332  338  344  350  356\n",
      "[3,]  333  339  345  351  357\n",
      "[4,]  334  340  346  352  358\n",
      "[5,]  335  341  347  353  359\n",
      "[6,]  336  342  348  354  360\n",
      "\n",
      ", , 1, 1, 2\n",
      "\n",
      "     [,1] [,2] [,3] [,4] [,5]\n",
      "[1,]  361  367  373  379  385\n",
      "[2,]  362  368  374  380  386\n",
      "[3,]  363  369  375  381  387\n",
      "[4,]  364  370  376  382  388\n",
      "[5,]  365  371  377  383  389\n",
      "[6,]  366  372  378  384  390\n",
      "\n",
      ", , 2, 1, 2\n",
      "\n",
      "     [,1] [,2] [,3] [,4] [,5]\n",
      "[1,]  391  397  403  409  415\n",
      "[2,]  392  398  404  410  416\n",
      "[3,]  393  399  405  411  417\n",
      "[4,]  394  400  406  412  418\n",
      "[5,]  395  401  407  413  419\n",
      "[6,]  396  402  408  414  420\n",
      "\n",
      ", , 3, 1, 2\n",
      "\n",
      "     [,1] [,2] [,3] [,4] [,5]\n",
      "[1,]  421  427  433  439  445\n",
      "[2,]  422  428  434  440  446\n",
      "[3,]  423  429  435  441  447\n",
      "[4,]  424  430  436  442  448\n",
      "[5,]  425  431  437  443  449\n",
      "[6,]  426  432  438  444  450\n",
      "\n",
      ", , 4, 1, 2\n",
      "\n",
      "     [,1] [,2] [,3] [,4] [,5]\n",
      "[1,]  451  457  463  469  475\n",
      "[2,]  452  458  464  470  476\n",
      "[3,]  453  459  465  471  477\n",
      "[4,]  454  460  466  472  478\n",
      "[5,]  455  461  467  473  479\n",
      "[6,]  456  462  468  474  480\n",
      "\n",
      ", , 1, 2, 2\n",
      "\n",
      "     [,1] [,2] [,3] [,4] [,5]\n",
      "[1,]  481  487  493  499  505\n",
      "[2,]  482  488  494  500  506\n",
      "[3,]  483  489  495  501  507\n",
      "[4,]  484  490  496  502  508\n",
      "[5,]  485  491  497  503  509\n",
      "[6,]  486  492  498  504  510\n",
      "\n",
      ", , 2, 2, 2\n",
      "\n",
      "     [,1] [,2] [,3] [,4] [,5]\n",
      "[1,]  511  517  523  529  535\n",
      "[2,]  512  518  524  530  536\n",
      "[3,]  513  519  525  531  537\n",
      "[4,]  514  520  526  532  538\n",
      "[5,]  515  521  527  533  539\n",
      "[6,]  516  522  528  534  540\n",
      "\n",
      ", , 3, 2, 2\n",
      "\n",
      "     [,1] [,2] [,3] [,4] [,5]\n",
      "[1,]  541  547  553  559  565\n",
      "[2,]  542  548  554  560  566\n",
      "[3,]  543  549  555  561  567\n",
      "[4,]  544  550  556  562  568\n",
      "[5,]  545  551  557  563  569\n",
      "[6,]  546  552  558  564  570\n",
      "\n",
      ", , 4, 2, 2\n",
      "\n",
      "     [,1] [,2] [,3] [,4] [,5]\n",
      "[1,]  571  577  583  589  595\n",
      "[2,]  572  578  584  590  596\n",
      "[3,]  573  579  585  591  597\n",
      "[4,]  574  580  586  592  598\n",
      "[5,]  575  581  587  593  599\n",
      "[6,]  576  582  588  594  600\n",
      "\n",
      ", , 1, 3, 2\n",
      "\n",
      "     [,1] [,2] [,3] [,4] [,5]\n",
      "[1,]  601  607  613  619  625\n",
      "[2,]  602  608  614  620  626\n",
      "[3,]  603  609  615  621  627\n",
      "[4,]  604  610  616  622  628\n",
      "[5,]  605  611  617  623  629\n",
      "[6,]  606  612  618  624  630\n",
      "\n",
      ", , 2, 3, 2\n",
      "\n",
      "     [,1] [,2] [,3] [,4] [,5]\n",
      "[1,]  631  637  643  649  655\n",
      "[2,]  632  638  644  650  656\n",
      "[3,]  633  639  645  651  657\n",
      "[4,]  634  640  646  652  658\n",
      "[5,]  635  641  647  653  659\n",
      "[6,]  636  642  648  654  660\n",
      "\n",
      ", , 3, 3, 2\n",
      "\n",
      "     [,1] [,2] [,3] [,4] [,5]\n",
      "[1,]  661  667  673  679  685\n",
      "[2,]  662  668  674  680  686\n",
      "[3,]  663  669  675  681  687\n",
      "[4,]  664  670  676  682  688\n",
      "[5,]  665  671  677  683  689\n",
      "[6,]  666  672  678  684  690\n",
      "\n",
      ", , 4, 3, 2\n",
      "\n",
      "     [,1] [,2] [,3] [,4] [,5]\n",
      "[1,]  691  697  703  709  715\n",
      "[2,]  692  698  704  710  716\n",
      "[3,]  693  699  705  711  717\n",
      "[4,]  694  700  706  712  718\n",
      "[5,]  695  701  707  713  719\n",
      "[6,]  696  702  708  714  720\n",
      "\n"
     ]
    }
   ],
   "source": [
    "    dim(ej4) <- c(6,5,4,3,2)\n",
    "    print(ej4)"
   ]
  },
  {
   "cell_type": "markdown",
   "metadata": {},
   "source": [
    "5) Supongamos que tenemos un grafo no dirigido con 6 nodos etiquetados del 1 al 6, y las siguientes aristas:\n",
    "    * Arista 1: (1, 2)\n",
    "    * Arista 2: (1, 3)\n",
    "    * Arista 3: (2, 4)\n",
    "    * Arista 4: (2, 5)\n",
    "    * Arista 5: (3, 6)\n",
    "    * Arista 6: (4, 5)\n",
    "    \n",
    "    Crea una matriz de adyacencia \"matriz_adyacencia\" en R para representar este grafo. En una matriz de adyacencia, las filas y columnas representan los nodos, y un valor 1 indica que existe una arista entre los nodos correspondientes, mientras que un valor 0 indica la ausencia de una arista."
   ]
  },
  {
   "cell_type": "code",
   "execution_count": 20,
   "metadata": {
    "vscode": {
     "languageId": "r"
    }
   },
   "outputs": [
    {
     "name": "stdout",
     "output_type": "stream",
     "text": [
      "     [,1] [,2] [,3] [,4] [,5] [,6]\n",
      "[1,]    0    1    1    0    0    0\n",
      "[2,]    1    0    0    1    1    0\n",
      "[3,]    1    0    0    0    0    1\n",
      "[4,]    0    1    0    0    1    0\n",
      "[5,]    0    1    0    1    0    0\n",
      "[6,]    0    0    1    0    0    0\n"
     ]
    }
   ],
   "source": [
    "  ej5 <- matrix(0,nrow=6,ncol=6)\n",
    "  ej5[1,2] <- 1\n",
    "  ej5[1,3] <- 1\n",
    "  ej5[2,1] <- 1\n",
    "  ej5[3,1] <- 1\n",
    "  ej5[2,4] <- 1\n",
    "  ej5[4,2] <- 1\n",
    "  ej5[2,5] <- 1\n",
    "  ej5[5,2] <- 1\n",
    "  ej5[3,6] <- 1\n",
    "  ej5[6,3] <- 1\n",
    "  ej5[4,5] <- 1\n",
    "  ej5[5,4] <- 1\n",
    "  print(ej5)"
   ]
  },
  {
   "cell_type": "markdown",
   "metadata": {},
   "source": [
    "   * Calcula el grado del nodo 4 en el grafo. El grado de un nodo es la cantidad de aristas que inciden en él."
   ]
  },
  {
   "cell_type": "code",
   "execution_count": 21,
   "metadata": {
    "vscode": {
     "languageId": "r"
    }
   },
   "outputs": [
    {
     "data": {
      "text/html": [
       "2"
      ],
      "text/latex": [
       "2"
      ],
      "text/markdown": [
       "2"
      ],
      "text/plain": [
       "[1] 2"
      ]
     },
     "metadata": {},
     "output_type": "display_data"
    }
   ],
   "source": [
    "sum(ej5[4,])"
   ]
  },
  {
   "cell_type": "markdown",
   "metadata": {},
   "source": [
    " * Encuentra todos los nodos adyacentes del nodo 2"
   ]
  },
  {
   "cell_type": "code",
   "execution_count": 22,
   "metadata": {
    "vscode": {
     "languageId": "r"
    }
   },
   "outputs": [
    {
     "data": {
      "text/html": [
       "<style>\n",
       ".list-inline {list-style: none; margin:0; padding: 0}\n",
       ".list-inline>li {display: inline-block}\n",
       ".list-inline>li:not(:last-child)::after {content: \"\\00b7\"; padding: 0 .5ex}\n",
       "</style>\n",
       "<ol class=list-inline><li>1</li><li>4</li><li>5</li></ol>\n"
      ],
      "text/latex": [
       "\\begin{enumerate*}\n",
       "\\item 1\n",
       "\\item 4\n",
       "\\item 5\n",
       "\\end{enumerate*}\n"
      ],
      "text/markdown": [
       "1. 1\n",
       "2. 4\n",
       "3. 5\n",
       "\n",
       "\n"
      ],
      "text/plain": [
       "[1] 1 4 5"
      ]
     },
     "metadata": {},
     "output_type": "display_data"
    }
   ],
   "source": [
    "which(ej5[2,] == 1)"
   ]
  },
  {
   "cell_type": "markdown",
   "metadata": {},
   "source": [
    "* Cuenta la cantidad de nodos que tiene una arista hacia si mismos (self-loop)"
   ]
  },
  {
   "cell_type": "code",
   "execution_count": 23,
   "metadata": {
    "vscode": {
     "languageId": "r"
    }
   },
   "outputs": [
    {
     "data": {
      "text/html": [
       "0"
      ],
      "text/latex": [
       "0"
      ],
      "text/markdown": [
       "0"
      ],
      "text/plain": [
       "[1] 0"
      ]
     },
     "metadata": {},
     "output_type": "display_data"
    }
   ],
   "source": [
    "sum(diag(ej5))"
   ]
  }
 ],
 "metadata": {
  "kernelspec": {
   "display_name": "R",
   "language": "R",
   "name": "ir"
  },
  "language_info": {
   "codemirror_mode": "r",
   "file_extension": ".r",
   "mimetype": "text/x-r-source",
   "name": "R",
   "pygments_lexer": "r",
   "version": "4.3.1"
  },
  "orig_nbformat": 4
 },
 "nbformat": 4,
 "nbformat_minor": 2
}
