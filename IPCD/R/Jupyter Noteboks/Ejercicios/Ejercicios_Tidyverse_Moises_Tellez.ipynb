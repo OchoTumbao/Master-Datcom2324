{
 "cells": [
  {
   "cell_type": "markdown",
   "metadata": {},
   "source": [
    "### Ejercicios Tidyverse\n",
    "\n",
    "1. Utiliza el dataset de `mtcars` y el paquete `tidyverse` para:"
   ]
  },
  {
   "cell_type": "code",
   "execution_count": 1,
   "metadata": {
    "vscode": {
     "languageId": "r"
    }
   },
   "outputs": [
    {
     "name": "stderr",
     "output_type": "stream",
     "text": [
      "── \u001b[1mAttaching core tidyverse packages\u001b[22m ──────────────────────── tidyverse 2.0.0 ──\n",
      "\u001b[32m✔\u001b[39m \u001b[34mdplyr    \u001b[39m 1.1.3     \u001b[32m✔\u001b[39m \u001b[34mreadr    \u001b[39m 2.1.4\n",
      "\u001b[32m✔\u001b[39m \u001b[34mforcats  \u001b[39m 1.0.0     \u001b[32m✔\u001b[39m \u001b[34mstringr  \u001b[39m 1.5.0\n",
      "\u001b[32m✔\u001b[39m \u001b[34mggplot2  \u001b[39m 3.4.3     \u001b[32m✔\u001b[39m \u001b[34mtibble   \u001b[39m 3.2.1\n",
      "\u001b[32m✔\u001b[39m \u001b[34mlubridate\u001b[39m 1.9.3     \u001b[32m✔\u001b[39m \u001b[34mtidyr    \u001b[39m 1.3.0\n",
      "\u001b[32m✔\u001b[39m \u001b[34mpurrr    \u001b[39m 1.0.2     \n",
      "── \u001b[1mConflicts\u001b[22m ────────────────────────────────────────── tidyverse_conflicts() ──\n",
      "\u001b[31m✖\u001b[39m \u001b[34mdplyr\u001b[39m::\u001b[32mfilter()\u001b[39m masks \u001b[34mstats\u001b[39m::filter()\n",
      "\u001b[31m✖\u001b[39m \u001b[34mdplyr\u001b[39m::\u001b[32mlag()\u001b[39m    masks \u001b[34mstats\u001b[39m::lag()\n",
      "\u001b[36mℹ\u001b[39m Use the conflicted package (\u001b[3m\u001b[34m<http://conflicted.r-lib.org/>\u001b[39m\u001b[23m) to force all conflicts to become errors\n"
     ]
    }
   ],
   "source": [
    "library(tidyverse)"
   ]
  },
  {
   "cell_type": "markdown",
   "metadata": {},
   "source": [
    "- Mostrar las 5 primeras filas del dataset"
   ]
  },
  {
   "cell_type": "code",
   "execution_count": 2,
   "metadata": {
    "vscode": {
     "languageId": "r"
    }
   },
   "outputs": [
    {
     "data": {
      "text/html": [
       "<table class=\"dataframe\">\n",
       "<caption>A data.frame: 5 × 11</caption>\n",
       "<thead>\n",
       "\t<tr><th></th><th scope=col>mpg</th><th scope=col>cyl</th><th scope=col>disp</th><th scope=col>hp</th><th scope=col>drat</th><th scope=col>wt</th><th scope=col>qsec</th><th scope=col>vs</th><th scope=col>am</th><th scope=col>gear</th><th scope=col>carb</th></tr>\n",
       "\t<tr><th></th><th scope=col>&lt;dbl&gt;</th><th scope=col>&lt;dbl&gt;</th><th scope=col>&lt;dbl&gt;</th><th scope=col>&lt;dbl&gt;</th><th scope=col>&lt;dbl&gt;</th><th scope=col>&lt;dbl&gt;</th><th scope=col>&lt;dbl&gt;</th><th scope=col>&lt;dbl&gt;</th><th scope=col>&lt;dbl&gt;</th><th scope=col>&lt;dbl&gt;</th><th scope=col>&lt;dbl&gt;</th></tr>\n",
       "</thead>\n",
       "<tbody>\n",
       "\t<tr><th scope=row>Mazda RX4</th><td>21.0</td><td>6</td><td>160</td><td>110</td><td>3.90</td><td>2.620</td><td>16.46</td><td>0</td><td>1</td><td>4</td><td>4</td></tr>\n",
       "\t<tr><th scope=row>Mazda RX4 Wag</th><td>21.0</td><td>6</td><td>160</td><td>110</td><td>3.90</td><td>2.875</td><td>17.02</td><td>0</td><td>1</td><td>4</td><td>4</td></tr>\n",
       "\t<tr><th scope=row>Datsun 710</th><td>22.8</td><td>4</td><td>108</td><td> 93</td><td>3.85</td><td>2.320</td><td>18.61</td><td>1</td><td>1</td><td>4</td><td>1</td></tr>\n",
       "\t<tr><th scope=row>Hornet 4 Drive</th><td>21.4</td><td>6</td><td>258</td><td>110</td><td>3.08</td><td>3.215</td><td>19.44</td><td>1</td><td>0</td><td>3</td><td>1</td></tr>\n",
       "\t<tr><th scope=row>Hornet Sportabout</th><td>18.7</td><td>8</td><td>360</td><td>175</td><td>3.15</td><td>3.440</td><td>17.02</td><td>0</td><td>0</td><td>3</td><td>2</td></tr>\n",
       "</tbody>\n",
       "</table>\n"
      ],
      "text/latex": [
       "A data.frame: 5 × 11\n",
       "\\begin{tabular}{r|lllllllllll}\n",
       "  & mpg & cyl & disp & hp & drat & wt & qsec & vs & am & gear & carb\\\\\n",
       "  & <dbl> & <dbl> & <dbl> & <dbl> & <dbl> & <dbl> & <dbl> & <dbl> & <dbl> & <dbl> & <dbl>\\\\\n",
       "\\hline\n",
       "\tMazda RX4 & 21.0 & 6 & 160 & 110 & 3.90 & 2.620 & 16.46 & 0 & 1 & 4 & 4\\\\\n",
       "\tMazda RX4 Wag & 21.0 & 6 & 160 & 110 & 3.90 & 2.875 & 17.02 & 0 & 1 & 4 & 4\\\\\n",
       "\tDatsun 710 & 22.8 & 4 & 108 &  93 & 3.85 & 2.320 & 18.61 & 1 & 1 & 4 & 1\\\\\n",
       "\tHornet 4 Drive & 21.4 & 6 & 258 & 110 & 3.08 & 3.215 & 19.44 & 1 & 0 & 3 & 1\\\\\n",
       "\tHornet Sportabout & 18.7 & 8 & 360 & 175 & 3.15 & 3.440 & 17.02 & 0 & 0 & 3 & 2\\\\\n",
       "\\end{tabular}\n"
      ],
      "text/markdown": [
       "\n",
       "A data.frame: 5 × 11\n",
       "\n",
       "| <!--/--> | mpg &lt;dbl&gt; | cyl &lt;dbl&gt; | disp &lt;dbl&gt; | hp &lt;dbl&gt; | drat &lt;dbl&gt; | wt &lt;dbl&gt; | qsec &lt;dbl&gt; | vs &lt;dbl&gt; | am &lt;dbl&gt; | gear &lt;dbl&gt; | carb &lt;dbl&gt; |\n",
       "|---|---|---|---|---|---|---|---|---|---|---|---|\n",
       "| Mazda RX4 | 21.0 | 6 | 160 | 110 | 3.90 | 2.620 | 16.46 | 0 | 1 | 4 | 4 |\n",
       "| Mazda RX4 Wag | 21.0 | 6 | 160 | 110 | 3.90 | 2.875 | 17.02 | 0 | 1 | 4 | 4 |\n",
       "| Datsun 710 | 22.8 | 4 | 108 |  93 | 3.85 | 2.320 | 18.61 | 1 | 1 | 4 | 1 |\n",
       "| Hornet 4 Drive | 21.4 | 6 | 258 | 110 | 3.08 | 3.215 | 19.44 | 1 | 0 | 3 | 1 |\n",
       "| Hornet Sportabout | 18.7 | 8 | 360 | 175 | 3.15 | 3.440 | 17.02 | 0 | 0 | 3 | 2 |\n",
       "\n"
      ],
      "text/plain": [
       "                  mpg  cyl disp hp  drat wt    qsec  vs am gear carb\n",
       "Mazda RX4         21.0 6   160  110 3.90 2.620 16.46 0  1  4    4   \n",
       "Mazda RX4 Wag     21.0 6   160  110 3.90 2.875 17.02 0  1  4    4   \n",
       "Datsun 710        22.8 4   108   93 3.85 2.320 18.61 1  1  4    1   \n",
       "Hornet 4 Drive    21.4 6   258  110 3.08 3.215 19.44 1  0  3    1   \n",
       "Hornet Sportabout 18.7 8   360  175 3.15 3.440 17.02 0  0  3    2   "
      ]
     },
     "metadata": {},
     "output_type": "display_data"
    }
   ],
   "source": [
    "mtcars %>% head(5)"
   ]
  },
  {
   "cell_type": "markdown",
   "metadata": {},
   "source": [
    "- Convertir la variables \"cyl\", \"gear\" y \"carb\" en factores y las variables \"vs\" y \"am\" en lógicas, y mostrar la estructura del dataset (usar este dataset transformado de aqui en adelante)"
   ]
  },
  {
   "cell_type": "code",
   "execution_count": 10,
   "metadata": {
    "vscode": {
     "languageId": "r"
    }
   },
   "outputs": [
    {
     "data": {
      "text/html": [
       "<table class=\"dataframe\">\n",
       "<caption>A data.frame: 32 × 11</caption>\n",
       "<thead>\n",
       "\t<tr><th></th><th scope=col>mpg</th><th scope=col>cyl</th><th scope=col>disp</th><th scope=col>hp</th><th scope=col>drat</th><th scope=col>wt</th><th scope=col>qsec</th><th scope=col>vs</th><th scope=col>am</th><th scope=col>gear</th><th scope=col>carb</th></tr>\n",
       "\t<tr><th></th><th scope=col>&lt;dbl&gt;</th><th scope=col>&lt;fct&gt;</th><th scope=col>&lt;dbl&gt;</th><th scope=col>&lt;dbl&gt;</th><th scope=col>&lt;dbl&gt;</th><th scope=col>&lt;dbl&gt;</th><th scope=col>&lt;dbl&gt;</th><th scope=col>&lt;lgl&gt;</th><th scope=col>&lt;lgl&gt;</th><th scope=col>&lt;fct&gt;</th><th scope=col>&lt;fct&gt;</th></tr>\n",
       "</thead>\n",
       "<tbody>\n",
       "\t<tr><th scope=row>Mazda RX4</th><td>21.0</td><td>6</td><td>160.0</td><td>110</td><td>3.90</td><td>2.620</td><td>16.46</td><td>FALSE</td><td> TRUE</td><td>4</td><td>4</td></tr>\n",
       "\t<tr><th scope=row>Mazda RX4 Wag</th><td>21.0</td><td>6</td><td>160.0</td><td>110</td><td>3.90</td><td>2.875</td><td>17.02</td><td>FALSE</td><td> TRUE</td><td>4</td><td>4</td></tr>\n",
       "\t<tr><th scope=row>Datsun 710</th><td>22.8</td><td>4</td><td>108.0</td><td> 93</td><td>3.85</td><td>2.320</td><td>18.61</td><td> TRUE</td><td> TRUE</td><td>4</td><td>1</td></tr>\n",
       "\t<tr><th scope=row>Hornet 4 Drive</th><td>21.4</td><td>6</td><td>258.0</td><td>110</td><td>3.08</td><td>3.215</td><td>19.44</td><td> TRUE</td><td>FALSE</td><td>3</td><td>1</td></tr>\n",
       "\t<tr><th scope=row>Hornet Sportabout</th><td>18.7</td><td>8</td><td>360.0</td><td>175</td><td>3.15</td><td>3.440</td><td>17.02</td><td>FALSE</td><td>FALSE</td><td>3</td><td>2</td></tr>\n",
       "\t<tr><th scope=row>Valiant</th><td>18.1</td><td>6</td><td>225.0</td><td>105</td><td>2.76</td><td>3.460</td><td>20.22</td><td> TRUE</td><td>FALSE</td><td>3</td><td>1</td></tr>\n",
       "\t<tr><th scope=row>Duster 360</th><td>14.3</td><td>8</td><td>360.0</td><td>245</td><td>3.21</td><td>3.570</td><td>15.84</td><td>FALSE</td><td>FALSE</td><td>3</td><td>4</td></tr>\n",
       "\t<tr><th scope=row>Merc 240D</th><td>24.4</td><td>4</td><td>146.7</td><td> 62</td><td>3.69</td><td>3.190</td><td>20.00</td><td> TRUE</td><td>FALSE</td><td>4</td><td>2</td></tr>\n",
       "\t<tr><th scope=row>Merc 230</th><td>22.8</td><td>4</td><td>140.8</td><td> 95</td><td>3.92</td><td>3.150</td><td>22.90</td><td> TRUE</td><td>FALSE</td><td>4</td><td>2</td></tr>\n",
       "\t<tr><th scope=row>Merc 280</th><td>19.2</td><td>6</td><td>167.6</td><td>123</td><td>3.92</td><td>3.440</td><td>18.30</td><td> TRUE</td><td>FALSE</td><td>4</td><td>4</td></tr>\n",
       "\t<tr><th scope=row>Merc 280C</th><td>17.8</td><td>6</td><td>167.6</td><td>123</td><td>3.92</td><td>3.440</td><td>18.90</td><td> TRUE</td><td>FALSE</td><td>4</td><td>4</td></tr>\n",
       "\t<tr><th scope=row>Merc 450SE</th><td>16.4</td><td>8</td><td>275.8</td><td>180</td><td>3.07</td><td>4.070</td><td>17.40</td><td>FALSE</td><td>FALSE</td><td>3</td><td>3</td></tr>\n",
       "\t<tr><th scope=row>Merc 450SL</th><td>17.3</td><td>8</td><td>275.8</td><td>180</td><td>3.07</td><td>3.730</td><td>17.60</td><td>FALSE</td><td>FALSE</td><td>3</td><td>3</td></tr>\n",
       "\t<tr><th scope=row>Merc 450SLC</th><td>15.2</td><td>8</td><td>275.8</td><td>180</td><td>3.07</td><td>3.780</td><td>18.00</td><td>FALSE</td><td>FALSE</td><td>3</td><td>3</td></tr>\n",
       "\t<tr><th scope=row>Cadillac Fleetwood</th><td>10.4</td><td>8</td><td>472.0</td><td>205</td><td>2.93</td><td>5.250</td><td>17.98</td><td>FALSE</td><td>FALSE</td><td>3</td><td>4</td></tr>\n",
       "\t<tr><th scope=row>Lincoln Continental</th><td>10.4</td><td>8</td><td>460.0</td><td>215</td><td>3.00</td><td>5.424</td><td>17.82</td><td>FALSE</td><td>FALSE</td><td>3</td><td>4</td></tr>\n",
       "\t<tr><th scope=row>Chrysler Imperial</th><td>14.7</td><td>8</td><td>440.0</td><td>230</td><td>3.23</td><td>5.345</td><td>17.42</td><td>FALSE</td><td>FALSE</td><td>3</td><td>4</td></tr>\n",
       "\t<tr><th scope=row>Fiat 128</th><td>32.4</td><td>4</td><td> 78.7</td><td> 66</td><td>4.08</td><td>2.200</td><td>19.47</td><td> TRUE</td><td> TRUE</td><td>4</td><td>1</td></tr>\n",
       "\t<tr><th scope=row>Honda Civic</th><td>30.4</td><td>4</td><td> 75.7</td><td> 52</td><td>4.93</td><td>1.615</td><td>18.52</td><td> TRUE</td><td> TRUE</td><td>4</td><td>2</td></tr>\n",
       "\t<tr><th scope=row>Toyota Corolla</th><td>33.9</td><td>4</td><td> 71.1</td><td> 65</td><td>4.22</td><td>1.835</td><td>19.90</td><td> TRUE</td><td> TRUE</td><td>4</td><td>1</td></tr>\n",
       "\t<tr><th scope=row>Toyota Corona</th><td>21.5</td><td>4</td><td>120.1</td><td> 97</td><td>3.70</td><td>2.465</td><td>20.01</td><td> TRUE</td><td>FALSE</td><td>3</td><td>1</td></tr>\n",
       "\t<tr><th scope=row>Dodge Challenger</th><td>15.5</td><td>8</td><td>318.0</td><td>150</td><td>2.76</td><td>3.520</td><td>16.87</td><td>FALSE</td><td>FALSE</td><td>3</td><td>2</td></tr>\n",
       "\t<tr><th scope=row>AMC Javelin</th><td>15.2</td><td>8</td><td>304.0</td><td>150</td><td>3.15</td><td>3.435</td><td>17.30</td><td>FALSE</td><td>FALSE</td><td>3</td><td>2</td></tr>\n",
       "\t<tr><th scope=row>Camaro Z28</th><td>13.3</td><td>8</td><td>350.0</td><td>245</td><td>3.73</td><td>3.840</td><td>15.41</td><td>FALSE</td><td>FALSE</td><td>3</td><td>4</td></tr>\n",
       "\t<tr><th scope=row>Pontiac Firebird</th><td>19.2</td><td>8</td><td>400.0</td><td>175</td><td>3.08</td><td>3.845</td><td>17.05</td><td>FALSE</td><td>FALSE</td><td>3</td><td>2</td></tr>\n",
       "\t<tr><th scope=row>Fiat X1-9</th><td>27.3</td><td>4</td><td> 79.0</td><td> 66</td><td>4.08</td><td>1.935</td><td>18.90</td><td> TRUE</td><td> TRUE</td><td>4</td><td>1</td></tr>\n",
       "\t<tr><th scope=row>Porsche 914-2</th><td>26.0</td><td>4</td><td>120.3</td><td> 91</td><td>4.43</td><td>2.140</td><td>16.70</td><td>FALSE</td><td> TRUE</td><td>5</td><td>2</td></tr>\n",
       "\t<tr><th scope=row>Lotus Europa</th><td>30.4</td><td>4</td><td> 95.1</td><td>113</td><td>3.77</td><td>1.513</td><td>16.90</td><td> TRUE</td><td> TRUE</td><td>5</td><td>2</td></tr>\n",
       "\t<tr><th scope=row>Ford Pantera L</th><td>15.8</td><td>8</td><td>351.0</td><td>264</td><td>4.22</td><td>3.170</td><td>14.50</td><td>FALSE</td><td> TRUE</td><td>5</td><td>4</td></tr>\n",
       "\t<tr><th scope=row>Ferrari Dino</th><td>19.7</td><td>6</td><td>145.0</td><td>175</td><td>3.62</td><td>2.770</td><td>15.50</td><td>FALSE</td><td> TRUE</td><td>5</td><td>6</td></tr>\n",
       "\t<tr><th scope=row>Maserati Bora</th><td>15.0</td><td>8</td><td>301.0</td><td>335</td><td>3.54</td><td>3.570</td><td>14.60</td><td>FALSE</td><td> TRUE</td><td>5</td><td>8</td></tr>\n",
       "\t<tr><th scope=row>Volvo 142E</th><td>21.4</td><td>4</td><td>121.0</td><td>109</td><td>4.11</td><td>2.780</td><td>18.60</td><td> TRUE</td><td> TRUE</td><td>4</td><td>2</td></tr>\n",
       "</tbody>\n",
       "</table>\n"
      ],
      "text/latex": [
       "A data.frame: 32 × 11\n",
       "\\begin{tabular}{r|lllllllllll}\n",
       "  & mpg & cyl & disp & hp & drat & wt & qsec & vs & am & gear & carb\\\\\n",
       "  & <dbl> & <fct> & <dbl> & <dbl> & <dbl> & <dbl> & <dbl> & <lgl> & <lgl> & <fct> & <fct>\\\\\n",
       "\\hline\n",
       "\tMazda RX4 & 21.0 & 6 & 160.0 & 110 & 3.90 & 2.620 & 16.46 & FALSE &  TRUE & 4 & 4\\\\\n",
       "\tMazda RX4 Wag & 21.0 & 6 & 160.0 & 110 & 3.90 & 2.875 & 17.02 & FALSE &  TRUE & 4 & 4\\\\\n",
       "\tDatsun 710 & 22.8 & 4 & 108.0 &  93 & 3.85 & 2.320 & 18.61 &  TRUE &  TRUE & 4 & 1\\\\\n",
       "\tHornet 4 Drive & 21.4 & 6 & 258.0 & 110 & 3.08 & 3.215 & 19.44 &  TRUE & FALSE & 3 & 1\\\\\n",
       "\tHornet Sportabout & 18.7 & 8 & 360.0 & 175 & 3.15 & 3.440 & 17.02 & FALSE & FALSE & 3 & 2\\\\\n",
       "\tValiant & 18.1 & 6 & 225.0 & 105 & 2.76 & 3.460 & 20.22 &  TRUE & FALSE & 3 & 1\\\\\n",
       "\tDuster 360 & 14.3 & 8 & 360.0 & 245 & 3.21 & 3.570 & 15.84 & FALSE & FALSE & 3 & 4\\\\\n",
       "\tMerc 240D & 24.4 & 4 & 146.7 &  62 & 3.69 & 3.190 & 20.00 &  TRUE & FALSE & 4 & 2\\\\\n",
       "\tMerc 230 & 22.8 & 4 & 140.8 &  95 & 3.92 & 3.150 & 22.90 &  TRUE & FALSE & 4 & 2\\\\\n",
       "\tMerc 280 & 19.2 & 6 & 167.6 & 123 & 3.92 & 3.440 & 18.30 &  TRUE & FALSE & 4 & 4\\\\\n",
       "\tMerc 280C & 17.8 & 6 & 167.6 & 123 & 3.92 & 3.440 & 18.90 &  TRUE & FALSE & 4 & 4\\\\\n",
       "\tMerc 450SE & 16.4 & 8 & 275.8 & 180 & 3.07 & 4.070 & 17.40 & FALSE & FALSE & 3 & 3\\\\\n",
       "\tMerc 450SL & 17.3 & 8 & 275.8 & 180 & 3.07 & 3.730 & 17.60 & FALSE & FALSE & 3 & 3\\\\\n",
       "\tMerc 450SLC & 15.2 & 8 & 275.8 & 180 & 3.07 & 3.780 & 18.00 & FALSE & FALSE & 3 & 3\\\\\n",
       "\tCadillac Fleetwood & 10.4 & 8 & 472.0 & 205 & 2.93 & 5.250 & 17.98 & FALSE & FALSE & 3 & 4\\\\\n",
       "\tLincoln Continental & 10.4 & 8 & 460.0 & 215 & 3.00 & 5.424 & 17.82 & FALSE & FALSE & 3 & 4\\\\\n",
       "\tChrysler Imperial & 14.7 & 8 & 440.0 & 230 & 3.23 & 5.345 & 17.42 & FALSE & FALSE & 3 & 4\\\\\n",
       "\tFiat 128 & 32.4 & 4 &  78.7 &  66 & 4.08 & 2.200 & 19.47 &  TRUE &  TRUE & 4 & 1\\\\\n",
       "\tHonda Civic & 30.4 & 4 &  75.7 &  52 & 4.93 & 1.615 & 18.52 &  TRUE &  TRUE & 4 & 2\\\\\n",
       "\tToyota Corolla & 33.9 & 4 &  71.1 &  65 & 4.22 & 1.835 & 19.90 &  TRUE &  TRUE & 4 & 1\\\\\n",
       "\tToyota Corona & 21.5 & 4 & 120.1 &  97 & 3.70 & 2.465 & 20.01 &  TRUE & FALSE & 3 & 1\\\\\n",
       "\tDodge Challenger & 15.5 & 8 & 318.0 & 150 & 2.76 & 3.520 & 16.87 & FALSE & FALSE & 3 & 2\\\\\n",
       "\tAMC Javelin & 15.2 & 8 & 304.0 & 150 & 3.15 & 3.435 & 17.30 & FALSE & FALSE & 3 & 2\\\\\n",
       "\tCamaro Z28 & 13.3 & 8 & 350.0 & 245 & 3.73 & 3.840 & 15.41 & FALSE & FALSE & 3 & 4\\\\\n",
       "\tPontiac Firebird & 19.2 & 8 & 400.0 & 175 & 3.08 & 3.845 & 17.05 & FALSE & FALSE & 3 & 2\\\\\n",
       "\tFiat X1-9 & 27.3 & 4 &  79.0 &  66 & 4.08 & 1.935 & 18.90 &  TRUE &  TRUE & 4 & 1\\\\\n",
       "\tPorsche 914-2 & 26.0 & 4 & 120.3 &  91 & 4.43 & 2.140 & 16.70 & FALSE &  TRUE & 5 & 2\\\\\n",
       "\tLotus Europa & 30.4 & 4 &  95.1 & 113 & 3.77 & 1.513 & 16.90 &  TRUE &  TRUE & 5 & 2\\\\\n",
       "\tFord Pantera L & 15.8 & 8 & 351.0 & 264 & 4.22 & 3.170 & 14.50 & FALSE &  TRUE & 5 & 4\\\\\n",
       "\tFerrari Dino & 19.7 & 6 & 145.0 & 175 & 3.62 & 2.770 & 15.50 & FALSE &  TRUE & 5 & 6\\\\\n",
       "\tMaserati Bora & 15.0 & 8 & 301.0 & 335 & 3.54 & 3.570 & 14.60 & FALSE &  TRUE & 5 & 8\\\\\n",
       "\tVolvo 142E & 21.4 & 4 & 121.0 & 109 & 4.11 & 2.780 & 18.60 &  TRUE &  TRUE & 4 & 2\\\\\n",
       "\\end{tabular}\n"
      ],
      "text/markdown": [
       "\n",
       "A data.frame: 32 × 11\n",
       "\n",
       "| <!--/--> | mpg &lt;dbl&gt; | cyl &lt;fct&gt; | disp &lt;dbl&gt; | hp &lt;dbl&gt; | drat &lt;dbl&gt; | wt &lt;dbl&gt; | qsec &lt;dbl&gt; | vs &lt;lgl&gt; | am &lt;lgl&gt; | gear &lt;fct&gt; | carb &lt;fct&gt; |\n",
       "|---|---|---|---|---|---|---|---|---|---|---|---|\n",
       "| Mazda RX4 | 21.0 | 6 | 160.0 | 110 | 3.90 | 2.620 | 16.46 | FALSE |  TRUE | 4 | 4 |\n",
       "| Mazda RX4 Wag | 21.0 | 6 | 160.0 | 110 | 3.90 | 2.875 | 17.02 | FALSE |  TRUE | 4 | 4 |\n",
       "| Datsun 710 | 22.8 | 4 | 108.0 |  93 | 3.85 | 2.320 | 18.61 |  TRUE |  TRUE | 4 | 1 |\n",
       "| Hornet 4 Drive | 21.4 | 6 | 258.0 | 110 | 3.08 | 3.215 | 19.44 |  TRUE | FALSE | 3 | 1 |\n",
       "| Hornet Sportabout | 18.7 | 8 | 360.0 | 175 | 3.15 | 3.440 | 17.02 | FALSE | FALSE | 3 | 2 |\n",
       "| Valiant | 18.1 | 6 | 225.0 | 105 | 2.76 | 3.460 | 20.22 |  TRUE | FALSE | 3 | 1 |\n",
       "| Duster 360 | 14.3 | 8 | 360.0 | 245 | 3.21 | 3.570 | 15.84 | FALSE | FALSE | 3 | 4 |\n",
       "| Merc 240D | 24.4 | 4 | 146.7 |  62 | 3.69 | 3.190 | 20.00 |  TRUE | FALSE | 4 | 2 |\n",
       "| Merc 230 | 22.8 | 4 | 140.8 |  95 | 3.92 | 3.150 | 22.90 |  TRUE | FALSE | 4 | 2 |\n",
       "| Merc 280 | 19.2 | 6 | 167.6 | 123 | 3.92 | 3.440 | 18.30 |  TRUE | FALSE | 4 | 4 |\n",
       "| Merc 280C | 17.8 | 6 | 167.6 | 123 | 3.92 | 3.440 | 18.90 |  TRUE | FALSE | 4 | 4 |\n",
       "| Merc 450SE | 16.4 | 8 | 275.8 | 180 | 3.07 | 4.070 | 17.40 | FALSE | FALSE | 3 | 3 |\n",
       "| Merc 450SL | 17.3 | 8 | 275.8 | 180 | 3.07 | 3.730 | 17.60 | FALSE | FALSE | 3 | 3 |\n",
       "| Merc 450SLC | 15.2 | 8 | 275.8 | 180 | 3.07 | 3.780 | 18.00 | FALSE | FALSE | 3 | 3 |\n",
       "| Cadillac Fleetwood | 10.4 | 8 | 472.0 | 205 | 2.93 | 5.250 | 17.98 | FALSE | FALSE | 3 | 4 |\n",
       "| Lincoln Continental | 10.4 | 8 | 460.0 | 215 | 3.00 | 5.424 | 17.82 | FALSE | FALSE | 3 | 4 |\n",
       "| Chrysler Imperial | 14.7 | 8 | 440.0 | 230 | 3.23 | 5.345 | 17.42 | FALSE | FALSE | 3 | 4 |\n",
       "| Fiat 128 | 32.4 | 4 |  78.7 |  66 | 4.08 | 2.200 | 19.47 |  TRUE |  TRUE | 4 | 1 |\n",
       "| Honda Civic | 30.4 | 4 |  75.7 |  52 | 4.93 | 1.615 | 18.52 |  TRUE |  TRUE | 4 | 2 |\n",
       "| Toyota Corolla | 33.9 | 4 |  71.1 |  65 | 4.22 | 1.835 | 19.90 |  TRUE |  TRUE | 4 | 1 |\n",
       "| Toyota Corona | 21.5 | 4 | 120.1 |  97 | 3.70 | 2.465 | 20.01 |  TRUE | FALSE | 3 | 1 |\n",
       "| Dodge Challenger | 15.5 | 8 | 318.0 | 150 | 2.76 | 3.520 | 16.87 | FALSE | FALSE | 3 | 2 |\n",
       "| AMC Javelin | 15.2 | 8 | 304.0 | 150 | 3.15 | 3.435 | 17.30 | FALSE | FALSE | 3 | 2 |\n",
       "| Camaro Z28 | 13.3 | 8 | 350.0 | 245 | 3.73 | 3.840 | 15.41 | FALSE | FALSE | 3 | 4 |\n",
       "| Pontiac Firebird | 19.2 | 8 | 400.0 | 175 | 3.08 | 3.845 | 17.05 | FALSE | FALSE | 3 | 2 |\n",
       "| Fiat X1-9 | 27.3 | 4 |  79.0 |  66 | 4.08 | 1.935 | 18.90 |  TRUE |  TRUE | 4 | 1 |\n",
       "| Porsche 914-2 | 26.0 | 4 | 120.3 |  91 | 4.43 | 2.140 | 16.70 | FALSE |  TRUE | 5 | 2 |\n",
       "| Lotus Europa | 30.4 | 4 |  95.1 | 113 | 3.77 | 1.513 | 16.90 |  TRUE |  TRUE | 5 | 2 |\n",
       "| Ford Pantera L | 15.8 | 8 | 351.0 | 264 | 4.22 | 3.170 | 14.50 | FALSE |  TRUE | 5 | 4 |\n",
       "| Ferrari Dino | 19.7 | 6 | 145.0 | 175 | 3.62 | 2.770 | 15.50 | FALSE |  TRUE | 5 | 6 |\n",
       "| Maserati Bora | 15.0 | 8 | 301.0 | 335 | 3.54 | 3.570 | 14.60 | FALSE |  TRUE | 5 | 8 |\n",
       "| Volvo 142E | 21.4 | 4 | 121.0 | 109 | 4.11 | 2.780 | 18.60 |  TRUE |  TRUE | 4 | 2 |\n",
       "\n"
      ],
      "text/plain": [
       "                    mpg  cyl disp  hp  drat wt    qsec  vs    am    gear carb\n",
       "Mazda RX4           21.0 6   160.0 110 3.90 2.620 16.46 FALSE  TRUE 4    4   \n",
       "Mazda RX4 Wag       21.0 6   160.0 110 3.90 2.875 17.02 FALSE  TRUE 4    4   \n",
       "Datsun 710          22.8 4   108.0  93 3.85 2.320 18.61  TRUE  TRUE 4    1   \n",
       "Hornet 4 Drive      21.4 6   258.0 110 3.08 3.215 19.44  TRUE FALSE 3    1   \n",
       "Hornet Sportabout   18.7 8   360.0 175 3.15 3.440 17.02 FALSE FALSE 3    2   \n",
       "Valiant             18.1 6   225.0 105 2.76 3.460 20.22  TRUE FALSE 3    1   \n",
       "Duster 360          14.3 8   360.0 245 3.21 3.570 15.84 FALSE FALSE 3    4   \n",
       "Merc 240D           24.4 4   146.7  62 3.69 3.190 20.00  TRUE FALSE 4    2   \n",
       "Merc 230            22.8 4   140.8  95 3.92 3.150 22.90  TRUE FALSE 4    2   \n",
       "Merc 280            19.2 6   167.6 123 3.92 3.440 18.30  TRUE FALSE 4    4   \n",
       "Merc 280C           17.8 6   167.6 123 3.92 3.440 18.90  TRUE FALSE 4    4   \n",
       "Merc 450SE          16.4 8   275.8 180 3.07 4.070 17.40 FALSE FALSE 3    3   \n",
       "Merc 450SL          17.3 8   275.8 180 3.07 3.730 17.60 FALSE FALSE 3    3   \n",
       "Merc 450SLC         15.2 8   275.8 180 3.07 3.780 18.00 FALSE FALSE 3    3   \n",
       "Cadillac Fleetwood  10.4 8   472.0 205 2.93 5.250 17.98 FALSE FALSE 3    4   \n",
       "Lincoln Continental 10.4 8   460.0 215 3.00 5.424 17.82 FALSE FALSE 3    4   \n",
       "Chrysler Imperial   14.7 8   440.0 230 3.23 5.345 17.42 FALSE FALSE 3    4   \n",
       "Fiat 128            32.4 4    78.7  66 4.08 2.200 19.47  TRUE  TRUE 4    1   \n",
       "Honda Civic         30.4 4    75.7  52 4.93 1.615 18.52  TRUE  TRUE 4    2   \n",
       "Toyota Corolla      33.9 4    71.1  65 4.22 1.835 19.90  TRUE  TRUE 4    1   \n",
       "Toyota Corona       21.5 4   120.1  97 3.70 2.465 20.01  TRUE FALSE 3    1   \n",
       "Dodge Challenger    15.5 8   318.0 150 2.76 3.520 16.87 FALSE FALSE 3    2   \n",
       "AMC Javelin         15.2 8   304.0 150 3.15 3.435 17.30 FALSE FALSE 3    2   \n",
       "Camaro Z28          13.3 8   350.0 245 3.73 3.840 15.41 FALSE FALSE 3    4   \n",
       "Pontiac Firebird    19.2 8   400.0 175 3.08 3.845 17.05 FALSE FALSE 3    2   \n",
       "Fiat X1-9           27.3 4    79.0  66 4.08 1.935 18.90  TRUE  TRUE 4    1   \n",
       "Porsche 914-2       26.0 4   120.3  91 4.43 2.140 16.70 FALSE  TRUE 5    2   \n",
       "Lotus Europa        30.4 4    95.1 113 3.77 1.513 16.90  TRUE  TRUE 5    2   \n",
       "Ford Pantera L      15.8 8   351.0 264 4.22 3.170 14.50 FALSE  TRUE 5    4   \n",
       "Ferrari Dino        19.7 6   145.0 175 3.62 2.770 15.50 FALSE  TRUE 5    6   \n",
       "Maserati Bora       15.0 8   301.0 335 3.54 3.570 14.60 FALSE  TRUE 5    8   \n",
       "Volvo 142E          21.4 4   121.0 109 4.11 2.780 18.60  TRUE  TRUE 4    2   "
      ]
     },
     "metadata": {},
     "output_type": "display_data"
    }
   ],
   "source": [
    "ej1 <- mtcars %>% mutate_at(c(\"cyl\",\"gear\",\"carb\"),as.factor) # Lo convertimos a tibble porque\n",
    "ej1 <- ej1 %>% mutate_at(c(\"vs\",\"am\"),as.logical)\n",
    "ej1\n"
   ]
  },
  {
   "cell_type": "markdown",
   "metadata": {},
   "source": [
    "- Mostrar solo los coches con una potencia (\"hp\") mayor a 100"
   ]
  },
  {
   "cell_type": "code",
   "execution_count": 11,
   "metadata": {
    "vscode": {
     "languageId": "r"
    }
   },
   "outputs": [
    {
     "data": {
      "text/html": [
       "<table class=\"dataframe\">\n",
       "<caption>A data.frame: 23 × 11</caption>\n",
       "<thead>\n",
       "\t<tr><th></th><th scope=col>mpg</th><th scope=col>cyl</th><th scope=col>disp</th><th scope=col>hp</th><th scope=col>drat</th><th scope=col>wt</th><th scope=col>qsec</th><th scope=col>vs</th><th scope=col>am</th><th scope=col>gear</th><th scope=col>carb</th></tr>\n",
       "\t<tr><th></th><th scope=col>&lt;dbl&gt;</th><th scope=col>&lt;fct&gt;</th><th scope=col>&lt;dbl&gt;</th><th scope=col>&lt;dbl&gt;</th><th scope=col>&lt;dbl&gt;</th><th scope=col>&lt;dbl&gt;</th><th scope=col>&lt;dbl&gt;</th><th scope=col>&lt;lgl&gt;</th><th scope=col>&lt;lgl&gt;</th><th scope=col>&lt;fct&gt;</th><th scope=col>&lt;fct&gt;</th></tr>\n",
       "</thead>\n",
       "<tbody>\n",
       "\t<tr><th scope=row>Mazda RX4</th><td>21.0</td><td>6</td><td>160.0</td><td>110</td><td>3.90</td><td>2.620</td><td>16.46</td><td>FALSE</td><td> TRUE</td><td>4</td><td>4</td></tr>\n",
       "\t<tr><th scope=row>Mazda RX4 Wag</th><td>21.0</td><td>6</td><td>160.0</td><td>110</td><td>3.90</td><td>2.875</td><td>17.02</td><td>FALSE</td><td> TRUE</td><td>4</td><td>4</td></tr>\n",
       "\t<tr><th scope=row>Hornet 4 Drive</th><td>21.4</td><td>6</td><td>258.0</td><td>110</td><td>3.08</td><td>3.215</td><td>19.44</td><td> TRUE</td><td>FALSE</td><td>3</td><td>1</td></tr>\n",
       "\t<tr><th scope=row>Hornet Sportabout</th><td>18.7</td><td>8</td><td>360.0</td><td>175</td><td>3.15</td><td>3.440</td><td>17.02</td><td>FALSE</td><td>FALSE</td><td>3</td><td>2</td></tr>\n",
       "\t<tr><th scope=row>Valiant</th><td>18.1</td><td>6</td><td>225.0</td><td>105</td><td>2.76</td><td>3.460</td><td>20.22</td><td> TRUE</td><td>FALSE</td><td>3</td><td>1</td></tr>\n",
       "\t<tr><th scope=row>Duster 360</th><td>14.3</td><td>8</td><td>360.0</td><td>245</td><td>3.21</td><td>3.570</td><td>15.84</td><td>FALSE</td><td>FALSE</td><td>3</td><td>4</td></tr>\n",
       "\t<tr><th scope=row>Merc 280</th><td>19.2</td><td>6</td><td>167.6</td><td>123</td><td>3.92</td><td>3.440</td><td>18.30</td><td> TRUE</td><td>FALSE</td><td>4</td><td>4</td></tr>\n",
       "\t<tr><th scope=row>Merc 280C</th><td>17.8</td><td>6</td><td>167.6</td><td>123</td><td>3.92</td><td>3.440</td><td>18.90</td><td> TRUE</td><td>FALSE</td><td>4</td><td>4</td></tr>\n",
       "\t<tr><th scope=row>Merc 450SE</th><td>16.4</td><td>8</td><td>275.8</td><td>180</td><td>3.07</td><td>4.070</td><td>17.40</td><td>FALSE</td><td>FALSE</td><td>3</td><td>3</td></tr>\n",
       "\t<tr><th scope=row>Merc 450SL</th><td>17.3</td><td>8</td><td>275.8</td><td>180</td><td>3.07</td><td>3.730</td><td>17.60</td><td>FALSE</td><td>FALSE</td><td>3</td><td>3</td></tr>\n",
       "\t<tr><th scope=row>Merc 450SLC</th><td>15.2</td><td>8</td><td>275.8</td><td>180</td><td>3.07</td><td>3.780</td><td>18.00</td><td>FALSE</td><td>FALSE</td><td>3</td><td>3</td></tr>\n",
       "\t<tr><th scope=row>Cadillac Fleetwood</th><td>10.4</td><td>8</td><td>472.0</td><td>205</td><td>2.93</td><td>5.250</td><td>17.98</td><td>FALSE</td><td>FALSE</td><td>3</td><td>4</td></tr>\n",
       "\t<tr><th scope=row>Lincoln Continental</th><td>10.4</td><td>8</td><td>460.0</td><td>215</td><td>3.00</td><td>5.424</td><td>17.82</td><td>FALSE</td><td>FALSE</td><td>3</td><td>4</td></tr>\n",
       "\t<tr><th scope=row>Chrysler Imperial</th><td>14.7</td><td>8</td><td>440.0</td><td>230</td><td>3.23</td><td>5.345</td><td>17.42</td><td>FALSE</td><td>FALSE</td><td>3</td><td>4</td></tr>\n",
       "\t<tr><th scope=row>Dodge Challenger</th><td>15.5</td><td>8</td><td>318.0</td><td>150</td><td>2.76</td><td>3.520</td><td>16.87</td><td>FALSE</td><td>FALSE</td><td>3</td><td>2</td></tr>\n",
       "\t<tr><th scope=row>AMC Javelin</th><td>15.2</td><td>8</td><td>304.0</td><td>150</td><td>3.15</td><td>3.435</td><td>17.30</td><td>FALSE</td><td>FALSE</td><td>3</td><td>2</td></tr>\n",
       "\t<tr><th scope=row>Camaro Z28</th><td>13.3</td><td>8</td><td>350.0</td><td>245</td><td>3.73</td><td>3.840</td><td>15.41</td><td>FALSE</td><td>FALSE</td><td>3</td><td>4</td></tr>\n",
       "\t<tr><th scope=row>Pontiac Firebird</th><td>19.2</td><td>8</td><td>400.0</td><td>175</td><td>3.08</td><td>3.845</td><td>17.05</td><td>FALSE</td><td>FALSE</td><td>3</td><td>2</td></tr>\n",
       "\t<tr><th scope=row>Lotus Europa</th><td>30.4</td><td>4</td><td> 95.1</td><td>113</td><td>3.77</td><td>1.513</td><td>16.90</td><td> TRUE</td><td> TRUE</td><td>5</td><td>2</td></tr>\n",
       "\t<tr><th scope=row>Ford Pantera L</th><td>15.8</td><td>8</td><td>351.0</td><td>264</td><td>4.22</td><td>3.170</td><td>14.50</td><td>FALSE</td><td> TRUE</td><td>5</td><td>4</td></tr>\n",
       "\t<tr><th scope=row>Ferrari Dino</th><td>19.7</td><td>6</td><td>145.0</td><td>175</td><td>3.62</td><td>2.770</td><td>15.50</td><td>FALSE</td><td> TRUE</td><td>5</td><td>6</td></tr>\n",
       "\t<tr><th scope=row>Maserati Bora</th><td>15.0</td><td>8</td><td>301.0</td><td>335</td><td>3.54</td><td>3.570</td><td>14.60</td><td>FALSE</td><td> TRUE</td><td>5</td><td>8</td></tr>\n",
       "\t<tr><th scope=row>Volvo 142E</th><td>21.4</td><td>4</td><td>121.0</td><td>109</td><td>4.11</td><td>2.780</td><td>18.60</td><td> TRUE</td><td> TRUE</td><td>4</td><td>2</td></tr>\n",
       "</tbody>\n",
       "</table>\n"
      ],
      "text/latex": [
       "A data.frame: 23 × 11\n",
       "\\begin{tabular}{r|lllllllllll}\n",
       "  & mpg & cyl & disp & hp & drat & wt & qsec & vs & am & gear & carb\\\\\n",
       "  & <dbl> & <fct> & <dbl> & <dbl> & <dbl> & <dbl> & <dbl> & <lgl> & <lgl> & <fct> & <fct>\\\\\n",
       "\\hline\n",
       "\tMazda RX4 & 21.0 & 6 & 160.0 & 110 & 3.90 & 2.620 & 16.46 & FALSE &  TRUE & 4 & 4\\\\\n",
       "\tMazda RX4 Wag & 21.0 & 6 & 160.0 & 110 & 3.90 & 2.875 & 17.02 & FALSE &  TRUE & 4 & 4\\\\\n",
       "\tHornet 4 Drive & 21.4 & 6 & 258.0 & 110 & 3.08 & 3.215 & 19.44 &  TRUE & FALSE & 3 & 1\\\\\n",
       "\tHornet Sportabout & 18.7 & 8 & 360.0 & 175 & 3.15 & 3.440 & 17.02 & FALSE & FALSE & 3 & 2\\\\\n",
       "\tValiant & 18.1 & 6 & 225.0 & 105 & 2.76 & 3.460 & 20.22 &  TRUE & FALSE & 3 & 1\\\\\n",
       "\tDuster 360 & 14.3 & 8 & 360.0 & 245 & 3.21 & 3.570 & 15.84 & FALSE & FALSE & 3 & 4\\\\\n",
       "\tMerc 280 & 19.2 & 6 & 167.6 & 123 & 3.92 & 3.440 & 18.30 &  TRUE & FALSE & 4 & 4\\\\\n",
       "\tMerc 280C & 17.8 & 6 & 167.6 & 123 & 3.92 & 3.440 & 18.90 &  TRUE & FALSE & 4 & 4\\\\\n",
       "\tMerc 450SE & 16.4 & 8 & 275.8 & 180 & 3.07 & 4.070 & 17.40 & FALSE & FALSE & 3 & 3\\\\\n",
       "\tMerc 450SL & 17.3 & 8 & 275.8 & 180 & 3.07 & 3.730 & 17.60 & FALSE & FALSE & 3 & 3\\\\\n",
       "\tMerc 450SLC & 15.2 & 8 & 275.8 & 180 & 3.07 & 3.780 & 18.00 & FALSE & FALSE & 3 & 3\\\\\n",
       "\tCadillac Fleetwood & 10.4 & 8 & 472.0 & 205 & 2.93 & 5.250 & 17.98 & FALSE & FALSE & 3 & 4\\\\\n",
       "\tLincoln Continental & 10.4 & 8 & 460.0 & 215 & 3.00 & 5.424 & 17.82 & FALSE & FALSE & 3 & 4\\\\\n",
       "\tChrysler Imperial & 14.7 & 8 & 440.0 & 230 & 3.23 & 5.345 & 17.42 & FALSE & FALSE & 3 & 4\\\\\n",
       "\tDodge Challenger & 15.5 & 8 & 318.0 & 150 & 2.76 & 3.520 & 16.87 & FALSE & FALSE & 3 & 2\\\\\n",
       "\tAMC Javelin & 15.2 & 8 & 304.0 & 150 & 3.15 & 3.435 & 17.30 & FALSE & FALSE & 3 & 2\\\\\n",
       "\tCamaro Z28 & 13.3 & 8 & 350.0 & 245 & 3.73 & 3.840 & 15.41 & FALSE & FALSE & 3 & 4\\\\\n",
       "\tPontiac Firebird & 19.2 & 8 & 400.0 & 175 & 3.08 & 3.845 & 17.05 & FALSE & FALSE & 3 & 2\\\\\n",
       "\tLotus Europa & 30.4 & 4 &  95.1 & 113 & 3.77 & 1.513 & 16.90 &  TRUE &  TRUE & 5 & 2\\\\\n",
       "\tFord Pantera L & 15.8 & 8 & 351.0 & 264 & 4.22 & 3.170 & 14.50 & FALSE &  TRUE & 5 & 4\\\\\n",
       "\tFerrari Dino & 19.7 & 6 & 145.0 & 175 & 3.62 & 2.770 & 15.50 & FALSE &  TRUE & 5 & 6\\\\\n",
       "\tMaserati Bora & 15.0 & 8 & 301.0 & 335 & 3.54 & 3.570 & 14.60 & FALSE &  TRUE & 5 & 8\\\\\n",
       "\tVolvo 142E & 21.4 & 4 & 121.0 & 109 & 4.11 & 2.780 & 18.60 &  TRUE &  TRUE & 4 & 2\\\\\n",
       "\\end{tabular}\n"
      ],
      "text/markdown": [
       "\n",
       "A data.frame: 23 × 11\n",
       "\n",
       "| <!--/--> | mpg &lt;dbl&gt; | cyl &lt;fct&gt; | disp &lt;dbl&gt; | hp &lt;dbl&gt; | drat &lt;dbl&gt; | wt &lt;dbl&gt; | qsec &lt;dbl&gt; | vs &lt;lgl&gt; | am &lt;lgl&gt; | gear &lt;fct&gt; | carb &lt;fct&gt; |\n",
       "|---|---|---|---|---|---|---|---|---|---|---|---|\n",
       "| Mazda RX4 | 21.0 | 6 | 160.0 | 110 | 3.90 | 2.620 | 16.46 | FALSE |  TRUE | 4 | 4 |\n",
       "| Mazda RX4 Wag | 21.0 | 6 | 160.0 | 110 | 3.90 | 2.875 | 17.02 | FALSE |  TRUE | 4 | 4 |\n",
       "| Hornet 4 Drive | 21.4 | 6 | 258.0 | 110 | 3.08 | 3.215 | 19.44 |  TRUE | FALSE | 3 | 1 |\n",
       "| Hornet Sportabout | 18.7 | 8 | 360.0 | 175 | 3.15 | 3.440 | 17.02 | FALSE | FALSE | 3 | 2 |\n",
       "| Valiant | 18.1 | 6 | 225.0 | 105 | 2.76 | 3.460 | 20.22 |  TRUE | FALSE | 3 | 1 |\n",
       "| Duster 360 | 14.3 | 8 | 360.0 | 245 | 3.21 | 3.570 | 15.84 | FALSE | FALSE | 3 | 4 |\n",
       "| Merc 280 | 19.2 | 6 | 167.6 | 123 | 3.92 | 3.440 | 18.30 |  TRUE | FALSE | 4 | 4 |\n",
       "| Merc 280C | 17.8 | 6 | 167.6 | 123 | 3.92 | 3.440 | 18.90 |  TRUE | FALSE | 4 | 4 |\n",
       "| Merc 450SE | 16.4 | 8 | 275.8 | 180 | 3.07 | 4.070 | 17.40 | FALSE | FALSE | 3 | 3 |\n",
       "| Merc 450SL | 17.3 | 8 | 275.8 | 180 | 3.07 | 3.730 | 17.60 | FALSE | FALSE | 3 | 3 |\n",
       "| Merc 450SLC | 15.2 | 8 | 275.8 | 180 | 3.07 | 3.780 | 18.00 | FALSE | FALSE | 3 | 3 |\n",
       "| Cadillac Fleetwood | 10.4 | 8 | 472.0 | 205 | 2.93 | 5.250 | 17.98 | FALSE | FALSE | 3 | 4 |\n",
       "| Lincoln Continental | 10.4 | 8 | 460.0 | 215 | 3.00 | 5.424 | 17.82 | FALSE | FALSE | 3 | 4 |\n",
       "| Chrysler Imperial | 14.7 | 8 | 440.0 | 230 | 3.23 | 5.345 | 17.42 | FALSE | FALSE | 3 | 4 |\n",
       "| Dodge Challenger | 15.5 | 8 | 318.0 | 150 | 2.76 | 3.520 | 16.87 | FALSE | FALSE | 3 | 2 |\n",
       "| AMC Javelin | 15.2 | 8 | 304.0 | 150 | 3.15 | 3.435 | 17.30 | FALSE | FALSE | 3 | 2 |\n",
       "| Camaro Z28 | 13.3 | 8 | 350.0 | 245 | 3.73 | 3.840 | 15.41 | FALSE | FALSE | 3 | 4 |\n",
       "| Pontiac Firebird | 19.2 | 8 | 400.0 | 175 | 3.08 | 3.845 | 17.05 | FALSE | FALSE | 3 | 2 |\n",
       "| Lotus Europa | 30.4 | 4 |  95.1 | 113 | 3.77 | 1.513 | 16.90 |  TRUE |  TRUE | 5 | 2 |\n",
       "| Ford Pantera L | 15.8 | 8 | 351.0 | 264 | 4.22 | 3.170 | 14.50 | FALSE |  TRUE | 5 | 4 |\n",
       "| Ferrari Dino | 19.7 | 6 | 145.0 | 175 | 3.62 | 2.770 | 15.50 | FALSE |  TRUE | 5 | 6 |\n",
       "| Maserati Bora | 15.0 | 8 | 301.0 | 335 | 3.54 | 3.570 | 14.60 | FALSE |  TRUE | 5 | 8 |\n",
       "| Volvo 142E | 21.4 | 4 | 121.0 | 109 | 4.11 | 2.780 | 18.60 |  TRUE |  TRUE | 4 | 2 |\n",
       "\n"
      ],
      "text/plain": [
       "                    mpg  cyl disp  hp  drat wt    qsec  vs    am    gear carb\n",
       "Mazda RX4           21.0 6   160.0 110 3.90 2.620 16.46 FALSE  TRUE 4    4   \n",
       "Mazda RX4 Wag       21.0 6   160.0 110 3.90 2.875 17.02 FALSE  TRUE 4    4   \n",
       "Hornet 4 Drive      21.4 6   258.0 110 3.08 3.215 19.44  TRUE FALSE 3    1   \n",
       "Hornet Sportabout   18.7 8   360.0 175 3.15 3.440 17.02 FALSE FALSE 3    2   \n",
       "Valiant             18.1 6   225.0 105 2.76 3.460 20.22  TRUE FALSE 3    1   \n",
       "Duster 360          14.3 8   360.0 245 3.21 3.570 15.84 FALSE FALSE 3    4   \n",
       "Merc 280            19.2 6   167.6 123 3.92 3.440 18.30  TRUE FALSE 4    4   \n",
       "Merc 280C           17.8 6   167.6 123 3.92 3.440 18.90  TRUE FALSE 4    4   \n",
       "Merc 450SE          16.4 8   275.8 180 3.07 4.070 17.40 FALSE FALSE 3    3   \n",
       "Merc 450SL          17.3 8   275.8 180 3.07 3.730 17.60 FALSE FALSE 3    3   \n",
       "Merc 450SLC         15.2 8   275.8 180 3.07 3.780 18.00 FALSE FALSE 3    3   \n",
       "Cadillac Fleetwood  10.4 8   472.0 205 2.93 5.250 17.98 FALSE FALSE 3    4   \n",
       "Lincoln Continental 10.4 8   460.0 215 3.00 5.424 17.82 FALSE FALSE 3    4   \n",
       "Chrysler Imperial   14.7 8   440.0 230 3.23 5.345 17.42 FALSE FALSE 3    4   \n",
       "Dodge Challenger    15.5 8   318.0 150 2.76 3.520 16.87 FALSE FALSE 3    2   \n",
       "AMC Javelin         15.2 8   304.0 150 3.15 3.435 17.30 FALSE FALSE 3    2   \n",
       "Camaro Z28          13.3 8   350.0 245 3.73 3.840 15.41 FALSE FALSE 3    4   \n",
       "Pontiac Firebird    19.2 8   400.0 175 3.08 3.845 17.05 FALSE FALSE 3    2   \n",
       "Lotus Europa        30.4 4    95.1 113 3.77 1.513 16.90  TRUE  TRUE 5    2   \n",
       "Ford Pantera L      15.8 8   351.0 264 4.22 3.170 14.50 FALSE  TRUE 5    4   \n",
       "Ferrari Dino        19.7 6   145.0 175 3.62 2.770 15.50 FALSE  TRUE 5    6   \n",
       "Maserati Bora       15.0 8   301.0 335 3.54 3.570 14.60 FALSE  TRUE 5    8   \n",
       "Volvo 142E          21.4 4   121.0 109 4.11 2.780 18.60  TRUE  TRUE 4    2   "
      ]
     },
     "metadata": {},
     "output_type": "display_data"
    }
   ],
   "source": [
    "ej1 %>% filter(hp > 100)"
   ]
  },
  {
   "cell_type": "markdown",
   "metadata": {},
   "source": [
    "- Seleccionar solo las columnas \"mpg\", \"cyl\", \"hp\" y \"qsec\" del dataset"
   ]
  },
  {
   "cell_type": "code",
   "execution_count": 13,
   "metadata": {
    "vscode": {
     "languageId": "r"
    }
   },
   "outputs": [
    {
     "data": {
      "text/html": [
       "<table class=\"dataframe\">\n",
       "<caption>A data.frame: 32 × 4</caption>\n",
       "<thead>\n",
       "\t<tr><th></th><th scope=col>mpg</th><th scope=col>cyl</th><th scope=col>hp</th><th scope=col>qsec</th></tr>\n",
       "\t<tr><th></th><th scope=col>&lt;dbl&gt;</th><th scope=col>&lt;fct&gt;</th><th scope=col>&lt;dbl&gt;</th><th scope=col>&lt;dbl&gt;</th></tr>\n",
       "</thead>\n",
       "<tbody>\n",
       "\t<tr><th scope=row>Mazda RX4</th><td>21.0</td><td>6</td><td>110</td><td>16.46</td></tr>\n",
       "\t<tr><th scope=row>Mazda RX4 Wag</th><td>21.0</td><td>6</td><td>110</td><td>17.02</td></tr>\n",
       "\t<tr><th scope=row>Datsun 710</th><td>22.8</td><td>4</td><td> 93</td><td>18.61</td></tr>\n",
       "\t<tr><th scope=row>Hornet 4 Drive</th><td>21.4</td><td>6</td><td>110</td><td>19.44</td></tr>\n",
       "\t<tr><th scope=row>Hornet Sportabout</th><td>18.7</td><td>8</td><td>175</td><td>17.02</td></tr>\n",
       "\t<tr><th scope=row>Valiant</th><td>18.1</td><td>6</td><td>105</td><td>20.22</td></tr>\n",
       "\t<tr><th scope=row>Duster 360</th><td>14.3</td><td>8</td><td>245</td><td>15.84</td></tr>\n",
       "\t<tr><th scope=row>Merc 240D</th><td>24.4</td><td>4</td><td> 62</td><td>20.00</td></tr>\n",
       "\t<tr><th scope=row>Merc 230</th><td>22.8</td><td>4</td><td> 95</td><td>22.90</td></tr>\n",
       "\t<tr><th scope=row>Merc 280</th><td>19.2</td><td>6</td><td>123</td><td>18.30</td></tr>\n",
       "\t<tr><th scope=row>Merc 280C</th><td>17.8</td><td>6</td><td>123</td><td>18.90</td></tr>\n",
       "\t<tr><th scope=row>Merc 450SE</th><td>16.4</td><td>8</td><td>180</td><td>17.40</td></tr>\n",
       "\t<tr><th scope=row>Merc 450SL</th><td>17.3</td><td>8</td><td>180</td><td>17.60</td></tr>\n",
       "\t<tr><th scope=row>Merc 450SLC</th><td>15.2</td><td>8</td><td>180</td><td>18.00</td></tr>\n",
       "\t<tr><th scope=row>Cadillac Fleetwood</th><td>10.4</td><td>8</td><td>205</td><td>17.98</td></tr>\n",
       "\t<tr><th scope=row>Lincoln Continental</th><td>10.4</td><td>8</td><td>215</td><td>17.82</td></tr>\n",
       "\t<tr><th scope=row>Chrysler Imperial</th><td>14.7</td><td>8</td><td>230</td><td>17.42</td></tr>\n",
       "\t<tr><th scope=row>Fiat 128</th><td>32.4</td><td>4</td><td> 66</td><td>19.47</td></tr>\n",
       "\t<tr><th scope=row>Honda Civic</th><td>30.4</td><td>4</td><td> 52</td><td>18.52</td></tr>\n",
       "\t<tr><th scope=row>Toyota Corolla</th><td>33.9</td><td>4</td><td> 65</td><td>19.90</td></tr>\n",
       "\t<tr><th scope=row>Toyota Corona</th><td>21.5</td><td>4</td><td> 97</td><td>20.01</td></tr>\n",
       "\t<tr><th scope=row>Dodge Challenger</th><td>15.5</td><td>8</td><td>150</td><td>16.87</td></tr>\n",
       "\t<tr><th scope=row>AMC Javelin</th><td>15.2</td><td>8</td><td>150</td><td>17.30</td></tr>\n",
       "\t<tr><th scope=row>Camaro Z28</th><td>13.3</td><td>8</td><td>245</td><td>15.41</td></tr>\n",
       "\t<tr><th scope=row>Pontiac Firebird</th><td>19.2</td><td>8</td><td>175</td><td>17.05</td></tr>\n",
       "\t<tr><th scope=row>Fiat X1-9</th><td>27.3</td><td>4</td><td> 66</td><td>18.90</td></tr>\n",
       "\t<tr><th scope=row>Porsche 914-2</th><td>26.0</td><td>4</td><td> 91</td><td>16.70</td></tr>\n",
       "\t<tr><th scope=row>Lotus Europa</th><td>30.4</td><td>4</td><td>113</td><td>16.90</td></tr>\n",
       "\t<tr><th scope=row>Ford Pantera L</th><td>15.8</td><td>8</td><td>264</td><td>14.50</td></tr>\n",
       "\t<tr><th scope=row>Ferrari Dino</th><td>19.7</td><td>6</td><td>175</td><td>15.50</td></tr>\n",
       "\t<tr><th scope=row>Maserati Bora</th><td>15.0</td><td>8</td><td>335</td><td>14.60</td></tr>\n",
       "\t<tr><th scope=row>Volvo 142E</th><td>21.4</td><td>4</td><td>109</td><td>18.60</td></tr>\n",
       "</tbody>\n",
       "</table>\n"
      ],
      "text/latex": [
       "A data.frame: 32 × 4\n",
       "\\begin{tabular}{r|llll}\n",
       "  & mpg & cyl & hp & qsec\\\\\n",
       "  & <dbl> & <fct> & <dbl> & <dbl>\\\\\n",
       "\\hline\n",
       "\tMazda RX4 & 21.0 & 6 & 110 & 16.46\\\\\n",
       "\tMazda RX4 Wag & 21.0 & 6 & 110 & 17.02\\\\\n",
       "\tDatsun 710 & 22.8 & 4 &  93 & 18.61\\\\\n",
       "\tHornet 4 Drive & 21.4 & 6 & 110 & 19.44\\\\\n",
       "\tHornet Sportabout & 18.7 & 8 & 175 & 17.02\\\\\n",
       "\tValiant & 18.1 & 6 & 105 & 20.22\\\\\n",
       "\tDuster 360 & 14.3 & 8 & 245 & 15.84\\\\\n",
       "\tMerc 240D & 24.4 & 4 &  62 & 20.00\\\\\n",
       "\tMerc 230 & 22.8 & 4 &  95 & 22.90\\\\\n",
       "\tMerc 280 & 19.2 & 6 & 123 & 18.30\\\\\n",
       "\tMerc 280C & 17.8 & 6 & 123 & 18.90\\\\\n",
       "\tMerc 450SE & 16.4 & 8 & 180 & 17.40\\\\\n",
       "\tMerc 450SL & 17.3 & 8 & 180 & 17.60\\\\\n",
       "\tMerc 450SLC & 15.2 & 8 & 180 & 18.00\\\\\n",
       "\tCadillac Fleetwood & 10.4 & 8 & 205 & 17.98\\\\\n",
       "\tLincoln Continental & 10.4 & 8 & 215 & 17.82\\\\\n",
       "\tChrysler Imperial & 14.7 & 8 & 230 & 17.42\\\\\n",
       "\tFiat 128 & 32.4 & 4 &  66 & 19.47\\\\\n",
       "\tHonda Civic & 30.4 & 4 &  52 & 18.52\\\\\n",
       "\tToyota Corolla & 33.9 & 4 &  65 & 19.90\\\\\n",
       "\tToyota Corona & 21.5 & 4 &  97 & 20.01\\\\\n",
       "\tDodge Challenger & 15.5 & 8 & 150 & 16.87\\\\\n",
       "\tAMC Javelin & 15.2 & 8 & 150 & 17.30\\\\\n",
       "\tCamaro Z28 & 13.3 & 8 & 245 & 15.41\\\\\n",
       "\tPontiac Firebird & 19.2 & 8 & 175 & 17.05\\\\\n",
       "\tFiat X1-9 & 27.3 & 4 &  66 & 18.90\\\\\n",
       "\tPorsche 914-2 & 26.0 & 4 &  91 & 16.70\\\\\n",
       "\tLotus Europa & 30.4 & 4 & 113 & 16.90\\\\\n",
       "\tFord Pantera L & 15.8 & 8 & 264 & 14.50\\\\\n",
       "\tFerrari Dino & 19.7 & 6 & 175 & 15.50\\\\\n",
       "\tMaserati Bora & 15.0 & 8 & 335 & 14.60\\\\\n",
       "\tVolvo 142E & 21.4 & 4 & 109 & 18.60\\\\\n",
       "\\end{tabular}\n"
      ],
      "text/markdown": [
       "\n",
       "A data.frame: 32 × 4\n",
       "\n",
       "| <!--/--> | mpg &lt;dbl&gt; | cyl &lt;fct&gt; | hp &lt;dbl&gt; | qsec &lt;dbl&gt; |\n",
       "|---|---|---|---|---|\n",
       "| Mazda RX4 | 21.0 | 6 | 110 | 16.46 |\n",
       "| Mazda RX4 Wag | 21.0 | 6 | 110 | 17.02 |\n",
       "| Datsun 710 | 22.8 | 4 |  93 | 18.61 |\n",
       "| Hornet 4 Drive | 21.4 | 6 | 110 | 19.44 |\n",
       "| Hornet Sportabout | 18.7 | 8 | 175 | 17.02 |\n",
       "| Valiant | 18.1 | 6 | 105 | 20.22 |\n",
       "| Duster 360 | 14.3 | 8 | 245 | 15.84 |\n",
       "| Merc 240D | 24.4 | 4 |  62 | 20.00 |\n",
       "| Merc 230 | 22.8 | 4 |  95 | 22.90 |\n",
       "| Merc 280 | 19.2 | 6 | 123 | 18.30 |\n",
       "| Merc 280C | 17.8 | 6 | 123 | 18.90 |\n",
       "| Merc 450SE | 16.4 | 8 | 180 | 17.40 |\n",
       "| Merc 450SL | 17.3 | 8 | 180 | 17.60 |\n",
       "| Merc 450SLC | 15.2 | 8 | 180 | 18.00 |\n",
       "| Cadillac Fleetwood | 10.4 | 8 | 205 | 17.98 |\n",
       "| Lincoln Continental | 10.4 | 8 | 215 | 17.82 |\n",
       "| Chrysler Imperial | 14.7 | 8 | 230 | 17.42 |\n",
       "| Fiat 128 | 32.4 | 4 |  66 | 19.47 |\n",
       "| Honda Civic | 30.4 | 4 |  52 | 18.52 |\n",
       "| Toyota Corolla | 33.9 | 4 |  65 | 19.90 |\n",
       "| Toyota Corona | 21.5 | 4 |  97 | 20.01 |\n",
       "| Dodge Challenger | 15.5 | 8 | 150 | 16.87 |\n",
       "| AMC Javelin | 15.2 | 8 | 150 | 17.30 |\n",
       "| Camaro Z28 | 13.3 | 8 | 245 | 15.41 |\n",
       "| Pontiac Firebird | 19.2 | 8 | 175 | 17.05 |\n",
       "| Fiat X1-9 | 27.3 | 4 |  66 | 18.90 |\n",
       "| Porsche 914-2 | 26.0 | 4 |  91 | 16.70 |\n",
       "| Lotus Europa | 30.4 | 4 | 113 | 16.90 |\n",
       "| Ford Pantera L | 15.8 | 8 | 264 | 14.50 |\n",
       "| Ferrari Dino | 19.7 | 6 | 175 | 15.50 |\n",
       "| Maserati Bora | 15.0 | 8 | 335 | 14.60 |\n",
       "| Volvo 142E | 21.4 | 4 | 109 | 18.60 |\n",
       "\n"
      ],
      "text/plain": [
       "                    mpg  cyl hp  qsec \n",
       "Mazda RX4           21.0 6   110 16.46\n",
       "Mazda RX4 Wag       21.0 6   110 17.02\n",
       "Datsun 710          22.8 4    93 18.61\n",
       "Hornet 4 Drive      21.4 6   110 19.44\n",
       "Hornet Sportabout   18.7 8   175 17.02\n",
       "Valiant             18.1 6   105 20.22\n",
       "Duster 360          14.3 8   245 15.84\n",
       "Merc 240D           24.4 4    62 20.00\n",
       "Merc 230            22.8 4    95 22.90\n",
       "Merc 280            19.2 6   123 18.30\n",
       "Merc 280C           17.8 6   123 18.90\n",
       "Merc 450SE          16.4 8   180 17.40\n",
       "Merc 450SL          17.3 8   180 17.60\n",
       "Merc 450SLC         15.2 8   180 18.00\n",
       "Cadillac Fleetwood  10.4 8   205 17.98\n",
       "Lincoln Continental 10.4 8   215 17.82\n",
       "Chrysler Imperial   14.7 8   230 17.42\n",
       "Fiat 128            32.4 4    66 19.47\n",
       "Honda Civic         30.4 4    52 18.52\n",
       "Toyota Corolla      33.9 4    65 19.90\n",
       "Toyota Corona       21.5 4    97 20.01\n",
       "Dodge Challenger    15.5 8   150 16.87\n",
       "AMC Javelin         15.2 8   150 17.30\n",
       "Camaro Z28          13.3 8   245 15.41\n",
       "Pontiac Firebird    19.2 8   175 17.05\n",
       "Fiat X1-9           27.3 4    66 18.90\n",
       "Porsche 914-2       26.0 4    91 16.70\n",
       "Lotus Europa        30.4 4   113 16.90\n",
       "Ford Pantera L      15.8 8   264 14.50\n",
       "Ferrari Dino        19.7 6   175 15.50\n",
       "Maserati Bora       15.0 8   335 14.60\n",
       "Volvo 142E          21.4 4   109 18.60"
      ]
     },
     "metadata": {},
     "output_type": "display_data"
    }
   ],
   "source": [
    "ej1 %>% select(c(\"mpg\",\"cyl\",\"hp\",\"qsec\"))"
   ]
  },
  {
   "cell_type": "markdown",
   "metadata": {},
   "source": [
    "- Calcular la cantidad total de coches para cada valor único en la columna \"cyl\" (número de cilindros)\n"
   ]
  },
  {
   "cell_type": "code",
   "execution_count": 16,
   "metadata": {
    "vscode": {
     "languageId": "r"
    }
   },
   "outputs": [
    {
     "data": {
      "text/html": [
       "<table class=\"dataframe\">\n",
       "<caption>A tibble: 3 × 2</caption>\n",
       "<thead>\n",
       "\t<tr><th scope=col>cyl</th><th scope=col>n</th></tr>\n",
       "\t<tr><th scope=col>&lt;fct&gt;</th><th scope=col>&lt;int&gt;</th></tr>\n",
       "</thead>\n",
       "<tbody>\n",
       "\t<tr><td>4</td><td>11</td></tr>\n",
       "\t<tr><td>6</td><td> 7</td></tr>\n",
       "\t<tr><td>8</td><td>14</td></tr>\n",
       "</tbody>\n",
       "</table>\n"
      ],
      "text/latex": [
       "A tibble: 3 × 2\n",
       "\\begin{tabular}{ll}\n",
       " cyl & n\\\\\n",
       " <fct> & <int>\\\\\n",
       "\\hline\n",
       "\t 4 & 11\\\\\n",
       "\t 6 &  7\\\\\n",
       "\t 8 & 14\\\\\n",
       "\\end{tabular}\n"
      ],
      "text/markdown": [
       "\n",
       "A tibble: 3 × 2\n",
       "\n",
       "| cyl &lt;fct&gt; | n &lt;int&gt; |\n",
       "|---|---|\n",
       "| 4 | 11 |\n",
       "| 6 |  7 |\n",
       "| 8 | 14 |\n",
       "\n"
      ],
      "text/plain": [
       "  cyl n \n",
       "1 4   11\n",
       "2 6    7\n",
       "3 8   14"
      ]
     },
     "metadata": {},
     "output_type": "display_data"
    }
   ],
   "source": [
    "ej1 %>% group_by(cyl) %>% summarise(n=n())"
   ]
  },
  {
   "cell_type": "markdown",
   "metadata": {},
   "source": [
    "- Encontrar el modelo de coche con la mayor potencia (\"hp\") y mostrar su información completa"
   ]
  },
  {
   "cell_type": "code",
   "execution_count": 18,
   "metadata": {
    "vscode": {
     "languageId": "r"
    }
   },
   "outputs": [
    {
     "data": {
      "text/html": [
       "<table class=\"dataframe\">\n",
       "<caption>A data.frame: 1 × 11</caption>\n",
       "<thead>\n",
       "\t<tr><th></th><th scope=col>mpg</th><th scope=col>cyl</th><th scope=col>disp</th><th scope=col>hp</th><th scope=col>drat</th><th scope=col>wt</th><th scope=col>qsec</th><th scope=col>vs</th><th scope=col>am</th><th scope=col>gear</th><th scope=col>carb</th></tr>\n",
       "\t<tr><th></th><th scope=col>&lt;dbl&gt;</th><th scope=col>&lt;fct&gt;</th><th scope=col>&lt;dbl&gt;</th><th scope=col>&lt;dbl&gt;</th><th scope=col>&lt;dbl&gt;</th><th scope=col>&lt;dbl&gt;</th><th scope=col>&lt;dbl&gt;</th><th scope=col>&lt;lgl&gt;</th><th scope=col>&lt;lgl&gt;</th><th scope=col>&lt;fct&gt;</th><th scope=col>&lt;fct&gt;</th></tr>\n",
       "</thead>\n",
       "<tbody>\n",
       "\t<tr><th scope=row>Maserati Bora</th><td>15</td><td>8</td><td>301</td><td>335</td><td>3.54</td><td>3.57</td><td>14.6</td><td>FALSE</td><td>TRUE</td><td>5</td><td>8</td></tr>\n",
       "</tbody>\n",
       "</table>\n"
      ],
      "text/latex": [
       "A data.frame: 1 × 11\n",
       "\\begin{tabular}{r|lllllllllll}\n",
       "  & mpg & cyl & disp & hp & drat & wt & qsec & vs & am & gear & carb\\\\\n",
       "  & <dbl> & <fct> & <dbl> & <dbl> & <dbl> & <dbl> & <dbl> & <lgl> & <lgl> & <fct> & <fct>\\\\\n",
       "\\hline\n",
       "\tMaserati Bora & 15 & 8 & 301 & 335 & 3.54 & 3.57 & 14.6 & FALSE & TRUE & 5 & 8\\\\\n",
       "\\end{tabular}\n"
      ],
      "text/markdown": [
       "\n",
       "A data.frame: 1 × 11\n",
       "\n",
       "| <!--/--> | mpg &lt;dbl&gt; | cyl &lt;fct&gt; | disp &lt;dbl&gt; | hp &lt;dbl&gt; | drat &lt;dbl&gt; | wt &lt;dbl&gt; | qsec &lt;dbl&gt; | vs &lt;lgl&gt; | am &lt;lgl&gt; | gear &lt;fct&gt; | carb &lt;fct&gt; |\n",
       "|---|---|---|---|---|---|---|---|---|---|---|---|\n",
       "| Maserati Bora | 15 | 8 | 301 | 335 | 3.54 | 3.57 | 14.6 | FALSE | TRUE | 5 | 8 |\n",
       "\n"
      ],
      "text/plain": [
       "              mpg cyl disp hp  drat wt   qsec vs    am   gear carb\n",
       "Maserati Bora 15  8   301  335 3.54 3.57 14.6 FALSE TRUE 5    8   "
      ]
     },
     "metadata": {},
     "output_type": "display_data"
    }
   ],
   "source": [
    "ej1 %>% top_n(1,hp)"
   ]
  },
  {
   "cell_type": "markdown",
   "metadata": {},
   "source": [
    "- Calcular el promedio de potencia de los coches con 8 cilindros\n"
   ]
  },
  {
   "cell_type": "code",
   "execution_count": 23,
   "metadata": {
    "vscode": {
     "languageId": "r"
    }
   },
   "outputs": [
    {
     "data": {
      "text/html": [
       "<table class=\"dataframe\">\n",
       "<caption>A data.frame: 1 × 1</caption>\n",
       "<thead>\n",
       "\t<tr><th scope=col>promedio</th></tr>\n",
       "\t<tr><th scope=col>&lt;dbl&gt;</th></tr>\n",
       "</thead>\n",
       "<tbody>\n",
       "\t<tr><td>209.2143</td></tr>\n",
       "</tbody>\n",
       "</table>\n"
      ],
      "text/latex": [
       "A data.frame: 1 × 1\n",
       "\\begin{tabular}{l}\n",
       " promedio\\\\\n",
       " <dbl>\\\\\n",
       "\\hline\n",
       "\t 209.2143\\\\\n",
       "\\end{tabular}\n"
      ],
      "text/markdown": [
       "\n",
       "A data.frame: 1 × 1\n",
       "\n",
       "| promedio &lt;dbl&gt; |\n",
       "|---|\n",
       "| 209.2143 |\n",
       "\n"
      ],
      "text/plain": [
       "  promedio\n",
       "1 209.2143"
      ]
     },
     "metadata": {},
     "output_type": "display_data"
    }
   ],
   "source": [
    "ej1 %>% filter(cyl == 8) %>% summarise(promedio = mean(hp))"
   ]
  },
  {
   "cell_type": "markdown",
   "metadata": {},
   "source": [
    "2. Supongamos que tienes un data frame llamado `lego_sets` que contiene información sobre diferentes conjuntos de Lego, incluyendo el nombre del conjunto, el número de piezas, el tema y el año de lanzamiento:"
   ]
  },
  {
   "cell_type": "code",
   "execution_count": 24,
   "metadata": {
    "vscode": {
     "languageId": "r"
    }
   },
   "outputs": [],
   "source": [
    "# Generar datos ficticios\n",
    "nombres <- paste(\"Conjunto\", 1:80)\n",
    "piezas <- sample(50:1000, 80, replace = TRUE)\n",
    "temas <- sample(c(\"Ciudad\", \"Espacio\", \"Arquitectura\", \"Granja\", \"Dinosaurios\", \"Aventuras\", \"Piratas\"), 80, replace = TRUE)\n",
    "años <- sample(2000:2023, 80, replace = TRUE)\n",
    "\n",
    "# Crear el data frame\n",
    "lego_sets <- data.frame(\n",
    "  Set_Name = nombres,\n",
    "  Piece_Count = piezas,\n",
    "  Theme = temas,\n",
    "  Year = años\n",
    ")"
   ]
  },
  {
   "cell_type": "markdown",
   "metadata": {},
   "source": [
    "- Filtra y muestra solo los conjuntos de Lego lanzados en el año 2020"
   ]
  },
  {
   "cell_type": "code",
   "execution_count": 31,
   "metadata": {
    "vscode": {
     "languageId": "r"
    }
   },
   "outputs": [
    {
     "data": {
      "text/html": [
       "<table class=\"dataframe\">\n",
       "<caption>A data.frame: 3 × 4</caption>\n",
       "<thead>\n",
       "\t<tr><th scope=col>Set_Name</th><th scope=col>Piece_Count</th><th scope=col>Theme</th><th scope=col>Year</th></tr>\n",
       "\t<tr><th scope=col>&lt;chr&gt;</th><th scope=col>&lt;int&gt;</th><th scope=col>&lt;chr&gt;</th><th scope=col>&lt;int&gt;</th></tr>\n",
       "</thead>\n",
       "<tbody>\n",
       "\t<tr><td>Conjunto 8 </td><td>715</td><td>Dinosaurios</td><td>2020</td></tr>\n",
       "\t<tr><td>Conjunto 75</td><td>958</td><td>Ciudad     </td><td>2020</td></tr>\n",
       "\t<tr><td>Conjunto 77</td><td>739</td><td>Espacio    </td><td>2020</td></tr>\n",
       "</tbody>\n",
       "</table>\n"
      ],
      "text/latex": [
       "A data.frame: 3 × 4\n",
       "\\begin{tabular}{llll}\n",
       " Set\\_Name & Piece\\_Count & Theme & Year\\\\\n",
       " <chr> & <int> & <chr> & <int>\\\\\n",
       "\\hline\n",
       "\t Conjunto 8  & 715 & Dinosaurios & 2020\\\\\n",
       "\t Conjunto 75 & 958 & Ciudad      & 2020\\\\\n",
       "\t Conjunto 77 & 739 & Espacio     & 2020\\\\\n",
       "\\end{tabular}\n"
      ],
      "text/markdown": [
       "\n",
       "A data.frame: 3 × 4\n",
       "\n",
       "| Set_Name &lt;chr&gt; | Piece_Count &lt;int&gt; | Theme &lt;chr&gt; | Year &lt;int&gt; |\n",
       "|---|---|---|---|\n",
       "| Conjunto 8  | 715 | Dinosaurios | 2020 |\n",
       "| Conjunto 75 | 958 | Ciudad      | 2020 |\n",
       "| Conjunto 77 | 739 | Espacio     | 2020 |\n",
       "\n"
      ],
      "text/plain": [
       "  Set_Name    Piece_Count Theme       Year\n",
       "1 Conjunto 8  715         Dinosaurios 2020\n",
       "2 Conjunto 75 958         Ciudad      2020\n",
       "3 Conjunto 77 739         Espacio     2020"
      ]
     },
     "metadata": {},
     "output_type": "display_data"
    }
   ],
   "source": [
    "lego_sets %>% filter(Year == 2020)"
   ]
  },
  {
   "cell_type": "markdown",
   "metadata": {},
   "source": [
    "- Encuentra y muestra el nombre y el número de piezas del conjunto de Lego más grande"
   ]
  },
  {
   "cell_type": "code",
   "execution_count": 32,
   "metadata": {
    "vscode": {
     "languageId": "r"
    }
   },
   "outputs": [
    {
     "data": {
      "text/html": [
       "<table class=\"dataframe\">\n",
       "<caption>A data.frame: 1 × 2</caption>\n",
       "<thead>\n",
       "\t<tr><th scope=col>Set_Name</th><th scope=col>Piece_Count</th></tr>\n",
       "\t<tr><th scope=col>&lt;chr&gt;</th><th scope=col>&lt;int&gt;</th></tr>\n",
       "</thead>\n",
       "<tbody>\n",
       "\t<tr><td>Conjunto 64</td><td>973</td></tr>\n",
       "</tbody>\n",
       "</table>\n"
      ],
      "text/latex": [
       "A data.frame: 1 × 2\n",
       "\\begin{tabular}{ll}\n",
       " Set\\_Name & Piece\\_Count\\\\\n",
       " <chr> & <int>\\\\\n",
       "\\hline\n",
       "\t Conjunto 64 & 973\\\\\n",
       "\\end{tabular}\n"
      ],
      "text/markdown": [
       "\n",
       "A data.frame: 1 × 2\n",
       "\n",
       "| Set_Name &lt;chr&gt; | Piece_Count &lt;int&gt; |\n",
       "|---|---|\n",
       "| Conjunto 64 | 973 |\n",
       "\n"
      ],
      "text/plain": [
       "  Set_Name    Piece_Count\n",
       "1 Conjunto 64 973        "
      ]
     },
     "metadata": {},
     "output_type": "display_data"
    }
   ],
   "source": [
    "lego_sets %>% top_n(1,Piece_Count) %>% select(Set_Name,Piece_Count)"
   ]
  },
  {
   "cell_type": "markdown",
   "metadata": {},
   "source": [
    "- Calcula la cantidad total de piezas para cada tema y muestra un resumen ordenado en orden descendente\n"
   ]
  },
  {
   "cell_type": "code",
   "execution_count": 34,
   "metadata": {
    "vscode": {
     "languageId": "r"
    }
   },
   "outputs": [
    {
     "data": {
      "text/html": [
       "<table class=\"dataframe\">\n",
       "<caption>A tibble: 7 × 2</caption>\n",
       "<thead>\n",
       "\t<tr><th scope=col>Theme</th><th scope=col>Total_Piezas</th></tr>\n",
       "\t<tr><th scope=col>&lt;chr&gt;</th><th scope=col>&lt;int&gt;</th></tr>\n",
       "</thead>\n",
       "<tbody>\n",
       "\t<tr><td>Aventuras   </td><td> 3851</td></tr>\n",
       "\t<tr><td>Ciudad      </td><td> 4283</td></tr>\n",
       "\t<tr><td>Dinosaurios </td><td> 4661</td></tr>\n",
       "\t<tr><td>Arquitectura</td><td> 5428</td></tr>\n",
       "\t<tr><td>Granja      </td><td> 6039</td></tr>\n",
       "\t<tr><td>Piratas     </td><td> 6227</td></tr>\n",
       "\t<tr><td>Espacio     </td><td>12593</td></tr>\n",
       "</tbody>\n",
       "</table>\n"
      ],
      "text/latex": [
       "A tibble: 7 × 2\n",
       "\\begin{tabular}{ll}\n",
       " Theme & Total\\_Piezas\\\\\n",
       " <chr> & <int>\\\\\n",
       "\\hline\n",
       "\t Aventuras    &  3851\\\\\n",
       "\t Ciudad       &  4283\\\\\n",
       "\t Dinosaurios  &  4661\\\\\n",
       "\t Arquitectura &  5428\\\\\n",
       "\t Granja       &  6039\\\\\n",
       "\t Piratas      &  6227\\\\\n",
       "\t Espacio      & 12593\\\\\n",
       "\\end{tabular}\n"
      ],
      "text/markdown": [
       "\n",
       "A tibble: 7 × 2\n",
       "\n",
       "| Theme &lt;chr&gt; | Total_Piezas &lt;int&gt; |\n",
       "|---|---|\n",
       "| Aventuras    |  3851 |\n",
       "| Ciudad       |  4283 |\n",
       "| Dinosaurios  |  4661 |\n",
       "| Arquitectura |  5428 |\n",
       "| Granja       |  6039 |\n",
       "| Piratas      |  6227 |\n",
       "| Espacio      | 12593 |\n",
       "\n"
      ],
      "text/plain": [
       "  Theme        Total_Piezas\n",
       "1 Aventuras     3851       \n",
       "2 Ciudad        4283       \n",
       "3 Dinosaurios   4661       \n",
       "4 Arquitectura  5428       \n",
       "5 Granja        6039       \n",
       "6 Piratas       6227       \n",
       "7 Espacio      12593       "
      ]
     },
     "metadata": {},
     "output_type": "display_data"
    }
   ],
   "source": [
    "lego_sets %>% group_by(Theme) %>% summarise(Total_Piezas =sum(Piece_Count)) %>% arrange(Total_Piezas)"
   ]
  },
  {
   "cell_type": "markdown",
   "metadata": {},
   "source": [
    "- Calcula cuántos conjuntos de Lego se lanzaron en cada año y muéstralo ordenado por año"
   ]
  },
  {
   "cell_type": "code",
   "execution_count": 35,
   "metadata": {
    "vscode": {
     "languageId": "r"
    }
   },
   "outputs": [
    {
     "data": {
      "text/html": [
       "<table class=\"dataframe\">\n",
       "<caption>A tibble: 24 × 2</caption>\n",
       "<thead>\n",
       "\t<tr><th scope=col>Year</th><th scope=col>Numero_Sets</th></tr>\n",
       "\t<tr><th scope=col>&lt;int&gt;</th><th scope=col>&lt;int&gt;</th></tr>\n",
       "</thead>\n",
       "<tbody>\n",
       "\t<tr><td>2000</td><td>4</td></tr>\n",
       "\t<tr><td>2001</td><td>3</td></tr>\n",
       "\t<tr><td>2002</td><td>2</td></tr>\n",
       "\t<tr><td>2003</td><td>4</td></tr>\n",
       "\t<tr><td>2004</td><td>1</td></tr>\n",
       "\t<tr><td>2005</td><td>5</td></tr>\n",
       "\t<tr><td>2006</td><td>2</td></tr>\n",
       "\t<tr><td>2007</td><td>3</td></tr>\n",
       "\t<tr><td>2008</td><td>1</td></tr>\n",
       "\t<tr><td>2009</td><td>4</td></tr>\n",
       "\t<tr><td>2010</td><td>3</td></tr>\n",
       "\t<tr><td>2011</td><td>3</td></tr>\n",
       "\t<tr><td>2012</td><td>4</td></tr>\n",
       "\t<tr><td>2013</td><td>4</td></tr>\n",
       "\t<tr><td>2014</td><td>6</td></tr>\n",
       "\t<tr><td>2015</td><td>5</td></tr>\n",
       "\t<tr><td>2016</td><td>2</td></tr>\n",
       "\t<tr><td>2017</td><td>3</td></tr>\n",
       "\t<tr><td>2018</td><td>2</td></tr>\n",
       "\t<tr><td>2019</td><td>3</td></tr>\n",
       "\t<tr><td>2020</td><td>3</td></tr>\n",
       "\t<tr><td>2021</td><td>4</td></tr>\n",
       "\t<tr><td>2022</td><td>5</td></tr>\n",
       "\t<tr><td>2023</td><td>4</td></tr>\n",
       "</tbody>\n",
       "</table>\n"
      ],
      "text/latex": [
       "A tibble: 24 × 2\n",
       "\\begin{tabular}{ll}\n",
       " Year & Numero\\_Sets\\\\\n",
       " <int> & <int>\\\\\n",
       "\\hline\n",
       "\t 2000 & 4\\\\\n",
       "\t 2001 & 3\\\\\n",
       "\t 2002 & 2\\\\\n",
       "\t 2003 & 4\\\\\n",
       "\t 2004 & 1\\\\\n",
       "\t 2005 & 5\\\\\n",
       "\t 2006 & 2\\\\\n",
       "\t 2007 & 3\\\\\n",
       "\t 2008 & 1\\\\\n",
       "\t 2009 & 4\\\\\n",
       "\t 2010 & 3\\\\\n",
       "\t 2011 & 3\\\\\n",
       "\t 2012 & 4\\\\\n",
       "\t 2013 & 4\\\\\n",
       "\t 2014 & 6\\\\\n",
       "\t 2015 & 5\\\\\n",
       "\t 2016 & 2\\\\\n",
       "\t 2017 & 3\\\\\n",
       "\t 2018 & 2\\\\\n",
       "\t 2019 & 3\\\\\n",
       "\t 2020 & 3\\\\\n",
       "\t 2021 & 4\\\\\n",
       "\t 2022 & 5\\\\\n",
       "\t 2023 & 4\\\\\n",
       "\\end{tabular}\n"
      ],
      "text/markdown": [
       "\n",
       "A tibble: 24 × 2\n",
       "\n",
       "| Year &lt;int&gt; | Numero_Sets &lt;int&gt; |\n",
       "|---|---|\n",
       "| 2000 | 4 |\n",
       "| 2001 | 3 |\n",
       "| 2002 | 2 |\n",
       "| 2003 | 4 |\n",
       "| 2004 | 1 |\n",
       "| 2005 | 5 |\n",
       "| 2006 | 2 |\n",
       "| 2007 | 3 |\n",
       "| 2008 | 1 |\n",
       "| 2009 | 4 |\n",
       "| 2010 | 3 |\n",
       "| 2011 | 3 |\n",
       "| 2012 | 4 |\n",
       "| 2013 | 4 |\n",
       "| 2014 | 6 |\n",
       "| 2015 | 5 |\n",
       "| 2016 | 2 |\n",
       "| 2017 | 3 |\n",
       "| 2018 | 2 |\n",
       "| 2019 | 3 |\n",
       "| 2020 | 3 |\n",
       "| 2021 | 4 |\n",
       "| 2022 | 5 |\n",
       "| 2023 | 4 |\n",
       "\n"
      ],
      "text/plain": [
       "   Year Numero_Sets\n",
       "1  2000 4          \n",
       "2  2001 3          \n",
       "3  2002 2          \n",
       "4  2003 4          \n",
       "5  2004 1          \n",
       "6  2005 5          \n",
       "7  2006 2          \n",
       "8  2007 3          \n",
       "9  2008 1          \n",
       "10 2009 4          \n",
       "11 2010 3          \n",
       "12 2011 3          \n",
       "13 2012 4          \n",
       "14 2013 4          \n",
       "15 2014 6          \n",
       "16 2015 5          \n",
       "17 2016 2          \n",
       "18 2017 3          \n",
       "19 2018 2          \n",
       "20 2019 3          \n",
       "21 2020 3          \n",
       "22 2021 4          \n",
       "23 2022 5          \n",
       "24 2023 4          "
      ]
     },
     "metadata": {},
     "output_type": "display_data"
    }
   ],
   "source": [
    "lego_sets %>% group_by(Year) %>% summarise(Numero_Sets = n())"
   ]
  },
  {
   "cell_type": "markdown",
   "metadata": {},
   "source": [
    "- Encuentra los 3 temas más populares (con más conjuntos) y muestra el número de conjuntos y el número total de piezas para cada uno de ellos\n"
   ]
  },
  {
   "cell_type": "code",
   "execution_count": 41,
   "metadata": {
    "vscode": {
     "languageId": "r"
    }
   },
   "outputs": [
    {
     "data": {
      "text/html": [
       "<table class=\"dataframe\">\n",
       "<caption>A tibble: 3 × 3</caption>\n",
       "<thead>\n",
       "\t<tr><th scope=col>Theme</th><th scope=col>Num_conjuntos</th><th scope=col>Total_Piezas</th></tr>\n",
       "\t<tr><th scope=col>&lt;chr&gt;</th><th scope=col>&lt;int&gt;</th><th scope=col>&lt;int&gt;</th></tr>\n",
       "</thead>\n",
       "<tbody>\n",
       "\t<tr><td>Espacio</td><td>21</td><td>12593</td></tr>\n",
       "\t<tr><td>Granja </td><td>13</td><td> 6039</td></tr>\n",
       "\t<tr><td>Piratas</td><td>11</td><td> 6227</td></tr>\n",
       "</tbody>\n",
       "</table>\n"
      ],
      "text/latex": [
       "A tibble: 3 × 3\n",
       "\\begin{tabular}{lll}\n",
       " Theme & Num\\_conjuntos & Total\\_Piezas\\\\\n",
       " <chr> & <int> & <int>\\\\\n",
       "\\hline\n",
       "\t Espacio & 21 & 12593\\\\\n",
       "\t Granja  & 13 &  6039\\\\\n",
       "\t Piratas & 11 &  6227\\\\\n",
       "\\end{tabular}\n"
      ],
      "text/markdown": [
       "\n",
       "A tibble: 3 × 3\n",
       "\n",
       "| Theme &lt;chr&gt; | Num_conjuntos &lt;int&gt; | Total_Piezas &lt;int&gt; |\n",
       "|---|---|---|\n",
       "| Espacio | 21 | 12593 |\n",
       "| Granja  | 13 |  6039 |\n",
       "| Piratas | 11 |  6227 |\n",
       "\n"
      ],
      "text/plain": [
       "  Theme   Num_conjuntos Total_Piezas\n",
       "1 Espacio 21            12593       \n",
       "2 Granja  13             6039       \n",
       "3 Piratas 11             6227       "
      ]
     },
     "metadata": {},
     "output_type": "display_data"
    }
   ],
   "source": [
    "lego_sets %>% group_by(Theme) %>% summarise(Num_conjuntos = n(), Total_Piezas = sum(Piece_Count)) %>% top_n(3, Total_Piezas)"
   ]
  },
  {
   "cell_type": "markdown",
   "metadata": {},
   "source": [
    "3. Dado un data frame llamado `bebidas` que contiene información sobre la edad, género, tipo de bebida y cantidad de copas consumidas por un grupo de personas, filtra y muestra únicamente a las mujeres mayores de 20 años. Para este suconjunto calcula la media, el máximo, la cantidad de copas totales y la desviación estándar de la edad para cada combinación de tipo de bebida. Finalemnte, agrega una nueva columna que indique cuántas personas se encuentran en cada grupo de tipo de bebida."
   ]
  },
  {
   "cell_type": "code",
   "execution_count": 42,
   "metadata": {
    "vscode": {
     "languageId": "r"
    }
   },
   "outputs": [],
   "source": [
    "# Generar datos ficticios\n",
    "num_elementos <- 100\n",
    "edades <- sample(18:70, num_elementos, replace = TRUE)\n",
    "sexos <- sample(c(\"Hombre\", \"Mujer\"), num_elementos, replace = TRUE)\n",
    "tipos_bebida <- sample(c(\"Cerveza\", \"Vino\", \"Refresco\", \"Cóctel\", \"Agua\"), num_elementos, replace = TRUE)\n",
    "cantidad_copas <- sample(1:5, num_elementos, replace = TRUE)\n",
    "\n",
    "# Crear el data frame de bebidas\n",
    "bebidas <- data.frame(\n",
    "  Edad = edades,\n",
    "  Sexo = sexos,\n",
    "  Bebida = tipos_bebida,\n",
    "  Copas = cantidad_copas\n",
    ")"
   ]
  },
  {
   "cell_type": "code",
   "execution_count": 44,
   "metadata": {
    "vscode": {
     "languageId": "r"
    }
   },
   "outputs": [
    {
     "data": {
      "text/html": [
       "<table class=\"dataframe\">\n",
       "<caption>A data.frame: 44 × 4</caption>\n",
       "<thead>\n",
       "\t<tr><th scope=col>Edad</th><th scope=col>Sexo</th><th scope=col>Bebida</th><th scope=col>Copas</th></tr>\n",
       "\t<tr><th scope=col>&lt;int&gt;</th><th scope=col>&lt;chr&gt;</th><th scope=col>&lt;chr&gt;</th><th scope=col>&lt;int&gt;</th></tr>\n",
       "</thead>\n",
       "<tbody>\n",
       "\t<tr><td>43</td><td>Mujer</td><td>Vino    </td><td>1</td></tr>\n",
       "\t<tr><td>29</td><td>Mujer</td><td>Cóctel  </td><td>1</td></tr>\n",
       "\t<tr><td>48</td><td>Mujer</td><td>Vino    </td><td>4</td></tr>\n",
       "\t<tr><td>41</td><td>Mujer</td><td>Cerveza </td><td>2</td></tr>\n",
       "\t<tr><td>43</td><td>Mujer</td><td>Cerveza </td><td>2</td></tr>\n",
       "\t<tr><td>46</td><td>Mujer</td><td>Cóctel  </td><td>2</td></tr>\n",
       "\t<tr><td>51</td><td>Mujer</td><td>Refresco</td><td>5</td></tr>\n",
       "\t<tr><td>40</td><td>Mujer</td><td>Cerveza </td><td>2</td></tr>\n",
       "\t<tr><td>45</td><td>Mujer</td><td>Cóctel  </td><td>2</td></tr>\n",
       "\t<tr><td>36</td><td>Mujer</td><td>Cóctel  </td><td>4</td></tr>\n",
       "\t<tr><td>43</td><td>Mujer</td><td>Refresco</td><td>1</td></tr>\n",
       "\t<tr><td>21</td><td>Mujer</td><td>Refresco</td><td>1</td></tr>\n",
       "\t<tr><td>54</td><td>Mujer</td><td>Agua    </td><td>1</td></tr>\n",
       "\t<tr><td>57</td><td>Mujer</td><td>Agua    </td><td>1</td></tr>\n",
       "\t<tr><td>23</td><td>Mujer</td><td>Cóctel  </td><td>5</td></tr>\n",
       "\t<tr><td>63</td><td>Mujer</td><td>Agua    </td><td>3</td></tr>\n",
       "\t<tr><td>22</td><td>Mujer</td><td>Cerveza </td><td>5</td></tr>\n",
       "\t<tr><td>36</td><td>Mujer</td><td>Vino    </td><td>4</td></tr>\n",
       "\t<tr><td>36</td><td>Mujer</td><td>Cerveza </td><td>3</td></tr>\n",
       "\t<tr><td>22</td><td>Mujer</td><td>Cóctel  </td><td>5</td></tr>\n",
       "\t<tr><td>25</td><td>Mujer</td><td>Refresco</td><td>2</td></tr>\n",
       "\t<tr><td>65</td><td>Mujer</td><td>Vino    </td><td>1</td></tr>\n",
       "\t<tr><td>27</td><td>Mujer</td><td>Refresco</td><td>3</td></tr>\n",
       "\t<tr><td>66</td><td>Mujer</td><td>Cóctel  </td><td>5</td></tr>\n",
       "\t<tr><td>28</td><td>Mujer</td><td>Cóctel  </td><td>4</td></tr>\n",
       "\t<tr><td>25</td><td>Mujer</td><td>Refresco</td><td>1</td></tr>\n",
       "\t<tr><td>56</td><td>Mujer</td><td>Refresco</td><td>3</td></tr>\n",
       "\t<tr><td>47</td><td>Mujer</td><td>Vino    </td><td>2</td></tr>\n",
       "\t<tr><td>29</td><td>Mujer</td><td>Vino    </td><td>2</td></tr>\n",
       "\t<tr><td>32</td><td>Mujer</td><td>Vino    </td><td>1</td></tr>\n",
       "\t<tr><td>23</td><td>Mujer</td><td>Refresco</td><td>3</td></tr>\n",
       "\t<tr><td>43</td><td>Mujer</td><td>Refresco</td><td>1</td></tr>\n",
       "\t<tr><td>29</td><td>Mujer</td><td>Agua    </td><td>2</td></tr>\n",
       "\t<tr><td>57</td><td>Mujer</td><td>Refresco</td><td>2</td></tr>\n",
       "\t<tr><td>52</td><td>Mujer</td><td>Cóctel  </td><td>2</td></tr>\n",
       "\t<tr><td>52</td><td>Mujer</td><td>Cóctel  </td><td>4</td></tr>\n",
       "\t<tr><td>25</td><td>Mujer</td><td>Cerveza </td><td>4</td></tr>\n",
       "\t<tr><td>39</td><td>Mujer</td><td>Refresco</td><td>2</td></tr>\n",
       "\t<tr><td>62</td><td>Mujer</td><td>Cerveza </td><td>5</td></tr>\n",
       "\t<tr><td>57</td><td>Mujer</td><td>Refresco</td><td>4</td></tr>\n",
       "\t<tr><td>54</td><td>Mujer</td><td>Cóctel  </td><td>4</td></tr>\n",
       "\t<tr><td>50</td><td>Mujer</td><td>Agua    </td><td>3</td></tr>\n",
       "\t<tr><td>61</td><td>Mujer</td><td>Cóctel  </td><td>3</td></tr>\n",
       "\t<tr><td>66</td><td>Mujer</td><td>Vino    </td><td>5</td></tr>\n",
       "</tbody>\n",
       "</table>\n"
      ],
      "text/latex": [
       "A data.frame: 44 × 4\n",
       "\\begin{tabular}{llll}\n",
       " Edad & Sexo & Bebida & Copas\\\\\n",
       " <int> & <chr> & <chr> & <int>\\\\\n",
       "\\hline\n",
       "\t 43 & Mujer & Vino     & 1\\\\\n",
       "\t 29 & Mujer & Cóctel   & 1\\\\\n",
       "\t 48 & Mujer & Vino     & 4\\\\\n",
       "\t 41 & Mujer & Cerveza  & 2\\\\\n",
       "\t 43 & Mujer & Cerveza  & 2\\\\\n",
       "\t 46 & Mujer & Cóctel   & 2\\\\\n",
       "\t 51 & Mujer & Refresco & 5\\\\\n",
       "\t 40 & Mujer & Cerveza  & 2\\\\\n",
       "\t 45 & Mujer & Cóctel   & 2\\\\\n",
       "\t 36 & Mujer & Cóctel   & 4\\\\\n",
       "\t 43 & Mujer & Refresco & 1\\\\\n",
       "\t 21 & Mujer & Refresco & 1\\\\\n",
       "\t 54 & Mujer & Agua     & 1\\\\\n",
       "\t 57 & Mujer & Agua     & 1\\\\\n",
       "\t 23 & Mujer & Cóctel   & 5\\\\\n",
       "\t 63 & Mujer & Agua     & 3\\\\\n",
       "\t 22 & Mujer & Cerveza  & 5\\\\\n",
       "\t 36 & Mujer & Vino     & 4\\\\\n",
       "\t 36 & Mujer & Cerveza  & 3\\\\\n",
       "\t 22 & Mujer & Cóctel   & 5\\\\\n",
       "\t 25 & Mujer & Refresco & 2\\\\\n",
       "\t 65 & Mujer & Vino     & 1\\\\\n",
       "\t 27 & Mujer & Refresco & 3\\\\\n",
       "\t 66 & Mujer & Cóctel   & 5\\\\\n",
       "\t 28 & Mujer & Cóctel   & 4\\\\\n",
       "\t 25 & Mujer & Refresco & 1\\\\\n",
       "\t 56 & Mujer & Refresco & 3\\\\\n",
       "\t 47 & Mujer & Vino     & 2\\\\\n",
       "\t 29 & Mujer & Vino     & 2\\\\\n",
       "\t 32 & Mujer & Vino     & 1\\\\\n",
       "\t 23 & Mujer & Refresco & 3\\\\\n",
       "\t 43 & Mujer & Refresco & 1\\\\\n",
       "\t 29 & Mujer & Agua     & 2\\\\\n",
       "\t 57 & Mujer & Refresco & 2\\\\\n",
       "\t 52 & Mujer & Cóctel   & 2\\\\\n",
       "\t 52 & Mujer & Cóctel   & 4\\\\\n",
       "\t 25 & Mujer & Cerveza  & 4\\\\\n",
       "\t 39 & Mujer & Refresco & 2\\\\\n",
       "\t 62 & Mujer & Cerveza  & 5\\\\\n",
       "\t 57 & Mujer & Refresco & 4\\\\\n",
       "\t 54 & Mujer & Cóctel   & 4\\\\\n",
       "\t 50 & Mujer & Agua     & 3\\\\\n",
       "\t 61 & Mujer & Cóctel   & 3\\\\\n",
       "\t 66 & Mujer & Vino     & 5\\\\\n",
       "\\end{tabular}\n"
      ],
      "text/markdown": [
       "\n",
       "A data.frame: 44 × 4\n",
       "\n",
       "| Edad &lt;int&gt; | Sexo &lt;chr&gt; | Bebida &lt;chr&gt; | Copas &lt;int&gt; |\n",
       "|---|---|---|---|\n",
       "| 43 | Mujer | Vino     | 1 |\n",
       "| 29 | Mujer | Cóctel   | 1 |\n",
       "| 48 | Mujer | Vino     | 4 |\n",
       "| 41 | Mujer | Cerveza  | 2 |\n",
       "| 43 | Mujer | Cerveza  | 2 |\n",
       "| 46 | Mujer | Cóctel   | 2 |\n",
       "| 51 | Mujer | Refresco | 5 |\n",
       "| 40 | Mujer | Cerveza  | 2 |\n",
       "| 45 | Mujer | Cóctel   | 2 |\n",
       "| 36 | Mujer | Cóctel   | 4 |\n",
       "| 43 | Mujer | Refresco | 1 |\n",
       "| 21 | Mujer | Refresco | 1 |\n",
       "| 54 | Mujer | Agua     | 1 |\n",
       "| 57 | Mujer | Agua     | 1 |\n",
       "| 23 | Mujer | Cóctel   | 5 |\n",
       "| 63 | Mujer | Agua     | 3 |\n",
       "| 22 | Mujer | Cerveza  | 5 |\n",
       "| 36 | Mujer | Vino     | 4 |\n",
       "| 36 | Mujer | Cerveza  | 3 |\n",
       "| 22 | Mujer | Cóctel   | 5 |\n",
       "| 25 | Mujer | Refresco | 2 |\n",
       "| 65 | Mujer | Vino     | 1 |\n",
       "| 27 | Mujer | Refresco | 3 |\n",
       "| 66 | Mujer | Cóctel   | 5 |\n",
       "| 28 | Mujer | Cóctel   | 4 |\n",
       "| 25 | Mujer | Refresco | 1 |\n",
       "| 56 | Mujer | Refresco | 3 |\n",
       "| 47 | Mujer | Vino     | 2 |\n",
       "| 29 | Mujer | Vino     | 2 |\n",
       "| 32 | Mujer | Vino     | 1 |\n",
       "| 23 | Mujer | Refresco | 3 |\n",
       "| 43 | Mujer | Refresco | 1 |\n",
       "| 29 | Mujer | Agua     | 2 |\n",
       "| 57 | Mujer | Refresco | 2 |\n",
       "| 52 | Mujer | Cóctel   | 2 |\n",
       "| 52 | Mujer | Cóctel   | 4 |\n",
       "| 25 | Mujer | Cerveza  | 4 |\n",
       "| 39 | Mujer | Refresco | 2 |\n",
       "| 62 | Mujer | Cerveza  | 5 |\n",
       "| 57 | Mujer | Refresco | 4 |\n",
       "| 54 | Mujer | Cóctel   | 4 |\n",
       "| 50 | Mujer | Agua     | 3 |\n",
       "| 61 | Mujer | Cóctel   | 3 |\n",
       "| 66 | Mujer | Vino     | 5 |\n",
       "\n"
      ],
      "text/plain": [
       "   Edad Sexo  Bebida   Copas\n",
       "1  43   Mujer Vino     1    \n",
       "2  29   Mujer Cóctel   1    \n",
       "3  48   Mujer Vino     4    \n",
       "4  41   Mujer Cerveza  2    \n",
       "5  43   Mujer Cerveza  2    \n",
       "6  46   Mujer Cóctel   2    \n",
       "7  51   Mujer Refresco 5    \n",
       "8  40   Mujer Cerveza  2    \n",
       "9  45   Mujer Cóctel   2    \n",
       "10 36   Mujer Cóctel   4    \n",
       "11 43   Mujer Refresco 1    \n",
       "12 21   Mujer Refresco 1    \n",
       "13 54   Mujer Agua     1    \n",
       "14 57   Mujer Agua     1    \n",
       "15 23   Mujer Cóctel   5    \n",
       "16 63   Mujer Agua     3    \n",
       "17 22   Mujer Cerveza  5    \n",
       "18 36   Mujer Vino     4    \n",
       "19 36   Mujer Cerveza  3    \n",
       "20 22   Mujer Cóctel   5    \n",
       "21 25   Mujer Refresco 2    \n",
       "22 65   Mujer Vino     1    \n",
       "23 27   Mujer Refresco 3    \n",
       "24 66   Mujer Cóctel   5    \n",
       "25 28   Mujer Cóctel   4    \n",
       "26 25   Mujer Refresco 1    \n",
       "27 56   Mujer Refresco 3    \n",
       "28 47   Mujer Vino     2    \n",
       "29 29   Mujer Vino     2    \n",
       "30 32   Mujer Vino     1    \n",
       "31 23   Mujer Refresco 3    \n",
       "32 43   Mujer Refresco 1    \n",
       "33 29   Mujer Agua     2    \n",
       "34 57   Mujer Refresco 2    \n",
       "35 52   Mujer Cóctel   2    \n",
       "36 52   Mujer Cóctel   4    \n",
       "37 25   Mujer Cerveza  4    \n",
       "38 39   Mujer Refresco 2    \n",
       "39 62   Mujer Cerveza  5    \n",
       "40 57   Mujer Refresco 4    \n",
       "41 54   Mujer Cóctel   4    \n",
       "42 50   Mujer Agua     3    \n",
       "43 61   Mujer Cóctel   3    \n",
       "44 66   Mujer Vino     5    "
      ]
     },
     "metadata": {},
     "output_type": "display_data"
    }
   ],
   "source": [
    "filteredej3 <- bebidas %>% filter(Sexo == \"Mujer\" & Edad > 20)\n",
    "filteredej3"
   ]
  },
  {
   "cell_type": "code",
   "execution_count": 80,
   "metadata": {
    "vscode": {
     "languageId": "r"
    }
   },
   "outputs": [
    {
     "data": {
      "text/html": [
       "<table class=\"dataframe\">\n",
       "<caption>A tibble: 5 × 4</caption>\n",
       "<thead>\n",
       "\t<tr><th scope=col>Bebida</th><th scope=col>Media_Copas</th><th scope=col>Maximo_Copas</th><th scope=col>Sd_Edad</th></tr>\n",
       "\t<tr><th scope=col>&lt;chr&gt;</th><th scope=col>&lt;dbl&gt;</th><th scope=col>&lt;int&gt;</th><th scope=col>&lt;dbl&gt;</th></tr>\n",
       "</thead>\n",
       "<tbody>\n",
       "\t<tr><td>Agua    </td><td>2.000000</td><td>3</td><td>12.97305</td></tr>\n",
       "\t<tr><td>Cerveza </td><td>3.285714</td><td>5</td><td>13.17646</td></tr>\n",
       "\t<tr><td>Cóctel  </td><td>3.416667</td><td>5</td><td>14.95346</td></tr>\n",
       "\t<tr><td>Refresco</td><td>2.333333</td><td>5</td><td>14.23477</td></tr>\n",
       "\t<tr><td>Vino    </td><td>2.500000</td><td>5</td><td>13.93608</td></tr>\n",
       "</tbody>\n",
       "</table>\n"
      ],
      "text/latex": [
       "A tibble: 5 × 4\n",
       "\\begin{tabular}{llll}\n",
       " Bebida & Media\\_Copas & Maximo\\_Copas & Sd\\_Edad\\\\\n",
       " <chr> & <dbl> & <int> & <dbl>\\\\\n",
       "\\hline\n",
       "\t Agua     & 2.000000 & 3 & 12.97305\\\\\n",
       "\t Cerveza  & 3.285714 & 5 & 13.17646\\\\\n",
       "\t Cóctel   & 3.416667 & 5 & 14.95346\\\\\n",
       "\t Refresco & 2.333333 & 5 & 14.23477\\\\\n",
       "\t Vino     & 2.500000 & 5 & 13.93608\\\\\n",
       "\\end{tabular}\n"
      ],
      "text/markdown": [
       "\n",
       "A tibble: 5 × 4\n",
       "\n",
       "| Bebida &lt;chr&gt; | Media_Copas &lt;dbl&gt; | Maximo_Copas &lt;int&gt; | Sd_Edad &lt;dbl&gt; |\n",
       "|---|---|---|---|\n",
       "| Agua     | 2.000000 | 3 | 12.97305 |\n",
       "| Cerveza  | 3.285714 | 5 | 13.17646 |\n",
       "| Cóctel   | 3.416667 | 5 | 14.95346 |\n",
       "| Refresco | 2.333333 | 5 | 14.23477 |\n",
       "| Vino     | 2.500000 | 5 | 13.93608 |\n",
       "\n"
      ],
      "text/plain": [
       "  Bebida   Media_Copas Maximo_Copas Sd_Edad \n",
       "1 Agua     2.000000    3            12.97305\n",
       "2 Cerveza  3.285714    5            13.17646\n",
       "3 Cóctel   3.416667    5            14.95346\n",
       "4 Refresco 2.333333    5            14.23477\n",
       "5 Vino     2.500000    5            13.93608"
      ]
     },
     "metadata": {},
     "output_type": "display_data"
    }
   ],
   "source": [
    "summaryej3 <- filteredej3 %>% group_by(Bebida) %>%summarise(Media_Copas= mean(Copas),Maximo_Copas= max(Copas), Sd_Edad = sd(Edad))\n",
    "summaryej3"
   ]
  },
  {
   "cell_type": "code",
   "execution_count": 84,
   "metadata": {
    "vscode": {
     "languageId": "r"
    }
   },
   "outputs": [
    {
     "data": {
      "text/html": [
       "<table class=\"dataframe\">\n",
       "<caption>A tibble: 5 × 5</caption>\n",
       "<thead>\n",
       "\t<tr><th scope=col>Bebida</th><th scope=col>Media_Copas</th><th scope=col>Maximo_Copas</th><th scope=col>Sd_Edad</th><th scope=col>Numero_Personas</th></tr>\n",
       "\t<tr><th scope=col>&lt;chr&gt;</th><th scope=col>&lt;dbl&gt;</th><th scope=col>&lt;int&gt;</th><th scope=col>&lt;dbl&gt;</th><th scope=col>&lt;int&gt;</th></tr>\n",
       "</thead>\n",
       "<tbody>\n",
       "\t<tr><td>Agua    </td><td>2.000000</td><td>3</td><td>12.97305</td><td> 5</td></tr>\n",
       "\t<tr><td>Cerveza </td><td>3.285714</td><td>5</td><td>13.17646</td><td> 7</td></tr>\n",
       "\t<tr><td>Cóctel  </td><td>3.416667</td><td>5</td><td>14.95346</td><td>12</td></tr>\n",
       "\t<tr><td>Refresco</td><td>2.333333</td><td>5</td><td>14.23477</td><td>12</td></tr>\n",
       "\t<tr><td>Vino    </td><td>2.500000</td><td>5</td><td>13.93608</td><td> 8</td></tr>\n",
       "</tbody>\n",
       "</table>\n"
      ],
      "text/latex": [
       "A tibble: 5 × 5\n",
       "\\begin{tabular}{lllll}\n",
       " Bebida & Media\\_Copas & Maximo\\_Copas & Sd\\_Edad & Numero\\_Personas\\\\\n",
       " <chr> & <dbl> & <int> & <dbl> & <int>\\\\\n",
       "\\hline\n",
       "\t Agua     & 2.000000 & 3 & 12.97305 &  5\\\\\n",
       "\t Cerveza  & 3.285714 & 5 & 13.17646 &  7\\\\\n",
       "\t Cóctel   & 3.416667 & 5 & 14.95346 & 12\\\\\n",
       "\t Refresco & 2.333333 & 5 & 14.23477 & 12\\\\\n",
       "\t Vino     & 2.500000 & 5 & 13.93608 &  8\\\\\n",
       "\\end{tabular}\n"
      ],
      "text/markdown": [
       "\n",
       "A tibble: 5 × 5\n",
       "\n",
       "| Bebida &lt;chr&gt; | Media_Copas &lt;dbl&gt; | Maximo_Copas &lt;int&gt; | Sd_Edad &lt;dbl&gt; | Numero_Personas &lt;int&gt; |\n",
       "|---|---|---|---|---|\n",
       "| Agua     | 2.000000 | 3 | 12.97305 |  5 |\n",
       "| Cerveza  | 3.285714 | 5 | 13.17646 |  7 |\n",
       "| Cóctel   | 3.416667 | 5 | 14.95346 | 12 |\n",
       "| Refresco | 2.333333 | 5 | 14.23477 | 12 |\n",
       "| Vino     | 2.500000 | 5 | 13.93608 |  8 |\n",
       "\n"
      ],
      "text/plain": [
       "  Bebida   Media_Copas Maximo_Copas Sd_Edad  Numero_Personas\n",
       "1 Agua     2.000000    3            12.97305  5             \n",
       "2 Cerveza  3.285714    5            13.17646  7             \n",
       "3 Cóctel   3.416667    5            14.95346 12             \n",
       "4 Refresco 2.333333    5            14.23477 12             \n",
       "5 Vino     2.500000    5            13.93608  8             "
      ]
     },
     "metadata": {},
     "output_type": "display_data"
    }
   ],
   "source": [
    "summaryej3 %>% add_column( Numero_Personas = (filteredej3 %>% group_by(Bebida) %>% count())$n )\n"
   ]
  },
  {
   "cell_type": "markdown",
   "metadata": {},
   "source": [
    "4. Dado un data frame llamado `peliculas`, indique los 2 géneros con mayor puntuación media por país pero solo de peliculas para mayores de 13 o superiores, que incluya el número de películas en ese género, su beneficio medio (ganancia-presupuesto), la desviación estándar de la puntuación y la puntuación media. Ordenar los resultados por puntuación media por país de forma descendente."
   ]
  },
  {
   "cell_type": "code",
   "execution_count": 130,
   "metadata": {
    "vscode": {
     "languageId": "r"
    }
   },
   "outputs": [],
   "source": [
    "# Crear un data frame con 150 filas\n",
    "num_filas <- 150\n",
    "\n",
    "# Generar datos ficticios\n",
    "set.seed(123)  # Para reproducibilidad\n",
    "paises <- sample(c(\"EE. UU.\", \"Reino Unido\", \"Francia\", \"España\", \"Italia\"), num_filas, replace = TRUE)\n",
    "nombres <- paste(\"Película\", 1:num_filas)\n",
    "años <- sample(1980:2023, num_filas, replace = TRUE)\n",
    "puntuaciones <- round(runif(num_filas, 1, 10), 1)\n",
    "tematicas <- sample(c(\"Acción\", \"Drama\", \"Comedia\", \"Ciencia Ficción\", \"Animación\"), num_filas, replace = TRUE)\n",
    "directores <- paste(\"Director\", 1:num_filas)\n",
    "companias <- sample(c(\"Warner Bros.\", \"Universal Pictures\", \"Disney\", \"Sony Pictures\", \"Paramount Pictures\"), num_filas, replace = TRUE)\n",
    "presupuestos <- round(runif(num_filas, 1000000, 50000000), 2)\n",
    "ganancias <- round(presupuestos * runif(num_filas, 0.5, 2.5), 2)\n",
    "ratings <- sample(c(\"G\", \"PG\", \"PG-13\", \"R\", \"NC-17\"), num_filas, replace = TRUE)  # Columna de rating ficticio\n",
    "\n",
    "# Crear el data frame\n",
    "peliculas <- data.frame(\n",
    "  País = paises,\n",
    "  Nombre = nombres,\n",
    "  Año = años,\n",
    "  Puntuación = puntuaciones,\n",
    "  Temática = tematicas,\n",
    "  Director = directores,\n",
    "  Compañía = companias,\n",
    "  Presupuesto = presupuestos,\n",
    "  Ganancia = ganancias,\n",
    "  Rating = ratings\n",
    ")"
   ]
  },
  {
   "cell_type": "code",
   "execution_count": 138,
   "metadata": {
    "vscode": {
     "languageId": "r"
    }
   },
   "outputs": [
    {
     "data": {
      "text/html": [
       "<table class=\"dataframe\">\n",
       "<caption>A tibble: 2 × 6</caption>\n",
       "<thead>\n",
       "\t<tr><th scope=col>Temática</th><th scope=col>País</th><th scope=col>Puntuacion_Media</th><th scope=col>Num_Peliculas</th><th scope=col>Beneficio_medio</th><th scope=col>Desviacion_estandar_Puntuacion</th></tr>\n",
       "\t<tr><th scope=col>&lt;chr&gt;</th><th scope=col>&lt;chr&gt;</th><th scope=col>&lt;dbl&gt;</th><th scope=col>&lt;int&gt;</th><th scope=col>&lt;dbl&gt;</th><th scope=col>&lt;dbl&gt;</th></tr>\n",
       "</thead>\n",
       "<tbody>\n",
       "\t<tr><td>Drama          </td><td>España </td><td>8.9</td><td>1</td><td>6245522.9</td><td>NA</td></tr>\n",
       "\t<tr><td>Ciencia Ficción</td><td>Francia</td><td>9.8</td><td>1</td><td> 524225.1</td><td>NA</td></tr>\n",
       "</tbody>\n",
       "</table>\n"
      ],
      "text/latex": [
       "A tibble: 2 × 6\n",
       "\\begin{tabular}{llllll}\n",
       " Temática & País & Puntuacion\\_Media & Num\\_Peliculas & Beneficio\\_medio & Desviacion\\_estandar\\_Puntuacion\\\\\n",
       " <chr> & <chr> & <dbl> & <int> & <dbl> & <dbl>\\\\\n",
       "\\hline\n",
       "\t Drama           & España  & 8.9 & 1 & 6245522.9 & NA\\\\\n",
       "\t Ciencia Ficción & Francia & 9.8 & 1 &  524225.1 & NA\\\\\n",
       "\\end{tabular}\n"
      ],
      "text/markdown": [
       "\n",
       "A tibble: 2 × 6\n",
       "\n",
       "| Temática &lt;chr&gt; | País &lt;chr&gt; | Puntuacion_Media &lt;dbl&gt; | Num_Peliculas &lt;int&gt; | Beneficio_medio &lt;dbl&gt; | Desviacion_estandar_Puntuacion &lt;dbl&gt; |\n",
       "|---|---|---|---|---|---|\n",
       "| Drama           | España  | 8.9 | 1 | 6245522.9 | NA |\n",
       "| Ciencia Ficción | Francia | 9.8 | 1 |  524225.1 | NA |\n",
       "\n"
      ],
      "text/plain": [
       "  Temática        País    Puntuacion_Media Num_Peliculas Beneficio_medio\n",
       "1 Drama           España  8.9              1             6245522.9      \n",
       "2 Ciencia Ficción Francia 9.8              1              524225.1      \n",
       "  Desviacion_estandar_Puntuacion\n",
       "1 NA                            \n",
       "2 NA                            "
      ]
     },
     "metadata": {},
     "output_type": "display_data"
    }
   ],
   "source": [
    "ej4 <- peliculas %>%\n",
    "mutate(Rating = factor(ratings,ordered=T)) %>%\n",
    "filter(Rating >= \"PG-13\") %>%\n",
    "group_by(Temática,País) %>%\n",
    "summarise(Puntuacion_Media = mean(Puntuación),Num_Peliculas = n(),Beneficio_medio = mean(Ganancia-Presupuesto),Desviacion_estandar_Puntuacion=sd(Puntuación),.groups=\"drop\") %>%\n",
    "top_n(2,Puntuacion_Media) %>%\n",
    "arrange(Puntuacion_Media)\n",
    "\n",
    "ej4"
   ]
  },
  {
   "cell_type": "markdown",
   "metadata": {},
   "source": [
    "5. Dado un conjunto de datos llamado notas que contiene información sobre las notas de los estudiantes en varias asignaturas, agrega una columna con la nota promedio de cada estudiante. Previamente reemplaza los valores faltantes con 0 (HINT: usa replace_na)"
   ]
  },
  {
   "cell_type": "code",
   "execution_count": 134,
   "metadata": {
    "vscode": {
     "languageId": "r"
    }
   },
   "outputs": [],
   "source": [
    "# Generar datos ficticios\n",
    "estudiantes <- paste(\"Estudiante\", 1:50)\n",
    "notas_matematicas <- sample(c(NA, 5, 6, 7, 8, 9, 10), 50, replace = TRUE)\n",
    "notas_historia <- sample(c(NA, 4, 5, 6, 7, 8), 50, replace = TRUE)\n",
    "notas_ciencias <- sample(c(NA, 6, 7, 8, 9, 10), 50, replace = TRUE)\n",
    "\n",
    "# Crear el data frame\n",
    "notas <- data.frame(\n",
    "  Estudiante = estudiantes,\n",
    "  Nota_Matemáticas = notas_matematicas,\n",
    "  Nota_Historia = notas_historia,\n",
    "  Nota_Ciencias = notas_ciencias\n",
    ")"
   ]
  },
  {
   "cell_type": "code",
   "execution_count": 145,
   "metadata": {
    "vscode": {
     "languageId": "r"
    }
   },
   "outputs": [
    {
     "data": {
      "text/html": [
       "<table class=\"dataframe\">\n",
       "<caption>A grouped_df: 50 × 5</caption>\n",
       "<thead>\n",
       "\t<tr><th scope=col>Estudiante</th><th scope=col>Nota_Matemáticas</th><th scope=col>Nota_Historia</th><th scope=col>Nota_Ciencias</th><th scope=col>Promedio</th></tr>\n",
       "\t<tr><th scope=col>&lt;chr&gt;</th><th scope=col>&lt;dbl&gt;</th><th scope=col>&lt;dbl&gt;</th><th scope=col>&lt;dbl&gt;</th><th scope=col>&lt;dbl&gt;</th></tr>\n",
       "</thead>\n",
       "<tbody>\n",
       "\t<tr><td>Estudiante 1 </td><td> 6</td><td>7</td><td> 9</td><td>7.333333</td></tr>\n",
       "\t<tr><td>Estudiante 2 </td><td> 7</td><td>4</td><td> 6</td><td>5.666667</td></tr>\n",
       "\t<tr><td>Estudiante 3 </td><td>10</td><td>7</td><td> 0</td><td>5.666667</td></tr>\n",
       "\t<tr><td>Estudiante 4 </td><td> 7</td><td>8</td><td> 9</td><td>8.000000</td></tr>\n",
       "\t<tr><td>Estudiante 5 </td><td> 6</td><td>0</td><td> 7</td><td>4.333333</td></tr>\n",
       "\t<tr><td>Estudiante 6 </td><td> 8</td><td>5</td><td>10</td><td>7.666667</td></tr>\n",
       "\t<tr><td>Estudiante 7 </td><td> 0</td><td>8</td><td> 0</td><td>2.666667</td></tr>\n",
       "\t<tr><td>Estudiante 8 </td><td> 8</td><td>6</td><td> 6</td><td>6.666667</td></tr>\n",
       "\t<tr><td>Estudiante 9 </td><td> 0</td><td>0</td><td> 6</td><td>2.000000</td></tr>\n",
       "\t<tr><td>Estudiante 10</td><td> 0</td><td>0</td><td> 6</td><td>2.000000</td></tr>\n",
       "\t<tr><td>Estudiante 11</td><td>10</td><td>6</td><td> 9</td><td>8.333333</td></tr>\n",
       "\t<tr><td>Estudiante 12</td><td> 7</td><td>7</td><td>10</td><td>8.000000</td></tr>\n",
       "\t<tr><td>Estudiante 13</td><td> 9</td><td>4</td><td> 9</td><td>7.333333</td></tr>\n",
       "\t<tr><td>Estudiante 14</td><td> 6</td><td>0</td><td> 8</td><td>4.666667</td></tr>\n",
       "\t<tr><td>Estudiante 15</td><td> 7</td><td>0</td><td> 7</td><td>4.666667</td></tr>\n",
       "\t<tr><td>Estudiante 16</td><td>10</td><td>4</td><td> 7</td><td>7.000000</td></tr>\n",
       "\t<tr><td>Estudiante 17</td><td> 6</td><td>6</td><td> 0</td><td>4.000000</td></tr>\n",
       "\t<tr><td>Estudiante 18</td><td>10</td><td>5</td><td>10</td><td>8.333333</td></tr>\n",
       "\t<tr><td>Estudiante 19</td><td> 0</td><td>5</td><td> 7</td><td>4.000000</td></tr>\n",
       "\t<tr><td>Estudiante 20</td><td> 5</td><td>8</td><td>10</td><td>7.666667</td></tr>\n",
       "\t<tr><td>Estudiante 21</td><td> 9</td><td>0</td><td> 7</td><td>5.333333</td></tr>\n",
       "\t<tr><td>Estudiante 22</td><td> 6</td><td>4</td><td> 0</td><td>3.333333</td></tr>\n",
       "\t<tr><td>Estudiante 23</td><td> 6</td><td>7</td><td> 8</td><td>7.000000</td></tr>\n",
       "\t<tr><td>Estudiante 24</td><td> 9</td><td>5</td><td> 8</td><td>7.333333</td></tr>\n",
       "\t<tr><td>Estudiante 25</td><td> 0</td><td>4</td><td>10</td><td>4.666667</td></tr>\n",
       "\t<tr><td>Estudiante 26</td><td> 0</td><td>5</td><td> 7</td><td>4.000000</td></tr>\n",
       "\t<tr><td>Estudiante 27</td><td> 0</td><td>5</td><td> 7</td><td>4.000000</td></tr>\n",
       "\t<tr><td>Estudiante 28</td><td>10</td><td>4</td><td> 7</td><td>7.000000</td></tr>\n",
       "\t<tr><td>Estudiante 29</td><td> 0</td><td>5</td><td> 0</td><td>1.666667</td></tr>\n",
       "\t<tr><td>Estudiante 30</td><td> 5</td><td>6</td><td> 9</td><td>6.666667</td></tr>\n",
       "\t<tr><td>Estudiante 31</td><td> 5</td><td>5</td><td>10</td><td>6.666667</td></tr>\n",
       "\t<tr><td>Estudiante 32</td><td> 9</td><td>5</td><td> 8</td><td>7.333333</td></tr>\n",
       "\t<tr><td>Estudiante 33</td><td> 0</td><td>4</td><td> 7</td><td>3.666667</td></tr>\n",
       "\t<tr><td>Estudiante 34</td><td> 5</td><td>7</td><td> 9</td><td>7.000000</td></tr>\n",
       "\t<tr><td>Estudiante 35</td><td>10</td><td>7</td><td> 0</td><td>5.666667</td></tr>\n",
       "\t<tr><td>Estudiante 36</td><td>10</td><td>6</td><td>10</td><td>8.666667</td></tr>\n",
       "\t<tr><td>Estudiante 37</td><td> 7</td><td>6</td><td> 9</td><td>7.333333</td></tr>\n",
       "\t<tr><td>Estudiante 38</td><td> 0</td><td>8</td><td> 0</td><td>2.666667</td></tr>\n",
       "\t<tr><td>Estudiante 39</td><td> 6</td><td>8</td><td>10</td><td>8.000000</td></tr>\n",
       "\t<tr><td>Estudiante 40</td><td>10</td><td>5</td><td> 0</td><td>5.000000</td></tr>\n",
       "\t<tr><td>Estudiante 41</td><td> 6</td><td>0</td><td> 7</td><td>4.333333</td></tr>\n",
       "\t<tr><td>Estudiante 42</td><td> 8</td><td>7</td><td> 9</td><td>8.000000</td></tr>\n",
       "\t<tr><td>Estudiante 43</td><td> 9</td><td>7</td><td>10</td><td>8.666667</td></tr>\n",
       "\t<tr><td>Estudiante 44</td><td> 9</td><td>7</td><td>10</td><td>8.666667</td></tr>\n",
       "\t<tr><td>Estudiante 45</td><td> 5</td><td>7</td><td> 9</td><td>7.000000</td></tr>\n",
       "\t<tr><td>Estudiante 46</td><td> 7</td><td>5</td><td> 7</td><td>6.333333</td></tr>\n",
       "\t<tr><td>Estudiante 47</td><td> 7</td><td>6</td><td>10</td><td>7.666667</td></tr>\n",
       "\t<tr><td>Estudiante 48</td><td> 5</td><td>8</td><td>10</td><td>7.666667</td></tr>\n",
       "\t<tr><td>Estudiante 49</td><td> 0</td><td>8</td><td> 9</td><td>5.666667</td></tr>\n",
       "\t<tr><td>Estudiante 50</td><td> 5</td><td>0</td><td>10</td><td>5.000000</td></tr>\n",
       "</tbody>\n",
       "</table>\n"
      ],
      "text/latex": [
       "A grouped\\_df: 50 × 5\n",
       "\\begin{tabular}{lllll}\n",
       " Estudiante & Nota\\_Matemáticas & Nota\\_Historia & Nota\\_Ciencias & Promedio\\\\\n",
       " <chr> & <dbl> & <dbl> & <dbl> & <dbl>\\\\\n",
       "\\hline\n",
       "\t Estudiante 1  &  6 & 7 &  9 & 7.333333\\\\\n",
       "\t Estudiante 2  &  7 & 4 &  6 & 5.666667\\\\\n",
       "\t Estudiante 3  & 10 & 7 &  0 & 5.666667\\\\\n",
       "\t Estudiante 4  &  7 & 8 &  9 & 8.000000\\\\\n",
       "\t Estudiante 5  &  6 & 0 &  7 & 4.333333\\\\\n",
       "\t Estudiante 6  &  8 & 5 & 10 & 7.666667\\\\\n",
       "\t Estudiante 7  &  0 & 8 &  0 & 2.666667\\\\\n",
       "\t Estudiante 8  &  8 & 6 &  6 & 6.666667\\\\\n",
       "\t Estudiante 9  &  0 & 0 &  6 & 2.000000\\\\\n",
       "\t Estudiante 10 &  0 & 0 &  6 & 2.000000\\\\\n",
       "\t Estudiante 11 & 10 & 6 &  9 & 8.333333\\\\\n",
       "\t Estudiante 12 &  7 & 7 & 10 & 8.000000\\\\\n",
       "\t Estudiante 13 &  9 & 4 &  9 & 7.333333\\\\\n",
       "\t Estudiante 14 &  6 & 0 &  8 & 4.666667\\\\\n",
       "\t Estudiante 15 &  7 & 0 &  7 & 4.666667\\\\\n",
       "\t Estudiante 16 & 10 & 4 &  7 & 7.000000\\\\\n",
       "\t Estudiante 17 &  6 & 6 &  0 & 4.000000\\\\\n",
       "\t Estudiante 18 & 10 & 5 & 10 & 8.333333\\\\\n",
       "\t Estudiante 19 &  0 & 5 &  7 & 4.000000\\\\\n",
       "\t Estudiante 20 &  5 & 8 & 10 & 7.666667\\\\\n",
       "\t Estudiante 21 &  9 & 0 &  7 & 5.333333\\\\\n",
       "\t Estudiante 22 &  6 & 4 &  0 & 3.333333\\\\\n",
       "\t Estudiante 23 &  6 & 7 &  8 & 7.000000\\\\\n",
       "\t Estudiante 24 &  9 & 5 &  8 & 7.333333\\\\\n",
       "\t Estudiante 25 &  0 & 4 & 10 & 4.666667\\\\\n",
       "\t Estudiante 26 &  0 & 5 &  7 & 4.000000\\\\\n",
       "\t Estudiante 27 &  0 & 5 &  7 & 4.000000\\\\\n",
       "\t Estudiante 28 & 10 & 4 &  7 & 7.000000\\\\\n",
       "\t Estudiante 29 &  0 & 5 &  0 & 1.666667\\\\\n",
       "\t Estudiante 30 &  5 & 6 &  9 & 6.666667\\\\\n",
       "\t Estudiante 31 &  5 & 5 & 10 & 6.666667\\\\\n",
       "\t Estudiante 32 &  9 & 5 &  8 & 7.333333\\\\\n",
       "\t Estudiante 33 &  0 & 4 &  7 & 3.666667\\\\\n",
       "\t Estudiante 34 &  5 & 7 &  9 & 7.000000\\\\\n",
       "\t Estudiante 35 & 10 & 7 &  0 & 5.666667\\\\\n",
       "\t Estudiante 36 & 10 & 6 & 10 & 8.666667\\\\\n",
       "\t Estudiante 37 &  7 & 6 &  9 & 7.333333\\\\\n",
       "\t Estudiante 38 &  0 & 8 &  0 & 2.666667\\\\\n",
       "\t Estudiante 39 &  6 & 8 & 10 & 8.000000\\\\\n",
       "\t Estudiante 40 & 10 & 5 &  0 & 5.000000\\\\\n",
       "\t Estudiante 41 &  6 & 0 &  7 & 4.333333\\\\\n",
       "\t Estudiante 42 &  8 & 7 &  9 & 8.000000\\\\\n",
       "\t Estudiante 43 &  9 & 7 & 10 & 8.666667\\\\\n",
       "\t Estudiante 44 &  9 & 7 & 10 & 8.666667\\\\\n",
       "\t Estudiante 45 &  5 & 7 &  9 & 7.000000\\\\\n",
       "\t Estudiante 46 &  7 & 5 &  7 & 6.333333\\\\\n",
       "\t Estudiante 47 &  7 & 6 & 10 & 7.666667\\\\\n",
       "\t Estudiante 48 &  5 & 8 & 10 & 7.666667\\\\\n",
       "\t Estudiante 49 &  0 & 8 &  9 & 5.666667\\\\\n",
       "\t Estudiante 50 &  5 & 0 & 10 & 5.000000\\\\\n",
       "\\end{tabular}\n"
      ],
      "text/markdown": [
       "\n",
       "A grouped_df: 50 × 5\n",
       "\n",
       "| Estudiante &lt;chr&gt; | Nota_Matemáticas &lt;dbl&gt; | Nota_Historia &lt;dbl&gt; | Nota_Ciencias &lt;dbl&gt; | Promedio &lt;dbl&gt; |\n",
       "|---|---|---|---|---|\n",
       "| Estudiante 1  |  6 | 7 |  9 | 7.333333 |\n",
       "| Estudiante 2  |  7 | 4 |  6 | 5.666667 |\n",
       "| Estudiante 3  | 10 | 7 |  0 | 5.666667 |\n",
       "| Estudiante 4  |  7 | 8 |  9 | 8.000000 |\n",
       "| Estudiante 5  |  6 | 0 |  7 | 4.333333 |\n",
       "| Estudiante 6  |  8 | 5 | 10 | 7.666667 |\n",
       "| Estudiante 7  |  0 | 8 |  0 | 2.666667 |\n",
       "| Estudiante 8  |  8 | 6 |  6 | 6.666667 |\n",
       "| Estudiante 9  |  0 | 0 |  6 | 2.000000 |\n",
       "| Estudiante 10 |  0 | 0 |  6 | 2.000000 |\n",
       "| Estudiante 11 | 10 | 6 |  9 | 8.333333 |\n",
       "| Estudiante 12 |  7 | 7 | 10 | 8.000000 |\n",
       "| Estudiante 13 |  9 | 4 |  9 | 7.333333 |\n",
       "| Estudiante 14 |  6 | 0 |  8 | 4.666667 |\n",
       "| Estudiante 15 |  7 | 0 |  7 | 4.666667 |\n",
       "| Estudiante 16 | 10 | 4 |  7 | 7.000000 |\n",
       "| Estudiante 17 |  6 | 6 |  0 | 4.000000 |\n",
       "| Estudiante 18 | 10 | 5 | 10 | 8.333333 |\n",
       "| Estudiante 19 |  0 | 5 |  7 | 4.000000 |\n",
       "| Estudiante 20 |  5 | 8 | 10 | 7.666667 |\n",
       "| Estudiante 21 |  9 | 0 |  7 | 5.333333 |\n",
       "| Estudiante 22 |  6 | 4 |  0 | 3.333333 |\n",
       "| Estudiante 23 |  6 | 7 |  8 | 7.000000 |\n",
       "| Estudiante 24 |  9 | 5 |  8 | 7.333333 |\n",
       "| Estudiante 25 |  0 | 4 | 10 | 4.666667 |\n",
       "| Estudiante 26 |  0 | 5 |  7 | 4.000000 |\n",
       "| Estudiante 27 |  0 | 5 |  7 | 4.000000 |\n",
       "| Estudiante 28 | 10 | 4 |  7 | 7.000000 |\n",
       "| Estudiante 29 |  0 | 5 |  0 | 1.666667 |\n",
       "| Estudiante 30 |  5 | 6 |  9 | 6.666667 |\n",
       "| Estudiante 31 |  5 | 5 | 10 | 6.666667 |\n",
       "| Estudiante 32 |  9 | 5 |  8 | 7.333333 |\n",
       "| Estudiante 33 |  0 | 4 |  7 | 3.666667 |\n",
       "| Estudiante 34 |  5 | 7 |  9 | 7.000000 |\n",
       "| Estudiante 35 | 10 | 7 |  0 | 5.666667 |\n",
       "| Estudiante 36 | 10 | 6 | 10 | 8.666667 |\n",
       "| Estudiante 37 |  7 | 6 |  9 | 7.333333 |\n",
       "| Estudiante 38 |  0 | 8 |  0 | 2.666667 |\n",
       "| Estudiante 39 |  6 | 8 | 10 | 8.000000 |\n",
       "| Estudiante 40 | 10 | 5 |  0 | 5.000000 |\n",
       "| Estudiante 41 |  6 | 0 |  7 | 4.333333 |\n",
       "| Estudiante 42 |  8 | 7 |  9 | 8.000000 |\n",
       "| Estudiante 43 |  9 | 7 | 10 | 8.666667 |\n",
       "| Estudiante 44 |  9 | 7 | 10 | 8.666667 |\n",
       "| Estudiante 45 |  5 | 7 |  9 | 7.000000 |\n",
       "| Estudiante 46 |  7 | 5 |  7 | 6.333333 |\n",
       "| Estudiante 47 |  7 | 6 | 10 | 7.666667 |\n",
       "| Estudiante 48 |  5 | 8 | 10 | 7.666667 |\n",
       "| Estudiante 49 |  0 | 8 |  9 | 5.666667 |\n",
       "| Estudiante 50 |  5 | 0 | 10 | 5.000000 |\n",
       "\n"
      ],
      "text/plain": [
       "   Estudiante    Nota_Matemáticas Nota_Historia Nota_Ciencias Promedio\n",
       "1  Estudiante 1   6               7              9            7.333333\n",
       "2  Estudiante 2   7               4              6            5.666667\n",
       "3  Estudiante 3  10               7              0            5.666667\n",
       "4  Estudiante 4   7               8              9            8.000000\n",
       "5  Estudiante 5   6               0              7            4.333333\n",
       "6  Estudiante 6   8               5             10            7.666667\n",
       "7  Estudiante 7   0               8              0            2.666667\n",
       "8  Estudiante 8   8               6              6            6.666667\n",
       "9  Estudiante 9   0               0              6            2.000000\n",
       "10 Estudiante 10  0               0              6            2.000000\n",
       "11 Estudiante 11 10               6              9            8.333333\n",
       "12 Estudiante 12  7               7             10            8.000000\n",
       "13 Estudiante 13  9               4              9            7.333333\n",
       "14 Estudiante 14  6               0              8            4.666667\n",
       "15 Estudiante 15  7               0              7            4.666667\n",
       "16 Estudiante 16 10               4              7            7.000000\n",
       "17 Estudiante 17  6               6              0            4.000000\n",
       "18 Estudiante 18 10               5             10            8.333333\n",
       "19 Estudiante 19  0               5              7            4.000000\n",
       "20 Estudiante 20  5               8             10            7.666667\n",
       "21 Estudiante 21  9               0              7            5.333333\n",
       "22 Estudiante 22  6               4              0            3.333333\n",
       "23 Estudiante 23  6               7              8            7.000000\n",
       "24 Estudiante 24  9               5              8            7.333333\n",
       "25 Estudiante 25  0               4             10            4.666667\n",
       "26 Estudiante 26  0               5              7            4.000000\n",
       "27 Estudiante 27  0               5              7            4.000000\n",
       "28 Estudiante 28 10               4              7            7.000000\n",
       "29 Estudiante 29  0               5              0            1.666667\n",
       "30 Estudiante 30  5               6              9            6.666667\n",
       "31 Estudiante 31  5               5             10            6.666667\n",
       "32 Estudiante 32  9               5              8            7.333333\n",
       "33 Estudiante 33  0               4              7            3.666667\n",
       "34 Estudiante 34  5               7              9            7.000000\n",
       "35 Estudiante 35 10               7              0            5.666667\n",
       "36 Estudiante 36 10               6             10            8.666667\n",
       "37 Estudiante 37  7               6              9            7.333333\n",
       "38 Estudiante 38  0               8              0            2.666667\n",
       "39 Estudiante 39  6               8             10            8.000000\n",
       "40 Estudiante 40 10               5              0            5.000000\n",
       "41 Estudiante 41  6               0              7            4.333333\n",
       "42 Estudiante 42  8               7              9            8.000000\n",
       "43 Estudiante 43  9               7             10            8.666667\n",
       "44 Estudiante 44  9               7             10            8.666667\n",
       "45 Estudiante 45  5               7              9            7.000000\n",
       "46 Estudiante 46  7               5              7            6.333333\n",
       "47 Estudiante 47  7               6             10            7.666667\n",
       "48 Estudiante 48  5               8             10            7.666667\n",
       "49 Estudiante 49  0               8              9            5.666667\n",
       "50 Estudiante 50  5               0             10            5.000000"
      ]
     },
     "metadata": {},
     "output_type": "display_data"
    }
   ],
   "source": [
    "notas <- notas %>% replace_na(list(Nota_Matemáticas = 0,Nota_Historia = 0,Nota_Ciencias = 0))\n",
    "notas %>% group_by(Estudiante) %>% mutate(Promedio = mean(c(Nota_Matemáticas,Nota_Historia,Nota_Ciencias)))"
   ]
  }
 ],
 "metadata": {
  "kernelspec": {
   "display_name": "R",
   "language": "R",
   "name": "ir"
  },
  "language_info": {
   "codemirror_mode": "r",
   "file_extension": ".r",
   "mimetype": "text/x-r-source",
   "name": "R",
   "pygments_lexer": "r",
   "version": "4.3.1"
  },
  "orig_nbformat": 4,
  "vscode": {
   "interpreter": {
    "hash": "916dbcbb3f70747c44a77c7bcd40155683ae19c65e1c03b4aa3499c5328201f1"
   }
  }
 },
 "nbformat": 4,
 "nbformat_minor": 2
}
