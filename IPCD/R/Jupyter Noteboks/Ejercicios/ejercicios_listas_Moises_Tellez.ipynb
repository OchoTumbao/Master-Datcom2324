{
 "cells": [
  {
   "cell_type": "markdown",
   "metadata": {},
   "source": [
    "## Ejercicios Listas\n",
    "\n",
    "1. Crea una lista llamada mi_lista que contenga los siguientes elementos: un vector numérico de 15 elementos, un vector de caracteres de 5 elementos y un vector de valores booleanos de 10 elementos todos TRUE"
   ]
  },
  {
   "cell_type": "code",
   "execution_count": 28,
   "metadata": {
    "vscode": {
     "languageId": "r"
    }
   },
   "outputs": [
    {
     "name": "stdout",
     "output_type": "stream",
     "text": [
      "[[1]]\n",
      " [1]  1  2  3  4  5  6  7  8  9 10 11 12 13 14 15\n",
      "\n",
      "[[2]]\n",
      "[1] \"a\" \"b\" \"c\" \"d\" \"e\"\n",
      "\n",
      "[[3]]\n",
      " [1] TRUE TRUE TRUE TRUE TRUE TRUE TRUE TRUE TRUE TRUE\n",
      "\n"
     ]
    }
   ],
   "source": [
    "ej1 <- list(seq(1,15),letters[1:5],rep(TRUE,10))\n",
    "print(ej1)"
   ]
  },
  {
   "cell_type": "markdown",
   "metadata": {},
   "source": [
    "2. Dada la siguiente lista my_list <- list(name=\"Fred\", wife=\"Mary\", no.children=3, child.ages=c(4,7,9)):"
   ]
  },
  {
   "cell_type": "code",
   "execution_count": 29,
   "metadata": {
    "vscode": {
     "languageId": "r"
    }
   },
   "outputs": [
    {
     "name": "stdout",
     "output_type": "stream",
     "text": [
      "$name\n",
      "[1] \"Fred\"\n",
      "\n",
      "$wife\n",
      "[1] \"Mary\"\n",
      "\n",
      "$no.children\n",
      "[1] 3\n",
      "\n",
      "$child.ages\n",
      "[1] 4 7 9\n",
      "\n"
     ]
    }
   ],
   "source": [
    "ej2 <- list(name=\"Fred\", wife=\"Mary\", no.children=3, child.ages=c(4,7,9))\n",
    "print(ej2)"
   ]
  },
  {
   "cell_type": "markdown",
   "metadata": {},
   "source": [
    "- Imprime los atributos y los nombres de todos los componentes de la lista"
   ]
  },
  {
   "cell_type": "code",
   "execution_count": 30,
   "metadata": {
    "vscode": {
     "languageId": "r"
    }
   },
   "outputs": [
    {
     "name": "stdout",
     "output_type": "stream",
     "text": [
      "[1] \"name\"        \"wife\"        \"no.children\" \"child.ages\" \n",
      "$name\n",
      "[1] \"Fred\"\n",
      "\n",
      "$wife\n",
      "[1] \"Mary\"\n",
      "\n",
      "$no.children\n",
      "[1] 3\n",
      "\n",
      "$child.ages\n",
      "[1] 4 7 9\n",
      "\n"
     ]
    }
   ],
   "source": [
    "print(names(ej2))\n",
    "print(ej2)"
   ]
  },
  {
   "cell_type": "markdown",
   "metadata": {},
   "source": [
    "- Devuelve el segundo componente de la lista"
   ]
  },
  {
   "cell_type": "code",
   "execution_count": 31,
   "metadata": {
    "vscode": {
     "languageId": "r"
    }
   },
   "outputs": [
    {
     "data": {
      "text/html": [
       "'Mary'"
      ],
      "text/latex": [
       "'Mary'"
      ],
      "text/markdown": [
       "'Mary'"
      ],
      "text/plain": [
       "[1] \"Mary\""
      ]
     },
     "metadata": {},
     "output_type": "display_data"
    }
   ],
   "source": [
    "ej2[[2]]"
   ]
  },
  {
   "cell_type": "markdown",
   "metadata": {},
   "source": [
    "- Recupera el segundo elemento del cuarto componente de la lista \n"
   ]
  },
  {
   "cell_type": "code",
   "execution_count": 6,
   "metadata": {
    "vscode": {
     "languageId": "r"
    }
   },
   "outputs": [
    {
     "data": {
      "text/html": [
       "7"
      ],
      "text/latex": [
       "7"
      ],
      "text/markdown": [
       "7"
      ],
      "text/plain": [
       "[1] 7"
      ]
     },
     "metadata": {},
     "output_type": "display_data"
    }
   ],
   "source": [
    "ej2[[4]][2]"
   ]
  },
  {
   "cell_type": "markdown",
   "metadata": {},
   "source": [
    "- Imprime la longitud del cuarto elemento de la lista"
   ]
  },
  {
   "cell_type": "code",
   "execution_count": 32,
   "metadata": {
    "vscode": {
     "languageId": "r"
    }
   },
   "outputs": [
    {
     "data": {
      "text/html": [
       "3"
      ],
      "text/latex": [
       "3"
      ],
      "text/markdown": [
       "3"
      ],
      "text/plain": [
       "[1] 3"
      ]
     },
     "metadata": {},
     "output_type": "display_data"
    }
   ],
   "source": [
    "length(ej2[[4]])"
   ]
  },
  {
   "cell_type": "markdown",
   "metadata": {},
   "source": [
    "- Elimina el componente wife"
   ]
  },
  {
   "cell_type": "code",
   "execution_count": 33,
   "metadata": {
    "vscode": {
     "languageId": "r"
    }
   },
   "outputs": [
    {
     "name": "stdout",
     "output_type": "stream",
     "text": [
      "$names\n",
      "[1] \"name\"        \"no.children\" \"child.ages\" \n",
      "\n"
     ]
    }
   ],
   "source": [
    "ej2[[\"wife\"]] <- NULL\n",
    "print(attributes(ej2))"
   ]
  },
  {
   "cell_type": "markdown",
   "metadata": {},
   "source": [
    "- Añade un componente más a la lista llamado pepe"
   ]
  },
  {
   "cell_type": "code",
   "execution_count": 34,
   "metadata": {
    "vscode": {
     "languageId": "r"
    }
   },
   "outputs": [
    {
     "name": "stdout",
     "output_type": "stream",
     "text": [
      "$name\n",
      "[1] \"Fred\"\n",
      "\n",
      "$no.children\n",
      "[1] 3\n",
      "\n",
      "$child.ages\n",
      "[1] 4 7 9\n",
      "\n",
      "$pepe\n",
      "[1] \"pepe\"\n",
      "\n"
     ]
    }
   ],
   "source": [
    "ej2[[length(ej2)+1]] <- \"pepe\"\n",
    "names(ej2)[length(ej2)] <- \"pepe\"\n",
    "print(ej2)"
   ]
  },
  {
   "cell_type": "markdown",
   "metadata": {},
   "source": [
    "3. Convertir un vector de 30 números postivos y negativos en una lista con [1ra componente: los 2 primeros elementos, 2da componente: los 5 siguientes pero como caracteres, 3ra componente: los elementos restantes que sean valores positivos, 4ta componente: una lista de caracteres con tu nombre y apellidos (ej: \"Rocio\" \"Romero\" \"Zaliz\")]"
   ]
  },
  {
   "cell_type": "code",
   "execution_count": 35,
   "metadata": {
    "vscode": {
     "languageId": "r"
    }
   },
   "outputs": [
    {
     "name": "stdout",
     "output_type": "stream",
     "text": [
      "[[1]]\n",
      "[1] -2  8\n",
      "\n",
      "[[2]]\n",
      "[1] \"4\"  \"2\"  \"-8\" \"10\" \"19\" \"3\" \n",
      "\n",
      "[[3]]\n",
      " [1]  8  4  2 10 19  3  0  9 14  6  1  5 20 13 12 18 15 16 17  7 11\n",
      "\n",
      "[[4]]\n",
      "[[4]][[1]]\n",
      "[1] \"Moises\"\n",
      "\n",
      "[[4]][[2]]\n",
      "[1] \"Tellez\"\n",
      "\n",
      "[[4]][[3]]\n",
      "[1] \"Francisco\"\n",
      "\n",
      "\n"
     ]
    }
   ],
   "source": [
    "ej3v <- sample(-10:20)\n",
    "ej3 <- list(ej3v[1:2], as.character(ej3v[3:8]),ej3v[ej3v>=0],list(\"Moises\",\"Tellez\",\"Francisco\"))\n",
    "print(ej3)"
   ]
  },
  {
   "cell_type": "markdown",
   "metadata": {},
   "source": [
    "4. Crea una nueva lista cuyos componentes sean las listas de los ejericios anteriores (OJO: Su longitude debería ser 3)\n"
   ]
  },
  {
   "cell_type": "code",
   "execution_count": 12,
   "metadata": {
    "vscode": {
     "languageId": "r"
    }
   },
   "outputs": [
    {
     "name": "stdout",
     "output_type": "stream",
     "text": [
      "[1] 3\n"
     ]
    }
   ],
   "source": [
    "ej4<-list(ej1,ej2,ej3)\n",
    "print(length(ej4))"
   ]
  },
  {
   "cell_type": "markdown",
   "metadata": {},
   "source": [
    "En este caso estamos creando una lista de listas de 3 elementos"
   ]
  },
  {
   "cell_type": "markdown",
   "metadata": {},
   "source": [
    "5. Crea una nueva lista que concatene las listas de los tres primeros ejericios. ¿Qué longitud tiene?"
   ]
  },
  {
   "cell_type": "code",
   "execution_count": 26,
   "metadata": {
    "vscode": {
     "languageId": "r"
    }
   },
   "outputs": [
    {
     "name": "stdout",
     "output_type": "stream",
     "text": [
      "[1] 4\n",
      "[1] 11\n"
     ]
    }
   ],
   "source": [
    "ej5 <-c(ej1,ej2,ej3)\n",
    "print(length(ej5))"
   ]
  },
  {
   "cell_type": "markdown",
   "metadata": {},
   "source": [
    "Tiene longitud 11, es el resultado de concatenar elemento a elemento las listas. En este caso 11 es el resultado de sumar las longitudes de las listas que hemos creado previamente"
   ]
  }
 ],
 "metadata": {
  "kernelspec": {
   "display_name": "R",
   "language": "R",
   "name": "ir"
  },
  "language_info": {
   "codemirror_mode": "r",
   "file_extension": ".r",
   "mimetype": "text/x-r-source",
   "name": "R",
   "pygments_lexer": "r",
   "version": "4.3.1"
  },
  "orig_nbformat": 4
 },
 "nbformat": 4,
 "nbformat_minor": 2
}
