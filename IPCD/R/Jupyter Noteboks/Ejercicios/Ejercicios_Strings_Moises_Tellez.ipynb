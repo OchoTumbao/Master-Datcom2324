{
 "cells": [
  {
   "cell_type": "markdown",
   "metadata": {},
   "source": [
    "## Ejercicios (1ra parte)\n",
    "1. Crea un vector de cadenas de caracteres con tu nombre y apellidos (por ejemplo, [\"Rocío\", \"Romero\", Zaliz\"]). A partir de el crea una nueva cadena de caracteres con la inicial de tu nombre, un punto y tus apellidos (por ejemplo, \"R. Romero Zaliz\").\n"
   ]
  },
  {
   "cell_type": "markdown",
   "metadata": {},
   "source": [
    "### R"
   ]
  },
  {
   "cell_type": "code",
   "execution_count": 7,
   "metadata": {
    "vscode": {
     "languageId": "r"
    }
   },
   "outputs": [
    {
     "data": {
      "text/html": [
       "'M. Téllez Francisco'"
      ],
      "text/latex": [
       "'M. Téllez Francisco'"
      ],
      "text/markdown": [
       "'M. Téllez Francisco'"
      ],
      "text/plain": [
       "[1] \"M. Téllez Francisco\""
      ]
     },
     "metadata": {},
     "output_type": "display_data"
    }
   ],
   "source": [
    "nombre <- c(\"Moisés\",\"Téllez\",\"Francisco\")\n",
    "initial <- paste(substr(nombre[1],1,1),\".\",sep=\"\")\n",
    "paste(initial,nombre[2],nombre[3])"
   ]
  },
  {
   "cell_type": "markdown",
   "metadata": {},
   "source": [
    "### Tidyverse"
   ]
  },
  {
   "cell_type": "code",
   "execution_count": 8,
   "metadata": {
    "vscode": {
     "languageId": "r"
    }
   },
   "outputs": [
    {
     "name": "stderr",
     "output_type": "stream",
     "text": [
      "── \u001b[1mAttaching core tidyverse packages\u001b[22m ──────────────────────── tidyverse 2.0.0 ──\n",
      "\u001b[32m✔\u001b[39m \u001b[34mdplyr    \u001b[39m 1.1.3     \u001b[32m✔\u001b[39m \u001b[34mreadr    \u001b[39m 2.1.4\n",
      "\u001b[32m✔\u001b[39m \u001b[34mforcats  \u001b[39m 1.0.0     \u001b[32m✔\u001b[39m \u001b[34mstringr  \u001b[39m 1.5.0\n",
      "\u001b[32m✔\u001b[39m \u001b[34mggplot2  \u001b[39m 3.4.3     \u001b[32m✔\u001b[39m \u001b[34mtibble   \u001b[39m 3.2.1\n",
      "\u001b[32m✔\u001b[39m \u001b[34mlubridate\u001b[39m 1.9.3     \u001b[32m✔\u001b[39m \u001b[34mtidyr    \u001b[39m 1.3.0\n",
      "\u001b[32m✔\u001b[39m \u001b[34mpurrr    \u001b[39m 1.0.2     \n",
      "── \u001b[1mConflicts\u001b[22m ────────────────────────────────────────── tidyverse_conflicts() ──\n",
      "\u001b[31m✖\u001b[39m \u001b[34mdplyr\u001b[39m::\u001b[32mfilter()\u001b[39m masks \u001b[34mstats\u001b[39m::filter()\n",
      "\u001b[31m✖\u001b[39m \u001b[34mdplyr\u001b[39m::\u001b[32mlag()\u001b[39m    masks \u001b[34mstats\u001b[39m::lag()\n",
      "\u001b[36mℹ\u001b[39m Use the conflicted package (\u001b[3m\u001b[34m<http://conflicted.r-lib.org/>\u001b[39m\u001b[23m) to force all conflicts to become errors\n"
     ]
    }
   ],
   "source": [
    "library(tidyverse)\n",
    "library(stringr)"
   ]
  },
  {
   "cell_type": "code",
   "execution_count": 16,
   "metadata": {
    "vscode": {
     "languageId": "r"
    }
   },
   "outputs": [
    {
     "data": {
      "text/html": [
       "'M. Téllez Francisco'"
      ],
      "text/latex": [
       "'M. Téllez Francisco'"
      ],
      "text/markdown": [
       "'M. Téllez Francisco'"
      ],
      "text/plain": [
       "[1] \"M. Téllez Francisco\""
      ]
     },
     "metadata": {},
     "output_type": "display_data"
    }
   ],
   "source": [
    "initial <- str_c(nombre[1] %>% str_sub(1,1),\".\",sep=\"\")\n",
    "str_c(initial,nombre[2],nombre[3], sep=\" \")"
   ]
  },
  {
   "cell_type": "markdown",
   "metadata": {},
   "source": [
    "2. Dada una matriz de cadenas de caracteres que representan fechas (por ejemplo, [\"2005-11-28\", \"2015-10-18\", \"2000-01-01\"]), mostrar sólo las correspondientes a los meses impares (utilizar el formato AÑO-MES-DÍA).\n"
   ]
  },
  {
   "cell_type": "markdown",
   "metadata": {},
   "source": [
    "### R"
   ]
  },
  {
   "cell_type": "code",
   "execution_count": 18,
   "metadata": {
    "vscode": {
     "languageId": "r"
    }
   },
   "outputs": [
    {
     "data": {
      "text/html": [
       "<style>\n",
       ".list-inline {list-style: none; margin:0; padding: 0}\n",
       ".list-inline>li {display: inline-block}\n",
       ".list-inline>li:not(:last-child)::after {content: \"\\00b7\"; padding: 0 .5ex}\n",
       "</style>\n",
       "<ol class=list-inline><li>'2005-11-28'</li><li>'2000-01-01'</li></ol>\n"
      ],
      "text/latex": [
       "\\begin{enumerate*}\n",
       "\\item '2005-11-28'\n",
       "\\item '2000-01-01'\n",
       "\\end{enumerate*}\n"
      ],
      "text/markdown": [
       "1. '2005-11-28'\n",
       "2. '2000-01-01'\n",
       "\n",
       "\n"
      ],
      "text/plain": [
       "[1] \"2005-11-28\" \"2000-01-01\""
      ]
     },
     "metadata": {},
     "output_type": "display_data"
    }
   ],
   "source": [
    "fechas <- c(\"2005-11-28\", \"2015-10-18\", \"2000-01-01\")\n",
    "fechas[grep(\"-(11|0[13579])-\",fechas)]"
   ]
  },
  {
   "cell_type": "markdown",
   "metadata": {},
   "source": [
    "### Tidyverse"
   ]
  },
  {
   "cell_type": "code",
   "execution_count": 20,
   "metadata": {
    "vscode": {
     "languageId": "r"
    }
   },
   "outputs": [
    {
     "data": {
      "text/html": [
       "<style>\n",
       ".list-inline {list-style: none; margin:0; padding: 0}\n",
       ".list-inline>li {display: inline-block}\n",
       ".list-inline>li:not(:last-child)::after {content: \"\\00b7\"; padding: 0 .5ex}\n",
       "</style>\n",
       "<ol class=list-inline><li>'2005-11-28'</li><li>'2000-01-01'</li></ol>\n"
      ],
      "text/latex": [
       "\\begin{enumerate*}\n",
       "\\item '2005-11-28'\n",
       "\\item '2000-01-01'\n",
       "\\end{enumerate*}\n"
      ],
      "text/markdown": [
       "1. '2005-11-28'\n",
       "2. '2000-01-01'\n",
       "\n",
       "\n"
      ],
      "text/plain": [
       "[1] \"2005-11-28\" \"2000-01-01\""
      ]
     },
     "metadata": {},
     "output_type": "display_data"
    }
   ],
   "source": [
    "fechas %>% str_subset(\"-(11|0[13579])\")"
   ]
  },
  {
   "cell_type": "markdown",
   "metadata": {},
   "source": [
    "3. Dada una cadena de caracteres con varias palabras (por ejemplo, \"Esta es una frase, pero no cualquier frase.\") cree una matriz con cada una de las palabras de la cadena (por ejemplo, [\"Esta\", \"es\", \"una\", \"frase\", \"pero\", \"no\", \"cualquier\", \"frase\"]). Tenga en cuenta todos los caracteres de puntuación posibles.\n"
   ]
  },
  {
   "cell_type": "markdown",
   "metadata": {},
   "source": [
    "### R"
   ]
  },
  {
   "cell_type": "code",
   "execution_count": 34,
   "metadata": {
    "vscode": {
     "languageId": "r"
    }
   },
   "outputs": [
    {
     "data": {
      "text/html": [
       "<ol>\n",
       "\t<li><style>\n",
       ".list-inline {list-style: none; margin:0; padding: 0}\n",
       ".list-inline>li {display: inline-block}\n",
       ".list-inline>li:not(:last-child)::after {content: \"\\00b7\"; padding: 0 .5ex}\n",
       "</style>\n",
       "<ol class=list-inline><li>'Esta'</li><li>'es'</li><li>'una'</li><li>'frase'</li><li>'pero'</li><li>'no'</li><li>'cualquier'</li><li>'frase'</li></ol>\n",
       "</li>\n",
       "</ol>\n"
      ],
      "text/latex": [
       "\\begin{enumerate}\n",
       "\\item \\begin{enumerate*}\n",
       "\\item 'Esta'\n",
       "\\item 'es'\n",
       "\\item 'una'\n",
       "\\item 'frase'\n",
       "\\item 'pero'\n",
       "\\item 'no'\n",
       "\\item 'cualquier'\n",
       "\\item 'frase'\n",
       "\\end{enumerate*}\n",
       "\n",
       "\\end{enumerate}\n"
      ],
      "text/markdown": [
       "1. 1. 'Esta'\n",
       "2. 'es'\n",
       "3. 'una'\n",
       "4. 'frase'\n",
       "5. 'pero'\n",
       "6. 'no'\n",
       "7. 'cualquier'\n",
       "8. 'frase'\n",
       "\n",
       "\n",
       "\n",
       "\n",
       "\n"
      ],
      "text/plain": [
       "[[1]]\n",
       "[1] \"Esta\"      \"es\"        \"una\"       \"frase\"     \"pero\"      \"no\"       \n",
       "[7] \"cualquier\" \"frase\"    \n"
      ]
     },
     "metadata": {},
     "output_type": "display_data"
    }
   ],
   "source": [
    "frase <- \"Esta es una frase, pero no cualquier frase.\"\n",
    "strsplit(gsub(\"[[:punct:]]\",\"\",frase),split=\" \")"
   ]
  },
  {
   "cell_type": "markdown",
   "metadata": {},
   "source": [
    "### Tidyverse"
   ]
  },
  {
   "cell_type": "code",
   "execution_count": 35,
   "metadata": {
    "vscode": {
     "languageId": "r"
    }
   },
   "outputs": [
    {
     "data": {
      "text/html": [
       "<ol>\n",
       "\t<li><style>\n",
       ".list-inline {list-style: none; margin:0; padding: 0}\n",
       ".list-inline>li {display: inline-block}\n",
       ".list-inline>li:not(:last-child)::after {content: \"\\00b7\"; padding: 0 .5ex}\n",
       "</style>\n",
       "<ol class=list-inline><li>'Esta'</li><li>'es'</li><li>'una'</li><li>'frase'</li><li>'pero'</li><li>'no'</li><li>'cualquier'</li><li>'frase'</li></ol>\n",
       "</li>\n",
       "</ol>\n"
      ],
      "text/latex": [
       "\\begin{enumerate}\n",
       "\\item \\begin{enumerate*}\n",
       "\\item 'Esta'\n",
       "\\item 'es'\n",
       "\\item 'una'\n",
       "\\item 'frase'\n",
       "\\item 'pero'\n",
       "\\item 'no'\n",
       "\\item 'cualquier'\n",
       "\\item 'frase'\n",
       "\\end{enumerate*}\n",
       "\n",
       "\\end{enumerate}\n"
      ],
      "text/markdown": [
       "1. 1. 'Esta'\n",
       "2. 'es'\n",
       "3. 'una'\n",
       "4. 'frase'\n",
       "5. 'pero'\n",
       "6. 'no'\n",
       "7. 'cualquier'\n",
       "8. 'frase'\n",
       "\n",
       "\n",
       "\n",
       "\n",
       "\n"
      ],
      "text/plain": [
       "[[1]]\n",
       "[1] \"Esta\"      \"es\"        \"una\"       \"frase\"     \"pero\"      \"no\"       \n",
       "[7] \"cualquier\" \"frase\"    \n"
      ]
     },
     "metadata": {},
     "output_type": "display_data"
    }
   ],
   "source": [
    "frase %>% str_replace_all(\"[[:punct:]]\",\"\") %>% str_split(\" \")"
   ]
  },
  {
   "cell_type": "markdown",
   "metadata": {},
   "source": [
    "4. Busca en un vector de cadenas de caractees aquellas que incluyan sólo vocales \"a\" y/o \"e\" o ninguna (comprueba mayúsculas y minúsculas).\n"
   ]
  },
  {
   "cell_type": "markdown",
   "metadata": {},
   "source": [
    "### R"
   ]
  },
  {
   "cell_type": "code",
   "execution_count": 91,
   "metadata": {
    "vscode": {
     "languageId": "r"
    }
   },
   "outputs": [
    {
     "data": {
      "text/html": [
       "<style>\n",
       ".list-inline {list-style: none; margin:0; padding: 0}\n",
       ".list-inline>li {display: inline-block}\n",
       ".list-inline>li:not(:last-child)::after {content: \"\\00b7\"; padding: 0 .5ex}\n",
       "</style>\n",
       "<ol class=list-inline><li>1</li><li>2</li><li>4</li><li>5</li></ol>\n"
      ],
      "text/latex": [
       "\\begin{enumerate*}\n",
       "\\item 1\n",
       "\\item 2\n",
       "\\item 4\n",
       "\\item 5\n",
       "\\end{enumerate*}\n"
      ],
      "text/markdown": [
       "1. 1\n",
       "2. 2\n",
       "3. 4\n",
       "4. 5\n",
       "\n",
       "\n"
      ],
      "text/plain": [
       "[1] 1 2 4 5"
      ]
     },
     "metadata": {},
     "output_type": "display_data"
    }
   ],
   "source": [
    "vector <- c(\"Palabra\",\"PALABRA\",\"PULUBRU\",\"RKYVCY\",\"pelEbrE\")\n",
    "grep(\"[eEaA]+|^[^aeiouAEIOU]*$\",vector)"
   ]
  },
  {
   "cell_type": "markdown",
   "metadata": {},
   "source": [
    "### Tidyverse"
   ]
  },
  {
   "cell_type": "code",
   "execution_count": 92,
   "metadata": {
    "vscode": {
     "languageId": "r"
    }
   },
   "outputs": [
    {
     "data": {
      "text/html": [
       "<style>\n",
       ".list-inline {list-style: none; margin:0; padding: 0}\n",
       ".list-inline>li {display: inline-block}\n",
       ".list-inline>li:not(:last-child)::after {content: \"\\00b7\"; padding: 0 .5ex}\n",
       "</style>\n",
       "<ol class=list-inline><li>1</li><li>2</li><li>4</li><li>5</li></ol>\n"
      ],
      "text/latex": [
       "\\begin{enumerate*}\n",
       "\\item 1\n",
       "\\item 2\n",
       "\\item 4\n",
       "\\item 5\n",
       "\\end{enumerate*}\n"
      ],
      "text/markdown": [
       "1. 1\n",
       "2. 2\n",
       "3. 4\n",
       "4. 5\n",
       "\n",
       "\n"
      ],
      "text/plain": [
       "[1] 1 2 4 5"
      ]
     },
     "metadata": {},
     "output_type": "display_data"
    }
   ],
   "source": [
    "vector %>% str_which(\"[eEaA]+|^[^aeiouAEIOU]*$\")"
   ]
  },
  {
   "cell_type": "markdown",
   "metadata": {},
   "source": [
    "5. Dados tres vectores numéricas que representan días, meses y años, cree una matriz con fechas (sólo si son válidas) (Sugerencia: investigue la función `as.Date`)."
   ]
  },
  {
   "cell_type": "markdown",
   "metadata": {},
   "source": [
    "### R"
   ]
  },
  {
   "cell_type": "code",
   "execution_count": 104,
   "metadata": {
    "vscode": {
     "languageId": "r"
    }
   },
   "outputs": [
    {
     "data": {
      "text/html": [
       "<style>\n",
       ".list-inline {list-style: none; margin:0; padding: 0}\n",
       ".list-inline>li {display: inline-block}\n",
       ".list-inline>li:not(:last-child)::after {content: \"\\00b7\"; padding: 0 .5ex}\n",
       "</style>\n",
       "<ol class=list-inline><li><time datetime=\"2023-02-12\">2023-02-12</time></li><li><time datetime=\"1967-05-24\">1967-05-24</time></li><li><time datetime=\"2005-06-25\">2005-06-25</time></li></ol>\n"
      ],
      "text/latex": [
       "\\begin{enumerate*}\n",
       "\\item 2023-02-12\n",
       "\\item 1967-05-24\n",
       "\\item 2005-06-25\n",
       "\\end{enumerate*}\n"
      ],
      "text/markdown": [
       "1. 2023-02-12\n",
       "2. 1967-05-24\n",
       "3. 2005-06-25\n",
       "\n",
       "\n"
      ],
      "text/plain": [
       "[1] \"2023-02-12\" \"1967-05-24\" \"2005-06-25\""
      ]
     },
     "metadata": {},
     "output_type": "display_data"
    }
   ],
   "source": [
    "d <- c(12,48,24,32,31,25)\n",
    "m <- c(2,4,5,12,4,6)\n",
    "y<-c(2023,2020,1967,1789,2002,2005)\n",
    "\n",
    "dates <- as.Date(paste(d,m,y,sep=\"-\"),format=\"%d-%m-%Y\")\n",
    "dates <- dates[!(is.na(dates))]\n",
    "dates"
   ]
  },
  {
   "cell_type": "markdown",
   "metadata": {},
   "source": [
    "### Tidyverse"
   ]
  },
  {
   "cell_type": "code",
   "execution_count": 107,
   "metadata": {
    "vscode": {
     "languageId": "r"
    }
   },
   "outputs": [
    {
     "data": {
      "text/html": [
       "<style>\n",
       ".list-inline {list-style: none; margin:0; padding: 0}\n",
       ".list-inline>li {display: inline-block}\n",
       ".list-inline>li:not(:last-child)::after {content: \"\\00b7\"; padding: 0 .5ex}\n",
       "</style>\n",
       "<ol class=list-inline><li><time datetime=\"2023-02-12\">2023-02-12</time></li><li><time datetime=\"1967-05-24\">1967-05-24</time></li><li><time datetime=\"2005-06-25\">2005-06-25</time></li></ol>\n"
      ],
      "text/latex": [
       "\\begin{enumerate*}\n",
       "\\item 2023-02-12\n",
       "\\item 1967-05-24\n",
       "\\item 2005-06-25\n",
       "\\end{enumerate*}\n"
      ],
      "text/markdown": [
       "1. 2023-02-12\n",
       "2. 1967-05-24\n",
       "3. 2005-06-25\n",
       "\n",
       "\n"
      ],
      "text/plain": [
       "[1] \"2023-02-12\" \"1967-05-24\" \"2005-06-25\""
      ]
     },
     "metadata": {},
     "output_type": "display_data"
    }
   ],
   "source": [
    "dates <-as.Date(str_c(d,m,y,sep=\"-\"),format=\"%d-%m-%Y\")\n",
    "dates <- dates[!(is.na(dates))]\n",
    "dates"
   ]
  }
 ],
 "metadata": {
  "kernelspec": {
   "display_name": "R",
   "language": "R",
   "name": "ir"
  },
  "language_info": {
   "codemirror_mode": "r",
   "file_extension": ".r",
   "mimetype": "text/x-r-source",
   "name": "R",
   "pygments_lexer": "r",
   "version": "4.3.1"
  },
  "orig_nbformat": 4
 },
 "nbformat": 4,
 "nbformat_minor": 2
}
