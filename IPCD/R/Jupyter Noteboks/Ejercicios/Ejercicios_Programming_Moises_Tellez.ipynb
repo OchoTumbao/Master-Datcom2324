{
 "cells": [
  {
   "cell_type": "markdown",
   "metadata": {},
   "source": [
    "## Ejercicios\n",
    "1. Crear una función creciente que indique si los elementos de un array dado son estrictamente crecientes. No se permite ordenar el vector.\n"
   ]
  },
  {
   "cell_type": "code",
   "execution_count": 6,
   "metadata": {
    "vscode": {
     "languageId": "r"
    }
   },
   "outputs": [],
   "source": [
    "creciente <- function(x) {\n",
    "    n<-2\n",
    "    resultado <- FALSE\n",
    "    while(n <= length(x) && (x[n]>x[n-1])){\n",
    "        if(n==length(x)){\n",
    "            resultado <- TRUE\n",
    "        }\n",
    "        n <- n+1\n",
    "    }\n",
    "    resultado\n",
    "}\n",
    "\n",
    "crecienter <- function(x) {\n",
    "    all(vec[-length(vec)] < vec[-1])\n",
    "}\n",
    "\n",
    "\n",
    "\n"
   ]
  },
  {
   "cell_type": "code",
   "execution_count": 9,
   "metadata": {
    "vscode": {
     "languageId": "r"
    }
   },
   "outputs": [
    {
     "data": {
      "text/plain": [
       "   user  system elapsed \n",
       "  0.274   0.000   0.275 "
      ]
     },
     "metadata": {},
     "output_type": "display_data"
    },
    {
     "data": {
      "text/plain": [
       "   user  system elapsed \n",
       "      0       0       0 "
      ]
     },
     "metadata": {},
     "output_type": "display_data"
    }
   ],
   "source": [
    "system.time(creciente(1:1000000))\n",
    "system.time(crecienter(1:1000000))"
   ]
  },
  {
   "cell_type": "markdown",
   "metadata": {},
   "source": [
    "2. Crear una función \"montecarlo\" que calcule la estimación de la integral dada:\n",
    " >$\\int_{0}^{1} x^2 dx$<br/>\n",
    "   \n",
    "   El algoritmo Monte Carlo en pseudocódigo es el siguiente:\n",
    ">hits=0<br/>\n",
    " for i from 1 to N<br/>\n",
    " &nbsp;&nbsp;&nbsp;&nbsp;Generate two random numbers r1 and r2 between 0 and 1<br/>\n",
    " &nbsp;&nbsp;&nbsp;&nbsp;If r2<r1^2 then hits=hits+1<br/>\n",
    " end for<br/>\n",
    " return hits/N\n",
    "\n",
    "    HINT: Use las funciones `runif()` y `rnorm()`.\n"
   ]
  },
  {
   "cell_type": "code",
   "execution_count": 32,
   "metadata": {
    "vscode": {
     "languageId": "r"
    }
   },
   "outputs": [
    {
     "data": {
      "text/html": [
       "0.44392"
      ],
      "text/latex": [
       "0.44392"
      ],
      "text/markdown": [
       "0.44392"
      ],
      "text/plain": [
       "[1] 0.44392"
      ]
     },
     "metadata": {},
     "output_type": "display_data"
    },
    {
     "data": {
      "text/html": [
       "0.44153"
      ],
      "text/latex": [
       "0.44153"
      ],
      "text/markdown": [
       "0.44153"
      ],
      "text/plain": [
       "[1] 0.44153"
      ]
     },
     "metadata": {},
     "output_type": "display_data"
    }
   ],
   "source": [
    "montecarlo <- function(number) {\n",
    "    hits <-0\n",
    "    for(i in 1:number){\n",
    "        r1<-rnorm(mean=0.5,sd=0.5,n=1)\n",
    "        r2<-rnorm(mean=0.5,sd=0.5,n=1)\n",
    "        if(r2 < r1^2){\n",
    "            hits<- hits+1\n",
    "        }\n",
    "    }\n",
    "    hits/number\n",
    "}\n",
    "\n",
    "\n",
    "\n",
    "montecarlor <- function(number) {\n",
    "    r1 <- rnorm(mean=0.5,sd=0.5,n=number)\n",
    "    r2 <- rnorm(mean=0.5,sd=0.5,n=number)\n",
    "    length(r2[r2 < r1^2])/number\n",
    "}\n",
    "\n",
    "montecarlor(100000)\n",
    "montecarlo(100000)"
   ]
  },
  {
   "cell_type": "code",
   "execution_count": 33,
   "metadata": {
    "vscode": {
     "languageId": "r"
    }
   },
   "outputs": [
    {
     "data": {
      "text/plain": [
       "   user  system elapsed \n",
       "  0.110   0.000   0.111 "
      ]
     },
     "metadata": {},
     "output_type": "display_data"
    },
    {
     "data": {
      "text/plain": [
       "   user  system elapsed \n",
       "  3.998   0.011   4.008 "
      ]
     },
     "metadata": {},
     "output_type": "display_data"
    }
   ],
   "source": [
    "system.time(montecarlor(1000000))\n",
    "\n",
    "system.time(montecarlo(1000000))"
   ]
  },
  {
   "cell_type": "markdown",
   "metadata": {},
   "source": [
    "3. Crea una lista de cinco matrices numéricas y ordénalas tras su creación.\n"
   ]
  },
  {
   "cell_type": "code",
   "execution_count": 7,
   "metadata": {
    "vscode": {
     "languageId": "r"
    }
   },
   "outputs": [
    {
     "data": {
      "text/plain": [
       "   user  system elapsed \n",
       "  0.006   0.000   0.006 "
      ]
     },
     "metadata": {},
     "output_type": "display_data"
    },
    {
     "data": {
      "text/plain": [
       "   user  system elapsed \n",
       "  0.779   0.000   0.779 "
      ]
     },
     "metadata": {},
     "output_type": "display_data"
    }
   ],
   "source": [
    "ordenar <- function(number) {\n",
    "    m1 <- rnorm(mean=0.5,sd=0.5,n=number) *100\n",
    "    m2 <- rnorm(mean=0.5,sd=0.5,n=number) *100\n",
    "    m3 <- rnorm(mean=0.5,sd=0.5,n=number) *100\n",
    "    m4 <- rnorm(mean=0.5,sd=0.5,n=number) *100\n",
    "    m5 <- rnorm(mean=0.5,sd=0.5,n=number) *100\n",
    "    result <- list(m1,m2,m3,m4,m5)\n",
    "    lapply(result,sort)\n",
    "} \n",
    "\n",
    "ordena <- function(number) {\n",
    "    m1 <- rnorm(mean=0.5,sd=0.5,n=number) *100\n",
    "    m2 <- rnorm(mean=0.5,sd=0.5,n=number) *100\n",
    "    m3 <- rnorm(mean=0.5,sd=0.5,n=number) *100\n",
    "    m4 <- rnorm(mean=0.5,sd=0.5,n=number) *100\n",
    "    m5 <- rnorm(mean=0.5,sd=0.5,n=number) *100\n",
    "    result <- list(m1,m2,m3,m4,m5)\n",
    "    for(i in 1:5){\n",
    "        repeat{\n",
    "            haschanged <- FALSE\n",
    "        for(j in 1:(number-1)){\n",
    "            if(result[[i]][j] > result[[i]][j+1]){\n",
    "                t<-result[[i]][j]\n",
    "                result[[i]][j]<- result[[i]][j+1]\n",
    "                result[[i]][j+1] <- t\n",
    "                haschanged <- TRUE\n",
    "            }\n",
    "        }\n",
    "        if(!haschanged) break;\n",
    "        }\n",
    "    }\n",
    "}\n",
    "\n",
    "system.time(ordenar(1000))\n",
    "system.time(ordena(1000))"
   ]
  },
  {
   "cell_type": "markdown",
   "metadata": {},
   "source": [
    "4. Calcula el valor mínimo de cada columna de una matriz, pero suponiendo que los números impares son negativos y los pares positivos.\n"
   ]
  },
  {
   "cell_type": "code",
   "execution_count": 45,
   "metadata": {
    "vscode": {
     "languageId": "r"
    }
   },
   "outputs": [
    {
     "name": "stderr",
     "output_type": "stream",
     "text": [
      "Warning message in matrix(rnorm(n = 1000) * 100, nrow = row, ncol = col):\n",
      "“la longitud de los datos [1000] no es un submúltiplo o múltiplo del número de filas [874] en la matriz”\n"
     ]
    },
    {
     "data": {
      "text/plain": [
       "   user  system elapsed \n",
       "  0.115   0.012   0.127 "
      ]
     },
     "metadata": {},
     "output_type": "display_data"
    },
    {
     "data": {
      "text/plain": [
       "   user  system elapsed \n",
       "  0.351   0.000   0.351 "
      ]
     },
     "metadata": {},
     "output_type": "display_data"
    }
   ],
   "source": [
    "imparesr <- function(matriz) {\n",
    "\n",
    "    matriz[which(matriz %% 2 == 1 & matriz > 0)] <- matriz[which(matriz %% 2 == 1 & matriz > 0)]*-1\n",
    "    matriz[which(matriz %% 2 == 0 & matriz < 0)] <- matriz[which(matriz %% 2 == 0 & matriz < 0)]*-1\n",
    "    apply(matriz,2,min)\n",
    "}\n",
    "\n",
    "impares <- function(matriz){\n",
    "    mins <- vector(\"numeric\",ncol(matriz))\n",
    "    for(i in 1:ncol(matriz)){\n",
    "        min<-Inf\n",
    "    for(j in 1:nrow(matriz)){\n",
    "        valor<-matriz[j,i]\n",
    "        if(valor%%2==1 && valor > 0){\n",
    "            valor<-valor*-1\n",
    "        }\n",
    "        if(valor%%2==0 && valor < 0){\n",
    "            valor<-valor*-1\n",
    "        }\n",
    "        if(valor < min) min <- valor\n",
    "    }\n",
    "    mins[i] <- min\n",
    "    }\n",
    "    mins\n",
    "}\n",
    "\n",
    "row <- sample(1:1000, size=1)\n",
    "col <- sample(1:1000, size=1)\n",
    "v <- matrix(rnorm(n=1000)*100,nrow=row,ncol=col)\n",
    "system.time(imparesr(v))\n",
    "system.time(impares(v))"
   ]
  },
  {
   "cell_type": "markdown",
   "metadata": {},
   "source": [
    "5. Dada una matriz devuelve una lista de todos los valores mayores que 7 de cada fila."
   ]
  },
  {
   "cell_type": "code",
   "execution_count": 56,
   "metadata": {
    "vscode": {
     "languageId": "r"
    }
   },
   "outputs": [
    {
     "name": "stderr",
     "output_type": "stream",
     "text": [
      "Warning message in matrix(rnorm(n = 1000) * 100, nrow = row, ncol = col):\n",
      "“la longitud de los datos [1000] no es un submúltiplo o múltiplo del número de filas [827] en la matriz”\n"
     ]
    },
    {
     "data": {
      "text/plain": [
       "   user  system elapsed \n",
       "  0.014   0.000   0.014 "
      ]
     },
     "metadata": {},
     "output_type": "display_data"
    },
    {
     "data": {
      "text/plain": [
       "   user  system elapsed \n",
       "  0.161   0.000   0.161 "
      ]
     },
     "metadata": {},
     "output_type": "display_data"
    }
   ],
   "source": [
    "aux <- function(fila){\n",
    "    fila[fila>7]\n",
    "}\n",
    "mayorquesieter <- function(matriz){\n",
    "    as.list(apply(matriz,1,aux))\n",
    "}\n",
    "\n",
    "mayorquesiete <- function(matriz){\n",
    "    res <- list()\n",
    "    for(i in 1:nrow(matriz)){\n",
    "        sub_res <- list()\n",
    "        index <- 1\n",
    "        for(j in 1:ncol(matriz))\n",
    "        if(matriz[i,j]>7){\n",
    "            sub_res[[index]] <- matriz[i,j]\n",
    "            index <- index+1\n",
    "        }\n",
    "        res[[i]] <- sub_res\n",
    "    }\n",
    "}\n",
    "\n",
    "row <- sample(1:1000, size=1)\n",
    "col <- sample(1:1000, size=1)\n",
    "v <- matrix(rnorm(n=1000)*100,nrow=row,ncol=col)\n",
    "system.time(mayorquesieter(v))\n",
    "system.time(mayorquesiete(v))"
   ]
  }
 ],
 "metadata": {
  "kernelspec": {
   "display_name": "R",
   "language": "R",
   "name": "ir"
  },
  "language_info": {
   "codemirror_mode": "r",
   "file_extension": ".r",
   "mimetype": "text/x-r-source",
   "name": "R",
   "pygments_lexer": "r",
   "version": "4.3.1"
  },
  "orig_nbformat": 4
 },
 "nbformat": 4,
 "nbformat_minor": 2
}
