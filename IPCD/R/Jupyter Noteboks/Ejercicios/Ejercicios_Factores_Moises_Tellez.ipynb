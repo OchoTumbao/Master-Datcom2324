{
 "cells": [
  {
   "cell_type": "markdown",
   "metadata": {},
   "source": [
    "## Ejercicios factores\n",
    "\n",
    "1. Crea un factor llamado \"fact_puntuacion\" que contenga puntuaciones de 1 al 5 para 100 productos. Utiliza la función summary() para obtener un resumen de la distribución de puntuaciones. ¿Qué puedes deducir del tipo de aleatoriedad usada en sample?"
   ]
  },
  {
   "cell_type": "code",
   "execution_count": 2,
   "metadata": {
    "vscode": {
     "languageId": "r"
    }
   },
   "outputs": [
    {
     "name": "stdout",
     "output_type": "stream",
     "text": [
      " 1  2  3  4  5 \n",
      "19 22 26 19 14 \n"
     ]
    }
   ],
   "source": [
    "fact_puntuacion <- factor(sample(1:5,100,replace=TRUE),levels=1:5)\n",
    "print(summary(fact_puntuacion))"
   ]
  },
  {
   "cell_type": "markdown",
   "metadata": {},
   "source": [
    "Viendo que todos los resultados son cercanos a 20 podemos deducir que la distribución de probabilidad es uniforme\n",
    "2. Crea un factor ordenado para edades entre 0 y 100 de 100 personas. Utiliza la funcion cut para generar 3 nieveles separados. Ahora reetiqueta el factor como \"joven\", \"adulto\" o \"anciano\". Muestra la frecuencia de cada nivel."
   ]
  },
  {
   "cell_type": "code",
   "execution_count": 3,
   "metadata": {
    "vscode": {
     "languageId": "r"
    }
   },
   "outputs": [
    {
     "name": "stdout",
     "output_type": "stream",
     "text": [
      "  joven  adulto anciano \n",
      "     35      25      40 \n"
     ]
    }
   ],
   "source": [
    "muestra <- sample(0:100,100,replace=T)\n",
    "niveles <- cut(muestra,3,ordered_result=TRUE)\n",
    "levels(niveles) <- c(\"joven\",\"adulto\",\"anciano\")\n",
    "print(summary(niveles))"
   ]
  },
  {
   "cell_type": "markdown",
   "metadata": {},
   "source": [
    "3. Crea un factor para el siguiente vector teniendo en cuenta que los niveles posibles son todas las letras de la \"A\" a la \"Z\":\n",
    "\n",
    "v <- c(\"A\",\"I\", \"I\", \"J\", \"A\", \"Z\", \"X\")"
   ]
  },
  {
   "cell_type": "code",
   "execution_count": 4,
   "metadata": {
    "vscode": {
     "languageId": "r"
    }
   },
   "outputs": [
    {
     "name": "stdout",
     "output_type": "stream",
     "text": [
      "[1] A I I J A Z X\n",
      "Levels: A B C D E F G H I J K L M N O P Q R S T U V W X Y Z\n"
     ]
    }
   ],
   "source": [
    "v <- c(\"A\",\"I\", \"I\", \"J\", \"A\", \"Z\", \"X\")\n",
    "ej3 <- factor(v,levels=LETTERS)\n",
    "print(ej3)"
   ]
  },
  {
   "cell_type": "markdown",
   "metadata": {},
   "source": [
    "* Modifica una de las \"I\" por una \"F\""
   ]
  },
  {
   "cell_type": "code",
   "execution_count": 5,
   "metadata": {
    "vscode": {
     "languageId": "r"
    }
   },
   "outputs": [
    {
     "name": "stdout",
     "output_type": "stream",
     "text": [
      "[1] A F I J A Z X\n",
      "Levels: A B C D E F G H I J K L M N O P Q R S T U V W X Y Z\n"
     ]
    }
   ],
   "source": [
    "ej3[which(ej3==\"I\")[1]] <- \"F\"\n",
    "print(ej3)"
   ]
  },
  {
   "cell_type": "markdown",
   "metadata": {},
   "source": [
    "* Agrega una nueva \"A\" en última posición"
   ]
  },
  {
   "cell_type": "code",
   "execution_count": 6,
   "metadata": {
    "vscode": {
     "languageId": "r"
    }
   },
   "outputs": [
    {
     "name": "stdout",
     "output_type": "stream",
     "text": [
      "[1] A F I J A Z X A\n",
      "Levels: A B C D E F G H I J K L M N O P Q R S T U V W X Y Z\n"
     ]
    }
   ],
   "source": [
    "ej3[length(ej3)+1] <- \"A\"\n",
    "print(ej3)"
   ]
  },
  {
   "cell_type": "markdown",
   "metadata": {},
   "source": [
    "* Indica las letras que aparecen en el factor ordenadas por su frecuencia, empezando con la menos frecuente"
   ]
  },
  {
   "cell_type": "code",
   "execution_count": 7,
   "metadata": {
    "vscode": {
     "languageId": "r"
    }
   },
   "outputs": [
    {
     "data": {
      "text/html": [
       "<style>\n",
       ".dl-inline {width: auto; margin:0; padding: 0}\n",
       ".dl-inline>dt, .dl-inline>dd {float: none; width: auto; display: inline-block}\n",
       ".dl-inline>dt::after {content: \":\\0020\"; padding-right: .5ex}\n",
       ".dl-inline>dt:not(:first-of-type) {padding-left: .5ex}\n",
       "</style><dl class=dl-inline><dt>F</dt><dd>1</dd><dt>I</dt><dd>1</dd><dt>J</dt><dd>1</dd><dt>X</dt><dd>1</dd><dt>Z</dt><dd>1</dd><dt>A</dt><dd>3</dd></dl>\n"
      ],
      "text/latex": [
       "\\begin{description*}\n",
       "\\item[F] 1\n",
       "\\item[I] 1\n",
       "\\item[J] 1\n",
       "\\item[X] 1\n",
       "\\item[Z] 1\n",
       "\\item[A] 3\n",
       "\\end{description*}\n"
      ],
      "text/markdown": [
       "F\n",
       ":   1I\n",
       ":   1J\n",
       ":   1X\n",
       ":   1Z\n",
       ":   1A\n",
       ":   3\n",
       "\n"
      ],
      "text/plain": [
       "F I J X Z A \n",
       "1 1 1 1 1 3 "
      ]
     },
     "metadata": {},
     "output_type": "display_data"
    }
   ],
   "source": [
    "sort(summary(ej3)[summary(ej3) != 0])"
   ]
  }
 ],
 "metadata": {
  "kernelspec": {
   "display_name": "R",
   "language": "R",
   "name": "ir"
  },
  "language_info": {
   "codemirror_mode": "r",
   "file_extension": ".r",
   "mimetype": "text/x-r-source",
   "name": "R",
   "pygments_lexer": "r",
   "version": "4.3.1"
  },
  "orig_nbformat": 4
 },
 "nbformat": 4,
 "nbformat_minor": 2
}
