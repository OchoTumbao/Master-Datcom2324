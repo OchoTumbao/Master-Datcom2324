{
 "cells": [
  {
   "cell_type": "markdown",
   "metadata": {
    "collapsed": true
   },
   "source": [
    "# Introducción a la Programación para Ciencia de Datos\n",
    "## Lenguaje de programación R\n",
    "_Rocío Romero Zaliz_ - rocio@decsai.ugr.es"
   ]
  },
  {
   "cell_type": "markdown",
   "metadata": {},
   "source": [
    "# Funciones\n",
    "\n",
    "Una función es un grupo de instrucciones que toma entradas, las utiliza para calcular otros valores y devuelve un resultado."
   ]
  },
  {
   "cell_type": "code",
   "execution_count": 1,
   "metadata": {
    "scrolled": true,
    "vscode": {
     "languageId": "r"
    }
   },
   "outputs": [
    {
     "data": {
      "text/html": [
       "<pre class=language-r><code>function (..., file = \"\", sep = \" \", fill = FALSE, labels = NULL, \n",
       "<span style=white-space:pre-wrap>    append = FALSE) </span>\n",
       "{\n",
       "<span style=white-space:pre-wrap>    if (is.character(file)) </span>\n",
       "<span style=white-space:pre-wrap>        if (file == \"\") </span>\n",
       "<span style=white-space:pre-wrap>            file &lt;- stdout()</span>\n",
       "<span style=white-space:pre-wrap>        else if (startsWith(file, \"|\")) {</span>\n",
       "<span style=white-space:pre-wrap>            file &lt;- pipe(substring(file, 2L), \"w\")</span>\n",
       "<span style=white-space:pre-wrap>            on.exit(close(file))</span>\n",
       "<span style=white-space:pre-wrap>        }</span>\n",
       "<span style=white-space:pre-wrap>        else {</span>\n",
       "<span style=white-space:pre-wrap>            file &lt;- file(file, ifelse(append, \"a\", \"w\"))</span>\n",
       "<span style=white-space:pre-wrap>            on.exit(close(file))</span>\n",
       "<span style=white-space:pre-wrap>        }</span>\n",
       "<span style=white-space:pre-wrap>    .Internal(cat(list(...), file, sep, fill, labels, append))</span>\n",
       "}</code></pre>"
      ],
      "text/latex": [
       "\\begin{minted}{r}\n",
       "function (..., file = \"\", sep = \" \", fill = FALSE, labels = NULL, \n",
       "    append = FALSE) \n",
       "\\{\n",
       "    if (is.character(file)) \n",
       "        if (file == \"\") \n",
       "            file <- stdout()\n",
       "        else if (startsWith(file, \"\\textbar{}\")) \\{\n",
       "            file <- pipe(substring(file, 2L), \"w\")\n",
       "            on.exit(close(file))\n",
       "        \\}\n",
       "        else \\{\n",
       "            file <- file(file, ifelse(append, \"a\", \"w\"))\n",
       "            on.exit(close(file))\n",
       "        \\}\n",
       "    .Internal(cat(list(...), file, sep, fill, labels, append))\n",
       "\\}\n",
       "\\end{minted}"
      ],
      "text/markdown": [
       "```r\n",
       "function (..., file = \"\", sep = \" \", fill = FALSE, labels = NULL, \n",
       "    append = FALSE) \n",
       "{\n",
       "    if (is.character(file)) \n",
       "        if (file == \"\") \n",
       "            file <- stdout()\n",
       "        else if (startsWith(file, \"|\")) {\n",
       "            file <- pipe(substring(file, 2L), \"w\")\n",
       "            on.exit(close(file))\n",
       "        }\n",
       "        else {\n",
       "            file <- file(file, ifelse(append, \"a\", \"w\"))\n",
       "            on.exit(close(file))\n",
       "        }\n",
       "    .Internal(cat(list(...), file, sep, fill, labels, append))\n",
       "}\n",
       "```"
      ],
      "text/plain": [
       "function (..., file = \"\", sep = \" \", fill = FALSE, labels = NULL, \n",
       "    append = FALSE) \n",
       "{\n",
       "    if (is.character(file)) \n",
       "        if (file == \"\") \n",
       "            file <- stdout()\n",
       "        else if (startsWith(file, \"|\")) {\n",
       "            file <- pipe(substring(file, 2L), \"w\")\n",
       "            on.exit(close(file))\n",
       "        }\n",
       "        else {\n",
       "            file <- file(file, ifelse(append, \"a\", \"w\"))\n",
       "            on.exit(close(file))\n",
       "        }\n",
       "    .Internal(cat(list(...), file, sep, fill, labels, append))\n",
       "}\n",
       "<bytecode: 0x5562cecf51c8>\n",
       "<environment: namespace:base>"
      ]
     },
     "metadata": {},
     "output_type": "display_data"
    }
   ],
   "source": [
    "cat"
   ]
  },
  {
   "cell_type": "code",
   "execution_count": null,
   "metadata": {
    "vscode": {
     "languageId": "r"
    }
   },
   "outputs": [],
   "source": [
    "cat(1:10, sep=\"#\", file=\"hola1.txt\")"
   ]
  },
  {
   "cell_type": "code",
   "execution_count": null,
   "metadata": {
    "vscode": {
     "languageId": "r"
    }
   },
   "outputs": [],
   "source": [
    "cat(sep=\"#\", 1:10, file=\"hola2.txt\")"
   ]
  },
  {
   "cell_type": "markdown",
   "metadata": {},
   "source": [
    "¡Podemos crear nuestras propias funciones!"
   ]
  },
  {
   "cell_type": "code",
   "execution_count": 2,
   "metadata": {
    "vscode": {
     "languageId": "r"
    }
   },
   "outputs": [],
   "source": [
    "suma <- function(x, y) {\n",
    "    x + y\n",
    "}"
   ]
  },
  {
   "cell_type": "code",
   "execution_count": 3,
   "metadata": {
    "vscode": {
     "languageId": "r"
    }
   },
   "outputs": [
    {
     "data": {
      "text/html": [
       "<pre class=language-r><code>function (x, y) \n",
       "{\n",
       "<span style=white-space:pre-wrap>    x + y</span>\n",
       "}</code></pre>"
      ],
      "text/latex": [
       "\\begin{minted}{r}\n",
       "function (x, y) \n",
       "\\{\n",
       "    x + y\n",
       "\\}\n",
       "\\end{minted}"
      ],
      "text/markdown": [
       "```r\n",
       "function (x, y) \n",
       "{\n",
       "    x + y\n",
       "}\n",
       "```"
      ],
      "text/plain": [
       "function(x, y) {\n",
       "    x + y\n",
       "}"
      ]
     },
     "metadata": {},
     "output_type": "display_data"
    }
   ],
   "source": [
    "suma"
   ]
  },
  {
   "cell_type": "markdown",
   "metadata": {},
   "source": [
    "## WTF?"
   ]
  },
  {
   "cell_type": "code",
   "execution_count": 4,
   "metadata": {
    "vscode": {
     "languageId": "r"
    }
   },
   "outputs": [
    {
     "data": {
      "text/html": [
       "0.4"
      ],
      "text/latex": [
       "0.4"
      ],
      "text/markdown": [
       "0.4"
      ],
      "text/plain": [
       "[1] 0.4"
      ]
     },
     "metadata": {},
     "output_type": "display_data"
    }
   ],
   "source": [
    "# ¡No se usa \"return\" NUNCA! No hace falta... Es R no Python/C/Pascal/...\n",
    "# ¡Es una función!\n",
    "# [Nota a mi misma... respira...]\n",
    "\n",
    "return (2/5) * 3:9 # WTF??!!?!"
   ]
  },
  {
   "cell_type": "code",
   "execution_count": 5,
   "metadata": {
    "vscode": {
     "languageId": "r"
    }
   },
   "outputs": [
    {
     "data": {
      "text/html": [
       "<style>\n",
       ".list-inline {list-style: none; margin:0; padding: 0}\n",
       ".list-inline>li {display: inline-block}\n",
       ".list-inline>li:not(:last-child)::after {content: \"\\00b7\"; padding: 0 .5ex}\n",
       "</style>\n",
       "<ol class=list-inline><li>1.2</li><li>1.6</li><li>2</li><li>2.4</li><li>2.8</li><li>3.2</li><li>3.6</li></ol>\n"
      ],
      "text/latex": [
       "\\begin{enumerate*}\n",
       "\\item 1.2\n",
       "\\item 1.6\n",
       "\\item 2\n",
       "\\item 2.4\n",
       "\\item 2.8\n",
       "\\item 3.2\n",
       "\\item 3.6\n",
       "\\end{enumerate*}\n"
      ],
      "text/markdown": [
       "1. 1.2\n",
       "2. 1.6\n",
       "3. 2\n",
       "4. 2.4\n",
       "5. 2.8\n",
       "6. 3.2\n",
       "7. 3.6\n",
       "\n",
       "\n"
      ],
      "text/plain": [
       "[1] 1.2 1.6 2.0 2.4 2.8 3.2 3.6"
      ]
     },
     "metadata": {},
     "output_type": "display_data"
    }
   ],
   "source": [
    "(2/5) * 3:9"
   ]
  },
  {
   "cell_type": "code",
   "execution_count": 6,
   "metadata": {
    "vscode": {
     "languageId": "r"
    }
   },
   "outputs": [
    {
     "name": "stderr",
     "output_type": "stream",
     "text": [
      "Warning message in rm(return):\n",
      "“objeto 'return' no encontrado”\n"
     ]
    },
    {
     "data": {
      "text/html": [
       "0.4"
      ],
      "text/latex": [
       "0.4"
      ],
      "text/markdown": [
       "0.4"
      ],
      "text/plain": [
       "[1] 0.4"
      ]
     },
     "metadata": {},
     "output_type": "display_data"
    }
   ],
   "source": [
    "rm(return)\n",
    "return (2/5) * 3:9"
   ]
  },
  {
   "cell_type": "code",
   "execution_count": 7,
   "metadata": {
    "vscode": {
     "languageId": "r"
    }
   },
   "outputs": [
    {
     "data": {
      "text/html": [
       "5"
      ],
      "text/latex": [
       "5"
      ],
      "text/markdown": [
       "5"
      ],
      "text/plain": [
       "[1] 5"
      ]
     },
     "metadata": {},
     "output_type": "display_data"
    }
   ],
   "source": [
    "suma(2, 3)"
   ]
  },
  {
   "cell_type": "code",
   "execution_count": 8,
   "metadata": {
    "vscode": {
     "languageId": "r"
    }
   },
   "outputs": [
    {
     "ename": "ERROR",
     "evalue": "Error in suma(2): el argumento \"y\" está ausente, sin valor por omisión\n",
     "output_type": "error",
     "traceback": [
      "Error in suma(2): el argumento \"y\" está ausente, sin valor por omisión\nTraceback:\n",
      "1. suma(2)"
     ]
    }
   ],
   "source": [
    "# Error!\n",
    "suma(2)"
   ]
  },
  {
   "cell_type": "code",
   "execution_count": 9,
   "metadata": {
    "vscode": {
     "languageId": "r"
    }
   },
   "outputs": [
    {
     "data": {
      "text/html": [
       "2"
      ],
      "text/latex": [
       "2"
      ],
      "text/markdown": [
       "2"
      ],
      "text/plain": [
       "[1] 2"
      ]
     },
     "metadata": {},
     "output_type": "display_data"
    }
   ],
   "source": [
    "mean(2, -100, -4, 3, -230, 5)"
   ]
  },
  {
   "cell_type": "code",
   "execution_count": 10,
   "metadata": {
    "vscode": {
     "languageId": "r"
    }
   },
   "outputs": [
    {
     "data": {
      "text/html": [
       "-54"
      ],
      "text/latex": [
       "-54"
      ],
      "text/markdown": [
       "-54"
      ],
      "text/plain": [
       "[1] -54"
      ]
     },
     "metadata": {},
     "output_type": "display_data"
    }
   ],
   "source": [
    "mean(c(2, -100, -4, 3, -230, 5))"
   ]
  },
  {
   "cell_type": "markdown",
   "metadata": {},
   "source": [
    "Sigamos..."
   ]
  },
  {
   "cell_type": "code",
   "execution_count": 11,
   "metadata": {
    "vscode": {
     "languageId": "r"
    }
   },
   "outputs": [
    {
     "data": {
      "text/html": [
       "7"
      ],
      "text/latex": [
       "7"
      ],
      "text/markdown": [
       "7"
      ],
      "text/plain": [
       "[1] 7"
      ]
     },
     "metadata": {},
     "output_type": "display_data"
    }
   ],
   "source": [
    "# Default values\n",
    "\n",
    "suma <- function(x, y=5) {\n",
    "    x + y\n",
    "}\n",
    "\n",
    "suma(x=2)"
   ]
  },
  {
   "cell_type": "code",
   "execution_count": 12,
   "metadata": {
    "vscode": {
     "languageId": "r"
    }
   },
   "outputs": [
    {
     "data": {
      "text/html": [
       "7"
      ],
      "text/latex": [
       "7"
      ],
      "text/markdown": [
       "7"
      ],
      "text/plain": [
       "[1] 7"
      ]
     },
     "metadata": {},
     "output_type": "display_data"
    }
   ],
   "source": [
    "suma(2)"
   ]
  },
  {
   "cell_type": "code",
   "execution_count": 13,
   "metadata": {
    "vscode": {
     "languageId": "r"
    }
   },
   "outputs": [
    {
     "data": {
      "text/html": [
       "14"
      ],
      "text/latex": [
       "14"
      ],
      "text/markdown": [
       "14"
      ],
      "text/plain": [
       "[1] 14"
      ]
     },
     "metadata": {},
     "output_type": "display_data"
    },
    {
     "data": {
      "text/html": [
       "14"
      ],
      "text/latex": [
       "14"
      ],
      "text/markdown": [
       "14"
      ],
      "text/plain": [
       "[1] 14"
      ]
     },
     "metadata": {},
     "output_type": "display_data"
    }
   ],
   "source": [
    "suma(y=9, x=5)\n",
    "suma(x=9, y=5)"
   ]
  },
  {
   "cell_type": "code",
   "execution_count": 14,
   "metadata": {
    "vscode": {
     "languageId": "r"
    }
   },
   "outputs": [
    {
     "name": "stdout",
     "output_type": "stream",
     "text": [
      "[1] 1\n",
      "[1] 9\n"
     ]
    },
    {
     "data": {
      "text/html": [
       "108"
      ],
      "text/latex": [
       "108"
      ],
      "text/markdown": [
       "108"
      ],
      "text/plain": [
       "[1] 108"
      ]
     },
     "metadata": {},
     "output_type": "display_data"
    },
    {
     "name": "stdout",
     "output_type": "stream",
     "text": [
      "[1] 1\n",
      "[1] 9\n"
     ]
    }
   ],
   "source": [
    "x <- 1\n",
    "y <- 9\n",
    "\n",
    "print(x)\n",
    "print(y)\n",
    "\n",
    "suma <- function(x=5, y=1) {\n",
    "    x <- 99\n",
    "    x + y\n",
    "}\n",
    "\n",
    "suma(x,y)\n",
    "\n",
    "print(x)\n",
    "print(y)"
   ]
  },
  {
   "cell_type": "code",
   "execution_count": 18,
   "metadata": {
    "vscode": {
     "languageId": "r"
    }
   },
   "outputs": [
    {
     "data": {
      "text/html": [
       "100"
      ],
      "text/latex": [
       "100"
      ],
      "text/markdown": [
       "100"
      ],
      "text/plain": [
       "[1] 100"
      ]
     },
     "metadata": {},
     "output_type": "display_data"
    }
   ],
   "source": [
    "suma()"
   ]
  },
  {
   "cell_type": "code",
   "execution_count": 15,
   "metadata": {
    "vscode": {
     "languageId": "r"
    }
   },
   "outputs": [
    {
     "name": "stdout",
     "output_type": "stream",
     "text": [
      "hola"
     ]
    }
   ],
   "source": [
    "# Un procedimiento... también se codifica como una función...\n",
    "\n",
    "prueba1 <- function(pepe=\"hola\") {\n",
    "    cat(pepe)\n",
    "}\n",
    "\n",
    "a <- prueba1()"
   ]
  },
  {
   "cell_type": "code",
   "execution_count": 17,
   "metadata": {
    "vscode": {
     "languageId": "r"
    }
   },
   "outputs": [
    {
     "name": "stdout",
     "output_type": "stream",
     "text": [
      "NULL\n"
     ]
    }
   ],
   "source": [
    "print(a)"
   ]
  },
  {
   "cell_type": "code",
   "execution_count": 16,
   "metadata": {
    "vscode": {
     "languageId": "r"
    }
   },
   "outputs": [
    {
     "name": "stdout",
     "output_type": "stream",
     "text": [
      "probando..."
     ]
    }
   ],
   "source": [
    "prueba1(\"probando...\")"
   ]
  },
  {
   "cell_type": "code",
   "execution_count": null,
   "metadata": {
    "vscode": {
     "languageId": "r"
    }
   },
   "outputs": [],
   "source": [
    "print(prueba1())"
   ]
  },
  {
   "cell_type": "code",
   "execution_count": null,
   "metadata": {
    "vscode": {
     "languageId": "r"
    }
   },
   "outputs": [],
   "source": [
    "prueba2 <- function(x, y, z) {\n",
    "    w <- x + y\n",
    "    p <- w - z\n",
    "}"
   ]
  },
  {
   "cell_type": "code",
   "execution_count": null,
   "metadata": {
    "vscode": {
     "languageId": "r"
    }
   },
   "outputs": [],
   "source": [
    "prueba2(1,21,3)"
   ]
  },
  {
   "cell_type": "code",
   "execution_count": null,
   "metadata": {
    "vscode": {
     "languageId": "r"
    }
   },
   "outputs": [],
   "source": [
    "print(prueba2(1,21,3))"
   ]
  },
  {
   "cell_type": "code",
   "execution_count": null,
   "metadata": {
    "vscode": {
     "languageId": "r"
    }
   },
   "outputs": [],
   "source": [
    "prueba2 <- function(x, y, z) {\n",
    "    w <- x + y\n",
    "    p <- w - z\n",
    "    \n",
    "    p\n",
    "}\n",
    "prueba2(1,21,3)"
   ]
  },
  {
   "cell_type": "code",
   "execution_count": null,
   "metadata": {
    "vscode": {
     "languageId": "r"
    }
   },
   "outputs": [],
   "source": [
    "prueba2 <- function(x, y, z) {\n",
    "    w <- x + y\n",
    "    p <- w - z\n",
    "    \n",
    "    return(p) # Not R-ish...\n",
    "}\n",
    "prueba2(1,21,3)"
   ]
  },
  {
   "cell_type": "code",
   "execution_count": null,
   "metadata": {
    "vscode": {
     "languageId": "r"
    }
   },
   "outputs": [],
   "source": [
    "# Todos los argumentos son por valor\n",
    "\n",
    "prueba3 <- function(a, b) {\n",
    "    a <- 7\n",
    "    b <- 0\n",
    "    print(a)\n",
    "    print(b)\n",
    "}\n",
    "\n",
    "xx <- 0\n",
    "yy <- 4\n",
    "print(xx)\n",
    "print(yy)\n",
    "prueba3(xx,yy)\n",
    "print(xx)\n",
    "print(yy)\n",
    "\n",
    "# Los argumentos por referencia no existen en R básico (no es R-ish)\n",
    "# Sin embargo... compruebe los paquetes R.oo, proto, ff"
   ]
  },
  {
   "cell_type": "code",
   "execution_count": null,
   "metadata": {
    "vscode": {
     "languageId": "r"
    }
   },
   "outputs": [],
   "source": [
    "# Otra forma de usar una función: sample(x=10,size=5)\n",
    "do.call(\"sample\", list(x=10, size=5))"
   ]
  },
  {
   "cell_type": "markdown",
   "metadata": {},
   "source": [
    "## Ejercicios funciones\n",
    "<i>(Si ya conoces `if` y/o `ifelse`, NO las utilices en estos ejercicios)</i>\n",
    "1. Crea una función \"impares\" que dada una matriz devuelva el número de elementos impares que contiene.\n",
    "2. Crear una función \"cambio\" que, dada una matriz de números enteros, devuelva una nueva matriz con todos los NA sustituidos por 0.\n",
    "3. Crear una función \"unir\" que dadas dos matrices devuelva una nueva matriz con los elementos de ambas matrices sin repetir (en el mismo orden que en las matrices originales).\n",
    "4. Crear una función \"vyc\" que dada una cadena devuelva una lista de dos componentes, uno que contenga las vocales y otro las consonantes (en orden alfabético y minúsculas).\n",
    "5. Crear una función \"subpos\" que dada una matriz v y dos valores x e y (siendo y un parámetro opcional), devuelva una nueva matriz con los valores incluidos después de la primera x (si x no está, empieza desde el principio) hasta la primera y después de la primera x (si y no está, termina hasta el final de la matriz). Si no se indica y, la función devolverá los valores posteriores a la primera x hasta el final de la matriz. Ejemplos:\n",
    ">subpos(1:4, 8, 3) -> 1 2 3<br/>\n",
    "subpos(1:4, 2, 8) -> 2 3 4<br/>\n",
    "subpos(1:4, 2) -> 2 3 4"
   ]
  }
 ],
 "metadata": {
  "celltoolbar": "Raw Cell Format",
  "kernelspec": {
   "display_name": "R",
   "language": "R",
   "name": "ir"
  },
  "language_info": {
   "codemirror_mode": "r",
   "file_extension": ".r",
   "mimetype": "text/x-r-source",
   "name": "R",
   "pygments_lexer": "r",
   "version": "4.3.1"
  }
 },
 "nbformat": 4,
 "nbformat_minor": 2
}
