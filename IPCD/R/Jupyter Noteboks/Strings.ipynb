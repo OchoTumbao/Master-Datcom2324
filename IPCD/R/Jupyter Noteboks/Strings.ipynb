{
 "cells": [
  {
   "cell_type": "markdown",
   "metadata": {
    "collapsed": true
   },
   "source": [
    "# Introducción a la Programación para Ciencia de Datos\n",
    "## Lenguaje de programación R\n",
    "_Rocío Romero Zaliz_ - rocio@decsai.ugr.es"
   ]
  },
  {
   "cell_type": "markdown",
   "metadata": {},
   "source": [
    "# Cadenas de caracteres en R"
   ]
  },
  {
   "cell_type": "markdown",
   "metadata": {},
   "source": [
    "Aunque R es un lenguaje estadístico en el que los vectores numéricos y las matrices desempeñan un papel central, las cadenas de caracteres también son necesarias y R dispone de una serie de utilidades de manipulación de cadenas."
   ]
  },
  {
   "cell_type": "code",
   "execution_count": 1,
   "metadata": {
    "scrolled": true,
    "vscode": {
     "languageId": "r"
    }
   },
   "outputs": [
    {
     "data": {
      "text/html": [
       "'character'"
      ],
      "text/latex": [
       "'character'"
      ],
      "text/markdown": [
       "'character'"
      ],
      "text/plain": [
       "[1] \"character\""
      ]
     },
     "metadata": {},
     "output_type": "display_data"
    }
   ],
   "source": [
    "texto <- \"Ciencia de datos\"\n",
    "class(texto)"
   ]
  },
  {
   "cell_type": "code",
   "execution_count": 2,
   "metadata": {
    "vscode": {
     "languageId": "r"
    }
   },
   "outputs": [
    {
     "data": {
      "text/html": [
       "1"
      ],
      "text/latex": [
       "1"
      ],
      "text/markdown": [
       "1"
      ],
      "text/plain": [
       "[1] 1"
      ]
     },
     "metadata": {},
     "output_type": "display_data"
    }
   ],
   "source": [
    "length(texto)"
   ]
  },
  {
   "cell_type": "code",
   "execution_count": 3,
   "metadata": {
    "vscode": {
     "languageId": "r"
    }
   },
   "outputs": [
    {
     "data": {
      "text/html": [
       "16"
      ],
      "text/latex": [
       "16"
      ],
      "text/markdown": [
       "16"
      ],
      "text/plain": [
       "[1] 16"
      ]
     },
     "metadata": {},
     "output_type": "display_data"
    }
   ],
   "source": [
    "nchar(\"Ciencia de Datos\")"
   ]
  },
  {
   "cell_type": "code",
   "execution_count": 4,
   "metadata": {
    "vscode": {
     "languageId": "r"
    }
   },
   "outputs": [
    {
     "data": {
      "text/html": [
       "2"
      ],
      "text/latex": [
       "2"
      ],
      "text/markdown": [
       "2"
      ],
      "text/plain": [
       "[1] 2"
      ]
     },
     "metadata": {},
     "output_type": "display_data"
    }
   ],
   "source": [
    "textos <- c(\"hola\", 'mundo')\n",
    "length(textos)"
   ]
  },
  {
   "cell_type": "code",
   "execution_count": 5,
   "metadata": {
    "vscode": {
     "languageId": "r"
    }
   },
   "outputs": [
    {
     "data": {
      "text/html": [
       "'character'"
      ],
      "text/latex": [
       "'character'"
      ],
      "text/markdown": [
       "'character'"
      ],
      "text/plain": [
       "[1] \"character\""
      ]
     },
     "metadata": {},
     "output_type": "display_data"
    }
   ],
   "source": [
    "class(textos)"
   ]
  },
  {
   "cell_type": "code",
   "execution_count": 6,
   "metadata": {
    "vscode": {
     "languageId": "r"
    }
   },
   "outputs": [
    {
     "name": "stdout",
     "output_type": "stream",
     "text": [
      "[1] \"hola\"  \"mundo\"\n"
     ]
    }
   ],
   "source": [
    "print(textos)"
   ]
  },
  {
   "cell_type": "code",
   "execution_count": 7,
   "metadata": {
    "vscode": {
     "languageId": "r"
    }
   },
   "outputs": [
    {
     "name": "stdout",
     "output_type": "stream",
     "text": [
      " [1] \"\" \"\" \"\" \"\" \"\" \"\" \"\" \"\" \"\" \"\"\n"
     ]
    }
   ],
   "source": [
    "# String construction\n",
    "\n",
    "empty_str <- character(10)\n",
    "print(empty_str)"
   ]
  },
  {
   "cell_type": "code",
   "execution_count": 8,
   "metadata": {
    "vscode": {
     "languageId": "r"
    }
   },
   "outputs": [
    {
     "data": {
      "text/html": [
       "'Ciencia de Datos'"
      ],
      "text/latex": [
       "'Ciencia de Datos'"
      ],
      "text/markdown": [
       "'Ciencia de Datos'"
      ],
      "text/plain": [
       "[1] \"Ciencia de Datos\""
      ]
     },
     "metadata": {},
     "output_type": "display_data"
    }
   ],
   "source": [
    "paste(\"Ciencia\", \"de\", \"Datos\")"
   ]
  },
  {
   "cell_type": "code",
   "execution_count": 9,
   "metadata": {
    "vscode": {
     "languageId": "r"
    }
   },
   "outputs": [
    {
     "data": {
      "text/html": [
       "'Ciencia_de_Datos'"
      ],
      "text/latex": [
       "'Ciencia\\_de\\_Datos'"
      ],
      "text/markdown": [
       "'Ciencia_de_Datos'"
      ],
      "text/plain": [
       "[1] \"Ciencia_de_Datos\""
      ]
     },
     "metadata": {},
     "output_type": "display_data"
    }
   ],
   "source": [
    "paste(\"Ciencia\", \"de\", \"Datos\", sep=\"_\") "
   ]
  },
  {
   "cell_type": "code",
   "execution_count": 12,
   "metadata": {
    "vscode": {
     "languageId": "r"
    }
   },
   "outputs": [
    {
     "data": {
      "text/html": [
       "<style>\n",
       ".list-inline {list-style: none; margin:0; padding: 0}\n",
       ".list-inline>li {display: inline-block}\n",
       ".list-inline>li:not(:last-child)::after {content: \"\\00b7\"; padding: 0 .5ex}\n",
       "</style>\n",
       "<ol class=list-inline><li>'Ciencia hola cierta'</li><li>'a mundo cierta'</li><li>'b hola cierta'</li></ol>\n"
      ],
      "text/latex": [
       "\\begin{enumerate*}\n",
       "\\item 'Ciencia hola cierta'\n",
       "\\item 'a mundo cierta'\n",
       "\\item 'b hola cierta'\n",
       "\\end{enumerate*}\n"
      ],
      "text/markdown": [
       "1. 'Ciencia hola cierta'\n",
       "2. 'a mundo cierta'\n",
       "3. 'b hola cierta'\n",
       "\n",
       "\n"
      ],
      "text/plain": [
       "[1] \"Ciencia hola cierta\" \"a mundo cierta\"      \"b hola cierta\"      "
      ]
     },
     "metadata": {},
     "output_type": "display_data"
    }
   ],
   "source": [
    "paste(c(\"Ciencia\", c(\"hola\", \"mundo\"), \"cierta\"))"
   ]
  },
  {
   "cell_type": "code",
   "execution_count": 11,
   "metadata": {
    "vscode": {
     "languageId": "r"
    }
   },
   "outputs": [
    {
     "data": {
      "text/html": [
       "<style>\n",
       ".list-inline {list-style: none; margin:0; padding: 0}\n",
       ".list-inline>li {display: inline-block}\n",
       ".list-inline>li:not(:last-child)::after {content: \"\\00b7\"; padding: 0 .5ex}\n",
       "</style>\n",
       "<ol class=list-inline><li>'1_1'</li><li>'2_2'</li><li>'3_3'</li><li>'1_4'</li><li>'2_5'</li></ol>\n"
      ],
      "text/latex": [
       "\\begin{enumerate*}\n",
       "\\item '1\\_1'\n",
       "\\item '2\\_2'\n",
       "\\item '3\\_3'\n",
       "\\item '1\\_4'\n",
       "\\item '2\\_5'\n",
       "\\end{enumerate*}\n"
      ],
      "text/markdown": [
       "1. '1_1'\n",
       "2. '2_2'\n",
       "3. '3_3'\n",
       "4. '1_4'\n",
       "5. '2_5'\n",
       "\n",
       "\n"
      ],
      "text/plain": [
       "[1] \"1_1\" \"2_2\" \"3_3\" \"1_4\" \"2_5\""
      ]
     },
     "metadata": {},
     "output_type": "display_data"
    }
   ],
   "source": [
    "paste(1:3, 1:5, sep=\"_\") "
   ]
  },
  {
   "cell_type": "code",
   "execution_count": null,
   "metadata": {
    "vscode": {
     "languageId": "r"
    }
   },
   "outputs": [],
   "source": [
    "paste(1:3, 1:5, sep=\"_\", collapse=\"|\") "
   ]
  },
  {
   "cell_type": "code",
   "execution_count": null,
   "metadata": {
    "vscode": {
     "languageId": "r"
    }
   },
   "outputs": [],
   "source": [
    "?paste"
   ]
  },
  {
   "cell_type": "markdown",
   "metadata": {},
   "source": [
    "## Ejemplo\n",
    "\n",
    "* Dado un conjunto de datos, eliminar la información de las columnas"
   ]
  },
  {
   "cell_type": "code",
   "execution_count": 13,
   "metadata": {
    "vscode": {
     "languageId": "r"
    }
   },
   "outputs": [
    {
     "data": {
      "text/html": [
       "<table class=\"dataframe\">\n",
       "<caption>A data.frame: 5 × 4</caption>\n",
       "<thead>\n",
       "\t<tr><th scope=col>name</th><th scope=col>lastname</th><th scope=col>gender</th><th scope=col>age</th></tr>\n",
       "\t<tr><th scope=col>&lt;chr&gt;</th><th scope=col>&lt;chr&gt;</th><th scope=col>&lt;chr&gt;</th><th scope=col>&lt;dbl&gt;</th></tr>\n",
       "</thead>\n",
       "<tbody>\n",
       "\t<tr><td>Susan</td><td>Wilson </td><td>F</td><td>23</td></tr>\n",
       "\t<tr><td>Greg </td><td>Gray   </td><td>M</td><td>46</td></tr>\n",
       "\t<tr><td>Amy  </td><td>Sanders</td><td>F</td><td>32</td></tr>\n",
       "\t<tr><td>Laura</td><td>Xeon   </td><td>F</td><td>90</td></tr>\n",
       "\t<tr><td>David</td><td>Rogers </td><td>M</td><td>53</td></tr>\n",
       "</tbody>\n",
       "</table>\n"
      ],
      "text/latex": [
       "A data.frame: 5 × 4\n",
       "\\begin{tabular}{llll}\n",
       " name & lastname & gender & age\\\\\n",
       " <chr> & <chr> & <chr> & <dbl>\\\\\n",
       "\\hline\n",
       "\t Susan & Wilson  & F & 23\\\\\n",
       "\t Greg  & Gray    & M & 46\\\\\n",
       "\t Amy   & Sanders & F & 32\\\\\n",
       "\t Laura & Xeon    & F & 90\\\\\n",
       "\t David & Rogers  & M & 53\\\\\n",
       "\\end{tabular}\n"
      ],
      "text/markdown": [
       "\n",
       "A data.frame: 5 × 4\n",
       "\n",
       "| name &lt;chr&gt; | lastname &lt;chr&gt; | gender &lt;chr&gt; | age &lt;dbl&gt; |\n",
       "|---|---|---|---|\n",
       "| Susan | Wilson  | F | 23 |\n",
       "| Greg  | Gray    | M | 46 |\n",
       "| Amy   | Sanders | F | 32 |\n",
       "| Laura | Xeon    | F | 90 |\n",
       "| David | Rogers  | M | 53 |\n",
       "\n"
      ],
      "text/plain": [
       "  name  lastname gender age\n",
       "1 Susan Wilson   F      23 \n",
       "2 Greg  Gray     M      46 \n",
       "3 Amy   Sanders  F      32 \n",
       "4 Laura Xeon     F      90 \n",
       "5 David Rogers   M      53 "
      ]
     },
     "metadata": {},
     "output_type": "display_data"
    }
   ],
   "source": [
    "data <- data.frame(name = c(\"Susan\", \"Greg\", \"Amy\", \"Laura\", \"David\"), \n",
    "                   lastname = c(\"Wilson\", \"Gray\", \"Sanders\", \"Xeon\", \"Rogers\"), \n",
    "                   gender = c(\"F\", \"M\", \"F\", \"F\", \"M\"), age = c(23, 46, 32, 90, 53))\n",
    "data"
   ]
  },
  {
   "cell_type": "code",
   "execution_count": 14,
   "metadata": {
    "vscode": {
     "languageId": "r"
    }
   },
   "outputs": [
    {
     "data": {
      "text/html": [
       "<style>\n",
       ".list-inline {list-style: none; margin:0; padding: 0}\n",
       ".list-inline>li {display: inline-block}\n",
       ".list-inline>li:not(:last-child)::after {content: \"\\00b7\"; padding: 0 .5ex}\n",
       "</style>\n",
       "<ol class=list-inline><li>'name'</li><li>'lastname'</li><li>'gender'</li><li>'age'</li></ol>\n"
      ],
      "text/latex": [
       "\\begin{enumerate*}\n",
       "\\item 'name'\n",
       "\\item 'lastname'\n",
       "\\item 'gender'\n",
       "\\item 'age'\n",
       "\\end{enumerate*}\n"
      ],
      "text/markdown": [
       "1. 'name'\n",
       "2. 'lastname'\n",
       "3. 'gender'\n",
       "4. 'age'\n",
       "\n",
       "\n"
      ],
      "text/plain": [
       "[1] \"name\"     \"lastname\" \"gender\"   \"age\"     "
      ]
     },
     "metadata": {},
     "output_type": "display_data"
    }
   ],
   "source": [
    "colnames(data)"
   ]
  },
  {
   "cell_type": "code",
   "execution_count": 15,
   "metadata": {
    "vscode": {
     "languageId": "r"
    }
   },
   "outputs": [
    {
     "data": {
      "text/html": [
       "<table class=\"dataframe\">\n",
       "<caption>A data.frame: 5 × 4</caption>\n",
       "<thead>\n",
       "\t<tr><th scope=col>var_1</th><th scope=col>var_2</th><th scope=col>var_3</th><th scope=col>var_4</th></tr>\n",
       "\t<tr><th scope=col>&lt;chr&gt;</th><th scope=col>&lt;chr&gt;</th><th scope=col>&lt;chr&gt;</th><th scope=col>&lt;dbl&gt;</th></tr>\n",
       "</thead>\n",
       "<tbody>\n",
       "\t<tr><td>Susan</td><td>Wilson </td><td>F</td><td>23</td></tr>\n",
       "\t<tr><td>Greg </td><td>Gray   </td><td>M</td><td>46</td></tr>\n",
       "\t<tr><td>Amy  </td><td>Sanders</td><td>F</td><td>32</td></tr>\n",
       "\t<tr><td>Laura</td><td>Xeon   </td><td>F</td><td>90</td></tr>\n",
       "\t<tr><td>David</td><td>Rogers </td><td>M</td><td>53</td></tr>\n",
       "</tbody>\n",
       "</table>\n"
      ],
      "text/latex": [
       "A data.frame: 5 × 4\n",
       "\\begin{tabular}{llll}\n",
       " var\\_1 & var\\_2 & var\\_3 & var\\_4\\\\\n",
       " <chr> & <chr> & <chr> & <dbl>\\\\\n",
       "\\hline\n",
       "\t Susan & Wilson  & F & 23\\\\\n",
       "\t Greg  & Gray    & M & 46\\\\\n",
       "\t Amy   & Sanders & F & 32\\\\\n",
       "\t Laura & Xeon    & F & 90\\\\\n",
       "\t David & Rogers  & M & 53\\\\\n",
       "\\end{tabular}\n"
      ],
      "text/markdown": [
       "\n",
       "A data.frame: 5 × 4\n",
       "\n",
       "| var_1 &lt;chr&gt; | var_2 &lt;chr&gt; | var_3 &lt;chr&gt; | var_4 &lt;dbl&gt; |\n",
       "|---|---|---|---|\n",
       "| Susan | Wilson  | F | 23 |\n",
       "| Greg  | Gray    | M | 46 |\n",
       "| Amy   | Sanders | F | 32 |\n",
       "| Laura | Xeon    | F | 90 |\n",
       "| David | Rogers  | M | 53 |\n",
       "\n"
      ],
      "text/plain": [
       "  var_1 var_2   var_3 var_4\n",
       "1 Susan Wilson  F     23   \n",
       "2 Greg  Gray    M     46   \n",
       "3 Amy   Sanders F     32   \n",
       "4 Laura Xeon    F     90   \n",
       "5 David Rogers  M     53   "
      ]
     },
     "metadata": {},
     "output_type": "display_data"
    }
   ],
   "source": [
    "colnames(data) <- paste(\"var\", 1:dim(data)[2], sep=\"_\")\n",
    "data"
   ]
  },
  {
   "cell_type": "markdown",
   "metadata": {},
   "source": [
    "## Funciones básicas para trabajar con cadenas de caracteres"
   ]
  },
  {
   "cell_type": "code",
   "execution_count": 16,
   "metadata": {
    "vscode": {
     "languageId": "r"
    }
   },
   "outputs": [
    {
     "data": {
      "text/html": [
       "'enc'"
      ],
      "text/latex": [
       "'enc'"
      ],
      "text/markdown": [
       "'enc'"
      ],
      "text/plain": [
       "[1] \"enc\""
      ]
     },
     "metadata": {},
     "output_type": "display_data"
    }
   ],
   "source": [
    "substr(\"Ciencia de Datos\", 3, 5)"
   ]
  },
  {
   "cell_type": "code",
   "execution_count": 17,
   "metadata": {
    "vscode": {
     "languageId": "r"
    }
   },
   "outputs": [
    {
     "ename": "ERROR",
     "evalue": "Error in substr(\"Ciencia de Datos\", 12): el argumento \"stop\" está ausente, sin valor por omisión\n",
     "output_type": "error",
     "traceback": [
      "Error in substr(\"Ciencia de Datos\", 12): el argumento \"stop\" está ausente, sin valor por omisión\nTraceback:\n",
      "1. substr(\"Ciencia de Datos\", 12)"
     ]
    }
   ],
   "source": [
    "substr(\"Ciencia de Datos\", 12) # Error!"
   ]
  },
  {
   "cell_type": "code",
   "execution_count": 18,
   "metadata": {
    "vscode": {
     "languageId": "r"
    }
   },
   "outputs": [
    {
     "data": {
      "text/html": [
       "<span style=white-space:pre-wrap>'Tue Oct  3 18:32:55 2023'</span>"
      ],
      "text/latex": [
       "'Tue Oct  3 18:32:55 2023'"
      ],
      "text/markdown": [
       "<span style=white-space:pre-wrap>'Tue Oct  3 18:32:55 2023'</span>"
      ],
      "text/plain": [
       "[1] \"Tue Oct  3 18:32:55 2023\""
      ]
     },
     "metadata": {},
     "output_type": "display_data"
    }
   ],
   "source": [
    "date()"
   ]
  },
  {
   "cell_type": "code",
   "execution_count": 19,
   "metadata": {
    "vscode": {
     "languageId": "r"
    }
   },
   "outputs": [
    {
     "data": {
      "text/html": [
       "<ol>\n",
       "\t<li><style>\n",
       ".list-inline {list-style: none; margin:0; padding: 0}\n",
       ".list-inline>li {display: inline-block}\n",
       ".list-inline>li:not(:last-child)::after {content: \"\\00b7\"; padding: 0 .5ex}\n",
       "</style>\n",
       "<ol class=list-inline><li>'Tue'</li><li>'Oct'</li><li>''</li><li>'3'</li><li>'18:32:58'</li><li>'2023'</li></ol>\n",
       "</li>\n",
       "</ol>\n"
      ],
      "text/latex": [
       "\\begin{enumerate}\n",
       "\\item \\begin{enumerate*}\n",
       "\\item 'Tue'\n",
       "\\item 'Oct'\n",
       "\\item ''\n",
       "\\item '3'\n",
       "\\item '18:32:58'\n",
       "\\item '2023'\n",
       "\\end{enumerate*}\n",
       "\n",
       "\\end{enumerate}\n"
      ],
      "text/markdown": [
       "1. 1. 'Tue'\n",
       "2. 'Oct'\n",
       "3. ''\n",
       "4. '3'\n",
       "5. '18:32:58'\n",
       "6. '2023'\n",
       "\n",
       "\n",
       "\n",
       "\n",
       "\n"
      ],
      "text/plain": [
       "[[1]]\n",
       "[1] \"Tue\"      \"Oct\"      \"\"         \"3\"        \"18:32:58\" \"2023\"    \n"
      ]
     },
     "metadata": {},
     "output_type": "display_data"
    }
   ],
   "source": [
    "strsplit(date(), split=\" \")"
   ]
  },
  {
   "cell_type": "code",
   "execution_count": 20,
   "metadata": {
    "vscode": {
     "languageId": "r"
    }
   },
   "outputs": [
    {
     "data": {
      "text/html": [
       "'list'"
      ],
      "text/latex": [
       "'list'"
      ],
      "text/markdown": [
       "'list'"
      ],
      "text/plain": [
       "[1] \"list\""
      ]
     },
     "metadata": {},
     "output_type": "display_data"
    }
   ],
   "source": [
    "class(strsplit(date(), split=\" \"))"
   ]
  },
  {
   "cell_type": "code",
   "execution_count": 21,
   "metadata": {
    "vscode": {
     "languageId": "r"
    }
   },
   "outputs": [
    {
     "data": {
      "text/html": [
       "<ol>\n",
       "\t<li><style>\n",
       ".list-inline {list-style: none; margin:0; padding: 0}\n",
       ".list-inline>li {display: inline-block}\n",
       ".list-inline>li:not(:last-child)::after {content: \"\\00b7\"; padding: 0 .5ex}\n",
       "</style>\n",
       "<ol class=list-inline><li>'Tue'</li><li>'Oct'</li><li>''</li><li>'3'</li><li>'18:33:03'</li><li>'2023'</li></ol>\n",
       "</li>\n",
       "\t<li><style>\n",
       ".list-inline {list-style: none; margin:0; padding: 0}\n",
       ".list-inline>li {display: inline-block}\n",
       ".list-inline>li:not(:last-child)::after {content: \"\\00b7\"; padding: 0 .5ex}\n",
       "</style>\n",
       "<ol class=list-inline><li>'hola'</li><li>'mundo'</li></ol>\n",
       "</li>\n",
       "</ol>\n"
      ],
      "text/latex": [
       "\\begin{enumerate}\n",
       "\\item \\begin{enumerate*}\n",
       "\\item 'Tue'\n",
       "\\item 'Oct'\n",
       "\\item ''\n",
       "\\item '3'\n",
       "\\item '18:33:03'\n",
       "\\item '2023'\n",
       "\\end{enumerate*}\n",
       "\n",
       "\\item \\begin{enumerate*}\n",
       "\\item 'hola'\n",
       "\\item 'mundo'\n",
       "\\end{enumerate*}\n",
       "\n",
       "\\end{enumerate}\n"
      ],
      "text/markdown": [
       "1. 1. 'Tue'\n",
       "2. 'Oct'\n",
       "3. ''\n",
       "4. '3'\n",
       "5. '18:33:03'\n",
       "6. '2023'\n",
       "\n",
       "\n",
       "\n",
       "2. 1. 'hola'\n",
       "2. 'mundo'\n",
       "\n",
       "\n",
       "\n",
       "\n",
       "\n"
      ],
      "text/plain": [
       "[[1]]\n",
       "[1] \"Tue\"      \"Oct\"      \"\"         \"3\"        \"18:33:03\" \"2023\"    \n",
       "\n",
       "[[2]]\n",
       "[1] \"hola\"  \"mundo\"\n"
      ]
     },
     "metadata": {},
     "output_type": "display_data"
    }
   ],
   "source": [
    "strsplit(c(date(), \"hola mundo\"), split=\" \")"
   ]
  },
  {
   "cell_type": "code",
   "execution_count": 22,
   "metadata": {
    "vscode": {
     "languageId": "r"
    }
   },
   "outputs": [
    {
     "data": {
      "text/html": [
       "<ol>\n",
       "\t<li><style>\n",
       ".list-inline {list-style: none; margin:0; padding: 0}\n",
       ".list-inline>li {display: inline-block}\n",
       ".list-inline>li:not(:last-child)::after {content: \"\\00b7\"; padding: 0 .5ex}\n",
       "</style>\n",
       "<ol class=list-inline><li>'Est'</li><li>'es un'</li><li>'frase'</li></ol>\n",
       "</li>\n",
       "\t<li><style>\n",
       ".list-inline {list-style: none; margin:0; padding: 0}\n",
       ".list-inline>li {display: inline-block}\n",
       ".list-inline>li:not(:last-child)::after {content: \"\\00b7\"; padding: 0 .5ex}\n",
       "</style>\n",
       "<ol class=list-inline><li>'Est'</li><li>'es otr'</li><li>'lind'</li><li>'frase'</li></ol>\n",
       "</li>\n",
       "</ol>\n"
      ],
      "text/latex": [
       "\\begin{enumerate}\n",
       "\\item \\begin{enumerate*}\n",
       "\\item 'Est'\n",
       "\\item 'es un'\n",
       "\\item 'frase'\n",
       "\\end{enumerate*}\n",
       "\n",
       "\\item \\begin{enumerate*}\n",
       "\\item 'Est'\n",
       "\\item 'es otr'\n",
       "\\item 'lind'\n",
       "\\item 'frase'\n",
       "\\end{enumerate*}\n",
       "\n",
       "\\end{enumerate}\n"
      ],
      "text/markdown": [
       "1. 1. 'Est'\n",
       "2. 'es un'\n",
       "3. 'frase'\n",
       "\n",
       "\n",
       "\n",
       "2. 1. 'Est'\n",
       "2. 'es otr'\n",
       "3. 'lind'\n",
       "4. 'frase'\n",
       "\n",
       "\n",
       "\n",
       "\n",
       "\n"
      ],
      "text/plain": [
       "[[1]]\n",
       "[1] \"Est\"   \"es un\" \"frase\"\n",
       "\n",
       "[[2]]\n",
       "[1] \"Est\"    \"es otr\" \"lind\"   \"frase\" \n"
      ]
     },
     "metadata": {},
     "output_type": "display_data"
    }
   ],
   "source": [
    "strsplit(c(\"Esta es una frase\", \"Esta es otra linda frase\"), split=\"a \")"
   ]
  },
  {
   "cell_type": "code",
   "execution_count": 23,
   "metadata": {
    "vscode": {
     "languageId": "r"
    }
   },
   "outputs": [
    {
     "data": {
      "text/html": [
       "<ol>\n",
       "\t<li><style>\n",
       ".list-inline {list-style: none; margin:0; padding: 0}\n",
       ".list-inline>li {display: inline-block}\n",
       ".list-inline>li:not(:last-child)::after {content: \"\\00b7\"; padding: 0 .5ex}\n",
       "</style>\n",
       "<ol class=list-inline><li>'Esta'</li><li>'es'</li><li>'una'</li><li>'frase'</li></ol>\n",
       "</li>\n",
       "\t<li><style>\n",
       ".list-inline {list-style: none; margin:0; padding: 0}\n",
       ".list-inline>li {display: inline-block}\n",
       ".list-inline>li:not(:last-child)::after {content: \"\\00b7\"; padding: 0 .5ex}\n",
       "</style>\n",
       "<ol class=list-inline><li>'Esta '</li><li>'s otra fras'</li></ol>\n",
       "</li>\n",
       "</ol>\n"
      ],
      "text/latex": [
       "\\begin{enumerate}\n",
       "\\item \\begin{enumerate*}\n",
       "\\item 'Esta'\n",
       "\\item 'es'\n",
       "\\item 'una'\n",
       "\\item 'frase'\n",
       "\\end{enumerate*}\n",
       "\n",
       "\\item \\begin{enumerate*}\n",
       "\\item 'Esta '\n",
       "\\item 's otra fras'\n",
       "\\end{enumerate*}\n",
       "\n",
       "\\end{enumerate}\n"
      ],
      "text/markdown": [
       "1. 1. 'Esta'\n",
       "2. 'es'\n",
       "3. 'una'\n",
       "4. 'frase'\n",
       "\n",
       "\n",
       "\n",
       "2. 1. 'Esta '\n",
       "2. 's otra fras'\n",
       "\n",
       "\n",
       "\n",
       "\n",
       "\n"
      ],
      "text/plain": [
       "[[1]]\n",
       "[1] \"Esta\"  \"es\"    \"una\"   \"frase\"\n",
       "\n",
       "[[2]]\n",
       "[1] \"Esta \"       \"s otra fras\"\n"
      ]
     },
     "metadata": {},
     "output_type": "display_data"
    }
   ],
   "source": [
    "strsplit(c(\"Esta es una frase\", \"Esta es otra frase\"), split=c(\" \", \"e\"))"
   ]
  },
  {
   "cell_type": "markdown",
   "metadata": {},
   "source": [
    "## Ejemplo"
   ]
  },
  {
   "cell_type": "code",
   "execution_count": 24,
   "metadata": {
    "vscode": {
     "languageId": "r"
    }
   },
   "outputs": [
    {
     "data": {
      "text/html": [
       "<style>\n",
       ".list-inline {list-style: none; margin:0; padding: 0}\n",
       ".list-inline>li {display: inline-block}\n",
       ".list-inline>li:not(:last-child)::after {content: \"\\00b7\"; padding: 0 .5ex}\n",
       "</style>\n",
       "<ol class=list-inline><li>'Data_types.ipynb'</li><li>'Ejercicios'</li><li>'Graphs with ggplot.ipynb'</li><li>'Input-Output.ipynb'</li><li>'matrix.txt'</li><li>'Strings.ipynb'</li><li>'Tidyverse.ipynb'</li></ol>\n"
      ],
      "text/latex": [
       "\\begin{enumerate*}\n",
       "\\item 'Data\\_types.ipynb'\n",
       "\\item 'Ejercicios'\n",
       "\\item 'Graphs with ggplot.ipynb'\n",
       "\\item 'Input-Output.ipynb'\n",
       "\\item 'matrix.txt'\n",
       "\\item 'Strings.ipynb'\n",
       "\\item 'Tidyverse.ipynb'\n",
       "\\end{enumerate*}\n"
      ],
      "text/markdown": [
       "1. 'Data_types.ipynb'\n",
       "2. 'Ejercicios'\n",
       "3. 'Graphs with ggplot.ipynb'\n",
       "4. 'Input-Output.ipynb'\n",
       "5. 'matrix.txt'\n",
       "6. 'Strings.ipynb'\n",
       "7. 'Tidyverse.ipynb'\n",
       "\n",
       "\n"
      ],
      "text/plain": [
       "[1] \"Data_types.ipynb\"         \"Ejercicios\"              \n",
       "[3] \"Graphs with ggplot.ipynb\" \"Input-Output.ipynb\"      \n",
       "[5] \"matrix.txt\"               \"Strings.ipynb\"           \n",
       "[7] \"Tidyverse.ipynb\"         "
      ]
     },
     "metadata": {},
     "output_type": "display_data"
    }
   ],
   "source": [
    "files <- list.files()\n",
    "files"
   ]
  },
  {
   "cell_type": "code",
   "execution_count": 25,
   "metadata": {
    "vscode": {
     "languageId": "r"
    }
   },
   "outputs": [
    {
     "data": {
      "text/html": [
       "<ol>\n",
       "\t<li><style>\n",
       ".list-inline {list-style: none; margin:0; padding: 0}\n",
       ".list-inline>li {display: inline-block}\n",
       ".list-inline>li:not(:last-child)::after {content: \"\\00b7\"; padding: 0 .5ex}\n",
       "</style>\n",
       "<ol class=list-inline><li>''</li><li>''</li><li>''</li><li>''</li><li>''</li><li>''</li><li>''</li><li>''</li><li>''</li><li>''</li><li>''</li><li>''</li><li>''</li><li>''</li><li>''</li><li>''</li></ol>\n",
       "</li>\n",
       "\t<li><style>\n",
       ".list-inline {list-style: none; margin:0; padding: 0}\n",
       ".list-inline>li {display: inline-block}\n",
       ".list-inline>li:not(:last-child)::after {content: \"\\00b7\"; padding: 0 .5ex}\n",
       "</style>\n",
       "<ol class=list-inline><li>''</li><li>''</li><li>''</li><li>''</li><li>''</li><li>''</li><li>''</li><li>''</li><li>''</li><li>''</li></ol>\n",
       "</li>\n",
       "\t<li><style>\n",
       ".list-inline {list-style: none; margin:0; padding: 0}\n",
       ".list-inline>li {display: inline-block}\n",
       ".list-inline>li:not(:last-child)::after {content: \"\\00b7\"; padding: 0 .5ex}\n",
       "</style>\n",
       "<ol class=list-inline><li>''</li><li>''</li><li>''</li><li>''</li><li>''</li><li>''</li><li>''</li><li>''</li><li>''</li><li>''</li><li>''</li><li>''</li><li>''</li><li>''</li><li>''</li><li>''</li><li>''</li><li>''</li><li>''</li><li>''</li><li>''</li><li>''</li><li>''</li><li>''</li></ol>\n",
       "</li>\n",
       "\t<li><style>\n",
       ".list-inline {list-style: none; margin:0; padding: 0}\n",
       ".list-inline>li {display: inline-block}\n",
       ".list-inline>li:not(:last-child)::after {content: \"\\00b7\"; padding: 0 .5ex}\n",
       "</style>\n",
       "<ol class=list-inline><li>''</li><li>''</li><li>''</li><li>''</li><li>''</li><li>''</li><li>''</li><li>''</li><li>''</li><li>''</li><li>''</li><li>''</li><li>''</li><li>''</li><li>''</li><li>''</li><li>''</li><li>''</li></ol>\n",
       "</li>\n",
       "\t<li><style>\n",
       ".list-inline {list-style: none; margin:0; padding: 0}\n",
       ".list-inline>li {display: inline-block}\n",
       ".list-inline>li:not(:last-child)::after {content: \"\\00b7\"; padding: 0 .5ex}\n",
       "</style>\n",
       "<ol class=list-inline><li>''</li><li>''</li><li>''</li><li>''</li><li>''</li><li>''</li><li>''</li><li>''</li><li>''</li><li>''</li></ol>\n",
       "</li>\n",
       "\t<li><style>\n",
       ".list-inline {list-style: none; margin:0; padding: 0}\n",
       ".list-inline>li {display: inline-block}\n",
       ".list-inline>li:not(:last-child)::after {content: \"\\00b7\"; padding: 0 .5ex}\n",
       "</style>\n",
       "<ol class=list-inline><li>''</li><li>''</li><li>''</li><li>''</li><li>''</li><li>''</li><li>''</li><li>''</li><li>''</li><li>''</li><li>''</li><li>''</li><li>''</li></ol>\n",
       "</li>\n",
       "\t<li><style>\n",
       ".list-inline {list-style: none; margin:0; padding: 0}\n",
       ".list-inline>li {display: inline-block}\n",
       ".list-inline>li:not(:last-child)::after {content: \"\\00b7\"; padding: 0 .5ex}\n",
       "</style>\n",
       "<ol class=list-inline><li>''</li><li>''</li><li>''</li><li>''</li><li>''</li><li>''</li><li>''</li><li>''</li><li>''</li><li>''</li><li>''</li><li>''</li><li>''</li><li>''</li><li>''</li></ol>\n",
       "</li>\n",
       "</ol>\n"
      ],
      "text/latex": [
       "\\begin{enumerate}\n",
       "\\item \\begin{enumerate*}\n",
       "\\item ''\n",
       "\\item ''\n",
       "\\item ''\n",
       "\\item ''\n",
       "\\item ''\n",
       "\\item ''\n",
       "\\item ''\n",
       "\\item ''\n",
       "\\item ''\n",
       "\\item ''\n",
       "\\item ''\n",
       "\\item ''\n",
       "\\item ''\n",
       "\\item ''\n",
       "\\item ''\n",
       "\\item ''\n",
       "\\end{enumerate*}\n",
       "\n",
       "\\item \\begin{enumerate*}\n",
       "\\item ''\n",
       "\\item ''\n",
       "\\item ''\n",
       "\\item ''\n",
       "\\item ''\n",
       "\\item ''\n",
       "\\item ''\n",
       "\\item ''\n",
       "\\item ''\n",
       "\\item ''\n",
       "\\end{enumerate*}\n",
       "\n",
       "\\item \\begin{enumerate*}\n",
       "\\item ''\n",
       "\\item ''\n",
       "\\item ''\n",
       "\\item ''\n",
       "\\item ''\n",
       "\\item ''\n",
       "\\item ''\n",
       "\\item ''\n",
       "\\item ''\n",
       "\\item ''\n",
       "\\item ''\n",
       "\\item ''\n",
       "\\item ''\n",
       "\\item ''\n",
       "\\item ''\n",
       "\\item ''\n",
       "\\item ''\n",
       "\\item ''\n",
       "\\item ''\n",
       "\\item ''\n",
       "\\item ''\n",
       "\\item ''\n",
       "\\item ''\n",
       "\\item ''\n",
       "\\end{enumerate*}\n",
       "\n",
       "\\item \\begin{enumerate*}\n",
       "\\item ''\n",
       "\\item ''\n",
       "\\item ''\n",
       "\\item ''\n",
       "\\item ''\n",
       "\\item ''\n",
       "\\item ''\n",
       "\\item ''\n",
       "\\item ''\n",
       "\\item ''\n",
       "\\item ''\n",
       "\\item ''\n",
       "\\item ''\n",
       "\\item ''\n",
       "\\item ''\n",
       "\\item ''\n",
       "\\item ''\n",
       "\\item ''\n",
       "\\end{enumerate*}\n",
       "\n",
       "\\item \\begin{enumerate*}\n",
       "\\item ''\n",
       "\\item ''\n",
       "\\item ''\n",
       "\\item ''\n",
       "\\item ''\n",
       "\\item ''\n",
       "\\item ''\n",
       "\\item ''\n",
       "\\item ''\n",
       "\\item ''\n",
       "\\end{enumerate*}\n",
       "\n",
       "\\item \\begin{enumerate*}\n",
       "\\item ''\n",
       "\\item ''\n",
       "\\item ''\n",
       "\\item ''\n",
       "\\item ''\n",
       "\\item ''\n",
       "\\item ''\n",
       "\\item ''\n",
       "\\item ''\n",
       "\\item ''\n",
       "\\item ''\n",
       "\\item ''\n",
       "\\item ''\n",
       "\\end{enumerate*}\n",
       "\n",
       "\\item \\begin{enumerate*}\n",
       "\\item ''\n",
       "\\item ''\n",
       "\\item ''\n",
       "\\item ''\n",
       "\\item ''\n",
       "\\item ''\n",
       "\\item ''\n",
       "\\item ''\n",
       "\\item ''\n",
       "\\item ''\n",
       "\\item ''\n",
       "\\item ''\n",
       "\\item ''\n",
       "\\item ''\n",
       "\\item ''\n",
       "\\end{enumerate*}\n",
       "\n",
       "\\end{enumerate}\n"
      ],
      "text/markdown": [
       "1. 1. ''\n",
       "2. ''\n",
       "3. ''\n",
       "4. ''\n",
       "5. ''\n",
       "6. ''\n",
       "7. ''\n",
       "8. ''\n",
       "9. ''\n",
       "10. ''\n",
       "11. ''\n",
       "12. ''\n",
       "13. ''\n",
       "14. ''\n",
       "15. ''\n",
       "16. ''\n",
       "\n",
       "\n",
       "\n",
       "2. 1. ''\n",
       "2. ''\n",
       "3. ''\n",
       "4. ''\n",
       "5. ''\n",
       "6. ''\n",
       "7. ''\n",
       "8. ''\n",
       "9. ''\n",
       "10. ''\n",
       "\n",
       "\n",
       "\n",
       "3. 1. ''\n",
       "2. ''\n",
       "3. ''\n",
       "4. ''\n",
       "5. ''\n",
       "6. ''\n",
       "7. ''\n",
       "8. ''\n",
       "9. ''\n",
       "10. ''\n",
       "11. ''\n",
       "12. ''\n",
       "13. ''\n",
       "14. ''\n",
       "15. ''\n",
       "16. ''\n",
       "17. ''\n",
       "18. ''\n",
       "19. ''\n",
       "20. ''\n",
       "21. ''\n",
       "22. ''\n",
       "23. ''\n",
       "24. ''\n",
       "\n",
       "\n",
       "\n",
       "4. 1. ''\n",
       "2. ''\n",
       "3. ''\n",
       "4. ''\n",
       "5. ''\n",
       "6. ''\n",
       "7. ''\n",
       "8. ''\n",
       "9. ''\n",
       "10. ''\n",
       "11. ''\n",
       "12. ''\n",
       "13. ''\n",
       "14. ''\n",
       "15. ''\n",
       "16. ''\n",
       "17. ''\n",
       "18. ''\n",
       "\n",
       "\n",
       "\n",
       "5. 1. ''\n",
       "2. ''\n",
       "3. ''\n",
       "4. ''\n",
       "5. ''\n",
       "6. ''\n",
       "7. ''\n",
       "8. ''\n",
       "9. ''\n",
       "10. ''\n",
       "\n",
       "\n",
       "\n",
       "6. 1. ''\n",
       "2. ''\n",
       "3. ''\n",
       "4. ''\n",
       "5. ''\n",
       "6. ''\n",
       "7. ''\n",
       "8. ''\n",
       "9. ''\n",
       "10. ''\n",
       "11. ''\n",
       "12. ''\n",
       "13. ''\n",
       "\n",
       "\n",
       "\n",
       "7. 1. ''\n",
       "2. ''\n",
       "3. ''\n",
       "4. ''\n",
       "5. ''\n",
       "6. ''\n",
       "7. ''\n",
       "8. ''\n",
       "9. ''\n",
       "10. ''\n",
       "11. ''\n",
       "12. ''\n",
       "13. ''\n",
       "14. ''\n",
       "15. ''\n",
       "\n",
       "\n",
       "\n",
       "\n",
       "\n"
      ],
      "text/plain": [
       "[[1]]\n",
       " [1] \"\" \"\" \"\" \"\" \"\" \"\" \"\" \"\" \"\" \"\" \"\" \"\" \"\" \"\" \"\" \"\"\n",
       "\n",
       "[[2]]\n",
       " [1] \"\" \"\" \"\" \"\" \"\" \"\" \"\" \"\" \"\" \"\"\n",
       "\n",
       "[[3]]\n",
       " [1] \"\" \"\" \"\" \"\" \"\" \"\" \"\" \"\" \"\" \"\" \"\" \"\" \"\" \"\" \"\" \"\" \"\" \"\" \"\" \"\" \"\" \"\" \"\" \"\"\n",
       "\n",
       "[[4]]\n",
       " [1] \"\" \"\" \"\" \"\" \"\" \"\" \"\" \"\" \"\" \"\" \"\" \"\" \"\" \"\" \"\" \"\" \"\" \"\"\n",
       "\n",
       "[[5]]\n",
       " [1] \"\" \"\" \"\" \"\" \"\" \"\" \"\" \"\" \"\" \"\"\n",
       "\n",
       "[[6]]\n",
       " [1] \"\" \"\" \"\" \"\" \"\" \"\" \"\" \"\" \"\" \"\" \"\" \"\" \"\"\n",
       "\n",
       "[[7]]\n",
       " [1] \"\" \"\" \"\" \"\" \"\" \"\" \"\" \"\" \"\" \"\" \"\" \"\" \"\" \"\" \"\"\n"
      ]
     },
     "metadata": {},
     "output_type": "display_data"
    }
   ],
   "source": [
    "strsplit(files, split=\".\")"
   ]
  },
  {
   "cell_type": "code",
   "execution_count": 26,
   "metadata": {
    "vscode": {
     "languageId": "r"
    }
   },
   "outputs": [
    {
     "data": {
      "text/html": [
       "<ol>\n",
       "\t<li><style>\n",
       ".list-inline {list-style: none; margin:0; padding: 0}\n",
       ".list-inline>li {display: inline-block}\n",
       ".list-inline>li:not(:last-child)::after {content: \"\\00b7\"; padding: 0 .5ex}\n",
       "</style>\n",
       "<ol class=list-inline><li>'Data_types'</li><li>'ipynb'</li></ol>\n",
       "</li>\n",
       "\t<li>'Ejercicios'</li>\n",
       "\t<li><style>\n",
       ".list-inline {list-style: none; margin:0; padding: 0}\n",
       ".list-inline>li {display: inline-block}\n",
       ".list-inline>li:not(:last-child)::after {content: \"\\00b7\"; padding: 0 .5ex}\n",
       "</style>\n",
       "<ol class=list-inline><li>'Graphs with ggplot'</li><li>'ipynb'</li></ol>\n",
       "</li>\n",
       "\t<li><style>\n",
       ".list-inline {list-style: none; margin:0; padding: 0}\n",
       ".list-inline>li {display: inline-block}\n",
       ".list-inline>li:not(:last-child)::after {content: \"\\00b7\"; padding: 0 .5ex}\n",
       "</style>\n",
       "<ol class=list-inline><li>'Input-Output'</li><li>'ipynb'</li></ol>\n",
       "</li>\n",
       "\t<li><style>\n",
       ".list-inline {list-style: none; margin:0; padding: 0}\n",
       ".list-inline>li {display: inline-block}\n",
       ".list-inline>li:not(:last-child)::after {content: \"\\00b7\"; padding: 0 .5ex}\n",
       "</style>\n",
       "<ol class=list-inline><li>'matrix'</li><li>'txt'</li></ol>\n",
       "</li>\n",
       "\t<li><style>\n",
       ".list-inline {list-style: none; margin:0; padding: 0}\n",
       ".list-inline>li {display: inline-block}\n",
       ".list-inline>li:not(:last-child)::after {content: \"\\00b7\"; padding: 0 .5ex}\n",
       "</style>\n",
       "<ol class=list-inline><li>'Strings'</li><li>'ipynb'</li></ol>\n",
       "</li>\n",
       "\t<li><style>\n",
       ".list-inline {list-style: none; margin:0; padding: 0}\n",
       ".list-inline>li {display: inline-block}\n",
       ".list-inline>li:not(:last-child)::after {content: \"\\00b7\"; padding: 0 .5ex}\n",
       "</style>\n",
       "<ol class=list-inline><li>'Tidyverse'</li><li>'ipynb'</li></ol>\n",
       "</li>\n",
       "</ol>\n"
      ],
      "text/latex": [
       "\\begin{enumerate}\n",
       "\\item \\begin{enumerate*}\n",
       "\\item 'Data\\_types'\n",
       "\\item 'ipynb'\n",
       "\\end{enumerate*}\n",
       "\n",
       "\\item 'Ejercicios'\n",
       "\\item \\begin{enumerate*}\n",
       "\\item 'Graphs with ggplot'\n",
       "\\item 'ipynb'\n",
       "\\end{enumerate*}\n",
       "\n",
       "\\item \\begin{enumerate*}\n",
       "\\item 'Input-Output'\n",
       "\\item 'ipynb'\n",
       "\\end{enumerate*}\n",
       "\n",
       "\\item \\begin{enumerate*}\n",
       "\\item 'matrix'\n",
       "\\item 'txt'\n",
       "\\end{enumerate*}\n",
       "\n",
       "\\item \\begin{enumerate*}\n",
       "\\item 'Strings'\n",
       "\\item 'ipynb'\n",
       "\\end{enumerate*}\n",
       "\n",
       "\\item \\begin{enumerate*}\n",
       "\\item 'Tidyverse'\n",
       "\\item 'ipynb'\n",
       "\\end{enumerate*}\n",
       "\n",
       "\\end{enumerate}\n"
      ],
      "text/markdown": [
       "1. 1. 'Data_types'\n",
       "2. 'ipynb'\n",
       "\n",
       "\n",
       "\n",
       "2. 'Ejercicios'\n",
       "3. 1. 'Graphs with ggplot'\n",
       "2. 'ipynb'\n",
       "\n",
       "\n",
       "\n",
       "4. 1. 'Input-Output'\n",
       "2. 'ipynb'\n",
       "\n",
       "\n",
       "\n",
       "5. 1. 'matrix'\n",
       "2. 'txt'\n",
       "\n",
       "\n",
       "\n",
       "6. 1. 'Strings'\n",
       "2. 'ipynb'\n",
       "\n",
       "\n",
       "\n",
       "7. 1. 'Tidyverse'\n",
       "2. 'ipynb'\n",
       "\n",
       "\n",
       "\n",
       "\n",
       "\n"
      ],
      "text/plain": [
       "[[1]]\n",
       "[1] \"Data_types\" \"ipynb\"     \n",
       "\n",
       "[[2]]\n",
       "[1] \"Ejercicios\"\n",
       "\n",
       "[[3]]\n",
       "[1] \"Graphs with ggplot\" \"ipynb\"             \n",
       "\n",
       "[[4]]\n",
       "[1] \"Input-Output\" \"ipynb\"       \n",
       "\n",
       "[[5]]\n",
       "[1] \"matrix\" \"txt\"   \n",
       "\n",
       "[[6]]\n",
       "[1] \"Strings\" \"ipynb\"  \n",
       "\n",
       "[[7]]\n",
       "[1] \"Tidyverse\" \"ipynb\"    \n"
      ]
     },
     "metadata": {},
     "output_type": "display_data"
    }
   ],
   "source": [
    "strsplit(files, split=\"\\\\.\")"
   ]
  },
  {
   "cell_type": "code",
   "execution_count": 27,
   "metadata": {
    "vscode": {
     "languageId": "r"
    }
   },
   "outputs": [
    {
     "name": "stderr",
     "output_type": "stream",
     "text": [
      "Warning message in matrix(unlist(strsplit(files, split = \"\\\\.\")), ncol = 2, byrow = TRUE):\n",
      "“la longitud de los datos [13] no es un submúltiplo o múltiplo del número de filas [7] en la matriz”\n"
     ]
    },
    {
     "data": {
      "text/html": [
       "<table class=\"dataframe\">\n",
       "<caption>A matrix: 7 × 2 of type chr</caption>\n",
       "<tbody>\n",
       "\t<tr><td>Data_types</td><td>ipynb             </td></tr>\n",
       "\t<tr><td>Ejercicios</td><td>Graphs with ggplot</td></tr>\n",
       "\t<tr><td>ipynb     </td><td>Input-Output      </td></tr>\n",
       "\t<tr><td>ipynb     </td><td>matrix            </td></tr>\n",
       "\t<tr><td>txt       </td><td>Strings           </td></tr>\n",
       "\t<tr><td>ipynb     </td><td>Tidyverse         </td></tr>\n",
       "\t<tr><td>ipynb     </td><td>Data_types        </td></tr>\n",
       "</tbody>\n",
       "</table>\n"
      ],
      "text/latex": [
       "A matrix: 7 × 2 of type chr\n",
       "\\begin{tabular}{ll}\n",
       "\t Data\\_types & ipynb             \\\\\n",
       "\t Ejercicios & Graphs with ggplot\\\\\n",
       "\t ipynb      & Input-Output      \\\\\n",
       "\t ipynb      & matrix            \\\\\n",
       "\t txt        & Strings           \\\\\n",
       "\t ipynb      & Tidyverse         \\\\\n",
       "\t ipynb      & Data\\_types        \\\\\n",
       "\\end{tabular}\n"
      ],
      "text/markdown": [
       "\n",
       "A matrix: 7 × 2 of type chr\n",
       "\n",
       "| Data_types | ipynb              |\n",
       "| Ejercicios | Graphs with ggplot |\n",
       "| ipynb      | Input-Output       |\n",
       "| ipynb      | matrix             |\n",
       "| txt        | Strings            |\n",
       "| ipynb      | Tidyverse          |\n",
       "| ipynb      | Data_types         |\n",
       "\n"
      ],
      "text/plain": [
       "     [,1]       [,2]              \n",
       "[1,] Data_types ipynb             \n",
       "[2,] Ejercicios Graphs with ggplot\n",
       "[3,] ipynb      Input-Output      \n",
       "[4,] ipynb      matrix            \n",
       "[5,] txt        Strings           \n",
       "[6,] ipynb      Tidyverse         \n",
       "[7,] ipynb      Data_types        "
      ]
     },
     "metadata": {},
     "output_type": "display_data"
    }
   ],
   "source": [
    "matrix(unlist(strsplit(files, split=\"\\\\.\")), ncol=2, byrow=TRUE)"
   ]
  },
  {
   "cell_type": "markdown",
   "metadata": {},
   "source": [
    "## Expresiones regulares\n",
    "\n",
    "* Una expresión regular es una especie de comodín. \n",
    "* Es una forma abreviada de especificar distintas clases de cadenas de caracteres.\n",
    "* En R, debes prestar atención a este punto cuando uses las funciones `grep`, `grepl`, `regexpr`, `gregexpr`, `sub`, `gsub` y `strsplit`. "
   ]
  },
  {
   "cell_type": "code",
   "execution_count": 28,
   "metadata": {
    "vscode": {
     "languageId": "r"
    }
   },
   "outputs": [
    {
     "data": {
      "text/html": [
       "<span style=white-space:pre-wrap>'Tue Oct  3 18:45:35 2023'</span>"
      ],
      "text/latex": [
       "'Tue Oct  3 18:45:35 2023'"
      ],
      "text/markdown": [
       "<span style=white-space:pre-wrap>'Tue Oct  3 18:45:35 2023'</span>"
      ],
      "text/plain": [
       "[1] \"Tue Oct  3 18:45:35 2023\""
      ]
     },
     "metadata": {},
     "output_type": "display_data"
    }
   ],
   "source": [
    "date()"
   ]
  },
  {
   "cell_type": "code",
   "execution_count": 29,
   "metadata": {
    "vscode": {
     "languageId": "r"
    }
   },
   "outputs": [
    {
     "data": {
      "text/html": [
       "<ol>\n",
       "\t<li><style>\n",
       ".list-inline {list-style: none; margin:0; padding: 0}\n",
       ".list-inline>li {display: inline-block}\n",
       ".list-inline>li:not(:last-child)::after {content: \"\\00b7\"; padding: 0 .5ex}\n",
       "</style>\n",
       "<ol class=list-inline><li><span style=white-space:pre-wrap>'Tue Oct  '</span></li><li>' '</li><li>':'</li><li>':'</li><li>' '</li></ol>\n",
       "</li>\n",
       "</ol>\n"
      ],
      "text/latex": [
       "\\begin{enumerate}\n",
       "\\item \\begin{enumerate*}\n",
       "\\item 'Tue Oct  '\n",
       "\\item ' '\n",
       "\\item ':'\n",
       "\\item ':'\n",
       "\\item ' '\n",
       "\\end{enumerate*}\n",
       "\n",
       "\\end{enumerate}\n"
      ],
      "text/markdown": [
       "1. 1. <span style=white-space:pre-wrap>'Tue Oct  '</span>\n",
       "2. ' '\n",
       "3. ':'\n",
       "4. ':'\n",
       "5. ' '\n",
       "\n",
       "\n",
       "\n",
       "\n",
       "\n"
      ],
      "text/plain": [
       "[[1]]\n",
       "[1] \"Tue Oct  \" \" \"         \":\"         \":\"         \" \"        \n"
      ]
     },
     "metadata": {},
     "output_type": "display_data"
    }
   ],
   "source": [
    "strsplit(date(), split=\"[0-9]+\")"
   ]
  },
  {
   "cell_type": "code",
   "execution_count": 30,
   "metadata": {
    "vscode": {
     "languageId": "r"
    }
   },
   "outputs": [
    {
     "data": {
      "text/html": [
       "<style>\n",
       ".list-inline {list-style: none; margin:0; padding: 0}\n",
       ".list-inline>li {display: inline-block}\n",
       ".list-inline>li:not(:last-child)::after {content: \"\\00b7\"; padding: 0 .5ex}\n",
       "</style>\n",
       "<ol class=list-inline><li>1</li><li>3</li></ol>\n"
      ],
      "text/latex": [
       "\\begin{enumerate*}\n",
       "\\item 1\n",
       "\\item 3\n",
       "\\end{enumerate*}\n"
      ],
      "text/markdown": [
       "1. 1\n",
       "2. 3\n",
       "\n",
       "\n"
      ],
      "text/plain": [
       "[1] 1 3"
      ]
     },
     "metadata": {},
     "output_type": "display_data"
    }
   ],
   "source": [
    "donde <- grep(\"[ia]\", c(\"Ciencia\",\"de\",\"Datos\"))\n",
    "donde"
   ]
  },
  {
   "cell_type": "code",
   "execution_count": 31,
   "metadata": {
    "vscode": {
     "languageId": "r"
    }
   },
   "outputs": [
    {
     "data": {
      "text/html": [
       "<style>\n",
       ".list-inline {list-style: none; margin:0; padding: 0}\n",
       ".list-inline>li {display: inline-block}\n",
       ".list-inline>li:not(:last-child)::after {content: \"\\00b7\"; padding: 0 .5ex}\n",
       "</style>\n",
       "<ol class=list-inline><li>'Ciencia'</li><li>'Datos'</li></ol>\n"
      ],
      "text/latex": [
       "\\begin{enumerate*}\n",
       "\\item 'Ciencia'\n",
       "\\item 'Datos'\n",
       "\\end{enumerate*}\n"
      ],
      "text/markdown": [
       "1. 'Ciencia'\n",
       "2. 'Datos'\n",
       "\n",
       "\n"
      ],
      "text/plain": [
       "[1] \"Ciencia\" \"Datos\"  "
      ]
     },
     "metadata": {},
     "output_type": "display_data"
    }
   ],
   "source": [
    "c(\"Ciencia\",\"de\",\"Datos\")[donde]"
   ]
  },
  {
   "cell_type": "code",
   "execution_count": null,
   "metadata": {
    "vscode": {
     "languageId": "r"
    }
   },
   "outputs": [],
   "source": [
    "grep(\"e.\", c(\"Ciencia\",\"de\",\"Datos\"))"
   ]
  },
  {
   "cell_type": "code",
   "execution_count": null,
   "metadata": {
    "vscode": {
     "languageId": "r"
    }
   },
   "outputs": [],
   "source": [
    "# Another example using strsplit()\n",
    "\n",
    "strsplit(\"a.b.c\", \".\")"
   ]
  },
  {
   "cell_type": "code",
   "execution_count": null,
   "metadata": {
    "vscode": {
     "languageId": "r"
    }
   },
   "outputs": [],
   "source": [
    "strsplit(\"a.b.c\", \"\\\\.\")"
   ]
  },
  {
   "cell_type": "code",
   "execution_count": 1,
   "metadata": {
    "vscode": {
     "languageId": "r"
    }
   },
   "outputs": [
    {
     "data": {
      "text/html": [
       "<ol>\n",
       "\t<li><style>\n",
       ".list-inline {list-style: none; margin:0; padding: 0}\n",
       ".list-inline>li {display: inline-block}\n",
       ".list-inline>li:not(:last-child)::after {content: \"\\00b7\"; padding: 0 .5ex}\n",
       "</style>\n",
       "<ol class=list-inline><li>'a'</li><li>'b'</li><li>'c'</li></ol>\n",
       "</li>\n",
       "</ol>\n"
      ],
      "text/latex": [
       "\\begin{enumerate}\n",
       "\\item \\begin{enumerate*}\n",
       "\\item 'a'\n",
       "\\item 'b'\n",
       "\\item 'c'\n",
       "\\end{enumerate*}\n",
       "\n",
       "\\end{enumerate}\n"
      ],
      "text/markdown": [
       "1. 1. 'a'\n",
       "2. 'b'\n",
       "3. 'c'\n",
       "\n",
       "\n",
       "\n",
       "\n",
       "\n"
      ],
      "text/plain": [
       "[[1]]\n",
       "[1] \"a\" \"b\" \"c\"\n"
      ]
     },
     "metadata": {},
     "output_type": "display_data"
    }
   ],
   "source": [
    "strsplit(\"a.b.c\", \"[.]\")"
   ]
  },
  {
   "cell_type": "markdown",
   "metadata": {},
   "source": [
    "## Ejemplo\n",
    "\n",
    "Anonimización de datos"
   ]
  },
  {
   "cell_type": "code",
   "execution_count": 32,
   "metadata": {
    "vscode": {
     "languageId": "r"
    }
   },
   "outputs": [
    {
     "data": {
      "text/html": [
       "<table class=\"dataframe\">\n",
       "<caption>A data.frame: 5 × 4</caption>\n",
       "<thead>\n",
       "\t<tr><th scope=col>var_1</th><th scope=col>var_2</th><th scope=col>var_3</th><th scope=col>var_4</th></tr>\n",
       "\t<tr><th scope=col>&lt;chr&gt;</th><th scope=col>&lt;chr&gt;</th><th scope=col>&lt;chr&gt;</th><th scope=col>&lt;dbl&gt;</th></tr>\n",
       "</thead>\n",
       "<tbody>\n",
       "\t<tr><td>Susan</td><td>Wilson </td><td>F</td><td>23</td></tr>\n",
       "\t<tr><td>Greg </td><td>Gray   </td><td>M</td><td>46</td></tr>\n",
       "\t<tr><td>Amy  </td><td>Sanders</td><td>F</td><td>32</td></tr>\n",
       "\t<tr><td>Laura</td><td>Xeon   </td><td>F</td><td>90</td></tr>\n",
       "\t<tr><td>David</td><td>Rogers </td><td>M</td><td>53</td></tr>\n",
       "</tbody>\n",
       "</table>\n"
      ],
      "text/latex": [
       "A data.frame: 5 × 4\n",
       "\\begin{tabular}{llll}\n",
       " var\\_1 & var\\_2 & var\\_3 & var\\_4\\\\\n",
       " <chr> & <chr> & <chr> & <dbl>\\\\\n",
       "\\hline\n",
       "\t Susan & Wilson  & F & 23\\\\\n",
       "\t Greg  & Gray    & M & 46\\\\\n",
       "\t Amy   & Sanders & F & 32\\\\\n",
       "\t Laura & Xeon    & F & 90\\\\\n",
       "\t David & Rogers  & M & 53\\\\\n",
       "\\end{tabular}\n"
      ],
      "text/markdown": [
       "\n",
       "A data.frame: 5 × 4\n",
       "\n",
       "| var_1 &lt;chr&gt; | var_2 &lt;chr&gt; | var_3 &lt;chr&gt; | var_4 &lt;dbl&gt; |\n",
       "|---|---|---|---|\n",
       "| Susan | Wilson  | F | 23 |\n",
       "| Greg  | Gray    | M | 46 |\n",
       "| Amy   | Sanders | F | 32 |\n",
       "| Laura | Xeon    | F | 90 |\n",
       "| David | Rogers  | M | 53 |\n",
       "\n"
      ],
      "text/plain": [
       "  var_1 var_2   var_3 var_4\n",
       "1 Susan Wilson  F     23   \n",
       "2 Greg  Gray    M     46   \n",
       "3 Amy   Sanders F     32   \n",
       "4 Laura Xeon    F     90   \n",
       "5 David Rogers  M     53   "
      ]
     },
     "metadata": {},
     "output_type": "display_data"
    }
   ],
   "source": [
    "data"
   ]
  },
  {
   "cell_type": "code",
   "execution_count": 33,
   "metadata": {
    "vscode": {
     "languageId": "r"
    }
   },
   "outputs": [
    {
     "data": {
      "text/html": [
       "<style>\n",
       ".list-inline {list-style: none; margin:0; padding: 0}\n",
       ".list-inline>li {display: inline-block}\n",
       ".list-inline>li:not(:last-child)::after {content: \"\\00b7\"; padding: 0 .5ex}\n",
       "</style>\n",
       "<ol class=list-inline><li>'sw'</li><li>'gg'</li><li>'as'</li><li>'lx'</li><li>'dr'</li></ol>\n"
      ],
      "text/latex": [
       "\\begin{enumerate*}\n",
       "\\item 'sw'\n",
       "\\item 'gg'\n",
       "\\item 'as'\n",
       "\\item 'lx'\n",
       "\\item 'dr'\n",
       "\\end{enumerate*}\n"
      ],
      "text/markdown": [
       "1. 'sw'\n",
       "2. 'gg'\n",
       "3. 'as'\n",
       "4. 'lx'\n",
       "5. 'dr'\n",
       "\n",
       "\n"
      ],
      "text/plain": [
       "[1] \"sw\" \"gg\" \"as\" \"lx\" \"dr\""
      ]
     },
     "metadata": {},
     "output_type": "display_data"
    }
   ],
   "source": [
    "ncolumn <- paste(tolower(substr(data$var_1, 1, 1)), \n",
    "                 tolower(substr(data$var_2, 1, 1)), sep = \"\")\n",
    "ncolumn"
   ]
  },
  {
   "cell_type": "code",
   "execution_count": 34,
   "metadata": {
    "vscode": {
     "languageId": "r"
    }
   },
   "outputs": [
    {
     "data": {
      "text/html": [
       "'var_1_and_var_2'"
      ],
      "text/latex": [
       "'var\\_1\\_and\\_var\\_2'"
      ],
      "text/markdown": [
       "'var_1_and_var_2'"
      ],
      "text/plain": [
       "[1] \"var_1_and_var_2\""
      ]
     },
     "metadata": {},
     "output_type": "display_data"
    }
   ],
   "source": [
    "paste(colnames(data)[1:2], collapse=\"_and_\")"
   ]
  },
  {
   "cell_type": "code",
   "execution_count": 35,
   "metadata": {
    "scrolled": true,
    "vscode": {
     "languageId": "r"
    }
   },
   "outputs": [
    {
     "data": {
      "text/html": [
       "<table class=\"dataframe\">\n",
       "<caption>A data.frame: 5 × 3</caption>\n",
       "<thead>\n",
       "\t<tr><th scope=col>var_1_and_var_2</th><th scope=col>var_3</th><th scope=col>var_4</th></tr>\n",
       "\t<tr><th scope=col>&lt;chr&gt;</th><th scope=col>&lt;chr&gt;</th><th scope=col>&lt;dbl&gt;</th></tr>\n",
       "</thead>\n",
       "<tbody>\n",
       "\t<tr><td>sw</td><td>F</td><td>23</td></tr>\n",
       "\t<tr><td>gg</td><td>M</td><td>46</td></tr>\n",
       "\t<tr><td>as</td><td>F</td><td>32</td></tr>\n",
       "\t<tr><td>lx</td><td>F</td><td>90</td></tr>\n",
       "\t<tr><td>dr</td><td>M</td><td>53</td></tr>\n",
       "</tbody>\n",
       "</table>\n"
      ],
      "text/latex": [
       "A data.frame: 5 × 3\n",
       "\\begin{tabular}{lll}\n",
       " var\\_1\\_and\\_var\\_2 & var\\_3 & var\\_4\\\\\n",
       " <chr> & <chr> & <dbl>\\\\\n",
       "\\hline\n",
       "\t sw & F & 23\\\\\n",
       "\t gg & M & 46\\\\\n",
       "\t as & F & 32\\\\\n",
       "\t lx & F & 90\\\\\n",
       "\t dr & M & 53\\\\\n",
       "\\end{tabular}\n"
      ],
      "text/markdown": [
       "\n",
       "A data.frame: 5 × 3\n",
       "\n",
       "| var_1_and_var_2 &lt;chr&gt; | var_3 &lt;chr&gt; | var_4 &lt;dbl&gt; |\n",
       "|---|---|---|\n",
       "| sw | F | 23 |\n",
       "| gg | M | 46 |\n",
       "| as | F | 32 |\n",
       "| lx | F | 90 |\n",
       "| dr | M | 53 |\n",
       "\n"
      ],
      "text/plain": [
       "  var_1_and_var_2 var_3 var_4\n",
       "1 sw              F     23   \n",
       "2 gg              M     46   \n",
       "3 as              F     32   \n",
       "4 lx              F     90   \n",
       "5 dr              M     53   "
      ]
     },
     "metadata": {},
     "output_type": "display_data"
    }
   ],
   "source": [
    "data$var_1 <- ncolumn\n",
    "colnames(data)[1] <- paste(colnames(data)[1:2], collapse=\"_and_\")\n",
    "data <- data[,-2]\n",
    "data"
   ]
  },
  {
   "cell_type": "markdown",
   "metadata": {},
   "source": [
    "More info in: [R Manual](https://stat.ethz.ch/R-manual/R-devel/library/base/html/regex.html)"
   ]
  },
  {
   "cell_type": "markdown",
   "metadata": {},
   "source": [
    "## Ejercicios (1ra parte)\n",
    "1. Crea un vector de cadenas de caracteres con tu nombre y apellidos (por ejemplo, [\"Rocío\", \"Romero\", Zaliz\"]). A partir de el crea una nueva cadena de caracteres con la inicial de tu nombre, un punto y tus apellidos (por ejemplo, \"R. Romero Zaliz\").\n",
    "2. Dada una matriz de cadenas de caracteres que representan fechas (por ejemplo, [\"2005-11-28\", \"2015-10-18\", \"2000-01-01\"]), mostrar sólo las correspondientes a los meses impares (utilizar el formato AÑO-MES-DÍA).\n",
    "3. Dada una cadena de caracteres con varias palabras (por ejemplo, \"Esta es una frase, pero no cualquier frase.\") cree una matriz con cada una de las palabras de la cadena (por ejemplo, [\"Esta\", \"es\", \"una\", \"frase\", \"pero\", \"no\", \"cualquier\", \"frase\"]). Tenga en cuenta todos los caracteres de puntuación posibles.\n",
    "4. Busca en un vector de cadenas de caractees aquellas que incluyan sólo vocales \"a\" y/o \"e\" o ninguna (comprueba mayúsculas y minúsculas).\n",
    "5. Dados tres vectores numéricas que representan días, meses y años, cree una matriz con fechas (sólo si son válidas) (Sugerencia: investigue la función `as.Date`)."
   ]
  },
  {
   "cell_type": "markdown",
   "metadata": {},
   "source": [
    "# Manipulaciónd e cadenas de caracters usando Tidyverse"
   ]
  },
  {
   "cell_type": "markdown",
   "metadata": {},
   "source": [
    "## Cheat sheets"
   ]
  },
  {
   "cell_type": "markdown",
   "metadata": {},
   "source": [
    "* https://github.com/rstudio/cheatsheets/raw/main/strings.pdf"
   ]
  },
  {
   "cell_type": "code",
   "execution_count": 36,
   "metadata": {
    "vscode": {
     "languageId": "r"
    }
   },
   "outputs": [
    {
     "ename": "ERROR",
     "evalue": "Error in eval(expr, envir, enclos): objeto 'stringr' no encontrado\n",
     "output_type": "error",
     "traceback": [
      "Error in eval(expr, envir, enclos): objeto 'stringr' no encontrado\nTraceback:\n",
      "1. install.packages(stringr)"
     ]
    }
   ],
   "source": [
    "#install.packages(tidyverse)\n",
    "#install.packages(stringr)"
   ]
  },
  {
   "cell_type": "code",
   "execution_count": 37,
   "metadata": {
    "vscode": {
     "languageId": "r"
    }
   },
   "outputs": [
    {
     "name": "stderr",
     "output_type": "stream",
     "text": [
      "── \u001b[1mAttaching core tidyverse packages\u001b[22m ──────────────────────── tidyverse 2.0.0 ──\n",
      "\u001b[32m✔\u001b[39m \u001b[34mdplyr    \u001b[39m 1.1.3     \u001b[32m✔\u001b[39m \u001b[34mreadr    \u001b[39m 2.1.4\n",
      "\u001b[32m✔\u001b[39m \u001b[34mforcats  \u001b[39m 1.0.0     \u001b[32m✔\u001b[39m \u001b[34mstringr  \u001b[39m 1.5.0\n",
      "\u001b[32m✔\u001b[39m \u001b[34mggplot2  \u001b[39m 3.4.3     \u001b[32m✔\u001b[39m \u001b[34mtibble   \u001b[39m 3.2.1\n",
      "\u001b[32m✔\u001b[39m \u001b[34mlubridate\u001b[39m 1.9.3     \u001b[32m✔\u001b[39m \u001b[34mtidyr    \u001b[39m 1.3.0\n",
      "\u001b[32m✔\u001b[39m \u001b[34mpurrr    \u001b[39m 1.0.2     \n",
      "── \u001b[1mConflicts\u001b[22m ────────────────────────────────────────── tidyverse_conflicts() ──\n",
      "\u001b[31m✖\u001b[39m \u001b[34mdplyr\u001b[39m::\u001b[32mfilter()\u001b[39m masks \u001b[34mstats\u001b[39m::filter()\n",
      "\u001b[31m✖\u001b[39m \u001b[34mdplyr\u001b[39m::\u001b[32mlag()\u001b[39m    masks \u001b[34mstats\u001b[39m::lag()\n",
      "\u001b[36mℹ\u001b[39m Use the conflicted package (\u001b[3m\u001b[34m<http://conflicted.r-lib.org/>\u001b[39m\u001b[23m) to force all conflicts to become errors\n"
     ]
    },
    {
     "data": {
      "text/html": [
       "<table class=\"dataframe\">\n",
       "<caption>A data.frame: 5 × 4</caption>\n",
       "<thead>\n",
       "\t<tr><th scope=col>name</th><th scope=col>lastname</th><th scope=col>gender</th><th scope=col>age</th></tr>\n",
       "\t<tr><th scope=col>&lt;chr&gt;</th><th scope=col>&lt;chr&gt;</th><th scope=col>&lt;chr&gt;</th><th scope=col>&lt;dbl&gt;</th></tr>\n",
       "</thead>\n",
       "<tbody>\n",
       "\t<tr><td>Susan</td><td>Wilson </td><td>F</td><td>23</td></tr>\n",
       "\t<tr><td>Greg </td><td>Gray   </td><td>M</td><td>46</td></tr>\n",
       "\t<tr><td>Amy  </td><td>Sanders</td><td>F</td><td>32</td></tr>\n",
       "\t<tr><td>Laura</td><td>Xeon   </td><td>F</td><td>90</td></tr>\n",
       "\t<tr><td>David</td><td>Rogers </td><td>M</td><td>53</td></tr>\n",
       "</tbody>\n",
       "</table>\n"
      ],
      "text/latex": [
       "A data.frame: 5 × 4\n",
       "\\begin{tabular}{llll}\n",
       " name & lastname & gender & age\\\\\n",
       " <chr> & <chr> & <chr> & <dbl>\\\\\n",
       "\\hline\n",
       "\t Susan & Wilson  & F & 23\\\\\n",
       "\t Greg  & Gray    & M & 46\\\\\n",
       "\t Amy   & Sanders & F & 32\\\\\n",
       "\t Laura & Xeon    & F & 90\\\\\n",
       "\t David & Rogers  & M & 53\\\\\n",
       "\\end{tabular}\n"
      ],
      "text/markdown": [
       "\n",
       "A data.frame: 5 × 4\n",
       "\n",
       "| name &lt;chr&gt; | lastname &lt;chr&gt; | gender &lt;chr&gt; | age &lt;dbl&gt; |\n",
       "|---|---|---|---|\n",
       "| Susan | Wilson  | F | 23 |\n",
       "| Greg  | Gray    | M | 46 |\n",
       "| Amy   | Sanders | F | 32 |\n",
       "| Laura | Xeon    | F | 90 |\n",
       "| David | Rogers  | M | 53 |\n",
       "\n"
      ],
      "text/plain": [
       "  name  lastname gender age\n",
       "1 Susan Wilson   F      23 \n",
       "2 Greg  Gray     M      46 \n",
       "3 Amy   Sanders  F      32 \n",
       "4 Laura Xeon     F      90 \n",
       "5 David Rogers   M      53 "
      ]
     },
     "metadata": {},
     "output_type": "display_data"
    }
   ],
   "source": [
    "library(tidyverse)\n",
    "library(stringr)\n",
    "\n",
    "data <- data.frame(name = c(\"Susan\", \"Greg\", \"Amy\", \"Laura\", \"David\"), lastname = c(\"Wilson\", \"Gray\", \"Sanders\", \"Xeon\", \"Rogers\"), gender = c(\"F\", \"M\", \"F\", \"F\", \"M\"), age = c(23, 46, 32, 90, 53))\n",
    "data"
   ]
  },
  {
   "cell_type": "markdown",
   "metadata": {},
   "source": [
    "La función <s>`nchar`</s> `str_length` indica la longitud de la cadena de caracteres."
   ]
  },
  {
   "cell_type": "code",
   "execution_count": 38,
   "metadata": {
    "vscode": {
     "languageId": "r"
    }
   },
   "outputs": [
    {
     "data": {
      "text/html": [
       "<style>\n",
       ".list-inline {list-style: none; margin:0; padding: 0}\n",
       ".list-inline>li {display: inline-block}\n",
       ".list-inline>li:not(:last-child)::after {content: \"\\00b7\"; padding: 0 .5ex}\n",
       "</style>\n",
       "<ol class=list-inline><li>6</li><li>4</li><li>7</li><li>4</li><li>6</li></ol>\n"
      ],
      "text/latex": [
       "\\begin{enumerate*}\n",
       "\\item 6\n",
       "\\item 4\n",
       "\\item 7\n",
       "\\item 4\n",
       "\\item 6\n",
       "\\end{enumerate*}\n"
      ],
      "text/markdown": [
       "1. 6\n",
       "2. 4\n",
       "3. 7\n",
       "4. 4\n",
       "5. 6\n",
       "\n",
       "\n"
      ],
      "text/plain": [
       "[1] 6 4 7 4 6"
      ]
     },
     "metadata": {},
     "output_type": "display_data"
    }
   ],
   "source": [
    "data %>% pull(lastname) %>% str_length"
   ]
  },
  {
   "cell_type": "markdown",
   "metadata": {},
   "source": [
    "La función <s>`paste`</s> `str_c` concatena varias cadenas de caracteres."
   ]
  },
  {
   "cell_type": "code",
   "execution_count": 39,
   "metadata": {
    "vscode": {
     "languageId": "r"
    }
   },
   "outputs": [
    {
     "data": {
      "text/html": [
       "'Susan, Greg, Amy, Laura, David'"
      ],
      "text/latex": [
       "'Susan, Greg, Amy, Laura, David'"
      ],
      "text/markdown": [
       "'Susan, Greg, Amy, Laura, David'"
      ],
      "text/plain": [
       "[1] \"Susan, Greg, Amy, Laura, David\""
      ]
     },
     "metadata": {},
     "output_type": "display_data"
    }
   ],
   "source": [
    "data$name %>% str_c(collapse = \", \")"
   ]
  },
  {
   "cell_type": "code",
   "execution_count": 40,
   "metadata": {
    "vscode": {
     "languageId": "r"
    }
   },
   "outputs": [
    {
     "data": {
      "text/html": [
       "<style>\n",
       ".list-inline {list-style: none; margin:0; padding: 0}\n",
       ".list-inline>li {display: inline-block}\n",
       ".list-inline>li:not(:last-child)::after {content: \"\\00b7\"; padding: 0 .5ex}\n",
       "</style>\n",
       "<ol class=list-inline><li>'Susan - Wilson'</li><li>'Greg - Gray'</li><li>'Amy - Sanders'</li><li>'Laura - Xeon'</li><li>'David - Rogers'</li></ol>\n"
      ],
      "text/latex": [
       "\\begin{enumerate*}\n",
       "\\item 'Susan - Wilson'\n",
       "\\item 'Greg - Gray'\n",
       "\\item 'Amy - Sanders'\n",
       "\\item 'Laura - Xeon'\n",
       "\\item 'David - Rogers'\n",
       "\\end{enumerate*}\n"
      ],
      "text/markdown": [
       "1. 'Susan - Wilson'\n",
       "2. 'Greg - Gray'\n",
       "3. 'Amy - Sanders'\n",
       "4. 'Laura - Xeon'\n",
       "5. 'David - Rogers'\n",
       "\n",
       "\n"
      ],
      "text/plain": [
       "[1] \"Susan - Wilson\" \"Greg - Gray\"    \"Amy - Sanders\"  \"Laura - Xeon\"  \n",
       "[5] \"David - Rogers\""
      ]
     },
     "metadata": {},
     "output_type": "display_data"
    }
   ],
   "source": [
    "str_c(data$name, data$lastname, sep = \" - \")"
   ]
  },
  {
   "cell_type": "code",
   "execution_count": 41,
   "metadata": {
    "vscode": {
     "languageId": "r"
    }
   },
   "outputs": [
    {
     "data": {
      "text/html": [
       "<table class=\"dataframe\">\n",
       "<caption>A data.frame: 5 × 5</caption>\n",
       "<thead>\n",
       "\t<tr><th scope=col>Full_name</th><th scope=col>name</th><th scope=col>lastname</th><th scope=col>gender</th><th scope=col>age</th></tr>\n",
       "\t<tr><th scope=col>&lt;chr&gt;</th><th scope=col>&lt;chr&gt;</th><th scope=col>&lt;chr&gt;</th><th scope=col>&lt;chr&gt;</th><th scope=col>&lt;dbl&gt;</th></tr>\n",
       "</thead>\n",
       "<tbody>\n",
       "\t<tr><td>Susan - Wilson</td><td>Susan</td><td>Wilson </td><td>F</td><td>23</td></tr>\n",
       "\t<tr><td>Greg - Gray   </td><td>Greg </td><td>Gray   </td><td>M</td><td>46</td></tr>\n",
       "\t<tr><td>Amy - Sanders </td><td>Amy  </td><td>Sanders</td><td>F</td><td>32</td></tr>\n",
       "\t<tr><td>Laura - Xeon  </td><td>Laura</td><td>Xeon   </td><td>F</td><td>90</td></tr>\n",
       "\t<tr><td>David - Rogers</td><td>David</td><td>Rogers </td><td>M</td><td>53</td></tr>\n",
       "</tbody>\n",
       "</table>\n"
      ],
      "text/latex": [
       "A data.frame: 5 × 5\n",
       "\\begin{tabular}{lllll}\n",
       " Full\\_name & name & lastname & gender & age\\\\\n",
       " <chr> & <chr> & <chr> & <chr> & <dbl>\\\\\n",
       "\\hline\n",
       "\t Susan - Wilson & Susan & Wilson  & F & 23\\\\\n",
       "\t Greg - Gray    & Greg  & Gray    & M & 46\\\\\n",
       "\t Amy - Sanders  & Amy   & Sanders & F & 32\\\\\n",
       "\t Laura - Xeon   & Laura & Xeon    & F & 90\\\\\n",
       "\t David - Rogers & David & Rogers  & M & 53\\\\\n",
       "\\end{tabular}\n"
      ],
      "text/markdown": [
       "\n",
       "A data.frame: 5 × 5\n",
       "\n",
       "| Full_name &lt;chr&gt; | name &lt;chr&gt; | lastname &lt;chr&gt; | gender &lt;chr&gt; | age &lt;dbl&gt; |\n",
       "|---|---|---|---|---|\n",
       "| Susan - Wilson | Susan | Wilson  | F | 23 |\n",
       "| Greg - Gray    | Greg  | Gray    | M | 46 |\n",
       "| Amy - Sanders  | Amy   | Sanders | F | 32 |\n",
       "| Laura - Xeon   | Laura | Xeon    | F | 90 |\n",
       "| David - Rogers | David | Rogers  | M | 53 |\n",
       "\n"
      ],
      "text/plain": [
       "  Full_name      name  lastname gender age\n",
       "1 Susan - Wilson Susan Wilson   F      23 \n",
       "2 Greg - Gray    Greg  Gray     M      46 \n",
       "3 Amy - Sanders  Amy   Sanders  F      32 \n",
       "4 Laura - Xeon   Laura Xeon     F      90 \n",
       "5 David - Rogers David Rogers   M      53 "
      ]
     },
     "metadata": {},
     "output_type": "display_data"
    }
   ],
   "source": [
    "data %>% unite(\"Full_name\", c(name, lastname), remove = FALSE, sep = \" - \")"
   ]
  },
  {
   "cell_type": "code",
   "execution_count": 42,
   "metadata": {
    "vscode": {
     "languageId": "r"
    }
   },
   "outputs": [
    {
     "data": {
      "text/html": [
       "<table class=\"dataframe\">\n",
       "<caption>A data.frame: 5 × 6</caption>\n",
       "<thead>\n",
       "\t<tr><th scope=col>x</th><th scope=col>y</th><th scope=col>name</th><th scope=col>lastname</th><th scope=col>gender</th><th scope=col>age</th></tr>\n",
       "\t<tr><th scope=col>&lt;chr&gt;</th><th scope=col>&lt;chr&gt;</th><th scope=col>&lt;chr&gt;</th><th scope=col>&lt;chr&gt;</th><th scope=col>&lt;chr&gt;</th><th scope=col>&lt;dbl&gt;</th></tr>\n",
       "</thead>\n",
       "<tbody>\n",
       "\t<tr><td>Susan</td><td>Wilson </td><td>Susan</td><td>Wilson </td><td>F</td><td>23</td></tr>\n",
       "\t<tr><td>Greg </td><td>Gray   </td><td>Greg </td><td>Gray   </td><td>M</td><td>46</td></tr>\n",
       "\t<tr><td>Amy  </td><td>Sanders</td><td>Amy  </td><td>Sanders</td><td>F</td><td>32</td></tr>\n",
       "\t<tr><td>Laura</td><td>Xeon   </td><td>Laura</td><td>Xeon   </td><td>F</td><td>90</td></tr>\n",
       "\t<tr><td>David</td><td>Rogers </td><td>David</td><td>Rogers </td><td>M</td><td>53</td></tr>\n",
       "</tbody>\n",
       "</table>\n"
      ],
      "text/latex": [
       "A data.frame: 5 × 6\n",
       "\\begin{tabular}{llllll}\n",
       " x & y & name & lastname & gender & age\\\\\n",
       " <chr> & <chr> & <chr> & <chr> & <chr> & <dbl>\\\\\n",
       "\\hline\n",
       "\t Susan & Wilson  & Susan & Wilson  & F & 23\\\\\n",
       "\t Greg  & Gray    & Greg  & Gray    & M & 46\\\\\n",
       "\t Amy   & Sanders & Amy   & Sanders & F & 32\\\\\n",
       "\t Laura & Xeon    & Laura & Xeon    & F & 90\\\\\n",
       "\t David & Rogers  & David & Rogers  & M & 53\\\\\n",
       "\\end{tabular}\n"
      ],
      "text/markdown": [
       "\n",
       "A data.frame: 5 × 6\n",
       "\n",
       "| x &lt;chr&gt; | y &lt;chr&gt; | name &lt;chr&gt; | lastname &lt;chr&gt; | gender &lt;chr&gt; | age &lt;dbl&gt; |\n",
       "|---|---|---|---|---|---|\n",
       "| Susan | Wilson  | Susan | Wilson  | F | 23 |\n",
       "| Greg  | Gray    | Greg  | Gray    | M | 46 |\n",
       "| Amy   | Sanders | Amy   | Sanders | F | 32 |\n",
       "| Laura | Xeon    | Laura | Xeon    | F | 90 |\n",
       "| David | Rogers  | David | Rogers  | M | 53 |\n",
       "\n"
      ],
      "text/plain": [
       "  x     y       name  lastname gender age\n",
       "1 Susan Wilson  Susan Wilson   F      23 \n",
       "2 Greg  Gray    Greg  Gray     M      46 \n",
       "3 Amy   Sanders Amy   Sanders  F      32 \n",
       "4 Laura Xeon    Laura Xeon     F      90 \n",
       "5 David Rogers  David Rogers   M      53 "
      ]
     },
     "metadata": {},
     "output_type": "display_data"
    }
   ],
   "source": [
    "data %>% unite(\"Full_name\", c(name, lastname), remove = FALSE, sep = \" - \") %>%\n",
    "    separate(Full_name, c(\"x\", \"y\"), remove = TRUE, sep = \" - \")"
   ]
  },
  {
   "cell_type": "markdown",
   "metadata": {},
   "source": [
    "La función <s>`substr(x, inicio, parada)`</s> `str_sub(x, inicio, parada)` devuelve la subcadena en el rango de posiciones de caracteres dado inicio:parada para la cadena x. "
   ]
  },
  {
   "cell_type": "code",
   "execution_count": 43,
   "metadata": {
    "vscode": {
     "languageId": "r"
    }
   },
   "outputs": [
    {
     "data": {
      "text/html": [
       "<style>\n",
       ".list-inline {list-style: none; margin:0; padding: 0}\n",
       ".list-inline>li {display: inline-block}\n",
       ".list-inline>li:not(:last-child)::after {content: \"\\00b7\"; padding: 0 .5ex}\n",
       "</style>\n",
       "<ol class=list-inline><li>'us'</li><li>'re'</li><li>'my'</li><li>'au'</li><li>'av'</li></ol>\n"
      ],
      "text/latex": [
       "\\begin{enumerate*}\n",
       "\\item 'us'\n",
       "\\item 're'\n",
       "\\item 'my'\n",
       "\\item 'au'\n",
       "\\item 'av'\n",
       "\\end{enumerate*}\n"
      ],
      "text/markdown": [
       "1. 'us'\n",
       "2. 're'\n",
       "3. 'my'\n",
       "4. 'au'\n",
       "5. 'av'\n",
       "\n",
       "\n"
      ],
      "text/plain": [
       "[1] \"us\" \"re\" \"my\" \"au\" \"av\""
      ]
     },
     "metadata": {},
     "output_type": "display_data"
    }
   ],
   "source": [
    "data$name %>% str_sub(2, 3)"
   ]
  },
  {
   "cell_type": "markdown",
   "metadata": {},
   "source": [
    "## Expresiones regulares"
   ]
  },
  {
   "cell_type": "markdown",
   "metadata": {},
   "source": [
    "La función `str_detect` indica si hay alguna coincidencia con el patrón indicado."
   ]
  },
  {
   "cell_type": "code",
   "execution_count": 44,
   "metadata": {
    "vscode": {
     "languageId": "r"
    }
   },
   "outputs": [
    {
     "data": {
      "text/html": [
       "<table class=\"dataframe\">\n",
       "<caption>A data.frame: 1 × 4</caption>\n",
       "<thead>\n",
       "\t<tr><th></th><th scope=col>name</th><th scope=col>lastname</th><th scope=col>gender</th><th scope=col>age</th></tr>\n",
       "\t<tr><th></th><th scope=col>&lt;chr&gt;</th><th scope=col>&lt;chr&gt;</th><th scope=col>&lt;chr&gt;</th><th scope=col>&lt;dbl&gt;</th></tr>\n",
       "</thead>\n",
       "<tbody>\n",
       "\t<tr><th scope=row>1</th><td>Susan</td><td>Wilson</td><td>F</td><td>23</td></tr>\n",
       "</tbody>\n",
       "</table>\n"
      ],
      "text/latex": [
       "A data.frame: 1 × 4\n",
       "\\begin{tabular}{r|llll}\n",
       "  & name & lastname & gender & age\\\\\n",
       "  & <chr> & <chr> & <chr> & <dbl>\\\\\n",
       "\\hline\n",
       "\t1 & Susan & Wilson & F & 23\\\\\n",
       "\\end{tabular}\n"
      ],
      "text/markdown": [
       "\n",
       "A data.frame: 1 × 4\n",
       "\n",
       "| <!--/--> | name &lt;chr&gt; | lastname &lt;chr&gt; | gender &lt;chr&gt; | age &lt;dbl&gt; |\n",
       "|---|---|---|---|---|\n",
       "| 1 | Susan | Wilson | F | 23 |\n",
       "\n"
      ],
      "text/plain": [
       "  name  lastname gender age\n",
       "1 Susan Wilson   F      23 "
      ]
     },
     "metadata": {},
     "output_type": "display_data"
    }
   ],
   "source": [
    "data[1,]"
   ]
  },
  {
   "cell_type": "code",
   "execution_count": 45,
   "metadata": {
    "vscode": {
     "languageId": "r"
    }
   },
   "outputs": [
    {
     "data": {
      "text/html": [
       "<style>\n",
       ".list-inline {list-style: none; margin:0; padding: 0}\n",
       ".list-inline>li {display: inline-block}\n",
       ".list-inline>li:not(:last-child)::after {content: \"\\00b7\"; padding: 0 .5ex}\n",
       "</style>\n",
       "<ol class=list-inline><li>TRUE</li><li>TRUE</li><li>FALSE</li><li>FALSE</li></ol>\n"
      ],
      "text/latex": [
       "\\begin{enumerate*}\n",
       "\\item TRUE\n",
       "\\item TRUE\n",
       "\\item FALSE\n",
       "\\item FALSE\n",
       "\\end{enumerate*}\n"
      ],
      "text/markdown": [
       "1. TRUE\n",
       "2. TRUE\n",
       "3. FALSE\n",
       "4. FALSE\n",
       "\n",
       "\n"
      ],
      "text/plain": [
       "[1]  TRUE  TRUE FALSE FALSE"
      ]
     },
     "metadata": {},
     "output_type": "display_data"
    }
   ],
   "source": [
    "str_detect(data[1,], \"[aeiou]\")"
   ]
  },
  {
   "cell_type": "code",
   "execution_count": 46,
   "metadata": {
    "vscode": {
     "languageId": "r"
    }
   },
   "outputs": [
    {
     "data": {
      "text/html": [
       "<style>\n",
       ".list-inline {list-style: none; margin:0; padding: 0}\n",
       ".list-inline>li {display: inline-block}\n",
       ".list-inline>li:not(:last-child)::after {content: \"\\00b7\"; padding: 0 .5ex}\n",
       "</style>\n",
       "<ol class=list-inline><li>'Susan'</li><li>'Greg'</li><li>'Amy'</li><li>'Laura'</li><li>'David'</li></ol>\n"
      ],
      "text/latex": [
       "\\begin{enumerate*}\n",
       "\\item 'Susan'\n",
       "\\item 'Greg'\n",
       "\\item 'Amy'\n",
       "\\item 'Laura'\n",
       "\\item 'David'\n",
       "\\end{enumerate*}\n"
      ],
      "text/markdown": [
       "1. 'Susan'\n",
       "2. 'Greg'\n",
       "3. 'Amy'\n",
       "4. 'Laura'\n",
       "5. 'David'\n",
       "\n",
       "\n"
      ],
      "text/plain": [
       "[1] \"Susan\" \"Greg\"  \"Amy\"   \"Laura\" \"David\""
      ]
     },
     "metadata": {},
     "output_type": "display_data"
    }
   ],
   "source": [
    "data$name"
   ]
  },
  {
   "cell_type": "code",
   "execution_count": 47,
   "metadata": {
    "vscode": {
     "languageId": "r"
    }
   },
   "outputs": [
    {
     "data": {
      "text/html": [
       "<style>\n",
       ".list-inline {list-style: none; margin:0; padding: 0}\n",
       ".list-inline>li {display: inline-block}\n",
       ".list-inline>li:not(:last-child)::after {content: \"\\00b7\"; padding: 0 .5ex}\n",
       "</style>\n",
       "<ol class=list-inline><li>TRUE</li><li>TRUE</li><li>FALSE</li><li>TRUE</li><li>TRUE</li></ol>\n"
      ],
      "text/latex": [
       "\\begin{enumerate*}\n",
       "\\item TRUE\n",
       "\\item TRUE\n",
       "\\item FALSE\n",
       "\\item TRUE\n",
       "\\item TRUE\n",
       "\\end{enumerate*}\n"
      ],
      "text/markdown": [
       "1. TRUE\n",
       "2. TRUE\n",
       "3. FALSE\n",
       "4. TRUE\n",
       "5. TRUE\n",
       "\n",
       "\n"
      ],
      "text/plain": [
       "[1]  TRUE  TRUE FALSE  TRUE  TRUE"
      ]
     },
     "metadata": {},
     "output_type": "display_data"
    }
   ],
   "source": [
    "data$name %>% str_detect(\"[aeiou]\")"
   ]
  },
  {
   "cell_type": "markdown",
   "metadata": {},
   "source": [
    "La función `str_subset` extrae los componentes que han coincidido.components"
   ]
  },
  {
   "cell_type": "code",
   "execution_count": 48,
   "metadata": {
    "vscode": {
     "languageId": "r"
    }
   },
   "outputs": [
    {
     "data": {
      "text/html": [
       "<style>\n",
       ".list-inline {list-style: none; margin:0; padding: 0}\n",
       ".list-inline>li {display: inline-block}\n",
       ".list-inline>li:not(:last-child)::after {content: \"\\00b7\"; padding: 0 .5ex}\n",
       "</style>\n",
       "<ol class=list-inline><li>'Susan'</li><li>'Greg'</li><li>'Laura'</li><li>'David'</li></ol>\n"
      ],
      "text/latex": [
       "\\begin{enumerate*}\n",
       "\\item 'Susan'\n",
       "\\item 'Greg'\n",
       "\\item 'Laura'\n",
       "\\item 'David'\n",
       "\\end{enumerate*}\n"
      ],
      "text/markdown": [
       "1. 'Susan'\n",
       "2. 'Greg'\n",
       "3. 'Laura'\n",
       "4. 'David'\n",
       "\n",
       "\n"
      ],
      "text/plain": [
       "[1] \"Susan\" \"Greg\"  \"Laura\" \"David\""
      ]
     },
     "metadata": {},
     "output_type": "display_data"
    }
   ],
   "source": [
    "data$name %>% str_subset(\"[aeiou]\")"
   ]
  },
  {
   "cell_type": "code",
   "execution_count": 49,
   "metadata": {
    "vscode": {
     "languageId": "r"
    }
   },
   "outputs": [
    {
     "name": "stderr",
     "output_type": "stream",
     "text": [
      "Warning message:\n",
      "“\u001b[1m\u001b[22m`str_view()` was deprecated in stringr 1.5.0.\n",
      "\u001b[36mℹ\u001b[39m Please use `str_view_all()` instead.”\n"
     ]
    },
    {
     "data": {
      "text/plain": [
       "\u001b[90m[1] │\u001b[39m S\u001b[36m<u>\u001b[39ms\u001b[36m<a>\u001b[39mn\n",
       "\u001b[90m[2] │\u001b[39m Gr\u001b[36m<e>\u001b[39mg\n",
       "\u001b[90m[4] │\u001b[39m L\u001b[36m<a>\u001b[39m\u001b[36m<u>\u001b[39mr\u001b[36m<a>\u001b[39m\n",
       "\u001b[90m[5] │\u001b[39m D\u001b[36m<a>\u001b[39mv\u001b[36m<i>\u001b[39md"
      ]
     },
     "metadata": {},
     "output_type": "display_data"
    }
   ],
   "source": [
    "data$name %>% str_view_all(\"[aeiou]\", match = TRUE)"
   ]
  },
  {
   "cell_type": "markdown",
   "metadata": {},
   "source": [
    "La función `str_count` cuenta la cantidad de veces que coincide."
   ]
  },
  {
   "cell_type": "code",
   "execution_count": 50,
   "metadata": {
    "vscode": {
     "languageId": "r"
    }
   },
   "outputs": [
    {
     "data": {
      "text/html": [
       "<style>\n",
       ".list-inline {list-style: none; margin:0; padding: 0}\n",
       ".list-inline>li {display: inline-block}\n",
       ".list-inline>li:not(:last-child)::after {content: \"\\00b7\"; padding: 0 .5ex}\n",
       "</style>\n",
       "<ol class=list-inline><li>2</li><li>1</li><li>0</li><li>3</li><li>2</li></ol>\n"
      ],
      "text/latex": [
       "\\begin{enumerate*}\n",
       "\\item 2\n",
       "\\item 1\n",
       "\\item 0\n",
       "\\item 3\n",
       "\\item 2\n",
       "\\end{enumerate*}\n"
      ],
      "text/markdown": [
       "1. 2\n",
       "2. 1\n",
       "3. 0\n",
       "4. 3\n",
       "5. 2\n",
       "\n",
       "\n"
      ],
      "text/plain": [
       "[1] 2 1 0 3 2"
      ]
     },
     "metadata": {},
     "output_type": "display_data"
    }
   ],
   "source": [
    "data$name %>% str_count(\"[aeiou]\")"
   ]
  },
  {
   "cell_type": "markdown",
   "metadata": {},
   "source": [
    "La función `str_extract` extrae el texto de la coincidencia."
   ]
  },
  {
   "cell_type": "code",
   "execution_count": 51,
   "metadata": {
    "vscode": {
     "languageId": "r"
    }
   },
   "outputs": [
    {
     "data": {
      "text/html": [
       "<style>\n",
       ".list-inline {list-style: none; margin:0; padding: 0}\n",
       ".list-inline>li {display: inline-block}\n",
       ".list-inline>li:not(:last-child)::after {content: \"\\00b7\"; padding: 0 .5ex}\n",
       "</style>\n",
       "<ol class=list-inline><li>'u'</li><li>'e'</li><li>NA</li><li>'a'</li><li>'a'</li></ol>\n"
      ],
      "text/latex": [
       "\\begin{enumerate*}\n",
       "\\item 'u'\n",
       "\\item 'e'\n",
       "\\item NA\n",
       "\\item 'a'\n",
       "\\item 'a'\n",
       "\\end{enumerate*}\n"
      ],
      "text/markdown": [
       "1. 'u'\n",
       "2. 'e'\n",
       "3. NA\n",
       "4. 'a'\n",
       "5. 'a'\n",
       "\n",
       "\n"
      ],
      "text/plain": [
       "[1] \"u\" \"e\" NA  \"a\" \"a\""
      ]
     },
     "metadata": {},
     "output_type": "display_data"
    }
   ],
   "source": [
    "data$name %>% str_extract(\"[aeiou]\")"
   ]
  },
  {
   "cell_type": "code",
   "execution_count": 52,
   "metadata": {
    "vscode": {
     "languageId": "r"
    }
   },
   "outputs": [
    {
     "data": {
      "text/html": [
       "<ol>\n",
       "\t<li><style>\n",
       ".list-inline {list-style: none; margin:0; padding: 0}\n",
       ".list-inline>li {display: inline-block}\n",
       ".list-inline>li:not(:last-child)::after {content: \"\\00b7\"; padding: 0 .5ex}\n",
       "</style>\n",
       "<ol class=list-inline><li>'u'</li><li>'a'</li></ol>\n",
       "</li>\n",
       "\t<li>'e'</li>\n",
       "\t<li></li>\n",
       "\t<li><style>\n",
       ".list-inline {list-style: none; margin:0; padding: 0}\n",
       ".list-inline>li {display: inline-block}\n",
       ".list-inline>li:not(:last-child)::after {content: \"\\00b7\"; padding: 0 .5ex}\n",
       "</style>\n",
       "<ol class=list-inline><li>'a'</li><li>'u'</li><li>'a'</li></ol>\n",
       "</li>\n",
       "\t<li><style>\n",
       ".list-inline {list-style: none; margin:0; padding: 0}\n",
       ".list-inline>li {display: inline-block}\n",
       ".list-inline>li:not(:last-child)::after {content: \"\\00b7\"; padding: 0 .5ex}\n",
       "</style>\n",
       "<ol class=list-inline><li>'a'</li><li>'i'</li></ol>\n",
       "</li>\n",
       "</ol>\n"
      ],
      "text/latex": [
       "\\begin{enumerate}\n",
       "\\item \\begin{enumerate*}\n",
       "\\item 'u'\n",
       "\\item 'a'\n",
       "\\end{enumerate*}\n",
       "\n",
       "\\item 'e'\n",
       "\\item \n",
       "\\item \\begin{enumerate*}\n",
       "\\item 'a'\n",
       "\\item 'u'\n",
       "\\item 'a'\n",
       "\\end{enumerate*}\n",
       "\n",
       "\\item \\begin{enumerate*}\n",
       "\\item 'a'\n",
       "\\item 'i'\n",
       "\\end{enumerate*}\n",
       "\n",
       "\\end{enumerate}\n"
      ],
      "text/markdown": [
       "1. 1. 'u'\n",
       "2. 'a'\n",
       "\n",
       "\n",
       "\n",
       "2. 'e'\n",
       "3. \n",
       "4. 1. 'a'\n",
       "2. 'u'\n",
       "3. 'a'\n",
       "\n",
       "\n",
       "\n",
       "5. 1. 'a'\n",
       "2. 'i'\n",
       "\n",
       "\n",
       "\n",
       "\n",
       "\n"
      ],
      "text/plain": [
       "[[1]]\n",
       "[1] \"u\" \"a\"\n",
       "\n",
       "[[2]]\n",
       "[1] \"e\"\n",
       "\n",
       "[[3]]\n",
       "character(0)\n",
       "\n",
       "[[4]]\n",
       "[1] \"a\" \"u\" \"a\"\n",
       "\n",
       "[[5]]\n",
       "[1] \"a\" \"i\"\n"
      ]
     },
     "metadata": {},
     "output_type": "display_data"
    }
   ],
   "source": [
    "data$name %>% str_extract_all(\"[aeiou]\")"
   ]
  },
  {
   "cell_type": "markdown",
   "metadata": {},
   "source": [
    "La función `str_match` extrae partes de la coincidencia definida entre paréntesis."
   ]
  },
  {
   "cell_type": "code",
   "execution_count": 53,
   "metadata": {
    "vscode": {
     "languageId": "r"
    }
   },
   "outputs": [
    {
     "name": "stdout",
     "output_type": "stream",
     "text": [
      "[1] \"Susan\" \"Greg\"  \"Amy\"   \"Laura\" \"David\"\n"
     ]
    },
    {
     "data": {
      "text/html": [
       "<table class=\"dataframe\">\n",
       "<caption>A matrix: 5 × 3 of type chr</caption>\n",
       "<tbody>\n",
       "\t<tr><td>Susa</td><td>S </td><td>sa</td></tr>\n",
       "\t<tr><td>NA  </td><td>NA</td><td>NA</td></tr>\n",
       "\t<tr><td>NA  </td><td>NA</td><td>NA</td></tr>\n",
       "\t<tr><td>Laur</td><td>L </td><td>ur</td></tr>\n",
       "\t<tr><td>Davi</td><td>D </td><td>vi</td></tr>\n",
       "</tbody>\n",
       "</table>\n"
      ],
      "text/latex": [
       "A matrix: 5 × 3 of type chr\n",
       "\\begin{tabular}{lll}\n",
       "\t Susa & S  & sa\\\\\n",
       "\t NA   & NA & NA\\\\\n",
       "\t NA   & NA & NA\\\\\n",
       "\t Laur & L  & ur\\\\\n",
       "\t Davi & D  & vi\\\\\n",
       "\\end{tabular}\n"
      ],
      "text/markdown": [
       "\n",
       "A matrix: 5 × 3 of type chr\n",
       "\n",
       "| Susa | S  | sa |\n",
       "| NA   | NA | NA |\n",
       "| NA   | NA | NA |\n",
       "| Laur | L  | ur |\n",
       "| Davi | D  | vi |\n",
       "\n"
      ],
      "text/plain": [
       "     [,1] [,2] [,3]\n",
       "[1,] Susa S    sa  \n",
       "[2,] NA   NA   NA  \n",
       "[3,] NA   NA   NA  \n",
       "[4,] Laur L    ur  \n",
       "[5,] Davi D    vi  "
      ]
     },
     "metadata": {},
     "output_type": "display_data"
    }
   ],
   "source": [
    "print(data$name)\n",
    "\n",
    "data$name %>% str_match(\"(.)[aeiou](..)\")"
   ]
  },
  {
   "cell_type": "markdown",
   "metadata": {},
   "source": [
    "La función `str_replace` reemplaza las coincidencias por una nueva cadena de caracteres."
   ]
  },
  {
   "cell_type": "code",
   "execution_count": null,
   "metadata": {
    "vscode": {
     "languageId": "r"
    }
   },
   "outputs": [],
   "source": [
    "data$name %>% str_replace(\"[aeiou]\", \"*\")"
   ]
  },
  {
   "cell_type": "code",
   "execution_count": null,
   "metadata": {
    "vscode": {
     "languageId": "r"
    }
   },
   "outputs": [],
   "source": [
    "data$name %>% str_replace_all(\"[aeiou]\", \"*\")"
   ]
  },
  {
   "cell_type": "markdown",
   "metadata": {},
   "source": [
    "La función <s>`strsplit`</s>`str_split` divide una cadena de caracteres en trozos."
   ]
  },
  {
   "cell_type": "code",
   "execution_count": null,
   "metadata": {
    "vscode": {
     "languageId": "r"
    }
   },
   "outputs": [],
   "source": [
    "data$name %>% str_split(\"[aeiou]\")"
   ]
  },
  {
   "cell_type": "markdown",
   "metadata": {},
   "source": [
    "## Ejemplo"
   ]
  },
  {
   "cell_type": "code",
   "execution_count": 55,
   "metadata": {
    "vscode": {
     "languageId": "r"
    }
   },
   "outputs": [
    {
     "name": "stderr",
     "output_type": "stream",
     "text": [
      "Installing package into ‘/home/moisestellezfrancisco/R/x86_64-pc-linux-gnu-library/4.3’\n",
      "(as ‘lib’ is unspecified)\n",
      "\n"
     ]
    }
   ],
   "source": [
    "install.packages(\"ISLR\")"
   ]
  },
  {
   "cell_type": "code",
   "execution_count": 56,
   "metadata": {
    "vscode": {
     "languageId": "r"
    }
   },
   "outputs": [
    {
     "data": {
      "text/html": [
       "<table class=\"dataframe\">\n",
       "<caption>A data.frame: 777 × 18</caption>\n",
       "<thead>\n",
       "\t<tr><th></th><th scope=col>Private</th><th scope=col>Apps</th><th scope=col>Accept</th><th scope=col>Enroll</th><th scope=col>Top10perc</th><th scope=col>Top25perc</th><th scope=col>F.Undergrad</th><th scope=col>P.Undergrad</th><th scope=col>Outstate</th><th scope=col>Room.Board</th><th scope=col>Books</th><th scope=col>Personal</th><th scope=col>PhD</th><th scope=col>Terminal</th><th scope=col>S.F.Ratio</th><th scope=col>perc.alumni</th><th scope=col>Expend</th><th scope=col>Grad.Rate</th></tr>\n",
       "\t<tr><th></th><th scope=col>&lt;fct&gt;</th><th scope=col>&lt;dbl&gt;</th><th scope=col>&lt;dbl&gt;</th><th scope=col>&lt;dbl&gt;</th><th scope=col>&lt;dbl&gt;</th><th scope=col>&lt;dbl&gt;</th><th scope=col>&lt;dbl&gt;</th><th scope=col>&lt;dbl&gt;</th><th scope=col>&lt;dbl&gt;</th><th scope=col>&lt;dbl&gt;</th><th scope=col>&lt;dbl&gt;</th><th scope=col>&lt;dbl&gt;</th><th scope=col>&lt;dbl&gt;</th><th scope=col>&lt;dbl&gt;</th><th scope=col>&lt;dbl&gt;</th><th scope=col>&lt;dbl&gt;</th><th scope=col>&lt;dbl&gt;</th><th scope=col>&lt;dbl&gt;</th></tr>\n",
       "</thead>\n",
       "<tbody>\n",
       "\t<tr><th scope=row>Abilene Christian University</th><td>Yes</td><td> 1660</td><td> 1232</td><td> 721</td><td>23</td><td>52</td><td> 2885</td><td> 537</td><td> 7440</td><td>3300</td><td>450</td><td>2200</td><td>70</td><td> 78</td><td>18.1</td><td>12</td><td> 7041</td><td> 60</td></tr>\n",
       "\t<tr><th scope=row>Adelphi University</th><td>Yes</td><td> 2186</td><td> 1924</td><td> 512</td><td>16</td><td>29</td><td> 2683</td><td>1227</td><td>12280</td><td>6450</td><td>750</td><td>1500</td><td>29</td><td> 30</td><td>12.2</td><td>16</td><td>10527</td><td> 56</td></tr>\n",
       "\t<tr><th scope=row>Adrian College</th><td>Yes</td><td> 1428</td><td> 1097</td><td> 336</td><td>22</td><td>50</td><td> 1036</td><td>  99</td><td>11250</td><td>3750</td><td>400</td><td>1165</td><td>53</td><td> 66</td><td>12.9</td><td>30</td><td> 8735</td><td> 54</td></tr>\n",
       "\t<tr><th scope=row>Agnes Scott College</th><td>Yes</td><td>  417</td><td>  349</td><td> 137</td><td>60</td><td>89</td><td>  510</td><td>  63</td><td>12960</td><td>5450</td><td>450</td><td> 875</td><td>92</td><td> 97</td><td> 7.7</td><td>37</td><td>19016</td><td> 59</td></tr>\n",
       "\t<tr><th scope=row>Alaska Pacific University</th><td>Yes</td><td>  193</td><td>  146</td><td>  55</td><td>16</td><td>44</td><td>  249</td><td> 869</td><td> 7560</td><td>4120</td><td>800</td><td>1500</td><td>76</td><td> 72</td><td>11.9</td><td> 2</td><td>10922</td><td> 15</td></tr>\n",
       "\t<tr><th scope=row>Albertson College</th><td>Yes</td><td>  587</td><td>  479</td><td> 158</td><td>38</td><td>62</td><td>  678</td><td>  41</td><td>13500</td><td>3335</td><td>500</td><td> 675</td><td>67</td><td> 73</td><td> 9.4</td><td>11</td><td> 9727</td><td> 55</td></tr>\n",
       "\t<tr><th scope=row>Albertus Magnus College</th><td>Yes</td><td>  353</td><td>  340</td><td> 103</td><td>17</td><td>45</td><td>  416</td><td> 230</td><td>13290</td><td>5720</td><td>500</td><td>1500</td><td>90</td><td> 93</td><td>11.5</td><td>26</td><td> 8861</td><td> 63</td></tr>\n",
       "\t<tr><th scope=row>Albion College</th><td>Yes</td><td> 1899</td><td> 1720</td><td> 489</td><td>37</td><td>68</td><td> 1594</td><td>  32</td><td>13868</td><td>4826</td><td>450</td><td> 850</td><td>89</td><td>100</td><td>13.7</td><td>37</td><td>11487</td><td> 73</td></tr>\n",
       "\t<tr><th scope=row>Albright College</th><td>Yes</td><td> 1038</td><td>  839</td><td> 227</td><td>30</td><td>63</td><td>  973</td><td> 306</td><td>15595</td><td>4400</td><td>300</td><td> 500</td><td>79</td><td> 84</td><td>11.3</td><td>23</td><td>11644</td><td> 80</td></tr>\n",
       "\t<tr><th scope=row>Alderson-Broaddus College</th><td>Yes</td><td>  582</td><td>  498</td><td> 172</td><td>21</td><td>44</td><td>  799</td><td>  78</td><td>10468</td><td>3380</td><td>660</td><td>1800</td><td>40</td><td> 41</td><td>11.5</td><td>15</td><td> 8991</td><td> 52</td></tr>\n",
       "\t<tr><th scope=row>Alfred University</th><td>Yes</td><td> 1732</td><td> 1425</td><td> 472</td><td>37</td><td>75</td><td> 1830</td><td> 110</td><td>16548</td><td>5406</td><td>500</td><td> 600</td><td>82</td><td> 88</td><td>11.3</td><td>31</td><td>10932</td><td> 73</td></tr>\n",
       "\t<tr><th scope=row>Allegheny College</th><td>Yes</td><td> 2652</td><td> 1900</td><td> 484</td><td>44</td><td>77</td><td> 1707</td><td>  44</td><td>17080</td><td>4440</td><td>400</td><td> 600</td><td>73</td><td> 91</td><td> 9.9</td><td>41</td><td>11711</td><td> 76</td></tr>\n",
       "\t<tr><th scope=row>Allentown Coll. of St. Francis de Sales</th><td>Yes</td><td> 1179</td><td>  780</td><td> 290</td><td>38</td><td>64</td><td> 1130</td><td> 638</td><td> 9690</td><td>4785</td><td>600</td><td>1000</td><td>60</td><td> 84</td><td>13.3</td><td>21</td><td> 7940</td><td> 74</td></tr>\n",
       "\t<tr><th scope=row>Alma College</th><td>Yes</td><td> 1267</td><td> 1080</td><td> 385</td><td>44</td><td>73</td><td> 1306</td><td>  28</td><td>12572</td><td>4552</td><td>400</td><td> 400</td><td>79</td><td> 87</td><td>15.3</td><td>32</td><td> 9305</td><td> 68</td></tr>\n",
       "\t<tr><th scope=row>Alverno College</th><td>Yes</td><td>  494</td><td>  313</td><td> 157</td><td>23</td><td>46</td><td> 1317</td><td>1235</td><td> 8352</td><td>3640</td><td>650</td><td>2449</td><td>36</td><td> 69</td><td>11.1</td><td>26</td><td> 8127</td><td> 55</td></tr>\n",
       "\t<tr><th scope=row>American International College</th><td>Yes</td><td> 1420</td><td> 1093</td><td> 220</td><td> 9</td><td>22</td><td> 1018</td><td> 287</td><td> 8700</td><td>4780</td><td>450</td><td>1400</td><td>78</td><td> 84</td><td>14.7</td><td>19</td><td> 7355</td><td> 69</td></tr>\n",
       "\t<tr><th scope=row>Amherst College</th><td>Yes</td><td> 4302</td><td>  992</td><td> 418</td><td>83</td><td>96</td><td> 1593</td><td>   5</td><td>19760</td><td>5300</td><td>660</td><td>1598</td><td>93</td><td> 98</td><td> 8.4</td><td>63</td><td>21424</td><td>100</td></tr>\n",
       "\t<tr><th scope=row>Anderson University</th><td>Yes</td><td> 1216</td><td>  908</td><td> 423</td><td>19</td><td>40</td><td> 1819</td><td> 281</td><td>10100</td><td>3520</td><td>550</td><td>1100</td><td>48</td><td> 61</td><td>12.1</td><td>14</td><td> 7994</td><td> 59</td></tr>\n",
       "\t<tr><th scope=row>Andrews University</th><td>Yes</td><td> 1130</td><td>  704</td><td> 322</td><td>14</td><td>23</td><td> 1586</td><td> 326</td><td> 9996</td><td>3090</td><td>900</td><td>1320</td><td>62</td><td> 66</td><td>11.5</td><td>18</td><td>10908</td><td> 46</td></tr>\n",
       "\t<tr><th scope=row>Angelo State University</th><td>No </td><td> 3540</td><td> 2001</td><td>1016</td><td>24</td><td>54</td><td> 4190</td><td>1512</td><td> 5130</td><td>3592</td><td>500</td><td>2000</td><td>60</td><td> 62</td><td>23.1</td><td> 5</td><td> 4010</td><td> 34</td></tr>\n",
       "\t<tr><th scope=row>Antioch University</th><td>Yes</td><td>  713</td><td>  661</td><td> 252</td><td>25</td><td>44</td><td>  712</td><td>  23</td><td>15476</td><td>3336</td><td>400</td><td>1100</td><td>69</td><td> 82</td><td>11.3</td><td>35</td><td>42926</td><td> 48</td></tr>\n",
       "\t<tr><th scope=row>Appalachian State University</th><td>No </td><td> 7313</td><td> 4664</td><td>1910</td><td>20</td><td>63</td><td> 9940</td><td>1035</td><td> 6806</td><td>2540</td><td> 96</td><td>2000</td><td>83</td><td> 96</td><td>18.3</td><td>14</td><td> 5854</td><td> 70</td></tr>\n",
       "\t<tr><th scope=row>Aquinas College</th><td>Yes</td><td>  619</td><td>  516</td><td> 219</td><td>20</td><td>51</td><td> 1251</td><td> 767</td><td>11208</td><td>4124</td><td>350</td><td>1615</td><td>55</td><td> 65</td><td>12.7</td><td>25</td><td> 6584</td><td> 65</td></tr>\n",
       "\t<tr><th scope=row>Arizona State University Main campus</th><td>No </td><td>12809</td><td>10308</td><td>3761</td><td>24</td><td>49</td><td>22593</td><td>7585</td><td> 7434</td><td>4850</td><td>700</td><td>2100</td><td>88</td><td> 93</td><td>18.9</td><td> 5</td><td> 4602</td><td> 48</td></tr>\n",
       "\t<tr><th scope=row>Arkansas College (Lyon College)</th><td>Yes</td><td>  708</td><td>  334</td><td> 166</td><td>46</td><td>74</td><td>  530</td><td> 182</td><td> 8644</td><td>3922</td><td>500</td><td> 800</td><td>79</td><td> 88</td><td>12.6</td><td>24</td><td>14579</td><td> 54</td></tr>\n",
       "\t<tr><th scope=row>Arkansas Tech University</th><td>No </td><td> 1734</td><td> 1729</td><td> 951</td><td>12</td><td>52</td><td> 3602</td><td> 939</td><td> 3460</td><td>2650</td><td>450</td><td>1000</td><td>57</td><td> 60</td><td>19.6</td><td> 5</td><td> 4739</td><td> 48</td></tr>\n",
       "\t<tr><th scope=row>Assumption College</th><td>Yes</td><td> 2135</td><td> 1700</td><td> 491</td><td>23</td><td>59</td><td> 1708</td><td> 689</td><td>12000</td><td>5920</td><td>500</td><td> 500</td><td>93</td><td> 93</td><td>13.8</td><td>30</td><td> 7100</td><td> 88</td></tr>\n",
       "\t<tr><th scope=row>Auburn University-Main Campus</th><td>No </td><td> 7548</td><td> 6791</td><td>3070</td><td>25</td><td>57</td><td>16262</td><td>1716</td><td> 6300</td><td>3933</td><td>600</td><td>1908</td><td>85</td><td> 91</td><td>16.7</td><td>18</td><td> 6642</td><td> 69</td></tr>\n",
       "\t<tr><th scope=row>Augsburg College</th><td>Yes</td><td>  662</td><td>  513</td><td> 257</td><td>12</td><td>30</td><td> 2074</td><td> 726</td><td>11902</td><td>4372</td><td>540</td><td> 950</td><td>65</td><td> 65</td><td>12.8</td><td>31</td><td> 7836</td><td> 58</td></tr>\n",
       "\t<tr><th scope=row>Augustana College IL</th><td>Yes</td><td> 1879</td><td> 1658</td><td> 497</td><td>36</td><td>69</td><td> 1950</td><td>  38</td><td>13353</td><td>4173</td><td>540</td><td> 821</td><td>78</td><td> 83</td><td>12.7</td><td>40</td><td> 9220</td><td> 71</td></tr>\n",
       "\t<tr><th scope=row>⋮</th><td>⋮</td><td>⋮</td><td>⋮</td><td>⋮</td><td>⋮</td><td>⋮</td><td>⋮</td><td>⋮</td><td>⋮</td><td>⋮</td><td>⋮</td><td>⋮</td><td>⋮</td><td>⋮</td><td>⋮</td><td>⋮</td><td>⋮</td><td>⋮</td></tr>\n",
       "\t<tr><th scope=row>Westfield State College</th><td>No </td><td> 3100</td><td>2150</td><td> 825</td><td> 3</td><td>20</td><td>3234</td><td> 941</td><td> 5542</td><td>3788</td><td>500</td><td>1300</td><td>75</td><td>79</td><td>15.7</td><td>20</td><td> 4222</td><td>65</td></tr>\n",
       "\t<tr><th scope=row>Westminster College MO</th><td>Yes</td><td>  662</td><td> 553</td><td> 184</td><td>20</td><td>43</td><td> 665</td><td>  37</td><td>10720</td><td>4050</td><td>600</td><td>1650</td><td>66</td><td>70</td><td>12.5</td><td>20</td><td> 7925</td><td>62</td></tr>\n",
       "\t<tr><th scope=row>Westminster College</th><td>Yes</td><td>  996</td><td> 866</td><td> 377</td><td>29</td><td>58</td><td>1411</td><td>  72</td><td>12065</td><td>3615</td><td>430</td><td> 685</td><td>62</td><td>78</td><td>12.5</td><td>41</td><td> 8596</td><td>80</td></tr>\n",
       "\t<tr><th scope=row>Westminster College of Salt Lake City</th><td>Yes</td><td>  917</td><td> 720</td><td> 213</td><td>21</td><td>60</td><td> 979</td><td> 743</td><td> 8820</td><td>4050</td><td>600</td><td>2025</td><td>68</td><td>83</td><td>10.5</td><td>34</td><td> 7170</td><td>50</td></tr>\n",
       "\t<tr><th scope=row>Westmont College</th><td>No </td><td>  950</td><td> 713</td><td> 351</td><td>42</td><td>72</td><td>1276</td><td>   9</td><td>14320</td><td>5304</td><td>490</td><td>1410</td><td>77</td><td>77</td><td>14.9</td><td>17</td><td> 8837</td><td>87</td></tr>\n",
       "\t<tr><th scope=row>Wheaton College IL</th><td>Yes</td><td> 1432</td><td> 920</td><td> 548</td><td>56</td><td>84</td><td>2200</td><td>  56</td><td>11480</td><td>4200</td><td>530</td><td>1400</td><td>81</td><td>83</td><td>12.7</td><td>40</td><td>11916</td><td>85</td></tr>\n",
       "\t<tr><th scope=row>Westminster College PA</th><td>Yes</td><td> 1738</td><td>1373</td><td> 417</td><td>21</td><td>55</td><td>1335</td><td>  30</td><td>18460</td><td>5970</td><td>700</td><td> 850</td><td>92</td><td>96</td><td>13.2</td><td>41</td><td>22704</td><td>71</td></tr>\n",
       "\t<tr><th scope=row>Wheeling Jesuit College</th><td>Yes</td><td>  903</td><td> 755</td><td> 213</td><td>15</td><td>49</td><td> 971</td><td> 305</td><td>10500</td><td>4545</td><td>600</td><td> 600</td><td>66</td><td>71</td><td>14.1</td><td>27</td><td> 7494</td><td>72</td></tr>\n",
       "\t<tr><th scope=row>Whitman College</th><td>Yes</td><td> 1861</td><td> 998</td><td> 359</td><td>45</td><td>77</td><td>1220</td><td>  46</td><td>16670</td><td>4900</td><td>750</td><td> 800</td><td>80</td><td>83</td><td>10.5</td><td>51</td><td>13198</td><td>72</td></tr>\n",
       "\t<tr><th scope=row>Whittier College</th><td>Yes</td><td> 1681</td><td>1069</td><td> 344</td><td>35</td><td>63</td><td>1235</td><td>  30</td><td>16249</td><td>5699</td><td>500</td><td>1998</td><td>84</td><td>92</td><td>13.6</td><td>29</td><td>11778</td><td>52</td></tr>\n",
       "\t<tr><th scope=row>Whitworth College</th><td>Yes</td><td> 1121</td><td> 926</td><td> 372</td><td>43</td><td>70</td><td>1270</td><td> 160</td><td>12660</td><td>4500</td><td>678</td><td>2424</td><td>80</td><td>80</td><td>16.9</td><td>20</td><td> 8328</td><td>80</td></tr>\n",
       "\t<tr><th scope=row>Widener University</th><td>Yes</td><td> 2139</td><td>1492</td><td> 502</td><td>24</td><td>64</td><td>2186</td><td>2171</td><td>12350</td><td>5370</td><td>500</td><td>1350</td><td>88</td><td>86</td><td>12.6</td><td>19</td><td> 9603</td><td>63</td></tr>\n",
       "\t<tr><th scope=row>Wilkes University</th><td>Yes</td><td> 1631</td><td>1431</td><td> 434</td><td>15</td><td>36</td><td>1803</td><td> 603</td><td>11150</td><td>5130</td><td>550</td><td>1260</td><td>78</td><td>92</td><td>13.3</td><td>24</td><td> 8543</td><td>67</td></tr>\n",
       "\t<tr><th scope=row>Willamette University</th><td>Yes</td><td> 1658</td><td>1327</td><td> 395</td><td>49</td><td>80</td><td>1595</td><td> 159</td><td>14800</td><td>4620</td><td>400</td><td> 790</td><td>91</td><td>94</td><td>13.3</td><td>37</td><td>10779</td><td>68</td></tr>\n",
       "\t<tr><th scope=row>William Jewell College</th><td>Yes</td><td>  663</td><td> 547</td><td> 315</td><td>32</td><td>67</td><td>1279</td><td>  75</td><td>10060</td><td>2970</td><td>500</td><td>2600</td><td>74</td><td>80</td><td>11.2</td><td>19</td><td> 7885</td><td>59</td></tr>\n",
       "\t<tr><th scope=row>William Woods University</th><td>Yes</td><td>  469</td><td> 435</td><td> 227</td><td>17</td><td>39</td><td> 851</td><td> 120</td><td>10535</td><td>4365</td><td>550</td><td>3700</td><td>39</td><td>66</td><td>12.9</td><td>16</td><td> 7438</td><td>52</td></tr>\n",
       "\t<tr><th scope=row>Williams College</th><td>Yes</td><td> 4186</td><td>1245</td><td> 526</td><td>81</td><td>96</td><td>1988</td><td>  29</td><td>19629</td><td>5790</td><td>500</td><td>1200</td><td>94</td><td>99</td><td> 9.0</td><td>64</td><td>22014</td><td>99</td></tr>\n",
       "\t<tr><th scope=row>Wilson College</th><td>Yes</td><td>  167</td><td> 130</td><td>  46</td><td>16</td><td>50</td><td> 199</td><td> 676</td><td>11428</td><td>5084</td><td>450</td><td> 475</td><td>67</td><td>76</td><td> 8.3</td><td>43</td><td>10291</td><td>67</td></tr>\n",
       "\t<tr><th scope=row>Wingate College</th><td>Yes</td><td> 1239</td><td>1017</td><td> 383</td><td>10</td><td>34</td><td>1207</td><td> 157</td><td> 7820</td><td>3400</td><td>550</td><td>1550</td><td>69</td><td>81</td><td>13.9</td><td> 8</td><td> 7264</td><td>91</td></tr>\n",
       "\t<tr><th scope=row>Winona State University</th><td>No </td><td> 3325</td><td>2047</td><td>1301</td><td>20</td><td>45</td><td>5800</td><td> 872</td><td> 4200</td><td>2700</td><td>300</td><td>1200</td><td>53</td><td>60</td><td>20.2</td><td>18</td><td> 5318</td><td>58</td></tr>\n",
       "\t<tr><th scope=row>Winthrop University</th><td>No </td><td> 2320</td><td>1805</td><td> 769</td><td>24</td><td>61</td><td>3395</td><td> 670</td><td> 6400</td><td>3392</td><td>580</td><td>2150</td><td>71</td><td>80</td><td>12.8</td><td>26</td><td> 6729</td><td>59</td></tr>\n",
       "\t<tr><th scope=row>Wisconsin Lutheran College</th><td>Yes</td><td>  152</td><td> 128</td><td>  75</td><td>17</td><td>41</td><td> 282</td><td>  22</td><td> 9100</td><td>3700</td><td>500</td><td>1400</td><td>48</td><td>48</td><td> 8.5</td><td>26</td><td> 8960</td><td>50</td></tr>\n",
       "\t<tr><th scope=row>Wittenberg University</th><td>Yes</td><td> 1979</td><td>1739</td><td> 575</td><td>42</td><td>68</td><td>1980</td><td> 144</td><td>15948</td><td>4404</td><td>400</td><td> 800</td><td>82</td><td>95</td><td>12.8</td><td>29</td><td>10414</td><td>78</td></tr>\n",
       "\t<tr><th scope=row>Wofford College</th><td>Yes</td><td> 1501</td><td> 935</td><td> 273</td><td>51</td><td>83</td><td>1059</td><td>  34</td><td>12680</td><td>4150</td><td>605</td><td>1440</td><td>91</td><td>92</td><td>15.3</td><td>42</td><td> 7875</td><td>75</td></tr>\n",
       "\t<tr><th scope=row>Worcester Polytechnic Institute</th><td>Yes</td><td> 2768</td><td>2314</td><td> 682</td><td>49</td><td>86</td><td>2802</td><td>  86</td><td>15884</td><td>5370</td><td>530</td><td> 730</td><td>92</td><td>94</td><td>15.2</td><td>34</td><td>10774</td><td>82</td></tr>\n",
       "\t<tr><th scope=row>Worcester State College</th><td>No </td><td> 2197</td><td>1515</td><td> 543</td><td> 4</td><td>26</td><td>3089</td><td>2029</td><td> 6797</td><td>3900</td><td>500</td><td>1200</td><td>60</td><td>60</td><td>21.0</td><td>14</td><td> 4469</td><td>40</td></tr>\n",
       "\t<tr><th scope=row>Xavier University</th><td>Yes</td><td> 1959</td><td>1805</td><td> 695</td><td>24</td><td>47</td><td>2849</td><td>1107</td><td>11520</td><td>4960</td><td>600</td><td>1250</td><td>73</td><td>75</td><td>13.3</td><td>31</td><td> 9189</td><td>83</td></tr>\n",
       "\t<tr><th scope=row>Xavier University of Louisiana</th><td>Yes</td><td> 2097</td><td>1915</td><td> 695</td><td>34</td><td>61</td><td>2793</td><td> 166</td><td> 6900</td><td>4200</td><td>617</td><td> 781</td><td>67</td><td>75</td><td>14.4</td><td>20</td><td> 8323</td><td>49</td></tr>\n",
       "\t<tr><th scope=row>Yale University</th><td>Yes</td><td>10705</td><td>2453</td><td>1317</td><td>95</td><td>99</td><td>5217</td><td>  83</td><td>19840</td><td>6510</td><td>630</td><td>2115</td><td>96</td><td>96</td><td> 5.8</td><td>49</td><td>40386</td><td>99</td></tr>\n",
       "\t<tr><th scope=row>York College of Pennsylvania</th><td>Yes</td><td> 2989</td><td>1855</td><td> 691</td><td>28</td><td>63</td><td>2988</td><td>1726</td><td> 4990</td><td>3560</td><td>500</td><td>1250</td><td>75</td><td>75</td><td>18.1</td><td>28</td><td> 4509</td><td>99</td></tr>\n",
       "</tbody>\n",
       "</table>\n"
      ],
      "text/latex": [
       "A data.frame: 777 × 18\n",
       "\\begin{tabular}{r|llllllllllllllllll}\n",
       "  & Private & Apps & Accept & Enroll & Top10perc & Top25perc & F.Undergrad & P.Undergrad & Outstate & Room.Board & Books & Personal & PhD & Terminal & S.F.Ratio & perc.alumni & Expend & Grad.Rate\\\\\n",
       "  & <fct> & <dbl> & <dbl> & <dbl> & <dbl> & <dbl> & <dbl> & <dbl> & <dbl> & <dbl> & <dbl> & <dbl> & <dbl> & <dbl> & <dbl> & <dbl> & <dbl> & <dbl>\\\\\n",
       "\\hline\n",
       "\tAbilene Christian University & Yes &  1660 &  1232 &  721 & 23 & 52 &  2885 &  537 &  7440 & 3300 & 450 & 2200 & 70 &  78 & 18.1 & 12 &  7041 &  60\\\\\n",
       "\tAdelphi University & Yes &  2186 &  1924 &  512 & 16 & 29 &  2683 & 1227 & 12280 & 6450 & 750 & 1500 & 29 &  30 & 12.2 & 16 & 10527 &  56\\\\\n",
       "\tAdrian College & Yes &  1428 &  1097 &  336 & 22 & 50 &  1036 &   99 & 11250 & 3750 & 400 & 1165 & 53 &  66 & 12.9 & 30 &  8735 &  54\\\\\n",
       "\tAgnes Scott College & Yes &   417 &   349 &  137 & 60 & 89 &   510 &   63 & 12960 & 5450 & 450 &  875 & 92 &  97 &  7.7 & 37 & 19016 &  59\\\\\n",
       "\tAlaska Pacific University & Yes &   193 &   146 &   55 & 16 & 44 &   249 &  869 &  7560 & 4120 & 800 & 1500 & 76 &  72 & 11.9 &  2 & 10922 &  15\\\\\n",
       "\tAlbertson College & Yes &   587 &   479 &  158 & 38 & 62 &   678 &   41 & 13500 & 3335 & 500 &  675 & 67 &  73 &  9.4 & 11 &  9727 &  55\\\\\n",
       "\tAlbertus Magnus College & Yes &   353 &   340 &  103 & 17 & 45 &   416 &  230 & 13290 & 5720 & 500 & 1500 & 90 &  93 & 11.5 & 26 &  8861 &  63\\\\\n",
       "\tAlbion College & Yes &  1899 &  1720 &  489 & 37 & 68 &  1594 &   32 & 13868 & 4826 & 450 &  850 & 89 & 100 & 13.7 & 37 & 11487 &  73\\\\\n",
       "\tAlbright College & Yes &  1038 &   839 &  227 & 30 & 63 &   973 &  306 & 15595 & 4400 & 300 &  500 & 79 &  84 & 11.3 & 23 & 11644 &  80\\\\\n",
       "\tAlderson-Broaddus College & Yes &   582 &   498 &  172 & 21 & 44 &   799 &   78 & 10468 & 3380 & 660 & 1800 & 40 &  41 & 11.5 & 15 &  8991 &  52\\\\\n",
       "\tAlfred University & Yes &  1732 &  1425 &  472 & 37 & 75 &  1830 &  110 & 16548 & 5406 & 500 &  600 & 82 &  88 & 11.3 & 31 & 10932 &  73\\\\\n",
       "\tAllegheny College & Yes &  2652 &  1900 &  484 & 44 & 77 &  1707 &   44 & 17080 & 4440 & 400 &  600 & 73 &  91 &  9.9 & 41 & 11711 &  76\\\\\n",
       "\tAllentown Coll. of St. Francis de Sales & Yes &  1179 &   780 &  290 & 38 & 64 &  1130 &  638 &  9690 & 4785 & 600 & 1000 & 60 &  84 & 13.3 & 21 &  7940 &  74\\\\\n",
       "\tAlma College & Yes &  1267 &  1080 &  385 & 44 & 73 &  1306 &   28 & 12572 & 4552 & 400 &  400 & 79 &  87 & 15.3 & 32 &  9305 &  68\\\\\n",
       "\tAlverno College & Yes &   494 &   313 &  157 & 23 & 46 &  1317 & 1235 &  8352 & 3640 & 650 & 2449 & 36 &  69 & 11.1 & 26 &  8127 &  55\\\\\n",
       "\tAmerican International College & Yes &  1420 &  1093 &  220 &  9 & 22 &  1018 &  287 &  8700 & 4780 & 450 & 1400 & 78 &  84 & 14.7 & 19 &  7355 &  69\\\\\n",
       "\tAmherst College & Yes &  4302 &   992 &  418 & 83 & 96 &  1593 &    5 & 19760 & 5300 & 660 & 1598 & 93 &  98 &  8.4 & 63 & 21424 & 100\\\\\n",
       "\tAnderson University & Yes &  1216 &   908 &  423 & 19 & 40 &  1819 &  281 & 10100 & 3520 & 550 & 1100 & 48 &  61 & 12.1 & 14 &  7994 &  59\\\\\n",
       "\tAndrews University & Yes &  1130 &   704 &  322 & 14 & 23 &  1586 &  326 &  9996 & 3090 & 900 & 1320 & 62 &  66 & 11.5 & 18 & 10908 &  46\\\\\n",
       "\tAngelo State University & No  &  3540 &  2001 & 1016 & 24 & 54 &  4190 & 1512 &  5130 & 3592 & 500 & 2000 & 60 &  62 & 23.1 &  5 &  4010 &  34\\\\\n",
       "\tAntioch University & Yes &   713 &   661 &  252 & 25 & 44 &   712 &   23 & 15476 & 3336 & 400 & 1100 & 69 &  82 & 11.3 & 35 & 42926 &  48\\\\\n",
       "\tAppalachian State University & No  &  7313 &  4664 & 1910 & 20 & 63 &  9940 & 1035 &  6806 & 2540 &  96 & 2000 & 83 &  96 & 18.3 & 14 &  5854 &  70\\\\\n",
       "\tAquinas College & Yes &   619 &   516 &  219 & 20 & 51 &  1251 &  767 & 11208 & 4124 & 350 & 1615 & 55 &  65 & 12.7 & 25 &  6584 &  65\\\\\n",
       "\tArizona State University Main campus & No  & 12809 & 10308 & 3761 & 24 & 49 & 22593 & 7585 &  7434 & 4850 & 700 & 2100 & 88 &  93 & 18.9 &  5 &  4602 &  48\\\\\n",
       "\tArkansas College (Lyon College) & Yes &   708 &   334 &  166 & 46 & 74 &   530 &  182 &  8644 & 3922 & 500 &  800 & 79 &  88 & 12.6 & 24 & 14579 &  54\\\\\n",
       "\tArkansas Tech University & No  &  1734 &  1729 &  951 & 12 & 52 &  3602 &  939 &  3460 & 2650 & 450 & 1000 & 57 &  60 & 19.6 &  5 &  4739 &  48\\\\\n",
       "\tAssumption College & Yes &  2135 &  1700 &  491 & 23 & 59 &  1708 &  689 & 12000 & 5920 & 500 &  500 & 93 &  93 & 13.8 & 30 &  7100 &  88\\\\\n",
       "\tAuburn University-Main Campus & No  &  7548 &  6791 & 3070 & 25 & 57 & 16262 & 1716 &  6300 & 3933 & 600 & 1908 & 85 &  91 & 16.7 & 18 &  6642 &  69\\\\\n",
       "\tAugsburg College & Yes &   662 &   513 &  257 & 12 & 30 &  2074 &  726 & 11902 & 4372 & 540 &  950 & 65 &  65 & 12.8 & 31 &  7836 &  58\\\\\n",
       "\tAugustana College IL & Yes &  1879 &  1658 &  497 & 36 & 69 &  1950 &   38 & 13353 & 4173 & 540 &  821 & 78 &  83 & 12.7 & 40 &  9220 &  71\\\\\n",
       "\t⋮ & ⋮ & ⋮ & ⋮ & ⋮ & ⋮ & ⋮ & ⋮ & ⋮ & ⋮ & ⋮ & ⋮ & ⋮ & ⋮ & ⋮ & ⋮ & ⋮ & ⋮ & ⋮\\\\\n",
       "\tWestfield State College & No  &  3100 & 2150 &  825 &  3 & 20 & 3234 &  941 &  5542 & 3788 & 500 & 1300 & 75 & 79 & 15.7 & 20 &  4222 & 65\\\\\n",
       "\tWestminster College MO & Yes &   662 &  553 &  184 & 20 & 43 &  665 &   37 & 10720 & 4050 & 600 & 1650 & 66 & 70 & 12.5 & 20 &  7925 & 62\\\\\n",
       "\tWestminster College & Yes &   996 &  866 &  377 & 29 & 58 & 1411 &   72 & 12065 & 3615 & 430 &  685 & 62 & 78 & 12.5 & 41 &  8596 & 80\\\\\n",
       "\tWestminster College of Salt Lake City & Yes &   917 &  720 &  213 & 21 & 60 &  979 &  743 &  8820 & 4050 & 600 & 2025 & 68 & 83 & 10.5 & 34 &  7170 & 50\\\\\n",
       "\tWestmont College & No  &   950 &  713 &  351 & 42 & 72 & 1276 &    9 & 14320 & 5304 & 490 & 1410 & 77 & 77 & 14.9 & 17 &  8837 & 87\\\\\n",
       "\tWheaton College IL & Yes &  1432 &  920 &  548 & 56 & 84 & 2200 &   56 & 11480 & 4200 & 530 & 1400 & 81 & 83 & 12.7 & 40 & 11916 & 85\\\\\n",
       "\tWestminster College PA & Yes &  1738 & 1373 &  417 & 21 & 55 & 1335 &   30 & 18460 & 5970 & 700 &  850 & 92 & 96 & 13.2 & 41 & 22704 & 71\\\\\n",
       "\tWheeling Jesuit College & Yes &   903 &  755 &  213 & 15 & 49 &  971 &  305 & 10500 & 4545 & 600 &  600 & 66 & 71 & 14.1 & 27 &  7494 & 72\\\\\n",
       "\tWhitman College & Yes &  1861 &  998 &  359 & 45 & 77 & 1220 &   46 & 16670 & 4900 & 750 &  800 & 80 & 83 & 10.5 & 51 & 13198 & 72\\\\\n",
       "\tWhittier College & Yes &  1681 & 1069 &  344 & 35 & 63 & 1235 &   30 & 16249 & 5699 & 500 & 1998 & 84 & 92 & 13.6 & 29 & 11778 & 52\\\\\n",
       "\tWhitworth College & Yes &  1121 &  926 &  372 & 43 & 70 & 1270 &  160 & 12660 & 4500 & 678 & 2424 & 80 & 80 & 16.9 & 20 &  8328 & 80\\\\\n",
       "\tWidener University & Yes &  2139 & 1492 &  502 & 24 & 64 & 2186 & 2171 & 12350 & 5370 & 500 & 1350 & 88 & 86 & 12.6 & 19 &  9603 & 63\\\\\n",
       "\tWilkes University & Yes &  1631 & 1431 &  434 & 15 & 36 & 1803 &  603 & 11150 & 5130 & 550 & 1260 & 78 & 92 & 13.3 & 24 &  8543 & 67\\\\\n",
       "\tWillamette University & Yes &  1658 & 1327 &  395 & 49 & 80 & 1595 &  159 & 14800 & 4620 & 400 &  790 & 91 & 94 & 13.3 & 37 & 10779 & 68\\\\\n",
       "\tWilliam Jewell College & Yes &   663 &  547 &  315 & 32 & 67 & 1279 &   75 & 10060 & 2970 & 500 & 2600 & 74 & 80 & 11.2 & 19 &  7885 & 59\\\\\n",
       "\tWilliam Woods University & Yes &   469 &  435 &  227 & 17 & 39 &  851 &  120 & 10535 & 4365 & 550 & 3700 & 39 & 66 & 12.9 & 16 &  7438 & 52\\\\\n",
       "\tWilliams College & Yes &  4186 & 1245 &  526 & 81 & 96 & 1988 &   29 & 19629 & 5790 & 500 & 1200 & 94 & 99 &  9.0 & 64 & 22014 & 99\\\\\n",
       "\tWilson College & Yes &   167 &  130 &   46 & 16 & 50 &  199 &  676 & 11428 & 5084 & 450 &  475 & 67 & 76 &  8.3 & 43 & 10291 & 67\\\\\n",
       "\tWingate College & Yes &  1239 & 1017 &  383 & 10 & 34 & 1207 &  157 &  7820 & 3400 & 550 & 1550 & 69 & 81 & 13.9 &  8 &  7264 & 91\\\\\n",
       "\tWinona State University & No  &  3325 & 2047 & 1301 & 20 & 45 & 5800 &  872 &  4200 & 2700 & 300 & 1200 & 53 & 60 & 20.2 & 18 &  5318 & 58\\\\\n",
       "\tWinthrop University & No  &  2320 & 1805 &  769 & 24 & 61 & 3395 &  670 &  6400 & 3392 & 580 & 2150 & 71 & 80 & 12.8 & 26 &  6729 & 59\\\\\n",
       "\tWisconsin Lutheran College & Yes &   152 &  128 &   75 & 17 & 41 &  282 &   22 &  9100 & 3700 & 500 & 1400 & 48 & 48 &  8.5 & 26 &  8960 & 50\\\\\n",
       "\tWittenberg University & Yes &  1979 & 1739 &  575 & 42 & 68 & 1980 &  144 & 15948 & 4404 & 400 &  800 & 82 & 95 & 12.8 & 29 & 10414 & 78\\\\\n",
       "\tWofford College & Yes &  1501 &  935 &  273 & 51 & 83 & 1059 &   34 & 12680 & 4150 & 605 & 1440 & 91 & 92 & 15.3 & 42 &  7875 & 75\\\\\n",
       "\tWorcester Polytechnic Institute & Yes &  2768 & 2314 &  682 & 49 & 86 & 2802 &   86 & 15884 & 5370 & 530 &  730 & 92 & 94 & 15.2 & 34 & 10774 & 82\\\\\n",
       "\tWorcester State College & No  &  2197 & 1515 &  543 &  4 & 26 & 3089 & 2029 &  6797 & 3900 & 500 & 1200 & 60 & 60 & 21.0 & 14 &  4469 & 40\\\\\n",
       "\tXavier University & Yes &  1959 & 1805 &  695 & 24 & 47 & 2849 & 1107 & 11520 & 4960 & 600 & 1250 & 73 & 75 & 13.3 & 31 &  9189 & 83\\\\\n",
       "\tXavier University of Louisiana & Yes &  2097 & 1915 &  695 & 34 & 61 & 2793 &  166 &  6900 & 4200 & 617 &  781 & 67 & 75 & 14.4 & 20 &  8323 & 49\\\\\n",
       "\tYale University & Yes & 10705 & 2453 & 1317 & 95 & 99 & 5217 &   83 & 19840 & 6510 & 630 & 2115 & 96 & 96 &  5.8 & 49 & 40386 & 99\\\\\n",
       "\tYork College of Pennsylvania & Yes &  2989 & 1855 &  691 & 28 & 63 & 2988 & 1726 &  4990 & 3560 & 500 & 1250 & 75 & 75 & 18.1 & 28 &  4509 & 99\\\\\n",
       "\\end{tabular}\n"
      ],
      "text/markdown": [
       "\n",
       "A data.frame: 777 × 18\n",
       "\n",
       "| <!--/--> | Private &lt;fct&gt; | Apps &lt;dbl&gt; | Accept &lt;dbl&gt; | Enroll &lt;dbl&gt; | Top10perc &lt;dbl&gt; | Top25perc &lt;dbl&gt; | F.Undergrad &lt;dbl&gt; | P.Undergrad &lt;dbl&gt; | Outstate &lt;dbl&gt; | Room.Board &lt;dbl&gt; | Books &lt;dbl&gt; | Personal &lt;dbl&gt; | PhD &lt;dbl&gt; | Terminal &lt;dbl&gt; | S.F.Ratio &lt;dbl&gt; | perc.alumni &lt;dbl&gt; | Expend &lt;dbl&gt; | Grad.Rate &lt;dbl&gt; |\n",
       "|---|---|---|---|---|---|---|---|---|---|---|---|---|---|---|---|---|---|---|\n",
       "| Abilene Christian University | Yes |  1660 |  1232 |  721 | 23 | 52 |  2885 |  537 |  7440 | 3300 | 450 | 2200 | 70 |  78 | 18.1 | 12 |  7041 |  60 |\n",
       "| Adelphi University | Yes |  2186 |  1924 |  512 | 16 | 29 |  2683 | 1227 | 12280 | 6450 | 750 | 1500 | 29 |  30 | 12.2 | 16 | 10527 |  56 |\n",
       "| Adrian College | Yes |  1428 |  1097 |  336 | 22 | 50 |  1036 |   99 | 11250 | 3750 | 400 | 1165 | 53 |  66 | 12.9 | 30 |  8735 |  54 |\n",
       "| Agnes Scott College | Yes |   417 |   349 |  137 | 60 | 89 |   510 |   63 | 12960 | 5450 | 450 |  875 | 92 |  97 |  7.7 | 37 | 19016 |  59 |\n",
       "| Alaska Pacific University | Yes |   193 |   146 |   55 | 16 | 44 |   249 |  869 |  7560 | 4120 | 800 | 1500 | 76 |  72 | 11.9 |  2 | 10922 |  15 |\n",
       "| Albertson College | Yes |   587 |   479 |  158 | 38 | 62 |   678 |   41 | 13500 | 3335 | 500 |  675 | 67 |  73 |  9.4 | 11 |  9727 |  55 |\n",
       "| Albertus Magnus College | Yes |   353 |   340 |  103 | 17 | 45 |   416 |  230 | 13290 | 5720 | 500 | 1500 | 90 |  93 | 11.5 | 26 |  8861 |  63 |\n",
       "| Albion College | Yes |  1899 |  1720 |  489 | 37 | 68 |  1594 |   32 | 13868 | 4826 | 450 |  850 | 89 | 100 | 13.7 | 37 | 11487 |  73 |\n",
       "| Albright College | Yes |  1038 |   839 |  227 | 30 | 63 |   973 |  306 | 15595 | 4400 | 300 |  500 | 79 |  84 | 11.3 | 23 | 11644 |  80 |\n",
       "| Alderson-Broaddus College | Yes |   582 |   498 |  172 | 21 | 44 |   799 |   78 | 10468 | 3380 | 660 | 1800 | 40 |  41 | 11.5 | 15 |  8991 |  52 |\n",
       "| Alfred University | Yes |  1732 |  1425 |  472 | 37 | 75 |  1830 |  110 | 16548 | 5406 | 500 |  600 | 82 |  88 | 11.3 | 31 | 10932 |  73 |\n",
       "| Allegheny College | Yes |  2652 |  1900 |  484 | 44 | 77 |  1707 |   44 | 17080 | 4440 | 400 |  600 | 73 |  91 |  9.9 | 41 | 11711 |  76 |\n",
       "| Allentown Coll. of St. Francis de Sales | Yes |  1179 |   780 |  290 | 38 | 64 |  1130 |  638 |  9690 | 4785 | 600 | 1000 | 60 |  84 | 13.3 | 21 |  7940 |  74 |\n",
       "| Alma College | Yes |  1267 |  1080 |  385 | 44 | 73 |  1306 |   28 | 12572 | 4552 | 400 |  400 | 79 |  87 | 15.3 | 32 |  9305 |  68 |\n",
       "| Alverno College | Yes |   494 |   313 |  157 | 23 | 46 |  1317 | 1235 |  8352 | 3640 | 650 | 2449 | 36 |  69 | 11.1 | 26 |  8127 |  55 |\n",
       "| American International College | Yes |  1420 |  1093 |  220 |  9 | 22 |  1018 |  287 |  8700 | 4780 | 450 | 1400 | 78 |  84 | 14.7 | 19 |  7355 |  69 |\n",
       "| Amherst College | Yes |  4302 |   992 |  418 | 83 | 96 |  1593 |    5 | 19760 | 5300 | 660 | 1598 | 93 |  98 |  8.4 | 63 | 21424 | 100 |\n",
       "| Anderson University | Yes |  1216 |   908 |  423 | 19 | 40 |  1819 |  281 | 10100 | 3520 | 550 | 1100 | 48 |  61 | 12.1 | 14 |  7994 |  59 |\n",
       "| Andrews University | Yes |  1130 |   704 |  322 | 14 | 23 |  1586 |  326 |  9996 | 3090 | 900 | 1320 | 62 |  66 | 11.5 | 18 | 10908 |  46 |\n",
       "| Angelo State University | No  |  3540 |  2001 | 1016 | 24 | 54 |  4190 | 1512 |  5130 | 3592 | 500 | 2000 | 60 |  62 | 23.1 |  5 |  4010 |  34 |\n",
       "| Antioch University | Yes |   713 |   661 |  252 | 25 | 44 |   712 |   23 | 15476 | 3336 | 400 | 1100 | 69 |  82 | 11.3 | 35 | 42926 |  48 |\n",
       "| Appalachian State University | No  |  7313 |  4664 | 1910 | 20 | 63 |  9940 | 1035 |  6806 | 2540 |  96 | 2000 | 83 |  96 | 18.3 | 14 |  5854 |  70 |\n",
       "| Aquinas College | Yes |   619 |   516 |  219 | 20 | 51 |  1251 |  767 | 11208 | 4124 | 350 | 1615 | 55 |  65 | 12.7 | 25 |  6584 |  65 |\n",
       "| Arizona State University Main campus | No  | 12809 | 10308 | 3761 | 24 | 49 | 22593 | 7585 |  7434 | 4850 | 700 | 2100 | 88 |  93 | 18.9 |  5 |  4602 |  48 |\n",
       "| Arkansas College (Lyon College) | Yes |   708 |   334 |  166 | 46 | 74 |   530 |  182 |  8644 | 3922 | 500 |  800 | 79 |  88 | 12.6 | 24 | 14579 |  54 |\n",
       "| Arkansas Tech University | No  |  1734 |  1729 |  951 | 12 | 52 |  3602 |  939 |  3460 | 2650 | 450 | 1000 | 57 |  60 | 19.6 |  5 |  4739 |  48 |\n",
       "| Assumption College | Yes |  2135 |  1700 |  491 | 23 | 59 |  1708 |  689 | 12000 | 5920 | 500 |  500 | 93 |  93 | 13.8 | 30 |  7100 |  88 |\n",
       "| Auburn University-Main Campus | No  |  7548 |  6791 | 3070 | 25 | 57 | 16262 | 1716 |  6300 | 3933 | 600 | 1908 | 85 |  91 | 16.7 | 18 |  6642 |  69 |\n",
       "| Augsburg College | Yes |   662 |   513 |  257 | 12 | 30 |  2074 |  726 | 11902 | 4372 | 540 |  950 | 65 |  65 | 12.8 | 31 |  7836 |  58 |\n",
       "| Augustana College IL | Yes |  1879 |  1658 |  497 | 36 | 69 |  1950 |   38 | 13353 | 4173 | 540 |  821 | 78 |  83 | 12.7 | 40 |  9220 |  71 |\n",
       "| ⋮ | ⋮ | ⋮ | ⋮ | ⋮ | ⋮ | ⋮ | ⋮ | ⋮ | ⋮ | ⋮ | ⋮ | ⋮ | ⋮ | ⋮ | ⋮ | ⋮ | ⋮ | ⋮ |\n",
       "| Westfield State College | No  |  3100 | 2150 |  825 |  3 | 20 | 3234 |  941 |  5542 | 3788 | 500 | 1300 | 75 | 79 | 15.7 | 20 |  4222 | 65 |\n",
       "| Westminster College MO | Yes |   662 |  553 |  184 | 20 | 43 |  665 |   37 | 10720 | 4050 | 600 | 1650 | 66 | 70 | 12.5 | 20 |  7925 | 62 |\n",
       "| Westminster College | Yes |   996 |  866 |  377 | 29 | 58 | 1411 |   72 | 12065 | 3615 | 430 |  685 | 62 | 78 | 12.5 | 41 |  8596 | 80 |\n",
       "| Westminster College of Salt Lake City | Yes |   917 |  720 |  213 | 21 | 60 |  979 |  743 |  8820 | 4050 | 600 | 2025 | 68 | 83 | 10.5 | 34 |  7170 | 50 |\n",
       "| Westmont College | No  |   950 |  713 |  351 | 42 | 72 | 1276 |    9 | 14320 | 5304 | 490 | 1410 | 77 | 77 | 14.9 | 17 |  8837 | 87 |\n",
       "| Wheaton College IL | Yes |  1432 |  920 |  548 | 56 | 84 | 2200 |   56 | 11480 | 4200 | 530 | 1400 | 81 | 83 | 12.7 | 40 | 11916 | 85 |\n",
       "| Westminster College PA | Yes |  1738 | 1373 |  417 | 21 | 55 | 1335 |   30 | 18460 | 5970 | 700 |  850 | 92 | 96 | 13.2 | 41 | 22704 | 71 |\n",
       "| Wheeling Jesuit College | Yes |   903 |  755 |  213 | 15 | 49 |  971 |  305 | 10500 | 4545 | 600 |  600 | 66 | 71 | 14.1 | 27 |  7494 | 72 |\n",
       "| Whitman College | Yes |  1861 |  998 |  359 | 45 | 77 | 1220 |   46 | 16670 | 4900 | 750 |  800 | 80 | 83 | 10.5 | 51 | 13198 | 72 |\n",
       "| Whittier College | Yes |  1681 | 1069 |  344 | 35 | 63 | 1235 |   30 | 16249 | 5699 | 500 | 1998 | 84 | 92 | 13.6 | 29 | 11778 | 52 |\n",
       "| Whitworth College | Yes |  1121 |  926 |  372 | 43 | 70 | 1270 |  160 | 12660 | 4500 | 678 | 2424 | 80 | 80 | 16.9 | 20 |  8328 | 80 |\n",
       "| Widener University | Yes |  2139 | 1492 |  502 | 24 | 64 | 2186 | 2171 | 12350 | 5370 | 500 | 1350 | 88 | 86 | 12.6 | 19 |  9603 | 63 |\n",
       "| Wilkes University | Yes |  1631 | 1431 |  434 | 15 | 36 | 1803 |  603 | 11150 | 5130 | 550 | 1260 | 78 | 92 | 13.3 | 24 |  8543 | 67 |\n",
       "| Willamette University | Yes |  1658 | 1327 |  395 | 49 | 80 | 1595 |  159 | 14800 | 4620 | 400 |  790 | 91 | 94 | 13.3 | 37 | 10779 | 68 |\n",
       "| William Jewell College | Yes |   663 |  547 |  315 | 32 | 67 | 1279 |   75 | 10060 | 2970 | 500 | 2600 | 74 | 80 | 11.2 | 19 |  7885 | 59 |\n",
       "| William Woods University | Yes |   469 |  435 |  227 | 17 | 39 |  851 |  120 | 10535 | 4365 | 550 | 3700 | 39 | 66 | 12.9 | 16 |  7438 | 52 |\n",
       "| Williams College | Yes |  4186 | 1245 |  526 | 81 | 96 | 1988 |   29 | 19629 | 5790 | 500 | 1200 | 94 | 99 |  9.0 | 64 | 22014 | 99 |\n",
       "| Wilson College | Yes |   167 |  130 |   46 | 16 | 50 |  199 |  676 | 11428 | 5084 | 450 |  475 | 67 | 76 |  8.3 | 43 | 10291 | 67 |\n",
       "| Wingate College | Yes |  1239 | 1017 |  383 | 10 | 34 | 1207 |  157 |  7820 | 3400 | 550 | 1550 | 69 | 81 | 13.9 |  8 |  7264 | 91 |\n",
       "| Winona State University | No  |  3325 | 2047 | 1301 | 20 | 45 | 5800 |  872 |  4200 | 2700 | 300 | 1200 | 53 | 60 | 20.2 | 18 |  5318 | 58 |\n",
       "| Winthrop University | No  |  2320 | 1805 |  769 | 24 | 61 | 3395 |  670 |  6400 | 3392 | 580 | 2150 | 71 | 80 | 12.8 | 26 |  6729 | 59 |\n",
       "| Wisconsin Lutheran College | Yes |   152 |  128 |   75 | 17 | 41 |  282 |   22 |  9100 | 3700 | 500 | 1400 | 48 | 48 |  8.5 | 26 |  8960 | 50 |\n",
       "| Wittenberg University | Yes |  1979 | 1739 |  575 | 42 | 68 | 1980 |  144 | 15948 | 4404 | 400 |  800 | 82 | 95 | 12.8 | 29 | 10414 | 78 |\n",
       "| Wofford College | Yes |  1501 |  935 |  273 | 51 | 83 | 1059 |   34 | 12680 | 4150 | 605 | 1440 | 91 | 92 | 15.3 | 42 |  7875 | 75 |\n",
       "| Worcester Polytechnic Institute | Yes |  2768 | 2314 |  682 | 49 | 86 | 2802 |   86 | 15884 | 5370 | 530 |  730 | 92 | 94 | 15.2 | 34 | 10774 | 82 |\n",
       "| Worcester State College | No  |  2197 | 1515 |  543 |  4 | 26 | 3089 | 2029 |  6797 | 3900 | 500 | 1200 | 60 | 60 | 21.0 | 14 |  4469 | 40 |\n",
       "| Xavier University | Yes |  1959 | 1805 |  695 | 24 | 47 | 2849 | 1107 | 11520 | 4960 | 600 | 1250 | 73 | 75 | 13.3 | 31 |  9189 | 83 |\n",
       "| Xavier University of Louisiana | Yes |  2097 | 1915 |  695 | 34 | 61 | 2793 |  166 |  6900 | 4200 | 617 |  781 | 67 | 75 | 14.4 | 20 |  8323 | 49 |\n",
       "| Yale University | Yes | 10705 | 2453 | 1317 | 95 | 99 | 5217 |   83 | 19840 | 6510 | 630 | 2115 | 96 | 96 |  5.8 | 49 | 40386 | 99 |\n",
       "| York College of Pennsylvania | Yes |  2989 | 1855 |  691 | 28 | 63 | 2988 | 1726 |  4990 | 3560 | 500 | 1250 | 75 | 75 | 18.1 | 28 |  4509 | 99 |\n",
       "\n"
      ],
      "text/plain": [
       "                                        Private Apps  Accept Enroll Top10perc\n",
       "Abilene Christian University            Yes      1660  1232   721   23       \n",
       "Adelphi University                      Yes      2186  1924   512   16       \n",
       "Adrian College                          Yes      1428  1097   336   22       \n",
       "Agnes Scott College                     Yes       417   349   137   60       \n",
       "Alaska Pacific University               Yes       193   146    55   16       \n",
       "Albertson College                       Yes       587   479   158   38       \n",
       "Albertus Magnus College                 Yes       353   340   103   17       \n",
       "Albion College                          Yes      1899  1720   489   37       \n",
       "Albright College                        Yes      1038   839   227   30       \n",
       "Alderson-Broaddus College               Yes       582   498   172   21       \n",
       "Alfred University                       Yes      1732  1425   472   37       \n",
       "Allegheny College                       Yes      2652  1900   484   44       \n",
       "Allentown Coll. of St. Francis de Sales Yes      1179   780   290   38       \n",
       "Alma College                            Yes      1267  1080   385   44       \n",
       "Alverno College                         Yes       494   313   157   23       \n",
       "American International College          Yes      1420  1093   220    9       \n",
       "Amherst College                         Yes      4302   992   418   83       \n",
       "Anderson University                     Yes      1216   908   423   19       \n",
       "Andrews University                      Yes      1130   704   322   14       \n",
       "Angelo State University                 No       3540  2001  1016   24       \n",
       "Antioch University                      Yes       713   661   252   25       \n",
       "Appalachian State University            No       7313  4664  1910   20       \n",
       "Aquinas College                         Yes       619   516   219   20       \n",
       "Arizona State University Main campus    No      12809 10308  3761   24       \n",
       "Arkansas College (Lyon College)         Yes       708   334   166   46       \n",
       "Arkansas Tech University                No       1734  1729   951   12       \n",
       "Assumption College                      Yes      2135  1700   491   23       \n",
       "Auburn University-Main Campus           No       7548  6791  3070   25       \n",
       "Augsburg College                        Yes       662   513   257   12       \n",
       "Augustana College IL                    Yes      1879  1658   497   36       \n",
       "⋮                                       ⋮       ⋮     ⋮      ⋮      ⋮        \n",
       "Westfield State College                 No       3100 2150    825    3       \n",
       "Westminster College MO                  Yes       662  553    184   20       \n",
       "Westminster College                     Yes       996  866    377   29       \n",
       "Westminster College of Salt Lake City   Yes       917  720    213   21       \n",
       "Westmont College                        No        950  713    351   42       \n",
       "Wheaton College IL                      Yes      1432  920    548   56       \n",
       "Westminster College PA                  Yes      1738 1373    417   21       \n",
       "Wheeling Jesuit College                 Yes       903  755    213   15       \n",
       "Whitman College                         Yes      1861  998    359   45       \n",
       "Whittier College                        Yes      1681 1069    344   35       \n",
       "Whitworth College                       Yes      1121  926    372   43       \n",
       "Widener University                      Yes      2139 1492    502   24       \n",
       "Wilkes University                       Yes      1631 1431    434   15       \n",
       "Willamette University                   Yes      1658 1327    395   49       \n",
       "William Jewell College                  Yes       663  547    315   32       \n",
       "William Woods University                Yes       469  435    227   17       \n",
       "Williams College                        Yes      4186 1245    526   81       \n",
       "Wilson College                          Yes       167  130     46   16       \n",
       "Wingate College                         Yes      1239 1017    383   10       \n",
       "Winona State University                 No       3325 2047   1301   20       \n",
       "Winthrop University                     No       2320 1805    769   24       \n",
       "Wisconsin Lutheran College              Yes       152  128     75   17       \n",
       "Wittenberg University                   Yes      1979 1739    575   42       \n",
       "Wofford College                         Yes      1501  935    273   51       \n",
       "Worcester Polytechnic Institute         Yes      2768 2314    682   49       \n",
       "Worcester State College                 No       2197 1515    543    4       \n",
       "Xavier University                       Yes      1959 1805    695   24       \n",
       "Xavier University of Louisiana          Yes      2097 1915    695   34       \n",
       "Yale University                         Yes     10705 2453   1317   95       \n",
       "York College of Pennsylvania            Yes      2989 1855    691   28       \n",
       "                                        Top25perc F.Undergrad P.Undergrad\n",
       "Abilene Christian University            52         2885        537       \n",
       "Adelphi University                      29         2683       1227       \n",
       "Adrian College                          50         1036         99       \n",
       "Agnes Scott College                     89          510         63       \n",
       "Alaska Pacific University               44          249        869       \n",
       "Albertson College                       62          678         41       \n",
       "Albertus Magnus College                 45          416        230       \n",
       "Albion College                          68         1594         32       \n",
       "Albright College                        63          973        306       \n",
       "Alderson-Broaddus College               44          799         78       \n",
       "Alfred University                       75         1830        110       \n",
       "Allegheny College                       77         1707         44       \n",
       "Allentown Coll. of St. Francis de Sales 64         1130        638       \n",
       "Alma College                            73         1306         28       \n",
       "Alverno College                         46         1317       1235       \n",
       "American International College          22         1018        287       \n",
       "Amherst College                         96         1593          5       \n",
       "Anderson University                     40         1819        281       \n",
       "Andrews University                      23         1586        326       \n",
       "Angelo State University                 54         4190       1512       \n",
       "Antioch University                      44          712         23       \n",
       "Appalachian State University            63         9940       1035       \n",
       "Aquinas College                         51         1251        767       \n",
       "Arizona State University Main campus    49        22593       7585       \n",
       "Arkansas College (Lyon College)         74          530        182       \n",
       "Arkansas Tech University                52         3602        939       \n",
       "Assumption College                      59         1708        689       \n",
       "Auburn University-Main Campus           57        16262       1716       \n",
       "Augsburg College                        30         2074        726       \n",
       "Augustana College IL                    69         1950         38       \n",
       "⋮                                       ⋮         ⋮           ⋮          \n",
       "Westfield State College                 20        3234         941       \n",
       "Westminster College MO                  43         665          37       \n",
       "Westminster College                     58        1411          72       \n",
       "Westminster College of Salt Lake City   60         979         743       \n",
       "Westmont College                        72        1276           9       \n",
       "Wheaton College IL                      84        2200          56       \n",
       "Westminster College PA                  55        1335          30       \n",
       "Wheeling Jesuit College                 49         971         305       \n",
       "Whitman College                         77        1220          46       \n",
       "Whittier College                        63        1235          30       \n",
       "Whitworth College                       70        1270         160       \n",
       "Widener University                      64        2186        2171       \n",
       "Wilkes University                       36        1803         603       \n",
       "Willamette University                   80        1595         159       \n",
       "William Jewell College                  67        1279          75       \n",
       "William Woods University                39         851         120       \n",
       "Williams College                        96        1988          29       \n",
       "Wilson College                          50         199         676       \n",
       "Wingate College                         34        1207         157       \n",
       "Winona State University                 45        5800         872       \n",
       "Winthrop University                     61        3395         670       \n",
       "Wisconsin Lutheran College              41         282          22       \n",
       "Wittenberg University                   68        1980         144       \n",
       "Wofford College                         83        1059          34       \n",
       "Worcester Polytechnic Institute         86        2802          86       \n",
       "Worcester State College                 26        3089        2029       \n",
       "Xavier University                       47        2849        1107       \n",
       "Xavier University of Louisiana          61        2793         166       \n",
       "Yale University                         99        5217          83       \n",
       "York College of Pennsylvania            63        2988        1726       \n",
       "                                        Outstate Room.Board Books Personal PhD\n",
       "Abilene Christian University             7440    3300       450   2200     70 \n",
       "Adelphi University                      12280    6450       750   1500     29 \n",
       "Adrian College                          11250    3750       400   1165     53 \n",
       "Agnes Scott College                     12960    5450       450    875     92 \n",
       "Alaska Pacific University                7560    4120       800   1500     76 \n",
       "Albertson College                       13500    3335       500    675     67 \n",
       "Albertus Magnus College                 13290    5720       500   1500     90 \n",
       "Albion College                          13868    4826       450    850     89 \n",
       "Albright College                        15595    4400       300    500     79 \n",
       "Alderson-Broaddus College               10468    3380       660   1800     40 \n",
       "Alfred University                       16548    5406       500    600     82 \n",
       "Allegheny College                       17080    4440       400    600     73 \n",
       "Allentown Coll. of St. Francis de Sales  9690    4785       600   1000     60 \n",
       "Alma College                            12572    4552       400    400     79 \n",
       "Alverno College                          8352    3640       650   2449     36 \n",
       "American International College           8700    4780       450   1400     78 \n",
       "Amherst College                         19760    5300       660   1598     93 \n",
       "Anderson University                     10100    3520       550   1100     48 \n",
       "Andrews University                       9996    3090       900   1320     62 \n",
       "Angelo State University                  5130    3592       500   2000     60 \n",
       "Antioch University                      15476    3336       400   1100     69 \n",
       "Appalachian State University             6806    2540        96   2000     83 \n",
       "Aquinas College                         11208    4124       350   1615     55 \n",
       "Arizona State University Main campus     7434    4850       700   2100     88 \n",
       "Arkansas College (Lyon College)          8644    3922       500    800     79 \n",
       "Arkansas Tech University                 3460    2650       450   1000     57 \n",
       "Assumption College                      12000    5920       500    500     93 \n",
       "Auburn University-Main Campus            6300    3933       600   1908     85 \n",
       "Augsburg College                        11902    4372       540    950     65 \n",
       "Augustana College IL                    13353    4173       540    821     78 \n",
       "⋮                                       ⋮        ⋮          ⋮     ⋮        ⋮  \n",
       "Westfield State College                  5542    3788       500   1300     75 \n",
       "Westminster College MO                  10720    4050       600   1650     66 \n",
       "Westminster College                     12065    3615       430    685     62 \n",
       "Westminster College of Salt Lake City    8820    4050       600   2025     68 \n",
       "Westmont College                        14320    5304       490   1410     77 \n",
       "Wheaton College IL                      11480    4200       530   1400     81 \n",
       "Westminster College PA                  18460    5970       700    850     92 \n",
       "Wheeling Jesuit College                 10500    4545       600    600     66 \n",
       "Whitman College                         16670    4900       750    800     80 \n",
       "Whittier College                        16249    5699       500   1998     84 \n",
       "Whitworth College                       12660    4500       678   2424     80 \n",
       "Widener University                      12350    5370       500   1350     88 \n",
       "Wilkes University                       11150    5130       550   1260     78 \n",
       "Willamette University                   14800    4620       400    790     91 \n",
       "William Jewell College                  10060    2970       500   2600     74 \n",
       "William Woods University                10535    4365       550   3700     39 \n",
       "Williams College                        19629    5790       500   1200     94 \n",
       "Wilson College                          11428    5084       450    475     67 \n",
       "Wingate College                          7820    3400       550   1550     69 \n",
       "Winona State University                  4200    2700       300   1200     53 \n",
       "Winthrop University                      6400    3392       580   2150     71 \n",
       "Wisconsin Lutheran College               9100    3700       500   1400     48 \n",
       "Wittenberg University                   15948    4404       400    800     82 \n",
       "Wofford College                         12680    4150       605   1440     91 \n",
       "Worcester Polytechnic Institute         15884    5370       530    730     92 \n",
       "Worcester State College                  6797    3900       500   1200     60 \n",
       "Xavier University                       11520    4960       600   1250     73 \n",
       "Xavier University of Louisiana           6900    4200       617    781     67 \n",
       "Yale University                         19840    6510       630   2115     96 \n",
       "York College of Pennsylvania             4990    3560       500   1250     75 \n",
       "                                        Terminal S.F.Ratio perc.alumni Expend\n",
       "Abilene Christian University             78      18.1      12           7041 \n",
       "Adelphi University                       30      12.2      16          10527 \n",
       "Adrian College                           66      12.9      30           8735 \n",
       "Agnes Scott College                      97       7.7      37          19016 \n",
       "Alaska Pacific University                72      11.9       2          10922 \n",
       "Albertson College                        73       9.4      11           9727 \n",
       "Albertus Magnus College                  93      11.5      26           8861 \n",
       "Albion College                          100      13.7      37          11487 \n",
       "Albright College                         84      11.3      23          11644 \n",
       "Alderson-Broaddus College                41      11.5      15           8991 \n",
       "Alfred University                        88      11.3      31          10932 \n",
       "Allegheny College                        91       9.9      41          11711 \n",
       "Allentown Coll. of St. Francis de Sales  84      13.3      21           7940 \n",
       "Alma College                             87      15.3      32           9305 \n",
       "Alverno College                          69      11.1      26           8127 \n",
       "American International College           84      14.7      19           7355 \n",
       "Amherst College                          98       8.4      63          21424 \n",
       "Anderson University                      61      12.1      14           7994 \n",
       "Andrews University                       66      11.5      18          10908 \n",
       "Angelo State University                  62      23.1       5           4010 \n",
       "Antioch University                       82      11.3      35          42926 \n",
       "Appalachian State University             96      18.3      14           5854 \n",
       "Aquinas College                          65      12.7      25           6584 \n",
       "Arizona State University Main campus     93      18.9       5           4602 \n",
       "Arkansas College (Lyon College)          88      12.6      24          14579 \n",
       "Arkansas Tech University                 60      19.6       5           4739 \n",
       "Assumption College                       93      13.8      30           7100 \n",
       "Auburn University-Main Campus            91      16.7      18           6642 \n",
       "Augsburg College                         65      12.8      31           7836 \n",
       "Augustana College IL                     83      12.7      40           9220 \n",
       "⋮                                       ⋮        ⋮         ⋮           ⋮     \n",
       "Westfield State College                 79       15.7      20           4222 \n",
       "Westminster College MO                  70       12.5      20           7925 \n",
       "Westminster College                     78       12.5      41           8596 \n",
       "Westminster College of Salt Lake City   83       10.5      34           7170 \n",
       "Westmont College                        77       14.9      17           8837 \n",
       "Wheaton College IL                      83       12.7      40          11916 \n",
       "Westminster College PA                  96       13.2      41          22704 \n",
       "Wheeling Jesuit College                 71       14.1      27           7494 \n",
       "Whitman College                         83       10.5      51          13198 \n",
       "Whittier College                        92       13.6      29          11778 \n",
       "Whitworth College                       80       16.9      20           8328 \n",
       "Widener University                      86       12.6      19           9603 \n",
       "Wilkes University                       92       13.3      24           8543 \n",
       "Willamette University                   94       13.3      37          10779 \n",
       "William Jewell College                  80       11.2      19           7885 \n",
       "William Woods University                66       12.9      16           7438 \n",
       "Williams College                        99        9.0      64          22014 \n",
       "Wilson College                          76        8.3      43          10291 \n",
       "Wingate College                         81       13.9       8           7264 \n",
       "Winona State University                 60       20.2      18           5318 \n",
       "Winthrop University                     80       12.8      26           6729 \n",
       "Wisconsin Lutheran College              48        8.5      26           8960 \n",
       "Wittenberg University                   95       12.8      29          10414 \n",
       "Wofford College                         92       15.3      42           7875 \n",
       "Worcester Polytechnic Institute         94       15.2      34          10774 \n",
       "Worcester State College                 60       21.0      14           4469 \n",
       "Xavier University                       75       13.3      31           9189 \n",
       "Xavier University of Louisiana          75       14.4      20           8323 \n",
       "Yale University                         96        5.8      49          40386 \n",
       "York College of Pennsylvania            75       18.1      28           4509 \n",
       "                                        Grad.Rate\n",
       "Abilene Christian University             60      \n",
       "Adelphi University                       56      \n",
       "Adrian College                           54      \n",
       "Agnes Scott College                      59      \n",
       "Alaska Pacific University                15      \n",
       "Albertson College                        55      \n",
       "Albertus Magnus College                  63      \n",
       "Albion College                           73      \n",
       "Albright College                         80      \n",
       "Alderson-Broaddus College                52      \n",
       "Alfred University                        73      \n",
       "Allegheny College                        76      \n",
       "Allentown Coll. of St. Francis de Sales  74      \n",
       "Alma College                             68      \n",
       "Alverno College                          55      \n",
       "American International College           69      \n",
       "Amherst College                         100      \n",
       "Anderson University                      59      \n",
       "Andrews University                       46      \n",
       "Angelo State University                  34      \n",
       "Antioch University                       48      \n",
       "Appalachian State University             70      \n",
       "Aquinas College                          65      \n",
       "Arizona State University Main campus     48      \n",
       "Arkansas College (Lyon College)          54      \n",
       "Arkansas Tech University                 48      \n",
       "Assumption College                       88      \n",
       "Auburn University-Main Campus            69      \n",
       "Augsburg College                         58      \n",
       "Augustana College IL                     71      \n",
       "⋮                                       ⋮        \n",
       "Westfield State College                 65       \n",
       "Westminster College MO                  62       \n",
       "Westminster College                     80       \n",
       "Westminster College of Salt Lake City   50       \n",
       "Westmont College                        87       \n",
       "Wheaton College IL                      85       \n",
       "Westminster College PA                  71       \n",
       "Wheeling Jesuit College                 72       \n",
       "Whitman College                         72       \n",
       "Whittier College                        52       \n",
       "Whitworth College                       80       \n",
       "Widener University                      63       \n",
       "Wilkes University                       67       \n",
       "Willamette University                   68       \n",
       "William Jewell College                  59       \n",
       "William Woods University                52       \n",
       "Williams College                        99       \n",
       "Wilson College                          67       \n",
       "Wingate College                         91       \n",
       "Winona State University                 58       \n",
       "Winthrop University                     59       \n",
       "Wisconsin Lutheran College              50       \n",
       "Wittenberg University                   78       \n",
       "Wofford College                         75       \n",
       "Worcester Polytechnic Institute         82       \n",
       "Worcester State College                 40       \n",
       "Xavier University                       83       \n",
       "Xavier University of Louisiana          49       \n",
       "Yale University                         99       \n",
       "York College of Pennsylvania            99       "
      ]
     },
     "metadata": {},
     "output_type": "display_data"
    }
   ],
   "source": [
    "library(\"ISLR\")\n",
    "College"
   ]
  },
  {
   "cell_type": "code",
   "execution_count": 57,
   "metadata": {
    "vscode": {
     "languageId": "r"
    }
   },
   "outputs": [
    {
     "data": {
      "text/html": [
       "<style>\n",
       ".list-inline {list-style: none; margin:0; padding: 0}\n",
       ".list-inline>li {display: inline-block}\n",
       ".list-inline>li:not(:last-child)::after {content: \"\\00b7\"; padding: 0 .5ex}\n",
       "</style>\n",
       "<ol class=list-inline><li>'Abilene Christian University'</li><li>'Adelphi University'</li><li>'Adrian College'</li><li>'Agnes Scott College'</li><li>'Alaska Pacific University'</li><li>'Albertson College'</li><li>'Albertus Magnus College'</li><li>'Albion College'</li><li>'Albright College'</li><li>'Alderson-Broaddus College'</li><li>'Alfred University'</li><li>'Allegheny College'</li><li>'Allentown Coll. of St. Francis de Sales'</li><li>'Alma College'</li><li>'Alverno College'</li><li>'American International College'</li><li>'Amherst College'</li><li>'Anderson University'</li><li>'Andrews University'</li><li>'Angelo State University'</li><li>'Antioch University'</li><li>'Appalachian State University'</li><li>'Aquinas College'</li><li>'Arizona State University Main campus'</li><li>'Arkansas College (Lyon College)'</li><li>'Arkansas Tech University'</li><li>'Assumption College'</li><li>'Auburn University-Main Campus'</li><li>'Augsburg College'</li><li>'Augustana College IL'</li><li>'Augustana College'</li><li>'Austin College'</li><li>'Averett College'</li><li>'Baker University'</li><li>'Baldwin-Wallace College'</li><li>'Barat College'</li><li>'Bard College'</li><li>'Barnard College'</li><li>'Barry University'</li><li>'Baylor University'</li><li>'Beaver College'</li><li>'Bellarmine College'</li><li>'Belmont Abbey College'</li><li>'Belmont University'</li><li>'Beloit College'</li><li>'Bemidji State University'</li><li>'Benedictine College'</li><li>'Bennington College'</li><li>'Bentley College'</li><li>'Berry College'</li><li>'Bethany College'</li><li>'Bethel College KS'</li><li>'Bethel College'</li><li>'Bethune Cookman College'</li><li>'Birmingham-Southern College'</li><li>'Blackburn College'</li><li>'Bloomsburg Univ. of Pennsylvania'</li><li>'Bluefield College'</li><li>'Bluffton College'</li><li>'Boston University'</li><li>'Bowdoin College'</li><li>'Bowling Green State University'</li><li>'Bradford College'</li><li>'Bradley University'</li><li>'Brandeis University'</li><li>'Brenau University'</li><li>'Brewton-Parker College'</li><li>'Briar Cliff College'</li><li>'Bridgewater College'</li><li>'Brigham Young University at Provo'</li><li>'Brown University'</li><li>'Bryn Mawr College'</li><li>'Bucknell University'</li><li>'Buena Vista College'</li><li>'Butler University'</li><li>'Cabrini College'</li><li>'Caldwell College'</li><li>'California Lutheran University'</li><li>'California Polytechnic-San Luis'</li><li>'California State University at Fresno'</li><li>'Calvin College'</li><li>'Campbell University'</li><li>'Campbellsville College'</li><li>'Canisius College'</li><li>'Capital University'</li><li>'Capitol College'</li><li>'Carleton College'</li><li>'Carnegie Mellon University'</li><li>'Carroll College'</li><li>'Carson-Newman College'</li><li>'Carthage College'</li><li>'Case Western Reserve University'</li><li>'Castleton State College'</li><li>'Catawba College'</li><li>'Catholic University of America'</li><li>'Cazenovia College'</li><li>'Cedar Crest College'</li><li>'Cedarville College'</li><li>'Centenary College'</li><li>'Centenary College of Louisiana'</li><li>'Center for Creative Studies'</li><li>'Central College'</li><li>'Central Connecticut State University'</li><li>'Central Missouri State University'</li><li>'Central Washington University'</li><li>'Central Wesleyan College'</li><li>'Centre College'</li><li>'Chapman University'</li><li>'Chatham College'</li><li>'Chestnut Hill College'</li><li>'Christendom College'</li><li>'Christian Brothers University'</li><li>'Christopher Newport University'</li><li>'Claflin College'</li><li>'Claremont McKenna College'</li><li>'Clark University'</li><li>'Clarke College'</li><li>'Clarkson University'</li><li>'Clemson University'</li><li><span style=white-space:pre-wrap>'Clinch Valley Coll. of  the Univ. of Virginia'</span></li><li>'Coe College'</li><li>'Coker College'</li><li>'Colby College'</li><li>'Colgate University'</li><li>'College Misericordia'</li><li>'College of Charleston'</li><li>'College of Mount St. Joseph'</li><li>'College of Mount St. Vincent'</li><li>'College of Notre Dame'</li><li>'College of Notre Dame of Maryland'</li><li>'College of Saint Benedict'</li><li>'College of Saint Catherine'</li><li>'College of Saint Elizabeth'</li><li>'College of Saint Rose'</li><li>'College of Santa Fe'</li><li>'College of St. Joseph'</li><li>'College of St. Scholastica'</li><li>'College of the Holy Cross'</li><li>'College of William and Mary'</li><li>'College of Wooster'</li><li>'Colorado College'</li><li>'Colorado State University'</li><li>'Columbia College MO'</li><li>'Columbia College'</li><li>'Columbia University'</li><li>'Concordia College at St. Paul'</li><li>'Concordia Lutheran College'</li><li>'Concordia University CA'</li><li>'Concordia University'</li><li>'Connecticut College'</li><li>'Converse College'</li><li>'Cornell College'</li><li>'Creighton University'</li><li>'Culver-Stockton College'</li><li>'Cumberland College'</li><li>'D\\'Youville College'</li><li>'Dana College'</li><li>'Daniel Webster College'</li><li>'Dartmouth College'</li><li>'Davidson College'</li><li>'Defiance College'</li><li>'Delta State University'</li><li>'Denison University'</li><li>'DePauw University'</li><li>'Dickinson College'</li><li>'Dickinson State University'</li><li>'Dillard University'</li><li>'Doane College'</li><li>'Dominican College of Blauvelt'</li><li>'Dordt College'</li><li>'Dowling College'</li><li>'Drake University'</li><li>'Drew University'</li><li>'Drury College'</li><li>'Duke University'</li><li>'Earlham College'</li><li>'East Carolina University'</li><li>'East Tennessee State University'</li><li>'East Texas Baptist University'</li><li>'Eastern College'</li><li>'Eastern Connecticut State University'</li><li>'Eastern Illinois University'</li><li>'Eastern Mennonite College'</li><li>'Eastern Nazarene College'</li><li>'Eckerd College'</li><li>'Elizabethtown College'</li><li>'Elmira College'</li><li>'Elms College'</li><li>'Elon College'</li><li>'Embry Riddle Aeronautical University'</li><li>'Emory &amp; Henry College'</li><li>'Emory University'</li><li>'Emporia State University'</li><li>'Erskine College'</li><li>'Eureka College'</li><li>'Evergreen State College'</li><li>'Fairfield University'</li><li>'Fayetteville State University'</li><li>'Ferrum College'</li><li>'Flagler College'</li><li>⋯</li><li>'Tabor College'</li><li>'Talladega College'</li><li>'Taylor University'</li><li>'Tennessee Wesleyan College'</li><li>'Texas A&amp;M Univ. at College Station'</li><li>'Texas A&amp;M University at Galveston'</li><li>'Texas Christian University'</li><li>'Texas Lutheran College'</li><li>'Texas Southern University'</li><li>'Texas Wesleyan University'</li><li>'The Citadel'</li><li>'Thiel College'</li><li>'Tiffin University'</li><li>'Transylvania University'</li><li>'Trenton State College'</li><li>'Tri-State University'</li><li>'Trinity College CT'</li><li>'Trinity College DC'</li><li>'Trinity College VT'</li><li>'Trinity University'</li><li>'Tulane University'</li><li>'Tusculum College'</li><li>'Tuskegee University'</li><li>'Union College KY'</li><li>'Union College NY'</li><li>'Univ. of Wisconsin at OshKosh'</li><li>'University of Alabama at Birmingham'</li><li>'University of Arkansas at Fayetteville'</li><li>'University of California at Berkeley'</li><li>'University of California at Irvine'</li><li>'University of Central Florida'</li><li>'University of Charleston'</li><li>'University of Chicago'</li><li>'University of Cincinnati'</li><li>'University of Connecticut at Storrs'</li><li>'University of Dallas'</li><li>'University of Dayton'</li><li>'University of Delaware'</li><li>'University of Denver'</li><li>'University of Detroit Mercy'</li><li>'University of Dubuque'</li><li>'University of Evansville'</li><li>'University of Florida'</li><li>'University of Georgia'</li><li>'University of Hartford'</li><li>'University of Hawaii at Manoa'</li><li>'University of Illinois - Urbana'</li><li>'University of Illinois at Chicago'</li><li>'University of Indianapolis'</li><li>'University of Kansas'</li><li>'University of La Verne'</li><li>'University of Louisville'</li><li>'University of Maine at Farmington'</li><li>'University of Maine at Machias'</li><li>'University of Maine at Presque Isle'</li><li>'University of Maryland at Baltimore County'</li><li>'University of Maryland at College Park'</li><li>'University of Massachusetts at Amherst'</li><li>'University of Massachusetts at Dartmouth'</li><li>'University of Miami'</li><li>'University of Michigan at Ann Arbor'</li><li>'University of Minnesota at Duluth'</li><li>'University of Minnesota at Morris'</li><li>'University of Minnesota Twin Cities'</li><li>'University of Mississippi'</li><li>'University of Missouri at Columbia'</li><li>'University of Missouri at Rolla'</li><li>'University of Missouri at Saint Louis'</li><li>'University of Mobile'</li><li>'University of Montevallo'</li><li>'University of Nebraska at Lincoln'</li><li>'University of New England'</li><li>'University of New Hampshire'</li><li>'University of North Carolina at Asheville'</li><li>'University of North Carolina at Chapel Hill'</li><li>'University of North Carolina at Charlotte'</li><li>'University of North Carolina at Greensboro'</li><li>'University of North Carolina at Wilmington'</li><li>'University of North Dakota'</li><li>'University of North Florida'</li><li>'University of North Texas'</li><li>'University of Northern Colorado'</li><li>'University of Northern Iowa'</li><li>'University of Notre Dame'</li><li>'University of Oklahoma'</li><li>'University of Oregon'</li><li>'University of Pennsylvania'</li><li>'University of Pittsburgh-Main Campus'</li><li>'University of Portland'</li><li>'University of Puget Sound'</li><li>'University of Rhode Island'</li><li>'University of Richmond'</li><li>'University of Rochester'</li><li>'University of San Diego'</li><li>'University of San Francisco'</li><li>'University of Sci. and Arts of Oklahoma'</li><li>'University of Scranton'</li><li>'University of South Carolina at Aiken'</li><li>'University of South Carolina at Columbia'</li><li>'University of South Florida'</li><li>'University of Southern California'</li><li>'University of Southern Colorado'</li><li>'University of Southern Indiana'</li><li>'University of Southern Mississippi'</li><li>'University of St. Thomas MN'</li><li>'University of St. Thomas TX'</li><li>'University of Tennessee at Knoxville'</li><li>'University of Texas at Arlington'</li><li>'University of Texas at Austin'</li><li>'University of Texas at San Antonio'</li><li>'University of the Arts'</li><li>'University of the Pacific'</li><li>'University of the South'</li><li>'University of Tulsa'</li><li>'University of Utah'</li><li>'University of Vermont'</li><li>'University of Virginia'</li><li>'University of Washington'</li><li>'University of West Florida'</li><li>'University of Wisconsin-Stout'</li><li>'University of Wisconsin-Superior'</li><li>'University of Wisconsin-Whitewater'</li><li>'University of Wisconsin at Green Bay'</li><li>'University of Wisconsin at Madison'</li><li>'University of Wisconsin at Milwaukee'</li><li>'University of Wyoming'</li><li>'Upper Iowa University'</li><li>'Ursinus College'</li><li>'Ursuline College'</li><li>'Valley City State University'</li><li>'Valparaiso University'</li><li>'Vanderbilt University'</li><li>'Vassar College'</li><li>'Villanova University'</li><li>'Virginia Commonwealth University'</li><li>'Virginia State University'</li><li>'Virginia Tech'</li><li>'Virginia Union University'</li><li>'Virginia Wesleyan College'</li><li>'Viterbo College'</li><li>'Voorhees College'</li><li>'Wabash College'</li><li>'Wagner College'</li><li>'Wake Forest University'</li><li>'Walsh University'</li><li>'Warren Wilson College'</li><li>'Wartburg College'</li><li>'Washington and Jefferson College'</li><li>'Washington and Lee University'</li><li>'Washington College'</li><li>'Washington State University'</li><li>'Washington University'</li><li>'Wayne State College'</li><li>'Waynesburg College'</li><li>'Webber College'</li><li>'Webster University'</li><li>'Wellesley College'</li><li>'Wells College'</li><li>'Wentworth Institute of Technology'</li><li>'Wesley College'</li><li>'Wesleyan University'</li><li>'West Chester University of Penn.'</li><li>'West Liberty State College'</li><li>'West Virginia Wesleyan College'</li><li>'Western Carolina University'</li><li>'Western Maryland College'</li><li>'Western Michigan University'</li><li>'Western New England College'</li><li>'Western State College of Colorado'</li><li>'Western Washington University'</li><li>'Westfield State College'</li><li>'Westminster College MO'</li><li>'Westminster College'</li><li>'Westminster College of Salt Lake City'</li><li>'Westmont College'</li><li>'Wheaton College IL'</li><li>'Westminster College PA'</li><li>'Wheeling Jesuit College'</li><li>'Whitman College'</li><li>'Whittier College'</li><li>'Whitworth College'</li><li>'Widener University'</li><li>'Wilkes University'</li><li>'Willamette University'</li><li>'William Jewell College'</li><li>'William Woods University'</li><li>'Williams College'</li><li>'Wilson College'</li><li>'Wingate College'</li><li>'Winona State University'</li><li>'Winthrop University'</li><li>'Wisconsin Lutheran College'</li><li>'Wittenberg University'</li><li>'Wofford College'</li><li>'Worcester Polytechnic Institute'</li><li>'Worcester State College'</li><li>'Xavier University'</li><li>'Xavier University of Louisiana'</li><li>'Yale University'</li><li>'York College of Pennsylvania'</li></ol>\n"
      ],
      "text/latex": [
       "\\begin{enumerate*}\n",
       "\\item 'Abilene Christian University'\n",
       "\\item 'Adelphi University'\n",
       "\\item 'Adrian College'\n",
       "\\item 'Agnes Scott College'\n",
       "\\item 'Alaska Pacific University'\n",
       "\\item 'Albertson College'\n",
       "\\item 'Albertus Magnus College'\n",
       "\\item 'Albion College'\n",
       "\\item 'Albright College'\n",
       "\\item 'Alderson-Broaddus College'\n",
       "\\item 'Alfred University'\n",
       "\\item 'Allegheny College'\n",
       "\\item 'Allentown Coll. of St. Francis de Sales'\n",
       "\\item 'Alma College'\n",
       "\\item 'Alverno College'\n",
       "\\item 'American International College'\n",
       "\\item 'Amherst College'\n",
       "\\item 'Anderson University'\n",
       "\\item 'Andrews University'\n",
       "\\item 'Angelo State University'\n",
       "\\item 'Antioch University'\n",
       "\\item 'Appalachian State University'\n",
       "\\item 'Aquinas College'\n",
       "\\item 'Arizona State University Main campus'\n",
       "\\item 'Arkansas College (Lyon College)'\n",
       "\\item 'Arkansas Tech University'\n",
       "\\item 'Assumption College'\n",
       "\\item 'Auburn University-Main Campus'\n",
       "\\item 'Augsburg College'\n",
       "\\item 'Augustana College IL'\n",
       "\\item 'Augustana College'\n",
       "\\item 'Austin College'\n",
       "\\item 'Averett College'\n",
       "\\item 'Baker University'\n",
       "\\item 'Baldwin-Wallace College'\n",
       "\\item 'Barat College'\n",
       "\\item 'Bard College'\n",
       "\\item 'Barnard College'\n",
       "\\item 'Barry University'\n",
       "\\item 'Baylor University'\n",
       "\\item 'Beaver College'\n",
       "\\item 'Bellarmine College'\n",
       "\\item 'Belmont Abbey College'\n",
       "\\item 'Belmont University'\n",
       "\\item 'Beloit College'\n",
       "\\item 'Bemidji State University'\n",
       "\\item 'Benedictine College'\n",
       "\\item 'Bennington College'\n",
       "\\item 'Bentley College'\n",
       "\\item 'Berry College'\n",
       "\\item 'Bethany College'\n",
       "\\item 'Bethel College KS'\n",
       "\\item 'Bethel College'\n",
       "\\item 'Bethune Cookman College'\n",
       "\\item 'Birmingham-Southern College'\n",
       "\\item 'Blackburn College'\n",
       "\\item 'Bloomsburg Univ. of Pennsylvania'\n",
       "\\item 'Bluefield College'\n",
       "\\item 'Bluffton College'\n",
       "\\item 'Boston University'\n",
       "\\item 'Bowdoin College'\n",
       "\\item 'Bowling Green State University'\n",
       "\\item 'Bradford College'\n",
       "\\item 'Bradley University'\n",
       "\\item 'Brandeis University'\n",
       "\\item 'Brenau University'\n",
       "\\item 'Brewton-Parker College'\n",
       "\\item 'Briar Cliff College'\n",
       "\\item 'Bridgewater College'\n",
       "\\item 'Brigham Young University at Provo'\n",
       "\\item 'Brown University'\n",
       "\\item 'Bryn Mawr College'\n",
       "\\item 'Bucknell University'\n",
       "\\item 'Buena Vista College'\n",
       "\\item 'Butler University'\n",
       "\\item 'Cabrini College'\n",
       "\\item 'Caldwell College'\n",
       "\\item 'California Lutheran University'\n",
       "\\item 'California Polytechnic-San Luis'\n",
       "\\item 'California State University at Fresno'\n",
       "\\item 'Calvin College'\n",
       "\\item 'Campbell University'\n",
       "\\item 'Campbellsville College'\n",
       "\\item 'Canisius College'\n",
       "\\item 'Capital University'\n",
       "\\item 'Capitol College'\n",
       "\\item 'Carleton College'\n",
       "\\item 'Carnegie Mellon University'\n",
       "\\item 'Carroll College'\n",
       "\\item 'Carson-Newman College'\n",
       "\\item 'Carthage College'\n",
       "\\item 'Case Western Reserve University'\n",
       "\\item 'Castleton State College'\n",
       "\\item 'Catawba College'\n",
       "\\item 'Catholic University of America'\n",
       "\\item 'Cazenovia College'\n",
       "\\item 'Cedar Crest College'\n",
       "\\item 'Cedarville College'\n",
       "\\item 'Centenary College'\n",
       "\\item 'Centenary College of Louisiana'\n",
       "\\item 'Center for Creative Studies'\n",
       "\\item 'Central College'\n",
       "\\item 'Central Connecticut State University'\n",
       "\\item 'Central Missouri State University'\n",
       "\\item 'Central Washington University'\n",
       "\\item 'Central Wesleyan College'\n",
       "\\item 'Centre College'\n",
       "\\item 'Chapman University'\n",
       "\\item 'Chatham College'\n",
       "\\item 'Chestnut Hill College'\n",
       "\\item 'Christendom College'\n",
       "\\item 'Christian Brothers University'\n",
       "\\item 'Christopher Newport University'\n",
       "\\item 'Claflin College'\n",
       "\\item 'Claremont McKenna College'\n",
       "\\item 'Clark University'\n",
       "\\item 'Clarke College'\n",
       "\\item 'Clarkson University'\n",
       "\\item 'Clemson University'\n",
       "\\item 'Clinch Valley Coll. of  the Univ. of Virginia'\n",
       "\\item 'Coe College'\n",
       "\\item 'Coker College'\n",
       "\\item 'Colby College'\n",
       "\\item 'Colgate University'\n",
       "\\item 'College Misericordia'\n",
       "\\item 'College of Charleston'\n",
       "\\item 'College of Mount St. Joseph'\n",
       "\\item 'College of Mount St. Vincent'\n",
       "\\item 'College of Notre Dame'\n",
       "\\item 'College of Notre Dame of Maryland'\n",
       "\\item 'College of Saint Benedict'\n",
       "\\item 'College of Saint Catherine'\n",
       "\\item 'College of Saint Elizabeth'\n",
       "\\item 'College of Saint Rose'\n",
       "\\item 'College of Santa Fe'\n",
       "\\item 'College of St. Joseph'\n",
       "\\item 'College of St. Scholastica'\n",
       "\\item 'College of the Holy Cross'\n",
       "\\item 'College of William and Mary'\n",
       "\\item 'College of Wooster'\n",
       "\\item 'Colorado College'\n",
       "\\item 'Colorado State University'\n",
       "\\item 'Columbia College MO'\n",
       "\\item 'Columbia College'\n",
       "\\item 'Columbia University'\n",
       "\\item 'Concordia College at St. Paul'\n",
       "\\item 'Concordia Lutheran College'\n",
       "\\item 'Concordia University CA'\n",
       "\\item 'Concordia University'\n",
       "\\item 'Connecticut College'\n",
       "\\item 'Converse College'\n",
       "\\item 'Cornell College'\n",
       "\\item 'Creighton University'\n",
       "\\item 'Culver-Stockton College'\n",
       "\\item 'Cumberland College'\n",
       "\\item 'D\\textbackslash{}'Youville College'\n",
       "\\item 'Dana College'\n",
       "\\item 'Daniel Webster College'\n",
       "\\item 'Dartmouth College'\n",
       "\\item 'Davidson College'\n",
       "\\item 'Defiance College'\n",
       "\\item 'Delta State University'\n",
       "\\item 'Denison University'\n",
       "\\item 'DePauw University'\n",
       "\\item 'Dickinson College'\n",
       "\\item 'Dickinson State University'\n",
       "\\item 'Dillard University'\n",
       "\\item 'Doane College'\n",
       "\\item 'Dominican College of Blauvelt'\n",
       "\\item 'Dordt College'\n",
       "\\item 'Dowling College'\n",
       "\\item 'Drake University'\n",
       "\\item 'Drew University'\n",
       "\\item 'Drury College'\n",
       "\\item 'Duke University'\n",
       "\\item 'Earlham College'\n",
       "\\item 'East Carolina University'\n",
       "\\item 'East Tennessee State University'\n",
       "\\item 'East Texas Baptist University'\n",
       "\\item 'Eastern College'\n",
       "\\item 'Eastern Connecticut State University'\n",
       "\\item 'Eastern Illinois University'\n",
       "\\item 'Eastern Mennonite College'\n",
       "\\item 'Eastern Nazarene College'\n",
       "\\item 'Eckerd College'\n",
       "\\item 'Elizabethtown College'\n",
       "\\item 'Elmira College'\n",
       "\\item 'Elms College'\n",
       "\\item 'Elon College'\n",
       "\\item 'Embry Riddle Aeronautical University'\n",
       "\\item 'Emory \\& Henry College'\n",
       "\\item 'Emory University'\n",
       "\\item 'Emporia State University'\n",
       "\\item 'Erskine College'\n",
       "\\item 'Eureka College'\n",
       "\\item 'Evergreen State College'\n",
       "\\item 'Fairfield University'\n",
       "\\item 'Fayetteville State University'\n",
       "\\item 'Ferrum College'\n",
       "\\item 'Flagler College'\n",
       "\\item ⋯\n",
       "\\item 'Tabor College'\n",
       "\\item 'Talladega College'\n",
       "\\item 'Taylor University'\n",
       "\\item 'Tennessee Wesleyan College'\n",
       "\\item 'Texas A\\&M Univ. at College Station'\n",
       "\\item 'Texas A\\&M University at Galveston'\n",
       "\\item 'Texas Christian University'\n",
       "\\item 'Texas Lutheran College'\n",
       "\\item 'Texas Southern University'\n",
       "\\item 'Texas Wesleyan University'\n",
       "\\item 'The Citadel'\n",
       "\\item 'Thiel College'\n",
       "\\item 'Tiffin University'\n",
       "\\item 'Transylvania University'\n",
       "\\item 'Trenton State College'\n",
       "\\item 'Tri-State University'\n",
       "\\item 'Trinity College CT'\n",
       "\\item 'Trinity College DC'\n",
       "\\item 'Trinity College VT'\n",
       "\\item 'Trinity University'\n",
       "\\item 'Tulane University'\n",
       "\\item 'Tusculum College'\n",
       "\\item 'Tuskegee University'\n",
       "\\item 'Union College KY'\n",
       "\\item 'Union College NY'\n",
       "\\item 'Univ. of Wisconsin at OshKosh'\n",
       "\\item 'University of Alabama at Birmingham'\n",
       "\\item 'University of Arkansas at Fayetteville'\n",
       "\\item 'University of California at Berkeley'\n",
       "\\item 'University of California at Irvine'\n",
       "\\item 'University of Central Florida'\n",
       "\\item 'University of Charleston'\n",
       "\\item 'University of Chicago'\n",
       "\\item 'University of Cincinnati'\n",
       "\\item 'University of Connecticut at Storrs'\n",
       "\\item 'University of Dallas'\n",
       "\\item 'University of Dayton'\n",
       "\\item 'University of Delaware'\n",
       "\\item 'University of Denver'\n",
       "\\item 'University of Detroit Mercy'\n",
       "\\item 'University of Dubuque'\n",
       "\\item 'University of Evansville'\n",
       "\\item 'University of Florida'\n",
       "\\item 'University of Georgia'\n",
       "\\item 'University of Hartford'\n",
       "\\item 'University of Hawaii at Manoa'\n",
       "\\item 'University of Illinois - Urbana'\n",
       "\\item 'University of Illinois at Chicago'\n",
       "\\item 'University of Indianapolis'\n",
       "\\item 'University of Kansas'\n",
       "\\item 'University of La Verne'\n",
       "\\item 'University of Louisville'\n",
       "\\item 'University of Maine at Farmington'\n",
       "\\item 'University of Maine at Machias'\n",
       "\\item 'University of Maine at Presque Isle'\n",
       "\\item 'University of Maryland at Baltimore County'\n",
       "\\item 'University of Maryland at College Park'\n",
       "\\item 'University of Massachusetts at Amherst'\n",
       "\\item 'University of Massachusetts at Dartmouth'\n",
       "\\item 'University of Miami'\n",
       "\\item 'University of Michigan at Ann Arbor'\n",
       "\\item 'University of Minnesota at Duluth'\n",
       "\\item 'University of Minnesota at Morris'\n",
       "\\item 'University of Minnesota Twin Cities'\n",
       "\\item 'University of Mississippi'\n",
       "\\item 'University of Missouri at Columbia'\n",
       "\\item 'University of Missouri at Rolla'\n",
       "\\item 'University of Missouri at Saint Louis'\n",
       "\\item 'University of Mobile'\n",
       "\\item 'University of Montevallo'\n",
       "\\item 'University of Nebraska at Lincoln'\n",
       "\\item 'University of New England'\n",
       "\\item 'University of New Hampshire'\n",
       "\\item 'University of North Carolina at Asheville'\n",
       "\\item 'University of North Carolina at Chapel Hill'\n",
       "\\item 'University of North Carolina at Charlotte'\n",
       "\\item 'University of North Carolina at Greensboro'\n",
       "\\item 'University of North Carolina at Wilmington'\n",
       "\\item 'University of North Dakota'\n",
       "\\item 'University of North Florida'\n",
       "\\item 'University of North Texas'\n",
       "\\item 'University of Northern Colorado'\n",
       "\\item 'University of Northern Iowa'\n",
       "\\item 'University of Notre Dame'\n",
       "\\item 'University of Oklahoma'\n",
       "\\item 'University of Oregon'\n",
       "\\item 'University of Pennsylvania'\n",
       "\\item 'University of Pittsburgh-Main Campus'\n",
       "\\item 'University of Portland'\n",
       "\\item 'University of Puget Sound'\n",
       "\\item 'University of Rhode Island'\n",
       "\\item 'University of Richmond'\n",
       "\\item 'University of Rochester'\n",
       "\\item 'University of San Diego'\n",
       "\\item 'University of San Francisco'\n",
       "\\item 'University of Sci. and Arts of Oklahoma'\n",
       "\\item 'University of Scranton'\n",
       "\\item 'University of South Carolina at Aiken'\n",
       "\\item 'University of South Carolina at Columbia'\n",
       "\\item 'University of South Florida'\n",
       "\\item 'University of Southern California'\n",
       "\\item 'University of Southern Colorado'\n",
       "\\item 'University of Southern Indiana'\n",
       "\\item 'University of Southern Mississippi'\n",
       "\\item 'University of St. Thomas MN'\n",
       "\\item 'University of St. Thomas TX'\n",
       "\\item 'University of Tennessee at Knoxville'\n",
       "\\item 'University of Texas at Arlington'\n",
       "\\item 'University of Texas at Austin'\n",
       "\\item 'University of Texas at San Antonio'\n",
       "\\item 'University of the Arts'\n",
       "\\item 'University of the Pacific'\n",
       "\\item 'University of the South'\n",
       "\\item 'University of Tulsa'\n",
       "\\item 'University of Utah'\n",
       "\\item 'University of Vermont'\n",
       "\\item 'University of Virginia'\n",
       "\\item 'University of Washington'\n",
       "\\item 'University of West Florida'\n",
       "\\item 'University of Wisconsin-Stout'\n",
       "\\item 'University of Wisconsin-Superior'\n",
       "\\item 'University of Wisconsin-Whitewater'\n",
       "\\item 'University of Wisconsin at Green Bay'\n",
       "\\item 'University of Wisconsin at Madison'\n",
       "\\item 'University of Wisconsin at Milwaukee'\n",
       "\\item 'University of Wyoming'\n",
       "\\item 'Upper Iowa University'\n",
       "\\item 'Ursinus College'\n",
       "\\item 'Ursuline College'\n",
       "\\item 'Valley City State University'\n",
       "\\item 'Valparaiso University'\n",
       "\\item 'Vanderbilt University'\n",
       "\\item 'Vassar College'\n",
       "\\item 'Villanova University'\n",
       "\\item 'Virginia Commonwealth University'\n",
       "\\item 'Virginia State University'\n",
       "\\item 'Virginia Tech'\n",
       "\\item 'Virginia Union University'\n",
       "\\item 'Virginia Wesleyan College'\n",
       "\\item 'Viterbo College'\n",
       "\\item 'Voorhees College'\n",
       "\\item 'Wabash College'\n",
       "\\item 'Wagner College'\n",
       "\\item 'Wake Forest University'\n",
       "\\item 'Walsh University'\n",
       "\\item 'Warren Wilson College'\n",
       "\\item 'Wartburg College'\n",
       "\\item 'Washington and Jefferson College'\n",
       "\\item 'Washington and Lee University'\n",
       "\\item 'Washington College'\n",
       "\\item 'Washington State University'\n",
       "\\item 'Washington University'\n",
       "\\item 'Wayne State College'\n",
       "\\item 'Waynesburg College'\n",
       "\\item 'Webber College'\n",
       "\\item 'Webster University'\n",
       "\\item 'Wellesley College'\n",
       "\\item 'Wells College'\n",
       "\\item 'Wentworth Institute of Technology'\n",
       "\\item 'Wesley College'\n",
       "\\item 'Wesleyan University'\n",
       "\\item 'West Chester University of Penn.'\n",
       "\\item 'West Liberty State College'\n",
       "\\item 'West Virginia Wesleyan College'\n",
       "\\item 'Western Carolina University'\n",
       "\\item 'Western Maryland College'\n",
       "\\item 'Western Michigan University'\n",
       "\\item 'Western New England College'\n",
       "\\item 'Western State College of Colorado'\n",
       "\\item 'Western Washington University'\n",
       "\\item 'Westfield State College'\n",
       "\\item 'Westminster College MO'\n",
       "\\item 'Westminster College'\n",
       "\\item 'Westminster College of Salt Lake City'\n",
       "\\item 'Westmont College'\n",
       "\\item 'Wheaton College IL'\n",
       "\\item 'Westminster College PA'\n",
       "\\item 'Wheeling Jesuit College'\n",
       "\\item 'Whitman College'\n",
       "\\item 'Whittier College'\n",
       "\\item 'Whitworth College'\n",
       "\\item 'Widener University'\n",
       "\\item 'Wilkes University'\n",
       "\\item 'Willamette University'\n",
       "\\item 'William Jewell College'\n",
       "\\item 'William Woods University'\n",
       "\\item 'Williams College'\n",
       "\\item 'Wilson College'\n",
       "\\item 'Wingate College'\n",
       "\\item 'Winona State University'\n",
       "\\item 'Winthrop University'\n",
       "\\item 'Wisconsin Lutheran College'\n",
       "\\item 'Wittenberg University'\n",
       "\\item 'Wofford College'\n",
       "\\item 'Worcester Polytechnic Institute'\n",
       "\\item 'Worcester State College'\n",
       "\\item 'Xavier University'\n",
       "\\item 'Xavier University of Louisiana'\n",
       "\\item 'Yale University'\n",
       "\\item 'York College of Pennsylvania'\n",
       "\\end{enumerate*}\n"
      ],
      "text/markdown": [
       "1. 'Abilene Christian University'\n",
       "2. 'Adelphi University'\n",
       "3. 'Adrian College'\n",
       "4. 'Agnes Scott College'\n",
       "5. 'Alaska Pacific University'\n",
       "6. 'Albertson College'\n",
       "7. 'Albertus Magnus College'\n",
       "8. 'Albion College'\n",
       "9. 'Albright College'\n",
       "10. 'Alderson-Broaddus College'\n",
       "11. 'Alfred University'\n",
       "12. 'Allegheny College'\n",
       "13. 'Allentown Coll. of St. Francis de Sales'\n",
       "14. 'Alma College'\n",
       "15. 'Alverno College'\n",
       "16. 'American International College'\n",
       "17. 'Amherst College'\n",
       "18. 'Anderson University'\n",
       "19. 'Andrews University'\n",
       "20. 'Angelo State University'\n",
       "21. 'Antioch University'\n",
       "22. 'Appalachian State University'\n",
       "23. 'Aquinas College'\n",
       "24. 'Arizona State University Main campus'\n",
       "25. 'Arkansas College (Lyon College)'\n",
       "26. 'Arkansas Tech University'\n",
       "27. 'Assumption College'\n",
       "28. 'Auburn University-Main Campus'\n",
       "29. 'Augsburg College'\n",
       "30. 'Augustana College IL'\n",
       "31. 'Augustana College'\n",
       "32. 'Austin College'\n",
       "33. 'Averett College'\n",
       "34. 'Baker University'\n",
       "35. 'Baldwin-Wallace College'\n",
       "36. 'Barat College'\n",
       "37. 'Bard College'\n",
       "38. 'Barnard College'\n",
       "39. 'Barry University'\n",
       "40. 'Baylor University'\n",
       "41. 'Beaver College'\n",
       "42. 'Bellarmine College'\n",
       "43. 'Belmont Abbey College'\n",
       "44. 'Belmont University'\n",
       "45. 'Beloit College'\n",
       "46. 'Bemidji State University'\n",
       "47. 'Benedictine College'\n",
       "48. 'Bennington College'\n",
       "49. 'Bentley College'\n",
       "50. 'Berry College'\n",
       "51. 'Bethany College'\n",
       "52. 'Bethel College KS'\n",
       "53. 'Bethel College'\n",
       "54. 'Bethune Cookman College'\n",
       "55. 'Birmingham-Southern College'\n",
       "56. 'Blackburn College'\n",
       "57. 'Bloomsburg Univ. of Pennsylvania'\n",
       "58. 'Bluefield College'\n",
       "59. 'Bluffton College'\n",
       "60. 'Boston University'\n",
       "61. 'Bowdoin College'\n",
       "62. 'Bowling Green State University'\n",
       "63. 'Bradford College'\n",
       "64. 'Bradley University'\n",
       "65. 'Brandeis University'\n",
       "66. 'Brenau University'\n",
       "67. 'Brewton-Parker College'\n",
       "68. 'Briar Cliff College'\n",
       "69. 'Bridgewater College'\n",
       "70. 'Brigham Young University at Provo'\n",
       "71. 'Brown University'\n",
       "72. 'Bryn Mawr College'\n",
       "73. 'Bucknell University'\n",
       "74. 'Buena Vista College'\n",
       "75. 'Butler University'\n",
       "76. 'Cabrini College'\n",
       "77. 'Caldwell College'\n",
       "78. 'California Lutheran University'\n",
       "79. 'California Polytechnic-San Luis'\n",
       "80. 'California State University at Fresno'\n",
       "81. 'Calvin College'\n",
       "82. 'Campbell University'\n",
       "83. 'Campbellsville College'\n",
       "84. 'Canisius College'\n",
       "85. 'Capital University'\n",
       "86. 'Capitol College'\n",
       "87. 'Carleton College'\n",
       "88. 'Carnegie Mellon University'\n",
       "89. 'Carroll College'\n",
       "90. 'Carson-Newman College'\n",
       "91. 'Carthage College'\n",
       "92. 'Case Western Reserve University'\n",
       "93. 'Castleton State College'\n",
       "94. 'Catawba College'\n",
       "95. 'Catholic University of America'\n",
       "96. 'Cazenovia College'\n",
       "97. 'Cedar Crest College'\n",
       "98. 'Cedarville College'\n",
       "99. 'Centenary College'\n",
       "100. 'Centenary College of Louisiana'\n",
       "101. 'Center for Creative Studies'\n",
       "102. 'Central College'\n",
       "103. 'Central Connecticut State University'\n",
       "104. 'Central Missouri State University'\n",
       "105. 'Central Washington University'\n",
       "106. 'Central Wesleyan College'\n",
       "107. 'Centre College'\n",
       "108. 'Chapman University'\n",
       "109. 'Chatham College'\n",
       "110. 'Chestnut Hill College'\n",
       "111. 'Christendom College'\n",
       "112. 'Christian Brothers University'\n",
       "113. 'Christopher Newport University'\n",
       "114. 'Claflin College'\n",
       "115. 'Claremont McKenna College'\n",
       "116. 'Clark University'\n",
       "117. 'Clarke College'\n",
       "118. 'Clarkson University'\n",
       "119. 'Clemson University'\n",
       "120. <span style=white-space:pre-wrap>'Clinch Valley Coll. of  the Univ. of Virginia'</span>\n",
       "121. 'Coe College'\n",
       "122. 'Coker College'\n",
       "123. 'Colby College'\n",
       "124. 'Colgate University'\n",
       "125. 'College Misericordia'\n",
       "126. 'College of Charleston'\n",
       "127. 'College of Mount St. Joseph'\n",
       "128. 'College of Mount St. Vincent'\n",
       "129. 'College of Notre Dame'\n",
       "130. 'College of Notre Dame of Maryland'\n",
       "131. 'College of Saint Benedict'\n",
       "132. 'College of Saint Catherine'\n",
       "133. 'College of Saint Elizabeth'\n",
       "134. 'College of Saint Rose'\n",
       "135. 'College of Santa Fe'\n",
       "136. 'College of St. Joseph'\n",
       "137. 'College of St. Scholastica'\n",
       "138. 'College of the Holy Cross'\n",
       "139. 'College of William and Mary'\n",
       "140. 'College of Wooster'\n",
       "141. 'Colorado College'\n",
       "142. 'Colorado State University'\n",
       "143. 'Columbia College MO'\n",
       "144. 'Columbia College'\n",
       "145. 'Columbia University'\n",
       "146. 'Concordia College at St. Paul'\n",
       "147. 'Concordia Lutheran College'\n",
       "148. 'Concordia University CA'\n",
       "149. 'Concordia University'\n",
       "150. 'Connecticut College'\n",
       "151. 'Converse College'\n",
       "152. 'Cornell College'\n",
       "153. 'Creighton University'\n",
       "154. 'Culver-Stockton College'\n",
       "155. 'Cumberland College'\n",
       "156. 'D\\'Youville College'\n",
       "157. 'Dana College'\n",
       "158. 'Daniel Webster College'\n",
       "159. 'Dartmouth College'\n",
       "160. 'Davidson College'\n",
       "161. 'Defiance College'\n",
       "162. 'Delta State University'\n",
       "163. 'Denison University'\n",
       "164. 'DePauw University'\n",
       "165. 'Dickinson College'\n",
       "166. 'Dickinson State University'\n",
       "167. 'Dillard University'\n",
       "168. 'Doane College'\n",
       "169. 'Dominican College of Blauvelt'\n",
       "170. 'Dordt College'\n",
       "171. 'Dowling College'\n",
       "172. 'Drake University'\n",
       "173. 'Drew University'\n",
       "174. 'Drury College'\n",
       "175. 'Duke University'\n",
       "176. 'Earlham College'\n",
       "177. 'East Carolina University'\n",
       "178. 'East Tennessee State University'\n",
       "179. 'East Texas Baptist University'\n",
       "180. 'Eastern College'\n",
       "181. 'Eastern Connecticut State University'\n",
       "182. 'Eastern Illinois University'\n",
       "183. 'Eastern Mennonite College'\n",
       "184. 'Eastern Nazarene College'\n",
       "185. 'Eckerd College'\n",
       "186. 'Elizabethtown College'\n",
       "187. 'Elmira College'\n",
       "188. 'Elms College'\n",
       "189. 'Elon College'\n",
       "190. 'Embry Riddle Aeronautical University'\n",
       "191. 'Emory &amp; Henry College'\n",
       "192. 'Emory University'\n",
       "193. 'Emporia State University'\n",
       "194. 'Erskine College'\n",
       "195. 'Eureka College'\n",
       "196. 'Evergreen State College'\n",
       "197. 'Fairfield University'\n",
       "198. 'Fayetteville State University'\n",
       "199. 'Ferrum College'\n",
       "200. 'Flagler College'\n",
       "201. ⋯\n",
       "202. 'Tabor College'\n",
       "203. 'Talladega College'\n",
       "204. 'Taylor University'\n",
       "205. 'Tennessee Wesleyan College'\n",
       "206. 'Texas A&amp;M Univ. at College Station'\n",
       "207. 'Texas A&amp;M University at Galveston'\n",
       "208. 'Texas Christian University'\n",
       "209. 'Texas Lutheran College'\n",
       "210. 'Texas Southern University'\n",
       "211. 'Texas Wesleyan University'\n",
       "212. 'The Citadel'\n",
       "213. 'Thiel College'\n",
       "214. 'Tiffin University'\n",
       "215. 'Transylvania University'\n",
       "216. 'Trenton State College'\n",
       "217. 'Tri-State University'\n",
       "218. 'Trinity College CT'\n",
       "219. 'Trinity College DC'\n",
       "220. 'Trinity College VT'\n",
       "221. 'Trinity University'\n",
       "222. 'Tulane University'\n",
       "223. 'Tusculum College'\n",
       "224. 'Tuskegee University'\n",
       "225. 'Union College KY'\n",
       "226. 'Union College NY'\n",
       "227. 'Univ. of Wisconsin at OshKosh'\n",
       "228. 'University of Alabama at Birmingham'\n",
       "229. 'University of Arkansas at Fayetteville'\n",
       "230. 'University of California at Berkeley'\n",
       "231. 'University of California at Irvine'\n",
       "232. 'University of Central Florida'\n",
       "233. 'University of Charleston'\n",
       "234. 'University of Chicago'\n",
       "235. 'University of Cincinnati'\n",
       "236. 'University of Connecticut at Storrs'\n",
       "237. 'University of Dallas'\n",
       "238. 'University of Dayton'\n",
       "239. 'University of Delaware'\n",
       "240. 'University of Denver'\n",
       "241. 'University of Detroit Mercy'\n",
       "242. 'University of Dubuque'\n",
       "243. 'University of Evansville'\n",
       "244. 'University of Florida'\n",
       "245. 'University of Georgia'\n",
       "246. 'University of Hartford'\n",
       "247. 'University of Hawaii at Manoa'\n",
       "248. 'University of Illinois - Urbana'\n",
       "249. 'University of Illinois at Chicago'\n",
       "250. 'University of Indianapolis'\n",
       "251. 'University of Kansas'\n",
       "252. 'University of La Verne'\n",
       "253. 'University of Louisville'\n",
       "254. 'University of Maine at Farmington'\n",
       "255. 'University of Maine at Machias'\n",
       "256. 'University of Maine at Presque Isle'\n",
       "257. 'University of Maryland at Baltimore County'\n",
       "258. 'University of Maryland at College Park'\n",
       "259. 'University of Massachusetts at Amherst'\n",
       "260. 'University of Massachusetts at Dartmouth'\n",
       "261. 'University of Miami'\n",
       "262. 'University of Michigan at Ann Arbor'\n",
       "263. 'University of Minnesota at Duluth'\n",
       "264. 'University of Minnesota at Morris'\n",
       "265. 'University of Minnesota Twin Cities'\n",
       "266. 'University of Mississippi'\n",
       "267. 'University of Missouri at Columbia'\n",
       "268. 'University of Missouri at Rolla'\n",
       "269. 'University of Missouri at Saint Louis'\n",
       "270. 'University of Mobile'\n",
       "271. 'University of Montevallo'\n",
       "272. 'University of Nebraska at Lincoln'\n",
       "273. 'University of New England'\n",
       "274. 'University of New Hampshire'\n",
       "275. 'University of North Carolina at Asheville'\n",
       "276. 'University of North Carolina at Chapel Hill'\n",
       "277. 'University of North Carolina at Charlotte'\n",
       "278. 'University of North Carolina at Greensboro'\n",
       "279. 'University of North Carolina at Wilmington'\n",
       "280. 'University of North Dakota'\n",
       "281. 'University of North Florida'\n",
       "282. 'University of North Texas'\n",
       "283. 'University of Northern Colorado'\n",
       "284. 'University of Northern Iowa'\n",
       "285. 'University of Notre Dame'\n",
       "286. 'University of Oklahoma'\n",
       "287. 'University of Oregon'\n",
       "288. 'University of Pennsylvania'\n",
       "289. 'University of Pittsburgh-Main Campus'\n",
       "290. 'University of Portland'\n",
       "291. 'University of Puget Sound'\n",
       "292. 'University of Rhode Island'\n",
       "293. 'University of Richmond'\n",
       "294. 'University of Rochester'\n",
       "295. 'University of San Diego'\n",
       "296. 'University of San Francisco'\n",
       "297. 'University of Sci. and Arts of Oklahoma'\n",
       "298. 'University of Scranton'\n",
       "299. 'University of South Carolina at Aiken'\n",
       "300. 'University of South Carolina at Columbia'\n",
       "301. 'University of South Florida'\n",
       "302. 'University of Southern California'\n",
       "303. 'University of Southern Colorado'\n",
       "304. 'University of Southern Indiana'\n",
       "305. 'University of Southern Mississippi'\n",
       "306. 'University of St. Thomas MN'\n",
       "307. 'University of St. Thomas TX'\n",
       "308. 'University of Tennessee at Knoxville'\n",
       "309. 'University of Texas at Arlington'\n",
       "310. 'University of Texas at Austin'\n",
       "311. 'University of Texas at San Antonio'\n",
       "312. 'University of the Arts'\n",
       "313. 'University of the Pacific'\n",
       "314. 'University of the South'\n",
       "315. 'University of Tulsa'\n",
       "316. 'University of Utah'\n",
       "317. 'University of Vermont'\n",
       "318. 'University of Virginia'\n",
       "319. 'University of Washington'\n",
       "320. 'University of West Florida'\n",
       "321. 'University of Wisconsin-Stout'\n",
       "322. 'University of Wisconsin-Superior'\n",
       "323. 'University of Wisconsin-Whitewater'\n",
       "324. 'University of Wisconsin at Green Bay'\n",
       "325. 'University of Wisconsin at Madison'\n",
       "326. 'University of Wisconsin at Milwaukee'\n",
       "327. 'University of Wyoming'\n",
       "328. 'Upper Iowa University'\n",
       "329. 'Ursinus College'\n",
       "330. 'Ursuline College'\n",
       "331. 'Valley City State University'\n",
       "332. 'Valparaiso University'\n",
       "333. 'Vanderbilt University'\n",
       "334. 'Vassar College'\n",
       "335. 'Villanova University'\n",
       "336. 'Virginia Commonwealth University'\n",
       "337. 'Virginia State University'\n",
       "338. 'Virginia Tech'\n",
       "339. 'Virginia Union University'\n",
       "340. 'Virginia Wesleyan College'\n",
       "341. 'Viterbo College'\n",
       "342. 'Voorhees College'\n",
       "343. 'Wabash College'\n",
       "344. 'Wagner College'\n",
       "345. 'Wake Forest University'\n",
       "346. 'Walsh University'\n",
       "347. 'Warren Wilson College'\n",
       "348. 'Wartburg College'\n",
       "349. 'Washington and Jefferson College'\n",
       "350. 'Washington and Lee University'\n",
       "351. 'Washington College'\n",
       "352. 'Washington State University'\n",
       "353. 'Washington University'\n",
       "354. 'Wayne State College'\n",
       "355. 'Waynesburg College'\n",
       "356. 'Webber College'\n",
       "357. 'Webster University'\n",
       "358. 'Wellesley College'\n",
       "359. 'Wells College'\n",
       "360. 'Wentworth Institute of Technology'\n",
       "361. 'Wesley College'\n",
       "362. 'Wesleyan University'\n",
       "363. 'West Chester University of Penn.'\n",
       "364. 'West Liberty State College'\n",
       "365. 'West Virginia Wesleyan College'\n",
       "366. 'Western Carolina University'\n",
       "367. 'Western Maryland College'\n",
       "368. 'Western Michigan University'\n",
       "369. 'Western New England College'\n",
       "370. 'Western State College of Colorado'\n",
       "371. 'Western Washington University'\n",
       "372. 'Westfield State College'\n",
       "373. 'Westminster College MO'\n",
       "374. 'Westminster College'\n",
       "375. 'Westminster College of Salt Lake City'\n",
       "376. 'Westmont College'\n",
       "377. 'Wheaton College IL'\n",
       "378. 'Westminster College PA'\n",
       "379. 'Wheeling Jesuit College'\n",
       "380. 'Whitman College'\n",
       "381. 'Whittier College'\n",
       "382. 'Whitworth College'\n",
       "383. 'Widener University'\n",
       "384. 'Wilkes University'\n",
       "385. 'Willamette University'\n",
       "386. 'William Jewell College'\n",
       "387. 'William Woods University'\n",
       "388. 'Williams College'\n",
       "389. 'Wilson College'\n",
       "390. 'Wingate College'\n",
       "391. 'Winona State University'\n",
       "392. 'Winthrop University'\n",
       "393. 'Wisconsin Lutheran College'\n",
       "394. 'Wittenberg University'\n",
       "395. 'Wofford College'\n",
       "396. 'Worcester Polytechnic Institute'\n",
       "397. 'Worcester State College'\n",
       "398. 'Xavier University'\n",
       "399. 'Xavier University of Louisiana'\n",
       "400. 'Yale University'\n",
       "401. 'York College of Pennsylvania'\n",
       "\n",
       "\n"
      ],
      "text/plain": [
       "  [1] \"Abilene Christian University\"                 \n",
       "  [2] \"Adelphi University\"                           \n",
       "  [3] \"Adrian College\"                               \n",
       "  [4] \"Agnes Scott College\"                          \n",
       "  [5] \"Alaska Pacific University\"                    \n",
       "  [6] \"Albertson College\"                            \n",
       "  [7] \"Albertus Magnus College\"                      \n",
       "  [8] \"Albion College\"                               \n",
       "  [9] \"Albright College\"                             \n",
       " [10] \"Alderson-Broaddus College\"                    \n",
       " [11] \"Alfred University\"                            \n",
       " [12] \"Allegheny College\"                            \n",
       " [13] \"Allentown Coll. of St. Francis de Sales\"      \n",
       " [14] \"Alma College\"                                 \n",
       " [15] \"Alverno College\"                              \n",
       " [16] \"American International College\"               \n",
       " [17] \"Amherst College\"                              \n",
       " [18] \"Anderson University\"                          \n",
       " [19] \"Andrews University\"                           \n",
       " [20] \"Angelo State University\"                      \n",
       " [21] \"Antioch University\"                           \n",
       " [22] \"Appalachian State University\"                 \n",
       " [23] \"Aquinas College\"                              \n",
       " [24] \"Arizona State University Main campus\"         \n",
       " [25] \"Arkansas College (Lyon College)\"              \n",
       " [26] \"Arkansas Tech University\"                     \n",
       " [27] \"Assumption College\"                           \n",
       " [28] \"Auburn University-Main Campus\"                \n",
       " [29] \"Augsburg College\"                             \n",
       " [30] \"Augustana College IL\"                         \n",
       " [31] \"Augustana College\"                            \n",
       " [32] \"Austin College\"                               \n",
       " [33] \"Averett College\"                              \n",
       " [34] \"Baker University\"                             \n",
       " [35] \"Baldwin-Wallace College\"                      \n",
       " [36] \"Barat College\"                                \n",
       " [37] \"Bard College\"                                 \n",
       " [38] \"Barnard College\"                              \n",
       " [39] \"Barry University\"                             \n",
       " [40] \"Baylor University\"                            \n",
       " [41] \"Beaver College\"                               \n",
       " [42] \"Bellarmine College\"                           \n",
       " [43] \"Belmont Abbey College\"                        \n",
       " [44] \"Belmont University\"                           \n",
       " [45] \"Beloit College\"                               \n",
       " [46] \"Bemidji State University\"                     \n",
       " [47] \"Benedictine College\"                          \n",
       " [48] \"Bennington College\"                           \n",
       " [49] \"Bentley College\"                              \n",
       " [50] \"Berry College\"                                \n",
       " [51] \"Bethany College\"                              \n",
       " [52] \"Bethel College KS\"                            \n",
       " [53] \"Bethel College\"                               \n",
       " [54] \"Bethune Cookman College\"                      \n",
       " [55] \"Birmingham-Southern College\"                  \n",
       " [56] \"Blackburn College\"                            \n",
       " [57] \"Bloomsburg Univ. of Pennsylvania\"             \n",
       " [58] \"Bluefield College\"                            \n",
       " [59] \"Bluffton College\"                             \n",
       " [60] \"Boston University\"                            \n",
       " [61] \"Bowdoin College\"                              \n",
       " [62] \"Bowling Green State University\"               \n",
       " [63] \"Bradford College\"                             \n",
       " [64] \"Bradley University\"                           \n",
       " [65] \"Brandeis University\"                          \n",
       " [66] \"Brenau University\"                            \n",
       " [67] \"Brewton-Parker College\"                       \n",
       " [68] \"Briar Cliff College\"                          \n",
       " [69] \"Bridgewater College\"                          \n",
       " [70] \"Brigham Young University at Provo\"            \n",
       " [71] \"Brown University\"                             \n",
       " [72] \"Bryn Mawr College\"                            \n",
       " [73] \"Bucknell University\"                          \n",
       " [74] \"Buena Vista College\"                          \n",
       " [75] \"Butler University\"                            \n",
       " [76] \"Cabrini College\"                              \n",
       " [77] \"Caldwell College\"                             \n",
       " [78] \"California Lutheran University\"               \n",
       " [79] \"California Polytechnic-San Luis\"              \n",
       " [80] \"California State University at Fresno\"        \n",
       " [81] \"Calvin College\"                               \n",
       " [82] \"Campbell University\"                          \n",
       " [83] \"Campbellsville College\"                       \n",
       " [84] \"Canisius College\"                             \n",
       " [85] \"Capital University\"                           \n",
       " [86] \"Capitol College\"                              \n",
       " [87] \"Carleton College\"                             \n",
       " [88] \"Carnegie Mellon University\"                   \n",
       " [89] \"Carroll College\"                              \n",
       " [90] \"Carson-Newman College\"                        \n",
       " [91] \"Carthage College\"                             \n",
       " [92] \"Case Western Reserve University\"              \n",
       " [93] \"Castleton State College\"                      \n",
       " [94] \"Catawba College\"                              \n",
       " [95] \"Catholic University of America\"               \n",
       " [96] \"Cazenovia College\"                            \n",
       " [97] \"Cedar Crest College\"                          \n",
       " [98] \"Cedarville College\"                           \n",
       " [99] \"Centenary College\"                            \n",
       "[100] \"Centenary College of Louisiana\"               \n",
       "[101] \"Center for Creative Studies\"                  \n",
       "[102] \"Central College\"                              \n",
       "[103] \"Central Connecticut State University\"         \n",
       "[104] \"Central Missouri State University\"            \n",
       "[105] \"Central Washington University\"                \n",
       "[106] \"Central Wesleyan College\"                     \n",
       "[107] \"Centre College\"                               \n",
       "[108] \"Chapman University\"                           \n",
       "[109] \"Chatham College\"                              \n",
       "[110] \"Chestnut Hill College\"                        \n",
       "[111] \"Christendom College\"                          \n",
       "[112] \"Christian Brothers University\"                \n",
       "[113] \"Christopher Newport University\"               \n",
       "[114] \"Claflin College\"                              \n",
       "[115] \"Claremont McKenna College\"                    \n",
       "[116] \"Clark University\"                             \n",
       "[117] \"Clarke College\"                               \n",
       "[118] \"Clarkson University\"                          \n",
       "[119] \"Clemson University\"                           \n",
       "[120] \"Clinch Valley Coll. of  the Univ. of Virginia\"\n",
       "[121] \"Coe College\"                                  \n",
       "[122] \"Coker College\"                                \n",
       "[123] \"Colby College\"                                \n",
       "[124] \"Colgate University\"                           \n",
       "[125] \"College Misericordia\"                         \n",
       "[126] \"College of Charleston\"                        \n",
       "[127] \"College of Mount St. Joseph\"                  \n",
       "[128] \"College of Mount St. Vincent\"                 \n",
       "[129] \"College of Notre Dame\"                        \n",
       "[130] \"College of Notre Dame of Maryland\"            \n",
       "[131] \"College of Saint Benedict\"                    \n",
       "[132] \"College of Saint Catherine\"                   \n",
       "[133] \"College of Saint Elizabeth\"                   \n",
       "[134] \"College of Saint Rose\"                        \n",
       "[135] \"College of Santa Fe\"                          \n",
       "[136] \"College of St. Joseph\"                        \n",
       "[137] \"College of St. Scholastica\"                   \n",
       "[138] \"College of the Holy Cross\"                    \n",
       "[139] \"College of William and Mary\"                  \n",
       "[140] \"College of Wooster\"                           \n",
       "[141] \"Colorado College\"                             \n",
       "[142] \"Colorado State University\"                    \n",
       "[143] \"Columbia College MO\"                          \n",
       "[144] \"Columbia College\"                             \n",
       "[145] \"Columbia University\"                          \n",
       "[146] \"Concordia College at St. Paul\"                \n",
       "[147] \"Concordia Lutheran College\"                   \n",
       "[148] \"Concordia University CA\"                      \n",
       "[149] \"Concordia University\"                         \n",
       "[150] \"Connecticut College\"                          \n",
       "[151] \"Converse College\"                             \n",
       "[152] \"Cornell College\"                              \n",
       "[153] \"Creighton University\"                         \n",
       "[154] \"Culver-Stockton College\"                      \n",
       "[155] \"Cumberland College\"                           \n",
       "[156] \"D'Youville College\"                           \n",
       "[157] \"Dana College\"                                 \n",
       "[158] \"Daniel Webster College\"                       \n",
       "[159] \"Dartmouth College\"                            \n",
       "[160] \"Davidson College\"                             \n",
       "[161] \"Defiance College\"                             \n",
       "[162] \"Delta State University\"                       \n",
       "[163] \"Denison University\"                           \n",
       "[164] \"DePauw University\"                            \n",
       "[165] \"Dickinson College\"                            \n",
       "[166] \"Dickinson State University\"                   \n",
       "[167] \"Dillard University\"                           \n",
       "[168] \"Doane College\"                                \n",
       "[169] \"Dominican College of Blauvelt\"                \n",
       "[170] \"Dordt College\"                                \n",
       "[171] \"Dowling College\"                              \n",
       "[172] \"Drake University\"                             \n",
       "[173] \"Drew University\"                              \n",
       "[174] \"Drury College\"                                \n",
       "[175] \"Duke University\"                              \n",
       "[176] \"Earlham College\"                              \n",
       "[177] \"East Carolina University\"                     \n",
       "[178] \"East Tennessee State University\"              \n",
       "[179] \"East Texas Baptist University\"                \n",
       "[180] \"Eastern College\"                              \n",
       "[181] \"Eastern Connecticut State University\"         \n",
       "[182] \"Eastern Illinois University\"                  \n",
       "[183] \"Eastern Mennonite College\"                    \n",
       "[184] \"Eastern Nazarene College\"                     \n",
       "[185] \"Eckerd College\"                               \n",
       "[186] \"Elizabethtown College\"                        \n",
       "[187] \"Elmira College\"                               \n",
       "[188] \"Elms College\"                                 \n",
       "[189] \"Elon College\"                                 \n",
       "[190] \"Embry Riddle Aeronautical University\"         \n",
       "[191] \"Emory & Henry College\"                        \n",
       "[192] \"Emory University\"                             \n",
       "[193] \"Emporia State University\"                     \n",
       "[194] \"Erskine College\"                              \n",
       "[195] \"Eureka College\"                               \n",
       "[196] \"Evergreen State College\"                      \n",
       "[197] \"Fairfield University\"                         \n",
       "[198] \"Fayetteville State University\"                \n",
       "[199] \"Ferrum College\"                               \n",
       "[200] \"Flagler College\"                              \n",
       "[201] \"Florida Institute of Technology\"              \n",
       "[202] \"Florida International University\"             \n",
       "[203] \"Florida Southern College\"                     \n",
       "[204] \"Florida State University\"                     \n",
       "[205] \"Fontbonne College\"                            \n",
       "[206] \"Fordham University\"                           \n",
       "[207] \"Fort Lewis College\"                           \n",
       "[208] \"Francis Marion University\"                    \n",
       "[209] \"Franciscan University of Steubenville\"        \n",
       "[210] \"Franklin College\"                             \n",
       "[211] \"Franklin Pierce College\"                      \n",
       "[212] \"Freed-Hardeman University\"                    \n",
       "[213] \"Fresno Pacific College\"                       \n",
       "[214] \"Furman University\"                            \n",
       "[215] \"Gannon University\"                            \n",
       "[216] \"Gardner Webb University\"                      \n",
       "[217] \"Geneva College\"                               \n",
       "[218] \"George Fox College\"                           \n",
       "[219] \"George Mason University\"                      \n",
       "[220] \"George Washington University\"                 \n",
       "[221] \"Georgetown College\"                           \n",
       "[222] \"Georgetown University\"                        \n",
       "[223] \"Georgia Institute of Technology\"              \n",
       "[224] \"Georgia State University\"                     \n",
       "[225] \"Georgian Court College\"                       \n",
       "[226] \"Gettysburg College\"                           \n",
       "[227] \"Goldey Beacom College\"                        \n",
       "[228] \"Gonzaga University\"                           \n",
       "[229] \"Gordon College\"                               \n",
       "[230] \"Goshen College\"                               \n",
       "[231] \"Goucher College\"                              \n",
       "[232] \"Grace College and Seminary\"                   \n",
       "[233] \"Graceland College\"                            \n",
       "[234] \"Grand Valley State University\"                \n",
       "[235] \"Green Mountain College\"                       \n",
       "[236] \"Greensboro College\"                           \n",
       "[237] \"Greenville College\"                           \n",
       "[238] \"Grinnell College\"                             \n",
       "[239] \"Grove City College\"                           \n",
       "[240] \"Guilford College\"                             \n",
       "[241] \"Gustavus Adolphus College\"                    \n",
       "[242] \"Gwynedd Mercy College\"                        \n",
       "[243] \"Hamilton College\"                             \n",
       "[244] \"Hamline University\"                           \n",
       "[245] \"Hampden - Sydney College\"                     \n",
       "[246] \"Hampton University\"                           \n",
       "[247] \"Hanover College\"                              \n",
       "[248] \"Hardin-Simmons University\"                    \n",
       "[249] \"Harding University\"                           \n",
       "[250] \"Hartwick College\"                             \n",
       "[251] \"Harvard University\"                           \n",
       "[252] \"Harvey Mudd College\"                          \n",
       "[253] \"Hastings College\"                             \n",
       "[254] \"Hendrix College\"                              \n",
       "[255] \"Hillsdale College\"                            \n",
       "[256] \"Hiram College\"                                \n",
       "[257] \"Hobart and William Smith Colleges\"            \n",
       "[258] \"Hofstra University\"                           \n",
       "[259] \"Hollins College\"                              \n",
       "[260] \"Hood College\"                                 \n",
       "[261] \"Hope College\"                                 \n",
       "[262] \"Houghton College\"                             \n",
       "[263] \"Huntingdon College\"                           \n",
       "[264] \"Huntington College\"                           \n",
       "[265] \"Huron University\"                             \n",
       "[266] \"Husson College\"                               \n",
       "[267] \"Illinois Benedictine College\"                 \n",
       "[268] \"Illinois College\"                             \n",
       "[269] \"Illinois Institute of Technology\"             \n",
       "[270] \"Illinois State University\"                    \n",
       "[271] \"Illinois Wesleyan University\"                 \n",
       "[272] \"Immaculata College\"                           \n",
       "[273] \"Incarnate Word College\"                       \n",
       "[274] \"Indiana State University\"                     \n",
       "[275] \"Indiana University at Bloomington\"            \n",
       "[276] \"Indiana Wesleyan University\"                  \n",
       "[277] \"Iona College\"                                 \n",
       "[278] \"Iowa State University\"                        \n",
       "[279] \"Ithaca College\"                               \n",
       "[280] \"James Madison University\"                     \n",
       "[281] \"Jamestown College\"                            \n",
       "[282] \"Jersey City State College\"                    \n",
       "[283] \"John Brown University\"                        \n",
       "[284] \"John Carroll University\"                      \n",
       "[285] \"Johns Hopkins University\"                     \n",
       "[286] \"Johnson State College\"                        \n",
       "[287] \"Judson College\"                               \n",
       "[288] \"Juniata College\"                              \n",
       "[289] \"Kansas State University\"                      \n",
       "[290] \"Kansas Wesleyan University\"                   \n",
       "[291] \"Keene State College\"                          \n",
       "[292] \"Kentucky Wesleyan College\"                    \n",
       "[293] \"Kenyon College\"                               \n",
       "[294] \"Keuka College\"                                \n",
       "[295] \"King's College\"                               \n",
       "[296] \"King College\"                                 \n",
       "[297] \"Knox College\"                                 \n",
       "[298] \"La Roche College\"                             \n",
       "[299] \"La Salle University\"                          \n",
       "[300] \"Lafayette College\"                            \n",
       "[301] \"LaGrange College\"                             \n",
       "[302] \"Lake Forest College\"                          \n",
       "[303] \"Lakeland College\"                             \n",
       "[304] \"Lamar University\"                             \n",
       "[305] \"Lambuth University\"                           \n",
       "[306] \"Lander University\"                            \n",
       "[307] \"Lawrence University\"                          \n",
       "[308] \"Le Moyne College\"                             \n",
       "[309] \"Lebanon Valley College\"                       \n",
       "[310] \"Lehigh University\"                            \n",
       "[311] \"Lenoir-Rhyne College\"                         \n",
       "[312] \"Lesley College\"                               \n",
       "[313] \"LeTourneau University\"                        \n",
       "[314] \"Lewis and Clark College\"                      \n",
       "[315] \"Lewis University\"                             \n",
       "[316] \"Lincoln Memorial University\"                  \n",
       "[317] \"Lincoln University\"                           \n",
       "[318] \"Lindenwood College\"                           \n",
       "[319] \"Linfield College\"                             \n",
       "[320] \"Livingstone College\"                          \n",
       "[321] \"Lock Haven University of Pennsylvania\"        \n",
       "[322] \"Longwood College\"                             \n",
       "[323] \"Loras College\"                                \n",
       "[324] \"Louisiana College\"                            \n",
       "[325] \"Louisiana State University at Baton Rouge\"    \n",
       "[326] \"Louisiana Tech University\"                    \n",
       "[327] \"Loyola College\"                               \n",
       "[328] \"Loyola Marymount University\"                  \n",
       "[329] \"Loyola University\"                            \n",
       "[330] \"Loyola University Chicago\"                    \n",
       "[331] \"Luther College\"                               \n",
       "[332] \"Lycoming College\"                             \n",
       "[333] \"Lynchburg College\"                            \n",
       "[334] \"Lyndon State College\"                         \n",
       "[335] \"Macalester College\"                           \n",
       "[336] \"MacMurray College\"                            \n",
       "[337] \"Malone College\"                               \n",
       "[338] \"Manchester College\"                           \n",
       "[339] \"Manhattan College\"                            \n",
       "[340] \"Manhattanville College\"                       \n",
       "[341] \"Mankato State University\"                     \n",
       "[342] \"Marian College of Fond du Lac\"                \n",
       "[343] \"Marietta College\"                             \n",
       "[344] \"Marist College\"                               \n",
       "[345] \"Marquette University\"                         \n",
       "[346] \"Marshall University\"                          \n",
       "[347] \"Mary Baldwin College\"                         \n",
       "[348] \"Mary Washington College\"                      \n",
       "[349] \"Marymount College Tarrytown\"                  \n",
       "[350] \"Marymount Manhattan College\"                  \n",
       "[351] \"Marymount University\"                         \n",
       "[352] \"Maryville College\"                            \n",
       "[353] \"Maryville University\"                         \n",
       "[354] \"Marywood College\"                             \n",
       "[355] \"Massachusetts Institute of Technology\"        \n",
       "[356] \"Mayville State University\"                    \n",
       "[357] \"McKendree College\"                            \n",
       "[358] \"McMurry University\"                           \n",
       "[359] \"McPherson College\"                            \n",
       "[360] \"Mercer University\"                            \n",
       "[361] \"Mercyhurst College\"                           \n",
       "[362] \"Meredith College\"                             \n",
       "[363] \"Merrimack College\"                            \n",
       "[364] \"Mesa State College\"                           \n",
       "[365] \"Messiah College\"                              \n",
       "[366] \"Miami University at Oxford\"                   \n",
       "[367] \"Michigan State University\"                    \n",
       "[368] \"Michigan Technological University\"            \n",
       "[369] \"MidAmerica Nazarene College\"                  \n",
       "[370] \"Millersville University of Penn.\"             \n",
       "[371] \"Milligan College\"                             \n",
       "[372] \"Millikin University\"                          \n",
       "[373] \"Millsaps College\"                             \n",
       "[374] \"Milwaukee School of Engineering\"              \n",
       "[375] \"Mississippi College\"                          \n",
       "[376] \"Mississippi State University\"                 \n",
       "[377] \"Mississippi University for Women\"             \n",
       "[378] \"Missouri Southern State College\"              \n",
       "[379] \"Missouri Valley College\"                      \n",
       "[380] \"Monmouth College IL\"                          \n",
       "[381] \"Monmouth College\"                             \n",
       "[382] \"Montana College of Mineral Sci. & Tech.\"      \n",
       "[383] \"Montana State University\"                     \n",
       "[384] \"Montclair State University\"                   \n",
       "[385] \"Montreat-Anderson College\"                    \n",
       "[386] \"Moorhead State University\"                    \n",
       "[387] \"Moravian College\"                             \n",
       "[388] \"Morehouse College\"                            \n",
       "[389] \"Morningside College\"                          \n",
       "[390] \"Morris College\"                               \n",
       "[391] \"Mount Holyoke College\"                        \n",
       "[392] \"Mount Marty College\"                          \n",
       "[393] \"Mount Mary College\"                           \n",
       "[394] \"Mount Mercy College\"                          \n",
       "[395] \"Mount Saint Clare College\"                    \n",
       "[396] \"Mount Saint Mary's College\"                   \n",
       "[397] \"Mount Saint Mary College\"                     \n",
       "[398] \"Mount St. Mary's College\"                     \n",
       "[399] \"Mount Union College\"                          \n",
       "[400] \"Mount Vernon Nazarene College\"                \n",
       "[401] \"Muhlenberg College\"                           \n",
       "[402] \"Murray State University\"                      \n",
       "[403] \"Muskingum College\"                            \n",
       "[404] \"National-Louis University\"                    \n",
       "[405] \"Nazareth College of Rochester\"                \n",
       "[406] \"New Jersey Institute of Technology\"           \n",
       "[407] \"New Mexico Institute of Mining and Tech.\"     \n",
       "[408] \"New York University\"                          \n",
       "[409] \"Newberry College\"                             \n",
       "[410] \"Niagara University\"                           \n",
       "[411] \"North Adams State College\"                    \n",
       "[412] \"North Carolina A. & T. State University\"      \n",
       "[413] \"North Carolina State University at Raleigh\"   \n",
       "[414] \"North Carolina Wesleyan College\"              \n",
       "[415] \"North Central College\"                        \n",
       "[416] \"North Dakota State University\"                \n",
       "[417] \"North Park College\"                           \n",
       "[418] \"Northeast Missouri State University\"          \n",
       "[419] \"Northeastern University\"                      \n",
       "[420] \"Northern Arizona University\"                  \n",
       "[421] \"Northern Illinois University\"                 \n",
       "[422] \"Northwest Missouri State University\"          \n",
       "[423] \"Northwest Nazarene College\"                   \n",
       "[424] \"Northwestern College\"                         \n",
       "[425] \"Northwestern University\"                      \n",
       "[426] \"Norwich University\"                           \n",
       "[427] \"Notre Dame College\"                           \n",
       "[428] \"Oakland University\"                           \n",
       "[429] \"Oberlin College\"                              \n",
       "[430] \"Occidental College\"                           \n",
       "[431] \"Oglethorpe University\"                        \n",
       "[432] \"Ohio Northern University\"                     \n",
       "[433] \"Ohio University\"                              \n",
       "[434] \"Ohio Wesleyan University\"                     \n",
       "[435] \"Oklahoma Baptist University\"                  \n",
       "[436] \"Oklahoma Christian University\"                \n",
       "[437] \"Oklahoma State University\"                    \n",
       "[438] \"Otterbein College\"                            \n",
       "[439] \"Ouachita Baptist University\"                  \n",
       "[440] \"Our Lady of the Lake University\"              \n",
       "[441] \"Pace University\"                              \n",
       "[442] \"Pacific Lutheran University\"                  \n",
       "[443] \"Pacific Union College\"                        \n",
       "[444] \"Pacific University\"                           \n",
       "[445] \"Pembroke State University\"                    \n",
       "[446] \"Pennsylvania State Univ. Main Campus\"         \n",
       "[447] \"Pepperdine University\"                        \n",
       "[448] \"Peru State College\"                           \n",
       "[449] \"Pfeiffer College\"                             \n",
       "[450] \"Philadelphia Coll. of Textiles and Sci.\"      \n",
       "[451] \"Phillips University\"                          \n",
       "[452] \"Piedmont College\"                             \n",
       "[453] \"Pikeville College\"                            \n",
       "[454] \"Pitzer College\"                               \n",
       "[455] \"Point Loma Nazarene College\"                  \n",
       "[456] \"Point Park College\"                           \n",
       "[457] \"Polytechnic University\"                       \n",
       "[458] \"Prairie View A. and M. University\"            \n",
       "[459] \"Presbyterian College\"                         \n",
       "[460] \"Princeton University\"                         \n",
       "[461] \"Providence College\"                           \n",
       "[462] \"Purdue University at West Lafayette\"          \n",
       "[463] \"Queens College\"                               \n",
       "[464] \"Quincy University\"                            \n",
       "[465] \"Quinnipiac College\"                           \n",
       "[466] \"Radford University\"                           \n",
       "[467] \"Ramapo College of New Jersey\"                 \n",
       "[468] \"Randolph-Macon College\"                       \n",
       "[469] \"Randolph-Macon Woman's College\"               \n",
       "[470] \"Reed College\"                                 \n",
       "[471] \"Regis College\"                                \n",
       "[472] \"Rensselaer Polytechnic Institute\"             \n",
       "[473] \"Rhodes College\"                               \n",
       "[474] \"Rider University\"                             \n",
       "[475] \"Ripon College\"                                \n",
       "[476] \"Rivier College\"                               \n",
       "[477] \"Roanoke College\"                              \n",
       "[478] \"Rockhurst College\"                            \n",
       "[479] \"Rocky Mountain College\"                       \n",
       "[480] \"Roger Williams University\"                    \n",
       "[481] \"Rollins College\"                              \n",
       "[482] \"Rosary College\"                               \n",
       "[483] \"Rowan College of New Jersey\"                  \n",
       "[484] \"Rutgers at New Brunswick\"                     \n",
       "[485] \"Rutgers State University at Camden\"           \n",
       "[486] \"Rutgers State University at Newark\"           \n",
       "[487] \"Sacred Heart University\"                      \n",
       "[488] \"Saint Ambrose University\"                     \n",
       "[489] \"Saint Anselm College\"                         \n",
       "[490] \"Saint Cloud State University\"                 \n",
       "[491] \"Saint Francis College IN\"                     \n",
       "[492] \"Saint Francis College\"                        \n",
       "[493] \"Saint John's University\"                      \n",
       "[494] \"Saint Joseph's College IN\"                    \n",
       "[495] \"Saint Joseph's College\"                       \n",
       "[496] \"Saint Joseph's University\"                    \n",
       "[497] \"Saint Joseph College\"                         \n",
       "[498] \"Saint Louis University\"                       \n",
       "[499] \"Saint Mary's College\"                         \n",
       "[500] \"Saint Mary's College of Minnesota\"            \n",
       "[501] \"Saint Mary-of-the-Woods College\"              \n",
       "[502] \"Saint Michael's College\"                      \n",
       "[503] \"Saint Olaf College\"                           \n",
       "[504] \"Saint Peter's College\"                        \n",
       "[505] \"Saint Vincent College\"                        \n",
       "[506] \"Saint Xavier University\"                      \n",
       "[507] \"Salem-Teikyo University\"                      \n",
       "[508] \"Salem College\"                                \n",
       "[509] \"Salisbury State University\"                   \n",
       "[510] \"Samford University\"                           \n",
       "[511] \"San Diego State University\"                   \n",
       "[512] \"Santa Clara University\"                       \n",
       "[513] \"Sarah Lawrence College\"                       \n",
       "[514] \"Savannah Coll. of Art and Design\"             \n",
       "[515] \"Schreiner College\"                            \n",
       "[516] \"Scripps College\"                              \n",
       "[517] \"Seattle Pacific University\"                   \n",
       "[518] \"Seattle University\"                           \n",
       "[519] \"Seton Hall University\"                        \n",
       "[520] \"Seton Hill College\"                           \n",
       "[521] \"Shippensburg University of Penn.\"             \n",
       "[522] \"Shorter College\"                              \n",
       "[523] \"Siena College\"                                \n",
       "[524] \"Siena Heights College\"                        \n",
       "[525] \"Simmons College\"                              \n",
       "[526] \"Simpson College\"                              \n",
       "[527] \"Sioux Falls College\"                          \n",
       "[528] \"Skidmore College\"                             \n",
       "[529] \"Smith College\"                                \n",
       "[530] \"South Dakota State University\"                \n",
       "[531] \"Southeast Missouri State University\"          \n",
       "[532] \"Southeastern Oklahoma State Univ.\"            \n",
       "[533] \"Southern California College\"                  \n",
       "[534] \"Southern Illinois University at Edwardsville\" \n",
       "[535] \"Southern Methodist University\"                \n",
       "[536] \"Southwest Baptist University\"                 \n",
       "[537] \"Southwest Missouri State University\"          \n",
       "[538] \"Southwest State University\"                   \n",
       "[539] \"Southwestern Adventist College\"               \n",
       "[540] \"Southwestern College\"                         \n",
       "[541] \"Southwestern University\"                      \n",
       "[542] \"Spalding University\"                          \n",
       "[543] \"Spelman College\"                              \n",
       "[544] \"Spring Arbor College\"                         \n",
       "[545] \"St. Bonaventure University\"                   \n",
       "[546] \"St. John's College\"                           \n",
       "[547] \"St. John Fisher College\"                      \n",
       "[548] \"St. Lawrence University\"                      \n",
       "[549] \"St. Martin's College\"                         \n",
       "[550] \"St. Mary's College of California\"             \n",
       "[551] \"St. Mary's College of Maryland\"               \n",
       "[552] \"St. Mary's University of San Antonio\"         \n",
       "[553] \"St. Norbert College\"                          \n",
       "[554] \"St. Paul's College\"                           \n",
       "[555] \"St. Thomas Aquinas College\"                   \n",
       "[556] \"Stephens College\"                             \n",
       "[557] \"Stetson University\"                           \n",
       "[558] \"Stevens Institute of Technology\"              \n",
       "[559] \"Stockton College of New Jersey\"               \n",
       "[560] \"Stonehill College\"                            \n",
       "[561] \"SUNY at Albany\"                               \n",
       "[562] \"SUNY at Binghamton\"                           \n",
       "[563] \"SUNY at Buffalo\"                              \n",
       "[564] \"SUNY at Stony Brook\"                          \n",
       "[565] \"SUNY College  at Brockport\"                   \n",
       "[566] \"SUNY College  at Oswego\"                      \n",
       "[567] \"SUNY College at Buffalo\"                      \n",
       "[568] \"SUNY College at Cortland\"                     \n",
       "[569] \"SUNY College at Fredonia\"                     \n",
       "[570] \"SUNY College at Geneseo\"                      \n",
       "[571] \"SUNY College at New Paltz\"                    \n",
       "[572] \"SUNY College at Plattsburgh\"                  \n",
       "[573] \"SUNY College at Potsdam\"                      \n",
       "[574] \"SUNY College at Purchase\"                     \n",
       "[575] \"Susquehanna University\"                       \n",
       "[576] \"Sweet Briar College\"                          \n",
       "[577] \"Syracuse University\"                          \n",
       "[578] \"Tabor College\"                                \n",
       "[579] \"Talladega College\"                            \n",
       "[580] \"Taylor University\"                            \n",
       "[581] \"Tennessee Wesleyan College\"                   \n",
       "[582] \"Texas A&M Univ. at College Station\"           \n",
       "[583] \"Texas A&M University at Galveston\"            \n",
       "[584] \"Texas Christian University\"                   \n",
       "[585] \"Texas Lutheran College\"                       \n",
       "[586] \"Texas Southern University\"                    \n",
       "[587] \"Texas Wesleyan University\"                    \n",
       "[588] \"The Citadel\"                                  \n",
       "[589] \"Thiel College\"                                \n",
       "[590] \"Tiffin University\"                            \n",
       "[591] \"Transylvania University\"                      \n",
       "[592] \"Trenton State College\"                        \n",
       "[593] \"Tri-State University\"                         \n",
       "[594] \"Trinity College CT\"                           \n",
       "[595] \"Trinity College DC\"                           \n",
       "[596] \"Trinity College VT\"                           \n",
       "[597] \"Trinity University\"                           \n",
       "[598] \"Tulane University\"                            \n",
       "[599] \"Tusculum College\"                             \n",
       "[600] \"Tuskegee University\"                          \n",
       "[601] \"Union College KY\"                             \n",
       "[602] \"Union College NY\"                             \n",
       "[603] \"Univ. of Wisconsin at OshKosh\"                \n",
       "[604] \"University of Alabama at Birmingham\"          \n",
       "[605] \"University of Arkansas at Fayetteville\"       \n",
       "[606] \"University of California at Berkeley\"         \n",
       "[607] \"University of California at Irvine\"           \n",
       "[608] \"University of Central Florida\"                \n",
       "[609] \"University of Charleston\"                     \n",
       "[610] \"University of Chicago\"                        \n",
       "[611] \"University of Cincinnati\"                     \n",
       "[612] \"University of Connecticut at Storrs\"          \n",
       "[613] \"University of Dallas\"                         \n",
       "[614] \"University of Dayton\"                         \n",
       "[615] \"University of Delaware\"                       \n",
       "[616] \"University of Denver\"                         \n",
       "[617] \"University of Detroit Mercy\"                  \n",
       "[618] \"University of Dubuque\"                        \n",
       "[619] \"University of Evansville\"                     \n",
       "[620] \"University of Florida\"                        \n",
       "[621] \"University of Georgia\"                        \n",
       "[622] \"University of Hartford\"                       \n",
       "[623] \"University of Hawaii at Manoa\"                \n",
       "[624] \"University of Illinois - Urbana\"              \n",
       "[625] \"University of Illinois at Chicago\"            \n",
       "[626] \"University of Indianapolis\"                   \n",
       "[627] \"University of Kansas\"                         \n",
       "[628] \"University of La Verne\"                       \n",
       "[629] \"University of Louisville\"                     \n",
       "[630] \"University of Maine at Farmington\"            \n",
       "[631] \"University of Maine at Machias\"               \n",
       "[632] \"University of Maine at Presque Isle\"          \n",
       "[633] \"University of Maryland at Baltimore County\"   \n",
       "[634] \"University of Maryland at College Park\"       \n",
       "[635] \"University of Massachusetts at Amherst\"       \n",
       "[636] \"University of Massachusetts at Dartmouth\"     \n",
       "[637] \"University of Miami\"                          \n",
       "[638] \"University of Michigan at Ann Arbor\"          \n",
       "[639] \"University of Minnesota at Duluth\"            \n",
       "[640] \"University of Minnesota at Morris\"            \n",
       "[641] \"University of Minnesota Twin Cities\"          \n",
       "[642] \"University of Mississippi\"                    \n",
       "[643] \"University of Missouri at Columbia\"           \n",
       "[644] \"University of Missouri at Rolla\"              \n",
       "[645] \"University of Missouri at Saint Louis\"        \n",
       "[646] \"University of Mobile\"                         \n",
       "[647] \"University of Montevallo\"                     \n",
       "[648] \"University of Nebraska at Lincoln\"            \n",
       "[649] \"University of New England\"                    \n",
       "[650] \"University of New Hampshire\"                  \n",
       "[651] \"University of North Carolina at Asheville\"    \n",
       "[652] \"University of North Carolina at Chapel Hill\"  \n",
       "[653] \"University of North Carolina at Charlotte\"    \n",
       "[654] \"University of North Carolina at Greensboro\"   \n",
       "[655] \"University of North Carolina at Wilmington\"   \n",
       "[656] \"University of North Dakota\"                   \n",
       "[657] \"University of North Florida\"                  \n",
       "[658] \"University of North Texas\"                    \n",
       "[659] \"University of Northern Colorado\"              \n",
       "[660] \"University of Northern Iowa\"                  \n",
       "[661] \"University of Notre Dame\"                     \n",
       "[662] \"University of Oklahoma\"                       \n",
       "[663] \"University of Oregon\"                         \n",
       "[664] \"University of Pennsylvania\"                   \n",
       "[665] \"University of Pittsburgh-Main Campus\"         \n",
       "[666] \"University of Portland\"                       \n",
       "[667] \"University of Puget Sound\"                    \n",
       "[668] \"University of Rhode Island\"                   \n",
       "[669] \"University of Richmond\"                       \n",
       "[670] \"University of Rochester\"                      \n",
       "[671] \"University of San Diego\"                      \n",
       "[672] \"University of San Francisco\"                  \n",
       "[673] \"University of Sci. and Arts of Oklahoma\"      \n",
       "[674] \"University of Scranton\"                       \n",
       "[675] \"University of South Carolina at Aiken\"        \n",
       "[676] \"University of South Carolina at Columbia\"     \n",
       "[677] \"University of South Florida\"                  \n",
       "[678] \"University of Southern California\"            \n",
       "[679] \"University of Southern Colorado\"              \n",
       "[680] \"University of Southern Indiana\"               \n",
       "[681] \"University of Southern Mississippi\"           \n",
       "[682] \"University of St. Thomas MN\"                  \n",
       "[683] \"University of St. Thomas TX\"                  \n",
       "[684] \"University of Tennessee at Knoxville\"         \n",
       "[685] \"University of Texas at Arlington\"             \n",
       "[686] \"University of Texas at Austin\"                \n",
       "[687] \"University of Texas at San Antonio\"           \n",
       "[688] \"University of the Arts\"                       \n",
       "[689] \"University of the Pacific\"                    \n",
       "[690] \"University of the South\"                      \n",
       "[691] \"University of Tulsa\"                          \n",
       "[692] \"University of Utah\"                           \n",
       "[693] \"University of Vermont\"                        \n",
       "[694] \"University of Virginia\"                       \n",
       "[695] \"University of Washington\"                     \n",
       "[696] \"University of West Florida\"                   \n",
       "[697] \"University of Wisconsin-Stout\"                \n",
       "[698] \"University of Wisconsin-Superior\"             \n",
       "[699] \"University of Wisconsin-Whitewater\"           \n",
       "[700] \"University of Wisconsin at Green Bay\"         \n",
       "[701] \"University of Wisconsin at Madison\"           \n",
       "[702] \"University of Wisconsin at Milwaukee\"         \n",
       "[703] \"University of Wyoming\"                        \n",
       "[704] \"Upper Iowa University\"                        \n",
       "[705] \"Ursinus College\"                              \n",
       "[706] \"Ursuline College\"                             \n",
       "[707] \"Valley City State University\"                 \n",
       "[708] \"Valparaiso University\"                        \n",
       "[709] \"Vanderbilt University\"                        \n",
       "[710] \"Vassar College\"                               \n",
       "[711] \"Villanova University\"                         \n",
       "[712] \"Virginia Commonwealth University\"             \n",
       "[713] \"Virginia State University\"                    \n",
       "[714] \"Virginia Tech\"                                \n",
       "[715] \"Virginia Union University\"                    \n",
       "[716] \"Virginia Wesleyan College\"                    \n",
       "[717] \"Viterbo College\"                              \n",
       "[718] \"Voorhees College\"                             \n",
       "[719] \"Wabash College\"                               \n",
       "[720] \"Wagner College\"                               \n",
       "[721] \"Wake Forest University\"                       \n",
       "[722] \"Walsh University\"                             \n",
       "[723] \"Warren Wilson College\"                        \n",
       "[724] \"Wartburg College\"                             \n",
       "[725] \"Washington and Jefferson College\"             \n",
       "[726] \"Washington and Lee University\"                \n",
       "[727] \"Washington College\"                           \n",
       "[728] \"Washington State University\"                  \n",
       "[729] \"Washington University\"                        \n",
       "[730] \"Wayne State College\"                          \n",
       "[731] \"Waynesburg College\"                           \n",
       "[732] \"Webber College\"                               \n",
       "[733] \"Webster University\"                           \n",
       "[734] \"Wellesley College\"                            \n",
       "[735] \"Wells College\"                                \n",
       "[736] \"Wentworth Institute of Technology\"            \n",
       "[737] \"Wesley College\"                               \n",
       "[738] \"Wesleyan University\"                          \n",
       "[739] \"West Chester University of Penn.\"             \n",
       "[740] \"West Liberty State College\"                   \n",
       "[741] \"West Virginia Wesleyan College\"               \n",
       "[742] \"Western Carolina University\"                  \n",
       "[743] \"Western Maryland College\"                     \n",
       "[744] \"Western Michigan University\"                  \n",
       "[745] \"Western New England College\"                  \n",
       "[746] \"Western State College of Colorado\"            \n",
       "[747] \"Western Washington University\"                \n",
       "[748] \"Westfield State College\"                      \n",
       "[749] \"Westminster College MO\"                       \n",
       "[750] \"Westminster College\"                          \n",
       "[751] \"Westminster College of Salt Lake City\"        \n",
       "[752] \"Westmont College\"                             \n",
       "[753] \"Wheaton College IL\"                           \n",
       "[754] \"Westminster College PA\"                       \n",
       "[755] \"Wheeling Jesuit College\"                      \n",
       "[756] \"Whitman College\"                              \n",
       "[757] \"Whittier College\"                             \n",
       "[758] \"Whitworth College\"                            \n",
       "[759] \"Widener University\"                           \n",
       "[760] \"Wilkes University\"                            \n",
       "[761] \"Willamette University\"                        \n",
       "[762] \"William Jewell College\"                       \n",
       "[763] \"William Woods University\"                     \n",
       "[764] \"Williams College\"                             \n",
       "[765] \"Wilson College\"                               \n",
       "[766] \"Wingate College\"                              \n",
       "[767] \"Winona State University\"                      \n",
       "[768] \"Winthrop University\"                          \n",
       "[769] \"Wisconsin Lutheran College\"                   \n",
       "[770] \"Wittenberg University\"                        \n",
       "[771] \"Wofford College\"                              \n",
       "[772] \"Worcester Polytechnic Institute\"              \n",
       "[773] \"Worcester State College\"                      \n",
       "[774] \"Xavier University\"                            \n",
       "[775] \"Xavier University of Louisiana\"               \n",
       "[776] \"Yale University\"                              \n",
       "[777] \"York College of Pennsylvania\"                 "
      ]
     },
     "metadata": {},
     "output_type": "display_data"
    }
   ],
   "source": [
    "college.names <- rownames(College)\n",
    "college.names"
   ]
  },
  {
   "cell_type": "markdown",
   "metadata": {},
   "source": [
    "1. Obtener un vector que contenga todas las universidades con `Texas` en su nombre. ¿Cuántas hay?"
   ]
  },
  {
   "cell_type": "code",
   "execution_count": 59,
   "metadata": {
    "vscode": {
     "languageId": "r"
    }
   },
   "outputs": [
    {
     "data": {
      "text/html": [
       "11"
      ],
      "text/latex": [
       "11"
      ],
      "text/markdown": [
       "11"
      ],
      "text/plain": [
       "[1] 11"
      ]
     },
     "metadata": {},
     "output_type": "display_data"
    }
   ],
   "source": [
    "college.names %>% str_count(\"[Tt]exas\") %>% sum"
   ]
  },
  {
   "cell_type": "markdown",
   "metadata": {},
   "source": [
    "2. Obtener un vector de todas las filas del conjunto de datos College que contengan el término \"University\" (HINT: `str_which`)."
   ]
  },
  {
   "cell_type": "code",
   "execution_count": 64,
   "metadata": {
    "vscode": {
     "languageId": "r"
    }
   },
   "outputs": [
    {
     "data": {
      "text/html": [
       "<style>\n",
       ".list-inline {list-style: none; margin:0; padding: 0}\n",
       ".list-inline>li {display: inline-block}\n",
       ".list-inline>li:not(:last-child)::after {content: \"\\00b7\"; padding: 0 .5ex}\n",
       "</style>\n",
       "<ol class=list-inline><li>1</li><li>2</li><li>5</li><li>11</li><li>18</li><li>19</li><li>20</li><li>21</li><li>22</li><li>24</li><li>26</li><li>28</li><li>34</li><li>39</li><li>40</li><li>44</li><li>46</li><li>60</li><li>62</li><li>64</li><li>65</li><li>66</li><li>70</li><li>71</li><li>73</li><li>75</li><li>78</li><li>80</li><li>82</li><li>85</li><li>88</li><li>92</li><li>95</li><li>103</li><li>104</li><li>105</li><li>108</li><li>112</li><li>113</li><li>116</li><li>118</li><li>119</li><li>124</li><li>142</li><li>145</li><li>148</li><li>149</li><li>153</li><li>162</li><li>163</li><li>164</li><li>166</li><li>167</li><li>172</li><li>173</li><li>175</li><li>177</li><li>178</li><li>179</li><li>181</li><li>182</li><li>190</li><li>192</li><li>193</li><li>197</li><li>198</li><li>202</li><li>204</li><li>206</li><li>208</li><li>209</li><li>212</li><li>214</li><li>215</li><li>216</li><li>219</li><li>220</li><li>222</li><li>224</li><li>228</li><li>234</li><li>244</li><li>246</li><li>248</li><li>249</li><li>251</li><li>258</li><li>265</li><li>270</li><li>271</li><li>274</li><li>275</li><li>276</li><li>278</li><li>280</li><li>283</li><li>284</li><li>285</li><li>289</li><li>290</li><li>299</li><li>304</li><li>305</li><li>306</li><li>307</li><li>310</li><li>313</li><li>315</li><li>316</li><li>317</li><li>321</li><li>325</li><li>326</li><li>328</li><li>329</li><li>330</li><li>341</li><li>345</li><li>346</li><li>351</li><li>353</li><li>356</li><li>358</li><li>360</li><li>366</li><li>367</li><li>368</li><li>370</li><li>372</li><li>376</li><li>377</li><li>383</li><li>384</li><li>386</li><li>402</li><li>404</li><li>408</li><li>410</li><li>412</li><li>413</li><li>416</li><li>418</li><li>419</li><li>420</li><li>421</li><li>422</li><li>425</li><li>426</li><li>428</li><li>431</li><li>432</li><li>433</li><li>434</li><li>435</li><li>436</li><li>437</li><li>439</li><li>440</li><li>441</li><li>442</li><li>444</li><li>445</li><li>447</li><li>451</li><li>457</li><li>458</li><li>460</li><li>462</li><li>464</li><li>466</li><li>474</li><li>480</li><li>485</li><li>486</li><li>487</li><li>488</li><li>490</li><li>493</li><li>496</li><li>498</li><li>506</li><li>507</li><li>509</li><li>510</li><li>511</li><li>512</li><li>517</li><li>518</li><li>519</li><li>521</li><li>530</li><li>531</li><li>534</li><li>535</li><li>536</li><li>537</li><li>538</li><li>541</li><li>542</li><li>545</li><li>548</li><li>552</li><li>557</li><li>575</li><li>577</li><li>580</li><li>583</li><li>584</li><li>586</li><li>587</li><li>590</li><li>591</li><li>593</li><li>597</li><li>598</li><li>600</li><li>604</li><li>605</li><li>606</li><li>607</li><li>608</li><li>609</li><li>610</li><li>611</li><li>612</li><li>613</li><li>614</li><li>615</li><li>616</li><li>617</li><li>618</li><li>619</li><li>620</li><li>621</li><li>622</li><li>623</li><li>624</li><li>625</li><li>626</li><li>627</li><li>628</li><li>629</li><li>630</li><li>631</li><li>632</li><li>633</li><li>634</li><li>635</li><li>636</li><li>637</li><li>638</li><li>639</li><li>640</li><li>641</li><li>642</li><li>643</li><li>644</li><li>645</li><li>646</li><li>647</li><li>648</li><li>649</li><li>650</li><li>651</li><li>652</li><li>653</li><li>654</li><li>655</li><li>656</li><li>657</li><li>658</li><li>659</li><li>660</li><li>661</li><li>662</li><li>663</li><li>664</li><li>665</li><li>666</li><li>667</li><li>668</li><li>669</li><li>670</li><li>671</li><li>672</li><li>673</li><li>674</li><li>675</li><li>676</li><li>677</li><li>678</li><li>679</li><li>680</li><li>681</li><li>682</li><li>683</li><li>684</li><li>685</li><li>686</li><li>687</li><li>688</li><li>689</li><li>690</li><li>691</li><li>692</li><li>693</li><li>694</li><li>695</li><li>696</li><li>697</li><li>698</li><li>699</li><li>700</li><li>701</li><li>702</li><li>703</li><li>704</li><li>707</li><li>708</li><li>709</li><li>711</li><li>712</li><li>713</li><li>715</li><li>721</li><li>722</li><li>726</li><li>728</li><li>729</li><li>733</li><li>738</li><li>739</li><li>742</li><li>744</li><li>747</li><li>759</li><li>760</li><li>761</li><li>763</li><li>767</li><li>768</li><li>770</li><li>774</li><li>775</li><li>776</li></ol>\n"
      ],
      "text/latex": [
       "\\begin{enumerate*}\n",
       "\\item 1\n",
       "\\item 2\n",
       "\\item 5\n",
       "\\item 11\n",
       "\\item 18\n",
       "\\item 19\n",
       "\\item 20\n",
       "\\item 21\n",
       "\\item 22\n",
       "\\item 24\n",
       "\\item 26\n",
       "\\item 28\n",
       "\\item 34\n",
       "\\item 39\n",
       "\\item 40\n",
       "\\item 44\n",
       "\\item 46\n",
       "\\item 60\n",
       "\\item 62\n",
       "\\item 64\n",
       "\\item 65\n",
       "\\item 66\n",
       "\\item 70\n",
       "\\item 71\n",
       "\\item 73\n",
       "\\item 75\n",
       "\\item 78\n",
       "\\item 80\n",
       "\\item 82\n",
       "\\item 85\n",
       "\\item 88\n",
       "\\item 92\n",
       "\\item 95\n",
       "\\item 103\n",
       "\\item 104\n",
       "\\item 105\n",
       "\\item 108\n",
       "\\item 112\n",
       "\\item 113\n",
       "\\item 116\n",
       "\\item 118\n",
       "\\item 119\n",
       "\\item 124\n",
       "\\item 142\n",
       "\\item 145\n",
       "\\item 148\n",
       "\\item 149\n",
       "\\item 153\n",
       "\\item 162\n",
       "\\item 163\n",
       "\\item 164\n",
       "\\item 166\n",
       "\\item 167\n",
       "\\item 172\n",
       "\\item 173\n",
       "\\item 175\n",
       "\\item 177\n",
       "\\item 178\n",
       "\\item 179\n",
       "\\item 181\n",
       "\\item 182\n",
       "\\item 190\n",
       "\\item 192\n",
       "\\item 193\n",
       "\\item 197\n",
       "\\item 198\n",
       "\\item 202\n",
       "\\item 204\n",
       "\\item 206\n",
       "\\item 208\n",
       "\\item 209\n",
       "\\item 212\n",
       "\\item 214\n",
       "\\item 215\n",
       "\\item 216\n",
       "\\item 219\n",
       "\\item 220\n",
       "\\item 222\n",
       "\\item 224\n",
       "\\item 228\n",
       "\\item 234\n",
       "\\item 244\n",
       "\\item 246\n",
       "\\item 248\n",
       "\\item 249\n",
       "\\item 251\n",
       "\\item 258\n",
       "\\item 265\n",
       "\\item 270\n",
       "\\item 271\n",
       "\\item 274\n",
       "\\item 275\n",
       "\\item 276\n",
       "\\item 278\n",
       "\\item 280\n",
       "\\item 283\n",
       "\\item 284\n",
       "\\item 285\n",
       "\\item 289\n",
       "\\item 290\n",
       "\\item 299\n",
       "\\item 304\n",
       "\\item 305\n",
       "\\item 306\n",
       "\\item 307\n",
       "\\item 310\n",
       "\\item 313\n",
       "\\item 315\n",
       "\\item 316\n",
       "\\item 317\n",
       "\\item 321\n",
       "\\item 325\n",
       "\\item 326\n",
       "\\item 328\n",
       "\\item 329\n",
       "\\item 330\n",
       "\\item 341\n",
       "\\item 345\n",
       "\\item 346\n",
       "\\item 351\n",
       "\\item 353\n",
       "\\item 356\n",
       "\\item 358\n",
       "\\item 360\n",
       "\\item 366\n",
       "\\item 367\n",
       "\\item 368\n",
       "\\item 370\n",
       "\\item 372\n",
       "\\item 376\n",
       "\\item 377\n",
       "\\item 383\n",
       "\\item 384\n",
       "\\item 386\n",
       "\\item 402\n",
       "\\item 404\n",
       "\\item 408\n",
       "\\item 410\n",
       "\\item 412\n",
       "\\item 413\n",
       "\\item 416\n",
       "\\item 418\n",
       "\\item 419\n",
       "\\item 420\n",
       "\\item 421\n",
       "\\item 422\n",
       "\\item 425\n",
       "\\item 426\n",
       "\\item 428\n",
       "\\item 431\n",
       "\\item 432\n",
       "\\item 433\n",
       "\\item 434\n",
       "\\item 435\n",
       "\\item 436\n",
       "\\item 437\n",
       "\\item 439\n",
       "\\item 440\n",
       "\\item 441\n",
       "\\item 442\n",
       "\\item 444\n",
       "\\item 445\n",
       "\\item 447\n",
       "\\item 451\n",
       "\\item 457\n",
       "\\item 458\n",
       "\\item 460\n",
       "\\item 462\n",
       "\\item 464\n",
       "\\item 466\n",
       "\\item 474\n",
       "\\item 480\n",
       "\\item 485\n",
       "\\item 486\n",
       "\\item 487\n",
       "\\item 488\n",
       "\\item 490\n",
       "\\item 493\n",
       "\\item 496\n",
       "\\item 498\n",
       "\\item 506\n",
       "\\item 507\n",
       "\\item 509\n",
       "\\item 510\n",
       "\\item 511\n",
       "\\item 512\n",
       "\\item 517\n",
       "\\item 518\n",
       "\\item 519\n",
       "\\item 521\n",
       "\\item 530\n",
       "\\item 531\n",
       "\\item 534\n",
       "\\item 535\n",
       "\\item 536\n",
       "\\item 537\n",
       "\\item 538\n",
       "\\item 541\n",
       "\\item 542\n",
       "\\item 545\n",
       "\\item 548\n",
       "\\item 552\n",
       "\\item 557\n",
       "\\item 575\n",
       "\\item 577\n",
       "\\item 580\n",
       "\\item 583\n",
       "\\item 584\n",
       "\\item 586\n",
       "\\item 587\n",
       "\\item 590\n",
       "\\item 591\n",
       "\\item 593\n",
       "\\item 597\n",
       "\\item 598\n",
       "\\item 600\n",
       "\\item 604\n",
       "\\item 605\n",
       "\\item 606\n",
       "\\item 607\n",
       "\\item 608\n",
       "\\item 609\n",
       "\\item 610\n",
       "\\item 611\n",
       "\\item 612\n",
       "\\item 613\n",
       "\\item 614\n",
       "\\item 615\n",
       "\\item 616\n",
       "\\item 617\n",
       "\\item 618\n",
       "\\item 619\n",
       "\\item 620\n",
       "\\item 621\n",
       "\\item 622\n",
       "\\item 623\n",
       "\\item 624\n",
       "\\item 625\n",
       "\\item 626\n",
       "\\item 627\n",
       "\\item 628\n",
       "\\item 629\n",
       "\\item 630\n",
       "\\item 631\n",
       "\\item 632\n",
       "\\item 633\n",
       "\\item 634\n",
       "\\item 635\n",
       "\\item 636\n",
       "\\item 637\n",
       "\\item 638\n",
       "\\item 639\n",
       "\\item 640\n",
       "\\item 641\n",
       "\\item 642\n",
       "\\item 643\n",
       "\\item 644\n",
       "\\item 645\n",
       "\\item 646\n",
       "\\item 647\n",
       "\\item 648\n",
       "\\item 649\n",
       "\\item 650\n",
       "\\item 651\n",
       "\\item 652\n",
       "\\item 653\n",
       "\\item 654\n",
       "\\item 655\n",
       "\\item 656\n",
       "\\item 657\n",
       "\\item 658\n",
       "\\item 659\n",
       "\\item 660\n",
       "\\item 661\n",
       "\\item 662\n",
       "\\item 663\n",
       "\\item 664\n",
       "\\item 665\n",
       "\\item 666\n",
       "\\item 667\n",
       "\\item 668\n",
       "\\item 669\n",
       "\\item 670\n",
       "\\item 671\n",
       "\\item 672\n",
       "\\item 673\n",
       "\\item 674\n",
       "\\item 675\n",
       "\\item 676\n",
       "\\item 677\n",
       "\\item 678\n",
       "\\item 679\n",
       "\\item 680\n",
       "\\item 681\n",
       "\\item 682\n",
       "\\item 683\n",
       "\\item 684\n",
       "\\item 685\n",
       "\\item 686\n",
       "\\item 687\n",
       "\\item 688\n",
       "\\item 689\n",
       "\\item 690\n",
       "\\item 691\n",
       "\\item 692\n",
       "\\item 693\n",
       "\\item 694\n",
       "\\item 695\n",
       "\\item 696\n",
       "\\item 697\n",
       "\\item 698\n",
       "\\item 699\n",
       "\\item 700\n",
       "\\item 701\n",
       "\\item 702\n",
       "\\item 703\n",
       "\\item 704\n",
       "\\item 707\n",
       "\\item 708\n",
       "\\item 709\n",
       "\\item 711\n",
       "\\item 712\n",
       "\\item 713\n",
       "\\item 715\n",
       "\\item 721\n",
       "\\item 722\n",
       "\\item 726\n",
       "\\item 728\n",
       "\\item 729\n",
       "\\item 733\n",
       "\\item 738\n",
       "\\item 739\n",
       "\\item 742\n",
       "\\item 744\n",
       "\\item 747\n",
       "\\item 759\n",
       "\\item 760\n",
       "\\item 761\n",
       "\\item 763\n",
       "\\item 767\n",
       "\\item 768\n",
       "\\item 770\n",
       "\\item 774\n",
       "\\item 775\n",
       "\\item 776\n",
       "\\end{enumerate*}\n"
      ],
      "text/markdown": [
       "1. 1\n",
       "2. 2\n",
       "3. 5\n",
       "4. 11\n",
       "5. 18\n",
       "6. 19\n",
       "7. 20\n",
       "8. 21\n",
       "9. 22\n",
       "10. 24\n",
       "11. 26\n",
       "12. 28\n",
       "13. 34\n",
       "14. 39\n",
       "15. 40\n",
       "16. 44\n",
       "17. 46\n",
       "18. 60\n",
       "19. 62\n",
       "20. 64\n",
       "21. 65\n",
       "22. 66\n",
       "23. 70\n",
       "24. 71\n",
       "25. 73\n",
       "26. 75\n",
       "27. 78\n",
       "28. 80\n",
       "29. 82\n",
       "30. 85\n",
       "31. 88\n",
       "32. 92\n",
       "33. 95\n",
       "34. 103\n",
       "35. 104\n",
       "36. 105\n",
       "37. 108\n",
       "38. 112\n",
       "39. 113\n",
       "40. 116\n",
       "41. 118\n",
       "42. 119\n",
       "43. 124\n",
       "44. 142\n",
       "45. 145\n",
       "46. 148\n",
       "47. 149\n",
       "48. 153\n",
       "49. 162\n",
       "50. 163\n",
       "51. 164\n",
       "52. 166\n",
       "53. 167\n",
       "54. 172\n",
       "55. 173\n",
       "56. 175\n",
       "57. 177\n",
       "58. 178\n",
       "59. 179\n",
       "60. 181\n",
       "61. 182\n",
       "62. 190\n",
       "63. 192\n",
       "64. 193\n",
       "65. 197\n",
       "66. 198\n",
       "67. 202\n",
       "68. 204\n",
       "69. 206\n",
       "70. 208\n",
       "71. 209\n",
       "72. 212\n",
       "73. 214\n",
       "74. 215\n",
       "75. 216\n",
       "76. 219\n",
       "77. 220\n",
       "78. 222\n",
       "79. 224\n",
       "80. 228\n",
       "81. 234\n",
       "82. 244\n",
       "83. 246\n",
       "84. 248\n",
       "85. 249\n",
       "86. 251\n",
       "87. 258\n",
       "88. 265\n",
       "89. 270\n",
       "90. 271\n",
       "91. 274\n",
       "92. 275\n",
       "93. 276\n",
       "94. 278\n",
       "95. 280\n",
       "96. 283\n",
       "97. 284\n",
       "98. 285\n",
       "99. 289\n",
       "100. 290\n",
       "101. 299\n",
       "102. 304\n",
       "103. 305\n",
       "104. 306\n",
       "105. 307\n",
       "106. 310\n",
       "107. 313\n",
       "108. 315\n",
       "109. 316\n",
       "110. 317\n",
       "111. 321\n",
       "112. 325\n",
       "113. 326\n",
       "114. 328\n",
       "115. 329\n",
       "116. 330\n",
       "117. 341\n",
       "118. 345\n",
       "119. 346\n",
       "120. 351\n",
       "121. 353\n",
       "122. 356\n",
       "123. 358\n",
       "124. 360\n",
       "125. 366\n",
       "126. 367\n",
       "127. 368\n",
       "128. 370\n",
       "129. 372\n",
       "130. 376\n",
       "131. 377\n",
       "132. 383\n",
       "133. 384\n",
       "134. 386\n",
       "135. 402\n",
       "136. 404\n",
       "137. 408\n",
       "138. 410\n",
       "139. 412\n",
       "140. 413\n",
       "141. 416\n",
       "142. 418\n",
       "143. 419\n",
       "144. 420\n",
       "145. 421\n",
       "146. 422\n",
       "147. 425\n",
       "148. 426\n",
       "149. 428\n",
       "150. 431\n",
       "151. 432\n",
       "152. 433\n",
       "153. 434\n",
       "154. 435\n",
       "155. 436\n",
       "156. 437\n",
       "157. 439\n",
       "158. 440\n",
       "159. 441\n",
       "160. 442\n",
       "161. 444\n",
       "162. 445\n",
       "163. 447\n",
       "164. 451\n",
       "165. 457\n",
       "166. 458\n",
       "167. 460\n",
       "168. 462\n",
       "169. 464\n",
       "170. 466\n",
       "171. 474\n",
       "172. 480\n",
       "173. 485\n",
       "174. 486\n",
       "175. 487\n",
       "176. 488\n",
       "177. 490\n",
       "178. 493\n",
       "179. 496\n",
       "180. 498\n",
       "181. 506\n",
       "182. 507\n",
       "183. 509\n",
       "184. 510\n",
       "185. 511\n",
       "186. 512\n",
       "187. 517\n",
       "188. 518\n",
       "189. 519\n",
       "190. 521\n",
       "191. 530\n",
       "192. 531\n",
       "193. 534\n",
       "194. 535\n",
       "195. 536\n",
       "196. 537\n",
       "197. 538\n",
       "198. 541\n",
       "199. 542\n",
       "200. 545\n",
       "201. 548\n",
       "202. 552\n",
       "203. 557\n",
       "204. 575\n",
       "205. 577\n",
       "206. 580\n",
       "207. 583\n",
       "208. 584\n",
       "209. 586\n",
       "210. 587\n",
       "211. 590\n",
       "212. 591\n",
       "213. 593\n",
       "214. 597\n",
       "215. 598\n",
       "216. 600\n",
       "217. 604\n",
       "218. 605\n",
       "219. 606\n",
       "220. 607\n",
       "221. 608\n",
       "222. 609\n",
       "223. 610\n",
       "224. 611\n",
       "225. 612\n",
       "226. 613\n",
       "227. 614\n",
       "228. 615\n",
       "229. 616\n",
       "230. 617\n",
       "231. 618\n",
       "232. 619\n",
       "233. 620\n",
       "234. 621\n",
       "235. 622\n",
       "236. 623\n",
       "237. 624\n",
       "238. 625\n",
       "239. 626\n",
       "240. 627\n",
       "241. 628\n",
       "242. 629\n",
       "243. 630\n",
       "244. 631\n",
       "245. 632\n",
       "246. 633\n",
       "247. 634\n",
       "248. 635\n",
       "249. 636\n",
       "250. 637\n",
       "251. 638\n",
       "252. 639\n",
       "253. 640\n",
       "254. 641\n",
       "255. 642\n",
       "256. 643\n",
       "257. 644\n",
       "258. 645\n",
       "259. 646\n",
       "260. 647\n",
       "261. 648\n",
       "262. 649\n",
       "263. 650\n",
       "264. 651\n",
       "265. 652\n",
       "266. 653\n",
       "267. 654\n",
       "268. 655\n",
       "269. 656\n",
       "270. 657\n",
       "271. 658\n",
       "272. 659\n",
       "273. 660\n",
       "274. 661\n",
       "275. 662\n",
       "276. 663\n",
       "277. 664\n",
       "278. 665\n",
       "279. 666\n",
       "280. 667\n",
       "281. 668\n",
       "282. 669\n",
       "283. 670\n",
       "284. 671\n",
       "285. 672\n",
       "286. 673\n",
       "287. 674\n",
       "288. 675\n",
       "289. 676\n",
       "290. 677\n",
       "291. 678\n",
       "292. 679\n",
       "293. 680\n",
       "294. 681\n",
       "295. 682\n",
       "296. 683\n",
       "297. 684\n",
       "298. 685\n",
       "299. 686\n",
       "300. 687\n",
       "301. 688\n",
       "302. 689\n",
       "303. 690\n",
       "304. 691\n",
       "305. 692\n",
       "306. 693\n",
       "307. 694\n",
       "308. 695\n",
       "309. 696\n",
       "310. 697\n",
       "311. 698\n",
       "312. 699\n",
       "313. 700\n",
       "314. 701\n",
       "315. 702\n",
       "316. 703\n",
       "317. 704\n",
       "318. 707\n",
       "319. 708\n",
       "320. 709\n",
       "321. 711\n",
       "322. 712\n",
       "323. 713\n",
       "324. 715\n",
       "325. 721\n",
       "326. 722\n",
       "327. 726\n",
       "328. 728\n",
       "329. 729\n",
       "330. 733\n",
       "331. 738\n",
       "332. 739\n",
       "333. 742\n",
       "334. 744\n",
       "335. 747\n",
       "336. 759\n",
       "337. 760\n",
       "338. 761\n",
       "339. 763\n",
       "340. 767\n",
       "341. 768\n",
       "342. 770\n",
       "343. 774\n",
       "344. 775\n",
       "345. 776\n",
       "\n",
       "\n"
      ],
      "text/plain": [
       "  [1]   1   2   5  11  18  19  20  21  22  24  26  28  34  39  40  44  46  60\n",
       " [19]  62  64  65  66  70  71  73  75  78  80  82  85  88  92  95 103 104 105\n",
       " [37] 108 112 113 116 118 119 124 142 145 148 149 153 162 163 164 166 167 172\n",
       " [55] 173 175 177 178 179 181 182 190 192 193 197 198 202 204 206 208 209 212\n",
       " [73] 214 215 216 219 220 222 224 228 234 244 246 248 249 251 258 265 270 271\n",
       " [91] 274 275 276 278 280 283 284 285 289 290 299 304 305 306 307 310 313 315\n",
       "[109] 316 317 321 325 326 328 329 330 341 345 346 351 353 356 358 360 366 367\n",
       "[127] 368 370 372 376 377 383 384 386 402 404 408 410 412 413 416 418 419 420\n",
       "[145] 421 422 425 426 428 431 432 433 434 435 436 437 439 440 441 442 444 445\n",
       "[163] 447 451 457 458 460 462 464 466 474 480 485 486 487 488 490 493 496 498\n",
       "[181] 506 507 509 510 511 512 517 518 519 521 530 531 534 535 536 537 538 541\n",
       "[199] 542 545 548 552 557 575 577 580 583 584 586 587 590 591 593 597 598 600\n",
       "[217] 604 605 606 607 608 609 610 611 612 613 614 615 616 617 618 619 620 621\n",
       "[235] 622 623 624 625 626 627 628 629 630 631 632 633 634 635 636 637 638 639\n",
       "[253] 640 641 642 643 644 645 646 647 648 649 650 651 652 653 654 655 656 657\n",
       "[271] 658 659 660 661 662 663 664 665 666 667 668 669 670 671 672 673 674 675\n",
       "[289] 676 677 678 679 680 681 682 683 684 685 686 687 688 689 690 691 692 693\n",
       "[307] 694 695 696 697 698 699 700 701 702 703 704 707 708 709 711 712 713 715\n",
       "[325] 721 722 726 728 729 733 738 739 742 744 747 759 760 761 763 767 768 770\n",
       "[343] 774 775 776"
      ]
     },
     "metadata": {},
     "output_type": "display_data"
    }
   ],
   "source": [
    "college.names %>% str_which(\"University\") "
   ]
  },
  {
   "cell_type": "markdown",
   "metadata": {},
   "source": [
    "3. ¿Cuántas \"University\" hay en el conjunto de datos frente a \"Collage\"?"
   ]
  },
  {
   "cell_type": "code",
   "execution_count": 66,
   "metadata": {
    "vscode": {
     "languageId": "r"
    }
   },
   "outputs": [
    {
     "data": {
      "text/html": [
       "345"
      ],
      "text/latex": [
       "345"
      ],
      "text/markdown": [
       "345"
      ],
      "text/plain": [
       "[1] 345"
      ]
     },
     "metadata": {},
     "output_type": "display_data"
    }
   ],
   "source": [
    "college.names %>% str_count(\"University\") %>% sum"
   ]
  },
  {
   "cell_type": "code",
   "execution_count": 67,
   "metadata": {
    "vscode": {
     "languageId": "r"
    }
   },
   "outputs": [
    {
     "data": {
      "text/html": [
       "406"
      ],
      "text/latex": [
       "406"
      ],
      "text/markdown": [
       "406"
      ],
      "text/plain": [
       "[1] 406"
      ]
     },
     "metadata": {},
     "output_type": "display_data"
    }
   ],
   "source": [
    "college.names %>% str_count(\"College\") %>% sum"
   ]
  },
  {
   "cell_type": "markdown",
   "metadata": {},
   "source": [
    "## Ejercicios (2da parte)\n",
    "\n",
    "Lo mismo que en la parte 1 pero usando las funciones de `stringr`.\n",
    "\n",
    "1. Crea un vector de cadenas de caracteres con tu nombre y apellidos (por ejemplo, [\"Rocío\", \"Romero\", Zaliz\"]). A partir de el crea una nueva cadena de caracteres con la inicial de tu nombre, un punto y tus apellidos (por ejemplo, \"R. Romero Zaliz\").\n",
    "2. Dada una matriz de cadenas de caracteres que representan fechas (por ejemplo, [\"2005-11-28\", \"2015-10-18\", \"2000-01-01\"]), mostrar sólo las correspondientes a los meses impares (utilizar el formato AÑO-MES-DÍA).\n",
    "3. Dada una cadena de caracteres con varias palabras (por ejemplo, \"Esta es una frase, pero no cualquier frase.\") cree una matriz con cada una de las palabras de la cadena (por ejemplo, [\"Esta\", \"es\", \"una\", \"frase\", \"pero\", \"no\", \"cualquier\", \"frase\"]). Tenga en cuenta todos los caracteres de puntuación posibles.\n",
    "4. Busca en un vector de cadenas de caractees aquellas que incluyan sólo vocales \"a\" y/o \"e\" o ninguna (comprueba mayúsculas y minúsculas).\n",
    "5. Dados tres vectores numéricas que representan días, meses y años, cree una matriz con fechas (sólo si son válidas) (Sugerencia: investigue la función `as.Date`)."
   ]
  },
  {
   "cell_type": "markdown",
   "metadata": {},
   "source": [
    "# References\n",
    "\n",
    "* Gaston Sanchez. Handling and Processing Strings in R. https://www.gastonsanchez.com/Handling_and_Processing_Strings_in_R.pdf\n",
    "* R-tutorials. http://r-tutorials.com\n",
    "* Norman Matloff. 2011. The Art of R Programming: A Tour of Statistical Software Design (1st ed.). No Starch Press, San Francisco, CA, USA.\n",
    "* Patrick Burns. 2011. The R Inferno."
   ]
  }
 ],
 "metadata": {
  "celltoolbar": "Raw Cell Format",
  "kernelspec": {
   "display_name": "R",
   "language": "R",
   "name": "ir"
  },
  "language_info": {
   "codemirror_mode": "r",
   "file_extension": ".r",
   "mimetype": "text/x-r-source",
   "name": "R",
   "pygments_lexer": "r",
   "version": "4.3.1"
  }
 },
 "nbformat": 4,
 "nbformat_minor": 2
}
