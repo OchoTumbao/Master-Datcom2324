{
 "cells": [
  {
   "cell_type": "markdown",
   "metadata": {
    "collapsed": true
   },
   "source": [
    "# Introducción a la Programación para Ciencia de Datos\n",
    "## Lenguaje de programación R\n",
    "_Rocío Romero Zaliz_ - rocio@decsai.ugr.es"
   ]
  },
  {
   "cell_type": "markdown",
   "metadata": {},
   "source": [
    "# Input/Output"
   ]
  },
  {
   "cell_type": "markdown",
   "metadata": {
    "slideshow": {
     "slide_type": "slide"
    }
   },
   "source": [
    "Supongamos que tenemos un fichero con este contenido:\n",
    "\n",
    "><pre>12  \n",
    "2 5  \n",
    "641\n",
    "</pre>"
   ]
  },
  {
   "cell_type": "code",
   "execution_count": null,
   "metadata": {
    "vscode": {
     "languageId": "r"
    }
   },
   "outputs": [],
   "source": [
    "datos <- scan(\"file.txt\")\n",
    "print(datos)"
   ]
  },
  {
   "cell_type": "code",
   "execution_count": null,
   "metadata": {
    "vscode": {
     "languageId": "r"
    }
   },
   "outputs": [],
   "source": [
    "class(datos)"
   ]
  },
  {
   "cell_type": "code",
   "execution_count": null,
   "metadata": {
    "vscode": {
     "languageId": "r"
    }
   },
   "outputs": [],
   "source": [
    "datos <- scan(\"file.txt\", what=character())\n",
    "print(datos)\n",
    "class(datos)"
   ]
  },
  {
   "cell_type": "code",
   "execution_count": null,
   "metadata": {
    "vscode": {
     "languageId": "r"
    }
   },
   "outputs": [],
   "source": [
    "datos <- scan(\"file.txt\", sep=\"\\n\")\n",
    "print(datos)"
   ]
  },
  {
   "cell_type": "markdown",
   "metadata": {},
   "source": [
    "Podemos usar `scan` para leer desde el teclado si le damos de argumento de entrada una cadena de caracters vacía.\n",
    "\n",
    "><pre>scan(\"\")  \n",
    "1: 23 4  \n",
    "3: 2  \n",
    "4:   \n",
    "[1] 23  4  2</pre>\n",
    "\n",
    "Marcamos con una línea vacía el final de la lectura de datos."
   ]
  },
  {
   "cell_type": "code",
   "execution_count": null,
   "metadata": {
    "vscode": {
     "languageId": "r"
    }
   },
   "outputs": [],
   "source": [
    "scan(\"\") # Does not work in Jupyter"
   ]
  },
  {
   "cell_type": "markdown",
   "metadata": {},
   "source": [
    "If you want to read in a single line from the keyboard use `readline`:\n",
    "\n",
    "><pre>readline(\"Input data: \")  \n",
    "Input data: 23 4 2  \n",
    "[1] 23  4  2</pre>"
   ]
  },
  {
   "cell_type": "code",
   "execution_count": null,
   "metadata": {
    "vscode": {
     "languageId": "r"
    }
   },
   "outputs": [],
   "source": [
    "datos <- readline(\"Input data: \")\n",
    "print(datos)"
   ]
  },
  {
   "cell_type": "code",
   "execution_count": null,
   "metadata": {
    "vscode": {
     "languageId": "r"
    }
   },
   "outputs": [],
   "source": [
    "class(datos)"
   ]
  },
  {
   "cell_type": "markdown",
   "metadata": {},
   "source": [
    "### `cat` vs. `print`"
   ]
  },
  {
   "cell_type": "code",
   "execution_count": 2,
   "metadata": {
    "vscode": {
     "languageId": "r"
    }
   },
   "outputs": [
    {
     "name": "stdout",
     "output_type": "stream",
     "text": [
      "[1] 1 4 9\n",
      "1 4 9"
     ]
    }
   ],
   "source": [
    "x <- 1:3\n",
    "print(x^2)\n",
    "cat(x^2)"
   ]
  },
  {
   "cell_type": "code",
   "execution_count": 3,
   "metadata": {
    "vscode": {
     "languageId": "r"
    }
   },
   "outputs": [
    {
     "name": "stdout",
     "output_type": "stream",
     "text": [
      "1 4 9 1 2 3 hola"
     ]
    }
   ],
   "source": [
    "cat(x^2, x, \"hola\")"
   ]
  },
  {
   "cell_type": "code",
   "execution_count": 4,
   "metadata": {
    "vscode": {
     "languageId": "r"
    }
   },
   "outputs": [
    {
     "name": "stdout",
     "output_type": "stream",
     "text": [
      "1 4 9 1 2 3 hola"
     ]
    },
    {
     "data": {
      "text/plain": [
       "NULL"
      ]
     },
     "metadata": {},
     "output_type": "display_data"
    }
   ],
   "source": [
    "vb <- cat(x^2, x, \"hola\")\n",
    "vb"
   ]
  },
  {
   "cell_type": "code",
   "execution_count": null,
   "metadata": {
    "vscode": {
     "languageId": "r"
    }
   },
   "outputs": [],
   "source": [
    "vb <- print(x^2)\n",
    "vb"
   ]
  },
  {
   "cell_type": "code",
   "execution_count": null,
   "metadata": {
    "vscode": {
     "languageId": "r"
    }
   },
   "outputs": [],
   "source": [
    "print(matrix(c(1,5,3,8), nrow = 2))\n",
    "\n",
    "cat(matrix(c(1,5,3,8), nrow = 2))"
   ]
  },
  {
   "cell_type": "code",
   "execution_count": null,
   "metadata": {
    "vscode": {
     "languageId": "r"
    }
   },
   "outputs": [],
   "source": [
    "cat(x^2, x, \"hola\", sep=\"_\")"
   ]
  },
  {
   "cell_type": "markdown",
   "metadata": {},
   "source": [
    "### Leyendo y escribiendo ficheros\n",
    "\n",
    "Supongamos que tenemos un fichero \"matrix.txt\" con el siguiente contenido:\n",
    "\n",
    "> nombre edad  \n",
    "John 25  \n",
    "Mary 28  \n",
    "Jim 19\n",
    "\n",
    "La primera línea contiene una cabecera (opcional) que indica los nombres de las columnas."
   ]
  },
  {
   "cell_type": "code",
   "execution_count": 6,
   "metadata": {
    "vscode": {
     "languageId": "r"
    }
   },
   "outputs": [
    {
     "data": {
      "text/html": [
       "<table class=\"dataframe\">\n",
       "<caption>A data.frame: 3 × 2</caption>\n",
       "<thead>\n",
       "\t<tr><th scope=col>nombre</th><th scope=col>edad</th></tr>\n",
       "\t<tr><th scope=col>&lt;chr&gt;</th><th scope=col>&lt;int&gt;</th></tr>\n",
       "</thead>\n",
       "<tbody>\n",
       "\t<tr><td>John</td><td>25</td></tr>\n",
       "\t<tr><td>Mary</td><td>28</td></tr>\n",
       "\t<tr><td>Jim </td><td>19</td></tr>\n",
       "</tbody>\n",
       "</table>\n"
      ],
      "text/latex": [
       "A data.frame: 3 × 2\n",
       "\\begin{tabular}{ll}\n",
       " nombre & edad\\\\\n",
       " <chr> & <int>\\\\\n",
       "\\hline\n",
       "\t John & 25\\\\\n",
       "\t Mary & 28\\\\\n",
       "\t Jim  & 19\\\\\n",
       "\\end{tabular}\n"
      ],
      "text/markdown": [
       "\n",
       "A data.frame: 3 × 2\n",
       "\n",
       "| nombre &lt;chr&gt; | edad &lt;int&gt; |\n",
       "|---|---|\n",
       "| John | 25 |\n",
       "| Mary | 28 |\n",
       "| Jim  | 19 |\n",
       "\n"
      ],
      "text/plain": [
       "  nombre edad\n",
       "1 John   25  \n",
       "2 Mary   28  \n",
       "3 Jim    19  "
      ]
     },
     "metadata": {},
     "output_type": "display_data"
    }
   ],
   "source": [
    "data <- read.table(\"matrix.txt\", header=TRUE)\n",
    "data"
   ]
  },
  {
   "cell_type": "code",
   "execution_count": 7,
   "metadata": {
    "vscode": {
     "languageId": "r"
    }
   },
   "outputs": [
    {
     "data": {
      "text/html": [
       "<table class=\"dataframe\">\n",
       "<caption>A data.frame: 4 × 2</caption>\n",
       "<thead>\n",
       "\t<tr><th scope=col>V1</th><th scope=col>V2</th></tr>\n",
       "\t<tr><th scope=col>&lt;chr&gt;</th><th scope=col>&lt;chr&gt;</th></tr>\n",
       "</thead>\n",
       "<tbody>\n",
       "\t<tr><td>nombre</td><td>edad</td></tr>\n",
       "\t<tr><td>John  </td><td>25  </td></tr>\n",
       "\t<tr><td>Mary  </td><td>28  </td></tr>\n",
       "\t<tr><td>Jim   </td><td>19  </td></tr>\n",
       "</tbody>\n",
       "</table>\n"
      ],
      "text/latex": [
       "A data.frame: 4 × 2\n",
       "\\begin{tabular}{ll}\n",
       " V1 & V2\\\\\n",
       " <chr> & <chr>\\\\\n",
       "\\hline\n",
       "\t nombre & edad\\\\\n",
       "\t John   & 25  \\\\\n",
       "\t Mary   & 28  \\\\\n",
       "\t Jim    & 19  \\\\\n",
       "\\end{tabular}\n"
      ],
      "text/markdown": [
       "\n",
       "A data.frame: 4 × 2\n",
       "\n",
       "| V1 &lt;chr&gt; | V2 &lt;chr&gt; |\n",
       "|---|---|\n",
       "| nombre | edad |\n",
       "| John   | 25   |\n",
       "| Mary   | 28   |\n",
       "| Jim    | 19   |\n",
       "\n"
      ],
      "text/plain": [
       "  V1     V2  \n",
       "1 nombre edad\n",
       "2 John   25  \n",
       "3 Mary   28  \n",
       "4 Jim    19  "
      ]
     },
     "metadata": {},
     "output_type": "display_data"
    }
   ],
   "source": [
    "data <- read.table(\"matrix.txt\", header=FALSE)\n",
    "data"
   ]
  },
  {
   "cell_type": "code",
   "execution_count": 8,
   "metadata": {
    "vscode": {
     "languageId": "r"
    }
   },
   "outputs": [
    {
     "name": "stdout",
     "output_type": "stream",
     "text": [
      "read.table                package:utils                R Documentation\n",
      "\n",
      "_\bD_\ba_\bt_\ba _\bI_\bn_\bp_\bu_\bt\n",
      "\n",
      "_\bD_\be_\bs_\bc_\br_\bi_\bp_\bt_\bi_\bo_\bn:\n",
      "\n",
      "     Reads a file in table format and creates a data frame from it,\n",
      "     with cases corresponding to lines and variables to fields in the\n",
      "     file.\n",
      "\n",
      "_\bU_\bs_\ba_\bg_\be:\n",
      "\n",
      "     read.table(file, header = FALSE, sep = \"\", quote = \"\\\"'\",\n",
      "                dec = \".\", numerals = c(\"allow.loss\", \"warn.loss\", \"no.loss\"),\n",
      "                row.names, col.names, as.is = !stringsAsFactors, tryLogical = TRUE,\n",
      "                na.strings = \"NA\", colClasses = NA, nrows = -1,\n",
      "                skip = 0, check.names = TRUE, fill = !blank.lines.skip,\n",
      "                strip.white = FALSE, blank.lines.skip = TRUE,\n",
      "                comment.char = \"#\",\n",
      "                allowEscapes = FALSE, flush = FALSE,\n",
      "                stringsAsFactors = FALSE,\n",
      "                fileEncoding = \"\", encoding = \"unknown\", text, skipNul = FALSE)\n",
      "     \n",
      "     read.csv(file, header = TRUE, sep = \",\", quote = \"\\\"\",\n",
      "              dec = \".\", fill = TRUE, comment.char = \"\", ...)\n",
      "     \n",
      "     read.csv2(file, header = TRUE, sep = \";\", quote = \"\\\"\",\n",
      "               dec = \",\", fill = TRUE, comment.char = \"\", ...)\n",
      "     \n",
      "     read.delim(file, header = TRUE, sep = \"\\t\", quote = \"\\\"\",\n",
      "                dec = \".\", fill = TRUE, comment.char = \"\", ...)\n",
      "     \n",
      "     read.delim2(file, header = TRUE, sep = \"\\t\", quote = \"\\\"\",\n",
      "                 dec = \",\", fill = TRUE, comment.char = \"\", ...)\n",
      "     \n",
      "_\bA_\br_\bg_\bu_\bm_\be_\bn_\bt_\bs:\n",
      "\n",
      "    file: the name of the file which the data are to be read from.\n",
      "          Each row of the table appears as one line of the file.  If it\n",
      "          does not contain an _absolute_ path, the file name is\n",
      "          _relative_ to the current working directory, ‘getwd()’.\n",
      "          Tilde-expansion is performed where supported.  This can be a\n",
      "          compressed file (see ‘file’).\n",
      "\n",
      "          Alternatively, ‘file’ can be a readable text-mode connection\n",
      "          (which will be opened for reading if necessary, and if so\n",
      "          ‘close’d (and hence destroyed) at the end of the function\n",
      "          call).  (If ‘stdin()’ is used, the prompts for lines may be\n",
      "          somewhat confusing.  Terminate input with a blank line or an\n",
      "          EOF signal, ‘Ctrl-D’ on Unix and ‘Ctrl-Z’ on Windows.  Any\n",
      "          pushback on ‘stdin()’ will be cleared before return.)\n",
      "\n",
      "          ‘file’ can also be a complete URL.  (For the supported URL\n",
      "          schemes, see the ‘URLs’ section of the help for ‘url’.)\n",
      "\n",
      "  header: a logical value indicating whether the file contains the\n",
      "          names of the variables as its first line.  If missing, the\n",
      "          value is determined from the file format: ‘header’ is set to\n",
      "          ‘TRUE’ if and only if the first row contains one fewer field\n",
      "          than the number of columns.\n",
      "\n",
      "     sep: the field separator character.  Values on each line of the\n",
      "          file are separated by this character.  If ‘sep = \"\"’ (the\n",
      "          default for ‘read.table’) the separator is ‘white space’,\n",
      "          that is one or more spaces, tabs, newlines or carriage\n",
      "          returns.\n",
      "\n",
      "   quote: the set of quoting characters. To disable quoting altogether,\n",
      "          use ‘quote = \"\"’.  See ‘scan’ for the behaviour on quotes\n",
      "          embedded in quotes.  Quoting is only considered for columns\n",
      "          read as character, which is all of them unless ‘colClasses’\n",
      "          is specified.\n",
      "\n",
      "     dec: the character used in the file for decimal points.\n",
      "\n",
      "numerals: string indicating how to convert numbers whose conversion to\n",
      "          double precision would lose accuracy, see ‘type.convert’.\n",
      "          Can be abbreviated.  (Applies also to complex-number inputs.)\n",
      "\n",
      "row.names: a vector of row names.  This can be a vector giving the\n",
      "          actual row names, or a single number giving the column of the\n",
      "          table which contains the row names, or character string\n",
      "          giving the name of the table column containing the row names.\n",
      "\n",
      "          If there is a header and the first row contains one fewer\n",
      "          field than the number of columns, the first column in the\n",
      "          input is used for the row names.  Otherwise if ‘row.names’ is\n",
      "          missing, the rows are numbered.\n",
      "\n",
      "          Using ‘row.names = NULL’ forces row numbering. Missing or\n",
      "          ‘NULL’ ‘row.names’ generate row names that are considered to\n",
      "          be ‘automatic’ (and not preserved by ‘as.matrix’).\n",
      "\n",
      "col.names: a vector of optional names for the variables.  The default\n",
      "          is to use ‘\"V\"’ followed by the column number.\n",
      "\n",
      "   as.is: controls conversion of character variables (insofar as they\n",
      "          are not converted to logical, numeric or complex) to factors,\n",
      "          if not otherwise specified by ‘colClasses’.  Its value is\n",
      "          either a vector of logicals (values are recycled if\n",
      "          necessary), or a vector of numeric or character indices which\n",
      "          specify which columns should not be converted to factors.\n",
      "\n",
      "          Note: to suppress all conversions including those of numeric\n",
      "          columns, set ‘colClasses = \"character\"’.\n",
      "\n",
      "          Note that ‘as.is’ is specified per column (not per variable)\n",
      "          and so includes the column of row names (if any) and any\n",
      "          columns to be skipped.\n",
      "\n",
      "tryLogical: a ‘logical’ determining if columns consisting entirely of\n",
      "          ‘\"F\"’, ‘\"T\"’, ‘\"FALSE\"’, and ‘\"TRUE\"’ should be converted to\n",
      "          ‘logical’; passed to ‘type.convert’, true by default.\n",
      "\n",
      "na.strings: a character vector of strings which are to be interpreted\n",
      "          as ‘NA’ values.  Blank fields are also considered to be\n",
      "          missing values in logical, integer, numeric and complex\n",
      "          fields.  Note that the test happens _after_ white space is\n",
      "          stripped from the input, so ‘na.strings’ values may need\n",
      "          their own white space stripped in advance.\n",
      "\n",
      "colClasses: character.  A vector of classes to be assumed for the\n",
      "          columns.  If unnamed, recycled as necessary.  If named, names\n",
      "          are matched with unspecified values being taken to be ‘NA’.\n",
      "\n",
      "          Possible values are ‘NA’ (the default, when ‘type.convert’ is\n",
      "          used), ‘\"NULL\"’ (when the column is skipped), one of the\n",
      "          atomic vector classes (logical, integer, numeric, complex,\n",
      "          character, raw), or ‘\"factor\"’, ‘\"Date\"’ or ‘\"POSIXct\"’.\n",
      "          Otherwise there needs to be an ‘as’ method (from package\n",
      "          ‘methods’) for conversion from ‘\"character\"’ to the specified\n",
      "          formal class.\n",
      "\n",
      "          Note that ‘colClasses’ is specified per column (not per\n",
      "          variable) and so includes the column of row names (if any).\n",
      "\n",
      "   nrows: integer: the maximum number of rows to read in.  Negative and\n",
      "          other invalid values are ignored.\n",
      "\n",
      "    skip: integer: the number of lines of the data file to skip before\n",
      "          beginning to read data.\n",
      "\n",
      "check.names: logical.  If ‘TRUE’ then the names of the variables in the\n",
      "          data frame are checked to ensure that they are syntactically\n",
      "          valid variable names.  If necessary they are adjusted (by\n",
      "          ‘make.names’) so that they are, and also to ensure that there\n",
      "          are no duplicates.\n",
      "\n",
      "    fill: logical. If ‘TRUE’ then in case the rows have unequal length,\n",
      "          blank fields are implicitly added.  See ‘Details’.\n",
      "\n",
      "strip.white: logical. Used only when ‘sep’ has been specified, and\n",
      "          allows the stripping of leading and trailing white space from\n",
      "          unquoted ‘character’ fields (‘numeric’ fields are always\n",
      "          stripped).  See ‘scan’ for further details (including the\n",
      "          exact meaning of ‘white space’), remembering that the columns\n",
      "          may include the row names.\n",
      "\n",
      "blank.lines.skip: logical: if ‘TRUE’ blank lines in the input are\n",
      "          ignored.\n",
      "\n",
      "comment.char: character: a character vector of length one containing a\n",
      "          single character or an empty string.  Use ‘\"\"’ to turn off\n",
      "          the interpretation of comments altogether.\n",
      "\n",
      "allowEscapes: logical.  Should C-style escapes such as ‘\\n’ be\n",
      "          processed or read verbatim (the default)?  Note that if not\n",
      "          within quotes these could be interpreted as a delimiter (but\n",
      "          not as a comment character).  For more details see ‘scan’.\n",
      "\n",
      "   flush: logical: if ‘TRUE’, ‘scan’ will flush to the end of the line\n",
      "          after reading the last of the fields requested.  This allows\n",
      "          putting comments after the last field.\n",
      "\n",
      "stringsAsFactors: logical: should character vectors be converted to\n",
      "          factors?  Note that this is overridden by ‘as.is’ and\n",
      "          ‘colClasses’, both of which allow finer control.\n",
      "\n",
      "fileEncoding: character string: if non-empty declares the encoding used\n",
      "          on a file (not a connection) so the character data can be\n",
      "          re-encoded.  See the ‘Encoding’ section of the help for\n",
      "          ‘file’, the ‘R Data Import/Export’ manual and ‘Note’.\n",
      "\n",
      "encoding: encoding to be assumed for input strings.  It is used to mark\n",
      "          character strings as known to be in Latin-1 or UTF-8 (see\n",
      "          ‘Encoding’): it is not used to re-encode the input, but\n",
      "          allows R to handle encoded strings in their native encoding\n",
      "          (if one of those two).  See ‘Value’ and ‘Note’.\n",
      "\n",
      "    text: character string: if ‘file’ is not supplied and this is, then\n",
      "          data are read from the value of ‘text’ via a text connection.\n",
      "          Notice that a literal string can be used to include (small)\n",
      "          data sets within R code.\n",
      "\n",
      " skipNul: logical: should nuls be skipped?\n",
      "\n",
      "     ...: Further arguments to be passed to ‘read.table’.\n",
      "\n",
      "_\bD_\be_\bt_\ba_\bi_\bl_\bs:\n",
      "\n",
      "     This function is the principal means of reading tabular data into\n",
      "     R.\n",
      "\n",
      "     Unless ‘colClasses’ is specified, all columns are read as\n",
      "     character columns and then converted using ‘type.convert’ to\n",
      "     logical, integer, numeric, complex or (depending on ‘as.is’)\n",
      "     factor as appropriate.  Quotes are (by default) interpreted in all\n",
      "     fields, so a column of values like ‘\"42\"’ will result in an\n",
      "     integer column.\n",
      "\n",
      "     A field or line is ‘blank’ if it contains nothing (except\n",
      "     whitespace if no separator is specified) before a comment\n",
      "     character or the end of the field or line.\n",
      "\n",
      "     If ‘row.names’ is not specified and the header line has one less\n",
      "     entry than the number of columns, the first column is taken to be\n",
      "     the row names.  This allows data frames to be read in from the\n",
      "     format in which they are printed.  If ‘row.names’ is specified and\n",
      "     does not refer to the first column, that column is discarded from\n",
      "     such files.\n",
      "\n",
      "     The number of data columns is determined by looking at the first\n",
      "     five lines of input (or the whole input if it has less than five\n",
      "     lines), or from the length of ‘col.names’ if it is specified and\n",
      "     is longer.  This could conceivably be wrong if ‘fill’ or\n",
      "     ‘blank.lines.skip’ are true, so specify ‘col.names’ if necessary\n",
      "     (as in the ‘Examples’).\n",
      "\n",
      "     ‘read.csv’ and ‘read.csv2’ are identical to ‘read.table’ except\n",
      "     for the defaults.  They are intended for reading ‘comma separated\n",
      "     value’ files (‘.csv’) or (‘read.csv2’) the variant used in\n",
      "     countries that use a comma as decimal point and a semicolon as\n",
      "     field separator.  Similarly, ‘read.delim’ and ‘read.delim2’ are\n",
      "     for reading delimited files, defaulting to the TAB character for\n",
      "     the delimiter.  Notice that ‘header = TRUE’ and ‘fill = TRUE’ in\n",
      "     these variants, and that the comment character is disabled.\n",
      "\n",
      "     The rest of the line after a comment character is skipped; quotes\n",
      "     are not processed in comments.  Complete comment lines are allowed\n",
      "     provided ‘blank.lines.skip = TRUE’; however, comment lines prior\n",
      "     to the header must have the comment character in the first\n",
      "     non-blank column.\n",
      "\n",
      "     Quoted fields with embedded newlines are supported except after a\n",
      "     comment character.  Embedded nuls are unsupported: skipping them\n",
      "     (with ‘skipNul = TRUE’) may work.\n",
      "\n",
      "_\bV_\ba_\bl_\bu_\be:\n",
      "\n",
      "     A data frame (‘data.frame’) containing a representation of the\n",
      "     data in the file.\n",
      "\n",
      "     Empty input is an error unless ‘col.names’ is specified, when a\n",
      "     0-row data frame is returned: similarly giving just a header line\n",
      "     if ‘header = TRUE’ results in a 0-row data frame.  Note that in\n",
      "     either case the columns will be logical unless ‘colClasses’ was\n",
      "     supplied.\n",
      "\n",
      "     Character strings in the result (including factor levels) will\n",
      "     have a declared encoding if ‘encoding’ is ‘\"latin1\"’ or ‘\"UTF-8\"’.\n",
      "\n",
      "_\bC_\bS_\bV _\bf_\bi_\bl_\be_\bs:\n",
      "\n",
      "     See the help on ‘write.csv’ for the various conventions for ‘.csv’\n",
      "     files.  The commonest form of CSV file with row names needs to be\n",
      "     read with ‘read.csv(..., row.names = 1)’ to use the names in the\n",
      "     first column of the file as row names.\n",
      "\n",
      "_\bM_\be_\bm_\bo_\br_\by _\bu_\bs_\ba_\bg_\be:\n",
      "\n",
      "     These functions can use a surprising amount of memory when reading\n",
      "     large files.  There is extensive discussion in the ‘R Data\n",
      "     Import/Export’ manual, supplementing the notes here.\n",
      "\n",
      "     Less memory will be used if ‘colClasses’ is specified as one of\n",
      "     the six atomic vector classes.  This can be particularly so when\n",
      "     reading a column that takes many distinct numeric values, as\n",
      "     storing each distinct value as a character string can take up to\n",
      "     14 times as much memory as storing it as an integer.\n",
      "\n",
      "     Using ‘nrows’, even as a mild over-estimate, will help memory\n",
      "     usage.\n",
      "\n",
      "     Using ‘comment.char = \"\"’ will be appreciably faster than the\n",
      "     ‘read.table’ default.\n",
      "\n",
      "     ‘read.table’ is not the right tool for reading large matrices,\n",
      "     especially those with many columns: it is designed to read _data\n",
      "     frames_ which may have columns of very different classes.  Use\n",
      "     ‘scan’ instead for matrices.\n",
      "\n",
      "_\bN_\bo_\bt_\be:\n",
      "\n",
      "     The columns referred to in ‘as.is’ and ‘colClasses’ include the\n",
      "     column of row names (if any).\n",
      "\n",
      "     There are two approaches for reading input that is not in the\n",
      "     local encoding.  If the input is known to be UTF-8 or Latin1, use\n",
      "     the ‘encoding’ argument to declare that.  If the input is in some\n",
      "     other encoding, then it may be translated on input.  The\n",
      "     ‘fileEncoding’ argument achieves this by setting up a connection\n",
      "     to do the re-encoding into the current locale.  Note that on\n",
      "     Windows or other systems not running in a UTF-8 locale, this may\n",
      "     not be possible.\n",
      "\n",
      "_\bR_\be_\bf_\be_\br_\be_\bn_\bc_\be_\bs:\n",
      "\n",
      "     Chambers, J. M. (1992) _Data for models._ Chapter 3 of\n",
      "     _Statistical Models in S_ eds J. M. Chambers and T. J. Hastie,\n",
      "     Wadsworth & Brooks/Cole.\n",
      "\n",
      "_\bS_\be_\be _\bA_\bl_\bs_\bo:\n",
      "\n",
      "     The ‘R Data Import/Export’ manual.\n",
      "\n",
      "     ‘scan’, ‘type.convert’, ‘read.fwf’ for reading _f_ixed _w_idth\n",
      "     _f_ormatted input; ‘write.table’; ‘data.frame’.\n",
      "\n",
      "     ‘count.fields’ can be useful to determine problems with reading\n",
      "     files which result in reports of incorrect record lengths (see the\n",
      "     ‘Examples’ below).\n",
      "\n",
      "     <https://www.rfc-editor.org/rfc/rfc4180> for the IANA definition\n",
      "     of CSV files (which requires comma as separator and CRLF line\n",
      "     endings).\n",
      "\n",
      "_\bE_\bx_\ba_\bm_\bp_\bl_\be_\bs:\n",
      "\n",
      "     ## using count.fields to handle unknown maximum number of fields\n",
      "     ## when fill = TRUE\n",
      "     test1 <- c(1:5, \"6,7\", \"8,9,10\")\n",
      "     tf <- tempfile()\n",
      "     writeLines(test1, tf)\n",
      "     \n",
      "     read.csv(tf, fill = TRUE) # 1 column\n",
      "     ncol <- max(count.fields(tf, sep = \",\"))\n",
      "     read.csv(tf, fill = TRUE, header = FALSE,\n",
      "              col.names = paste0(\"V\", seq_len(ncol)))\n",
      "     unlink(tf)\n",
      "     \n",
      "     ## \"Inline\" data set, using text=\n",
      "     ## Notice that leading and trailing empty lines are auto-trimmed\n",
      "     \n",
      "     read.table(header = TRUE, text = \"\n",
      "     a b\n",
      "     1 2\n",
      "     3 4\n",
      "     \")\n",
      "     "
     ]
    }
   ],
   "source": [
    "?read.table"
   ]
  },
  {
   "cell_type": "code",
   "execution_count": 9,
   "metadata": {
    "vscode": {
     "languageId": "r"
    }
   },
   "outputs": [
    {
     "data": {
      "text/html": [
       "<style>\n",
       ".list-inline {list-style: none; margin:0; padding: 0}\n",
       ".list-inline>li {display: inline-block}\n",
       ".list-inline>li:not(:last-child)::after {content: \"\\00b7\"; padding: 0 .5ex}\n",
       "</style>\n",
       "<ol class=list-inline><li>'nombre'</li><li>'edad'</li><li>'John'</li><li>'25'</li><li>'Mary'</li><li>'28'</li><li>'Jim'</li><li>'19'</li></ol>\n"
      ],
      "text/latex": [
       "\\begin{enumerate*}\n",
       "\\item 'nombre'\n",
       "\\item 'edad'\n",
       "\\item 'John'\n",
       "\\item '25'\n",
       "\\item 'Mary'\n",
       "\\item '28'\n",
       "\\item 'Jim'\n",
       "\\item '19'\n",
       "\\end{enumerate*}\n"
      ],
      "text/markdown": [
       "1. 'nombre'\n",
       "2. 'edad'\n",
       "3. 'John'\n",
       "4. '25'\n",
       "5. 'Mary'\n",
       "6. '28'\n",
       "7. 'Jim'\n",
       "8. '19'\n",
       "\n",
       "\n"
      ],
      "text/plain": [
       "[1] \"nombre\" \"edad\"   \"John\"   \"25\"     \"Mary\"   \"28\"     \"Jim\"    \"19\"    "
      ]
     },
     "metadata": {},
     "output_type": "display_data"
    }
   ],
   "source": [
    "scan(\"matrix.txt\", what=character())"
   ]
  },
  {
   "cell_type": "markdown",
   "metadata": {},
   "source": [
    "Si queremos escribir en lugar de leer cambiamos el `read.table` por el `write.table`."
   ]
  },
  {
   "cell_type": "code",
   "execution_count": null,
   "metadata": {
    "vscode": {
     "languageId": "r"
    }
   },
   "outputs": [],
   "source": [
    "write.table(matrix(1:6, nrow=2), \"output1.txt\", row.names=TRUE, col.names=TRUE)"
   ]
  },
  {
   "cell_type": "code",
   "execution_count": null,
   "metadata": {
    "vscode": {
     "languageId": "r"
    }
   },
   "outputs": [],
   "source": [
    "write.table(matrix(1:6, nrow=2), \"output2.txt\", row.names=FALSE, col.names=FALSE)"
   ]
  },
  {
   "cell_type": "markdown",
   "metadata": {},
   "source": [
    "La función `cat` también puede ser usada para escribir en un fichero..."
   ]
  },
  {
   "cell_type": "code",
   "execution_count": null,
   "metadata": {
    "vscode": {
     "languageId": "r"
    }
   },
   "outputs": [],
   "source": [
    "cat(\"abc\\n\", file=\"u.txt\")\n",
    "cat(\"de\\n\", file=\"u.txt\", append=TRUE)"
   ]
  },
  {
   "cell_type": "code",
   "execution_count": null,
   "metadata": {
    "vscode": {
     "languageId": "r"
    }
   },
   "outputs": [],
   "source": [
    "data <- read.csv(\"matrix.txt\", header=TRUE)\n",
    "data"
   ]
  },
  {
   "cell_type": "code",
   "execution_count": null,
   "metadata": {
    "vscode": {
     "languageId": "r"
    }
   },
   "outputs": [],
   "source": [
    "data <- read.csv(\"ages.csv\", header=FALSE)\n",
    "data"
   ]
  },
  {
   "cell_type": "markdown",
   "metadata": {},
   "source": [
    "## Input/output en Tidyverse"
   ]
  },
  {
   "cell_type": "code",
   "execution_count": 10,
   "metadata": {
    "vscode": {
     "languageId": "r"
    }
   },
   "outputs": [
    {
     "name": "stderr",
     "output_type": "stream",
     "text": [
      "── \u001b[1mAttaching core tidyverse packages\u001b[22m ──────────────────────── tidyverse 2.0.0 ──\n",
      "\u001b[32m✔\u001b[39m \u001b[34mdplyr    \u001b[39m 1.1.3     \u001b[32m✔\u001b[39m \u001b[34mreadr    \u001b[39m 2.1.4\n",
      "\u001b[32m✔\u001b[39m \u001b[34mforcats  \u001b[39m 1.0.0     \u001b[32m✔\u001b[39m \u001b[34mstringr  \u001b[39m 1.5.0\n",
      "\u001b[32m✔\u001b[39m \u001b[34mggplot2  \u001b[39m 3.4.3     \u001b[32m✔\u001b[39m \u001b[34mtibble   \u001b[39m 3.2.1\n",
      "\u001b[32m✔\u001b[39m \u001b[34mlubridate\u001b[39m 1.9.3     \u001b[32m✔\u001b[39m \u001b[34mtidyr    \u001b[39m 1.3.0\n",
      "\u001b[32m✔\u001b[39m \u001b[34mpurrr    \u001b[39m 1.0.2     \n",
      "── \u001b[1mConflicts\u001b[22m ────────────────────────────────────────── tidyverse_conflicts() ──\n",
      "\u001b[31m✖\u001b[39m \u001b[34mdplyr\u001b[39m::\u001b[32mfilter()\u001b[39m masks \u001b[34mstats\u001b[39m::filter()\n",
      "\u001b[31m✖\u001b[39m \u001b[34mdplyr\u001b[39m::\u001b[32mlag()\u001b[39m    masks \u001b[34mstats\u001b[39m::lag()\n",
      "\u001b[36mℹ\u001b[39m Use the conflicted package (\u001b[3m\u001b[34m<http://conflicted.r-lib.org/>\u001b[39m\u001b[23m) to force all conflicts to become errors\n"
     ]
    }
   ],
   "source": [
    "library(tidyverse) # Necesitamos el paquete \"readr\""
   ]
  },
  {
   "cell_type": "code",
   "execution_count": null,
   "metadata": {
    "vscode": {
     "languageId": "r"
    }
   },
   "outputs": [],
   "source": [
    "data <- read_csv(\"ages.csv\", col_names = FALSE)\n",
    "data"
   ]
  },
  {
   "cell_type": "code",
   "execution_count": null,
   "metadata": {
    "vscode": {
     "languageId": "r"
    }
   },
   "outputs": [],
   "source": [
    "write_csv(data, \"clon_ages.csv\")"
   ]
  },
  {
   "cell_type": "code",
   "execution_count": null,
   "metadata": {
    "vscode": {
     "languageId": "r"
    }
   },
   "outputs": [],
   "source": [
    "# Leyendo ficheros de Excel\n",
    "library(\"readxl\")\n",
    "\n",
    "read_excel(\"results.xlsx\")"
   ]
  },
  {
   "cell_type": "code",
   "execution_count": null,
   "metadata": {
    "vscode": {
     "languageId": "r"
    }
   },
   "outputs": [],
   "source": [
    "read_excel(\"results.xlsx\", col_names = TRUE, skip = 1)"
   ]
  },
  {
   "cell_type": "code",
   "execution_count": null,
   "metadata": {
    "vscode": {
     "languageId": "r"
    }
   },
   "outputs": [],
   "source": [
    "data <- read_excel(\"results.xlsx\", col_names = TRUE, skip = 1)\n",
    "colnames(data)[1:3] <- LETTERS[1:3]\n",
    "data"
   ]
  },
  {
   "cell_type": "code",
   "execution_count": null,
   "metadata": {
    "vscode": {
     "languageId": "r"
    }
   },
   "outputs": [],
   "source": [
    "read_excel(\"results.xlsx\", sheet = \"Fashion MNIST Non-convolutional\", col_names = TRUE, skip = 1)"
   ]
  },
  {
   "cell_type": "code",
   "execution_count": null,
   "metadata": {
    "vscode": {
     "languageId": "r"
    }
   },
   "outputs": [],
   "source": [
    "read_excel(\"results.xlsx\", n_max = 3, sheet = 2, col_names = TRUE, skip = 1)"
   ]
  },
  {
   "cell_type": "code",
   "execution_count": null,
   "metadata": {
    "vscode": {
     "languageId": "r"
    }
   },
   "outputs": [],
   "source": [
    "read_excel(\"results.xlsx\", range = cell_cols(\"B:D\"), col_names = TRUE, skip = 1)"
   ]
  },
  {
   "cell_type": "code",
   "execution_count": null,
   "metadata": {
    "vscode": {
     "languageId": "r"
    }
   },
   "outputs": [],
   "source": [
    "read_excel(\"results.xlsx\", range = \"C1:E4\", col_names = TRUE, skip = 1)"
   ]
  },
  {
   "cell_type": "code",
   "execution_count": null,
   "metadata": {
    "vscode": {
     "languageId": "r"
    }
   },
   "outputs": [],
   "source": [
    "read_excel(\"results.xlsx\", na = \"4\", col_names = TRUE, skip = 1)"
   ]
  },
  {
   "cell_type": "code",
   "execution_count": null,
   "metadata": {
    "vscode": {
     "languageId": "r"
    }
   },
   "outputs": [],
   "source": [
    "install.packages(\"writexl\")"
   ]
  },
  {
   "cell_type": "code",
   "execution_count": null,
   "metadata": {
    "vscode": {
     "languageId": "r"
    }
   },
   "outputs": [],
   "source": [
    "library(\"writexl\")\n",
    "\n",
    "write_xlsx(data, \"results_out.xlsx\")"
   ]
  },
  {
   "cell_type": "code",
   "execution_count": null,
   "metadata": {
    "vscode": {
     "languageId": "r"
    }
   },
   "outputs": [],
   "source": [
    "write_xlsx(list(pag1=data, pag2=data), \"results_out.xlsx\") # Listas para varias solapas..."
   ]
  },
  {
   "cell_type": "code",
   "execution_count": null,
   "metadata": {
    "vscode": {
     "languageId": "r"
    }
   },
   "outputs": [],
   "source": [
    "data"
   ]
  },
  {
   "cell_type": "code",
   "execution_count": null,
   "metadata": {
    "vscode": {
     "languageId": "r"
    }
   },
   "outputs": [],
   "source": [
    "read_xlsx(\"results.xlsx\", sheet=1, col_names = TRUE, skip = 1) %>%\n",
    "    ggplot(aes(x=Train,y=Test)) + geom_point()"
   ]
  },
  {
   "cell_type": "markdown",
   "metadata": {},
   "source": [
    "## Ejercicios\n",
    "1. Pida al usuario que introduzca con el teclado una cadena de caracteres s y un número n y muestre en pantalla n veces la cadena s (sin espacios entre palabras).\n",
    ">s=\"hola\", n=3<br/>\n",
    "holaholahola\n",
    "2. Crea tres ficheros llamados `dos.txt`, `tres.txt` y `cinco.txt` que contengan la tabla de 2, 3 y 5 respectivamente (sólo incluye los 10 primeros valores de cada uno, un número en una línea separada).\n",
    "3. Escribe las cinco primeras filas de la matriz creada en el último ejercicio en un nuevo fichero llamado `prime.txt` y las cinco últimas en otro fichero llamado `fin.txt`. Ambos ficheros deben tener los datos separados por comas.\n",
    "4. Dados dos números, f y c (dados por el usuario mediante el teclado), cree una figura cuadrada de f filas y c columnas con el carácter \"x\" (sin espacios). Vea a continuación un ejemplo para f=4 y c=3:\n",
    "> xxx<br/>\n",
    " xxx<br/>\n",
    " xxx<br/>\n",
    " xxx<br/>\n",
    "5. Cargue la primer y tercera hojas del fichero `resultados.xls` y muestre un gráfico que compare, para los dos datasets, el resultado en entrenamiento y test a medida que aumenta la cantidad de bits utilizados. "
   ]
  }
 ],
 "metadata": {
  "celltoolbar": "Raw Cell Format",
  "kernelspec": {
   "display_name": "R",
   "language": "R",
   "name": "ir"
  },
  "language_info": {
   "codemirror_mode": "r",
   "file_extension": ".r",
   "mimetype": "text/x-r-source",
   "name": "R",
   "pygments_lexer": "r",
   "version": "4.3.1"
  }
 },
 "nbformat": 4,
 "nbformat_minor": 2
}
