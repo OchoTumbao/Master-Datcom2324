{
 "cells": [
  {
   "cell_type": "markdown",
   "id": "543be99c",
   "metadata": {},
   "source": [
    "# Introducción a la Programación para Ciencia de Datos\n",
    "## Lenguaje de programación R\n",
    "_Rocío Romero Zaliz_ - rocio@decsai.ugr.es"
   ]
  },
  {
   "cell_type": "markdown",
   "id": "038b1d7c",
   "metadata": {},
   "source": [
    "# Tidyverse\n",
    "Una colección de paquetes con una gramática, filosofía y estructura similar (https://tidyverse.tidyverse.org)\n",
    "\n",
    "<i>Wickham H, Averick M, Bryan J, Chang W, McGowan LD, François R, Grolemund G, Hayes A, Henry L, Hester J, Kuhn M, Pedersen TL, Miller E, Bache SM, Müller K, Ooms J, Robinson D, Seidel DP, Spinu V, Takahashi K, Vaughan D, Wilke C, Woo K, Yutani H (2019). “Welcome to the tidyverse.” Journal of Open Source Software, 4(43), 1686. doi:10.21105/joss.01686.</i>"
   ]
  },
  {
   "cell_type": "code",
   "execution_count": null,
   "id": "8ef1d60c",
   "metadata": {
    "vscode": {
     "languageId": "r"
    }
   },
   "outputs": [],
   "source": [
    "# Instalación de tidyverse\n",
    "install.packages(\"tidyverse\") # También se puede usar la interfaz gráfica"
   ]
  },
  {
   "cell_type": "code",
   "execution_count": 1,
   "id": "3e7c406b",
   "metadata": {
    "vscode": {
     "languageId": "r"
    }
   },
   "outputs": [
    {
     "name": "stderr",
     "output_type": "stream",
     "text": [
      "── \u001b[1mAttaching core tidyverse packages\u001b[22m ──────────────────────── tidyverse 2.0.0 ──\n",
      "\u001b[32m✔\u001b[39m \u001b[34mdplyr    \u001b[39m 1.1.3     \u001b[32m✔\u001b[39m \u001b[34mreadr    \u001b[39m 2.1.4\n",
      "\u001b[32m✔\u001b[39m \u001b[34mforcats  \u001b[39m 1.0.0     \u001b[32m✔\u001b[39m \u001b[34mstringr  \u001b[39m 1.5.0\n",
      "\u001b[32m✔\u001b[39m \u001b[34mggplot2  \u001b[39m 3.4.3     \u001b[32m✔\u001b[39m \u001b[34mtibble   \u001b[39m 3.2.1\n",
      "\u001b[32m✔\u001b[39m \u001b[34mlubridate\u001b[39m 1.9.3     \u001b[32m✔\u001b[39m \u001b[34mtidyr    \u001b[39m 1.3.0\n",
      "\u001b[32m✔\u001b[39m \u001b[34mpurrr    \u001b[39m 1.0.2     \n",
      "── \u001b[1mConflicts\u001b[22m ────────────────────────────────────────── tidyverse_conflicts() ──\n",
      "\u001b[31m✖\u001b[39m \u001b[34mdplyr\u001b[39m::\u001b[32mfilter()\u001b[39m masks \u001b[34mstats\u001b[39m::filter()\n",
      "\u001b[31m✖\u001b[39m \u001b[34mdplyr\u001b[39m::\u001b[32mlag()\u001b[39m    masks \u001b[34mstats\u001b[39m::lag()\n",
      "\u001b[36mℹ\u001b[39m Use the conflicted package (\u001b[3m\u001b[34m<http://conflicted.r-lib.org/>\u001b[39m\u001b[23m) to force all conflicts to become errors\n"
     ]
    }
   ],
   "source": [
    "# Carga del paquete\n",
    "library(tidyverse)"
   ]
  },
  {
   "cell_type": "markdown",
   "id": "bcfbc582",
   "metadata": {},
   "source": [
    "## Cheatsheets\n",
    "https://posit.co/resources/cheatsheets/"
   ]
  },
  {
   "cell_type": "markdown",
   "id": "e3f8c2dc",
   "metadata": {},
   "source": [
    "## Pipeline (%>%) - paquete magrittr\n",
    "Operador que sirve para realizar varias operaciones de forma secuencial sin recurrir a parentesis anidados o a sobrescribir bases de datos."
   ]
  },
  {
   "cell_type": "code",
   "execution_count": 5,
   "id": "5c21ac4b",
   "metadata": {
    "vscode": {
     "languageId": "r"
    }
   },
   "outputs": [
    {
     "data": {
      "text/html": [
       "0.99"
      ],
      "text/latex": [
       "0.99"
      ],
      "text/markdown": [
       "0.99"
      ],
      "text/plain": [
       "[1] 0.99"
      ]
     },
     "metadata": {},
     "output_type": "display_data"
    }
   ],
   "source": [
    "# Sin magrittr\n",
    "x <- c(1, 4, 6, 8)\n",
    "y <- round(mean(sqrt(log(x))), 2)\n",
    "y"
   ]
  },
  {
   "cell_type": "code",
   "execution_count": 6,
   "id": "ce42b49b",
   "metadata": {
    "vscode": {
     "languageId": "r"
    }
   },
   "outputs": [
    {
     "data": {
      "text/html": [
       "0.99"
      ],
      "text/latex": [
       "0.99"
      ],
      "text/markdown": [
       "0.99"
      ],
      "text/plain": [
       "[1] 0.99"
      ]
     },
     "metadata": {},
     "output_type": "display_data"
    }
   ],
   "source": [
    "# Con magrittr\n",
    "x <- c(1, 4, 6, 8)\n",
    "y <- x %>% log() %>% sqrt() %>% mean() %>% round(2)\n",
    "y"
   ]
  },
  {
   "cell_type": "markdown",
   "id": "056e9eb5",
   "metadata": {},
   "source": [
    "## Paquete dplyr\n",
    "dplyr es un paquete de R para manipular, limpiar y resumir datos no estructurados. Facilita y agiliza la exploración y manipulación de datos en R."
   ]
  },
  {
   "cell_type": "code",
   "execution_count": null,
   "id": "8388e7e3",
   "metadata": {
    "vscode": {
     "languageId": "r"
    }
   },
   "outputs": [],
   "source": [
    "# Vamos a trabajar con un conjunto de datos ya creado\n",
    "starwars"
   ]
  },
  {
   "cell_type": "code",
   "execution_count": null,
   "id": "3f7cb519",
   "metadata": {
    "vscode": {
     "languageId": "r"
    }
   },
   "outputs": [],
   "source": [
    "starwars %>% str"
   ]
  },
  {
   "cell_type": "code",
   "execution_count": null,
   "id": "e4250a3f",
   "metadata": {
    "vscode": {
     "languageId": "r"
    }
   },
   "outputs": [],
   "source": [
    "class(starwars)"
   ]
  },
  {
   "cell_type": "markdown",
   "id": "b44deca2",
   "metadata": {},
   "source": [
    "<b>¿Qué es un tibble?</b>\n",
    "\n",
    "Un tibble, o `tbl_df`, es una reimaginación moderna del data frame, manteniendo lo que el tiempo ha demostrado ser eficaz y desechando lo que no lo es."
   ]
  },
  {
   "cell_type": "markdown",
   "id": "0d92fe19",
   "metadata": {},
   "source": [
    "### filter()\n",
    "Selecciona filas en un data frame"
   ]
  },
  {
   "cell_type": "code",
   "execution_count": null,
   "id": "2cf89f3c",
   "metadata": {
    "vscode": {
     "languageId": "r"
    }
   },
   "outputs": [],
   "source": [
    "# Busco a los andorides...\n",
    "# Fuera del tidyverso\n",
    "starwars[!is.na(starwars$species) & starwars$species == \"Droid\",]"
   ]
  },
  {
   "cell_type": "code",
   "execution_count": null,
   "id": "ea17d051",
   "metadata": {
    "scrolled": true,
    "vscode": {
     "languageId": "r"
    }
   },
   "outputs": [],
   "source": [
    "# Dentro del tidyverso\n",
    "starwars %>% filter(species == \"Droid\")"
   ]
  },
  {
   "cell_type": "code",
   "execution_count": null,
   "id": "18743e90",
   "metadata": {
    "vscode": {
     "languageId": "r"
    }
   },
   "outputs": [],
   "source": [
    "starwars %>% filter(species == \"Droid\") %>% filter(homeworld == \"Naboo\")"
   ]
  },
  {
   "cell_type": "code",
   "execution_count": null,
   "id": "b3697e55",
   "metadata": {
    "vscode": {
     "languageId": "r"
    }
   },
   "outputs": [],
   "source": [
    "starwars %>% filter(species == \"Droid\") %>% filter(height < 100)"
   ]
  },
  {
   "cell_type": "code",
   "execution_count": null,
   "id": "10e7d704",
   "metadata": {
    "vscode": {
     "languageId": "r"
    }
   },
   "outputs": [],
   "source": [
    "starwars %>% filter(species == \"Droid\") %>% filter(height < 100 | is.na(height))"
   ]
  },
  {
   "cell_type": "code",
   "execution_count": null,
   "id": "3408ef4d",
   "metadata": {
    "vscode": {
     "languageId": "r"
    }
   },
   "outputs": [],
   "source": [
    "starwars %>% filter(species == \"Droid\") %>% filter(height >= 96 & height < 200)"
   ]
  },
  {
   "cell_type": "code",
   "execution_count": null,
   "id": "d2fdf711",
   "metadata": {
    "vscode": {
     "languageId": "r"
    }
   },
   "outputs": [],
   "source": [
    "starwars %>% filter(species == \"Droid\") %>% \n",
    "    filter(height >= 96 & homeworld %in% c(\"Naboo\", \"Tatooine\"))"
   ]
  },
  {
   "cell_type": "code",
   "execution_count": null,
   "id": "c6732a38",
   "metadata": {
    "vscode": {
     "languageId": "r"
    }
   },
   "outputs": [],
   "source": [
    "starwars %>% slice(c(10:15))"
   ]
  },
  {
   "cell_type": "code",
   "execution_count": null,
   "id": "fc7e3fbd",
   "metadata": {
    "vscode": {
     "languageId": "r"
    }
   },
   "outputs": [],
   "source": [
    "starwars %>% top_n(5, height) # slice_max"
   ]
  },
  {
   "cell_type": "code",
   "execution_count": null,
   "id": "914fbece",
   "metadata": {
    "vscode": {
     "languageId": "r"
    }
   },
   "outputs": [],
   "source": [
    "starwars %>% top_n(-5, height) # slice_mean"
   ]
  },
  {
   "cell_type": "markdown",
   "id": "16011347",
   "metadata": {},
   "source": [
    "### select()\n",
    "Permite seleccionar variables (columnas) del data frame"
   ]
  },
  {
   "cell_type": "code",
   "execution_count": null,
   "id": "d2890181",
   "metadata": {
    "vscode": {
     "languageId": "r"
    }
   },
   "outputs": [],
   "source": [
    "starwars %>% select(name, homeworld)"
   ]
  },
  {
   "cell_type": "code",
   "execution_count": null,
   "id": "2190176f",
   "metadata": {
    "vscode": {
     "languageId": "r"
    }
   },
   "outputs": [],
   "source": [
    "starwars %>% select(-name, -homeworld)"
   ]
  },
  {
   "cell_type": "code",
   "execution_count": null,
   "id": "643d6509",
   "metadata": {
    "vscode": {
     "languageId": "r"
    }
   },
   "outputs": [],
   "source": [
    "starwars %>% select(starts_with(\"s\")) %>% head(5)"
   ]
  },
  {
   "cell_type": "code",
   "execution_count": null,
   "id": "b4a1721a",
   "metadata": {
    "vscode": {
     "languageId": "r"
    }
   },
   "outputs": [],
   "source": [
    "starwars %>% select(ends_with(\"es\")) %>% head(5)"
   ]
  },
  {
   "cell_type": "code",
   "execution_count": null,
   "id": "4a2d357e",
   "metadata": {
    "vscode": {
     "languageId": "r"
    }
   },
   "outputs": [],
   "source": [
    "starwars %>% select(contains(\"a\")) %>% head(5)"
   ]
  },
  {
   "cell_type": "code",
   "execution_count": null,
   "id": "f6f01eba",
   "metadata": {
    "vscode": {
     "languageId": "r"
    }
   },
   "outputs": [],
   "source": [
    "starwars %>% select(name)"
   ]
  },
  {
   "cell_type": "code",
   "execution_count": null,
   "id": "e19a4262",
   "metadata": {
    "vscode": {
     "languageId": "r"
    }
   },
   "outputs": [],
   "source": [
    "starwars %>% slice(c(10:15)) %>% pull(name)"
   ]
  },
  {
   "cell_type": "markdown",
   "id": "7e3c4e42",
   "metadata": {},
   "source": [
    "### arrange()\n",
    "Reordena filas en un data frame"
   ]
  },
  {
   "cell_type": "code",
   "execution_count": null,
   "id": "84ddfd45",
   "metadata": {
    "vscode": {
     "languageId": "r"
    }
   },
   "outputs": [],
   "source": [
    "starwars %>% arrange(height)"
   ]
  },
  {
   "cell_type": "code",
   "execution_count": null,
   "id": "3c985ccd",
   "metadata": {
    "vscode": {
     "languageId": "r"
    }
   },
   "outputs": [],
   "source": [
    "starwars %>% arrange(desc(height))"
   ]
  },
  {
   "cell_type": "code",
   "execution_count": null,
   "id": "ec7ef918",
   "metadata": {
    "vscode": {
     "languageId": "r"
    }
   },
   "outputs": [],
   "source": [
    "starwars %>% arrange(height, birth_year)"
   ]
  },
  {
   "cell_type": "markdown",
   "id": "0f813537",
   "metadata": {},
   "source": [
    "### rename()\n",
    "Renombra columnas en un data frame"
   ]
  },
  {
   "cell_type": "code",
   "execution_count": null,
   "id": "0a43eea6",
   "metadata": {
    "vscode": {
     "languageId": "r"
    }
   },
   "outputs": [],
   "source": [
    "starwars %>% rename(hair = hair_color)"
   ]
  },
  {
   "cell_type": "markdown",
   "id": "e3b661ea",
   "metadata": {},
   "source": [
    "###  mutate()\n",
    "Crea nueva columnas en un data frame o actualiza las ya existentes"
   ]
  },
  {
   "cell_type": "code",
   "execution_count": null,
   "id": "54588f43",
   "metadata": {
    "vscode": {
     "languageId": "r"
    }
   },
   "outputs": [],
   "source": [
    "starwars %>% mutate(height_in = height * 0.393701)"
   ]
  },
  {
   "cell_type": "code",
   "execution_count": null,
   "id": "da068290",
   "metadata": {
    "vscode": {
     "languageId": "r"
    }
   },
   "outputs": [],
   "source": [
    "starwars %>% mutate(sex = as.factor(sex))"
   ]
  },
  {
   "cell_type": "markdown",
   "id": "fd9e510d",
   "metadata": {},
   "source": [
    "También existen funciones `mutate_if` y `mutate_at`."
   ]
  },
  {
   "cell_type": "code",
   "execution_count": null,
   "id": "aa462733",
   "metadata": {
    "vscode": {
     "languageId": "r"
    }
   },
   "outputs": [],
   "source": [
    "starwars %>% mutate_if(is.character, as.factor)"
   ]
  },
  {
   "cell_type": "code",
   "execution_count": null,
   "id": "49cbe166",
   "metadata": {
    "vscode": {
     "languageId": "r"
    }
   },
   "outputs": [],
   "source": [
    "starwars %>% mutate_at(c(\"name\",\"sex\"), as.factor)"
   ]
  },
  {
   "cell_type": "markdown",
   "id": "a14686c5",
   "metadata": {},
   "source": [
    "### summarise()/summarize()\n",
    "Permite colapsar/resumir filas en un data frame"
   ]
  },
  {
   "cell_type": "code",
   "execution_count": null,
   "id": "d1a669b0",
   "metadata": {
    "vscode": {
     "languageId": "r"
    }
   },
   "outputs": [],
   "source": [
    "starwars %>% summarise(media = mean(height, na.rm=TRUE))"
   ]
  },
  {
   "cell_type": "code",
   "execution_count": null,
   "id": "b608cb95",
   "metadata": {
    "vscode": {
     "languageId": "r"
    }
   },
   "outputs": [],
   "source": [
    "starwars %>% summarise(NN = n())"
   ]
  },
  {
   "cell_type": "code",
   "execution_count": null,
   "id": "8a89e7a5",
   "metadata": {
    "vscode": {
     "languageId": "r"
    }
   },
   "outputs": [],
   "source": [
    "starwars %>% summarise(desviacion_tipica = sd(height, na.rm=TRUE))"
   ]
  },
  {
   "cell_type": "code",
   "execution_count": null,
   "id": "37cc5865",
   "metadata": {
    "vscode": {
     "languageId": "r"
    }
   },
   "outputs": [],
   "source": [
    "starwars %>% summarise(max(mass, na.rm=TRUE))"
   ]
  },
  {
   "cell_type": "code",
   "execution_count": null,
   "id": "c194b94f",
   "metadata": {
    "vscode": {
     "languageId": "r"
    }
   },
   "outputs": [],
   "source": [
    "starwars %>% summarise(mean(height, na.rm=TRUE), sd(height, na.rm=TRUE))"
   ]
  },
  {
   "cell_type": "code",
   "execution_count": null,
   "id": "f629d6b3",
   "metadata": {
    "vscode": {
     "languageId": "r"
    }
   },
   "outputs": [],
   "source": [
    "starwars %>%\n",
    "        group_by(species) %>%\n",
    "        summarise(n = n(), mass = mean(mass, na.rm = TRUE))"
   ]
  },
  {
   "cell_type": "code",
   "execution_count": null,
   "id": "86b85a59",
   "metadata": {
    "vscode": {
     "languageId": "r"
    }
   },
   "outputs": [],
   "source": [
    "starwars %>% group_by(species) %>% \n",
    "    summarise(n = n(), mass = mean(mass, na.rm = TRUE)) %>% \n",
    "    filter(n > 2, mass > 50)"
   ]
  },
  {
   "cell_type": "markdown",
   "id": "e8f88aa9",
   "metadata": {},
   "source": [
    "Más funciones útiles para usar con sumarise():\n",
    "* Center: mean(), median()\n",
    "* Spread: sd(), IQR(), mad()\n",
    "* Range: min(), max(), quantile()\n",
    "* Position: first(), last(), nth()\n",
    "* Count: n(), n_distinct()\n",
    "* Logical: any(), all()"
   ]
  },
  {
   "cell_type": "code",
   "execution_count": null,
   "id": "0a616b18",
   "metadata": {
    "vscode": {
     "languageId": "r"
    }
   },
   "outputs": [],
   "source": [
    "starwars %>% summarise_at(c(\"height\", \"mass\"), mean, na.rm = TRUE)"
   ]
  },
  {
   "cell_type": "code",
   "execution_count": null,
   "id": "50c05d19",
   "metadata": {
    "vscode": {
     "languageId": "r"
    }
   },
   "outputs": [],
   "source": [
    "starwars %>% summarise_if(is.numeric, mean, na.rm = TRUE)"
   ]
  },
  {
   "cell_type": "code",
   "execution_count": null,
   "id": "126b78c3",
   "metadata": {
    "vscode": {
     "languageId": "r"
    }
   },
   "outputs": [],
   "source": [
    "starwars %>% select(height, mass, birth_year) %>% summarise_all(list(minimo = min, max), na.rm = TRUE)"
   ]
  },
  {
   "cell_type": "markdown",
   "id": "fd840a55",
   "metadata": {},
   "source": [
    "### across()\n",
    "Se utiliza para aplicar una operación a varias columnas de un data frame de manera simultánea"
   ]
  },
  {
   "cell_type": "code",
   "execution_count": 7,
   "id": "ba6d7362",
   "metadata": {
    "scrolled": true,
    "vscode": {
     "languageId": "r"
    }
   },
   "outputs": [
    {
     "data": {
      "text/html": [
       "<table class=\"dataframe\">\n",
       "<caption>A tibble: 9 × 4</caption>\n",
       "<thead>\n",
       "\t<tr><th scope=col>species</th><th scope=col>sex</th><th scope=col>gender</th><th scope=col>homeworld</th></tr>\n",
       "\t<tr><th scope=col>&lt;chr&gt;</th><th scope=col>&lt;int&gt;</th><th scope=col>&lt;int&gt;</th><th scope=col>&lt;int&gt;</th></tr>\n",
       "</thead>\n",
       "<tbody>\n",
       "\t<tr><td>Droid   </td><td>1</td><td>2</td><td> 3</td></tr>\n",
       "\t<tr><td>Gungan  </td><td>1</td><td>1</td><td> 1</td></tr>\n",
       "\t<tr><td>Human   </td><td>2</td><td>2</td><td>16</td></tr>\n",
       "\t<tr><td>Kaminoan</td><td>2</td><td>2</td><td> 1</td></tr>\n",
       "\t<tr><td>Mirialan</td><td>1</td><td>1</td><td> 1</td></tr>\n",
       "\t<tr><td>Twi'lek </td><td>2</td><td>2</td><td> 1</td></tr>\n",
       "\t<tr><td>Wookiee </td><td>1</td><td>1</td><td> 1</td></tr>\n",
       "\t<tr><td>Zabrak  </td><td>1</td><td>1</td><td> 2</td></tr>\n",
       "\t<tr><td>NA      </td><td>1</td><td>1</td><td> 3</td></tr>\n",
       "</tbody>\n",
       "</table>\n"
      ],
      "text/latex": [
       "A tibble: 9 × 4\n",
       "\\begin{tabular}{llll}\n",
       " species & sex & gender & homeworld\\\\\n",
       " <chr> & <int> & <int> & <int>\\\\\n",
       "\\hline\n",
       "\t Droid    & 1 & 2 &  3\\\\\n",
       "\t Gungan   & 1 & 1 &  1\\\\\n",
       "\t Human    & 2 & 2 & 16\\\\\n",
       "\t Kaminoan & 2 & 2 &  1\\\\\n",
       "\t Mirialan & 1 & 1 &  1\\\\\n",
       "\t Twi'lek  & 2 & 2 &  1\\\\\n",
       "\t Wookiee  & 1 & 1 &  1\\\\\n",
       "\t Zabrak   & 1 & 1 &  2\\\\\n",
       "\t NA       & 1 & 1 &  3\\\\\n",
       "\\end{tabular}\n"
      ],
      "text/markdown": [
       "\n",
       "A tibble: 9 × 4\n",
       "\n",
       "| species &lt;chr&gt; | sex &lt;int&gt; | gender &lt;int&gt; | homeworld &lt;int&gt; |\n",
       "|---|---|---|---|\n",
       "| Droid    | 1 | 2 |  3 |\n",
       "| Gungan   | 1 | 1 |  1 |\n",
       "| Human    | 2 | 2 | 16 |\n",
       "| Kaminoan | 2 | 2 |  1 |\n",
       "| Mirialan | 1 | 1 |  1 |\n",
       "| Twi'lek  | 2 | 2 |  1 |\n",
       "| Wookiee  | 1 | 1 |  1 |\n",
       "| Zabrak   | 1 | 1 |  2 |\n",
       "| NA       | 1 | 1 |  3 |\n",
       "\n"
      ],
      "text/plain": [
       "  species  sex gender homeworld\n",
       "1 Droid    1   2       3       \n",
       "2 Gungan   1   1       1       \n",
       "3 Human    2   2      16       \n",
       "4 Kaminoan 2   2       1       \n",
       "5 Mirialan 1   1       1       \n",
       "6 Twi'lek  2   2       1       \n",
       "7 Wookiee  1   1       1       \n",
       "8 Zabrak   1   1       2       \n",
       "9 NA       1   1       3       "
      ]
     },
     "metadata": {},
     "output_type": "display_data"
    }
   ],
   "source": [
    "starwars %>% \n",
    "  group_by(species) %>% \n",
    "  filter(n() > 1) %>% \n",
    "  summarise(across(c(sex, gender, homeworld), n_distinct))"
   ]
  },
  {
   "cell_type": "markdown",
   "id": "9cffbf85",
   "metadata": {},
   "source": [
    "`summarise_at` es útil cuando deseas aplicar diferentes funciones de resumen a columnas específicas, mientras que `across` es útil cuando deseas aplicar la misma operación a varias columnas de manera eficiente."
   ]
  },
  {
   "cell_type": "markdown",
   "id": "da50da2e",
   "metadata": {},
   "source": [
    "## Extra"
   ]
  },
  {
   "cell_type": "code",
   "execution_count": null,
   "id": "84cdba10",
   "metadata": {
    "vscode": {
     "languageId": "r"
    }
   },
   "outputs": [],
   "source": [
    "df <- data.frame(period=c(\"Q1_y2019\",\"Q2_y2019\", \"Q3_y2019\",\"Q4_y2019\"), revenue=c(23,24,27,29))\n",
    "df"
   ]
  },
  {
   "cell_type": "code",
   "execution_count": null,
   "id": "9fa75548",
   "metadata": {
    "vscode": {
     "languageId": "r"
    }
   },
   "outputs": [],
   "source": [
    "df %>% separate(period, c(\"Quarter\",\"Year\"), sep=\"_y\")"
   ]
  },
  {
   "cell_type": "code",
   "execution_count": null,
   "id": "868dba6d",
   "metadata": {
    "vscode": {
     "languageId": "r"
    }
   },
   "outputs": [],
   "source": [
    "df %>% extract(period, c(\"Quarter\",\"Year\"), \"Q(.*)_y(.*)\")"
   ]
  },
  {
   "cell_type": "markdown",
   "id": "030440f9",
   "metadata": {},
   "source": [
    "### Ejercicios Tidyverse\n",
    "1) Utiliza el dataset de `mtcars` y el paquete `tidyverse` para:\n",
    "    * Mostrar las 5 primeras filas del dataset\n",
    "    * Convertir la variables \"cyl\", \"gear\" y \"carb\" en factores y las variables \"vs\" y \"am\" en lógicas, y mostrar la estructura del dataset (usar este dataset transformado de aqui en adelante)\n",
    "    * Mostrar solo los coches con una potencia (\"hp\") mayor a 100\n",
    "    * Seleccionar solo las columnas \"mpg\", \"cyl\", \"hp\" y \"qsec\" del dataset\n",
    "    * Calcular la cantidad total de coches para cada valor único en la columna \"cyl\" (número de cilindros)\n",
    "    * Encontrar el modelo de coche con la mayor potencia (\"hp\") y mostrar su información completa\n",
    "    * Calcular el promedio de potencia de los coches con 8 cilindros\n",
    "2) Supongamos que tienes un data frame llamado `lego_sets` que contiene información sobre diferentes conjuntos de Lego, incluyendo el nombre del conjunto, el número de piezas, el tema y el año de lanzamiento:\n",
    "    * Filtra y muestra solo los conjuntos de Lego lanzados en el año 2020\n",
    "    * Encuentra y muestra el nombre y el número de piezas del conjunto de Lego más grande\n",
    "    * Calcula la cantidad total de piezas para cada tema y muestra un resumen ordenado en orden descendente\n",
    "    * Calcula cuántos conjuntos de Lego se lanzaron en cada año y muéstralo ordenado por año\n",
    "    * Encuentra los 3 temas más populares (con más conjuntos) y muestra el número de conjuntos y el número total de piezas para cada uno de ellos\n",
    "\n",
    "<pre>\n",
    "# Generar datos ficticios\n",
    "nombres <- paste(\"Conjunto\", 1:80)\n",
    "piezas <- sample(50:1000, 80, replace = TRUE)\n",
    "temas <- sample(c(\"Ciudad\", \"Espacio\", \"Arquitectura\", \"Granja\", \"Dinosaurios\", \"Aventuras\", \"Piratas\"), 80, replace = TRUE)\n",
    "años <- sample(2000:2023, 80, replace = TRUE)\n",
    "\n",
    "# Crear el data frame\n",
    "lego_sets <- data.frame(\n",
    "  Set_Name = nombres,\n",
    "  Piece_Count = piezas,\n",
    "  Theme = temas,\n",
    "  Year = años\n",
    ")\n",
    "</pre>\n",
    "3) Dado un data frame llamado `bebidas` que contiene información sobre la edad, género, tipo de bebida y cantidad de copas consumidas por un grupo de personas, filtra y muestra únicamente a las mujeres mayores de 20 años. Para este suconjunto calcula la media, el máximo, la cantidad de copas totales y la desviación estándar de la edad para cada combinación de tipo de bebida. Finalemnte, agrega una nueva columna que indique cuántas personas se encuentran en cada grupo de tipo de bebida.\n",
    "\n",
    "<pre>\n",
    "# Generar datos ficticios\n",
    "num_elementos <- 100\n",
    "edades <- sample(18:70, num_elementos, replace = TRUE)\n",
    "sexos <- sample(c(\"Hombre\", \"Mujer\"), num_elementos, replace = TRUE)\n",
    "tipos_bebida <- sample(c(\"Cerveza\", \"Vino\", \"Refresco\", \"Cóctel\", \"Agua\"), num_elementos, replace = TRUE)\n",
    "cantidad_copas <- sample(1:5, num_elementos, replace = TRUE)\n",
    "\n",
    "# Crear el data frame de bebidas\n",
    "bebidas <- data.frame(\n",
    "  Edad = edades,\n",
    "  Sexo = sexos,\n",
    "  Bebida = tipos_bebida,\n",
    "  Copas = cantidad_copas\n",
    ")\n",
    "</pre>\n",
    "4) Dado un data frame llamado `peliculas`, indique los 2 géneros con mayor puntuación media por país pero solo de peliculas para mayores de 13 o superiores, que incluya el número de películas en ese género, su beneficio medio (ganancia-presupuesto), la desviación estándar de la puntuación y la puntuación media. Ordenar los resultados por puntuación media por país de forma descendente.\n",
    "\n",
    "<pre>\n",
    "# Crear un data frame con 150 filas\n",
    "num_filas <- 150\n",
    "\n",
    "# Generar datos ficticios\n",
    "set.seed(123)  # Para reproducibilidad\n",
    "paises <- sample(c(\"EE. UU.\", \"Reino Unido\", \"Francia\", \"España\", \"Italia\"), num_filas, replace = TRUE)\n",
    "nombres <- paste(\"Película\", 1:num_filas)\n",
    "años <- sample(1980:2023, num_filas, replace = TRUE)\n",
    "puntuaciones <- round(runif(num_filas, 1, 10), 1)\n",
    "tematicas <- sample(c(\"Acción\", \"Drama\", \"Comedia\", \"Ciencia Ficción\", \"Animación\"), num_filas, replace = TRUE)\n",
    "directores <- paste(\"Director\", 1:num_filas)\n",
    "companias <- sample(c(\"Warner Bros.\", \"Universal Pictures\", \"Disney\", \"Sony Pictures\", \"Paramount Pictures\"), num_filas, replace = TRUE)\n",
    "presupuestos <- round(runif(num_filas, 1000000, 50000000), 2)\n",
    "ganancias <- round(presupuestos * runif(num_filas, 0.5, 2.5), 2)\n",
    "ratings <- sample(c(\"G\", \"PG\", \"PG-13\", \"R\", \"NC-17\"), num_filas, replace = TRUE)  # Columna de rating ficticio\n",
    "\n",
    "# Crear el data frame\n",
    "peliculas <- data.frame(\n",
    "  País = paises,\n",
    "  Nombre = nombres,\n",
    "  Año = años,\n",
    "  Puntuación = puntuaciones,\n",
    "  Temática = tematicas,\n",
    "  Director = directores,\n",
    "  Compañía = companias,\n",
    "  Presupuesto = presupuestos,\n",
    "  Ganancia = ganancias,\n",
    "  Rating = ratings\n",
    ")\n",
    "</pre>\n",
    "5) Dado un conjunto de datos llamado notas que contiene información sobre las notas de los estudiantes en varias asignaturas, agrega una columna con la nota promedio de cada estudiante. Previamente reemplaza los valores faltantes con 0 (HINT: usa replace_na).\n",
    "\n",
    "<pre>\n",
    "# Generar datos ficticios\n",
    "estudiantes <- paste(\"Estudiante\", 1:50)\n",
    "notas_matematicas <- sample(c(NA, 5, 6, 7, 8, 9, 10), 50, replace = TRUE)\n",
    "notas_historia <- sample(c(NA, 4, 5, 6, 7, 8), 50, replace = TRUE)\n",
    "notas_ciencias <- sample(c(NA, 6, 7, 8, 9, 10), 50, replace = TRUE)\n",
    "\n",
    "# Crear el data frame\n",
    "notas <- data.frame(\n",
    "  Estudiante = estudiantes,\n",
    "  Nota_Matemáticas = notas_matematicas,\n",
    "  Nota_Historia = notas_historia,\n",
    "  Nota_Ciencias = notas_ciencias\n",
    ")\n",
    "</pre>"
   ]
  }
 ],
 "metadata": {
  "kernelspec": {
   "display_name": "R",
   "language": "R",
   "name": "ir"
  },
  "language_info": {
   "codemirror_mode": "r",
   "file_extension": ".r",
   "mimetype": "text/x-r-source",
   "name": "R",
   "pygments_lexer": "r",
   "version": "4.3.1"
  }
 },
 "nbformat": 4,
 "nbformat_minor": 5
}
