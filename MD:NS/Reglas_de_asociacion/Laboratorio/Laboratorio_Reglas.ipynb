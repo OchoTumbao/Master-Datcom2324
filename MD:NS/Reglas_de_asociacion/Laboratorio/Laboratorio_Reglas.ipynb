{
 "cells": [
  {
   "cell_type": "code",
   "execution_count": 1,
   "metadata": {
    "vscode": {
     "languageId": "r"
    }
   },
   "outputs": [
    {
     "name": "stderr",
     "output_type": "stream",
     "text": [
      "Loading required package: Matrix\n",
      "\n",
      "\n",
      "Attaching package: ‘arules’\n",
      "\n",
      "\n",
      "The following objects are masked from ‘package:base’:\n",
      "\n",
      "    abbreviate, write\n",
      "\n",
      "\n"
     ]
    }
   ],
   "source": [
    "library(arules)"
   ]
  },
  {
   "cell_type": "code",
   "execution_count": 2,
   "metadata": {
    "vscode": {
     "languageId": "r"
    }
   },
   "outputs": [
    {
     "name": "stdout",
     "output_type": "stream",
     "text": [
      "Data sets in package ‘arules’:\n",
      "\n",
      "Adult                   Adult Data Set\n",
      "AdultUCI                Adult Data Set\n",
      "Epub                    The Epub Transactions Data Set\n",
      "Groceries               The Groceries Transactions Data Set\n",
      "Income                  The Income Data Set\n",
      "IncomeESL               The Income Data Set\n",
      "Mushroom                The Mushroom Data Set as Transactions\n",
      "SunBai                  The SunBai Weighted Transactions Data Set\n",
      "Data sets in package ‘datasets’:\n",
      "\n",
      "AirPassengers           Monthly Airline Passenger Numbers 1949-1960\n",
      "BJsales                 Sales Data with Leading Indicator\n",
      "BJsales.lead (BJsales)\n",
      "                        Sales Data with Leading Indicator\n",
      "BOD                     Biochemical Oxygen Demand\n",
      "CO2                     Carbon Dioxide Uptake in Grass Plants\n",
      "ChickWeight             Weight versus age of chicks on different diets\n",
      "DNase                   Elisa assay of DNase\n",
      "EuStockMarkets          Daily Closing Prices of Major European Stock\n",
      "                        Indices, 1991-1998\n",
      "Formaldehyde            Determination of Formaldehyde\n",
      "HairEyeColor            Hair and Eye Color of Statistics Students\n",
      "Harman23.cor            Harman Example 2.3\n",
      "Harman74.cor            Harman Example 7.4\n",
      "Indometh                Pharmacokinetics of Indomethacin\n",
      "InsectSprays            Effectiveness of Insect Sprays\n",
      "JohnsonJohnson          Quarterly Earnings per Johnson & Johnson Share\n",
      "LakeHuron               Level of Lake Huron 1875-1972\n",
      "LifeCycleSavings        Intercountry Life-Cycle Savings Data\n",
      "Loblolly                Growth of Loblolly pine trees\n",
      "Nile                    Flow of the River Nile\n",
      "Orange                  Growth of Orange Trees\n",
      "OrchardSprays           Potency of Orchard Sprays\n",
      "PlantGrowth             Results from an Experiment on Plant Growth\n",
      "Puromycin               Reaction Velocity of an Enzymatic Reaction\n",
      "Seatbelts               Road Casualties in Great Britain 1969-84\n",
      "Theoph                  Pharmacokinetics of Theophylline\n",
      "Titanic                 Survival of passengers on the Titanic\n",
      "ToothGrowth             The Effect of Vitamin C on Tooth Growth in\n",
      "                        Guinea Pigs\n",
      "UCBAdmissions           Student Admissions at UC Berkeley\n",
      "UKDriverDeaths          Road Casualties in Great Britain 1969-84\n",
      "UKgas                   UK Quarterly Gas Consumption\n",
      "USAccDeaths             Accidental Deaths in the US 1973-1978\n",
      "USArrests               Violent Crime Rates by US State\n",
      "USJudgeRatings          Lawyers' Ratings of State Judges in the US\n",
      "                        Superior Court\n",
      "USPersonalExpenditure   Personal Expenditure Data\n",
      "UScitiesD               Distances Between European Cities and Between\n",
      "                        US Cities\n",
      "VADeaths                Death Rates in Virginia (1940)\n",
      "WWWusage                Internet Usage per Minute\n",
      "WorldPhones             The World's Telephones\n",
      "ability.cov             Ability and Intelligence Tests\n",
      "airmiles                Passenger Miles on Commercial US Airlines,\n",
      "                        1937-1960\n",
      "airquality              New York Air Quality Measurements\n",
      "anscombe                Anscombe's Quartet of 'Identical' Simple Linear\n",
      "                        Regressions\n",
      "attenu                  The Joyner-Boore Attenuation Data\n",
      "attitude                The Chatterjee-Price Attitude Data\n",
      "austres                 Quarterly Time Series of the Number of\n",
      "                        Australian Residents\n",
      "beaver1 (beavers)       Body Temperature Series of Two Beavers\n",
      "beaver2 (beavers)       Body Temperature Series of Two Beavers\n",
      "cars                    Speed and Stopping Distances of Cars\n",
      "chickwts                Chicken Weights by Feed Type\n",
      "co2                     Mauna Loa Atmospheric CO2 Concentration\n",
      "crimtab                 Student's 3000 Criminals Data\n",
      "discoveries             Yearly Numbers of Important Discoveries\n",
      "esoph                   Smoking, Alcohol and (O)esophageal Cancer\n",
      "euro                    Conversion Rates of Euro Currencies\n",
      "euro.cross (euro)       Conversion Rates of Euro Currencies\n",
      "eurodist                Distances Between European Cities and Between\n",
      "                        US Cities\n",
      "faithful                Old Faithful Geyser Data\n",
      "fdeaths (UKLungDeaths)\n",
      "                        Monthly Deaths from Lung Diseases in the UK\n",
      "freeny                  Freeny's Revenue Data\n",
      "freeny.x (freeny)       Freeny's Revenue Data\n",
      "freeny.y (freeny)       Freeny's Revenue Data\n",
      "infert                  Infertility after Spontaneous and Induced\n",
      "                        Abortion\n",
      "iris                    Edgar Anderson's Iris Data\n",
      "iris3                   Edgar Anderson's Iris Data\n",
      "islands                 Areas of the World's Major Landmasses\n",
      "ldeaths (UKLungDeaths)\n",
      "                        Monthly Deaths from Lung Diseases in the UK\n",
      "lh                      Luteinizing Hormone in Blood Samples\n",
      "longley                 Longley's Economic Regression Data\n",
      "lynx                    Annual Canadian Lynx trappings 1821-1934\n",
      "mdeaths (UKLungDeaths)\n",
      "                        Monthly Deaths from Lung Diseases in the UK\n",
      "morley                  Michelson Speed of Light Data\n",
      "mtcars                  Motor Trend Car Road Tests\n",
      "nhtemp                  Average Yearly Temperatures in New Haven\n",
      "nottem                  Average Monthly Temperatures at Nottingham,\n",
      "                        1920-1939\n",
      "npk                     Classical N, P, K Factorial Experiment\n",
      "occupationalStatus      Occupational Status of Fathers and their Sons\n",
      "precip                  Annual Precipitation in US Cities\n",
      "presidents              Quarterly Approval Ratings of US Presidents\n",
      "pressure                Vapor Pressure of Mercury as a Function of\n",
      "                        Temperature\n",
      "quakes                  Locations of Earthquakes off Fiji\n",
      "randu                   Random Numbers from Congruential Generator\n",
      "                        RANDU\n",
      "rivers                  Lengths of Major North American Rivers\n",
      "rock                    Measurements on Petroleum Rock Samples\n",
      "sleep                   Student's Sleep Data\n",
      "stack.loss (stackloss)\n",
      "                        Brownlee's Stack Loss Plant Data\n",
      "stack.x (stackloss)     Brownlee's Stack Loss Plant Data\n",
      "stackloss               Brownlee's Stack Loss Plant Data\n",
      "state.abb (state)       US State Facts and Figures\n",
      "state.area (state)      US State Facts and Figures\n",
      "state.center (state)    US State Facts and Figures\n",
      "state.division (state)\n",
      "                        US State Facts and Figures\n",
      "state.name (state)      US State Facts and Figures\n",
      "state.region (state)    US State Facts and Figures\n",
      "state.x77 (state)       US State Facts and Figures\n",
      "sunspot.month           Monthly Sunspot Data, from 1749 to \"Present\"\n",
      "sunspot.year            Yearly Sunspot Data, 1700-1988\n",
      "sunspots                Monthly Sunspot Numbers, 1749-1983\n",
      "swiss                   Swiss Fertility and Socioeconomic Indicators\n",
      "                        (1888) Data\n",
      "treering                Yearly Treering Data, -6000-1979\n",
      "trees                   Diameter, Height and Volume for Black Cherry\n",
      "                        Trees\n",
      "uspop                   Populations Recorded by the US Census\n",
      "volcano                 Topographic Information on Auckland's Maunga\n",
      "                        Whau Volcano\n",
      "warpbreaks              The Number of Breaks in Yarn during Weaving\n",
      "women                   Average Heights and Weights for American Women\n",
      "Data sets in package ‘Matrix’:\n",
      "\n",
      "CAex                    Albers' example Matrix with \"Difficult\" Eigen\n",
      "                        Factorization\n",
      "KNex                    Koenker-Ng Example Sparse Model Matrix and\n",
      "                        Response Vector\n",
      "USCounties              Contiguity Matrix of U.S. Counties\n",
      "wrld_1deg               Contiguity Matrix of World One-Degree Grid\n",
      "                        Cells\n",
      "\n",
      "Use ‘data(package = .packages(all.available = TRUE))’\n",
      "to list the data sets in all *available* packages."
     ]
    }
   ],
   "source": [
    "data()"
   ]
  },
  {
   "cell_type": "code",
   "execution_count": 7,
   "metadata": {
    "vscode": {
     "languageId": "r"
    }
   },
   "outputs": [],
   "source": [
    "data <- AdultUCI"
   ]
  },
  {
   "cell_type": "code",
   "execution_count": 13,
   "metadata": {
    "vscode": {
     "languageId": "r"
    }
   },
   "outputs": [
    {
     "data": {
      "text/html": [
       "<style>\n",
       ".list-inline {list-style: none; margin:0; padding: 0}\n",
       ".list-inline>li {display: inline-block}\n",
       ".list-inline>li:not(:last-child)::after {content: \"\\00b7\"; padding: 0 .5ex}\n",
       "</style>\n",
       "<ol class=list-inline><li>48842</li><li>15</li></ol>\n"
      ],
      "text/latex": [
       "\\begin{enumerate*}\n",
       "\\item 48842\n",
       "\\item 15\n",
       "\\end{enumerate*}\n"
      ],
      "text/markdown": [
       "1. 48842\n",
       "2. 15\n",
       "\n",
       "\n"
      ],
      "text/plain": [
       "[1] 48842    15"
      ]
     },
     "metadata": {},
     "output_type": "display_data"
    }
   ],
   "source": [
    "dim(data)"
   ]
  },
  {
   "cell_type": "markdown",
   "metadata": {},
   "source": [
    "Procesamos los datos para que tenga sentido aplicar extracción de reglas"
   ]
  },
  {
   "cell_type": "code",
   "execution_count": 21,
   "metadata": {
    "vscode": {
     "languageId": "r"
    }
   },
   "outputs": [],
   "source": [
    "AdultUCI[[\"fnlwgt\"]] = NULL\n",
    "AdultUCI[[\"education-num\"]] = NULL"
   ]
  },
  {
   "cell_type": "code",
   "execution_count": 22,
   "metadata": {
    "vscode": {
     "languageId": "r"
    }
   },
   "outputs": [
    {
     "ename": "ERROR",
     "evalue": "Error in cut.default(AdultUCI[[\"age\"]], c(15, 25, 45, 65, 100)): 'x' must be numeric\n",
     "output_type": "error",
     "traceback": [
      "Error in cut.default(AdultUCI[[\"age\"]], c(15, 25, 45, 65, 100)): 'x' must be numeric\nTraceback:\n",
      "1. ordered(cut(AdultUCI[[\"age\"]], c(15, 25, 45, 65, 100)), labels = c(\"Young\", \n .     \"Middle-aged\", \"Senior\", \"Old\"))",
      "2. factor(x, ..., ordered = TRUE)",
      "3. cut(AdultUCI[[\"age\"]], c(15, 25, 45, 65, 100))",
      "4. cut.default(AdultUCI[[\"age\"]], c(15, 25, 45, 65, 100))",
      "5. stop(\"'x' must be numeric\")"
     ]
    }
   ],
   "source": [
    " AdultUCI[[ \"age\"]] = ordered( cut ( AdultUCI[[ \"age\"]], c(15,25,45,65,100) ) ,\n",
    "labels = c (\"Young\", \"Middle-aged\", \"Senior\", \"Old\"))\n",
    " AdultUCI[[ \"hours-per-week\"]] = ordered( cut ( AdultUCI[[ \"hours-per-week\"]], c(0,25,40,60,168) ) ,\n",
    "labels = c(\"Part-time\", \"Full-time\", \"Over-time\", \"Workaholic\"))\n",
    " AdultUCI[[ \"capital-gain\"]] = ordered( cut ( AdultUCI[[ \"capital-gain\"]], c(-Inf,0,median(AdultUCI[[\n",
    "\"capital-gain\"]][AdultUCI[[ \"capital-gain\"]]>0]), Inf) ) , labels = c(\"None\", \"Low\", \"High\"))\n",
    " AdultUCI[[ \"capital-loss\"]] = ordered( cut ( AdultUCI[[ \"capital-loss\"]], c(-Inf,0, median(AdultUCI[[\n",
    "\"capital-loss\"]][AdultUCI[[ \"capital-loss\"]]>0]), Inf) ) , labels = c(\"None\", \"Low\", \"High\"))"
   ]
  },
  {
   "cell_type": "code",
   "execution_count": 23,
   "metadata": {
    "vscode": {
     "languageId": "r"
    }
   },
   "outputs": [
    {
     "data": {
      "text/html": [
       "<style>\n",
       ".list-inline {list-style: none; margin:0; padding: 0}\n",
       ".list-inline>li {display: inline-block}\n",
       ".list-inline>li:not(:last-child)::after {content: \"\\00b7\"; padding: 0 .5ex}\n",
       "</style>\n",
       "<ol class=list-inline><li>48842</li><li>13</li></ol>\n"
      ],
      "text/latex": [
       "\\begin{enumerate*}\n",
       "\\item 48842\n",
       "\\item 13\n",
       "\\end{enumerate*}\n"
      ],
      "text/markdown": [
       "1. 48842\n",
       "2. 13\n",
       "\n",
       "\n"
      ],
      "text/plain": [
       "[1] 48842    13"
      ]
     },
     "metadata": {},
     "output_type": "display_data"
    }
   ],
   "source": [
    "dim(AdultUCI)"
   ]
  },
  {
   "cell_type": "code",
   "execution_count": 24,
   "metadata": {
    "vscode": {
     "languageId": "r"
    }
   },
   "outputs": [
    {
     "data": {
      "text/plain": [
       "transactions in sparse format with\n",
       " 48842 transactions (rows) and\n",
       " 115 items (columns)"
      ]
     },
     "metadata": {},
     "output_type": "display_data"
    }
   ],
   "source": [
    "Adult <- as(AdultUCI,\"transactions\")\n",
    "Adult"
   ]
  },
  {
   "cell_type": "code",
   "execution_count": 25,
   "metadata": {
    "vscode": {
     "languageId": "r"
    }
   },
   "outputs": [
    {
     "data": {
      "text/plain": [
       "transactions as itemMatrix in sparse format with\n",
       " 48842 rows (elements/itemsets/transactions) and\n",
       " 115 columns (items) and a density of 0.1089939 \n",
       "\n",
       "most frequent items:\n",
       "           capital-loss=None            capital-gain=None \n",
       "                       46560                        44807 \n",
       "native-country=United-States                   race=White \n",
       "                       43832                        41762 \n",
       "           workclass=Private                      (Other) \n",
       "                       33906                       401333 \n",
       "\n",
       "element (itemset/transaction) length distribution:\n",
       "sizes\n",
       "    9    10    11    12    13 \n",
       "   19   971  2067 15623 30162 \n",
       "\n",
       "   Min. 1st Qu.  Median    Mean 3rd Qu.    Max. \n",
       "   9.00   12.00   13.00   12.53   13.00   13.00 \n",
       "\n",
       "includes extended item information - examples:\n",
       "           labels variables      levels\n",
       "1       age=Young       age       Young\n",
       "2 age=Middle-aged       age Middle-aged\n",
       "3      age=Senior       age      Senior\n",
       "\n",
       "includes extended transaction information - examples:\n",
       "  transactionID\n",
       "1             1\n",
       "2             2\n",
       "3             3"
      ]
     },
     "metadata": {},
     "output_type": "display_data"
    }
   ],
   "source": [
    "summary(Adult)"
   ]
  },
  {
   "cell_type": "code",
   "execution_count": 26,
   "metadata": {
    "vscode": {
     "languageId": "r"
    }
   },
   "outputs": [
    {
     "data": {
      "image/png": "[encoded data removed]",
      "text/plain": [
       "plot without title"
      ]
     },
     "metadata": {
      "image/png": {
       "height": 420,
       "width": 420
      }
     },
     "output_type": "display_data"
    }
   ],
   "source": [
    "itemFrequencyPlot(Adult,support=0.1,cex.names=0.8)"
   ]
  },
  {
   "cell_type": "code",
   "execution_count": 30,
   "metadata": {
    "vscode": {
     "languageId": "r"
    }
   },
   "outputs": [
    {
     "name": "stdout",
     "output_type": "stream",
     "text": [
      "Apriori\n",
      "\n",
      "Parameter specification:\n",
      " confidence minval smax arem  aval originalSupport maxtime support minlen\n",
      "         NA    0.1    1 none FALSE            TRUE       5     0.1      1\n",
      " maxlen            target  ext\n",
      "     10 frequent itemsets TRUE\n",
      "\n",
      "Algorithmic control:\n",
      " filter tree heap memopt load sort verbose\n",
      "    0.1 TRUE TRUE  FALSE TRUE    2    TRUE\n",
      "\n",
      "Absolute minimum support count: 4884 \n",
      "\n",
      "set item appearances ...[0 item(s)] done [0.00s].\n",
      "set transactions ...[115 item(s), 48842 transaction(s)] done [0.04s].\n",
      "sorting and recoding items ... [31 item(s)] done [0.01s].\n",
      "creating transaction tree ... done [0.02s].\n",
      "checking subsets of size 1 2 3 4 5 6 7 8 9 done [0.09s].\n",
      "sorting transactions ... done [0.01s].\n",
      "writing ... [2616 set(s)] done [0.00s].\n",
      "creating S4 object  ... done [0.01s].\n",
      "     items                                             support   count\n",
      "[1]  {capital-loss=None}                               0.9532779 46560\n",
      "[2]  {capital-gain=None}                               0.9173867 44807\n",
      "[3]  {native-country=United-States}                    0.8974243 43832\n",
      "[4]  {capital-gain=None, capital-loss=None}            0.8706646 42525\n",
      "[5]  {race=White}                                      0.8550428 41762\n",
      "[6]  {capital-loss=None, native-country=United-States} 0.8548380 41752\n",
      "[7]  {capital-gain=None, native-country=United-States} 0.8219565 40146\n",
      "[8]  {race=White, capital-loss=None}                   0.8136849 39742\n",
      "[9]  {race=White, native-country=United-States}        0.7881127 38493\n",
      "[10] {race=White, capital-gain=None}                   0.7817862 38184\n"
     ]
    }
   ],
   "source": [
    " iAdult <- apriori(Adult, parameter = list(support = 0.1, target=\"frequent\"))\n",
    "  iAdult <- sort(iAdult, by=\"support\") # Los ordenamos por el valor del soporte\n",
    "  inspect(head(iAdult, n=10)) # Inspeccionamos los 10 primeros"
   ]
  },
  {
   "cell_type": "code",
   "execution_count": 28,
   "metadata": {
    "vscode": {
     "languageId": "r"
    }
   },
   "outputs": [
    {
     "data": {
      "image/png": "[encoded data removed]",
      "text/plain": [
       "plot without title"
      ]
     },
     "metadata": {
      "image/png": {
       "height": 420,
       "width": 420
      }
     },
     "output_type": "display_data"
    }
   ],
   "source": [
    "barplot(table(size(iAdult)), xlab=\"itemset size\", ylab=\"count\")"
   ]
  },
  {
   "cell_type": "code",
   "execution_count": 33,
   "metadata": {
    "vscode": {
     "languageId": "r"
    }
   },
   "outputs": [
    {
     "name": "stdout",
     "output_type": "stream",
     "text": [
      "    items                                  support count\n",
      "[1] {workclass=Private,                                 \n",
      "     race=White,                                        \n",
      "     sex=Male,                                          \n",
      "     capital-gain=None,                                 \n",
      "     capital-loss=None,                                 \n",
      "     hours-per-week=Full-time,                          \n",
      "     native-country=United-States}       0.1774293  8666\n",
      "[2] {workclass=Private,                                 \n",
      "     race=White,                                        \n",
      "     capital-gain=None,                                 \n",
      "     capital-loss=None,                                 \n",
      "     hours-per-week=Full-time,                          \n",
      "     native-country=United-States,                      \n",
      "     income=small}                       0.1578150  7708\n",
      "[3] {workclass=Private,                                 \n",
      "     race=White,                                        \n",
      "     sex=Male,                                          \n",
      "     capital-gain=None,                                 \n",
      "     capital-loss=None,                                 \n",
      "     native-country=United-States,                      \n",
      "     income=small}                       0.1560952  7624\n",
      "[4] {age=Middle-aged,                                   \n",
      "     workclass=Private,                                 \n",
      "     race=White,                                        \n",
      "     capital-gain=None,                                 \n",
      "     capital-loss=None,                                 \n",
      "     hours-per-week=Full-time,                          \n",
      "     native-country=United-States}       0.1456124  7112\n",
      "[5] {marital-status=Married-civ-spouse,                 \n",
      "     relationship=Husband,                              \n",
      "     race=White,                                        \n",
      "     sex=Male,                                          \n",
      "     capital-gain=None,                                 \n",
      "     capital-loss=None,                                 \n",
      "     hours-per-week=Full-time,                          \n",
      "     native-country=United-States}       0.1429712  6983\n",
      "[6] {race=White,                                        \n",
      "     sex=Female,                                        \n",
      "     capital-gain=None,                                 \n",
      "     capital-loss=None,                                 \n",
      "     native-country=United-States,                      \n",
      "     income=small}                       0.1339216  6541\n"
     ]
    }
   ],
   "source": [
    "imaxAdult <- iAdult[is.maximal(iAdult)]\n",
    "inspect(head(sort(imaxAdult, by=\"support\")))"
   ]
  },
  {
   "cell_type": "code",
   "execution_count": 34,
   "metadata": {
    "vscode": {
     "languageId": "r"
    }
   },
   "outputs": [
    {
     "name": "stdout",
     "output_type": "stream",
     "text": [
      "    items                                             support   count\n",
      "[1] {capital-loss=None}                               0.9532779 46560\n",
      "[2] {capital-gain=None}                               0.9173867 44807\n",
      "[3] {native-country=United-States}                    0.8974243 43832\n",
      "[4] {capital-gain=None, capital-loss=None}            0.8706646 42525\n",
      "[5] {race=White}                                      0.8550428 41762\n",
      "[6] {capital-loss=None, native-country=United-States} 0.8548380 41752\n"
     ]
    }
   ],
   "source": [
    "icloAdult <- iAdult[is.closed(iAdult)]\n",
    "inspect(head(sort(icloAdult, by=\"support\")))"
   ]
  },
  {
   "cell_type": "code",
   "execution_count": 35,
   "metadata": {
    "vscode": {
     "languageId": "r"
    }
   },
   "outputs": [
    {
     "name": "stdout",
     "output_type": "stream",
     "text": [
      "Apriori\n",
      "\n",
      "Parameter specification:\n",
      " confidence minval smax arem  aval originalSupport maxtime support minlen\n",
      "        0.8    0.1    1 none FALSE            TRUE       5     0.1      2\n",
      " maxlen target  ext\n",
      "     10  rules TRUE\n",
      "\n",
      "Algorithmic control:\n",
      " filter tree heap memopt load sort verbose\n",
      "    0.1 TRUE TRUE  FALSE TRUE    2    TRUE\n",
      "\n",
      "Absolute minimum support count: 4884 \n",
      "\n",
      "set item appearances ...[0 item(s)] done [0.00s].\n",
      "set transactions ...[115 item(s), 48842 transaction(s)] done [0.03s].\n",
      "sorting and recoding items ... [31 item(s)] done [0.01s].\n",
      "creating transaction tree ... done [0.03s].\n",
      "checking subsets of size 1 2 3 4 5 6 7 8 9 done [0.09s].\n",
      "writing ... [6133 rule(s)] done [0.00s].\n",
      "creating S4 object  ... done [0.01s].\n"
     ]
    }
   ],
   "source": [
    "rules <- apriori(Adult, parameter = list(support = 0.1, confidence = 0.8, minlen = 2))"
   ]
  },
  {
   "cell_type": "code",
   "execution_count": 37,
   "metadata": {
    "vscode": {
     "languageId": "r"
    }
   },
   "outputs": [
    {
     "data": {
      "text/plain": [
       "set of 6133 rules\n",
       "\n",
       "rule length distribution (lhs + rhs):sizes\n",
       "   2    3    4    5    6    7    8    9 \n",
       " 121  637 1510 1903 1345  511   99    7 \n",
       "\n",
       "   Min. 1st Qu.  Median    Mean 3rd Qu.    Max. \n",
       "  2.000   4.000   5.000   4.926   6.000   9.000 \n",
       "\n",
       "summary of quality measures:\n",
       "    support         confidence        coverage           lift       \n",
       " Min.   :0.1000   Min.   :0.8004   Min.   :0.1004   Min.   :0.9169  \n",
       " 1st Qu.:0.1158   1st Qu.:0.8895   1st Qu.:0.1255   1st Qu.:0.9911  \n",
       " Median :0.1353   Median :0.9241   Median :0.1472   Median :1.0197  \n",
       " Mean   :0.1700   Mean   :0.9236   Mean   :0.1847   Mean   :1.2044  \n",
       " 3rd Qu.:0.1890   3rd Qu.:0.9587   3rd Qu.:0.2074   3rd Qu.:1.0783  \n",
       " Max.   :0.8707   Max.   :1.0000   Max.   :0.9533   Max.   :2.9421  \n",
       "     count      \n",
       " Min.   : 4885  \n",
       " 1st Qu.: 5657  \n",
       " Median : 6606  \n",
       " Mean   : 8302  \n",
       " 3rd Qu.: 9230  \n",
       " Max.   :42525  \n",
       "\n",
       "mining info:\n",
       "  data ntransactions support confidence\n",
       " Adult         48842     0.1        0.8\n",
       "                                                                                 call\n",
       " apriori(data = Adult, parameter = list(support = 0.1, confidence = 0.8, minlen = 2))"
      ]
     },
     "metadata": {},
     "output_type": "display_data"
    }
   ],
   "source": [
    "summary(rules)"
   ]
  },
  {
   "cell_type": "code",
   "execution_count": 42,
   "metadata": {
    "vscode": {
     "languageId": "r"
    }
   },
   "outputs": [
    {
     "name": "stdout",
     "output_type": "stream",
     "text": [
      "    lhs                           rhs                                   support confidence  coverage     lift count\n",
      "[1] {occupation=Craft-repair,                                                                                      \n",
      "     race=White}               => {sex=Male}                          0.1076532  0.9553052 0.1126899 1.429066  5258\n",
      "[2] {relationship=Own-child,                                                                                       \n",
      "     race=White}               => {marital-status=Never-married}      0.1168257  0.8959020 0.1304001 2.714999  5706\n",
      "[3] {race=White,                                                                                                   \n",
      "     income=large}             => {marital-status=Married-civ-spouse} 0.1249949  0.8578053 0.1457148 1.872154  6105\n",
      "[4] {race=White,                                                                                                   \n",
      "     income=large}             => {sex=Male}                          0.1246673  0.8555571 0.1457148 1.279851  6089\n",
      "[5] {age=Young,                                                                                                    \n",
      "     race=White}               => {marital-status=Never-married}      0.1440154  0.8512647 0.1691782 2.579728  7034\n",
      "[6] {race=White,                                                                                                   \n",
      "     hours-per-week=Over-time} => {sex=Male}                          0.1956103  0.8239759 0.2373981 1.232607  9554\n"
     ]
    }
   ],
   "source": [
    "rulesRaceWhite <- subset(rules, subset = lhs %in% \"race=White\" & lift > 1.2)\n",
    "inspect(head(rulesRaceWhite))"
   ]
  },
  {
   "cell_type": "code",
   "execution_count": 36,
   "metadata": {
    "vscode": {
     "languageId": "r"
    }
   },
   "outputs": [
    {
     "name": "stdout",
     "output_type": "stream",
     "text": [
      "    lhs                                     rhs          support confidence  coverage     lift count\n",
      "[1] {relationship=Husband,                                                                          \n",
      "     income=large}                       => {sex=Male} 0.1211662          1 0.1211662 1.495926  5918\n",
      "[2] {relationship=Husband,                                                                          \n",
      "     hours-per-week=Over-time}           => {sex=Male} 0.1472298          1 0.1472298 1.495926  7191\n",
      "[3] {age=Senior,                                                                                    \n",
      "     relationship=Husband}               => {sex=Male} 0.1479874          1 0.1479874 1.495926  7228\n",
      "[4] {marital-status=Married-civ-spouse,                                                             \n",
      "     relationship=Husband,                                                                          \n",
      "     income=large}                       => {sex=Male} 0.1210843          1 0.1210843 1.495926  5914\n",
      "[5] {relationship=Husband,                                                                          \n",
      "     race=White,                                                                                    \n",
      "     income=large}                       => {sex=Male} 0.1111339          1 0.1111339 1.495926  5428\n",
      "[6] {relationship=Husband,                                                                          \n",
      "     native-country=United-States,                                                                  \n",
      "     income=large}                       => {sex=Male} 0.1110724          1 0.1110724 1.495926  5425\n"
     ]
    }
   ],
   "source": [
    "rulesSorted = sort(rules, by = \"confidence\")\n",
    "inspect(head(rulesSorted))"
   ]
  },
  {
   "cell_type": "code",
   "execution_count": 38,
   "metadata": {
    "vscode": {
     "languageId": "r"
    }
   },
   "outputs": [
    {
     "name": "stdout",
     "output_type": "stream",
     "text": [
      "    lhs                          rhs                              support confidence  coverage      lift count\n",
      "[1] {relationship=Unmarried}  => {capital-loss=None}            0.1019819  0.9719024 0.1049302 1.0195373  4981\n",
      "[2] {occupation=Sales}        => {race=White}                   0.1005282  0.8920785 0.1126899 1.0433144  4910\n",
      "[3] {occupation=Sales}        => {native-country=United-States} 0.1039679  0.9226017 0.1126899 1.0280552  5078\n",
      "[4] {occupation=Sales}        => {capital-gain=None}            0.1030670  0.9146076 0.1126899 0.9969706  5034\n",
      "[5] {occupation=Sales}        => {capital-loss=None}            0.1068343  0.9480378 0.1126899 0.9945030  5218\n",
      "[6] {occupation=Adm-clerical} => {native-country=United-States} 0.1052373  0.9160577 0.1148806 1.0207632  5140\n"
     ]
    }
   ],
   "source": [
    "inspect(head(rules))"
   ]
  },
  {
   "cell_type": "code",
   "execution_count": 39,
   "metadata": {
    "vscode": {
     "languageId": "r"
    }
   },
   "outputs": [],
   "source": [
    " rulesSorted = sort(rules, by = \"confidence\")"
   ]
  }
 ],
 "metadata": {
  "kernelspec": {
   "display_name": "R",
   "language": "R",
   "name": "ir"
  },
  "language_info": {
   "codemirror_mode": "r",
   "file_extension": ".r",
   "mimetype": "text/x-r-source",
   "name": "R",
   "pygments_lexer": "r",
   "version": "4.3.1"
  },
  "orig_nbformat": 4,
  "vscode": {
   "interpreter": {
    "hash": "916dbcbb3f70747c44a77c7bcd40155683ae19c65e1c03b4aa3499c5328201f1"
   }
  }
 },
 "nbformat": 4,
 "nbformat_minor": 2
}
