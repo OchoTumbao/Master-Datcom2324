{
 "cells": [
  {
   "cell_type": "code",
   "execution_count": 18,
   "metadata": {},
   "outputs": [],
   "source": [
    "from matplotlib.colors import ListedColormap\n",
    "import matplotlib.pyplot as plt\n",
    "\n",
    "def mostrar(X, c=None, centroids=None,i=0,j=0):\n",
    "\n",
    "    # Creamos los mapas de colores a utilizar\n",
    "    cmap_bold = ListedColormap(['#FF0000', '#00FF00', '#FFFF00', '#0000FF'])\n",
    "\n",
    "    # Creamos la figura\n",
    "    plt.figure(figsize=(10,8))\n",
    "\n",
    "    # Pintamos los puntos\n",
    "    plt.scatter(X.iloc[:, i], X.iloc[:, j], c=c, cmap=cmap_bold, s=60)\n",
    "\n",
    "    # Pintamos los centroides si los hay\n",
    "    if centroids is not None:\n",
    "        plt.scatter(centroids.iloc[:,i], centroids.iloc[:,j], marker='*', c=range(centroids.shape[0]), s=500)\n",
    "\n",
    "    # Mostramos la figura\n",
    "    plt.show()"
   ]
  },
  {
   "cell_type": "code",
   "execution_count": 3,
   "metadata": {},
   "outputs": [],
   "source": [
    "import pandas as pd\n",
    "import numpy as np"
   ]
  },
  {
   "cell_type": "code",
   "execution_count": 4,
   "metadata": {},
   "outputs": [
    {
     "name": "stdout",
     "output_type": "stream",
     "text": [
      "<class 'pandas.core.frame.DataFrame'>\n",
      "RangeIndex: 150 entries, 0 to 149\n",
      "Data columns (total 5 columns):\n",
      " #   Column        Non-Null Count  Dtype  \n",
      "---  ------        --------------  -----  \n",
      " 0   sepal_length  150 non-null    float64\n",
      " 1   sepal_width   150 non-null    float64\n",
      " 2   petal_length  150 non-null    float64\n",
      " 3   petal_width   150 non-null    float64\n",
      " 4   class         150 non-null    object \n",
      "dtypes: float64(4), object(1)\n",
      "memory usage: 6.0+ KB\n"
     ]
    }
   ],
   "source": [
    "X = pd.read_csv('iris.csv')\n",
    "X.info()"
   ]
  },
  {
   "cell_type": "code",
   "execution_count": 8,
   "metadata": {},
   "outputs": [],
   "source": [
    "X=X.drop(columns=['class'])"
   ]
  },
  {
   "cell_type": "code",
   "execution_count": 11,
   "metadata": {},
   "outputs": [],
   "source": [
    "m = X.shape[0]\n",
    "n = X.shape[1]"
   ]
  },
  {
   "cell_type": "code",
   "execution_count": 12,
   "metadata": {},
   "outputs": [
    {
     "data": {
      "text/html": [
       "<div>\n",
       "<style scoped>\n",
       "    .dataframe tbody tr th:only-of-type {\n",
       "        vertical-align: middle;\n",
       "    }\n",
       "\n",
       "    .dataframe tbody tr th {\n",
       "        vertical-align: top;\n",
       "    }\n",
       "\n",
       "    .dataframe thead th {\n",
       "        text-align: right;\n",
       "    }\n",
       "</style>\n",
       "<table border=\"1\" class=\"dataframe\">\n",
       "  <thead>\n",
       "    <tr style=\"text-align: right;\">\n",
       "      <th></th>\n",
       "      <th>sepal_length</th>\n",
       "      <th>sepal_width</th>\n",
       "      <th>petal_length</th>\n",
       "      <th>petal_width</th>\n",
       "    </tr>\n",
       "  </thead>\n",
       "  <tbody>\n",
       "    <tr>\n",
       "      <th>count</th>\n",
       "      <td>150.000000</td>\n",
       "      <td>150.000000</td>\n",
       "      <td>150.000000</td>\n",
       "      <td>150.000000</td>\n",
       "    </tr>\n",
       "    <tr>\n",
       "      <th>mean</th>\n",
       "      <td>5.843333</td>\n",
       "      <td>3.057333</td>\n",
       "      <td>3.758000</td>\n",
       "      <td>1.199333</td>\n",
       "    </tr>\n",
       "    <tr>\n",
       "      <th>std</th>\n",
       "      <td>0.828066</td>\n",
       "      <td>0.435866</td>\n",
       "      <td>1.765298</td>\n",
       "      <td>0.762238</td>\n",
       "    </tr>\n",
       "    <tr>\n",
       "      <th>min</th>\n",
       "      <td>4.300000</td>\n",
       "      <td>2.000000</td>\n",
       "      <td>1.000000</td>\n",
       "      <td>0.100000</td>\n",
       "    </tr>\n",
       "    <tr>\n",
       "      <th>25%</th>\n",
       "      <td>5.100000</td>\n",
       "      <td>2.800000</td>\n",
       "      <td>1.600000</td>\n",
       "      <td>0.300000</td>\n",
       "    </tr>\n",
       "    <tr>\n",
       "      <th>50%</th>\n",
       "      <td>5.800000</td>\n",
       "      <td>3.000000</td>\n",
       "      <td>4.350000</td>\n",
       "      <td>1.300000</td>\n",
       "    </tr>\n",
       "    <tr>\n",
       "      <th>75%</th>\n",
       "      <td>6.400000</td>\n",
       "      <td>3.300000</td>\n",
       "      <td>5.100000</td>\n",
       "      <td>1.800000</td>\n",
       "    </tr>\n",
       "    <tr>\n",
       "      <th>max</th>\n",
       "      <td>7.900000</td>\n",
       "      <td>4.400000</td>\n",
       "      <td>6.900000</td>\n",
       "      <td>2.500000</td>\n",
       "    </tr>\n",
       "  </tbody>\n",
       "</table>\n",
       "</div>"
      ],
      "text/plain": [
       "       sepal_length  sepal_width  petal_length  petal_width\n",
       "count    150.000000   150.000000    150.000000   150.000000\n",
       "mean       5.843333     3.057333      3.758000     1.199333\n",
       "std        0.828066     0.435866      1.765298     0.762238\n",
       "min        4.300000     2.000000      1.000000     0.100000\n",
       "25%        5.100000     2.800000      1.600000     0.300000\n",
       "50%        5.800000     3.000000      4.350000     1.300000\n",
       "75%        6.400000     3.300000      5.100000     1.800000\n",
       "max        7.900000     4.400000      6.900000     2.500000"
      ]
     },
     "execution_count": 12,
     "metadata": {},
     "output_type": "execute_result"
    }
   ],
   "source": [
    "X.describe()"
   ]
  },
  {
   "cell_type": "code",
   "execution_count": 15,
   "metadata": {},
   "outputs": [],
   "source": [
    "X_norm = (X-X.min())/(X.max()-X.min())"
   ]
  },
  {
   "cell_type": "code",
   "execution_count": 16,
   "metadata": {},
   "outputs": [
    {
     "data": {
      "text/html": [
       "<div>\n",
       "<style scoped>\n",
       "    .dataframe tbody tr th:only-of-type {\n",
       "        vertical-align: middle;\n",
       "    }\n",
       "\n",
       "    .dataframe tbody tr th {\n",
       "        vertical-align: top;\n",
       "    }\n",
       "\n",
       "    .dataframe thead th {\n",
       "        text-align: right;\n",
       "    }\n",
       "</style>\n",
       "<table border=\"1\" class=\"dataframe\">\n",
       "  <thead>\n",
       "    <tr style=\"text-align: right;\">\n",
       "      <th></th>\n",
       "      <th>sepal_length</th>\n",
       "      <th>sepal_width</th>\n",
       "      <th>petal_length</th>\n",
       "      <th>petal_width</th>\n",
       "    </tr>\n",
       "  </thead>\n",
       "  <tbody>\n",
       "    <tr>\n",
       "      <th>count</th>\n",
       "      <td>150.000000</td>\n",
       "      <td>150.000000</td>\n",
       "      <td>150.000000</td>\n",
       "      <td>150.000000</td>\n",
       "    </tr>\n",
       "    <tr>\n",
       "      <th>mean</th>\n",
       "      <td>0.428704</td>\n",
       "      <td>0.440556</td>\n",
       "      <td>0.467458</td>\n",
       "      <td>0.458056</td>\n",
       "    </tr>\n",
       "    <tr>\n",
       "      <th>std</th>\n",
       "      <td>0.230018</td>\n",
       "      <td>0.181611</td>\n",
       "      <td>0.299203</td>\n",
       "      <td>0.317599</td>\n",
       "    </tr>\n",
       "    <tr>\n",
       "      <th>min</th>\n",
       "      <td>0.000000</td>\n",
       "      <td>0.000000</td>\n",
       "      <td>0.000000</td>\n",
       "      <td>0.000000</td>\n",
       "    </tr>\n",
       "    <tr>\n",
       "      <th>25%</th>\n",
       "      <td>0.222222</td>\n",
       "      <td>0.333333</td>\n",
       "      <td>0.101695</td>\n",
       "      <td>0.083333</td>\n",
       "    </tr>\n",
       "    <tr>\n",
       "      <th>50%</th>\n",
       "      <td>0.416667</td>\n",
       "      <td>0.416667</td>\n",
       "      <td>0.567797</td>\n",
       "      <td>0.500000</td>\n",
       "    </tr>\n",
       "    <tr>\n",
       "      <th>75%</th>\n",
       "      <td>0.583333</td>\n",
       "      <td>0.541667</td>\n",
       "      <td>0.694915</td>\n",
       "      <td>0.708333</td>\n",
       "    </tr>\n",
       "    <tr>\n",
       "      <th>max</th>\n",
       "      <td>1.000000</td>\n",
       "      <td>1.000000</td>\n",
       "      <td>1.000000</td>\n",
       "      <td>1.000000</td>\n",
       "    </tr>\n",
       "  </tbody>\n",
       "</table>\n",
       "</div>"
      ],
      "text/plain": [
       "       sepal_length  sepal_width  petal_length  petal_width\n",
       "count    150.000000   150.000000    150.000000   150.000000\n",
       "mean       0.428704     0.440556      0.467458     0.458056\n",
       "std        0.230018     0.181611      0.299203     0.317599\n",
       "min        0.000000     0.000000      0.000000     0.000000\n",
       "25%        0.222222     0.333333      0.101695     0.083333\n",
       "50%        0.416667     0.416667      0.567797     0.500000\n",
       "75%        0.583333     0.541667      0.694915     0.708333\n",
       "max        1.000000     1.000000      1.000000     1.000000"
      ]
     },
     "execution_count": 16,
     "metadata": {},
     "output_type": "execute_result"
    }
   ],
   "source": [
    "X_norm.describe()"
   ]
  },
  {
   "cell_type": "code",
   "execution_count": 19,
   "metadata": {},
   "outputs": [
    {
     "data": {
      "image/png": "[encoded data removed]",
      "text/plain": [
       "<Figure size 720x576 with 1 Axes>"
      ]
     },
     "metadata": {
      "needs_background": "light"
     },
     "output_type": "display_data"
    }
   ],
   "source": [
    "mostrar(X_norm,i=0,j=3)"
   ]
  },
  {
   "cell_type": "markdown",
   "metadata": {},
   "source": [
    "# K means"
   ]
  },
  {
   "cell_type": "code",
   "execution_count": 20,
   "metadata": {},
   "outputs": [],
   "source": [
    "K = 3"
   ]
  },
  {
   "cell_type": "code",
   "execution_count": 21,
   "metadata": {},
   "outputs": [],
   "source": [
    "np.random.seed(123456789)"
   ]
  },
  {
   "cell_type": "code",
   "execution_count": 22,
   "metadata": {},
   "outputs": [],
   "source": [
    "indices = np.random.permutation(m)[:K]"
   ]
  },
  {
   "cell_type": "code",
   "execution_count": 23,
   "metadata": {},
   "outputs": [],
   "source": [
    "centros = X_norm.iloc[indices,:]"
   ]
  },
  {
   "cell_type": "code",
   "execution_count": 24,
   "metadata": {},
   "outputs": [
    {
     "data": {
      "text/html": [
       "<div>\n",
       "<style scoped>\n",
       "    .dataframe tbody tr th:only-of-type {\n",
       "        vertical-align: middle;\n",
       "    }\n",
       "\n",
       "    .dataframe tbody tr th {\n",
       "        vertical-align: top;\n",
       "    }\n",
       "\n",
       "    .dataframe thead th {\n",
       "        text-align: right;\n",
       "    }\n",
       "</style>\n",
       "<table border=\"1\" class=\"dataframe\">\n",
       "  <thead>\n",
       "    <tr style=\"text-align: right;\">\n",
       "      <th></th>\n",
       "      <th>sepal_length</th>\n",
       "      <th>sepal_width</th>\n",
       "      <th>petal_length</th>\n",
       "      <th>petal_width</th>\n",
       "    </tr>\n",
       "  </thead>\n",
       "  <tbody>\n",
       "    <tr>\n",
       "      <th>81</th>\n",
       "      <td>0.333333</td>\n",
       "      <td>0.166667</td>\n",
       "      <td>0.457627</td>\n",
       "      <td>0.375000</td>\n",
       "    </tr>\n",
       "    <tr>\n",
       "      <th>51</th>\n",
       "      <td>0.583333</td>\n",
       "      <td>0.500000</td>\n",
       "      <td>0.593220</td>\n",
       "      <td>0.583333</td>\n",
       "    </tr>\n",
       "    <tr>\n",
       "      <th>100</th>\n",
       "      <td>0.555556</td>\n",
       "      <td>0.541667</td>\n",
       "      <td>0.847458</td>\n",
       "      <td>1.000000</td>\n",
       "    </tr>\n",
       "  </tbody>\n",
       "</table>\n",
       "</div>"
      ],
      "text/plain": [
       "     sepal_length  sepal_width  petal_length  petal_width\n",
       "81       0.333333     0.166667      0.457627     0.375000\n",
       "51       0.583333     0.500000      0.593220     0.583333\n",
       "100      0.555556     0.541667      0.847458     1.000000"
      ]
     },
     "execution_count": 24,
     "metadata": {},
     "output_type": "execute_result"
    }
   ],
   "source": [
    "centros"
   ]
  },
  {
   "cell_type": "code",
   "execution_count": 25,
   "metadata": {},
   "outputs": [
    {
     "data": {
      "image/png": "[encoded data removed]",
      "text/plain": [
       "<Figure size 720x576 with 1 Axes>"
      ]
     },
     "metadata": {
      "needs_background": "light"
     },
     "output_type": "display_data"
    }
   ],
   "source": [
    "mostrar(X_norm,centroids=centros,i=0,j=3)"
   ]
  },
  {
   "cell_type": "markdown",
   "metadata": {},
   "source": [
    "Paso 1: Calculas las distancias a los centroies"
   ]
  },
  {
   "cell_type": "code",
   "execution_count": 26,
   "metadata": {},
   "outputs": [],
   "source": [
    "distancias = np.zeros((m,K))"
   ]
  },
  {
   "cell_type": "code",
   "execution_count": 28,
   "metadata": {},
   "outputs": [],
   "source": [
    "for i in range(K):\n",
    "    distancias [:, i] = np.sum(np.square(X_norm - centros.iloc[i]),axis=1)"
   ]
  },
  {
   "cell_type": "code",
   "execution_count": 29,
   "metadata": {},
   "outputs": [
    {
     "data": {
      "text/plain": [
       "array([[0.48549406, 0.71549911, 1.64432963],\n",
       "       [0.35335671, 0.75002843, 1.69313365],\n",
       "       [0.43707463, 0.81056495, 1.75225752],\n",
       "       [0.39772106, 0.80368528, 1.73007044],\n",
       "       [0.53236906, 0.74848522, 1.67230031],\n",
       "       [0.56880611, 0.59752202, 1.4217942 ],\n",
       "       [0.47314838, 0.78301454, 1.67287902],\n",
       "       [0.44305285, 0.71012818, 1.63226951],\n",
       "       [0.39984591, 0.89373985, 1.83260124],\n",
       "       [0.39251273, 0.77417139, 1.7399084 ],\n",
       "       [0.544326  , 0.67251244, 1.59040994],\n",
       "       [0.4492186 , 0.73947533, 1.64991202],\n",
       "       [0.39290147, 0.82082318, 1.79710741],\n",
       "       [0.50843318, 1.01958848, 2.0140113 ],\n",
       "       [0.74204611, 0.7451328 , 1.68464112],\n",
       "       [0.89907137, 0.75642448, 1.58520161],\n",
       "       [0.6193663 , 0.66646773, 1.52521276],\n",
       "       [0.45945239, 0.67209633, 1.56620463],\n",
       "       [0.54334315, 0.57553128, 1.44262754],\n",
       "       [0.57673341, 0.70144763, 1.57652105],\n",
       "       [0.40040334, 0.60273035, 1.51380809],\n",
       "       [0.50728896, 0.64241985, 1.48624328],\n",
       "       [0.63303369, 0.92309093, 1.87520603],\n",
       "       [0.31128297, 0.53097109, 1.33672476],\n",
       "       [0.41560757, 0.69207516, 1.57665721],\n",
       "       [0.31958897, 0.69317903, 1.62059103],\n",
       "       [0.38208897, 0.6098457 , 1.45392437],\n",
       "       [0.46716551, 0.67868528, 1.60044081],\n",
       "       [0.44363449, 0.68752843, 1.62137439],\n",
       "       [0.39829267, 0.75799385, 1.67383178],\n",
       "       [0.36067693, 0.734267  , 1.65512036],\n",
       "       [0.37592322, 0.55272078, 1.4115905 ],\n",
       "       [0.78834606, 0.85056028, 1.7862047 ],\n",
       "       [0.82557894, 0.80558398, 1.7162818 ],\n",
       "       [0.36299884, 0.72729639, 1.65831118],\n",
       "       [0.42105845, 0.75747848, 1.71241889],\n",
       "       [0.48665025, 0.66569612, 1.6093177 ],\n",
       "       [0.5703706 , 0.81773676, 1.77473087],\n",
       "       [0.432445  , 0.90315754, 1.84716492],\n",
       "       [0.43610841, 0.68929485, 1.61297939],\n",
       "       [0.4798987 , 0.71102791, 1.61221122],\n",
       "       [0.32943574, 0.96334273, 1.89847665],\n",
       "       [0.48105611, 0.8962131 , 1.83327603],\n",
       "       [0.38382508, 0.54908181, 1.32024381],\n",
       "       [0.50820016, 0.59716775, 1.4030461 ],\n",
       "       [0.33734591, 0.7305454 , 1.63738519],\n",
       "       [0.5904223 , 0.72790125, 1.62907869],\n",
       "       [0.43669005, 0.81947287, 1.75100402],\n",
       "       [0.54664081, 0.68871615, 1.60507044],\n",
       "       [0.42299406, 0.72244355, 1.65667531],\n",
       "       [0.34122738, 0.03066298, 0.29816346],\n",
       "       [0.23539941, 0.        , 0.24075543],\n",
       "       [0.32107421, 0.02562261, 0.24309346],\n",
       "       [0.01994658, 0.21725129, 0.58790334],\n",
       "       [0.17161022, 0.02883666, 0.27640597],\n",
       "       [0.06487472, 0.07253086, 0.38581715],\n",
       "       [0.28123509, 0.00539292, 0.18917427],\n",
       "       [0.03237416, 0.36949242, 0.89190715],\n",
       "       [0.17566115, 0.02594314, 0.34102788],\n",
       "       [0.05149632, 0.16659186, 0.49262138],\n",
       "       [0.048217  , 0.47336472, 0.99397512],\n",
       "       [0.1254303 , 0.02882003, 0.29465849],\n",
       "       [0.02882003, 0.23654141, 0.7225484 ],\n",
       "       [0.12768571, 0.02545465, 0.28948291],\n",
       "       [0.06008666, 0.09522134, 0.48105611],\n",
       "       [0.23803475, 0.01070394, 0.30290165],\n",
       "       [0.1250599 , 0.05632716, 0.29168135],\n",
       "       [0.02716582, 0.11917971, 0.57612096],\n",
       "       [0.10654139, 0.17669753, 0.44908876],\n",
       "       [0.00539292, 0.17257179, 0.61588526],\n",
       "       [0.26932803, 0.03750059, 0.14051866],\n",
       "       [0.07376602, 0.04884851, 0.41139871],\n",
       "       [0.13588903, 0.09043743, 0.31948235],\n",
       "       [0.09122738, 0.05149632, 0.38844124],\n",
       "       [0.13186963, 0.02371854, 0.3615715 ],\n",
       "       [0.19771839, 0.01205425, 0.30618097],\n",
       "       [0.22071692, 0.04444503, 0.31412977],\n",
       "       [0.30722982, 0.02801518, 0.16780917],\n",
       "       [0.1244812 , 0.02797068, 0.27296993],\n",
       "       [0.01117996, 0.1724388 , 0.68301833],\n",
       "       [0.00202338, 0.2154653 , 0.669326  ],\n",
       "       [0.        , 0.23539941, 0.73260054],\n",
       "       [0.03066298, 0.09714741, 0.50188063],\n",
       "       [0.15372078, 0.06782642, 0.23333862],\n",
       "       [0.1250599 , 0.08410494, 0.31637271],\n",
       "       [0.27378676, 0.02102623, 0.21394215],\n",
       "       [0.26831071, 0.00982965, 0.2414505 ],\n",
       "       [0.08082024, 0.14862832, 0.4971532 ],\n",
       "       [0.08349299, 0.06786799, 0.40713947],\n",
       "       [0.01994658, 0.16169573, 0.52540334],\n",
       "       [0.0279653 , 0.14091227, 0.50139702],\n",
       "       [0.14132473, 0.01591227, 0.28508652],\n",
       "       [0.0234188 , 0.11308462, 0.51267185],\n",
       "       [0.02562261, 0.37662977, 0.90405993],\n",
       "       [0.03920345, 0.1023154 , 0.44338534],\n",
       "       [0.07971271, 0.06296355, 0.42988226],\n",
       "       [0.06929604, 0.06296355, 0.39863226],\n",
       "       [0.10717828, 0.02680496, 0.3615715 ],\n",
       "       [0.02989432, 0.30788506, 0.82104639],\n",
       "       [0.05108558, 0.07712724, 0.42488639],\n",
       "       [0.73260054, 0.24075543, 0.        ],\n",
       "       [0.2195001 , 0.10930019, 0.1675593 ],\n",
       "       [0.60914081, 0.16355875, 0.09307277],\n",
       "       [0.30760244, 0.06678173, 0.1174436 ],\n",
       "       [0.51634823, 0.14133476, 0.03548551],\n",
       "       [0.85444446, 0.30724329, 0.18414587],\n",
       "       [0.13296885, 0.265625  , 0.43809339],\n",
       "       [0.59871096, 0.1868267 , 0.19259318],\n",
       "       [0.35064607, 0.15618816, 0.20967533],\n",
       "       [1.02908852, 0.32431369, 0.07841227],\n",
       "       [0.41818838, 0.05451624, 0.07149448],\n",
       "       [0.29229209, 0.08956608, 0.13984802],\n",
       "       [0.49604738, 0.1105175 , 0.06987475],\n",
       "       [0.22698291, 0.17346271, 0.21101904],\n",
       "       [0.43130566, 0.20652241, 0.08769819],\n",
       "       [0.54055597, 0.12949663, 0.02352858],\n",
       "       [0.34384831, 0.05206843, 0.11096271],\n",
       "       [1.22228096, 0.41701118, 0.22433876],\n",
       "       [0.96797235, 0.46948204, 0.26651763],\n",
       "       [0.11818661, 0.19313863, 0.41935238],\n",
       "       [0.67065797, 0.17176866, 0.0390438 ],\n",
       "       [0.24352792, 0.12515965, 0.15937432],\n",
       "       [0.83339207, 0.3406223 , 0.25211654],\n",
       "       [0.21748625, 0.06439576, 0.18232957],\n",
       "       [0.57671506, 0.11254798, 0.04270892],\n",
       "       [0.59718387, 0.12964431, 0.14930556],\n",
       "       [0.21145766, 0.04907466, 0.17061125],\n",
       "       [0.24275631, 0.03411027, 0.13854099],\n",
       "       [0.40405305, 0.1250379 , 0.07654854],\n",
       "       [0.47468156, 0.10661254, 0.2198991 ],\n",
       "       [0.61242185, 0.20625813, 0.19955425],\n",
       "       [1.16775591, 0.38321972, 0.2889328 ],\n",
       "       [0.44398361, 0.14760735, 0.06439576],\n",
       "       [0.17686893, 0.03889124, 0.24028306],\n",
       "       [0.16620583, 0.10594068, 0.30282169],\n",
       "       [0.89482926, 0.32199888, 0.17409129],\n",
       "       [0.66697744, 0.18310118, 0.0080686 ],\n",
       "       [0.35175726, 0.04608849, 0.09996734],\n",
       "       [0.22766136, 0.03750059, 0.14900631],\n",
       "       [0.52939558, 0.10679541, 0.07284186],\n",
       "       [0.64016416, 0.18406568, 0.02562261],\n",
       "       [0.58601245, 0.1424792 , 0.06493584],\n",
       "       [0.2195001 , 0.10930019, 0.1675593 ],\n",
       "       [0.67395563, 0.17976245, 0.02825795],\n",
       "       [0.75727062, 0.22365909, 0.01493114],\n",
       "       [0.53165049, 0.13907641, 0.05330064],\n",
       "       [0.24029309, 0.12080067, 0.20233849],\n",
       "       [0.3779082 , 0.06519524, 0.08049972],\n",
       "       [0.58784465, 0.14441115, 0.01979402],\n",
       "       [0.24226245, 0.05220142, 0.1363093 ]])"
      ]
     },
     "execution_count": 29,
     "metadata": {},
     "output_type": "execute_result"
    }
   ],
   "source": [
    "distancias"
   ]
  },
  {
   "cell_type": "code",
   "execution_count": 30,
   "metadata": {},
   "outputs": [],
   "source": [
    "c=np.argmin(distancias,axis=1)"
   ]
  },
  {
   "cell_type": "code",
   "execution_count": 31,
   "metadata": {},
   "outputs": [
    {
     "data": {
      "text/plain": [
       "array([0, 0, 0, 0, 0, 0, 0, 0, 0, 0, 0, 0, 0, 0, 0, 1, 0, 0, 0, 0, 0, 0,\n",
       "       0, 0, 0, 0, 0, 0, 0, 0, 0, 0, 0, 1, 0, 0, 0, 0, 0, 0, 0, 0, 0, 0,\n",
       "       0, 0, 0, 0, 0, 0, 1, 1, 1, 0, 1, 0, 1, 0, 1, 0, 0, 1, 0, 1, 0, 1,\n",
       "       1, 0, 0, 0, 1, 1, 1, 1, 1, 1, 1, 1, 1, 0, 0, 0, 0, 1, 1, 1, 1, 0,\n",
       "       1, 0, 0, 1, 0, 0, 0, 1, 1, 1, 0, 0, 2, 1, 2, 1, 2, 2, 0, 1, 1, 2,\n",
       "       1, 1, 2, 1, 2, 2, 1, 2, 2, 0, 2, 1, 2, 1, 2, 1, 1, 1, 2, 1, 2, 2,\n",
       "       2, 1, 1, 2, 2, 1, 1, 2, 2, 2, 1, 2, 2, 2, 1, 1, 2, 1])"
      ]
     },
     "execution_count": 31,
     "metadata": {},
     "output_type": "execute_result"
    }
   ],
   "source": [
    "c"
   ]
  },
  {
   "cell_type": "code",
   "execution_count": 32,
   "metadata": {},
   "outputs": [
    {
     "data": {
      "image/png": "[encoded data removed]",
      "text/plain": [
       "<Figure size 720x576 with 1 Axes>"
      ]
     },
     "metadata": {
      "needs_background": "light"
     },
     "output_type": "display_data"
    }
   ],
   "source": [
    "mostrar(X_norm, c=c, centroids = centros, i=0,j=3)"
   ]
  },
  {
   "cell_type": "code",
   "execution_count": 41,
   "metadata": {},
   "outputs": [
    {
     "ename": "TypeError",
     "evalue": "'DataFrame' object is not callable",
     "output_type": "error",
     "traceback": [
      "\u001b[0;31m---------------------------------------------------------------------------\u001b[0m",
      "\u001b[0;31mTypeError\u001b[0m                                 Traceback (most recent call last)",
      "\u001b[0;32m/tmp/ipykernel_26562/3037927887.py\u001b[0m in \u001b[0;36m<module>\u001b[0;34m\u001b[0m\n\u001b[1;32m      2\u001b[0m \u001b[0;34m\u001b[0m\u001b[0m\n\u001b[1;32m      3\u001b[0m \u001b[0;32mfor\u001b[0m \u001b[0mi\u001b[0m \u001b[0;32min\u001b[0m \u001b[0mrange\u001b[0m\u001b[0;34m(\u001b[0m\u001b[0mK\u001b[0m\u001b[0;34m)\u001b[0m\u001b[0;34m:\u001b[0m\u001b[0;34m\u001b[0m\u001b[0;34m\u001b[0m\u001b[0m\n\u001b[0;32m----> 4\u001b[0;31m   \u001b[0mpd\u001b[0m\u001b[0;34m.\u001b[0m\u001b[0mconcat\u001b[0m\u001b[0;34m(\u001b[0m\u001b[0mX_norm\u001b[0m\u001b[0;34m,\u001b[0m\u001b[0mnew_centroids\u001b[0m\u001b[0;34m(\u001b[0m\u001b[0mnew_centroids\u001b[0m\u001b[0;34m.\u001b[0m\u001b[0mcolumns\u001b[0m\u001b[0;34m)\u001b[0m\u001b[0;34m,\u001b[0m\u001b[0mignore_index\u001b[0m\u001b[0;34m=\u001b[0m\u001b[0;32mTrue\u001b[0m\u001b[0;34m)\u001b[0m\u001b[0;34m.\u001b[0m\u001b[0mmean\u001b[0m\u001b[0;34m(\u001b[0m\u001b[0;34m)\u001b[0m\u001b[0;34m\u001b[0m\u001b[0;34m\u001b[0m\u001b[0m\n\u001b[0m",
      "\u001b[0;31mTypeError\u001b[0m: 'DataFrame' object is not callable"
     ]
    }
   ],
   "source": [
    "new_centroids = pd.DataFrame(columns=centros.columns)\n",
    "\n",
    "for i in range(K):\n",
    "  pd.concat(X_norm,new_centroids(new_centroids.columns),ignore_index=True).mean()"
   ]
  },
  {
   "cell_type": "code",
   "execution_count": 42,
   "metadata": {},
   "outputs": [],
   "source": [
    "def asigna(X, centroides):\n",
    "    distancias = np.zeros((X.shape[0], centroides.shape[0]))\n",
    "    for i in range(centroides.shape[0]):\n",
    "        distancias[:, i] =  np.sqrt(np.sum(np.square(X - centroides.iloc[i]), axis=1))\n",
    "    c = np.argmin(distancias, axis=1)\n",
    "    return c\n",
    "\n",
    "def actualiza(X, centroides,c, k):\n",
    "    new_centroides = pd.DataFrame(columns=centroides.columns)\n",
    "    for i in range(k):\n",
    "        new_centroides = new_centroides.append(X_norm.loc[(c == i),:].mean(),\n",
    "                                               ignore_index=True)\n",
    "\n",
    "    return new_centroides"
   ]
  },
  {
   "cell_type": "code",
   "execution_count": null,
   "metadata": {},
   "outputs": [],
   "source": [
    "def cambio(centros,new_centroids):\n",
    "    temp_dist = 0\n",
    "    for i in range(centros.shape[0]):\n",
    "        temp_dist += np.sum((new_centroids.iloc[i]-centros.iloc[i]))\n",
    "    return temp_dist\n",
    "\n",
    "def kmeans(X,k,umbral=0.01):\n",
    "    # Step 0: Inicialización\n",
    "    m = X.shape[0]\n",
    "    n = X.shape[1]\n",
    "    centros = X.iloc[np.random.permutation(m)[:k],:]\n",
    "\n",
    "    # Bucle\n",
    "    c = asigna(X, centros)\n",
    "\n",
    "    new_centros = actualiza(X,centros,c,k)\n",
    "    while True:\n",
    "        if cambio(centros,new_centros) < umbral:\n",
    "            break\n",
    "        else:\n",
    "            centros=new_centros\n",
    "    \n",
    "    return centros, c"
   ]
  }
 ],
 "metadata": {
  "kernelspec": {
   "display_name": "Python 3.10.6 64-bit",
   "language": "python",
   "name": "python3"
  },
  "language_info": {
   "codemirror_mode": {
    "name": "ipython",
    "version": 3
   },
   "file_extension": ".py",
   "mimetype": "text/x-python",
   "name": "python",
   "nbconvert_exporter": "python",
   "pygments_lexer": "ipython3",
   "version": "3.10.6"
  },
  "orig_nbformat": 4,
  "vscode": {
   "interpreter": {
    "hash": "916dbcbb3f70747c44a77c7bcd40155683ae19c65e1c03b4aa3499c5328201f1"
   }
  }
 },
 "nbformat": 4,
 "nbformat_minor": 2
}
